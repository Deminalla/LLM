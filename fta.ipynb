{
  "nbformat": 4,
  "nbformat_minor": 0,
  "metadata": {
    "colab": {
      "provenance": [],
      "gpuType": "T4",
      "authorship_tag": "ABX9TyNg6JoIFJoa+IjqlYeoFOXu"
    },
    "kernelspec": {
      "name": "python3",
      "display_name": "Python 3"
    },
    "language_info": {
      "name": "python"
    },
    "accelerator": "GPU",
    "widgets": {
      "application/vnd.jupyter.widget-state+json": {
        "295ef7b1b4e34d48819aa58efbe52934": {
          "model_module": "@jupyter-widgets/controls",
          "model_name": "HBoxModel",
          "model_module_version": "1.5.0",
          "state": {
            "_dom_classes": [],
            "_model_module": "@jupyter-widgets/controls",
            "_model_module_version": "1.5.0",
            "_model_name": "HBoxModel",
            "_view_count": null,
            "_view_module": "@jupyter-widgets/controls",
            "_view_module_version": "1.5.0",
            "_view_name": "HBoxView",
            "box_style": "",
            "children": [
              "IPY_MODEL_8120a6bbc4b54fb397890c7e8f1df227",
              "IPY_MODEL_4b461621733845169fe90eedaa467ffe",
              "IPY_MODEL_9e1cb061e4e049d6aaec5383543dc4ad"
            ],
            "layout": "IPY_MODEL_e396d76576834a66b5f888a1f3cb021e"
          }
        },
        "8120a6bbc4b54fb397890c7e8f1df227": {
          "model_module": "@jupyter-widgets/controls",
          "model_name": "HTMLModel",
          "model_module_version": "1.5.0",
          "state": {
            "_dom_classes": [],
            "_model_module": "@jupyter-widgets/controls",
            "_model_module_version": "1.5.0",
            "_model_name": "HTMLModel",
            "_view_count": null,
            "_view_module": "@jupyter-widgets/controls",
            "_view_module_version": "1.5.0",
            "_view_name": "HTMLView",
            "description": "",
            "description_tooltip": null,
            "layout": "IPY_MODEL_53c834d74dee495ca8bf03726191135a",
            "placeholder": "​",
            "style": "IPY_MODEL_f83f21c843fc41a0ab15bc71dda7fa22",
            "value": "tokenizer_config.json: 100%"
          }
        },
        "4b461621733845169fe90eedaa467ffe": {
          "model_module": "@jupyter-widgets/controls",
          "model_name": "FloatProgressModel",
          "model_module_version": "1.5.0",
          "state": {
            "_dom_classes": [],
            "_model_module": "@jupyter-widgets/controls",
            "_model_module_version": "1.5.0",
            "_model_name": "FloatProgressModel",
            "_view_count": null,
            "_view_module": "@jupyter-widgets/controls",
            "_view_module_version": "1.5.0",
            "_view_name": "ProgressView",
            "bar_style": "success",
            "description": "",
            "description_tooltip": null,
            "layout": "IPY_MODEL_1487195d4de54a6bbb42697bdc987265",
            "max": 50941,
            "min": 0,
            "orientation": "horizontal",
            "style": "IPY_MODEL_2aaf6571630f42c68c0816f77eb14e09",
            "value": 50941
          }
        },
        "9e1cb061e4e049d6aaec5383543dc4ad": {
          "model_module": "@jupyter-widgets/controls",
          "model_name": "HTMLModel",
          "model_module_version": "1.5.0",
          "state": {
            "_dom_classes": [],
            "_model_module": "@jupyter-widgets/controls",
            "_model_module_version": "1.5.0",
            "_model_name": "HTMLModel",
            "_view_count": null,
            "_view_module": "@jupyter-widgets/controls",
            "_view_module_version": "1.5.0",
            "_view_name": "HTMLView",
            "description": "",
            "description_tooltip": null,
            "layout": "IPY_MODEL_399f62430a114776b08cb7e0bac4a646",
            "placeholder": "​",
            "style": "IPY_MODEL_cc86d82366404024a72c616f33006f1b",
            "value": " 50.9k/50.9k [00:00&lt;00:00, 846kB/s]"
          }
        },
        "e396d76576834a66b5f888a1f3cb021e": {
          "model_module": "@jupyter-widgets/base",
          "model_name": "LayoutModel",
          "model_module_version": "1.2.0",
          "state": {
            "_model_module": "@jupyter-widgets/base",
            "_model_module_version": "1.2.0",
            "_model_name": "LayoutModel",
            "_view_count": null,
            "_view_module": "@jupyter-widgets/base",
            "_view_module_version": "1.2.0",
            "_view_name": "LayoutView",
            "align_content": null,
            "align_items": null,
            "align_self": null,
            "border": null,
            "bottom": null,
            "display": null,
            "flex": null,
            "flex_flow": null,
            "grid_area": null,
            "grid_auto_columns": null,
            "grid_auto_flow": null,
            "grid_auto_rows": null,
            "grid_column": null,
            "grid_gap": null,
            "grid_row": null,
            "grid_template_areas": null,
            "grid_template_columns": null,
            "grid_template_rows": null,
            "height": null,
            "justify_content": null,
            "justify_items": null,
            "left": null,
            "margin": null,
            "max_height": null,
            "max_width": null,
            "min_height": null,
            "min_width": null,
            "object_fit": null,
            "object_position": null,
            "order": null,
            "overflow": null,
            "overflow_x": null,
            "overflow_y": null,
            "padding": null,
            "right": null,
            "top": null,
            "visibility": null,
            "width": null
          }
        },
        "53c834d74dee495ca8bf03726191135a": {
          "model_module": "@jupyter-widgets/base",
          "model_name": "LayoutModel",
          "model_module_version": "1.2.0",
          "state": {
            "_model_module": "@jupyter-widgets/base",
            "_model_module_version": "1.2.0",
            "_model_name": "LayoutModel",
            "_view_count": null,
            "_view_module": "@jupyter-widgets/base",
            "_view_module_version": "1.2.0",
            "_view_name": "LayoutView",
            "align_content": null,
            "align_items": null,
            "align_self": null,
            "border": null,
            "bottom": null,
            "display": null,
            "flex": null,
            "flex_flow": null,
            "grid_area": null,
            "grid_auto_columns": null,
            "grid_auto_flow": null,
            "grid_auto_rows": null,
            "grid_column": null,
            "grid_gap": null,
            "grid_row": null,
            "grid_template_areas": null,
            "grid_template_columns": null,
            "grid_template_rows": null,
            "height": null,
            "justify_content": null,
            "justify_items": null,
            "left": null,
            "margin": null,
            "max_height": null,
            "max_width": null,
            "min_height": null,
            "min_width": null,
            "object_fit": null,
            "object_position": null,
            "order": null,
            "overflow": null,
            "overflow_x": null,
            "overflow_y": null,
            "padding": null,
            "right": null,
            "top": null,
            "visibility": null,
            "width": null
          }
        },
        "f83f21c843fc41a0ab15bc71dda7fa22": {
          "model_module": "@jupyter-widgets/controls",
          "model_name": "DescriptionStyleModel",
          "model_module_version": "1.5.0",
          "state": {
            "_model_module": "@jupyter-widgets/controls",
            "_model_module_version": "1.5.0",
            "_model_name": "DescriptionStyleModel",
            "_view_count": null,
            "_view_module": "@jupyter-widgets/base",
            "_view_module_version": "1.2.0",
            "_view_name": "StyleView",
            "description_width": ""
          }
        },
        "1487195d4de54a6bbb42697bdc987265": {
          "model_module": "@jupyter-widgets/base",
          "model_name": "LayoutModel",
          "model_module_version": "1.2.0",
          "state": {
            "_model_module": "@jupyter-widgets/base",
            "_model_module_version": "1.2.0",
            "_model_name": "LayoutModel",
            "_view_count": null,
            "_view_module": "@jupyter-widgets/base",
            "_view_module_version": "1.2.0",
            "_view_name": "LayoutView",
            "align_content": null,
            "align_items": null,
            "align_self": null,
            "border": null,
            "bottom": null,
            "display": null,
            "flex": null,
            "flex_flow": null,
            "grid_area": null,
            "grid_auto_columns": null,
            "grid_auto_flow": null,
            "grid_auto_rows": null,
            "grid_column": null,
            "grid_gap": null,
            "grid_row": null,
            "grid_template_areas": null,
            "grid_template_columns": null,
            "grid_template_rows": null,
            "height": null,
            "justify_content": null,
            "justify_items": null,
            "left": null,
            "margin": null,
            "max_height": null,
            "max_width": null,
            "min_height": null,
            "min_width": null,
            "object_fit": null,
            "object_position": null,
            "order": null,
            "overflow": null,
            "overflow_x": null,
            "overflow_y": null,
            "padding": null,
            "right": null,
            "top": null,
            "visibility": null,
            "width": null
          }
        },
        "2aaf6571630f42c68c0816f77eb14e09": {
          "model_module": "@jupyter-widgets/controls",
          "model_name": "ProgressStyleModel",
          "model_module_version": "1.5.0",
          "state": {
            "_model_module": "@jupyter-widgets/controls",
            "_model_module_version": "1.5.0",
            "_model_name": "ProgressStyleModel",
            "_view_count": null,
            "_view_module": "@jupyter-widgets/base",
            "_view_module_version": "1.2.0",
            "_view_name": "StyleView",
            "bar_color": null,
            "description_width": ""
          }
        },
        "399f62430a114776b08cb7e0bac4a646": {
          "model_module": "@jupyter-widgets/base",
          "model_name": "LayoutModel",
          "model_module_version": "1.2.0",
          "state": {
            "_model_module": "@jupyter-widgets/base",
            "_model_module_version": "1.2.0",
            "_model_name": "LayoutModel",
            "_view_count": null,
            "_view_module": "@jupyter-widgets/base",
            "_view_module_version": "1.2.0",
            "_view_name": "LayoutView",
            "align_content": null,
            "align_items": null,
            "align_self": null,
            "border": null,
            "bottom": null,
            "display": null,
            "flex": null,
            "flex_flow": null,
            "grid_area": null,
            "grid_auto_columns": null,
            "grid_auto_flow": null,
            "grid_auto_rows": null,
            "grid_column": null,
            "grid_gap": null,
            "grid_row": null,
            "grid_template_areas": null,
            "grid_template_columns": null,
            "grid_template_rows": null,
            "height": null,
            "justify_content": null,
            "justify_items": null,
            "left": null,
            "margin": null,
            "max_height": null,
            "max_width": null,
            "min_height": null,
            "min_width": null,
            "object_fit": null,
            "object_position": null,
            "order": null,
            "overflow": null,
            "overflow_x": null,
            "overflow_y": null,
            "padding": null,
            "right": null,
            "top": null,
            "visibility": null,
            "width": null
          }
        },
        "cc86d82366404024a72c616f33006f1b": {
          "model_module": "@jupyter-widgets/controls",
          "model_name": "DescriptionStyleModel",
          "model_module_version": "1.5.0",
          "state": {
            "_model_module": "@jupyter-widgets/controls",
            "_model_module_version": "1.5.0",
            "_model_name": "DescriptionStyleModel",
            "_view_count": null,
            "_view_module": "@jupyter-widgets/base",
            "_view_module_version": "1.2.0",
            "_view_name": "StyleView",
            "description_width": ""
          }
        },
        "156d78a7f1314b9b8f5b80ab79e85abc": {
          "model_module": "@jupyter-widgets/controls",
          "model_name": "HBoxModel",
          "model_module_version": "1.5.0",
          "state": {
            "_dom_classes": [],
            "_model_module": "@jupyter-widgets/controls",
            "_model_module_version": "1.5.0",
            "_model_name": "HBoxModel",
            "_view_count": null,
            "_view_module": "@jupyter-widgets/controls",
            "_view_module_version": "1.5.0",
            "_view_name": "HBoxView",
            "box_style": "",
            "children": [
              "IPY_MODEL_e1efaf07e67c46c1b6091d1af86d6674",
              "IPY_MODEL_2bd75d35fc20464ab6ec3f68b9d47c39",
              "IPY_MODEL_b33c04bda9c04942964bbdf648d1072d"
            ],
            "layout": "IPY_MODEL_b3561988e90f4922b9393bd6d3d2ee26"
          }
        },
        "e1efaf07e67c46c1b6091d1af86d6674": {
          "model_module": "@jupyter-widgets/controls",
          "model_name": "HTMLModel",
          "model_module_version": "1.5.0",
          "state": {
            "_dom_classes": [],
            "_model_module": "@jupyter-widgets/controls",
            "_model_module_version": "1.5.0",
            "_model_name": "HTMLModel",
            "_view_count": null,
            "_view_module": "@jupyter-widgets/controls",
            "_view_module_version": "1.5.0",
            "_view_name": "HTMLView",
            "description": "",
            "description_tooltip": null,
            "layout": "IPY_MODEL_142efa78a5e04bf4b6ec226d7e7b4e81",
            "placeholder": "​",
            "style": "IPY_MODEL_f1d512a1fb064166b80aa3b516e379fd",
            "value": "tokenizer.json: 100%"
          }
        },
        "2bd75d35fc20464ab6ec3f68b9d47c39": {
          "model_module": "@jupyter-widgets/controls",
          "model_name": "FloatProgressModel",
          "model_module_version": "1.5.0",
          "state": {
            "_dom_classes": [],
            "_model_module": "@jupyter-widgets/controls",
            "_model_module_version": "1.5.0",
            "_model_name": "FloatProgressModel",
            "_view_count": null,
            "_view_module": "@jupyter-widgets/controls",
            "_view_module_version": "1.5.0",
            "_view_name": "ProgressView",
            "bar_style": "success",
            "description": "",
            "description_tooltip": null,
            "layout": "IPY_MODEL_5772f713f6cf4ba6a742cc5cef1b4ef8",
            "max": 9085698,
            "min": 0,
            "orientation": "horizontal",
            "style": "IPY_MODEL_82d0c8d77ad446758b91f3be3df7c977",
            "value": 9085698
          }
        },
        "b33c04bda9c04942964bbdf648d1072d": {
          "model_module": "@jupyter-widgets/controls",
          "model_name": "HTMLModel",
          "model_module_version": "1.5.0",
          "state": {
            "_dom_classes": [],
            "_model_module": "@jupyter-widgets/controls",
            "_model_module_version": "1.5.0",
            "_model_name": "HTMLModel",
            "_view_count": null,
            "_view_module": "@jupyter-widgets/controls",
            "_view_module_version": "1.5.0",
            "_view_name": "HTMLView",
            "description": "",
            "description_tooltip": null,
            "layout": "IPY_MODEL_f57e9cdd27bc4372977e151cf6619f92",
            "placeholder": "​",
            "style": "IPY_MODEL_d8550d5df2b34ee899be085e498bc1d4",
            "value": " 9.09M/9.09M [00:00&lt;00:00, 31.6MB/s]"
          }
        },
        "b3561988e90f4922b9393bd6d3d2ee26": {
          "model_module": "@jupyter-widgets/base",
          "model_name": "LayoutModel",
          "model_module_version": "1.2.0",
          "state": {
            "_model_module": "@jupyter-widgets/base",
            "_model_module_version": "1.2.0",
            "_model_name": "LayoutModel",
            "_view_count": null,
            "_view_module": "@jupyter-widgets/base",
            "_view_module_version": "1.2.0",
            "_view_name": "LayoutView",
            "align_content": null,
            "align_items": null,
            "align_self": null,
            "border": null,
            "bottom": null,
            "display": null,
            "flex": null,
            "flex_flow": null,
            "grid_area": null,
            "grid_auto_columns": null,
            "grid_auto_flow": null,
            "grid_auto_rows": null,
            "grid_column": null,
            "grid_gap": null,
            "grid_row": null,
            "grid_template_areas": null,
            "grid_template_columns": null,
            "grid_template_rows": null,
            "height": null,
            "justify_content": null,
            "justify_items": null,
            "left": null,
            "margin": null,
            "max_height": null,
            "max_width": null,
            "min_height": null,
            "min_width": null,
            "object_fit": null,
            "object_position": null,
            "order": null,
            "overflow": null,
            "overflow_x": null,
            "overflow_y": null,
            "padding": null,
            "right": null,
            "top": null,
            "visibility": null,
            "width": null
          }
        },
        "142efa78a5e04bf4b6ec226d7e7b4e81": {
          "model_module": "@jupyter-widgets/base",
          "model_name": "LayoutModel",
          "model_module_version": "1.2.0",
          "state": {
            "_model_module": "@jupyter-widgets/base",
            "_model_module_version": "1.2.0",
            "_model_name": "LayoutModel",
            "_view_count": null,
            "_view_module": "@jupyter-widgets/base",
            "_view_module_version": "1.2.0",
            "_view_name": "LayoutView",
            "align_content": null,
            "align_items": null,
            "align_self": null,
            "border": null,
            "bottom": null,
            "display": null,
            "flex": null,
            "flex_flow": null,
            "grid_area": null,
            "grid_auto_columns": null,
            "grid_auto_flow": null,
            "grid_auto_rows": null,
            "grid_column": null,
            "grid_gap": null,
            "grid_row": null,
            "grid_template_areas": null,
            "grid_template_columns": null,
            "grid_template_rows": null,
            "height": null,
            "justify_content": null,
            "justify_items": null,
            "left": null,
            "margin": null,
            "max_height": null,
            "max_width": null,
            "min_height": null,
            "min_width": null,
            "object_fit": null,
            "object_position": null,
            "order": null,
            "overflow": null,
            "overflow_x": null,
            "overflow_y": null,
            "padding": null,
            "right": null,
            "top": null,
            "visibility": null,
            "width": null
          }
        },
        "f1d512a1fb064166b80aa3b516e379fd": {
          "model_module": "@jupyter-widgets/controls",
          "model_name": "DescriptionStyleModel",
          "model_module_version": "1.5.0",
          "state": {
            "_model_module": "@jupyter-widgets/controls",
            "_model_module_version": "1.5.0",
            "_model_name": "DescriptionStyleModel",
            "_view_count": null,
            "_view_module": "@jupyter-widgets/base",
            "_view_module_version": "1.2.0",
            "_view_name": "StyleView",
            "description_width": ""
          }
        },
        "5772f713f6cf4ba6a742cc5cef1b4ef8": {
          "model_module": "@jupyter-widgets/base",
          "model_name": "LayoutModel",
          "model_module_version": "1.2.0",
          "state": {
            "_model_module": "@jupyter-widgets/base",
            "_model_module_version": "1.2.0",
            "_model_name": "LayoutModel",
            "_view_count": null,
            "_view_module": "@jupyter-widgets/base",
            "_view_module_version": "1.2.0",
            "_view_name": "LayoutView",
            "align_content": null,
            "align_items": null,
            "align_self": null,
            "border": null,
            "bottom": null,
            "display": null,
            "flex": null,
            "flex_flow": null,
            "grid_area": null,
            "grid_auto_columns": null,
            "grid_auto_flow": null,
            "grid_auto_rows": null,
            "grid_column": null,
            "grid_gap": null,
            "grid_row": null,
            "grid_template_areas": null,
            "grid_template_columns": null,
            "grid_template_rows": null,
            "height": null,
            "justify_content": null,
            "justify_items": null,
            "left": null,
            "margin": null,
            "max_height": null,
            "max_width": null,
            "min_height": null,
            "min_width": null,
            "object_fit": null,
            "object_position": null,
            "order": null,
            "overflow": null,
            "overflow_x": null,
            "overflow_y": null,
            "padding": null,
            "right": null,
            "top": null,
            "visibility": null,
            "width": null
          }
        },
        "82d0c8d77ad446758b91f3be3df7c977": {
          "model_module": "@jupyter-widgets/controls",
          "model_name": "ProgressStyleModel",
          "model_module_version": "1.5.0",
          "state": {
            "_model_module": "@jupyter-widgets/controls",
            "_model_module_version": "1.5.0",
            "_model_name": "ProgressStyleModel",
            "_view_count": null,
            "_view_module": "@jupyter-widgets/base",
            "_view_module_version": "1.2.0",
            "_view_name": "StyleView",
            "bar_color": null,
            "description_width": ""
          }
        },
        "f57e9cdd27bc4372977e151cf6619f92": {
          "model_module": "@jupyter-widgets/base",
          "model_name": "LayoutModel",
          "model_module_version": "1.2.0",
          "state": {
            "_model_module": "@jupyter-widgets/base",
            "_model_module_version": "1.2.0",
            "_model_name": "LayoutModel",
            "_view_count": null,
            "_view_module": "@jupyter-widgets/base",
            "_view_module_version": "1.2.0",
            "_view_name": "LayoutView",
            "align_content": null,
            "align_items": null,
            "align_self": null,
            "border": null,
            "bottom": null,
            "display": null,
            "flex": null,
            "flex_flow": null,
            "grid_area": null,
            "grid_auto_columns": null,
            "grid_auto_flow": null,
            "grid_auto_rows": null,
            "grid_column": null,
            "grid_gap": null,
            "grid_row": null,
            "grid_template_areas": null,
            "grid_template_columns": null,
            "grid_template_rows": null,
            "height": null,
            "justify_content": null,
            "justify_items": null,
            "left": null,
            "margin": null,
            "max_height": null,
            "max_width": null,
            "min_height": null,
            "min_width": null,
            "object_fit": null,
            "object_position": null,
            "order": null,
            "overflow": null,
            "overflow_x": null,
            "overflow_y": null,
            "padding": null,
            "right": null,
            "top": null,
            "visibility": null,
            "width": null
          }
        },
        "d8550d5df2b34ee899be085e498bc1d4": {
          "model_module": "@jupyter-widgets/controls",
          "model_name": "DescriptionStyleModel",
          "model_module_version": "1.5.0",
          "state": {
            "_model_module": "@jupyter-widgets/controls",
            "_model_module_version": "1.5.0",
            "_model_name": "DescriptionStyleModel",
            "_view_count": null,
            "_view_module": "@jupyter-widgets/base",
            "_view_module_version": "1.2.0",
            "_view_name": "StyleView",
            "description_width": ""
          }
        },
        "25b17b2e3e584a2093d371c1e9a82a78": {
          "model_module": "@jupyter-widgets/controls",
          "model_name": "HBoxModel",
          "model_module_version": "1.5.0",
          "state": {
            "_dom_classes": [],
            "_model_module": "@jupyter-widgets/controls",
            "_model_module_version": "1.5.0",
            "_model_name": "HBoxModel",
            "_view_count": null,
            "_view_module": "@jupyter-widgets/controls",
            "_view_module_version": "1.5.0",
            "_view_name": "HBoxView",
            "box_style": "",
            "children": [
              "IPY_MODEL_d7b6d41806684ab0884c763dbcf3fad6",
              "IPY_MODEL_36f1a2b8819c444c9b530d7e39c5ab4f",
              "IPY_MODEL_a46df09038474b4cb7c5f6e7b79a826d"
            ],
            "layout": "IPY_MODEL_8e3ca9fa9d2f4e6caf0c9a6620dafa99"
          }
        },
        "d7b6d41806684ab0884c763dbcf3fad6": {
          "model_module": "@jupyter-widgets/controls",
          "model_name": "HTMLModel",
          "model_module_version": "1.5.0",
          "state": {
            "_dom_classes": [],
            "_model_module": "@jupyter-widgets/controls",
            "_model_module_version": "1.5.0",
            "_model_name": "HTMLModel",
            "_view_count": null,
            "_view_module": "@jupyter-widgets/controls",
            "_view_module_version": "1.5.0",
            "_view_name": "HTMLView",
            "description": "",
            "description_tooltip": null,
            "layout": "IPY_MODEL_03f20098e94a41a0a88b6730a9b9bab0",
            "placeholder": "​",
            "style": "IPY_MODEL_35dd02aa81a64a2b9b5948f26131b0de",
            "value": "special_tokens_map.json: 100%"
          }
        },
        "36f1a2b8819c444c9b530d7e39c5ab4f": {
          "model_module": "@jupyter-widgets/controls",
          "model_name": "FloatProgressModel",
          "model_module_version": "1.5.0",
          "state": {
            "_dom_classes": [],
            "_model_module": "@jupyter-widgets/controls",
            "_model_module_version": "1.5.0",
            "_model_name": "FloatProgressModel",
            "_view_count": null,
            "_view_module": "@jupyter-widgets/controls",
            "_view_module_version": "1.5.0",
            "_view_name": "ProgressView",
            "bar_style": "success",
            "description": "",
            "description_tooltip": null,
            "layout": "IPY_MODEL_c323eee404f54ef59fd980cb0b7b9b00",
            "max": 73,
            "min": 0,
            "orientation": "horizontal",
            "style": "IPY_MODEL_8a24c6f68a6a45c8a534b36e53e47386",
            "value": 73
          }
        },
        "a46df09038474b4cb7c5f6e7b79a826d": {
          "model_module": "@jupyter-widgets/controls",
          "model_name": "HTMLModel",
          "model_module_version": "1.5.0",
          "state": {
            "_dom_classes": [],
            "_model_module": "@jupyter-widgets/controls",
            "_model_module_version": "1.5.0",
            "_model_name": "HTMLModel",
            "_view_count": null,
            "_view_module": "@jupyter-widgets/controls",
            "_view_module_version": "1.5.0",
            "_view_name": "HTMLView",
            "description": "",
            "description_tooltip": null,
            "layout": "IPY_MODEL_30d6517989824e19a230376a428143bd",
            "placeholder": "​",
            "style": "IPY_MODEL_afa84a5635d54d28a1af9b5278fe18b5",
            "value": " 73.0/73.0 [00:00&lt;00:00, 2.74kB/s]"
          }
        },
        "8e3ca9fa9d2f4e6caf0c9a6620dafa99": {
          "model_module": "@jupyter-widgets/base",
          "model_name": "LayoutModel",
          "model_module_version": "1.2.0",
          "state": {
            "_model_module": "@jupyter-widgets/base",
            "_model_module_version": "1.2.0",
            "_model_name": "LayoutModel",
            "_view_count": null,
            "_view_module": "@jupyter-widgets/base",
            "_view_module_version": "1.2.0",
            "_view_name": "LayoutView",
            "align_content": null,
            "align_items": null,
            "align_self": null,
            "border": null,
            "bottom": null,
            "display": null,
            "flex": null,
            "flex_flow": null,
            "grid_area": null,
            "grid_auto_columns": null,
            "grid_auto_flow": null,
            "grid_auto_rows": null,
            "grid_column": null,
            "grid_gap": null,
            "grid_row": null,
            "grid_template_areas": null,
            "grid_template_columns": null,
            "grid_template_rows": null,
            "height": null,
            "justify_content": null,
            "justify_items": null,
            "left": null,
            "margin": null,
            "max_height": null,
            "max_width": null,
            "min_height": null,
            "min_width": null,
            "object_fit": null,
            "object_position": null,
            "order": null,
            "overflow": null,
            "overflow_x": null,
            "overflow_y": null,
            "padding": null,
            "right": null,
            "top": null,
            "visibility": null,
            "width": null
          }
        },
        "03f20098e94a41a0a88b6730a9b9bab0": {
          "model_module": "@jupyter-widgets/base",
          "model_name": "LayoutModel",
          "model_module_version": "1.2.0",
          "state": {
            "_model_module": "@jupyter-widgets/base",
            "_model_module_version": "1.2.0",
            "_model_name": "LayoutModel",
            "_view_count": null,
            "_view_module": "@jupyter-widgets/base",
            "_view_module_version": "1.2.0",
            "_view_name": "LayoutView",
            "align_content": null,
            "align_items": null,
            "align_self": null,
            "border": null,
            "bottom": null,
            "display": null,
            "flex": null,
            "flex_flow": null,
            "grid_area": null,
            "grid_auto_columns": null,
            "grid_auto_flow": null,
            "grid_auto_rows": null,
            "grid_column": null,
            "grid_gap": null,
            "grid_row": null,
            "grid_template_areas": null,
            "grid_template_columns": null,
            "grid_template_rows": null,
            "height": null,
            "justify_content": null,
            "justify_items": null,
            "left": null,
            "margin": null,
            "max_height": null,
            "max_width": null,
            "min_height": null,
            "min_width": null,
            "object_fit": null,
            "object_position": null,
            "order": null,
            "overflow": null,
            "overflow_x": null,
            "overflow_y": null,
            "padding": null,
            "right": null,
            "top": null,
            "visibility": null,
            "width": null
          }
        },
        "35dd02aa81a64a2b9b5948f26131b0de": {
          "model_module": "@jupyter-widgets/controls",
          "model_name": "DescriptionStyleModel",
          "model_module_version": "1.5.0",
          "state": {
            "_model_module": "@jupyter-widgets/controls",
            "_model_module_version": "1.5.0",
            "_model_name": "DescriptionStyleModel",
            "_view_count": null,
            "_view_module": "@jupyter-widgets/base",
            "_view_module_version": "1.2.0",
            "_view_name": "StyleView",
            "description_width": ""
          }
        },
        "c323eee404f54ef59fd980cb0b7b9b00": {
          "model_module": "@jupyter-widgets/base",
          "model_name": "LayoutModel",
          "model_module_version": "1.2.0",
          "state": {
            "_model_module": "@jupyter-widgets/base",
            "_model_module_version": "1.2.0",
            "_model_name": "LayoutModel",
            "_view_count": null,
            "_view_module": "@jupyter-widgets/base",
            "_view_module_version": "1.2.0",
            "_view_name": "LayoutView",
            "align_content": null,
            "align_items": null,
            "align_self": null,
            "border": null,
            "bottom": null,
            "display": null,
            "flex": null,
            "flex_flow": null,
            "grid_area": null,
            "grid_auto_columns": null,
            "grid_auto_flow": null,
            "grid_auto_rows": null,
            "grid_column": null,
            "grid_gap": null,
            "grid_row": null,
            "grid_template_areas": null,
            "grid_template_columns": null,
            "grid_template_rows": null,
            "height": null,
            "justify_content": null,
            "justify_items": null,
            "left": null,
            "margin": null,
            "max_height": null,
            "max_width": null,
            "min_height": null,
            "min_width": null,
            "object_fit": null,
            "object_position": null,
            "order": null,
            "overflow": null,
            "overflow_x": null,
            "overflow_y": null,
            "padding": null,
            "right": null,
            "top": null,
            "visibility": null,
            "width": null
          }
        },
        "8a24c6f68a6a45c8a534b36e53e47386": {
          "model_module": "@jupyter-widgets/controls",
          "model_name": "ProgressStyleModel",
          "model_module_version": "1.5.0",
          "state": {
            "_model_module": "@jupyter-widgets/controls",
            "_model_module_version": "1.5.0",
            "_model_name": "ProgressStyleModel",
            "_view_count": null,
            "_view_module": "@jupyter-widgets/base",
            "_view_module_version": "1.2.0",
            "_view_name": "StyleView",
            "bar_color": null,
            "description_width": ""
          }
        },
        "30d6517989824e19a230376a428143bd": {
          "model_module": "@jupyter-widgets/base",
          "model_name": "LayoutModel",
          "model_module_version": "1.2.0",
          "state": {
            "_model_module": "@jupyter-widgets/base",
            "_model_module_version": "1.2.0",
            "_model_name": "LayoutModel",
            "_view_count": null,
            "_view_module": "@jupyter-widgets/base",
            "_view_module_version": "1.2.0",
            "_view_name": "LayoutView",
            "align_content": null,
            "align_items": null,
            "align_self": null,
            "border": null,
            "bottom": null,
            "display": null,
            "flex": null,
            "flex_flow": null,
            "grid_area": null,
            "grid_auto_columns": null,
            "grid_auto_flow": null,
            "grid_auto_rows": null,
            "grid_column": null,
            "grid_gap": null,
            "grid_row": null,
            "grid_template_areas": null,
            "grid_template_columns": null,
            "grid_template_rows": null,
            "height": null,
            "justify_content": null,
            "justify_items": null,
            "left": null,
            "margin": null,
            "max_height": null,
            "max_width": null,
            "min_height": null,
            "min_width": null,
            "object_fit": null,
            "object_position": null,
            "order": null,
            "overflow": null,
            "overflow_x": null,
            "overflow_y": null,
            "padding": null,
            "right": null,
            "top": null,
            "visibility": null,
            "width": null
          }
        },
        "afa84a5635d54d28a1af9b5278fe18b5": {
          "model_module": "@jupyter-widgets/controls",
          "model_name": "DescriptionStyleModel",
          "model_module_version": "1.5.0",
          "state": {
            "_model_module": "@jupyter-widgets/controls",
            "_model_module_version": "1.5.0",
            "_model_name": "DescriptionStyleModel",
            "_view_count": null,
            "_view_module": "@jupyter-widgets/base",
            "_view_module_version": "1.2.0",
            "_view_name": "StyleView",
            "description_width": ""
          }
        },
        "df97fea1b9ca46e792fe87a811d78ddf": {
          "model_module": "@jupyter-widgets/controls",
          "model_name": "HBoxModel",
          "model_module_version": "1.5.0",
          "state": {
            "_dom_classes": [],
            "_model_module": "@jupyter-widgets/controls",
            "_model_module_version": "1.5.0",
            "_model_name": "HBoxModel",
            "_view_count": null,
            "_view_module": "@jupyter-widgets/controls",
            "_view_module_version": "1.5.0",
            "_view_name": "HBoxView",
            "box_style": "",
            "children": [
              "IPY_MODEL_4af56b4e36ea492199dea92aeeb5c12a",
              "IPY_MODEL_47b0dda9e22d4712af07308cf1a5453b",
              "IPY_MODEL_1147855512544b7c895dbe2578a654de"
            ],
            "layout": "IPY_MODEL_74b81188730943489d3dedc68c30938e"
          }
        },
        "4af56b4e36ea492199dea92aeeb5c12a": {
          "model_module": "@jupyter-widgets/controls",
          "model_name": "HTMLModel",
          "model_module_version": "1.5.0",
          "state": {
            "_dom_classes": [],
            "_model_module": "@jupyter-widgets/controls",
            "_model_module_version": "1.5.0",
            "_model_name": "HTMLModel",
            "_view_count": null,
            "_view_module": "@jupyter-widgets/controls",
            "_view_module_version": "1.5.0",
            "_view_name": "HTMLView",
            "description": "",
            "description_tooltip": null,
            "layout": "IPY_MODEL_b0826b2078a34149ab32a60751347c2d",
            "placeholder": "​",
            "style": "IPY_MODEL_4a2fff512f54443d8cd9b51d68fb266f",
            "value": "config.json: 100%"
          }
        },
        "47b0dda9e22d4712af07308cf1a5453b": {
          "model_module": "@jupyter-widgets/controls",
          "model_name": "FloatProgressModel",
          "model_module_version": "1.5.0",
          "state": {
            "_dom_classes": [],
            "_model_module": "@jupyter-widgets/controls",
            "_model_module_version": "1.5.0",
            "_model_name": "FloatProgressModel",
            "_view_count": null,
            "_view_module": "@jupyter-widgets/controls",
            "_view_module_version": "1.5.0",
            "_view_name": "ProgressView",
            "bar_style": "success",
            "description": "",
            "description_tooltip": null,
            "layout": "IPY_MODEL_829f77596b544afdb6ce3f540a7e80b4",
            "max": 654,
            "min": 0,
            "orientation": "horizontal",
            "style": "IPY_MODEL_d59ddef43d2c49fe8d775bf04a99f196",
            "value": 654
          }
        },
        "1147855512544b7c895dbe2578a654de": {
          "model_module": "@jupyter-widgets/controls",
          "model_name": "HTMLModel",
          "model_module_version": "1.5.0",
          "state": {
            "_dom_classes": [],
            "_model_module": "@jupyter-widgets/controls",
            "_model_module_version": "1.5.0",
            "_model_name": "HTMLModel",
            "_view_count": null,
            "_view_module": "@jupyter-widgets/controls",
            "_view_module_version": "1.5.0",
            "_view_name": "HTMLView",
            "description": "",
            "description_tooltip": null,
            "layout": "IPY_MODEL_60d603fcbc8545cdb840ea4cbb4f24ed",
            "placeholder": "​",
            "style": "IPY_MODEL_0513fc418c964936b5b0971fa73aa2a6",
            "value": " 654/654 [00:00&lt;00:00, 20.2kB/s]"
          }
        },
        "74b81188730943489d3dedc68c30938e": {
          "model_module": "@jupyter-widgets/base",
          "model_name": "LayoutModel",
          "model_module_version": "1.2.0",
          "state": {
            "_model_module": "@jupyter-widgets/base",
            "_model_module_version": "1.2.0",
            "_model_name": "LayoutModel",
            "_view_count": null,
            "_view_module": "@jupyter-widgets/base",
            "_view_module_version": "1.2.0",
            "_view_name": "LayoutView",
            "align_content": null,
            "align_items": null,
            "align_self": null,
            "border": null,
            "bottom": null,
            "display": null,
            "flex": null,
            "flex_flow": null,
            "grid_area": null,
            "grid_auto_columns": null,
            "grid_auto_flow": null,
            "grid_auto_rows": null,
            "grid_column": null,
            "grid_gap": null,
            "grid_row": null,
            "grid_template_areas": null,
            "grid_template_columns": null,
            "grid_template_rows": null,
            "height": null,
            "justify_content": null,
            "justify_items": null,
            "left": null,
            "margin": null,
            "max_height": null,
            "max_width": null,
            "min_height": null,
            "min_width": null,
            "object_fit": null,
            "object_position": null,
            "order": null,
            "overflow": null,
            "overflow_x": null,
            "overflow_y": null,
            "padding": null,
            "right": null,
            "top": null,
            "visibility": null,
            "width": null
          }
        },
        "b0826b2078a34149ab32a60751347c2d": {
          "model_module": "@jupyter-widgets/base",
          "model_name": "LayoutModel",
          "model_module_version": "1.2.0",
          "state": {
            "_model_module": "@jupyter-widgets/base",
            "_model_module_version": "1.2.0",
            "_model_name": "LayoutModel",
            "_view_count": null,
            "_view_module": "@jupyter-widgets/base",
            "_view_module_version": "1.2.0",
            "_view_name": "LayoutView",
            "align_content": null,
            "align_items": null,
            "align_self": null,
            "border": null,
            "bottom": null,
            "display": null,
            "flex": null,
            "flex_flow": null,
            "grid_area": null,
            "grid_auto_columns": null,
            "grid_auto_flow": null,
            "grid_auto_rows": null,
            "grid_column": null,
            "grid_gap": null,
            "grid_row": null,
            "grid_template_areas": null,
            "grid_template_columns": null,
            "grid_template_rows": null,
            "height": null,
            "justify_content": null,
            "justify_items": null,
            "left": null,
            "margin": null,
            "max_height": null,
            "max_width": null,
            "min_height": null,
            "min_width": null,
            "object_fit": null,
            "object_position": null,
            "order": null,
            "overflow": null,
            "overflow_x": null,
            "overflow_y": null,
            "padding": null,
            "right": null,
            "top": null,
            "visibility": null,
            "width": null
          }
        },
        "4a2fff512f54443d8cd9b51d68fb266f": {
          "model_module": "@jupyter-widgets/controls",
          "model_name": "DescriptionStyleModel",
          "model_module_version": "1.5.0",
          "state": {
            "_model_module": "@jupyter-widgets/controls",
            "_model_module_version": "1.5.0",
            "_model_name": "DescriptionStyleModel",
            "_view_count": null,
            "_view_module": "@jupyter-widgets/base",
            "_view_module_version": "1.2.0",
            "_view_name": "StyleView",
            "description_width": ""
          }
        },
        "829f77596b544afdb6ce3f540a7e80b4": {
          "model_module": "@jupyter-widgets/base",
          "model_name": "LayoutModel",
          "model_module_version": "1.2.0",
          "state": {
            "_model_module": "@jupyter-widgets/base",
            "_model_module_version": "1.2.0",
            "_model_name": "LayoutModel",
            "_view_count": null,
            "_view_module": "@jupyter-widgets/base",
            "_view_module_version": "1.2.0",
            "_view_name": "LayoutView",
            "align_content": null,
            "align_items": null,
            "align_self": null,
            "border": null,
            "bottom": null,
            "display": null,
            "flex": null,
            "flex_flow": null,
            "grid_area": null,
            "grid_auto_columns": null,
            "grid_auto_flow": null,
            "grid_auto_rows": null,
            "grid_column": null,
            "grid_gap": null,
            "grid_row": null,
            "grid_template_areas": null,
            "grid_template_columns": null,
            "grid_template_rows": null,
            "height": null,
            "justify_content": null,
            "justify_items": null,
            "left": null,
            "margin": null,
            "max_height": null,
            "max_width": null,
            "min_height": null,
            "min_width": null,
            "object_fit": null,
            "object_position": null,
            "order": null,
            "overflow": null,
            "overflow_x": null,
            "overflow_y": null,
            "padding": null,
            "right": null,
            "top": null,
            "visibility": null,
            "width": null
          }
        },
        "d59ddef43d2c49fe8d775bf04a99f196": {
          "model_module": "@jupyter-widgets/controls",
          "model_name": "ProgressStyleModel",
          "model_module_version": "1.5.0",
          "state": {
            "_model_module": "@jupyter-widgets/controls",
            "_model_module_version": "1.5.0",
            "_model_name": "ProgressStyleModel",
            "_view_count": null,
            "_view_module": "@jupyter-widgets/base",
            "_view_module_version": "1.2.0",
            "_view_name": "StyleView",
            "bar_color": null,
            "description_width": ""
          }
        },
        "60d603fcbc8545cdb840ea4cbb4f24ed": {
          "model_module": "@jupyter-widgets/base",
          "model_name": "LayoutModel",
          "model_module_version": "1.2.0",
          "state": {
            "_model_module": "@jupyter-widgets/base",
            "_model_module_version": "1.2.0",
            "_model_name": "LayoutModel",
            "_view_count": null,
            "_view_module": "@jupyter-widgets/base",
            "_view_module_version": "1.2.0",
            "_view_name": "LayoutView",
            "align_content": null,
            "align_items": null,
            "align_self": null,
            "border": null,
            "bottom": null,
            "display": null,
            "flex": null,
            "flex_flow": null,
            "grid_area": null,
            "grid_auto_columns": null,
            "grid_auto_flow": null,
            "grid_auto_rows": null,
            "grid_column": null,
            "grid_gap": null,
            "grid_row": null,
            "grid_template_areas": null,
            "grid_template_columns": null,
            "grid_template_rows": null,
            "height": null,
            "justify_content": null,
            "justify_items": null,
            "left": null,
            "margin": null,
            "max_height": null,
            "max_width": null,
            "min_height": null,
            "min_width": null,
            "object_fit": null,
            "object_position": null,
            "order": null,
            "overflow": null,
            "overflow_x": null,
            "overflow_y": null,
            "padding": null,
            "right": null,
            "top": null,
            "visibility": null,
            "width": null
          }
        },
        "0513fc418c964936b5b0971fa73aa2a6": {
          "model_module": "@jupyter-widgets/controls",
          "model_name": "DescriptionStyleModel",
          "model_module_version": "1.5.0",
          "state": {
            "_model_module": "@jupyter-widgets/controls",
            "_model_module_version": "1.5.0",
            "_model_name": "DescriptionStyleModel",
            "_view_count": null,
            "_view_module": "@jupyter-widgets/base",
            "_view_module_version": "1.2.0",
            "_view_name": "StyleView",
            "description_width": ""
          }
        },
        "58e073d9fc614915bd72e0d1ceac086b": {
          "model_module": "@jupyter-widgets/controls",
          "model_name": "HBoxModel",
          "model_module_version": "1.5.0",
          "state": {
            "_dom_classes": [],
            "_model_module": "@jupyter-widgets/controls",
            "_model_module_version": "1.5.0",
            "_model_name": "HBoxModel",
            "_view_count": null,
            "_view_module": "@jupyter-widgets/controls",
            "_view_module_version": "1.5.0",
            "_view_name": "HBoxView",
            "box_style": "",
            "children": [
              "IPY_MODEL_a68fbbbe054c4daf957f3f940438437a",
              "IPY_MODEL_d16c8e48fcf940439e3081561b5ee58e",
              "IPY_MODEL_b90a98c862734f75a107757af9602acf"
            ],
            "layout": "IPY_MODEL_097c05068a564af18d0044c30ba349c1"
          }
        },
        "a68fbbbe054c4daf957f3f940438437a": {
          "model_module": "@jupyter-widgets/controls",
          "model_name": "HTMLModel",
          "model_module_version": "1.5.0",
          "state": {
            "_dom_classes": [],
            "_model_module": "@jupyter-widgets/controls",
            "_model_module_version": "1.5.0",
            "_model_name": "HTMLModel",
            "_view_count": null,
            "_view_module": "@jupyter-widgets/controls",
            "_view_module_version": "1.5.0",
            "_view_name": "HTMLView",
            "description": "",
            "description_tooltip": null,
            "layout": "IPY_MODEL_8d0c9ed9bb08451ea1397e1874ecef94",
            "placeholder": "​",
            "style": "IPY_MODEL_7b86847a4b1f46cc831b05968cbd914e",
            "value": "model.safetensors.index.json: 100%"
          }
        },
        "d16c8e48fcf940439e3081561b5ee58e": {
          "model_module": "@jupyter-widgets/controls",
          "model_name": "FloatProgressModel",
          "model_module_version": "1.5.0",
          "state": {
            "_dom_classes": [],
            "_model_module": "@jupyter-widgets/controls",
            "_model_module_version": "1.5.0",
            "_model_name": "FloatProgressModel",
            "_view_count": null,
            "_view_module": "@jupyter-widgets/controls",
            "_view_module_version": "1.5.0",
            "_view_name": "ProgressView",
            "bar_style": "success",
            "description": "",
            "description_tooltip": null,
            "layout": "IPY_MODEL_68f8ee1ba2424722943d150c0c5c3505",
            "max": 23950,
            "min": 0,
            "orientation": "horizontal",
            "style": "IPY_MODEL_361eac428da8489c934dbb9710737880",
            "value": 23950
          }
        },
        "b90a98c862734f75a107757af9602acf": {
          "model_module": "@jupyter-widgets/controls",
          "model_name": "HTMLModel",
          "model_module_version": "1.5.0",
          "state": {
            "_dom_classes": [],
            "_model_module": "@jupyter-widgets/controls",
            "_model_module_version": "1.5.0",
            "_model_name": "HTMLModel",
            "_view_count": null,
            "_view_module": "@jupyter-widgets/controls",
            "_view_module_version": "1.5.0",
            "_view_name": "HTMLView",
            "description": "",
            "description_tooltip": null,
            "layout": "IPY_MODEL_1a84614f6f884d86a20a9fc07620962b",
            "placeholder": "​",
            "style": "IPY_MODEL_862725e798414909b9974d59a44b67cf",
            "value": " 23.9k/23.9k [00:00&lt;00:00, 692kB/s]"
          }
        },
        "097c05068a564af18d0044c30ba349c1": {
          "model_module": "@jupyter-widgets/base",
          "model_name": "LayoutModel",
          "model_module_version": "1.2.0",
          "state": {
            "_model_module": "@jupyter-widgets/base",
            "_model_module_version": "1.2.0",
            "_model_name": "LayoutModel",
            "_view_count": null,
            "_view_module": "@jupyter-widgets/base",
            "_view_module_version": "1.2.0",
            "_view_name": "LayoutView",
            "align_content": null,
            "align_items": null,
            "align_self": null,
            "border": null,
            "bottom": null,
            "display": null,
            "flex": null,
            "flex_flow": null,
            "grid_area": null,
            "grid_auto_columns": null,
            "grid_auto_flow": null,
            "grid_auto_rows": null,
            "grid_column": null,
            "grid_gap": null,
            "grid_row": null,
            "grid_template_areas": null,
            "grid_template_columns": null,
            "grid_template_rows": null,
            "height": null,
            "justify_content": null,
            "justify_items": null,
            "left": null,
            "margin": null,
            "max_height": null,
            "max_width": null,
            "min_height": null,
            "min_width": null,
            "object_fit": null,
            "object_position": null,
            "order": null,
            "overflow": null,
            "overflow_x": null,
            "overflow_y": null,
            "padding": null,
            "right": null,
            "top": null,
            "visibility": null,
            "width": null
          }
        },
        "8d0c9ed9bb08451ea1397e1874ecef94": {
          "model_module": "@jupyter-widgets/base",
          "model_name": "LayoutModel",
          "model_module_version": "1.2.0",
          "state": {
            "_model_module": "@jupyter-widgets/base",
            "_model_module_version": "1.2.0",
            "_model_name": "LayoutModel",
            "_view_count": null,
            "_view_module": "@jupyter-widgets/base",
            "_view_module_version": "1.2.0",
            "_view_name": "LayoutView",
            "align_content": null,
            "align_items": null,
            "align_self": null,
            "border": null,
            "bottom": null,
            "display": null,
            "flex": null,
            "flex_flow": null,
            "grid_area": null,
            "grid_auto_columns": null,
            "grid_auto_flow": null,
            "grid_auto_rows": null,
            "grid_column": null,
            "grid_gap": null,
            "grid_row": null,
            "grid_template_areas": null,
            "grid_template_columns": null,
            "grid_template_rows": null,
            "height": null,
            "justify_content": null,
            "justify_items": null,
            "left": null,
            "margin": null,
            "max_height": null,
            "max_width": null,
            "min_height": null,
            "min_width": null,
            "object_fit": null,
            "object_position": null,
            "order": null,
            "overflow": null,
            "overflow_x": null,
            "overflow_y": null,
            "padding": null,
            "right": null,
            "top": null,
            "visibility": null,
            "width": null
          }
        },
        "7b86847a4b1f46cc831b05968cbd914e": {
          "model_module": "@jupyter-widgets/controls",
          "model_name": "DescriptionStyleModel",
          "model_module_version": "1.5.0",
          "state": {
            "_model_module": "@jupyter-widgets/controls",
            "_model_module_version": "1.5.0",
            "_model_name": "DescriptionStyleModel",
            "_view_count": null,
            "_view_module": "@jupyter-widgets/base",
            "_view_module_version": "1.2.0",
            "_view_name": "StyleView",
            "description_width": ""
          }
        },
        "68f8ee1ba2424722943d150c0c5c3505": {
          "model_module": "@jupyter-widgets/base",
          "model_name": "LayoutModel",
          "model_module_version": "1.2.0",
          "state": {
            "_model_module": "@jupyter-widgets/base",
            "_model_module_version": "1.2.0",
            "_model_name": "LayoutModel",
            "_view_count": null,
            "_view_module": "@jupyter-widgets/base",
            "_view_module_version": "1.2.0",
            "_view_name": "LayoutView",
            "align_content": null,
            "align_items": null,
            "align_self": null,
            "border": null,
            "bottom": null,
            "display": null,
            "flex": null,
            "flex_flow": null,
            "grid_area": null,
            "grid_auto_columns": null,
            "grid_auto_flow": null,
            "grid_auto_rows": null,
            "grid_column": null,
            "grid_gap": null,
            "grid_row": null,
            "grid_template_areas": null,
            "grid_template_columns": null,
            "grid_template_rows": null,
            "height": null,
            "justify_content": null,
            "justify_items": null,
            "left": null,
            "margin": null,
            "max_height": null,
            "max_width": null,
            "min_height": null,
            "min_width": null,
            "object_fit": null,
            "object_position": null,
            "order": null,
            "overflow": null,
            "overflow_x": null,
            "overflow_y": null,
            "padding": null,
            "right": null,
            "top": null,
            "visibility": null,
            "width": null
          }
        },
        "361eac428da8489c934dbb9710737880": {
          "model_module": "@jupyter-widgets/controls",
          "model_name": "ProgressStyleModel",
          "model_module_version": "1.5.0",
          "state": {
            "_model_module": "@jupyter-widgets/controls",
            "_model_module_version": "1.5.0",
            "_model_name": "ProgressStyleModel",
            "_view_count": null,
            "_view_module": "@jupyter-widgets/base",
            "_view_module_version": "1.2.0",
            "_view_name": "StyleView",
            "bar_color": null,
            "description_width": ""
          }
        },
        "1a84614f6f884d86a20a9fc07620962b": {
          "model_module": "@jupyter-widgets/base",
          "model_name": "LayoutModel",
          "model_module_version": "1.2.0",
          "state": {
            "_model_module": "@jupyter-widgets/base",
            "_model_module_version": "1.2.0",
            "_model_name": "LayoutModel",
            "_view_count": null,
            "_view_module": "@jupyter-widgets/base",
            "_view_module_version": "1.2.0",
            "_view_name": "LayoutView",
            "align_content": null,
            "align_items": null,
            "align_self": null,
            "border": null,
            "bottom": null,
            "display": null,
            "flex": null,
            "flex_flow": null,
            "grid_area": null,
            "grid_auto_columns": null,
            "grid_auto_flow": null,
            "grid_auto_rows": null,
            "grid_column": null,
            "grid_gap": null,
            "grid_row": null,
            "grid_template_areas": null,
            "grid_template_columns": null,
            "grid_template_rows": null,
            "height": null,
            "justify_content": null,
            "justify_items": null,
            "left": null,
            "margin": null,
            "max_height": null,
            "max_width": null,
            "min_height": null,
            "min_width": null,
            "object_fit": null,
            "object_position": null,
            "order": null,
            "overflow": null,
            "overflow_x": null,
            "overflow_y": null,
            "padding": null,
            "right": null,
            "top": null,
            "visibility": null,
            "width": null
          }
        },
        "862725e798414909b9974d59a44b67cf": {
          "model_module": "@jupyter-widgets/controls",
          "model_name": "DescriptionStyleModel",
          "model_module_version": "1.5.0",
          "state": {
            "_model_module": "@jupyter-widgets/controls",
            "_model_module_version": "1.5.0",
            "_model_name": "DescriptionStyleModel",
            "_view_count": null,
            "_view_module": "@jupyter-widgets/base",
            "_view_module_version": "1.2.0",
            "_view_name": "StyleView",
            "description_width": ""
          }
        },
        "b9ffa6083c334f3eab14e80ae513a434": {
          "model_module": "@jupyter-widgets/controls",
          "model_name": "HBoxModel",
          "model_module_version": "1.5.0",
          "state": {
            "_dom_classes": [],
            "_model_module": "@jupyter-widgets/controls",
            "_model_module_version": "1.5.0",
            "_model_name": "HBoxModel",
            "_view_count": null,
            "_view_module": "@jupyter-widgets/controls",
            "_view_module_version": "1.5.0",
            "_view_name": "HBoxView",
            "box_style": "",
            "children": [
              "IPY_MODEL_fad6a39ff36a42ea88bffa1b644fe37f",
              "IPY_MODEL_356fa7c82c884a9596b8ef941b8c6181",
              "IPY_MODEL_181370bd68ea461493bf73c02e85ab9b"
            ],
            "layout": "IPY_MODEL_a6d8ca9c105348bfb87cc8e128e27a40"
          }
        },
        "fad6a39ff36a42ea88bffa1b644fe37f": {
          "model_module": "@jupyter-widgets/controls",
          "model_name": "HTMLModel",
          "model_module_version": "1.5.0",
          "state": {
            "_dom_classes": [],
            "_model_module": "@jupyter-widgets/controls",
            "_model_module_version": "1.5.0",
            "_model_name": "HTMLModel",
            "_view_count": null,
            "_view_module": "@jupyter-widgets/controls",
            "_view_module_version": "1.5.0",
            "_view_name": "HTMLView",
            "description": "",
            "description_tooltip": null,
            "layout": "IPY_MODEL_f9b2f8033e07439598dbdff03593fa10",
            "placeholder": "​",
            "style": "IPY_MODEL_3cf9b414371547dea6ff3e56cb86f39f",
            "value": "Downloading shards:  75%"
          }
        },
        "356fa7c82c884a9596b8ef941b8c6181": {
          "model_module": "@jupyter-widgets/controls",
          "model_name": "FloatProgressModel",
          "model_module_version": "1.5.0",
          "state": {
            "_dom_classes": [],
            "_model_module": "@jupyter-widgets/controls",
            "_model_module_version": "1.5.0",
            "_model_name": "FloatProgressModel",
            "_view_count": null,
            "_view_module": "@jupyter-widgets/controls",
            "_view_module_version": "1.5.0",
            "_view_name": "ProgressView",
            "bar_style": "",
            "description": "",
            "description_tooltip": null,
            "layout": "IPY_MODEL_83c1b777842847d284e359e872c4b6ff",
            "max": 4,
            "min": 0,
            "orientation": "horizontal",
            "style": "IPY_MODEL_5b08d526e3f44d658ac7971573f14798",
            "value": 3
          }
        },
        "181370bd68ea461493bf73c02e85ab9b": {
          "model_module": "@jupyter-widgets/controls",
          "model_name": "HTMLModel",
          "model_module_version": "1.5.0",
          "state": {
            "_dom_classes": [],
            "_model_module": "@jupyter-widgets/controls",
            "_model_module_version": "1.5.0",
            "_model_name": "HTMLModel",
            "_view_count": null,
            "_view_module": "@jupyter-widgets/controls",
            "_view_module_version": "1.5.0",
            "_view_name": "HTMLView",
            "description": "",
            "description_tooltip": null,
            "layout": "IPY_MODEL_47281473d3a042cab5592da726860d28",
            "placeholder": "​",
            "style": "IPY_MODEL_9659c645c88642639ebd7bfc4e39b444",
            "value": " 3/4 [01:39&lt;00:34, 34.62s/it]"
          }
        },
        "a6d8ca9c105348bfb87cc8e128e27a40": {
          "model_module": "@jupyter-widgets/base",
          "model_name": "LayoutModel",
          "model_module_version": "1.2.0",
          "state": {
            "_model_module": "@jupyter-widgets/base",
            "_model_module_version": "1.2.0",
            "_model_name": "LayoutModel",
            "_view_count": null,
            "_view_module": "@jupyter-widgets/base",
            "_view_module_version": "1.2.0",
            "_view_name": "LayoutView",
            "align_content": null,
            "align_items": null,
            "align_self": null,
            "border": null,
            "bottom": null,
            "display": null,
            "flex": null,
            "flex_flow": null,
            "grid_area": null,
            "grid_auto_columns": null,
            "grid_auto_flow": null,
            "grid_auto_rows": null,
            "grid_column": null,
            "grid_gap": null,
            "grid_row": null,
            "grid_template_areas": null,
            "grid_template_columns": null,
            "grid_template_rows": null,
            "height": null,
            "justify_content": null,
            "justify_items": null,
            "left": null,
            "margin": null,
            "max_height": null,
            "max_width": null,
            "min_height": null,
            "min_width": null,
            "object_fit": null,
            "object_position": null,
            "order": null,
            "overflow": null,
            "overflow_x": null,
            "overflow_y": null,
            "padding": null,
            "right": null,
            "top": null,
            "visibility": null,
            "width": null
          }
        },
        "f9b2f8033e07439598dbdff03593fa10": {
          "model_module": "@jupyter-widgets/base",
          "model_name": "LayoutModel",
          "model_module_version": "1.2.0",
          "state": {
            "_model_module": "@jupyter-widgets/base",
            "_model_module_version": "1.2.0",
            "_model_name": "LayoutModel",
            "_view_count": null,
            "_view_module": "@jupyter-widgets/base",
            "_view_module_version": "1.2.0",
            "_view_name": "LayoutView",
            "align_content": null,
            "align_items": null,
            "align_self": null,
            "border": null,
            "bottom": null,
            "display": null,
            "flex": null,
            "flex_flow": null,
            "grid_area": null,
            "grid_auto_columns": null,
            "grid_auto_flow": null,
            "grid_auto_rows": null,
            "grid_column": null,
            "grid_gap": null,
            "grid_row": null,
            "grid_template_areas": null,
            "grid_template_columns": null,
            "grid_template_rows": null,
            "height": null,
            "justify_content": null,
            "justify_items": null,
            "left": null,
            "margin": null,
            "max_height": null,
            "max_width": null,
            "min_height": null,
            "min_width": null,
            "object_fit": null,
            "object_position": null,
            "order": null,
            "overflow": null,
            "overflow_x": null,
            "overflow_y": null,
            "padding": null,
            "right": null,
            "top": null,
            "visibility": null,
            "width": null
          }
        },
        "3cf9b414371547dea6ff3e56cb86f39f": {
          "model_module": "@jupyter-widgets/controls",
          "model_name": "DescriptionStyleModel",
          "model_module_version": "1.5.0",
          "state": {
            "_model_module": "@jupyter-widgets/controls",
            "_model_module_version": "1.5.0",
            "_model_name": "DescriptionStyleModel",
            "_view_count": null,
            "_view_module": "@jupyter-widgets/base",
            "_view_module_version": "1.2.0",
            "_view_name": "StyleView",
            "description_width": ""
          }
        },
        "83c1b777842847d284e359e872c4b6ff": {
          "model_module": "@jupyter-widgets/base",
          "model_name": "LayoutModel",
          "model_module_version": "1.2.0",
          "state": {
            "_model_module": "@jupyter-widgets/base",
            "_model_module_version": "1.2.0",
            "_model_name": "LayoutModel",
            "_view_count": null,
            "_view_module": "@jupyter-widgets/base",
            "_view_module_version": "1.2.0",
            "_view_name": "LayoutView",
            "align_content": null,
            "align_items": null,
            "align_self": null,
            "border": null,
            "bottom": null,
            "display": null,
            "flex": null,
            "flex_flow": null,
            "grid_area": null,
            "grid_auto_columns": null,
            "grid_auto_flow": null,
            "grid_auto_rows": null,
            "grid_column": null,
            "grid_gap": null,
            "grid_row": null,
            "grid_template_areas": null,
            "grid_template_columns": null,
            "grid_template_rows": null,
            "height": null,
            "justify_content": null,
            "justify_items": null,
            "left": null,
            "margin": null,
            "max_height": null,
            "max_width": null,
            "min_height": null,
            "min_width": null,
            "object_fit": null,
            "object_position": null,
            "order": null,
            "overflow": null,
            "overflow_x": null,
            "overflow_y": null,
            "padding": null,
            "right": null,
            "top": null,
            "visibility": null,
            "width": null
          }
        },
        "5b08d526e3f44d658ac7971573f14798": {
          "model_module": "@jupyter-widgets/controls",
          "model_name": "ProgressStyleModel",
          "model_module_version": "1.5.0",
          "state": {
            "_model_module": "@jupyter-widgets/controls",
            "_model_module_version": "1.5.0",
            "_model_name": "ProgressStyleModel",
            "_view_count": null,
            "_view_module": "@jupyter-widgets/base",
            "_view_module_version": "1.2.0",
            "_view_name": "StyleView",
            "bar_color": null,
            "description_width": ""
          }
        },
        "47281473d3a042cab5592da726860d28": {
          "model_module": "@jupyter-widgets/base",
          "model_name": "LayoutModel",
          "model_module_version": "1.2.0",
          "state": {
            "_model_module": "@jupyter-widgets/base",
            "_model_module_version": "1.2.0",
            "_model_name": "LayoutModel",
            "_view_count": null,
            "_view_module": "@jupyter-widgets/base",
            "_view_module_version": "1.2.0",
            "_view_name": "LayoutView",
            "align_content": null,
            "align_items": null,
            "align_self": null,
            "border": null,
            "bottom": null,
            "display": null,
            "flex": null,
            "flex_flow": null,
            "grid_area": null,
            "grid_auto_columns": null,
            "grid_auto_flow": null,
            "grid_auto_rows": null,
            "grid_column": null,
            "grid_gap": null,
            "grid_row": null,
            "grid_template_areas": null,
            "grid_template_columns": null,
            "grid_template_rows": null,
            "height": null,
            "justify_content": null,
            "justify_items": null,
            "left": null,
            "margin": null,
            "max_height": null,
            "max_width": null,
            "min_height": null,
            "min_width": null,
            "object_fit": null,
            "object_position": null,
            "order": null,
            "overflow": null,
            "overflow_x": null,
            "overflow_y": null,
            "padding": null,
            "right": null,
            "top": null,
            "visibility": null,
            "width": null
          }
        },
        "9659c645c88642639ebd7bfc4e39b444": {
          "model_module": "@jupyter-widgets/controls",
          "model_name": "DescriptionStyleModel",
          "model_module_version": "1.5.0",
          "state": {
            "_model_module": "@jupyter-widgets/controls",
            "_model_module_version": "1.5.0",
            "_model_name": "DescriptionStyleModel",
            "_view_count": null,
            "_view_module": "@jupyter-widgets/base",
            "_view_module_version": "1.2.0",
            "_view_name": "StyleView",
            "description_width": ""
          }
        },
        "5ab7b597344c474180150c63472d7297": {
          "model_module": "@jupyter-widgets/controls",
          "model_name": "HBoxModel",
          "model_module_version": "1.5.0",
          "state": {
            "_dom_classes": [],
            "_model_module": "@jupyter-widgets/controls",
            "_model_module_version": "1.5.0",
            "_model_name": "HBoxModel",
            "_view_count": null,
            "_view_module": "@jupyter-widgets/controls",
            "_view_module_version": "1.5.0",
            "_view_name": "HBoxView",
            "box_style": "",
            "children": [
              "IPY_MODEL_5788580999be4c7194b32685754c9a5e",
              "IPY_MODEL_1042ee0388744d7e9c9d076f254c5631",
              "IPY_MODEL_1bf26ff4b7dd429cab0f3566c5dea0ce"
            ],
            "layout": "IPY_MODEL_cd9d6f27a3014ecdbc1c821902d0ce27"
          }
        },
        "5788580999be4c7194b32685754c9a5e": {
          "model_module": "@jupyter-widgets/controls",
          "model_name": "HTMLModel",
          "model_module_version": "1.5.0",
          "state": {
            "_dom_classes": [],
            "_model_module": "@jupyter-widgets/controls",
            "_model_module_version": "1.5.0",
            "_model_name": "HTMLModel",
            "_view_count": null,
            "_view_module": "@jupyter-widgets/controls",
            "_view_module_version": "1.5.0",
            "_view_name": "HTMLView",
            "description": "",
            "description_tooltip": null,
            "layout": "IPY_MODEL_0423ea306602489d9700ccdfc946e6d6",
            "placeholder": "​",
            "style": "IPY_MODEL_a3e16fe95f124cb59d11efd2ab5d3d8f",
            "value": "model-00001-of-00004.safetensors: 100%"
          }
        },
        "1042ee0388744d7e9c9d076f254c5631": {
          "model_module": "@jupyter-widgets/controls",
          "model_name": "FloatProgressModel",
          "model_module_version": "1.5.0",
          "state": {
            "_dom_classes": [],
            "_model_module": "@jupyter-widgets/controls",
            "_model_module_version": "1.5.0",
            "_model_name": "FloatProgressModel",
            "_view_count": null,
            "_view_module": "@jupyter-widgets/controls",
            "_view_module_version": "1.5.0",
            "_view_name": "ProgressView",
            "bar_style": "success",
            "description": "",
            "description_tooltip": null,
            "layout": "IPY_MODEL_52a7d73f79d44efdb1efe8d3507458da",
            "max": 4976698672,
            "min": 0,
            "orientation": "horizontal",
            "style": "IPY_MODEL_fe6af53fe5464614beb4dce1af7d9ba5",
            "value": 4976698672
          }
        },
        "1bf26ff4b7dd429cab0f3566c5dea0ce": {
          "model_module": "@jupyter-widgets/controls",
          "model_name": "HTMLModel",
          "model_module_version": "1.5.0",
          "state": {
            "_dom_classes": [],
            "_model_module": "@jupyter-widgets/controls",
            "_model_module_version": "1.5.0",
            "_model_name": "HTMLModel",
            "_view_count": null,
            "_view_module": "@jupyter-widgets/controls",
            "_view_module_version": "1.5.0",
            "_view_name": "HTMLView",
            "description": "",
            "description_tooltip": null,
            "layout": "IPY_MODEL_4a2d56a04b70477f96f08fe3b8055abd",
            "placeholder": "​",
            "style": "IPY_MODEL_87c9873a8c4940cb9b17435c6246e703",
            "value": " 4.98G/4.98G [00:27&lt;00:00, 209MB/s]"
          }
        },
        "cd9d6f27a3014ecdbc1c821902d0ce27": {
          "model_module": "@jupyter-widgets/base",
          "model_name": "LayoutModel",
          "model_module_version": "1.2.0",
          "state": {
            "_model_module": "@jupyter-widgets/base",
            "_model_module_version": "1.2.0",
            "_model_name": "LayoutModel",
            "_view_count": null,
            "_view_module": "@jupyter-widgets/base",
            "_view_module_version": "1.2.0",
            "_view_name": "LayoutView",
            "align_content": null,
            "align_items": null,
            "align_self": null,
            "border": null,
            "bottom": null,
            "display": null,
            "flex": null,
            "flex_flow": null,
            "grid_area": null,
            "grid_auto_columns": null,
            "grid_auto_flow": null,
            "grid_auto_rows": null,
            "grid_column": null,
            "grid_gap": null,
            "grid_row": null,
            "grid_template_areas": null,
            "grid_template_columns": null,
            "grid_template_rows": null,
            "height": null,
            "justify_content": null,
            "justify_items": null,
            "left": null,
            "margin": null,
            "max_height": null,
            "max_width": null,
            "min_height": null,
            "min_width": null,
            "object_fit": null,
            "object_position": null,
            "order": null,
            "overflow": null,
            "overflow_x": null,
            "overflow_y": null,
            "padding": null,
            "right": null,
            "top": null,
            "visibility": null,
            "width": null
          }
        },
        "0423ea306602489d9700ccdfc946e6d6": {
          "model_module": "@jupyter-widgets/base",
          "model_name": "LayoutModel",
          "model_module_version": "1.2.0",
          "state": {
            "_model_module": "@jupyter-widgets/base",
            "_model_module_version": "1.2.0",
            "_model_name": "LayoutModel",
            "_view_count": null,
            "_view_module": "@jupyter-widgets/base",
            "_view_module_version": "1.2.0",
            "_view_name": "LayoutView",
            "align_content": null,
            "align_items": null,
            "align_self": null,
            "border": null,
            "bottom": null,
            "display": null,
            "flex": null,
            "flex_flow": null,
            "grid_area": null,
            "grid_auto_columns": null,
            "grid_auto_flow": null,
            "grid_auto_rows": null,
            "grid_column": null,
            "grid_gap": null,
            "grid_row": null,
            "grid_template_areas": null,
            "grid_template_columns": null,
            "grid_template_rows": null,
            "height": null,
            "justify_content": null,
            "justify_items": null,
            "left": null,
            "margin": null,
            "max_height": null,
            "max_width": null,
            "min_height": null,
            "min_width": null,
            "object_fit": null,
            "object_position": null,
            "order": null,
            "overflow": null,
            "overflow_x": null,
            "overflow_y": null,
            "padding": null,
            "right": null,
            "top": null,
            "visibility": null,
            "width": null
          }
        },
        "a3e16fe95f124cb59d11efd2ab5d3d8f": {
          "model_module": "@jupyter-widgets/controls",
          "model_name": "DescriptionStyleModel",
          "model_module_version": "1.5.0",
          "state": {
            "_model_module": "@jupyter-widgets/controls",
            "_model_module_version": "1.5.0",
            "_model_name": "DescriptionStyleModel",
            "_view_count": null,
            "_view_module": "@jupyter-widgets/base",
            "_view_module_version": "1.2.0",
            "_view_name": "StyleView",
            "description_width": ""
          }
        },
        "52a7d73f79d44efdb1efe8d3507458da": {
          "model_module": "@jupyter-widgets/base",
          "model_name": "LayoutModel",
          "model_module_version": "1.2.0",
          "state": {
            "_model_module": "@jupyter-widgets/base",
            "_model_module_version": "1.2.0",
            "_model_name": "LayoutModel",
            "_view_count": null,
            "_view_module": "@jupyter-widgets/base",
            "_view_module_version": "1.2.0",
            "_view_name": "LayoutView",
            "align_content": null,
            "align_items": null,
            "align_self": null,
            "border": null,
            "bottom": null,
            "display": null,
            "flex": null,
            "flex_flow": null,
            "grid_area": null,
            "grid_auto_columns": null,
            "grid_auto_flow": null,
            "grid_auto_rows": null,
            "grid_column": null,
            "grid_gap": null,
            "grid_row": null,
            "grid_template_areas": null,
            "grid_template_columns": null,
            "grid_template_rows": null,
            "height": null,
            "justify_content": null,
            "justify_items": null,
            "left": null,
            "margin": null,
            "max_height": null,
            "max_width": null,
            "min_height": null,
            "min_width": null,
            "object_fit": null,
            "object_position": null,
            "order": null,
            "overflow": null,
            "overflow_x": null,
            "overflow_y": null,
            "padding": null,
            "right": null,
            "top": null,
            "visibility": null,
            "width": null
          }
        },
        "fe6af53fe5464614beb4dce1af7d9ba5": {
          "model_module": "@jupyter-widgets/controls",
          "model_name": "ProgressStyleModel",
          "model_module_version": "1.5.0",
          "state": {
            "_model_module": "@jupyter-widgets/controls",
            "_model_module_version": "1.5.0",
            "_model_name": "ProgressStyleModel",
            "_view_count": null,
            "_view_module": "@jupyter-widgets/base",
            "_view_module_version": "1.2.0",
            "_view_name": "StyleView",
            "bar_color": null,
            "description_width": ""
          }
        },
        "4a2d56a04b70477f96f08fe3b8055abd": {
          "model_module": "@jupyter-widgets/base",
          "model_name": "LayoutModel",
          "model_module_version": "1.2.0",
          "state": {
            "_model_module": "@jupyter-widgets/base",
            "_model_module_version": "1.2.0",
            "_model_name": "LayoutModel",
            "_view_count": null,
            "_view_module": "@jupyter-widgets/base",
            "_view_module_version": "1.2.0",
            "_view_name": "LayoutView",
            "align_content": null,
            "align_items": null,
            "align_self": null,
            "border": null,
            "bottom": null,
            "display": null,
            "flex": null,
            "flex_flow": null,
            "grid_area": null,
            "grid_auto_columns": null,
            "grid_auto_flow": null,
            "grid_auto_rows": null,
            "grid_column": null,
            "grid_gap": null,
            "grid_row": null,
            "grid_template_areas": null,
            "grid_template_columns": null,
            "grid_template_rows": null,
            "height": null,
            "justify_content": null,
            "justify_items": null,
            "left": null,
            "margin": null,
            "max_height": null,
            "max_width": null,
            "min_height": null,
            "min_width": null,
            "object_fit": null,
            "object_position": null,
            "order": null,
            "overflow": null,
            "overflow_x": null,
            "overflow_y": null,
            "padding": null,
            "right": null,
            "top": null,
            "visibility": null,
            "width": null
          }
        },
        "87c9873a8c4940cb9b17435c6246e703": {
          "model_module": "@jupyter-widgets/controls",
          "model_name": "DescriptionStyleModel",
          "model_module_version": "1.5.0",
          "state": {
            "_model_module": "@jupyter-widgets/controls",
            "_model_module_version": "1.5.0",
            "_model_name": "DescriptionStyleModel",
            "_view_count": null,
            "_view_module": "@jupyter-widgets/base",
            "_view_module_version": "1.2.0",
            "_view_name": "StyleView",
            "description_width": ""
          }
        },
        "b8e4eadb205f4cef9d61f9e58c0d0327": {
          "model_module": "@jupyter-widgets/controls",
          "model_name": "HBoxModel",
          "model_module_version": "1.5.0",
          "state": {
            "_dom_classes": [],
            "_model_module": "@jupyter-widgets/controls",
            "_model_module_version": "1.5.0",
            "_model_name": "HBoxModel",
            "_view_count": null,
            "_view_module": "@jupyter-widgets/controls",
            "_view_module_version": "1.5.0",
            "_view_name": "HBoxView",
            "box_style": "",
            "children": [
              "IPY_MODEL_d0efa74f5143472d8211f24f238154eb",
              "IPY_MODEL_b8fc86754dab474aa0bb24c9d56585c9",
              "IPY_MODEL_a271eae963c744068ed6593b20a45d50"
            ],
            "layout": "IPY_MODEL_fc8085afcc7a462381177af47eb96f49"
          }
        },
        "d0efa74f5143472d8211f24f238154eb": {
          "model_module": "@jupyter-widgets/controls",
          "model_name": "HTMLModel",
          "model_module_version": "1.5.0",
          "state": {
            "_dom_classes": [],
            "_model_module": "@jupyter-widgets/controls",
            "_model_module_version": "1.5.0",
            "_model_name": "HTMLModel",
            "_view_count": null,
            "_view_module": "@jupyter-widgets/controls",
            "_view_module_version": "1.5.0",
            "_view_name": "HTMLView",
            "description": "",
            "description_tooltip": null,
            "layout": "IPY_MODEL_a307efc3820941a3aa48f2d9cbea8ce6",
            "placeholder": "​",
            "style": "IPY_MODEL_92024551e5bd4ac0a54f1a79c050c99b",
            "value": "model-00002-of-00004.safetensors: 100%"
          }
        },
        "b8fc86754dab474aa0bb24c9d56585c9": {
          "model_module": "@jupyter-widgets/controls",
          "model_name": "FloatProgressModel",
          "model_module_version": "1.5.0",
          "state": {
            "_dom_classes": [],
            "_model_module": "@jupyter-widgets/controls",
            "_model_module_version": "1.5.0",
            "_model_name": "FloatProgressModel",
            "_view_count": null,
            "_view_module": "@jupyter-widgets/controls",
            "_view_module_version": "1.5.0",
            "_view_name": "ProgressView",
            "bar_style": "success",
            "description": "",
            "description_tooltip": null,
            "layout": "IPY_MODEL_9f7d8fed77844732af3f5ef530843372",
            "max": 4999802720,
            "min": 0,
            "orientation": "horizontal",
            "style": "IPY_MODEL_49186eb8984c4fe7b4d18699774e2702",
            "value": 4999802720
          }
        },
        "a271eae963c744068ed6593b20a45d50": {
          "model_module": "@jupyter-widgets/controls",
          "model_name": "HTMLModel",
          "model_module_version": "1.5.0",
          "state": {
            "_dom_classes": [],
            "_model_module": "@jupyter-widgets/controls",
            "_model_module_version": "1.5.0",
            "_model_name": "HTMLModel",
            "_view_count": null,
            "_view_module": "@jupyter-widgets/controls",
            "_view_module_version": "1.5.0",
            "_view_name": "HTMLView",
            "description": "",
            "description_tooltip": null,
            "layout": "IPY_MODEL_6b2b4bee1f5644d9ab54a641f6179f9b",
            "placeholder": "​",
            "style": "IPY_MODEL_b395f09fc0e0441aa52c52f7b29a3100",
            "value": " 5.00G/5.00G [00:32&lt;00:00, 249MB/s]"
          }
        },
        "fc8085afcc7a462381177af47eb96f49": {
          "model_module": "@jupyter-widgets/base",
          "model_name": "LayoutModel",
          "model_module_version": "1.2.0",
          "state": {
            "_model_module": "@jupyter-widgets/base",
            "_model_module_version": "1.2.0",
            "_model_name": "LayoutModel",
            "_view_count": null,
            "_view_module": "@jupyter-widgets/base",
            "_view_module_version": "1.2.0",
            "_view_name": "LayoutView",
            "align_content": null,
            "align_items": null,
            "align_self": null,
            "border": null,
            "bottom": null,
            "display": null,
            "flex": null,
            "flex_flow": null,
            "grid_area": null,
            "grid_auto_columns": null,
            "grid_auto_flow": null,
            "grid_auto_rows": null,
            "grid_column": null,
            "grid_gap": null,
            "grid_row": null,
            "grid_template_areas": null,
            "grid_template_columns": null,
            "grid_template_rows": null,
            "height": null,
            "justify_content": null,
            "justify_items": null,
            "left": null,
            "margin": null,
            "max_height": null,
            "max_width": null,
            "min_height": null,
            "min_width": null,
            "object_fit": null,
            "object_position": null,
            "order": null,
            "overflow": null,
            "overflow_x": null,
            "overflow_y": null,
            "padding": null,
            "right": null,
            "top": null,
            "visibility": null,
            "width": null
          }
        },
        "a307efc3820941a3aa48f2d9cbea8ce6": {
          "model_module": "@jupyter-widgets/base",
          "model_name": "LayoutModel",
          "model_module_version": "1.2.0",
          "state": {
            "_model_module": "@jupyter-widgets/base",
            "_model_module_version": "1.2.0",
            "_model_name": "LayoutModel",
            "_view_count": null,
            "_view_module": "@jupyter-widgets/base",
            "_view_module_version": "1.2.0",
            "_view_name": "LayoutView",
            "align_content": null,
            "align_items": null,
            "align_self": null,
            "border": null,
            "bottom": null,
            "display": null,
            "flex": null,
            "flex_flow": null,
            "grid_area": null,
            "grid_auto_columns": null,
            "grid_auto_flow": null,
            "grid_auto_rows": null,
            "grid_column": null,
            "grid_gap": null,
            "grid_row": null,
            "grid_template_areas": null,
            "grid_template_columns": null,
            "grid_template_rows": null,
            "height": null,
            "justify_content": null,
            "justify_items": null,
            "left": null,
            "margin": null,
            "max_height": null,
            "max_width": null,
            "min_height": null,
            "min_width": null,
            "object_fit": null,
            "object_position": null,
            "order": null,
            "overflow": null,
            "overflow_x": null,
            "overflow_y": null,
            "padding": null,
            "right": null,
            "top": null,
            "visibility": null,
            "width": null
          }
        },
        "92024551e5bd4ac0a54f1a79c050c99b": {
          "model_module": "@jupyter-widgets/controls",
          "model_name": "DescriptionStyleModel",
          "model_module_version": "1.5.0",
          "state": {
            "_model_module": "@jupyter-widgets/controls",
            "_model_module_version": "1.5.0",
            "_model_name": "DescriptionStyleModel",
            "_view_count": null,
            "_view_module": "@jupyter-widgets/base",
            "_view_module_version": "1.2.0",
            "_view_name": "StyleView",
            "description_width": ""
          }
        },
        "9f7d8fed77844732af3f5ef530843372": {
          "model_module": "@jupyter-widgets/base",
          "model_name": "LayoutModel",
          "model_module_version": "1.2.0",
          "state": {
            "_model_module": "@jupyter-widgets/base",
            "_model_module_version": "1.2.0",
            "_model_name": "LayoutModel",
            "_view_count": null,
            "_view_module": "@jupyter-widgets/base",
            "_view_module_version": "1.2.0",
            "_view_name": "LayoutView",
            "align_content": null,
            "align_items": null,
            "align_self": null,
            "border": null,
            "bottom": null,
            "display": null,
            "flex": null,
            "flex_flow": null,
            "grid_area": null,
            "grid_auto_columns": null,
            "grid_auto_flow": null,
            "grid_auto_rows": null,
            "grid_column": null,
            "grid_gap": null,
            "grid_row": null,
            "grid_template_areas": null,
            "grid_template_columns": null,
            "grid_template_rows": null,
            "height": null,
            "justify_content": null,
            "justify_items": null,
            "left": null,
            "margin": null,
            "max_height": null,
            "max_width": null,
            "min_height": null,
            "min_width": null,
            "object_fit": null,
            "object_position": null,
            "order": null,
            "overflow": null,
            "overflow_x": null,
            "overflow_y": null,
            "padding": null,
            "right": null,
            "top": null,
            "visibility": null,
            "width": null
          }
        },
        "49186eb8984c4fe7b4d18699774e2702": {
          "model_module": "@jupyter-widgets/controls",
          "model_name": "ProgressStyleModel",
          "model_module_version": "1.5.0",
          "state": {
            "_model_module": "@jupyter-widgets/controls",
            "_model_module_version": "1.5.0",
            "_model_name": "ProgressStyleModel",
            "_view_count": null,
            "_view_module": "@jupyter-widgets/base",
            "_view_module_version": "1.2.0",
            "_view_name": "StyleView",
            "bar_color": null,
            "description_width": ""
          }
        },
        "6b2b4bee1f5644d9ab54a641f6179f9b": {
          "model_module": "@jupyter-widgets/base",
          "model_name": "LayoutModel",
          "model_module_version": "1.2.0",
          "state": {
            "_model_module": "@jupyter-widgets/base",
            "_model_module_version": "1.2.0",
            "_model_name": "LayoutModel",
            "_view_count": null,
            "_view_module": "@jupyter-widgets/base",
            "_view_module_version": "1.2.0",
            "_view_name": "LayoutView",
            "align_content": null,
            "align_items": null,
            "align_self": null,
            "border": null,
            "bottom": null,
            "display": null,
            "flex": null,
            "flex_flow": null,
            "grid_area": null,
            "grid_auto_columns": null,
            "grid_auto_flow": null,
            "grid_auto_rows": null,
            "grid_column": null,
            "grid_gap": null,
            "grid_row": null,
            "grid_template_areas": null,
            "grid_template_columns": null,
            "grid_template_rows": null,
            "height": null,
            "justify_content": null,
            "justify_items": null,
            "left": null,
            "margin": null,
            "max_height": null,
            "max_width": null,
            "min_height": null,
            "min_width": null,
            "object_fit": null,
            "object_position": null,
            "order": null,
            "overflow": null,
            "overflow_x": null,
            "overflow_y": null,
            "padding": null,
            "right": null,
            "top": null,
            "visibility": null,
            "width": null
          }
        },
        "b395f09fc0e0441aa52c52f7b29a3100": {
          "model_module": "@jupyter-widgets/controls",
          "model_name": "DescriptionStyleModel",
          "model_module_version": "1.5.0",
          "state": {
            "_model_module": "@jupyter-widgets/controls",
            "_model_module_version": "1.5.0",
            "_model_name": "DescriptionStyleModel",
            "_view_count": null,
            "_view_module": "@jupyter-widgets/base",
            "_view_module_version": "1.2.0",
            "_view_name": "StyleView",
            "description_width": ""
          }
        },
        "883f17f7a84e4497a0d495fee3ba8d66": {
          "model_module": "@jupyter-widgets/controls",
          "model_name": "HBoxModel",
          "model_module_version": "1.5.0",
          "state": {
            "_dom_classes": [],
            "_model_module": "@jupyter-widgets/controls",
            "_model_module_version": "1.5.0",
            "_model_name": "HBoxModel",
            "_view_count": null,
            "_view_module": "@jupyter-widgets/controls",
            "_view_module_version": "1.5.0",
            "_view_name": "HBoxView",
            "box_style": "",
            "children": [
              "IPY_MODEL_66bfef519798405b9a94e7d67e975d7f",
              "IPY_MODEL_20829487fe6e4ad49d6409ac1447ac74",
              "IPY_MODEL_32cf75c1536e4739a143adef602480ea"
            ],
            "layout": "IPY_MODEL_67f297298b64486f9b9f4bb9af18697d"
          }
        },
        "66bfef519798405b9a94e7d67e975d7f": {
          "model_module": "@jupyter-widgets/controls",
          "model_name": "HTMLModel",
          "model_module_version": "1.5.0",
          "state": {
            "_dom_classes": [],
            "_model_module": "@jupyter-widgets/controls",
            "_model_module_version": "1.5.0",
            "_model_name": "HTMLModel",
            "_view_count": null,
            "_view_module": "@jupyter-widgets/controls",
            "_view_module_version": "1.5.0",
            "_view_name": "HTMLView",
            "description": "",
            "description_tooltip": null,
            "layout": "IPY_MODEL_59b5c167833141eaa0e787119b77a5fd",
            "placeholder": "​",
            "style": "IPY_MODEL_b18e8baaabbd4974b9a0b6eb2b6a72ec",
            "value": "model-00003-of-00004.safetensors: 100%"
          }
        },
        "20829487fe6e4ad49d6409ac1447ac74": {
          "model_module": "@jupyter-widgets/controls",
          "model_name": "FloatProgressModel",
          "model_module_version": "1.5.0",
          "state": {
            "_dom_classes": [],
            "_model_module": "@jupyter-widgets/controls",
            "_model_module_version": "1.5.0",
            "_model_name": "FloatProgressModel",
            "_view_count": null,
            "_view_module": "@jupyter-widgets/controls",
            "_view_module_version": "1.5.0",
            "_view_name": "ProgressView",
            "bar_style": "success",
            "description": "",
            "description_tooltip": null,
            "layout": "IPY_MODEL_08332d790f8b4850b14c6d6f2644128c",
            "max": 4915916176,
            "min": 0,
            "orientation": "horizontal",
            "style": "IPY_MODEL_7c539f5b9a0a488ea6d8f69c62b9efe7",
            "value": 4915916176
          }
        },
        "32cf75c1536e4739a143adef602480ea": {
          "model_module": "@jupyter-widgets/controls",
          "model_name": "HTMLModel",
          "model_module_version": "1.5.0",
          "state": {
            "_dom_classes": [],
            "_model_module": "@jupyter-widgets/controls",
            "_model_module_version": "1.5.0",
            "_model_name": "HTMLModel",
            "_view_count": null,
            "_view_module": "@jupyter-widgets/controls",
            "_view_module_version": "1.5.0",
            "_view_name": "HTMLView",
            "description": "",
            "description_tooltip": null,
            "layout": "IPY_MODEL_dee5eb55c27d49f18dc92c78d6e1185c",
            "placeholder": "​",
            "style": "IPY_MODEL_dd6a44d726dd4b5e9f77d7510adf90ca",
            "value": " 4.92G/4.92G [00:39&lt;00:00, 133MB/s]"
          }
        },
        "67f297298b64486f9b9f4bb9af18697d": {
          "model_module": "@jupyter-widgets/base",
          "model_name": "LayoutModel",
          "model_module_version": "1.2.0",
          "state": {
            "_model_module": "@jupyter-widgets/base",
            "_model_module_version": "1.2.0",
            "_model_name": "LayoutModel",
            "_view_count": null,
            "_view_module": "@jupyter-widgets/base",
            "_view_module_version": "1.2.0",
            "_view_name": "LayoutView",
            "align_content": null,
            "align_items": null,
            "align_self": null,
            "border": null,
            "bottom": null,
            "display": null,
            "flex": null,
            "flex_flow": null,
            "grid_area": null,
            "grid_auto_columns": null,
            "grid_auto_flow": null,
            "grid_auto_rows": null,
            "grid_column": null,
            "grid_gap": null,
            "grid_row": null,
            "grid_template_areas": null,
            "grid_template_columns": null,
            "grid_template_rows": null,
            "height": null,
            "justify_content": null,
            "justify_items": null,
            "left": null,
            "margin": null,
            "max_height": null,
            "max_width": null,
            "min_height": null,
            "min_width": null,
            "object_fit": null,
            "object_position": null,
            "order": null,
            "overflow": null,
            "overflow_x": null,
            "overflow_y": null,
            "padding": null,
            "right": null,
            "top": null,
            "visibility": null,
            "width": null
          }
        },
        "59b5c167833141eaa0e787119b77a5fd": {
          "model_module": "@jupyter-widgets/base",
          "model_name": "LayoutModel",
          "model_module_version": "1.2.0",
          "state": {
            "_model_module": "@jupyter-widgets/base",
            "_model_module_version": "1.2.0",
            "_model_name": "LayoutModel",
            "_view_count": null,
            "_view_module": "@jupyter-widgets/base",
            "_view_module_version": "1.2.0",
            "_view_name": "LayoutView",
            "align_content": null,
            "align_items": null,
            "align_self": null,
            "border": null,
            "bottom": null,
            "display": null,
            "flex": null,
            "flex_flow": null,
            "grid_area": null,
            "grid_auto_columns": null,
            "grid_auto_flow": null,
            "grid_auto_rows": null,
            "grid_column": null,
            "grid_gap": null,
            "grid_row": null,
            "grid_template_areas": null,
            "grid_template_columns": null,
            "grid_template_rows": null,
            "height": null,
            "justify_content": null,
            "justify_items": null,
            "left": null,
            "margin": null,
            "max_height": null,
            "max_width": null,
            "min_height": null,
            "min_width": null,
            "object_fit": null,
            "object_position": null,
            "order": null,
            "overflow": null,
            "overflow_x": null,
            "overflow_y": null,
            "padding": null,
            "right": null,
            "top": null,
            "visibility": null,
            "width": null
          }
        },
        "b18e8baaabbd4974b9a0b6eb2b6a72ec": {
          "model_module": "@jupyter-widgets/controls",
          "model_name": "DescriptionStyleModel",
          "model_module_version": "1.5.0",
          "state": {
            "_model_module": "@jupyter-widgets/controls",
            "_model_module_version": "1.5.0",
            "_model_name": "DescriptionStyleModel",
            "_view_count": null,
            "_view_module": "@jupyter-widgets/base",
            "_view_module_version": "1.2.0",
            "_view_name": "StyleView",
            "description_width": ""
          }
        },
        "08332d790f8b4850b14c6d6f2644128c": {
          "model_module": "@jupyter-widgets/base",
          "model_name": "LayoutModel",
          "model_module_version": "1.2.0",
          "state": {
            "_model_module": "@jupyter-widgets/base",
            "_model_module_version": "1.2.0",
            "_model_name": "LayoutModel",
            "_view_count": null,
            "_view_module": "@jupyter-widgets/base",
            "_view_module_version": "1.2.0",
            "_view_name": "LayoutView",
            "align_content": null,
            "align_items": null,
            "align_self": null,
            "border": null,
            "bottom": null,
            "display": null,
            "flex": null,
            "flex_flow": null,
            "grid_area": null,
            "grid_auto_columns": null,
            "grid_auto_flow": null,
            "grid_auto_rows": null,
            "grid_column": null,
            "grid_gap": null,
            "grid_row": null,
            "grid_template_areas": null,
            "grid_template_columns": null,
            "grid_template_rows": null,
            "height": null,
            "justify_content": null,
            "justify_items": null,
            "left": null,
            "margin": null,
            "max_height": null,
            "max_width": null,
            "min_height": null,
            "min_width": null,
            "object_fit": null,
            "object_position": null,
            "order": null,
            "overflow": null,
            "overflow_x": null,
            "overflow_y": null,
            "padding": null,
            "right": null,
            "top": null,
            "visibility": null,
            "width": null
          }
        },
        "7c539f5b9a0a488ea6d8f69c62b9efe7": {
          "model_module": "@jupyter-widgets/controls",
          "model_name": "ProgressStyleModel",
          "model_module_version": "1.5.0",
          "state": {
            "_model_module": "@jupyter-widgets/controls",
            "_model_module_version": "1.5.0",
            "_model_name": "ProgressStyleModel",
            "_view_count": null,
            "_view_module": "@jupyter-widgets/base",
            "_view_module_version": "1.2.0",
            "_view_name": "StyleView",
            "bar_color": null,
            "description_width": ""
          }
        },
        "dee5eb55c27d49f18dc92c78d6e1185c": {
          "model_module": "@jupyter-widgets/base",
          "model_name": "LayoutModel",
          "model_module_version": "1.2.0",
          "state": {
            "_model_module": "@jupyter-widgets/base",
            "_model_module_version": "1.2.0",
            "_model_name": "LayoutModel",
            "_view_count": null,
            "_view_module": "@jupyter-widgets/base",
            "_view_module_version": "1.2.0",
            "_view_name": "LayoutView",
            "align_content": null,
            "align_items": null,
            "align_self": null,
            "border": null,
            "bottom": null,
            "display": null,
            "flex": null,
            "flex_flow": null,
            "grid_area": null,
            "grid_auto_columns": null,
            "grid_auto_flow": null,
            "grid_auto_rows": null,
            "grid_column": null,
            "grid_gap": null,
            "grid_row": null,
            "grid_template_areas": null,
            "grid_template_columns": null,
            "grid_template_rows": null,
            "height": null,
            "justify_content": null,
            "justify_items": null,
            "left": null,
            "margin": null,
            "max_height": null,
            "max_width": null,
            "min_height": null,
            "min_width": null,
            "object_fit": null,
            "object_position": null,
            "order": null,
            "overflow": null,
            "overflow_x": null,
            "overflow_y": null,
            "padding": null,
            "right": null,
            "top": null,
            "visibility": null,
            "width": null
          }
        },
        "dd6a44d726dd4b5e9f77d7510adf90ca": {
          "model_module": "@jupyter-widgets/controls",
          "model_name": "DescriptionStyleModel",
          "model_module_version": "1.5.0",
          "state": {
            "_model_module": "@jupyter-widgets/controls",
            "_model_module_version": "1.5.0",
            "_model_name": "DescriptionStyleModel",
            "_view_count": null,
            "_view_module": "@jupyter-widgets/base",
            "_view_module_version": "1.2.0",
            "_view_name": "StyleView",
            "description_width": ""
          }
        },
        "f6ab86524b4447f78c25e1abab96fa57": {
          "model_module": "@jupyter-widgets/controls",
          "model_name": "HBoxModel",
          "model_module_version": "1.5.0",
          "state": {
            "_dom_classes": [],
            "_model_module": "@jupyter-widgets/controls",
            "_model_module_version": "1.5.0",
            "_model_name": "HBoxModel",
            "_view_count": null,
            "_view_module": "@jupyter-widgets/controls",
            "_view_module_version": "1.5.0",
            "_view_name": "HBoxView",
            "box_style": "",
            "children": [
              "IPY_MODEL_31ccb3586c354d2294718b272d79f4e7",
              "IPY_MODEL_4e8831c2390c48159c2ef069d35b0523",
              "IPY_MODEL_c93e5f43b3b9483a9b03087c9eebb642"
            ],
            "layout": "IPY_MODEL_11506371fed04958927191d3a5514b8a"
          }
        },
        "31ccb3586c354d2294718b272d79f4e7": {
          "model_module": "@jupyter-widgets/controls",
          "model_name": "HTMLModel",
          "model_module_version": "1.5.0",
          "state": {
            "_dom_classes": [],
            "_model_module": "@jupyter-widgets/controls",
            "_model_module_version": "1.5.0",
            "_model_name": "HTMLModel",
            "_view_count": null,
            "_view_module": "@jupyter-widgets/controls",
            "_view_module_version": "1.5.0",
            "_view_name": "HTMLView",
            "description": "",
            "description_tooltip": null,
            "layout": "IPY_MODEL_cbf558254ccb44418fc0d82fc4290a89",
            "placeholder": "​",
            "style": "IPY_MODEL_56ba510676a74ea9801c00c2830fcba6",
            "value": "model-00004-of-00004.safetensors:  49%"
          }
        },
        "4e8831c2390c48159c2ef069d35b0523": {
          "model_module": "@jupyter-widgets/controls",
          "model_name": "FloatProgressModel",
          "model_module_version": "1.5.0",
          "state": {
            "_dom_classes": [],
            "_model_module": "@jupyter-widgets/controls",
            "_model_module_version": "1.5.0",
            "_model_name": "FloatProgressModel",
            "_view_count": null,
            "_view_module": "@jupyter-widgets/controls",
            "_view_module_version": "1.5.0",
            "_view_name": "ProgressView",
            "bar_style": "",
            "description": "",
            "description_tooltip": null,
            "layout": "IPY_MODEL_3c90e57b8977464f938a5ad350988bd5",
            "max": 1168138808,
            "min": 0,
            "orientation": "horizontal",
            "style": "IPY_MODEL_211e427190094c61969c405d3ca2cb87",
            "value": 576716800
          }
        },
        "c93e5f43b3b9483a9b03087c9eebb642": {
          "model_module": "@jupyter-widgets/controls",
          "model_name": "HTMLModel",
          "model_module_version": "1.5.0",
          "state": {
            "_dom_classes": [],
            "_model_module": "@jupyter-widgets/controls",
            "_model_module_version": "1.5.0",
            "_model_name": "HTMLModel",
            "_view_count": null,
            "_view_module": "@jupyter-widgets/controls",
            "_view_module_version": "1.5.0",
            "_view_name": "HTMLView",
            "description": "",
            "description_tooltip": null,
            "layout": "IPY_MODEL_708f7e3f59dd4c2788fa988415aa8607",
            "placeholder": "​",
            "style": "IPY_MODEL_663c9f593e7447448ef2fd4397e3c259",
            "value": " 577M/1.17G [00:08&lt;00:11, 50.6MB/s]"
          }
        },
        "11506371fed04958927191d3a5514b8a": {
          "model_module": "@jupyter-widgets/base",
          "model_name": "LayoutModel",
          "model_module_version": "1.2.0",
          "state": {
            "_model_module": "@jupyter-widgets/base",
            "_model_module_version": "1.2.0",
            "_model_name": "LayoutModel",
            "_view_count": null,
            "_view_module": "@jupyter-widgets/base",
            "_view_module_version": "1.2.0",
            "_view_name": "LayoutView",
            "align_content": null,
            "align_items": null,
            "align_self": null,
            "border": null,
            "bottom": null,
            "display": null,
            "flex": null,
            "flex_flow": null,
            "grid_area": null,
            "grid_auto_columns": null,
            "grid_auto_flow": null,
            "grid_auto_rows": null,
            "grid_column": null,
            "grid_gap": null,
            "grid_row": null,
            "grid_template_areas": null,
            "grid_template_columns": null,
            "grid_template_rows": null,
            "height": null,
            "justify_content": null,
            "justify_items": null,
            "left": null,
            "margin": null,
            "max_height": null,
            "max_width": null,
            "min_height": null,
            "min_width": null,
            "object_fit": null,
            "object_position": null,
            "order": null,
            "overflow": null,
            "overflow_x": null,
            "overflow_y": null,
            "padding": null,
            "right": null,
            "top": null,
            "visibility": null,
            "width": null
          }
        },
        "cbf558254ccb44418fc0d82fc4290a89": {
          "model_module": "@jupyter-widgets/base",
          "model_name": "LayoutModel",
          "model_module_version": "1.2.0",
          "state": {
            "_model_module": "@jupyter-widgets/base",
            "_model_module_version": "1.2.0",
            "_model_name": "LayoutModel",
            "_view_count": null,
            "_view_module": "@jupyter-widgets/base",
            "_view_module_version": "1.2.0",
            "_view_name": "LayoutView",
            "align_content": null,
            "align_items": null,
            "align_self": null,
            "border": null,
            "bottom": null,
            "display": null,
            "flex": null,
            "flex_flow": null,
            "grid_area": null,
            "grid_auto_columns": null,
            "grid_auto_flow": null,
            "grid_auto_rows": null,
            "grid_column": null,
            "grid_gap": null,
            "grid_row": null,
            "grid_template_areas": null,
            "grid_template_columns": null,
            "grid_template_rows": null,
            "height": null,
            "justify_content": null,
            "justify_items": null,
            "left": null,
            "margin": null,
            "max_height": null,
            "max_width": null,
            "min_height": null,
            "min_width": null,
            "object_fit": null,
            "object_position": null,
            "order": null,
            "overflow": null,
            "overflow_x": null,
            "overflow_y": null,
            "padding": null,
            "right": null,
            "top": null,
            "visibility": null,
            "width": null
          }
        },
        "56ba510676a74ea9801c00c2830fcba6": {
          "model_module": "@jupyter-widgets/controls",
          "model_name": "DescriptionStyleModel",
          "model_module_version": "1.5.0",
          "state": {
            "_model_module": "@jupyter-widgets/controls",
            "_model_module_version": "1.5.0",
            "_model_name": "DescriptionStyleModel",
            "_view_count": null,
            "_view_module": "@jupyter-widgets/base",
            "_view_module_version": "1.2.0",
            "_view_name": "StyleView",
            "description_width": ""
          }
        },
        "3c90e57b8977464f938a5ad350988bd5": {
          "model_module": "@jupyter-widgets/base",
          "model_name": "LayoutModel",
          "model_module_version": "1.2.0",
          "state": {
            "_model_module": "@jupyter-widgets/base",
            "_model_module_version": "1.2.0",
            "_model_name": "LayoutModel",
            "_view_count": null,
            "_view_module": "@jupyter-widgets/base",
            "_view_module_version": "1.2.0",
            "_view_name": "LayoutView",
            "align_content": null,
            "align_items": null,
            "align_self": null,
            "border": null,
            "bottom": null,
            "display": null,
            "flex": null,
            "flex_flow": null,
            "grid_area": null,
            "grid_auto_columns": null,
            "grid_auto_flow": null,
            "grid_auto_rows": null,
            "grid_column": null,
            "grid_gap": null,
            "grid_row": null,
            "grid_template_areas": null,
            "grid_template_columns": null,
            "grid_template_rows": null,
            "height": null,
            "justify_content": null,
            "justify_items": null,
            "left": null,
            "margin": null,
            "max_height": null,
            "max_width": null,
            "min_height": null,
            "min_width": null,
            "object_fit": null,
            "object_position": null,
            "order": null,
            "overflow": null,
            "overflow_x": null,
            "overflow_y": null,
            "padding": null,
            "right": null,
            "top": null,
            "visibility": null,
            "width": null
          }
        },
        "211e427190094c61969c405d3ca2cb87": {
          "model_module": "@jupyter-widgets/controls",
          "model_name": "ProgressStyleModel",
          "model_module_version": "1.5.0",
          "state": {
            "_model_module": "@jupyter-widgets/controls",
            "_model_module_version": "1.5.0",
            "_model_name": "ProgressStyleModel",
            "_view_count": null,
            "_view_module": "@jupyter-widgets/base",
            "_view_module_version": "1.2.0",
            "_view_name": "StyleView",
            "bar_color": null,
            "description_width": ""
          }
        },
        "708f7e3f59dd4c2788fa988415aa8607": {
          "model_module": "@jupyter-widgets/base",
          "model_name": "LayoutModel",
          "model_module_version": "1.2.0",
          "state": {
            "_model_module": "@jupyter-widgets/base",
            "_model_module_version": "1.2.0",
            "_model_name": "LayoutModel",
            "_view_count": null,
            "_view_module": "@jupyter-widgets/base",
            "_view_module_version": "1.2.0",
            "_view_name": "LayoutView",
            "align_content": null,
            "align_items": null,
            "align_self": null,
            "border": null,
            "bottom": null,
            "display": null,
            "flex": null,
            "flex_flow": null,
            "grid_area": null,
            "grid_auto_columns": null,
            "grid_auto_flow": null,
            "grid_auto_rows": null,
            "grid_column": null,
            "grid_gap": null,
            "grid_row": null,
            "grid_template_areas": null,
            "grid_template_columns": null,
            "grid_template_rows": null,
            "height": null,
            "justify_content": null,
            "justify_items": null,
            "left": null,
            "margin": null,
            "max_height": null,
            "max_width": null,
            "min_height": null,
            "min_width": null,
            "object_fit": null,
            "object_position": null,
            "order": null,
            "overflow": null,
            "overflow_x": null,
            "overflow_y": null,
            "padding": null,
            "right": null,
            "top": null,
            "visibility": null,
            "width": null
          }
        },
        "663c9f593e7447448ef2fd4397e3c259": {
          "model_module": "@jupyter-widgets/controls",
          "model_name": "DescriptionStyleModel",
          "model_module_version": "1.5.0",
          "state": {
            "_model_module": "@jupyter-widgets/controls",
            "_model_module_version": "1.5.0",
            "_model_name": "DescriptionStyleModel",
            "_view_count": null,
            "_view_module": "@jupyter-widgets/base",
            "_view_module_version": "1.2.0",
            "_view_name": "StyleView",
            "description_width": ""
          }
        },
        "72f1a0a541644216a3d79f84ea8bddc4": {
          "model_module": "@jupyter-widgets/controls",
          "model_name": "HBoxModel",
          "model_module_version": "1.5.0",
          "state": {
            "_dom_classes": [],
            "_model_module": "@jupyter-widgets/controls",
            "_model_module_version": "1.5.0",
            "_model_name": "HBoxModel",
            "_view_count": null,
            "_view_module": "@jupyter-widgets/controls",
            "_view_module_version": "1.5.0",
            "_view_name": "HBoxView",
            "box_style": "",
            "children": [
              "IPY_MODEL_3c485db35a6c4f07871e9213d2494144",
              "IPY_MODEL_bd0f547765d348598aa03107dc22fd75",
              "IPY_MODEL_2d81a3a2a3e24de189060b76fa0e5b7d"
            ],
            "layout": "IPY_MODEL_bb70b2d2936b4ee58c606c4797bc0938"
          }
        },
        "3c485db35a6c4f07871e9213d2494144": {
          "model_module": "@jupyter-widgets/controls",
          "model_name": "HTMLModel",
          "model_module_version": "1.5.0",
          "state": {
            "_dom_classes": [],
            "_model_module": "@jupyter-widgets/controls",
            "_model_module_version": "1.5.0",
            "_model_name": "HTMLModel",
            "_view_count": null,
            "_view_module": "@jupyter-widgets/controls",
            "_view_module_version": "1.5.0",
            "_view_name": "HTMLView",
            "description": "",
            "description_tooltip": null,
            "layout": "IPY_MODEL_6391ab3075414bbda1ddefc61f4589bc",
            "placeholder": "​",
            "style": "IPY_MODEL_f99d698f158d4c26bb343785c9b6a731",
            "value": "generation_config.json: 100%"
          }
        },
        "bd0f547765d348598aa03107dc22fd75": {
          "model_module": "@jupyter-widgets/controls",
          "model_name": "FloatProgressModel",
          "model_module_version": "1.5.0",
          "state": {
            "_dom_classes": [],
            "_model_module": "@jupyter-widgets/controls",
            "_model_module_version": "1.5.0",
            "_model_name": "FloatProgressModel",
            "_view_count": null,
            "_view_module": "@jupyter-widgets/controls",
            "_view_module_version": "1.5.0",
            "_view_name": "ProgressView",
            "bar_style": "success",
            "description": "",
            "description_tooltip": null,
            "layout": "IPY_MODEL_ec82c8c84e5d44808995427edb9c15e2",
            "max": 177,
            "min": 0,
            "orientation": "horizontal",
            "style": "IPY_MODEL_692e05b773a844c48740528cf51e4eaf",
            "value": 177
          }
        },
        "2d81a3a2a3e24de189060b76fa0e5b7d": {
          "model_module": "@jupyter-widgets/controls",
          "model_name": "HTMLModel",
          "model_module_version": "1.5.0",
          "state": {
            "_dom_classes": [],
            "_model_module": "@jupyter-widgets/controls",
            "_model_module_version": "1.5.0",
            "_model_name": "HTMLModel",
            "_view_count": null,
            "_view_module": "@jupyter-widgets/controls",
            "_view_module_version": "1.5.0",
            "_view_name": "HTMLView",
            "description": "",
            "description_tooltip": null,
            "layout": "IPY_MODEL_6c90056eaca447dfae352f16a869fbed",
            "placeholder": "​",
            "style": "IPY_MODEL_5a8b6cf1209941ca8bd0dc199464b824",
            "value": " 177/177 [00:00&lt;00:00, 13.3kB/s]"
          }
        },
        "bb70b2d2936b4ee58c606c4797bc0938": {
          "model_module": "@jupyter-widgets/base",
          "model_name": "LayoutModel",
          "model_module_version": "1.2.0",
          "state": {
            "_model_module": "@jupyter-widgets/base",
            "_model_module_version": "1.2.0",
            "_model_name": "LayoutModel",
            "_view_count": null,
            "_view_module": "@jupyter-widgets/base",
            "_view_module_version": "1.2.0",
            "_view_name": "LayoutView",
            "align_content": null,
            "align_items": null,
            "align_self": null,
            "border": null,
            "bottom": null,
            "display": null,
            "flex": null,
            "flex_flow": null,
            "grid_area": null,
            "grid_auto_columns": null,
            "grid_auto_flow": null,
            "grid_auto_rows": null,
            "grid_column": null,
            "grid_gap": null,
            "grid_row": null,
            "grid_template_areas": null,
            "grid_template_columns": null,
            "grid_template_rows": null,
            "height": null,
            "justify_content": null,
            "justify_items": null,
            "left": null,
            "margin": null,
            "max_height": null,
            "max_width": null,
            "min_height": null,
            "min_width": null,
            "object_fit": null,
            "object_position": null,
            "order": null,
            "overflow": null,
            "overflow_x": null,
            "overflow_y": null,
            "padding": null,
            "right": null,
            "top": null,
            "visibility": null,
            "width": null
          }
        },
        "6391ab3075414bbda1ddefc61f4589bc": {
          "model_module": "@jupyter-widgets/base",
          "model_name": "LayoutModel",
          "model_module_version": "1.2.0",
          "state": {
            "_model_module": "@jupyter-widgets/base",
            "_model_module_version": "1.2.0",
            "_model_name": "LayoutModel",
            "_view_count": null,
            "_view_module": "@jupyter-widgets/base",
            "_view_module_version": "1.2.0",
            "_view_name": "LayoutView",
            "align_content": null,
            "align_items": null,
            "align_self": null,
            "border": null,
            "bottom": null,
            "display": null,
            "flex": null,
            "flex_flow": null,
            "grid_area": null,
            "grid_auto_columns": null,
            "grid_auto_flow": null,
            "grid_auto_rows": null,
            "grid_column": null,
            "grid_gap": null,
            "grid_row": null,
            "grid_template_areas": null,
            "grid_template_columns": null,
            "grid_template_rows": null,
            "height": null,
            "justify_content": null,
            "justify_items": null,
            "left": null,
            "margin": null,
            "max_height": null,
            "max_width": null,
            "min_height": null,
            "min_width": null,
            "object_fit": null,
            "object_position": null,
            "order": null,
            "overflow": null,
            "overflow_x": null,
            "overflow_y": null,
            "padding": null,
            "right": null,
            "top": null,
            "visibility": null,
            "width": null
          }
        },
        "f99d698f158d4c26bb343785c9b6a731": {
          "model_module": "@jupyter-widgets/controls",
          "model_name": "DescriptionStyleModel",
          "model_module_version": "1.5.0",
          "state": {
            "_model_module": "@jupyter-widgets/controls",
            "_model_module_version": "1.5.0",
            "_model_name": "DescriptionStyleModel",
            "_view_count": null,
            "_view_module": "@jupyter-widgets/base",
            "_view_module_version": "1.2.0",
            "_view_name": "StyleView",
            "description_width": ""
          }
        },
        "ec82c8c84e5d44808995427edb9c15e2": {
          "model_module": "@jupyter-widgets/base",
          "model_name": "LayoutModel",
          "model_module_version": "1.2.0",
          "state": {
            "_model_module": "@jupyter-widgets/base",
            "_model_module_version": "1.2.0",
            "_model_name": "LayoutModel",
            "_view_count": null,
            "_view_module": "@jupyter-widgets/base",
            "_view_module_version": "1.2.0",
            "_view_name": "LayoutView",
            "align_content": null,
            "align_items": null,
            "align_self": null,
            "border": null,
            "bottom": null,
            "display": null,
            "flex": null,
            "flex_flow": null,
            "grid_area": null,
            "grid_auto_columns": null,
            "grid_auto_flow": null,
            "grid_auto_rows": null,
            "grid_column": null,
            "grid_gap": null,
            "grid_row": null,
            "grid_template_areas": null,
            "grid_template_columns": null,
            "grid_template_rows": null,
            "height": null,
            "justify_content": null,
            "justify_items": null,
            "left": null,
            "margin": null,
            "max_height": null,
            "max_width": null,
            "min_height": null,
            "min_width": null,
            "object_fit": null,
            "object_position": null,
            "order": null,
            "overflow": null,
            "overflow_x": null,
            "overflow_y": null,
            "padding": null,
            "right": null,
            "top": null,
            "visibility": null,
            "width": null
          }
        },
        "692e05b773a844c48740528cf51e4eaf": {
          "model_module": "@jupyter-widgets/controls",
          "model_name": "ProgressStyleModel",
          "model_module_version": "1.5.0",
          "state": {
            "_model_module": "@jupyter-widgets/controls",
            "_model_module_version": "1.5.0",
            "_model_name": "ProgressStyleModel",
            "_view_count": null,
            "_view_module": "@jupyter-widgets/base",
            "_view_module_version": "1.2.0",
            "_view_name": "StyleView",
            "bar_color": null,
            "description_width": ""
          }
        },
        "6c90056eaca447dfae352f16a869fbed": {
          "model_module": "@jupyter-widgets/base",
          "model_name": "LayoutModel",
          "model_module_version": "1.2.0",
          "state": {
            "_model_module": "@jupyter-widgets/base",
            "_model_module_version": "1.2.0",
            "_model_name": "LayoutModel",
            "_view_count": null,
            "_view_module": "@jupyter-widgets/base",
            "_view_module_version": "1.2.0",
            "_view_name": "LayoutView",
            "align_content": null,
            "align_items": null,
            "align_self": null,
            "border": null,
            "bottom": null,
            "display": null,
            "flex": null,
            "flex_flow": null,
            "grid_area": null,
            "grid_auto_columns": null,
            "grid_auto_flow": null,
            "grid_auto_rows": null,
            "grid_column": null,
            "grid_gap": null,
            "grid_row": null,
            "grid_template_areas": null,
            "grid_template_columns": null,
            "grid_template_rows": null,
            "height": null,
            "justify_content": null,
            "justify_items": null,
            "left": null,
            "margin": null,
            "max_height": null,
            "max_width": null,
            "min_height": null,
            "min_width": null,
            "object_fit": null,
            "object_position": null,
            "order": null,
            "overflow": null,
            "overflow_x": null,
            "overflow_y": null,
            "padding": null,
            "right": null,
            "top": null,
            "visibility": null,
            "width": null
          }
        },
        "5a8b6cf1209941ca8bd0dc199464b824": {
          "model_module": "@jupyter-widgets/controls",
          "model_name": "DescriptionStyleModel",
          "model_module_version": "1.5.0",
          "state": {
            "_model_module": "@jupyter-widgets/controls",
            "_model_module_version": "1.5.0",
            "_model_name": "DescriptionStyleModel",
            "_view_count": null,
            "_view_module": "@jupyter-widgets/base",
            "_view_module_version": "1.2.0",
            "_view_name": "StyleView",
            "description_width": ""
          }
        }
      }
    }
  },
  "cells": [
    {
      "cell_type": "code",
      "source": [
        "!pip install pandas\n",
        "!pip install scikit-learn\n",
        "\n",
        "!pip install bitsandbytes\n",
        "!pip install accelerate\n",
        "\n",
        "import torch"
      ],
      "metadata": {
        "colab": {
          "base_uri": "https://localhost:8080/"
        },
        "id": "0CQEijbowISJ",
        "outputId": "67b13957-ea86-472e-8884-c0ab0f28eee8"
      },
      "execution_count": 1,
      "outputs": [
        {
          "output_type": "stream",
          "name": "stdout",
          "text": [
            "Requirement already satisfied: pandas in /usr/local/lib/python3.10/dist-packages (2.2.2)\n",
            "Requirement already satisfied: numpy>=1.22.4 in /usr/local/lib/python3.10/dist-packages (from pandas) (1.26.4)\n",
            "Requirement already satisfied: python-dateutil>=2.8.2 in /usr/local/lib/python3.10/dist-packages (from pandas) (2.8.2)\n",
            "Requirement already satisfied: pytz>=2020.1 in /usr/local/lib/python3.10/dist-packages (from pandas) (2024.2)\n",
            "Requirement already satisfied: tzdata>=2022.7 in /usr/local/lib/python3.10/dist-packages (from pandas) (2024.2)\n",
            "Requirement already satisfied: six>=1.5 in /usr/local/lib/python3.10/dist-packages (from python-dateutil>=2.8.2->pandas) (1.16.0)\n",
            "Requirement already satisfied: scikit-learn in /usr/local/lib/python3.10/dist-packages (1.5.2)\n",
            "Requirement already satisfied: numpy>=1.19.5 in /usr/local/lib/python3.10/dist-packages (from scikit-learn) (1.26.4)\n",
            "Requirement already satisfied: scipy>=1.6.0 in /usr/local/lib/python3.10/dist-packages (from scikit-learn) (1.13.1)\n",
            "Requirement already satisfied: joblib>=1.2.0 in /usr/local/lib/python3.10/dist-packages (from scikit-learn) (1.4.2)\n",
            "Requirement already satisfied: threadpoolctl>=3.1.0 in /usr/local/lib/python3.10/dist-packages (from scikit-learn) (3.5.0)\n"
          ]
        }
      ]
    },
    {
      "cell_type": "code",
      "source": [
        "import warnings\n",
        "warnings.filterwarnings(\"ignore\")"
      ],
      "metadata": {
        "id": "VjZt2co5JUI1"
      },
      "execution_count": 134,
      "outputs": []
    },
    {
      "cell_type": "code",
      "source": [
        "# ekperimentas 1\n",
        "# llama3 modelis geras lietuviu kalbai\n",
        "# suskaiciuoti tikslumas, darant klasifikacija\n",
        "# use prompts/instrukcija\n",
        "https://www.kaggle.com/code/lucamassaron/fine-tune-llama-3-for-sentiment-analysis\n",
        "# modelio pacio nekeiciam ir nemokinam, tsg jam duodam duomenis ir jis klasifikuoja kaip moka\n",
        "\n",
        "# ekperimentas 2\n",
        "# transfer learning arba fine-tuning\n",
        "https://huggingface.co/docs/transformers/tasks/sequence_classification\n",
        "# cia vyks mokymas\n",
        "\n",
        "# galesim palygint situos 2 atvejus ir palygint ju statistikas, pvz tikslumas, F1 ir t.t.\n",
        "\n",
        "# ekperimentas 3\n",
        "# gebetu identifikuot kur yra konkretus fta pastraipoje\n",
        "# rodyti indeksus kur prasidejo ir baigesi, jeigu nfta tai 0, 0\n",
        "# reiks keist exceli, kad rodyt pradzios intervala ir pabaigos\n",
        "\n",
        "# ekperimentas 4\n",
        "# naudot lietuviska llama2 kuris jau pamokytas lietuviu kalbai\n",
        "# ..."
      ],
      "metadata": {
        "id": "P2xgMbbXizew"
      },
      "execution_count": null,
      "outputs": []
    },
    {
      "cell_type": "code",
      "execution_count": 2,
      "metadata": {
        "id": "H-u4uI7Cn1s3"
      },
      "outputs": [],
      "source": [
        "import pandas as pd\n",
        "from sklearn.model_selection import train_test_split\n",
        "\n",
        "file_path = 'FTA_dataset.xlsx'\n",
        "sheet1 = pd.read_excel(file_path, sheet_name='FTA', header=None)\n",
        "sheet2 = pd.read_excel(file_path, sheet_name='NFTA', header=None)\n",
        "\n",
        "sheet1.columns = ['paragraph']\n",
        "sheet2.columns = ['paragraph']\n",
        "sheet1['fta'] = 1\n",
        "sheet2['fta'] = 0\n",
        "\n",
        "data = pd.concat([sheet1, sheet2], ignore_index=True)\n",
        "\n",
        "# Shuffle the data\n",
        "# sample() - randomly select data\n",
        "# frac=1 - select 100% of data\n",
        "# After shuffling, the original index of the DataFrame is no longer in order\n",
        "# reset_index(drop=True) is used to reset the index to a new sequential order.\n",
        "# drop=True - discards the old index\n",
        "data = data.sample(frac=1).reset_index(drop=True)\n",
        "\n",
        "# training (70%), validation (10%), and test (20%)\n",
        "# saugoti juos i excel failus just in case kitiem ekperimentams !\n",
        "train, temp = train_test_split(data, test_size=0.3, random_state=42)\n",
        "val, test = train_test_split(temp, test_size=(2/3), random_state=42)"
      ]
    },
    {
      "cell_type": "markdown",
      "source": [
        "Eksperimentas 1"
      ],
      "metadata": {
        "id": "g-f5WQ8mUocM"
      }
    },
    {
      "cell_type": "code",
      "source": [
        "y_true = test[\"fta\"].tolist()"
      ],
      "metadata": {
        "id": "6myAGMAd_vSM"
      },
      "execution_count": 72,
      "outputs": []
    },
    {
      "cell_type": "code",
      "source": [
        "device = torch.device(\"cuda:0\" if torch.cuda.is_available() else \"cpu\")"
      ],
      "metadata": {
        "id": "EpuipiLAwnWQ"
      },
      "execution_count": 4,
      "outputs": []
    },
    {
      "cell_type": "code",
      "source": [
        "from transformers import AutoTokenizer, AutoModelForCausalLM, pipeline\n",
        "\n",
        "tokenizer = AutoTokenizer.from_pretrained(\"Undi95/Meta-Llama-3-8B-hf\")\n",
        "model = AutoModelForCausalLM.from_pretrained(\"Undi95/Meta-Llama-3-8B-hf\",\n",
        "                                             load_in_8bit=True,\n",
        "                                             device_map=\"auto\")"
      ],
      "metadata": {
        "id": "iBsRBsF2sctO",
        "colab": {
          "base_uri": "https://localhost:8080/",
          "height": 528,
          "referenced_widgets": [
            "295ef7b1b4e34d48819aa58efbe52934",
            "8120a6bbc4b54fb397890c7e8f1df227",
            "4b461621733845169fe90eedaa467ffe",
            "9e1cb061e4e049d6aaec5383543dc4ad",
            "e396d76576834a66b5f888a1f3cb021e",
            "53c834d74dee495ca8bf03726191135a",
            "f83f21c843fc41a0ab15bc71dda7fa22",
            "1487195d4de54a6bbb42697bdc987265",
            "2aaf6571630f42c68c0816f77eb14e09",
            "399f62430a114776b08cb7e0bac4a646",
            "cc86d82366404024a72c616f33006f1b",
            "156d78a7f1314b9b8f5b80ab79e85abc",
            "e1efaf07e67c46c1b6091d1af86d6674",
            "2bd75d35fc20464ab6ec3f68b9d47c39",
            "b33c04bda9c04942964bbdf648d1072d",
            "b3561988e90f4922b9393bd6d3d2ee26",
            "142efa78a5e04bf4b6ec226d7e7b4e81",
            "f1d512a1fb064166b80aa3b516e379fd",
            "5772f713f6cf4ba6a742cc5cef1b4ef8",
            "82d0c8d77ad446758b91f3be3df7c977",
            "f57e9cdd27bc4372977e151cf6619f92",
            "d8550d5df2b34ee899be085e498bc1d4",
            "25b17b2e3e584a2093d371c1e9a82a78",
            "d7b6d41806684ab0884c763dbcf3fad6",
            "36f1a2b8819c444c9b530d7e39c5ab4f",
            "a46df09038474b4cb7c5f6e7b79a826d",
            "8e3ca9fa9d2f4e6caf0c9a6620dafa99",
            "03f20098e94a41a0a88b6730a9b9bab0",
            "35dd02aa81a64a2b9b5948f26131b0de",
            "c323eee404f54ef59fd980cb0b7b9b00",
            "8a24c6f68a6a45c8a534b36e53e47386",
            "30d6517989824e19a230376a428143bd",
            "afa84a5635d54d28a1af9b5278fe18b5",
            "df97fea1b9ca46e792fe87a811d78ddf",
            "4af56b4e36ea492199dea92aeeb5c12a",
            "47b0dda9e22d4712af07308cf1a5453b",
            "1147855512544b7c895dbe2578a654de",
            "74b81188730943489d3dedc68c30938e",
            "b0826b2078a34149ab32a60751347c2d",
            "4a2fff512f54443d8cd9b51d68fb266f",
            "829f77596b544afdb6ce3f540a7e80b4",
            "d59ddef43d2c49fe8d775bf04a99f196",
            "60d603fcbc8545cdb840ea4cbb4f24ed",
            "0513fc418c964936b5b0971fa73aa2a6",
            "58e073d9fc614915bd72e0d1ceac086b",
            "a68fbbbe054c4daf957f3f940438437a",
            "d16c8e48fcf940439e3081561b5ee58e",
            "b90a98c862734f75a107757af9602acf",
            "097c05068a564af18d0044c30ba349c1",
            "8d0c9ed9bb08451ea1397e1874ecef94",
            "7b86847a4b1f46cc831b05968cbd914e",
            "68f8ee1ba2424722943d150c0c5c3505",
            "361eac428da8489c934dbb9710737880",
            "1a84614f6f884d86a20a9fc07620962b",
            "862725e798414909b9974d59a44b67cf",
            "b9ffa6083c334f3eab14e80ae513a434",
            "fad6a39ff36a42ea88bffa1b644fe37f",
            "356fa7c82c884a9596b8ef941b8c6181",
            "181370bd68ea461493bf73c02e85ab9b",
            "a6d8ca9c105348bfb87cc8e128e27a40",
            "f9b2f8033e07439598dbdff03593fa10",
            "3cf9b414371547dea6ff3e56cb86f39f",
            "83c1b777842847d284e359e872c4b6ff",
            "5b08d526e3f44d658ac7971573f14798",
            "47281473d3a042cab5592da726860d28",
            "9659c645c88642639ebd7bfc4e39b444",
            "5ab7b597344c474180150c63472d7297",
            "5788580999be4c7194b32685754c9a5e",
            "1042ee0388744d7e9c9d076f254c5631",
            "1bf26ff4b7dd429cab0f3566c5dea0ce",
            "cd9d6f27a3014ecdbc1c821902d0ce27",
            "0423ea306602489d9700ccdfc946e6d6",
            "a3e16fe95f124cb59d11efd2ab5d3d8f",
            "52a7d73f79d44efdb1efe8d3507458da",
            "fe6af53fe5464614beb4dce1af7d9ba5",
            "4a2d56a04b70477f96f08fe3b8055abd",
            "87c9873a8c4940cb9b17435c6246e703",
            "b8e4eadb205f4cef9d61f9e58c0d0327",
            "d0efa74f5143472d8211f24f238154eb",
            "b8fc86754dab474aa0bb24c9d56585c9",
            "a271eae963c744068ed6593b20a45d50",
            "fc8085afcc7a462381177af47eb96f49",
            "a307efc3820941a3aa48f2d9cbea8ce6",
            "92024551e5bd4ac0a54f1a79c050c99b",
            "9f7d8fed77844732af3f5ef530843372",
            "49186eb8984c4fe7b4d18699774e2702",
            "6b2b4bee1f5644d9ab54a641f6179f9b",
            "b395f09fc0e0441aa52c52f7b29a3100",
            "883f17f7a84e4497a0d495fee3ba8d66",
            "66bfef519798405b9a94e7d67e975d7f",
            "20829487fe6e4ad49d6409ac1447ac74",
            "32cf75c1536e4739a143adef602480ea",
            "67f297298b64486f9b9f4bb9af18697d",
            "59b5c167833141eaa0e787119b77a5fd",
            "b18e8baaabbd4974b9a0b6eb2b6a72ec",
            "08332d790f8b4850b14c6d6f2644128c",
            "7c539f5b9a0a488ea6d8f69c62b9efe7",
            "dee5eb55c27d49f18dc92c78d6e1185c",
            "dd6a44d726dd4b5e9f77d7510adf90ca",
            "f6ab86524b4447f78c25e1abab96fa57",
            "31ccb3586c354d2294718b272d79f4e7",
            "4e8831c2390c48159c2ef069d35b0523",
            "c93e5f43b3b9483a9b03087c9eebb642",
            "11506371fed04958927191d3a5514b8a",
            "cbf558254ccb44418fc0d82fc4290a89",
            "56ba510676a74ea9801c00c2830fcba6",
            "3c90e57b8977464f938a5ad350988bd5",
            "211e427190094c61969c405d3ca2cb87",
            "708f7e3f59dd4c2788fa988415aa8607",
            "663c9f593e7447448ef2fd4397e3c259",
            "bc9000541b8441e2bef582d54a961a5c",
            "72f1a0a541644216a3d79f84ea8bddc4",
            "3c485db35a6c4f07871e9213d2494144",
            "bd0f547765d348598aa03107dc22fd75",
            "2d81a3a2a3e24de189060b76fa0e5b7d",
            "bb70b2d2936b4ee58c606c4797bc0938",
            "6391ab3075414bbda1ddefc61f4589bc",
            "f99d698f158d4c26bb343785c9b6a731",
            "ec82c8c84e5d44808995427edb9c15e2",
            "692e05b773a844c48740528cf51e4eaf",
            "6c90056eaca447dfae352f16a869fbed",
            "5a8b6cf1209941ca8bd0dc199464b824"
          ]
        },
        "outputId": "b9452ff7-8058-4856-dde7-8ba8d2aa6382"
      },
      "execution_count": 6,
      "outputs": [
        {
          "metadata": {
            "tags": null
          },
          "name": "stderr",
          "output_type": "stream",
          "text": [
            "/usr/local/lib/python3.10/dist-packages/huggingface_hub/utils/_token.py:89: UserWarning: \n",
            "The secret `HF_TOKEN` does not exist in your Colab secrets.\n",
            "To authenticate with the Hugging Face Hub, create a token in your settings tab (https://huggingface.co/settings/tokens), set it as secret in your Google Colab and restart your session.\n",
            "You will be able to reuse this secret in all of your notebooks.\n",
            "Please note that authentication is recommended but still optional to access public models or datasets.\n",
            "  warnings.warn(\n"
          ]
        },
        {
          "data": {
            "application/vnd.jupyter.widget-view+json": {
              "model_id": "295ef7b1b4e34d48819aa58efbe52934",
              "version_major": 2,
              "version_minor": 0
            },
            "text/plain": [
              "tokenizer_config.json:   0%|          | 0.00/50.9k [00:00<?, ?B/s]"
            ]
          },
          "metadata": {},
          "output_type": "display_data"
        },
        {
          "data": {
            "application/vnd.jupyter.widget-view+json": {
              "model_id": "156d78a7f1314b9b8f5b80ab79e85abc",
              "version_major": 2,
              "version_minor": 0
            },
            "text/plain": [
              "tokenizer.json:   0%|          | 0.00/9.09M [00:00<?, ?B/s]"
            ]
          },
          "metadata": {},
          "output_type": "display_data"
        },
        {
          "data": {
            "application/vnd.jupyter.widget-view+json": {
              "model_id": "25b17b2e3e584a2093d371c1e9a82a78",
              "version_major": 2,
              "version_minor": 0
            },
            "text/plain": [
              "special_tokens_map.json:   0%|          | 0.00/73.0 [00:00<?, ?B/s]"
            ]
          },
          "metadata": {},
          "output_type": "display_data"
        },
        {
          "data": {
            "application/vnd.jupyter.widget-view+json": {
              "model_id": "df97fea1b9ca46e792fe87a811d78ddf",
              "version_major": 2,
              "version_minor": 0
            },
            "text/plain": [
              "config.json:   0%|          | 0.00/654 [00:00<?, ?B/s]"
            ]
          },
          "metadata": {},
          "output_type": "display_data"
        },
        {
          "metadata": {
            "tags": null
          },
          "name": "stderr",
          "output_type": "stream",
          "text": [
            "The `load_in_4bit` and `load_in_8bit` arguments are deprecated and will be removed in the future versions. Please, pass a `BitsAndBytesConfig` object in `quantization_config` argument instead.\n"
          ]
        },
        {
          "data": {
            "application/vnd.jupyter.widget-view+json": {
              "model_id": "58e073d9fc614915bd72e0d1ceac086b",
              "version_major": 2,
              "version_minor": 0
            },
            "text/plain": [
              "model.safetensors.index.json:   0%|          | 0.00/23.9k [00:00<?, ?B/s]"
            ]
          },
          "metadata": {},
          "output_type": "display_data"
        },
        {
          "data": {
            "application/vnd.jupyter.widget-view+json": {
              "model_id": "b9ffa6083c334f3eab14e80ae513a434",
              "version_major": 2,
              "version_minor": 0
            },
            "text/plain": [
              "Downloading shards:   0%|          | 0/4 [00:00<?, ?it/s]"
            ]
          },
          "metadata": {},
          "output_type": "display_data"
        },
        {
          "data": {
            "application/vnd.jupyter.widget-view+json": {
              "model_id": "5ab7b597344c474180150c63472d7297",
              "version_major": 2,
              "version_minor": 0
            },
            "text/plain": [
              "model-00001-of-00004.safetensors:   0%|          | 0.00/4.98G [00:00<?, ?B/s]"
            ]
          },
          "metadata": {},
          "output_type": "display_data"
        },
        {
          "data": {
            "application/vnd.jupyter.widget-view+json": {
              "model_id": "b8e4eadb205f4cef9d61f9e58c0d0327",
              "version_major": 2,
              "version_minor": 0
            },
            "text/plain": [
              "model-00002-of-00004.safetensors:   0%|          | 0.00/5.00G [00:00<?, ?B/s]"
            ]
          },
          "metadata": {},
          "output_type": "display_data"
        },
        {
          "data": {
            "application/vnd.jupyter.widget-view+json": {
              "model_id": "883f17f7a84e4497a0d495fee3ba8d66",
              "version_major": 2,
              "version_minor": 0
            },
            "text/plain": [
              "model-00003-of-00004.safetensors:   0%|          | 0.00/4.92G [00:00<?, ?B/s]"
            ]
          },
          "metadata": {},
          "output_type": "display_data"
        },
        {
          "data": {
            "application/vnd.jupyter.widget-view+json": {
              "model_id": "f6ab86524b4447f78c25e1abab96fa57",
              "version_major": 2,
              "version_minor": 0
            },
            "text/plain": [
              "model-00004-of-00004.safetensors:   0%|          | 0.00/1.17G [00:00<?, ?B/s]"
            ]
          },
          "metadata": {},
          "output_type": "display_data"
        },
        {
          "data": {
            "application/vnd.jupyter.widget-view+json": {
              "model_id": "bc9000541b8441e2bef582d54a961a5c",
              "version_major": 2,
              "version_minor": 0
            },
            "text/plain": [
              "Loading checkpoint shards:   0%|          | 0/4 [00:00<?, ?it/s]"
            ]
          },
          "metadata": {},
          "output_type": "display_data"
        },
        {
          "output_type": "display_data",
          "data": {
            "text/plain": [
              "generation_config.json:   0%|          | 0.00/177 [00:00<?, ?B/s]"
            ],
            "application/vnd.jupyter.widget-view+json": {
              "version_major": 2,
              "version_minor": 0,
              "model_id": "72f1a0a541644216a3d79f84ea8bddc4"
            }
          },
          "metadata": {}
        }
      ]
    },
    {
      "cell_type": "code",
      "source": [
        "def generate_prompt(data_point):\n",
        "    return f\"\"\"\n",
        "            Sociolingvistikos srityje Veido Grasinantis Veiksmas (VGV) yra komunikacinis veiksmas, kuris kelia grėsmę kalbėtojo ar klausytojo socialinei tapatybei ir savivertės jausmui.\n",
        "            Pavyzdžiai VGV yra įžeidimai, pertraukimai ir kritika.\n",
        "            Išanalizuokite šį naujienų tekstą ir atsakykite, ar jame yra Veido Grasinantis Veiksmas (VGV).\n",
        "            Atsakykite „1“ už „taip“ arba „0“ už „ne“.\n",
        "\n",
        "            [{data_point[\"paragraph\"]}] = \"\"\""
      ],
      "metadata": {
        "id": "fRX2GkBYDJ8A"
      },
      "execution_count": 127,
      "outputs": []
    },
    {
      "cell_type": "code",
      "source": [
        "X_test = pd.DataFrame(test.apply(generate_prompt, axis=1), columns=[\"paragraph\"])"
      ],
      "metadata": {
        "id": "SPi691YI6Q_y"
      },
      "execution_count": 128,
      "outputs": []
    },
    {
      "cell_type": "code",
      "source": [
        "from tqdm import tqdm\n",
        "\n",
        "def predict(model, tokenizer):\n",
        "    y_pred = []\n",
        "    pipe = pipeline(task=\"text-generation\",\n",
        "                model=model,\n",
        "                tokenizer=tokenizer,\n",
        "                max_new_tokens = 1,\n",
        "                do_sample=False\n",
        "                )\n",
        "    for i in tqdm(range(len(X_test))):\n",
        "        prompt = X_test.iloc[i][\"paragraph\"]\n",
        "        result = pipe(prompt)\n",
        "        answer = result[0]['generated_text'].split(\"=\")[-1]\n",
        "        print(\"prompt: \", prompt)\n",
        "        print(\"answer: \", answer)\n",
        "        if \"1\" in answer:\n",
        "            y_pred.append(1)\n",
        "        elif \"0\" in answer:\n",
        "             y_pred.append(0)\n",
        "        else:\n",
        "            y_pred.append(-1)\n",
        "    return y_pred"
      ],
      "metadata": {
        "id": "bf1esbXoDw9S"
      },
      "execution_count": 129,
      "outputs": []
    },
    {
      "cell_type": "code",
      "source": [
        "y_pred = predict(model, tokenizer)"
      ],
      "metadata": {
        "colab": {
          "base_uri": "https://localhost:8080/"
        },
        "id": "kh0rz_xsGM9l",
        "outputId": "d9bdc0b4-67bd-4733-9b07-83443055b7c1"
      },
      "execution_count": 130,
      "outputs": [
        {
          "output_type": "stream",
          "name": "stderr",
          "text": [
            "\r  0%|          | 0/143 [00:00<?, ?it/s]/usr/local/lib/python3.10/dist-packages/transformers/generation/configuration_utils.py:567: UserWarning: `do_sample` is set to `False`. However, `temperature` is set to `0.6` -- this flag is only used in sample-based generation modes. You should set `do_sample=True` or unset `temperature`.\n",
            "  warnings.warn(\n",
            "/usr/local/lib/python3.10/dist-packages/transformers/generation/configuration_utils.py:572: UserWarning: `do_sample` is set to `False`. However, `top_p` is set to `0.9` -- this flag is only used in sample-based generation modes. You should set `do_sample=True` or unset `top_p`.\n",
            "  warnings.warn(\n",
            "Setting `pad_token_id` to `eos_token_id`:128001 for open-end generation.\n",
            "  1%|          | 1/143 [00:00<01:35,  1.48it/s]Setting `pad_token_id` to `eos_token_id`:128001 for open-end generation.\n"
          ]
        },
        {
          "output_type": "stream",
          "name": "stdout",
          "text": [
            "prompt:  \n",
            "            Sociolingvistikos srityje Veido Grasinantis Veiksmas (VGV) yra komunikacinis veiksmas, kuris kelia grėsmę kalbėtojo ar klausytojo socialinei tapatybei ir savivertės jausmui. \n",
            "            Pavyzdžiai VGV yra įžeidimai, pertraukimai ir kritika. \n",
            "            Išanalizuokite šį naujienų tekstą ir atsakykite, ar jame yra Veido Grasinantis Veiksmas (VGV). \n",
            "            Atsakykite „1“ už „taip“ arba „0“ už „ne“.\n",
            "\n",
            "            [Kad nebūtų vien tiktai tuščios kalbos, aš ir mano taip pat vadovaujamo sąrašo nariai patys nuėjom nusiėmėm verslo liudijimus, pradėjome dirbti „Uberio“ taksi vairuotojais, tvarkyti butus, prekiauti kava ir mes labai aiškiai matome, kur yra šiandien realios problemos, kodėl mūsų jaunimas arba pradedantieji verslininkai nenori imtis atakomybės ir pradėti verslą. Tai todėl mūsų programoj yra labai aiškios priemonės, atėjusios jau iš konkrečios praktikos ir po diskusijų su specialistais. Pradedančiajam verslui iki penkių tūkstančių eurų metinių pajamų – nulinis mokesčio tarifas. Antra, mokesčių inspektorius turėtų tapti tam tikra prasme smulkaus verslo buhalteriu, jeigu taip galima liaudiškai pasakyti. Taip, kaip, pavyzdžiui, Uberio“ taksi vairuotojas, kaip aš toks, iš karto suformuoja man, kiek aš gaunu pajamų, kiek nueina mokesčių inspekcijai, mokesčių inspekcija aiškiai man pasako, kiek aš turiu mokėti mokesčių. Kodėl tai veikia „Uberyje“? Tai galėtų veikti visam verslui, kuris savanoriškai deklaruoja banko sąskaitą, ten, sakykime, perveda savo pinigus, ir mokesčių inspekcija netgi gali, su jo sutikimu, nuskaityti mokesčius, kad jam būtų rami galva. ] = \n",
            "result:  [{'generated_text': '\\n            Sociolingvistikos srityje Veido Grasinantis Veiksmas (VGV) yra komunikacinis veiksmas, kuris kelia grėsmę kalbėtojo ar klausytojo socialinei tapatybei ir savivertės jausmui. \\n            Pavyzdžiai VGV yra įžeidimai, pertraukimai ir kritika. \\n            Išanalizuokite šį naujienų tekstą ir atsakykite, ar jame yra Veido Grasinantis Veiksmas (VGV). \\n            Atsakykite „1“ už „taip“ arba „0“ už „ne“.\\n\\n            [Kad nebūtų vien tiktai tuščios kalbos, aš ir mano taip pat vadovaujamo sąrašo nariai patys nuėjom nusiėmėm verslo liudijimus, pradėjome dirbti „Uberio“ taksi vairuotojais, tvarkyti butus, prekiauti kava ir mes labai aiškiai matome, kur yra šiandien realios problemos, kodėl mūsų jaunimas arba pradedantieji verslininkai nenori imtis atakomybės ir pradėti verslą. Tai todėl mūsų programoj yra labai aiškios priemonės, atėjusios jau iš konkrečios praktikos ir po diskusijų su specialistais. Pradedančiajam verslui iki penkių tūkstančių eurų metinių pajamų – nulinis mokesčio tarifas. Antra, mokesčių inspektorius turėtų tapti tam tikra prasme smulkaus verslo buhalteriu, jeigu taip galima liaudiškai pasakyti. Taip, kaip, pavyzdžiui, Uberio“ taksi vairuotojas, kaip aš toks, iš karto suformuoja man, kiek aš gaunu pajamų, kiek nueina mokesčių inspekcijai, mokesčių inspekcija aiškiai man pasako, kiek aš turiu mokėti mokesčių. Kodėl tai veikia „Uberyje“? Tai galėtų veikti visam verslui, kuris savanoriškai deklaruoja banko sąskaitą, ten, sakykime, perveda savo pinigus, ir mokesčių inspekcija netgi gali, su jo sutikimu, nuskaityti mokesčius, kad jam būtų rami galva. ] = 1'}]\n",
            "answer:   1\n"
          ]
        },
        {
          "output_type": "stream",
          "name": "stderr",
          "text": [
            "\r  1%|▏         | 2/143 [00:01<01:22,  1.72it/s]Setting `pad_token_id` to `eos_token_id`:128001 for open-end generation.\n"
          ]
        },
        {
          "output_type": "stream",
          "name": "stdout",
          "text": [
            "prompt:  \n",
            "            Sociolingvistikos srityje Veido Grasinantis Veiksmas (VGV) yra komunikacinis veiksmas, kuris kelia grėsmę kalbėtojo ar klausytojo socialinei tapatybei ir savivertės jausmui. \n",
            "            Pavyzdžiai VGV yra įžeidimai, pertraukimai ir kritika. \n",
            "            Išanalizuokite šį naujienų tekstą ir atsakykite, ar jame yra Veido Grasinantis Veiksmas (VGV). \n",
            "            Atsakykite „1“ už „taip“ arba „0“ už „ne“.\n",
            "\n",
            "            [Taip, tiesiog norėjau papildyti, kad, iš tiesų, reikia sudaryti sąlygas žmonėms dirbti regionuose. Tai ne vien tik miestai tuštėja, tokie regioniniai, vadinkime, bet ir, ypatingai, kaimai, ir ten yra galimybių, yra pasiūlymų, kaip tai galima gaivinti kaimą.] = \n",
            "result:  [{'generated_text': '\\n            Sociolingvistikos srityje Veido Grasinantis Veiksmas (VGV) yra komunikacinis veiksmas, kuris kelia grėsmę kalbėtojo ar klausytojo socialinei tapatybei ir savivertės jausmui. \\n            Pavyzdžiai VGV yra įžeidimai, pertraukimai ir kritika. \\n            Išanalizuokite šį naujienų tekstą ir atsakykite, ar jame yra Veido Grasinantis Veiksmas (VGV). \\n            Atsakykite „1“ už „taip“ arba „0“ už „ne“.\\n\\n            [Taip, tiesiog norėjau papildyti, kad, iš tiesų, reikia sudaryti sąlygas žmonėms dirbti regionuose. Tai ne vien tik miestai tuštėja, tokie regioniniai, vadinkime, bet ir, ypatingai, kaimai, ir ten yra galimybių, yra pasiūlymų, kaip tai galima gaivinti kaimą.] = 1'}]\n",
            "answer:   1\n"
          ]
        },
        {
          "output_type": "stream",
          "name": "stderr",
          "text": [
            "\r  2%|▏         | 3/143 [00:01<01:05,  2.14it/s]Setting `pad_token_id` to `eos_token_id`:128001 for open-end generation.\n"
          ]
        },
        {
          "output_type": "stream",
          "name": "stdout",
          "text": [
            "prompt:  \n",
            "            Sociolingvistikos srityje Veido Grasinantis Veiksmas (VGV) yra komunikacinis veiksmas, kuris kelia grėsmę kalbėtojo ar klausytojo socialinei tapatybei ir savivertės jausmui. \n",
            "            Pavyzdžiai VGV yra įžeidimai, pertraukimai ir kritika. \n",
            "            Išanalizuokite šį naujienų tekstą ir atsakykite, ar jame yra Veido Grasinantis Veiksmas (VGV). \n",
            "            Atsakykite „1“ už „taip“ arba „0“ už „ne“.\n",
            "\n",
            "            [Seimo nariai leidžia įstatymus, kurie gali skatinti, skaidrinti ekonomiką. Kuria sąlygas] = \n",
            "result:  [{'generated_text': '\\n            Sociolingvistikos srityje Veido Grasinantis Veiksmas (VGV) yra komunikacinis veiksmas, kuris kelia grėsmę kalbėtojo ar klausytojo socialinei tapatybei ir savivertės jausmui. \\n            Pavyzdžiai VGV yra įžeidimai, pertraukimai ir kritika. \\n            Išanalizuokite šį naujienų tekstą ir atsakykite, ar jame yra Veido Grasinantis Veiksmas (VGV). \\n            Atsakykite „1“ už „taip“ arba „0“ už „ne“.\\n\\n            [Seimo nariai leidžia įstatymus, kurie gali skatinti, skaidrinti ekonomiką. Kuria sąlygas] = 1'}]\n",
            "answer:   1\n"
          ]
        },
        {
          "output_type": "stream",
          "name": "stderr",
          "text": [
            "\r  3%|▎         | 4/143 [00:01<00:58,  2.38it/s]Setting `pad_token_id` to `eos_token_id`:128001 for open-end generation.\n"
          ]
        },
        {
          "output_type": "stream",
          "name": "stdout",
          "text": [
            "prompt:  \n",
            "            Sociolingvistikos srityje Veido Grasinantis Veiksmas (VGV) yra komunikacinis veiksmas, kuris kelia grėsmę kalbėtojo ar klausytojo socialinei tapatybei ir savivertės jausmui. \n",
            "            Pavyzdžiai VGV yra įžeidimai, pertraukimai ir kritika. \n",
            "            Išanalizuokite šį naujienų tekstą ir atsakykite, ar jame yra Veido Grasinantis Veiksmas (VGV). \n",
            "            Atsakykite „1“ už „taip“ arba „0“ už „ne“.\n",
            "\n",
            "            [Iš esmės, tai, gerbiamieji, aš manau, kad šitoj kompanijoj tikrai reikėtų šnekėt teisybę...] = \n",
            "result:  [{'generated_text': '\\n            Sociolingvistikos srityje Veido Grasinantis Veiksmas (VGV) yra komunikacinis veiksmas, kuris kelia grėsmę kalbėtojo ar klausytojo socialinei tapatybei ir savivertės jausmui. \\n            Pavyzdžiai VGV yra įžeidimai, pertraukimai ir kritika. \\n            Išanalizuokite šį naujienų tekstą ir atsakykite, ar jame yra Veido Grasinantis Veiksmas (VGV). \\n            Atsakykite „1“ už „taip“ arba „0“ už „ne“.\\n\\n            [Iš esmės, tai, gerbiamieji, aš manau, kad šitoj kompanijoj tikrai reikėtų šnekėt teisybę...] = 1'}]\n",
            "answer:   1\n"
          ]
        },
        {
          "output_type": "stream",
          "name": "stderr",
          "text": [
            "\r  3%|▎         | 5/143 [00:02<00:55,  2.48it/s]Setting `pad_token_id` to `eos_token_id`:128001 for open-end generation.\n"
          ]
        },
        {
          "output_type": "stream",
          "name": "stdout",
          "text": [
            "prompt:  \n",
            "            Sociolingvistikos srityje Veido Grasinantis Veiksmas (VGV) yra komunikacinis veiksmas, kuris kelia grėsmę kalbėtojo ar klausytojo socialinei tapatybei ir savivertės jausmui. \n",
            "            Pavyzdžiai VGV yra įžeidimai, pertraukimai ir kritika. \n",
            "            Išanalizuokite šį naujienų tekstą ir atsakykite, ar jame yra Veido Grasinantis Veiksmas (VGV). \n",
            "            Atsakykite „1“ už „taip“ arba „0“ už „ne“.\n",
            "\n",
            "            [Na, pirmiausia partija „Tvarka ir teisingumas“ šeimą įsivaizduoja tai vyro ir moters sandūra. Mes nesam Landsbergio kažkokie tai partijos nariai, mes nesam „Tėvynės sąjunga“, kurie įsivaizduoja, kad ir homoseksulai, ir vyras ir vyras gali kurti šeimą ir turėti vaikų. Tikrai pasisako partija mūsų prieš tokius dalykus, bet papildyti norėtų Jonas Dumbrava, mūsų socialinių reikalų komiteto narys. ] = \n",
            "result:  [{'generated_text': '\\n            Sociolingvistikos srityje Veido Grasinantis Veiksmas (VGV) yra komunikacinis veiksmas, kuris kelia grėsmę kalbėtojo ar klausytojo socialinei tapatybei ir savivertės jausmui. \\n            Pavyzdžiai VGV yra įžeidimai, pertraukimai ir kritika. \\n            Išanalizuokite šį naujienų tekstą ir atsakykite, ar jame yra Veido Grasinantis Veiksmas (VGV). \\n            Atsakykite „1“ už „taip“ arba „0“ už „ne“.\\n\\n            [Na, pirmiausia partija „Tvarka ir teisingumas“ šeimą įsivaizduoja tai vyro ir moters sandūra. Mes nesam Landsbergio kažkokie tai partijos nariai, mes nesam „Tėvynės sąjunga“, kurie įsivaizduoja, kad ir homoseksulai, ir vyras ir vyras gali kurti šeimą ir turėti vaikų. Tikrai pasisako partija mūsų prieš tokius dalykus, bet papildyti norėtų Jonas Dumbrava, mūsų socialinių reikalų komiteto narys. ] = 1'}]\n",
            "answer:   1\n"
          ]
        },
        {
          "output_type": "stream",
          "name": "stderr",
          "text": [
            "\r  4%|▍         | 6/143 [00:02<00:53,  2.55it/s]Setting `pad_token_id` to `eos_token_id`:128001 for open-end generation.\n"
          ]
        },
        {
          "output_type": "stream",
          "name": "stdout",
          "text": [
            "prompt:  \n",
            "            Sociolingvistikos srityje Veido Grasinantis Veiksmas (VGV) yra komunikacinis veiksmas, kuris kelia grėsmę kalbėtojo ar klausytojo socialinei tapatybei ir savivertės jausmui. \n",
            "            Pavyzdžiai VGV yra įžeidimai, pertraukimai ir kritika. \n",
            "            Išanalizuokite šį naujienų tekstą ir atsakykite, ar jame yra Veido Grasinantis Veiksmas (VGV). \n",
            "            Atsakykite „1“ už „taip“ arba „0“ už „ne“.\n",
            "\n",
            "            [mes į bendrą chorą įsiliejam, taip pat už tai, kad būtų pertvarkoma pridėtinės vertės mokesčio sistema. Pirmiausiai siekiant sugrąžinti valstybei ekonominio valdymo galią. Todėl mūsų pasiūlymas būtų toksai: bendras bazinis tarifas aštuoniolika procentų. Lengvatinis tarifas – penkti procentai. Nulinis tarifas eksportuojamom prekėm ir ypatingos svarbos prekėm, nes tai reiškia dar ir mokesčio grąžinimą.] = \n",
            "result:  [{'generated_text': '\\n            Sociolingvistikos srityje Veido Grasinantis Veiksmas (VGV) yra komunikacinis veiksmas, kuris kelia grėsmę kalbėtojo ar klausytojo socialinei tapatybei ir savivertės jausmui. \\n            Pavyzdžiai VGV yra įžeidimai, pertraukimai ir kritika. \\n            Išanalizuokite šį naujienų tekstą ir atsakykite, ar jame yra Veido Grasinantis Veiksmas (VGV). \\n            Atsakykite „1“ už „taip“ arba „0“ už „ne“.\\n\\n            [mes į bendrą chorą įsiliejam, taip pat už tai, kad būtų pertvarkoma pridėtinės vertės mokesčio sistema. Pirmiausiai siekiant sugrąžinti valstybei ekonominio valdymo galią. Todėl mūsų pasiūlymas būtų toksai: bendras bazinis tarifas aštuoniolika procentų. Lengvatinis tarifas – penkti procentai. Nulinis tarifas eksportuojamom prekėm ir ypatingos svarbos prekėm, nes tai reiškia dar ir mokesčio grąžinimą.] = 1'}]\n",
            "answer:   1\n"
          ]
        },
        {
          "output_type": "stream",
          "name": "stderr",
          "text": [
            "\r  5%|▍         | 7/143 [00:03<00:56,  2.40it/s]Setting `pad_token_id` to `eos_token_id`:128001 for open-end generation.\n"
          ]
        },
        {
          "output_type": "stream",
          "name": "stdout",
          "text": [
            "prompt:  \n",
            "            Sociolingvistikos srityje Veido Grasinantis Veiksmas (VGV) yra komunikacinis veiksmas, kuris kelia grėsmę kalbėtojo ar klausytojo socialinei tapatybei ir savivertės jausmui. \n",
            "            Pavyzdžiai VGV yra įžeidimai, pertraukimai ir kritika. \n",
            "            Išanalizuokite šį naujienų tekstą ir atsakykite, ar jame yra Veido Grasinantis Veiksmas (VGV). \n",
            "            Atsakykite „1“ už „taip“ arba „0“ už „ne“.\n",
            "\n",
            "            [Kaip mūsų žmonės jausis Lietuvoje, koks bus požiūris į žmogų, ar bus valdžios požiūris toksai, kad žmogus norės tą pačią minutę emigruoti iš Lietuvos, ar jisai apsisprs galbūt psilikti Lietuvoje. Nors galbūt čia ir ne tokios didelės algos, galbūt čia ir ne toks geras pragyvenimo lygis, kaip kokios Danijoj ar Švedijoj, bet, jeigu Lietuvoje būtų geras, geresnis požiūris į žmogų iš valdžios institucijų, jeigu per Seimo rinkimus būtų išsirinktas toks Seimas, kuris tarpusavyje nesipjautų, o visi kartu ieškotume bendrų sprendimų kaip pagerinti mūsų ekonomikos atsigavimą, kaip sulaikyti žmones nuo migracijos, aš manau, kad tada laimės indeksas ir Lietuvos žmonės būtų tikrai laimingesni. Nes tikroji laimė nėra piniguose. Bet be pingų irgi blogai.] = \n",
            "result:  [{'generated_text': '\\n            Sociolingvistikos srityje Veido Grasinantis Veiksmas (VGV) yra komunikacinis veiksmas, kuris kelia grėsmę kalbėtojo ar klausytojo socialinei tapatybei ir savivertės jausmui. \\n            Pavyzdžiai VGV yra įžeidimai, pertraukimai ir kritika. \\n            Išanalizuokite šį naujienų tekstą ir atsakykite, ar jame yra Veido Grasinantis Veiksmas (VGV). \\n            Atsakykite „1“ už „taip“ arba „0“ už „ne“.\\n\\n            [Kaip mūsų žmonės jausis Lietuvoje, koks bus požiūris į žmogų, ar bus valdžios požiūris toksai, kad žmogus norės tą pačią minutę emigruoti iš Lietuvos, ar jisai apsisprs galbūt psilikti Lietuvoje. Nors galbūt čia ir ne tokios didelės algos, galbūt čia ir ne toks geras pragyvenimo lygis, kaip kokios Danijoj ar Švedijoj, bet, jeigu Lietuvoje būtų geras, geresnis požiūris į žmogų iš valdžios institucijų, jeigu per Seimo rinkimus būtų išsirinktas toks Seimas, kuris tarpusavyje nesipjautų, o visi kartu ieškotume bendrų sprendimų kaip pagerinti mūsų ekonomikos atsigavimą, kaip sulaikyti žmones nuo migracijos, aš manau, kad tada laimės indeksas ir Lietuvos žmonės būtų tikrai laimingesni. Nes tikroji laimė nėra piniguose. Bet be pingų irgi blogai.] = 1'}]\n",
            "answer:   1\n"
          ]
        },
        {
          "output_type": "stream",
          "name": "stderr",
          "text": [
            "\r  6%|▌         | 8/143 [00:03<00:54,  2.46it/s]Setting `pad_token_id` to `eos_token_id`:128001 for open-end generation.\n"
          ]
        },
        {
          "output_type": "stream",
          "name": "stdout",
          "text": [
            "prompt:  \n",
            "            Sociolingvistikos srityje Veido Grasinantis Veiksmas (VGV) yra komunikacinis veiksmas, kuris kelia grėsmę kalbėtojo ar klausytojo socialinei tapatybei ir savivertės jausmui. \n",
            "            Pavyzdžiai VGV yra įžeidimai, pertraukimai ir kritika. \n",
            "            Išanalizuokite šį naujienų tekstą ir atsakykite, ar jame yra Veido Grasinantis Veiksmas (VGV). \n",
            "            Atsakykite „1“ už „taip“ arba „0“ už „ne“.\n",
            "\n",
            "            [tai aš pasakysiu, vieną minutę, vieną minutę. Šešėlinė ekonomika yra kelių rūšių. Pirmiausia, žmonės, kurie gyvena prie Rambyno kalno, puikiai žinot, kad per Nemuną gabena. Ir žinot, kad žino ir valdžia. Ir tas tęsiasi metų metais. Buvau pakliuvęs pats į tokią situaciją. Mano akyse tiesiog. Svarstė, ar mane pribaigs čia vietoj, ar ne. Ir visi žino.] = \n",
            "result:  [{'generated_text': '\\n            Sociolingvistikos srityje Veido Grasinantis Veiksmas (VGV) yra komunikacinis veiksmas, kuris kelia grėsmę kalbėtojo ar klausytojo socialinei tapatybei ir savivertės jausmui. \\n            Pavyzdžiai VGV yra įžeidimai, pertraukimai ir kritika. \\n            Išanalizuokite šį naujienų tekstą ir atsakykite, ar jame yra Veido Grasinantis Veiksmas (VGV). \\n            Atsakykite „1“ už „taip“ arba „0“ už „ne“.\\n\\n            [tai aš pasakysiu, vieną minutę, vieną minutę. Šešėlinė ekonomika yra kelių rūšių. Pirmiausia, žmonės, kurie gyvena prie Rambyno kalno, puikiai žinot, kad per Nemuną gabena. Ir žinot, kad žino ir valdžia. Ir tas tęsiasi metų metais. Buvau pakliuvęs pats į tokią situaciją. Mano akyse tiesiog. Svarstė, ar mane pribaigs čia vietoj, ar ne. Ir visi žino.] = 1'}]\n",
            "answer:   1\n"
          ]
        },
        {
          "output_type": "stream",
          "name": "stderr",
          "text": [
            "\r  6%|▋         | 9/143 [00:03<00:52,  2.57it/s]Setting `pad_token_id` to `eos_token_id`:128001 for open-end generation.\n"
          ]
        },
        {
          "output_type": "stream",
          "name": "stdout",
          "text": [
            "prompt:  \n",
            "            Sociolingvistikos srityje Veido Grasinantis Veiksmas (VGV) yra komunikacinis veiksmas, kuris kelia grėsmę kalbėtojo ar klausytojo socialinei tapatybei ir savivertės jausmui. \n",
            "            Pavyzdžiai VGV yra įžeidimai, pertraukimai ir kritika. \n",
            "            Išanalizuokite šį naujienų tekstą ir atsakykite, ar jame yra Veido Grasinantis Veiksmas (VGV). \n",
            "            Atsakykite „1“ už „taip“ arba „0“ už „ne“.\n",
            "\n",
            "            [Galite tęsti mint, Jūs dar turit pusę minutės. Prašau.] = \n",
            "result:  [{'generated_text': '\\n            Sociolingvistikos srityje Veido Grasinantis Veiksmas (VGV) yra komunikacinis veiksmas, kuris kelia grėsmę kalbėtojo ar klausytojo socialinei tapatybei ir savivertės jausmui. \\n            Pavyzdžiai VGV yra įžeidimai, pertraukimai ir kritika. \\n            Išanalizuokite šį naujienų tekstą ir atsakykite, ar jame yra Veido Grasinantis Veiksmas (VGV). \\n            Atsakykite „1“ už „taip“ arba „0“ už „ne“.\\n\\n            [Galite tęsti mint, Jūs dar turit pusę minutės. Prašau.] = 1'}]\n",
            "answer:   1\n"
          ]
        },
        {
          "output_type": "stream",
          "name": "stderr",
          "text": [
            "\r  7%|▋         | 10/143 [00:04<00:51,  2.57it/s]Setting `pad_token_id` to `eos_token_id`:128001 for open-end generation.\n"
          ]
        },
        {
          "output_type": "stream",
          "name": "stdout",
          "text": [
            "prompt:  \n",
            "            Sociolingvistikos srityje Veido Grasinantis Veiksmas (VGV) yra komunikacinis veiksmas, kuris kelia grėsmę kalbėtojo ar klausytojo socialinei tapatybei ir savivertės jausmui. \n",
            "            Pavyzdžiai VGV yra įžeidimai, pertraukimai ir kritika. \n",
            "            Išanalizuokite šį naujienų tekstą ir atsakykite, ar jame yra Veido Grasinantis Veiksmas (VGV). \n",
            "            Atsakykite „1“ už „taip“ arba „0“ už „ne“.\n",
            "\n",
            "            [Taip, taip. Bet dabar žiūrėkit, jeigu kalbėt apie laimę apskritai. Tai yra pas mus moterų. Tai ką jau aš čia apie laimę šnekėsiu. Paklauskim Ilonos Stasiūnaitės apie laimę. ] = \n",
            "result:  [{'generated_text': '\\n            Sociolingvistikos srityje Veido Grasinantis Veiksmas (VGV) yra komunikacinis veiksmas, kuris kelia grėsmę kalbėtojo ar klausytojo socialinei tapatybei ir savivertės jausmui. \\n            Pavyzdžiai VGV yra įžeidimai, pertraukimai ir kritika. \\n            Išanalizuokite šį naujienų tekstą ir atsakykite, ar jame yra Veido Grasinantis Veiksmas (VGV). \\n            Atsakykite „1“ už „taip“ arba „0“ už „ne“.\\n\\n            [Taip, taip. Bet dabar žiūrėkit, jeigu kalbėt apie laimę apskritai. Tai yra pas mus moterų. Tai ką jau aš čia apie laimę šnekėsiu. Paklauskim Ilonos Stasiūnaitės apie laimę. ] = 1'}]\n",
            "answer:   1\n"
          ]
        },
        {
          "output_type": "stream",
          "name": "stderr",
          "text": [
            "\r  8%|▊         | 11/143 [00:04<00:51,  2.58it/s]Setting `pad_token_id` to `eos_token_id`:128001 for open-end generation.\n"
          ]
        },
        {
          "output_type": "stream",
          "name": "stdout",
          "text": [
            "prompt:  \n",
            "            Sociolingvistikos srityje Veido Grasinantis Veiksmas (VGV) yra komunikacinis veiksmas, kuris kelia grėsmę kalbėtojo ar klausytojo socialinei tapatybei ir savivertės jausmui. \n",
            "            Pavyzdžiai VGV yra įžeidimai, pertraukimai ir kritika. \n",
            "            Išanalizuokite šį naujienų tekstą ir atsakykite, ar jame yra Veido Grasinantis Veiksmas (VGV). \n",
            "            Atsakykite „1“ už „taip“ arba „0“ už „ne“.\n",
            "\n",
            "            [Toliau, aišku, pati viešoji infrsatruktūra. Popamokinis ugdymas, kad vaikučius būtų galima užimti, įvairūs būreliai ir kitos priemonės, kad šeima galėtų maloniai, paprastai auginti vaikučius. Ir, aišku, valstybinė arba savivaldybinė ilgalaikė būsto nuomojamo programa, tie, kur egzistuoja Anglijoj, Vokietijoj ir kitur, kad jaunam žmogui nereikėtų eit į banką ir imtis paskolos, o tuėtų stogą virš galvos nuomodamasis butą iš savivaldybės.] = \n",
            "result:  [{'generated_text': '\\n            Sociolingvistikos srityje Veido Grasinantis Veiksmas (VGV) yra komunikacinis veiksmas, kuris kelia grėsmę kalbėtojo ar klausytojo socialinei tapatybei ir savivertės jausmui. \\n            Pavyzdžiai VGV yra įžeidimai, pertraukimai ir kritika. \\n            Išanalizuokite šį naujienų tekstą ir atsakykite, ar jame yra Veido Grasinantis Veiksmas (VGV). \\n            Atsakykite „1“ už „taip“ arba „0“ už „ne“.\\n\\n            [Toliau, aišku, pati viešoji infrsatruktūra. Popamokinis ugdymas, kad vaikučius būtų galima užimti, įvairūs būreliai ir kitos priemonės, kad šeima galėtų maloniai, paprastai auginti vaikučius. Ir, aišku, valstybinė arba savivaldybinė ilgalaikė būsto nuomojamo programa, tie, kur egzistuoja Anglijoj, Vokietijoj ir kitur, kad jaunam žmogui nereikėtų eit į banką ir imtis paskolos, o tuėtų stogą virš galvos nuomodamasis butą iš savivaldybės.] = 1'}]\n",
            "answer:   1\n"
          ]
        },
        {
          "output_type": "stream",
          "name": "stderr",
          "text": [
            "\r  8%|▊         | 12/143 [00:04<00:49,  2.65it/s]Setting `pad_token_id` to `eos_token_id`:128001 for open-end generation.\n"
          ]
        },
        {
          "output_type": "stream",
          "name": "stdout",
          "text": [
            "prompt:  \n",
            "            Sociolingvistikos srityje Veido Grasinantis Veiksmas (VGV) yra komunikacinis veiksmas, kuris kelia grėsmę kalbėtojo ar klausytojo socialinei tapatybei ir savivertės jausmui. \n",
            "            Pavyzdžiai VGV yra įžeidimai, pertraukimai ir kritika. \n",
            "            Išanalizuokite šį naujienų tekstą ir atsakykite, ar jame yra Veido Grasinantis Veiksmas (VGV). \n",
            "            Atsakykite „1“ už „taip“ arba „0“ už „ne“.\n",
            "\n",
            "            [skaičius pamiršom tikrai...] = \n",
            "result:  [{'generated_text': '\\n            Sociolingvistikos srityje Veido Grasinantis Veiksmas (VGV) yra komunikacinis veiksmas, kuris kelia grėsmę kalbėtojo ar klausytojo socialinei tapatybei ir savivertės jausmui. \\n            Pavyzdžiai VGV yra įžeidimai, pertraukimai ir kritika. \\n            Išanalizuokite šį naujienų tekstą ir atsakykite, ar jame yra Veido Grasinantis Veiksmas (VGV). \\n            Atsakykite „1“ už „taip“ arba „0“ už „ne“.\\n\\n            [skaičius pamiršom tikrai...] = 0'}]\n",
            "answer:   0\n"
          ]
        },
        {
          "output_type": "stream",
          "name": "stderr",
          "text": [
            "\r  9%|▉         | 13/143 [00:05<00:50,  2.58it/s]Setting `pad_token_id` to `eos_token_id`:128001 for open-end generation.\n"
          ]
        },
        {
          "output_type": "stream",
          "name": "stdout",
          "text": [
            "prompt:  \n",
            "            Sociolingvistikos srityje Veido Grasinantis Veiksmas (VGV) yra komunikacinis veiksmas, kuris kelia grėsmę kalbėtojo ar klausytojo socialinei tapatybei ir savivertės jausmui. \n",
            "            Pavyzdžiai VGV yra įžeidimai, pertraukimai ir kritika. \n",
            "            Išanalizuokite šį naujienų tekstą ir atsakykite, ar jame yra Veido Grasinantis Veiksmas (VGV). \n",
            "            Atsakykite „1“ už „taip“ arba „0“ už „ne“.\n",
            "\n",
            "            [Pirmiausia, šiandien Lietuvos žmonės kuo yra pasipiktinę? Trūksta teisingumo ir, be abejo, nėra teisybės. Mes matome daug atvejų, kada už kokią antį žmogus nuteisiamas tai yra laisvės atėmino bausme, o dideli nusikaltimai arba chuliganiški nusikaltimai, deja, lieka nenubausti ir neįvertinti. Su mūsų Lietuvos „Laisvės“ sąjunga kandidatuoja Visvaldas Račkauskas, ilgametis kovotojas su nusikaltimais, kriminalistas, buvęs generalinis komisaras, teisininkas, ir manau, kad niekas kitas geriau kaip jisai nepasakys, ko šiandien reikia ir kokios politikos mum šiandien reikia mūsų valstybei.] = \n",
            "result:  [{'generated_text': '\\n            Sociolingvistikos srityje Veido Grasinantis Veiksmas (VGV) yra komunikacinis veiksmas, kuris kelia grėsmę kalbėtojo ar klausytojo socialinei tapatybei ir savivertės jausmui. \\n            Pavyzdžiai VGV yra įžeidimai, pertraukimai ir kritika. \\n            Išanalizuokite šį naujienų tekstą ir atsakykite, ar jame yra Veido Grasinantis Veiksmas (VGV). \\n            Atsakykite „1“ už „taip“ arba „0“ už „ne“.\\n\\n            [Pirmiausia, šiandien Lietuvos žmonės kuo yra pasipiktinę? Trūksta teisingumo ir, be abejo, nėra teisybės. Mes matome daug atvejų, kada už kokią antį žmogus nuteisiamas tai yra laisvės atėmino bausme, o dideli nusikaltimai arba chuliganiški nusikaltimai, deja, lieka nenubausti ir neįvertinti. Su mūsų Lietuvos „Laisvės“ sąjunga kandidatuoja Visvaldas Račkauskas, ilgametis kovotojas su nusikaltimais, kriminalistas, buvęs generalinis komisaras, teisininkas, ir manau, kad niekas kitas geriau kaip jisai nepasakys, ko šiandien reikia ir kokios politikos mum šiandien reikia mūsų valstybei.] = 1'}]\n",
            "answer:   1\n"
          ]
        },
        {
          "output_type": "stream",
          "name": "stderr",
          "text": [
            "\r 10%|▉         | 14/143 [00:05<00:51,  2.49it/s]Setting `pad_token_id` to `eos_token_id`:128001 for open-end generation.\n"
          ]
        },
        {
          "output_type": "stream",
          "name": "stdout",
          "text": [
            "prompt:  \n",
            "            Sociolingvistikos srityje Veido Grasinantis Veiksmas (VGV) yra komunikacinis veiksmas, kuris kelia grėsmę kalbėtojo ar klausytojo socialinei tapatybei ir savivertės jausmui. \n",
            "            Pavyzdžiai VGV yra įžeidimai, pertraukimai ir kritika. \n",
            "            Išanalizuokite šį naujienų tekstą ir atsakykite, ar jame yra Veido Grasinantis Veiksmas (VGV). \n",
            "            Atsakykite „1“ už „taip“ arba „0“ už „ne“.\n",
            "\n",
            "            [Iš esmės, tokie klausimai sprendžiami neformaliojo ugdymo, visų pirma, srityje, ta prasme, dienos centrai, taip, tai labai atima, ta prasme, dalį jaunų žmonių nuo tos terpės, kurioje jie būna, ta prasme, nuo alkoholinių šeimų. Ir taip pat vakarų centrai. Ir tiek jaunimui, tiek senimui, kad jie turėtų kuo užsiimti prieš einant miegot. Tai yra vienas iš tokių konkretus pavyzdys. Bet iš principo dar reikėtų galvot apie tai, kad grįžimą įgaliotinių, kurių buvo panaikinta principe sistema, įgaliotiniai visą laiką žinodavo apie savo rajoną kuo geriausiai ir žinodavo, kokias problemines šeimas ir jos galėdavo prevenciškai, socialinėm sistemom pateikti medžiagą, informaciją ir apie tai, kas vyksta visam tam regione, kur jisai įgaliotas.] = \n",
            "result:  [{'generated_text': '\\n            Sociolingvistikos srityje Veido Grasinantis Veiksmas (VGV) yra komunikacinis veiksmas, kuris kelia grėsmę kalbėtojo ar klausytojo socialinei tapatybei ir savivertės jausmui. \\n            Pavyzdžiai VGV yra įžeidimai, pertraukimai ir kritika. \\n            Išanalizuokite šį naujienų tekstą ir atsakykite, ar jame yra Veido Grasinantis Veiksmas (VGV). \\n            Atsakykite „1“ už „taip“ arba „0“ už „ne“.\\n\\n            [Iš esmės, tokie klausimai sprendžiami neformaliojo ugdymo, visų pirma, srityje, ta prasme, dienos centrai, taip, tai labai atima, ta prasme, dalį jaunų žmonių nuo tos terpės, kurioje jie būna, ta prasme, nuo alkoholinių šeimų. Ir taip pat vakarų centrai. Ir tiek jaunimui, tiek senimui, kad jie turėtų kuo užsiimti prieš einant miegot. Tai yra vienas iš tokių konkretus pavyzdys. Bet iš principo dar reikėtų galvot apie tai, kad grįžimą įgaliotinių, kurių buvo panaikinta principe sistema, įgaliotiniai visą laiką žinodavo apie savo rajoną kuo geriausiai ir žinodavo, kokias problemines šeimas ir jos galėdavo prevenciškai, socialinėm sistemom pateikti medžiagą, informaciją ir apie tai, kas vyksta visam tam regione, kur jisai įgaliotas.] = 1'}]\n",
            "answer:   1\n"
          ]
        },
        {
          "output_type": "stream",
          "name": "stderr",
          "text": [
            "\r 10%|█         | 15/143 [00:06<00:52,  2.43it/s]Setting `pad_token_id` to `eos_token_id`:128001 for open-end generation.\n"
          ]
        },
        {
          "output_type": "stream",
          "name": "stdout",
          "text": [
            "prompt:  \n",
            "            Sociolingvistikos srityje Veido Grasinantis Veiksmas (VGV) yra komunikacinis veiksmas, kuris kelia grėsmę kalbėtojo ar klausytojo socialinei tapatybei ir savivertės jausmui. \n",
            "            Pavyzdžiai VGV yra įžeidimai, pertraukimai ir kritika. \n",
            "            Išanalizuokite šį naujienų tekstą ir atsakykite, ar jame yra Veido Grasinantis Veiksmas (VGV). \n",
            "            Atsakykite „1“ už „taip“ arba „0“ už „ne“.\n",
            "\n",
            "            [Mes kalbame apie 2000-čių eurų krepšelį, kurį mes duotume pilnametystės sulaukusiam vaikui. Ką tai duoda? Tai duoda lūkestį šeimoms, kad jos galės tą vaiką išleisti į mokslus. Pas mus, pasižiūrėjus demografinius rodiklius, galite pamatyti keletą dalykų: vienas dalykas, kad ir gimstamumas mažėja, bet ir lūkestis, kiek moterys pasiruošusios ar šeimos pasiruošusios susilaukti vaikų, lygiai taip pat. Todėl mes turime sukurti psichologiškai palankią aplinką, kad šeimos galėtų kurtis. Būsto kreditavimas. Yra labai aiškiai mūsų programoje įrašyta, kad būsto paskoloms mes turėtume suteikti galimybes jaunoms šeimoms geresnes, negu šiuo metu yra.] = \n",
            "result:  [{'generated_text': '\\n            Sociolingvistikos srityje Veido Grasinantis Veiksmas (VGV) yra komunikacinis veiksmas, kuris kelia grėsmę kalbėtojo ar klausytojo socialinei tapatybei ir savivertės jausmui. \\n            Pavyzdžiai VGV yra įžeidimai, pertraukimai ir kritika. \\n            Išanalizuokite šį naujienų tekstą ir atsakykite, ar jame yra Veido Grasinantis Veiksmas (VGV). \\n            Atsakykite „1“ už „taip“ arba „0“ už „ne“.\\n\\n            [Mes kalbame apie 2000-čių eurų krepšelį, kurį mes duotume pilnametystės sulaukusiam vaikui. Ką tai duoda? Tai duoda lūkestį šeimoms, kad jos galės tą vaiką išleisti į mokslus. Pas mus, pasižiūrėjus demografinius rodiklius, galite pamatyti keletą dalykų: vienas dalykas, kad ir gimstamumas mažėja, bet ir lūkestis, kiek moterys pasiruošusios ar šeimos pasiruošusios susilaukti vaikų, lygiai taip pat. Todėl mes turime sukurti psichologiškai palankią aplinką, kad šeimos galėtų kurtis. Būsto kreditavimas. Yra labai aiškiai mūsų programoje įrašyta, kad būsto paskoloms mes turėtume suteikti galimybes jaunoms šeimoms geresnes, negu šiuo metu yra.] = 0'}]\n",
            "answer:   0\n"
          ]
        },
        {
          "output_type": "stream",
          "name": "stderr",
          "text": [
            "\r 11%|█         | 16/143 [00:06<00:49,  2.54it/s]Setting `pad_token_id` to `eos_token_id`:128001 for open-end generation.\n"
          ]
        },
        {
          "output_type": "stream",
          "name": "stdout",
          "text": [
            "prompt:  \n",
            "            Sociolingvistikos srityje Veido Grasinantis Veiksmas (VGV) yra komunikacinis veiksmas, kuris kelia grėsmę kalbėtojo ar klausytojo socialinei tapatybei ir savivertės jausmui. \n",
            "            Pavyzdžiai VGV yra įžeidimai, pertraukimai ir kritika. \n",
            "            Išanalizuokite šį naujienų tekstą ir atsakykite, ar jame yra Veido Grasinantis Veiksmas (VGV). \n",
            "            Atsakykite „1“ už „taip“ arba „0“ už „ne“.\n",
            "\n",
            "            [Gal tokia replika, čia kai kurie kandidatai, kalbėdami apie mokesčių surinkimą kitose savivaldybėse tiesiog gal nežino, kad Lietuvoje šiandien tiktai keturi miestai yra donorai: Vilnius, dvidešimt kartų mažesnis donoras Kaunas, Klaipėda ir Mažeikiai. ] = \n",
            "result:  [{'generated_text': '\\n            Sociolingvistikos srityje Veido Grasinantis Veiksmas (VGV) yra komunikacinis veiksmas, kuris kelia grėsmę kalbėtojo ar klausytojo socialinei tapatybei ir savivertės jausmui. \\n            Pavyzdžiai VGV yra įžeidimai, pertraukimai ir kritika. \\n            Išanalizuokite šį naujienų tekstą ir atsakykite, ar jame yra Veido Grasinantis Veiksmas (VGV). \\n            Atsakykite „1“ už „taip“ arba „0“ už „ne“.\\n\\n            [Gal tokia replika, čia kai kurie kandidatai, kalbėdami apie mokesčių surinkimą kitose savivaldybėse tiesiog gal nežino, kad Lietuvoje šiandien tiktai keturi miestai yra donorai: Vilnius, dvidešimt kartų mažesnis donoras Kaunas, Klaipėda ir Mažeikiai. ] = 0'}]\n",
            "answer:   0\n"
          ]
        },
        {
          "output_type": "stream",
          "name": "stderr",
          "text": [
            "\r 12%|█▏        | 17/143 [00:06<00:50,  2.50it/s]Setting `pad_token_id` to `eos_token_id`:128001 for open-end generation.\n"
          ]
        },
        {
          "output_type": "stream",
          "name": "stdout",
          "text": [
            "prompt:  \n",
            "            Sociolingvistikos srityje Veido Grasinantis Veiksmas (VGV) yra komunikacinis veiksmas, kuris kelia grėsmę kalbėtojo ar klausytojo socialinei tapatybei ir savivertės jausmui. \n",
            "            Pavyzdžiai VGV yra įžeidimai, pertraukimai ir kritika. \n",
            "            Išanalizuokite šį naujienų tekstą ir atsakykite, ar jame yra Veido Grasinantis Veiksmas (VGV). \n",
            "            Atsakykite „1“ už „taip“ arba „0“ už „ne“.\n",
            "\n",
            "            [Manyčiau, kad didžiausią žalą daro politinis cinizmas. Kada kai kurie politikai kalba, o daro priešingai. Aš šiandien klausydamas negalėjau patikėti, kad politikai, kurie penktadienį nusmukdė pajamas, kurie praskolino valstybei daugiau negu per 20 metų visą Lietuvą, kurie skolinosi 3-4 kartus brangesnėm palūkanom, negu galėjai gaut iš tarptautinių institucijų, kurie sukūrė migracijos bangą šiandien kimba į atlapus ir kaltina kitus. Atsiprašau, tai yra cinizmas, kuris netarnauja pasitikėjimui valstybės ] = \n",
            "result:  [{'generated_text': '\\n            Sociolingvistikos srityje Veido Grasinantis Veiksmas (VGV) yra komunikacinis veiksmas, kuris kelia grėsmę kalbėtojo ar klausytojo socialinei tapatybei ir savivertės jausmui. \\n            Pavyzdžiai VGV yra įžeidimai, pertraukimai ir kritika. \\n            Išanalizuokite šį naujienų tekstą ir atsakykite, ar jame yra Veido Grasinantis Veiksmas (VGV). \\n            Atsakykite „1“ už „taip“ arba „0“ už „ne“.\\n\\n            [Manyčiau, kad didžiausią žalą daro politinis cinizmas. Kada kai kurie politikai kalba, o daro priešingai. Aš šiandien klausydamas negalėjau patikėti, kad politikai, kurie penktadienį nusmukdė pajamas, kurie praskolino valstybei daugiau negu per 20 metų visą Lietuvą, kurie skolinosi 3-4 kartus brangesnėm palūkanom, negu galėjai gaut iš tarptautinių institucijų, kurie sukūrė migracijos bangą šiandien kimba į atlapus ir kaltina kitus. Atsiprašau, tai yra cinizmas, kuris netarnauja pasitikėjimui valstybės ] = 1'}]\n",
            "answer:   1\n"
          ]
        },
        {
          "output_type": "stream",
          "name": "stderr",
          "text": [
            "\r 13%|█▎        | 18/143 [00:07<00:52,  2.39it/s]Setting `pad_token_id` to `eos_token_id`:128001 for open-end generation.\n"
          ]
        },
        {
          "output_type": "stream",
          "name": "stdout",
          "text": [
            "prompt:  \n",
            "            Sociolingvistikos srityje Veido Grasinantis Veiksmas (VGV) yra komunikacinis veiksmas, kuris kelia grėsmę kalbėtojo ar klausytojo socialinei tapatybei ir savivertės jausmui. \n",
            "            Pavyzdžiai VGV yra įžeidimai, pertraukimai ir kritika. \n",
            "            Išanalizuokite šį naujienų tekstą ir atsakykite, ar jame yra Veido Grasinantis Veiksmas (VGV). \n",
            "            Atsakykite „1“ už „taip“ arba „0“ už „ne“.\n",
            "\n",
            "            [Tikrai, gerbiamieji kolegos, nereikėtų nei PVM lengvatos taikyti nei 5, nei 7, nei 12, nei 9, jei žmonės šiai dienai uždirbtų ir nejaustų to socialinio neteisingumo. Tai  nuo to ir pradėkim kalbėt. Antras svarbus dalykas tai yra vidaus skatinimas, vidaus vartojimas, nes kaip yra, kai mes skatinam vidaus ekonomiką, vidaus vartojimą, tai automatiškai pajamų gavimas, tai automatiškai žmogus gauna daugiau pajamų ir jisai nejaučia tam tikros nuoskaudos. Antras dalykas, kaip pavyzdys, valstybės remiamos pajamos. 2008-ais metais nustatė šimtą du eurus, tris kartus kėlė minimalią alga. Tačiau nesugebėjo niekaip pakelti valstybės remiamos paramos. Tai vat žmogus ir jaučia socialinį neteisingumą ir mokesčių prasme skirtumą. Jei šiandieną virš trijų tūkstančių vaikų iš šeimų negavo to paties mokinio krepšelio.] = \n",
            "result:  [{'generated_text': '\\n            Sociolingvistikos srityje Veido Grasinantis Veiksmas (VGV) yra komunikacinis veiksmas, kuris kelia grėsmę kalbėtojo ar klausytojo socialinei tapatybei ir savivertės jausmui. \\n            Pavyzdžiai VGV yra įžeidimai, pertraukimai ir kritika. \\n            Išanalizuokite šį naujienų tekstą ir atsakykite, ar jame yra Veido Grasinantis Veiksmas (VGV). \\n            Atsakykite „1“ už „taip“ arba „0“ už „ne“.\\n\\n            [Tikrai, gerbiamieji kolegos, nereikėtų nei PVM lengvatos taikyti nei 5, nei 7, nei 12, nei 9, jei žmonės šiai dienai uždirbtų ir nejaustų to socialinio neteisingumo. Tai  nuo to ir pradėkim kalbėt. Antras svarbus dalykas tai yra vidaus skatinimas, vidaus vartojimas, nes kaip yra, kai mes skatinam vidaus ekonomiką, vidaus vartojimą, tai automatiškai pajamų gavimas, tai automatiškai žmogus gauna daugiau pajamų ir jisai nejaučia tam tikros nuoskaudos. Antras dalykas, kaip pavyzdys, valstybės remiamos pajamos. 2008-ais metais nustatė šimtą du eurus, tris kartus kėlė minimalią alga. Tačiau nesugebėjo niekaip pakelti valstybės remiamos paramos. Tai vat žmogus ir jaučia socialinį neteisingumą ir mokesčių prasme skirtumą. Jei šiandieną virš trijų tūkstančių vaikų iš šeimų negavo to paties mokinio krepšelio.] = 1'}]\n",
            "answer:   1\n"
          ]
        },
        {
          "output_type": "stream",
          "name": "stderr",
          "text": [
            "\r 13%|█▎        | 19/143 [00:07<00:49,  2.49it/s]Setting `pad_token_id` to `eos_token_id`:128001 for open-end generation.\n"
          ]
        },
        {
          "output_type": "stream",
          "name": "stdout",
          "text": [
            "prompt:  \n",
            "            Sociolingvistikos srityje Veido Grasinantis Veiksmas (VGV) yra komunikacinis veiksmas, kuris kelia grėsmę kalbėtojo ar klausytojo socialinei tapatybei ir savivertės jausmui. \n",
            "            Pavyzdžiai VGV yra įžeidimai, pertraukimai ir kritika. \n",
            "            Išanalizuokite šį naujienų tekstą ir atsakykite, ar jame yra Veido Grasinantis Veiksmas (VGV). \n",
            "            Atsakykite „1“ už „taip“ arba „0“ už „ne“.\n",
            "\n",
            "            [Aš tikrai nemanau, kad krašto apsaugos finansavimą reikėtų sumažinti, kaip čia kai kurie kolegos sakė ir ta sąskaita finansuoti policiją. Reiktų rasti kitų resursų finansuoti policiją, bet apskritai, man atrodo, kad trūksta tam tikrų metmenų, strateginio mąstymo ir programinių nuostatų.] = \n",
            "result:  [{'generated_text': '\\n            Sociolingvistikos srityje Veido Grasinantis Veiksmas (VGV) yra komunikacinis veiksmas, kuris kelia grėsmę kalbėtojo ar klausytojo socialinei tapatybei ir savivertės jausmui. \\n            Pavyzdžiai VGV yra įžeidimai, pertraukimai ir kritika. \\n            Išanalizuokite šį naujienų tekstą ir atsakykite, ar jame yra Veido Grasinantis Veiksmas (VGV). \\n            Atsakykite „1“ už „taip“ arba „0“ už „ne“.\\n\\n            [Aš tikrai nemanau, kad krašto apsaugos finansavimą reikėtų sumažinti, kaip čia kai kurie kolegos sakė ir ta sąskaita finansuoti policiją. Reiktų rasti kitų resursų finansuoti policiją, bet apskritai, man atrodo, kad trūksta tam tikrų metmenų, strateginio mąstymo ir programinių nuostatų.] = 1'}]\n",
            "answer:   1\n"
          ]
        },
        {
          "output_type": "stream",
          "name": "stderr",
          "text": [
            "\r 14%|█▍        | 20/143 [00:08<00:49,  2.49it/s]Setting `pad_token_id` to `eos_token_id`:128001 for open-end generation.\n"
          ]
        },
        {
          "output_type": "stream",
          "name": "stdout",
          "text": [
            "prompt:  \n",
            "            Sociolingvistikos srityje Veido Grasinantis Veiksmas (VGV) yra komunikacinis veiksmas, kuris kelia grėsmę kalbėtojo ar klausytojo socialinei tapatybei ir savivertės jausmui. \n",
            "            Pavyzdžiai VGV yra įžeidimai, pertraukimai ir kritika. \n",
            "            Išanalizuokite šį naujienų tekstą ir atsakykite, ar jame yra Veido Grasinantis Veiksmas (VGV). \n",
            "            Atsakykite „1“ už „taip“ arba „0“ už „ne“.\n",
            "\n",
            "            [Pirmiausia, dėkoju už tokį klausimą ir norėčiau pasakyt, kad gimstamumas Lietuvoj, lyginant su kitom Europos Sąjungos šalimis yra, galima sakyt, didesnis negu Europos Sąjungos vidurkis. Tik tiek, kad Lietuvoj yra migracija gana didoka.] = \n",
            "result:  [{'generated_text': '\\n            Sociolingvistikos srityje Veido Grasinantis Veiksmas (VGV) yra komunikacinis veiksmas, kuris kelia grėsmę kalbėtojo ar klausytojo socialinei tapatybei ir savivertės jausmui. \\n            Pavyzdžiai VGV yra įžeidimai, pertraukimai ir kritika. \\n            Išanalizuokite šį naujienų tekstą ir atsakykite, ar jame yra Veido Grasinantis Veiksmas (VGV). \\n            Atsakykite „1“ už „taip“ arba „0“ už „ne“.\\n\\n            [Pirmiausia, dėkoju už tokį klausimą ir norėčiau pasakyt, kad gimstamumas Lietuvoj, lyginant su kitom Europos Sąjungos šalimis yra, galima sakyt, didesnis negu Europos Sąjungos vidurkis. Tik tiek, kad Lietuvoj yra migracija gana didoka.] = 1'}]\n",
            "answer:   1\n"
          ]
        },
        {
          "output_type": "stream",
          "name": "stderr",
          "text": [
            "\r 15%|█▍        | 21/143 [00:08<00:47,  2.59it/s]Setting `pad_token_id` to `eos_token_id`:128001 for open-end generation.\n"
          ]
        },
        {
          "output_type": "stream",
          "name": "stdout",
          "text": [
            "prompt:  \n",
            "            Sociolingvistikos srityje Veido Grasinantis Veiksmas (VGV) yra komunikacinis veiksmas, kuris kelia grėsmę kalbėtojo ar klausytojo socialinei tapatybei ir savivertės jausmui. \n",
            "            Pavyzdžiai VGV yra įžeidimai, pertraukimai ir kritika. \n",
            "            Išanalizuokite šį naujienų tekstą ir atsakykite, ar jame yra Veido Grasinantis Veiksmas (VGV). \n",
            "            Atsakykite „1“ už „taip“ arba „0“ už „ne“.\n",
            "\n",
            "            [Dėl kolegos pasiūlymo dėl darbo vietų. Jeigu Darbo kodeksas bus toks, koks šiandien, tai jokių darbo vietų nebus, žmonės emigruos ir dar smarkiau. Apie tai smulkiau galėtų mūsų koalicijos partneris ir narys, Profsajungų centro pirmininkas Kęstutis Juknis.] = \n",
            "result:  [{'generated_text': '\\n            Sociolingvistikos srityje Veido Grasinantis Veiksmas (VGV) yra komunikacinis veiksmas, kuris kelia grėsmę kalbėtojo ar klausytojo socialinei tapatybei ir savivertės jausmui. \\n            Pavyzdžiai VGV yra įžeidimai, pertraukimai ir kritika. \\n            Išanalizuokite šį naujienų tekstą ir atsakykite, ar jame yra Veido Grasinantis Veiksmas (VGV). \\n            Atsakykite „1“ už „taip“ arba „0“ už „ne“.\\n\\n            [Dėl kolegos pasiūlymo dėl darbo vietų. Jeigu Darbo kodeksas bus toks, koks šiandien, tai jokių darbo vietų nebus, žmonės emigruos ir dar smarkiau. Apie tai smulkiau galėtų mūsų koalicijos partneris ir narys, Profsajungų centro pirmininkas Kęstutis Juknis.] = 1'}]\n",
            "answer:   1\n"
          ]
        },
        {
          "output_type": "stream",
          "name": "stderr",
          "text": [
            "\r 15%|█▌        | 22/143 [00:08<00:47,  2.56it/s]Setting `pad_token_id` to `eos_token_id`:128001 for open-end generation.\n"
          ]
        },
        {
          "output_type": "stream",
          "name": "stdout",
          "text": [
            "prompt:  \n",
            "            Sociolingvistikos srityje Veido Grasinantis Veiksmas (VGV) yra komunikacinis veiksmas, kuris kelia grėsmę kalbėtojo ar klausytojo socialinei tapatybei ir savivertės jausmui. \n",
            "            Pavyzdžiai VGV yra įžeidimai, pertraukimai ir kritika. \n",
            "            Išanalizuokite šį naujienų tekstą ir atsakykite, ar jame yra Veido Grasinantis Veiksmas (VGV). \n",
            "            Atsakykite „1“ už „taip“ arba „0“ už „ne“.\n",
            "\n",
            "            [Kai nugriaus Lazdynus, tada bus galima griauti kaimą,  šiaip, iš esmės, dar vienas svarbus dalykas tai yra, jeigu kalbant apie regionų gyvybingumą – paslaugų kokybė. Turi žmonės regione gyvenantys, ne didžiuosiuose miestuose, gaute bent jau tą minimalų paketą tų pačių paslaugų. Pirminė sveikatos priežiūra, kultūra, sportas, socialinė apsauga. Kada taip bus, tai, iš tikrųjų, mes galėsime kalbėti apie atskirties mažinimą.] = \n",
            "result:  [{'generated_text': '\\n            Sociolingvistikos srityje Veido Grasinantis Veiksmas (VGV) yra komunikacinis veiksmas, kuris kelia grėsmę kalbėtojo ar klausytojo socialinei tapatybei ir savivertės jausmui. \\n            Pavyzdžiai VGV yra įžeidimai, pertraukimai ir kritika. \\n            Išanalizuokite šį naujienų tekstą ir atsakykite, ar jame yra Veido Grasinantis Veiksmas (VGV). \\n            Atsakykite „1“ už „taip“ arba „0“ už „ne“.\\n\\n            [Kai nugriaus Lazdynus, tada bus galima griauti kaimą,  šiaip, iš esmės, dar vienas svarbus dalykas tai yra, jeigu kalbant apie regionų gyvybingumą – paslaugų kokybė. Turi žmonės regione gyvenantys, ne didžiuosiuose miestuose, gaute bent jau tą minimalų paketą tų pačių paslaugų. Pirminė sveikatos priežiūra, kultūra, sportas, socialinė apsauga. Kada taip bus, tai, iš tikrųjų, mes galėsime kalbėti apie atskirties mažinimą.] = 1'}]\n",
            "answer:   1\n"
          ]
        },
        {
          "output_type": "stream",
          "name": "stderr",
          "text": [
            "\r 16%|█▌        | 23/143 [00:09<00:49,  2.41it/s]Setting `pad_token_id` to `eos_token_id`:128001 for open-end generation.\n"
          ]
        },
        {
          "output_type": "stream",
          "name": "stdout",
          "text": [
            "prompt:  \n",
            "            Sociolingvistikos srityje Veido Grasinantis Veiksmas (VGV) yra komunikacinis veiksmas, kuris kelia grėsmę kalbėtojo ar klausytojo socialinei tapatybei ir savivertės jausmui. \n",
            "            Pavyzdžiai VGV yra įžeidimai, pertraukimai ir kritika. \n",
            "            Išanalizuokite šį naujienų tekstą ir atsakykite, ar jame yra Veido Grasinantis Veiksmas (VGV). \n",
            "            Atsakykite „1“ už „taip“ arba „0“ už „ne“.\n",
            "\n",
            "            [Tai ten tada, iš kur saulė bešviestų, to šešėlio nebus. Mūsų gi uždavinys – kad medžių būtų, bet nuo krentantis šešėlis būtų kuo mažesnis, reiškia, saulė turi būt aukštai ir šviest visiems vienodai. Ne iš kairės, ne iš dešinės, ne iš kitur. Tai mano galva, iš tikrųjų, vienas iš svarbiausių dalykų yra, pirmiausia, supaprastinus mokesčių mokėjimą, mažoms įmonėms, kuriose iki dešimt darbuotojų, iki 750 000 eurų apyvarta, iš viso pelno mokesčio neapsimoka skaičiuot. Nes pats suskaičiavimo, ta prasme, ir pridavimo Mokesčių inspekcjai mechanizmas kainuoja, aišku, brangiau kainuoja, negu mokesčių sumokama yra.] = \n",
            "result:  [{'generated_text': '\\n            Sociolingvistikos srityje Veido Grasinantis Veiksmas (VGV) yra komunikacinis veiksmas, kuris kelia grėsmę kalbėtojo ar klausytojo socialinei tapatybei ir savivertės jausmui. \\n            Pavyzdžiai VGV yra įžeidimai, pertraukimai ir kritika. \\n            Išanalizuokite šį naujienų tekstą ir atsakykite, ar jame yra Veido Grasinantis Veiksmas (VGV). \\n            Atsakykite „1“ už „taip“ arba „0“ už „ne“.\\n\\n            [Tai ten tada, iš kur saulė bešviestų, to šešėlio nebus. Mūsų gi uždavinys – kad medžių būtų, bet nuo krentantis šešėlis būtų kuo mažesnis, reiškia, saulė turi būt aukštai ir šviest visiems vienodai. Ne iš kairės, ne iš dešinės, ne iš kitur. Tai mano galva, iš tikrųjų, vienas iš svarbiausių dalykų yra, pirmiausia, supaprastinus mokesčių mokėjimą, mažoms įmonėms, kuriose iki dešimt darbuotojų, iki 750 000 eurų apyvarta, iš viso pelno mokesčio neapsimoka skaičiuot. Nes pats suskaičiavimo, ta prasme, ir pridavimo Mokesčių inspekcjai mechanizmas kainuoja, aišku, brangiau kainuoja, negu mokesčių sumokama yra.] = 1'}]\n",
            "answer:   1\n"
          ]
        },
        {
          "output_type": "stream",
          "name": "stderr",
          "text": [
            "\r 17%|█▋        | 24/143 [00:09<00:49,  2.39it/s]Setting `pad_token_id` to `eos_token_id`:128001 for open-end generation.\n"
          ]
        },
        {
          "output_type": "stream",
          "name": "stdout",
          "text": [
            "prompt:  \n",
            "            Sociolingvistikos srityje Veido Grasinantis Veiksmas (VGV) yra komunikacinis veiksmas, kuris kelia grėsmę kalbėtojo ar klausytojo socialinei tapatybei ir savivertės jausmui. \n",
            "            Pavyzdžiai VGV yra įžeidimai, pertraukimai ir kritika. \n",
            "            Išanalizuokite šį naujienų tekstą ir atsakykite, ar jame yra Veido Grasinantis Veiksmas (VGV). \n",
            "            Atsakykite „1“ už „taip“ arba „0“ už „ne“.\n",
            "\n",
            "            [Na, iš tiesų, čia mes daug girdime diskusijų, vieni sako, kad mokesčiai per dideli, kiti – kad mokesčiai – per maži, pirmiausiai, kalbant apskritai apie mokesčių sistemos galimą pertvarką mes turime grąžinti pasitikėjimą valstybe, kad suvoktų, pirmiausia mokesčių mokėtojas, kad mokesčiai yra teisingi, socialiai teisingi, reikalingi, neišvengiami, kad pasitikėtų mokesčių administratoriumi, ir kad būtų siekiami tikslai, o tikslas labai paprastas – perskirstant surinktus mokesčius turi naudą pajausti kiekvienas Lietuvos gyventojas.] = \n",
            "result:  [{'generated_text': '\\n            Sociolingvistikos srityje Veido Grasinantis Veiksmas (VGV) yra komunikacinis veiksmas, kuris kelia grėsmę kalbėtojo ar klausytojo socialinei tapatybei ir savivertės jausmui. \\n            Pavyzdžiai VGV yra įžeidimai, pertraukimai ir kritika. \\n            Išanalizuokite šį naujienų tekstą ir atsakykite, ar jame yra Veido Grasinantis Veiksmas (VGV). \\n            Atsakykite „1“ už „taip“ arba „0“ už „ne“.\\n\\n            [Na, iš tiesų, čia mes daug girdime diskusijų, vieni sako, kad mokesčiai per dideli, kiti – kad mokesčiai – per maži, pirmiausiai, kalbant apskritai apie mokesčių sistemos galimą pertvarką mes turime grąžinti pasitikėjimą valstybe, kad suvoktų, pirmiausia mokesčių mokėtojas, kad mokesčiai yra teisingi, socialiai teisingi, reikalingi, neišvengiami, kad pasitikėtų mokesčių administratoriumi, ir kad būtų siekiami tikslai, o tikslas labai paprastas – perskirstant surinktus mokesčius turi naudą pajausti kiekvienas Lietuvos gyventojas.] = 0'}]\n",
            "answer:   0\n"
          ]
        },
        {
          "output_type": "stream",
          "name": "stderr",
          "text": [
            "\r 17%|█▋        | 25/143 [00:10<00:48,  2.44it/s]Setting `pad_token_id` to `eos_token_id`:128001 for open-end generation.\n"
          ]
        },
        {
          "output_type": "stream",
          "name": "stdout",
          "text": [
            "prompt:  \n",
            "            Sociolingvistikos srityje Veido Grasinantis Veiksmas (VGV) yra komunikacinis veiksmas, kuris kelia grėsmę kalbėtojo ar klausytojo socialinei tapatybei ir savivertės jausmui. \n",
            "            Pavyzdžiai VGV yra įžeidimai, pertraukimai ir kritika. \n",
            "            Išanalizuokite šį naujienų tekstą ir atsakykite, ar jame yra Veido Grasinantis Veiksmas (VGV). \n",
            "            Atsakykite „1“ už „taip“ arba „0“ už „ne“.\n",
            "\n",
            "            [Na, policijos pagrindinė funkcija tai saugumo užtikrinimas bei nusikalstamumo prevencija ir džaugiamės, kad būtent policijos pareigūnai priartėjo prie žmonių ir jų reitingas pastoviai auga, tačiau neauga jų saugumas. Neauga jų galimybė kelti kvalifikaciją bei darbo užmokestį. Manau, kad viena iš galimybių, tai galima būtų panaudoti krašto apsaugos skiriamas lėšas tam, kad modernizuoti, aprūpinti būtent policijos pareigūnus. ] = \n",
            "result:  [{'generated_text': '\\n            Sociolingvistikos srityje Veido Grasinantis Veiksmas (VGV) yra komunikacinis veiksmas, kuris kelia grėsmę kalbėtojo ar klausytojo socialinei tapatybei ir savivertės jausmui. \\n            Pavyzdžiai VGV yra įžeidimai, pertraukimai ir kritika. \\n            Išanalizuokite šį naujienų tekstą ir atsakykite, ar jame yra Veido Grasinantis Veiksmas (VGV). \\n            Atsakykite „1“ už „taip“ arba „0“ už „ne“.\\n\\n            [Na, policijos pagrindinė funkcija tai saugumo užtikrinimas bei nusikalstamumo prevencija ir džaugiamės, kad būtent policijos pareigūnai priartėjo prie žmonių ir jų reitingas pastoviai auga, tačiau neauga jų saugumas. Neauga jų galimybė kelti kvalifikaciją bei darbo užmokestį. Manau, kad viena iš galimybių, tai galima būtų panaudoti krašto apsaugos skiriamas lėšas tam, kad modernizuoti, aprūpinti būtent policijos pareigūnus. ] = 1'}]\n",
            "answer:   1\n"
          ]
        },
        {
          "output_type": "stream",
          "name": "stderr",
          "text": [
            "\r 18%|█▊        | 26/143 [00:10<00:48,  2.41it/s]Setting `pad_token_id` to `eos_token_id`:128001 for open-end generation.\n"
          ]
        },
        {
          "output_type": "stream",
          "name": "stdout",
          "text": [
            "prompt:  \n",
            "            Sociolingvistikos srityje Veido Grasinantis Veiksmas (VGV) yra komunikacinis veiksmas, kuris kelia grėsmę kalbėtojo ar klausytojo socialinei tapatybei ir savivertės jausmui. \n",
            "            Pavyzdžiai VGV yra įžeidimai, pertraukimai ir kritika. \n",
            "            Išanalizuokite šį naujienų tekstą ir atsakykite, ar jame yra Veido Grasinantis Veiksmas (VGV). \n",
            "            Atsakykite „1“ už „taip“ arba „0“ už „ne“.\n",
            "\n",
            "            [Na, iš tiesų, universitetų skaičiaus mechaninis mažinimas, kaip buvo mąstoma, kad viską sureguliuos laisvoji rinka, parodė, kad taip neįvyko, universitetai, atvirkščiai, tapo rinkos dalyviais, prikūrė virš 1 800-ai labai siaurų, specializuotų programų, norėdami išlikti. Tai tokiu būdu mes ir turime tą didelį skaičių universitetų ir norinčių įsikabinti į tam tikras pajamas, ir, aišku, turime dėl to prastą kokybę, nes patekti gali į universitetą bet kas, su minimaliu balu arba be jokio balo, ir po to, kadangi tai yra studentas šiandien yra tolygus krepšeliui, ne studentai, bet krepšeliai vertinami yra, tai tie krepšeliai – labai svarbu išlaikyti juos, nes kitaip praras finansavimą. ] = \n",
            "result:  [{'generated_text': '\\n            Sociolingvistikos srityje Veido Grasinantis Veiksmas (VGV) yra komunikacinis veiksmas, kuris kelia grėsmę kalbėtojo ar klausytojo socialinei tapatybei ir savivertės jausmui. \\n            Pavyzdžiai VGV yra įžeidimai, pertraukimai ir kritika. \\n            Išanalizuokite šį naujienų tekstą ir atsakykite, ar jame yra Veido Grasinantis Veiksmas (VGV). \\n            Atsakykite „1“ už „taip“ arba „0“ už „ne“.\\n\\n            [Na, iš tiesų, universitetų skaičiaus mechaninis mažinimas, kaip buvo mąstoma, kad viską sureguliuos laisvoji rinka, parodė, kad taip neįvyko, universitetai, atvirkščiai, tapo rinkos dalyviais, prikūrė virš 1 800-ai labai siaurų, specializuotų programų, norėdami išlikti. Tai tokiu būdu mes ir turime tą didelį skaičių universitetų ir norinčių įsikabinti į tam tikras pajamas, ir, aišku, turime dėl to prastą kokybę, nes patekti gali į universitetą bet kas, su minimaliu balu arba be jokio balo, ir po to, kadangi tai yra studentas šiandien yra tolygus krepšeliui, ne studentai, bet krepšeliai vertinami yra, tai tie krepšeliai – labai svarbu išlaikyti juos, nes kitaip praras finansavimą. ] = 1'}]\n",
            "answer:   1\n"
          ]
        },
        {
          "output_type": "stream",
          "name": "stderr",
          "text": [
            "\r 19%|█▉        | 27/143 [00:11<00:51,  2.25it/s]Setting `pad_token_id` to `eos_token_id`:128001 for open-end generation.\n"
          ]
        },
        {
          "output_type": "stream",
          "name": "stdout",
          "text": [
            "prompt:  \n",
            "            Sociolingvistikos srityje Veido Grasinantis Veiksmas (VGV) yra komunikacinis veiksmas, kuris kelia grėsmę kalbėtojo ar klausytojo socialinei tapatybei ir savivertės jausmui. \n",
            "            Pavyzdžiai VGV yra įžeidimai, pertraukimai ir kritika. \n",
            "            Išanalizuokite šį naujienų tekstą ir atsakykite, ar jame yra Veido Grasinantis Veiksmas (VGV). \n",
            "            Atsakykite „1“ už „taip“ arba „0“ už „ne“.\n",
            "\n",
            "            [tikrai šokiruos Lietuvos žmones šis skaičius: per vieną dieną trys milijonai eurų per viešuosius pirkimus būna išplaunami, išgrobstomi, išvagiami. Tai yra milijardas eurų per metus, tą patvirtino Robertas Dargis, pramonininkų konfederacijos prezidentas, kalbėdamas, kiek pinigų, tikėtina, nukeliauja per auksinius šaukštus. Vienas milijardas eurų. Dešimt milijonų litų per dieną. Dar ką norėjau akcentuot. Socialinė atskirtis ir šešėlis. Žmonės šešėlyje slepiasi todėl, kad tokiu būdu jie tą socialinę atskirtį savo rankomis lygina. Todėl jie žeminasi, sutinka imti vokelius, todėl, kad jiem nebeužtenka, iš jų valdžia paskutinius eem triusikus numauna. Ir dar, paskutinis tyrimas „Vilmoros“, šiandien gavome duomenis, į mūsų užduotą klausimą: „ar sutinkate su mūsų antikorupcinės koalicijos iniciatyva mažinti Seimo narių skaičių, atimti jų neliečiamybę ir naikinti valdžios privilegijas?“,  83 procentai Lietuvos gyventojų pritarė šitai mūsų iniciatyvai. ] = \n",
            "result:  [{'generated_text': '\\n            Sociolingvistikos srityje Veido Grasinantis Veiksmas (VGV) yra komunikacinis veiksmas, kuris kelia grėsmę kalbėtojo ar klausytojo socialinei tapatybei ir savivertės jausmui. \\n            Pavyzdžiai VGV yra įžeidimai, pertraukimai ir kritika. \\n            Išanalizuokite šį naujienų tekstą ir atsakykite, ar jame yra Veido Grasinantis Veiksmas (VGV). \\n            Atsakykite „1“ už „taip“ arba „0“ už „ne“.\\n\\n            [tikrai šokiruos Lietuvos žmones šis skaičius: per vieną dieną trys milijonai eurų per viešuosius pirkimus būna išplaunami, išgrobstomi, išvagiami. Tai yra milijardas eurų per metus, tą patvirtino Robertas Dargis, pramonininkų konfederacijos prezidentas, kalbėdamas, kiek pinigų, tikėtina, nukeliauja per auksinius šaukštus. Vienas milijardas eurų. Dešimt milijonų litų per dieną. Dar ką norėjau akcentuot. Socialinė atskirtis ir šešėlis. Žmonės šešėlyje slepiasi todėl, kad tokiu būdu jie tą socialinę atskirtį savo rankomis lygina. Todėl jie žeminasi, sutinka imti vokelius, todėl, kad jiem nebeužtenka, iš jų valdžia paskutinius eem triusikus numauna. Ir dar, paskutinis tyrimas „Vilmoros“, šiandien gavome duomenis, į mūsų užduotą klausimą: „ar sutinkate su mūsų antikorupcinės koalicijos iniciatyva mažinti Seimo narių skaičių, atimti jų neliečiamybę ir naikinti valdžios privilegijas?“,  83 procentai Lietuvos gyventojų pritarė šitai mūsų iniciatyvai. ] = 1'}]\n",
            "answer:   1\n"
          ]
        },
        {
          "output_type": "stream",
          "name": "stderr",
          "text": [
            "\r 20%|█▉        | 28/143 [00:11<00:53,  2.13it/s]Setting `pad_token_id` to `eos_token_id`:128001 for open-end generation.\n"
          ]
        },
        {
          "output_type": "stream",
          "name": "stdout",
          "text": [
            "prompt:  \n",
            "            Sociolingvistikos srityje Veido Grasinantis Veiksmas (VGV) yra komunikacinis veiksmas, kuris kelia grėsmę kalbėtojo ar klausytojo socialinei tapatybei ir savivertės jausmui. \n",
            "            Pavyzdžiai VGV yra įžeidimai, pertraukimai ir kritika. \n",
            "            Išanalizuokite šį naujienų tekstą ir atsakykite, ar jame yra Veido Grasinantis Veiksmas (VGV). \n",
            "            Atsakykite „1“ už „taip“ arba „0“ už „ne“.\n",
            "\n",
            "            [Ir jie šitą sistemą per daug metų yra sukūrę ir ištobulinę ir jos esminė dalis tai yra galimybė išgryninti milžiniškas pinigų sumas. Vienas dalykas – mokėti nelegalius atlyginimus, bet ne pagrindinis. Pagrindinis tai yra korporacijos, didelės statybinės ar IT kompanijos neša kyšius politikam tam, kad jie tai galėtų padaryt, reikalingos PVM plovimo firmos, specialios firmos, išgryninančios pinigus. Aš neabejoju, kad Eligijaus Masiulio atveju buvo pasinaudota tokių firmų paslaugom. Ir šitoj vietoj tiktai Seimas per Vyriausybę gali duoti valingą politinį nurodymą Mokesčių inspekcijai nustoti gaudyti nelegalius prekeivius daržovėmis, reiškia, tam neskirtose vietose, o duoti komandą sutvarkyti šitas šešėlines firmas ir šituos visus atvejus, kada gryninamos milžiniškos pinigų sumos] = \n",
            "result:  [{'generated_text': '\\n            Sociolingvistikos srityje Veido Grasinantis Veiksmas (VGV) yra komunikacinis veiksmas, kuris kelia grėsmę kalbėtojo ar klausytojo socialinei tapatybei ir savivertės jausmui. \\n            Pavyzdžiai VGV yra įžeidimai, pertraukimai ir kritika. \\n            Išanalizuokite šį naujienų tekstą ir atsakykite, ar jame yra Veido Grasinantis Veiksmas (VGV). \\n            Atsakykite „1“ už „taip“ arba „0“ už „ne“.\\n\\n            [Ir jie šitą sistemą per daug metų yra sukūrę ir ištobulinę ir jos esminė dalis tai yra galimybė išgryninti milžiniškas pinigų sumas. Vienas dalykas – mokėti nelegalius atlyginimus, bet ne pagrindinis. Pagrindinis tai yra korporacijos, didelės statybinės ar IT kompanijos neša kyšius politikam tam, kad jie tai galėtų padaryt, reikalingos PVM plovimo firmos, specialios firmos, išgryninančios pinigus. Aš neabejoju, kad Eligijaus Masiulio atveju buvo pasinaudota tokių firmų paslaugom. Ir šitoj vietoj tiktai Seimas per Vyriausybę gali duoti valingą politinį nurodymą Mokesčių inspekcijai nustoti gaudyti nelegalius prekeivius daržovėmis, reiškia, tam neskirtose vietose, o duoti komandą sutvarkyti šitas šešėlines firmas ir šituos visus atvejus, kada gryninamos milžiniškos pinigų sumos] = 1'}]\n",
            "answer:   1\n"
          ]
        },
        {
          "output_type": "stream",
          "name": "stderr",
          "text": [
            "\r 20%|██        | 29/143 [00:12<00:55,  2.04it/s]Setting `pad_token_id` to `eos_token_id`:128001 for open-end generation.\n"
          ]
        },
        {
          "output_type": "stream",
          "name": "stdout",
          "text": [
            "prompt:  \n",
            "            Sociolingvistikos srityje Veido Grasinantis Veiksmas (VGV) yra komunikacinis veiksmas, kuris kelia grėsmę kalbėtojo ar klausytojo socialinei tapatybei ir savivertės jausmui. \n",
            "            Pavyzdžiai VGV yra įžeidimai, pertraukimai ir kritika. \n",
            "            Išanalizuokite šį naujienų tekstą ir atsakykite, ar jame yra Veido Grasinantis Veiksmas (VGV). \n",
            "            Atsakykite „1“ už „taip“ arba „0“ už „ne“.\n",
            "\n",
            "            [Kalbėdami apie darbo vietas ir galimybes konkuruoti regionams ir augti, tai pirmiausia, aišku, kokybiški darbdaviai turėtų būti. Vilnius, teko miestui vadovaut daugelį metų, pažiūrėkime, šiandieną garsėja ir paneigia visas Eurostato prognozes, kad Vilniuje gyventojų skaičius mažės, bus panašiai, kaip ir, pavyzdžiui, kituose Lietuvos miestuose. Nieko panašaus. Vilnius šiandieną garsėja kaip vienas iš didžiausių paslaugų centrų Vidurio Rytų Europoje. Tą patirtį, be abejo, mes norime pritaikyti ne tik vilniuje, bet ir visoje Lietuvoje. Tą patį turėtų darryti Kaunas, Klaipėda, Šiauliai, Panevėžys, Marijampolė, Alytus ir kiti miestai. Pavyzdys – mūsų meras, „Lietuvos Laisvės“ sąjungos, dirbantis Širvintų savivaldybėje. Įsikūrė gamykla Pabradėje, kuri gamina medicininę tam tikrą įrangą, eksportuoja po visą pasaulį. Pasižiūrėkime – šiandieną jau statomi pirmieji daugiabučiai namai.] = \n",
            "result:  [{'generated_text': '\\n            Sociolingvistikos srityje Veido Grasinantis Veiksmas (VGV) yra komunikacinis veiksmas, kuris kelia grėsmę kalbėtojo ar klausytojo socialinei tapatybei ir savivertės jausmui. \\n            Pavyzdžiai VGV yra įžeidimai, pertraukimai ir kritika. \\n            Išanalizuokite šį naujienų tekstą ir atsakykite, ar jame yra Veido Grasinantis Veiksmas (VGV). \\n            Atsakykite „1“ už „taip“ arba „0“ už „ne“.\\n\\n            [Kalbėdami apie darbo vietas ir galimybes konkuruoti regionams ir augti, tai pirmiausia, aišku, kokybiški darbdaviai turėtų būti. Vilnius, teko miestui vadovaut daugelį metų, pažiūrėkime, šiandieną garsėja ir paneigia visas Eurostato prognozes, kad Vilniuje gyventojų skaičius mažės, bus panašiai, kaip ir, pavyzdžiui, kituose Lietuvos miestuose. Nieko panašaus. Vilnius šiandieną garsėja kaip vienas iš didžiausių paslaugų centrų Vidurio Rytų Europoje. Tą patirtį, be abejo, mes norime pritaikyti ne tik vilniuje, bet ir visoje Lietuvoje. Tą patį turėtų darryti Kaunas, Klaipėda, Šiauliai, Panevėžys, Marijampolė, Alytus ir kiti miestai. Pavyzdys – mūsų meras, „Lietuvos Laisvės“ sąjungos, dirbantis Širvintų savivaldybėje. Įsikūrė gamykla Pabradėje, kuri gamina medicininę tam tikrą įrangą, eksportuoja po visą pasaulį. Pasižiūrėkime – šiandieną jau statomi pirmieji daugiabučiai namai.] = 1'}]\n",
            "answer:   1\n"
          ]
        },
        {
          "output_type": "stream",
          "name": "stderr",
          "text": [
            "\r 21%|██        | 30/143 [00:12<00:53,  2.10it/s]Setting `pad_token_id` to `eos_token_id`:128001 for open-end generation.\n"
          ]
        },
        {
          "output_type": "stream",
          "name": "stdout",
          "text": [
            "prompt:  \n",
            "            Sociolingvistikos srityje Veido Grasinantis Veiksmas (VGV) yra komunikacinis veiksmas, kuris kelia grėsmę kalbėtojo ar klausytojo socialinei tapatybei ir savivertės jausmui. \n",
            "            Pavyzdžiai VGV yra įžeidimai, pertraukimai ir kritika. \n",
            "            Išanalizuokite šį naujienų tekstą ir atsakykite, ar jame yra Veido Grasinantis Veiksmas (VGV). \n",
            "            Atsakykite „1“ už „taip“ arba „0“ už „ne“.\n",
            "\n",
            "            [Esmė tame, kad mes kalbam visiškai į pievas.  Esmė tame, kad pasirinktas yra blogas šilumos nešėjas, tai yra vanduo, reikia keisti visą energetikos ūkį iš principo. Esmė ta, kad renovaciją namų tai yra vėl sąlygos suklestėti korupcijai] = \n",
            "result:  [{'generated_text': '\\n            Sociolingvistikos srityje Veido Grasinantis Veiksmas (VGV) yra komunikacinis veiksmas, kuris kelia grėsmę kalbėtojo ar klausytojo socialinei tapatybei ir savivertės jausmui. \\n            Pavyzdžiai VGV yra įžeidimai, pertraukimai ir kritika. \\n            Išanalizuokite šį naujienų tekstą ir atsakykite, ar jame yra Veido Grasinantis Veiksmas (VGV). \\n            Atsakykite „1“ už „taip“ arba „0“ už „ne“.\\n\\n            [Esmė tame, kad mes kalbam visiškai į pievas.  Esmė tame, kad pasirinktas yra blogas šilumos nešėjas, tai yra vanduo, reikia keisti visą energetikos ūkį iš principo. Esmė ta, kad renovaciją namų tai yra vėl sąlygos suklestėti korupcijai] = 1'}]\n",
            "answer:   1\n"
          ]
        },
        {
          "output_type": "stream",
          "name": "stderr",
          "text": [
            "\r 22%|██▏       | 31/143 [00:13<00:56,  2.00it/s]Setting `pad_token_id` to `eos_token_id`:128001 for open-end generation.\n"
          ]
        },
        {
          "output_type": "stream",
          "name": "stdout",
          "text": [
            "prompt:  \n",
            "            Sociolingvistikos srityje Veido Grasinantis Veiksmas (VGV) yra komunikacinis veiksmas, kuris kelia grėsmę kalbėtojo ar klausytojo socialinei tapatybei ir savivertės jausmui. \n",
            "            Pavyzdžiai VGV yra įžeidimai, pertraukimai ir kritika. \n",
            "            Išanalizuokite šį naujienų tekstą ir atsakykite, ar jame yra Veido Grasinantis Veiksmas (VGV). \n",
            "            Atsakykite „1“ už „taip“ arba „0“ už „ne“.\n",
            "\n",
            "            [Tiesiog, eem, sudarius, visų pirma, pradžioj, kaimo turizmo rėstrus, jų vertinimo kriterijus, ta prasme jų lygius tarptautiniuose standartuose ir automtiškai, paruošis medžiagą, kurią galėtų mūsų išeiviai, būdami kitose šalyse, tiesiog propaguoti per savo bendruomenes. Tuo pačiu padėti net pačiom bendruomenėm, turėti ir patalpas išlaikyti, ir užsidirbt patiems pinigų tam, kad galėtų vystyt savo veiklą. Automatiškai ji veikia kuom? Tai agitacija, istorijos žinojimas ir vietinio krašto žmonių grįžimas atgal.] = \n",
            "result:  [{'generated_text': '\\n            Sociolingvistikos srityje Veido Grasinantis Veiksmas (VGV) yra komunikacinis veiksmas, kuris kelia grėsmę kalbėtojo ar klausytojo socialinei tapatybei ir savivertės jausmui. \\n            Pavyzdžiai VGV yra įžeidimai, pertraukimai ir kritika. \\n            Išanalizuokite šį naujienų tekstą ir atsakykite, ar jame yra Veido Grasinantis Veiksmas (VGV). \\n            Atsakykite „1“ už „taip“ arba „0“ už „ne“.\\n\\n            [Tiesiog, eem, sudarius, visų pirma, pradžioj, kaimo turizmo rėstrus, jų vertinimo kriterijus, ta prasme jų lygius tarptautiniuose standartuose ir automtiškai, paruošis medžiagą, kurią galėtų mūsų išeiviai, būdami kitose šalyse, tiesiog propaguoti per savo bendruomenes. Tuo pačiu padėti net pačiom bendruomenėm, turėti ir patalpas išlaikyti, ir užsidirbt patiems pinigų tam, kad galėtų vystyt savo veiklą. Automatiškai ji veikia kuom? Tai agitacija, istorijos žinojimas ir vietinio krašto žmonių grįžimas atgal.] = 1'}]\n",
            "answer:   1\n"
          ]
        },
        {
          "output_type": "stream",
          "name": "stderr",
          "text": [
            "\r 22%|██▏       | 32/143 [00:13<00:56,  1.97it/s]Setting `pad_token_id` to `eos_token_id`:128001 for open-end generation.\n"
          ]
        },
        {
          "output_type": "stream",
          "name": "stdout",
          "text": [
            "prompt:  \n",
            "            Sociolingvistikos srityje Veido Grasinantis Veiksmas (VGV) yra komunikacinis veiksmas, kuris kelia grėsmę kalbėtojo ar klausytojo socialinei tapatybei ir savivertės jausmui. \n",
            "            Pavyzdžiai VGV yra įžeidimai, pertraukimai ir kritika. \n",
            "            Išanalizuokite šį naujienų tekstą ir atsakykite, ar jame yra Veido Grasinantis Veiksmas (VGV). \n",
            "            Atsakykite „1“ už „taip“ arba „0“ už „ne“.\n",
            "\n",
            "            [Aš šiandien Seime iš tribūnos irgi pasakiau, kad Lietuva yra maža, atvira šalis ir orientuotą į eksportą. Ir mes turim suprast, kad mūsų vienas pagrindinių uždavinių yra kuo daugiau pritraukt tiesioginių užsienio investicijų. Suprast, kad turi didžiulės būt investicijos į mokslą, į žinias. Turi būt kuo daugiau talentų čia, Lietuvoj. Tiek iš užsienio, tiek savų mes talentų turim užsiaugint. Nebegalim kalbėt apie pigią darbo jėgą, mes turim kalbėt apie kvalifikuotą darbo jėgą. Nes mes turim įvertint ir geopolitinę situacją, tai reiškia, kad mes turim kuo daugiau turėt naujų rinkų eksportui. Tą, ką mes padarėm. Šiuo metu Lietuva turi apie 200 valstybių, į kurias gali eksportuot savo produkciją. To niekada nebuvo.] = \n",
            "result:  [{'generated_text': '\\n            Sociolingvistikos srityje Veido Grasinantis Veiksmas (VGV) yra komunikacinis veiksmas, kuris kelia grėsmę kalbėtojo ar klausytojo socialinei tapatybei ir savivertės jausmui. \\n            Pavyzdžiai VGV yra įžeidimai, pertraukimai ir kritika. \\n            Išanalizuokite šį naujienų tekstą ir atsakykite, ar jame yra Veido Grasinantis Veiksmas (VGV). \\n            Atsakykite „1“ už „taip“ arba „0“ už „ne“.\\n\\n            [Aš šiandien Seime iš tribūnos irgi pasakiau, kad Lietuva yra maža, atvira šalis ir orientuotą į eksportą. Ir mes turim suprast, kad mūsų vienas pagrindinių uždavinių yra kuo daugiau pritraukt tiesioginių užsienio investicijų. Suprast, kad turi didžiulės būt investicijos į mokslą, į žinias. Turi būt kuo daugiau talentų čia, Lietuvoj. Tiek iš užsienio, tiek savų mes talentų turim užsiaugint. Nebegalim kalbėt apie pigią darbo jėgą, mes turim kalbėt apie kvalifikuotą darbo jėgą. Nes mes turim įvertint ir geopolitinę situacją, tai reiškia, kad mes turim kuo daugiau turėt naujų rinkų eksportui. Tą, ką mes padarėm. Šiuo metu Lietuva turi apie 200 valstybių, į kurias gali eksportuot savo produkciją. To niekada nebuvo.] = 1'}]\n",
            "answer:   1\n"
          ]
        },
        {
          "output_type": "stream",
          "name": "stderr",
          "text": [
            "\r 23%|██▎       | 33/143 [00:14<00:54,  2.01it/s]Setting `pad_token_id` to `eos_token_id`:128001 for open-end generation.\n"
          ]
        },
        {
          "output_type": "stream",
          "name": "stdout",
          "text": [
            "prompt:  \n",
            "            Sociolingvistikos srityje Veido Grasinantis Veiksmas (VGV) yra komunikacinis veiksmas, kuris kelia grėsmę kalbėtojo ar klausytojo socialinei tapatybei ir savivertės jausmui. \n",
            "            Pavyzdžiai VGV yra įžeidimai, pertraukimai ir kritika. \n",
            "            Išanalizuokite šį naujienų tekstą ir atsakykite, ar jame yra Veido Grasinantis Veiksmas (VGV). \n",
            "            Atsakykite „1“ už „taip“ arba „0“ už „ne“.\n",
            "\n",
            "            [Apie kokį galime kalbėti teisingumą ir kovą su korupcija, šiandien dienai Lietuvje, jeigu valdinikai per savo savivalę vykdo žmogaus genocidą. Jeigu teisėtvarka ir prokurorai, tirdami bylas, klastoja arba kurpia įrodymus, jeigu teisėjai tiria bylas ne pagal įrodymus, o iš savo vidinio įsitikinimo. Ir jeigu valstybė leidžia nesąžiningiems veikėjams eem, reketuoti Lietuvos piliečius.] = \n",
            "result:  [{'generated_text': '\\n            Sociolingvistikos srityje Veido Grasinantis Veiksmas (VGV) yra komunikacinis veiksmas, kuris kelia grėsmę kalbėtojo ar klausytojo socialinei tapatybei ir savivertės jausmui. \\n            Pavyzdžiai VGV yra įžeidimai, pertraukimai ir kritika. \\n            Išanalizuokite šį naujienų tekstą ir atsakykite, ar jame yra Veido Grasinantis Veiksmas (VGV). \\n            Atsakykite „1“ už „taip“ arba „0“ už „ne“.\\n\\n            [Apie kokį galime kalbėti teisingumą ir kovą su korupcija, šiandien dienai Lietuvje, jeigu valdinikai per savo savivalę vykdo žmogaus genocidą. Jeigu teisėtvarka ir prokurorai, tirdami bylas, klastoja arba kurpia įrodymus, jeigu teisėjai tiria bylas ne pagal įrodymus, o iš savo vidinio įsitikinimo. Ir jeigu valstybė leidžia nesąžiningiems veikėjams eem, reketuoti Lietuvos piliečius.] = 1'}]\n",
            "answer:   1\n"
          ]
        },
        {
          "output_type": "stream",
          "name": "stderr",
          "text": [
            "\r 24%|██▍       | 34/143 [00:14<00:53,  2.03it/s]Setting `pad_token_id` to `eos_token_id`:128001 for open-end generation.\n"
          ]
        },
        {
          "output_type": "stream",
          "name": "stdout",
          "text": [
            "prompt:  \n",
            "            Sociolingvistikos srityje Veido Grasinantis Veiksmas (VGV) yra komunikacinis veiksmas, kuris kelia grėsmę kalbėtojo ar klausytojo socialinei tapatybei ir savivertės jausmui. \n",
            "            Pavyzdžiai VGV yra įžeidimai, pertraukimai ir kritika. \n",
            "            Išanalizuokite šį naujienų tekstą ir atsakykite, ar jame yra Veido Grasinantis Veiksmas (VGV). \n",
            "            Atsakykite „1“ už „taip“ arba „0“ už „ne“.\n",
            "\n",
            "            [būtent daugiabučių namų renovacija ir davė tą didžiausią postūmį, yra didžiausia bėda šiandien yra finansavimas ir finansavimo šaltiniai. Šiandien Aplinkos ministerijoj guli virš 500 sutarčių, kurie yra su namais pasirašyta. Bet Jūs patys puikiai žinote: arba bankai finansuoja, arba ne. Ir dabar vyksta derybos, kokiu santykiu tai bus finansuojama ir kaip greitai mes tą paleisim. Tai daugiabučių renovacija šiandieną jau leido 17 procentų šilumos sąskaitų sutaupyti. Tai tai yra labai didelis, didelis viltis. Antras yra dalykas, niekam netrukdo šilumos ūkiam patiem investuot į daugiabučių namų renovaciją, kaip tam tikrą investiciją. Estija kažkodėl turi, Latvija turi, Vokietija turi. Mes šiandien dienai stabdome tas, tą norą arba tą inenciją šitą dalyką daryti. Kitas yra dalykas, mes padarėme, aš manau, kai kurie padarė, iš tikrųjų, neigiamą sprendimą, kada šilumos ūkio katilinėm draudė gaminti savo elektrą ir ją parduoti, ir tai realiai gal ir pats puikiai žinote, 40 milijonų prarado pajamų. ] = \n",
            "result:  [{'generated_text': '\\n            Sociolingvistikos srityje Veido Grasinantis Veiksmas (VGV) yra komunikacinis veiksmas, kuris kelia grėsmę kalbėtojo ar klausytojo socialinei tapatybei ir savivertės jausmui. \\n            Pavyzdžiai VGV yra įžeidimai, pertraukimai ir kritika. \\n            Išanalizuokite šį naujienų tekstą ir atsakykite, ar jame yra Veido Grasinantis Veiksmas (VGV). \\n            Atsakykite „1“ už „taip“ arba „0“ už „ne“.\\n\\n            [būtent daugiabučių namų renovacija ir davė tą didžiausią postūmį, yra didžiausia bėda šiandien yra finansavimas ir finansavimo šaltiniai. Šiandien Aplinkos ministerijoj guli virš 500 sutarčių, kurie yra su namais pasirašyta. Bet Jūs patys puikiai žinote: arba bankai finansuoja, arba ne. Ir dabar vyksta derybos, kokiu santykiu tai bus finansuojama ir kaip greitai mes tą paleisim. Tai daugiabučių renovacija šiandieną jau leido 17 procentų šilumos sąskaitų sutaupyti. Tai tai yra labai didelis, didelis viltis. Antras yra dalykas, niekam netrukdo šilumos ūkiam patiem investuot į daugiabučių namų renovaciją, kaip tam tikrą investiciją. Estija kažkodėl turi, Latvija turi, Vokietija turi. Mes šiandien dienai stabdome tas, tą norą arba tą inenciją šitą dalyką daryti. Kitas yra dalykas, mes padarėme, aš manau, kai kurie padarė, iš tikrųjų, neigiamą sprendimą, kada šilumos ūkio katilinėm draudė gaminti savo elektrą ir ją parduoti, ir tai realiai gal ir pats puikiai žinote, 40 milijonų prarado pajamų. ] = 1'}]\n",
            "answer:   1\n"
          ]
        },
        {
          "output_type": "stream",
          "name": "stderr",
          "text": [
            "\r 24%|██▍       | 35/143 [00:15<00:51,  2.11it/s]Setting `pad_token_id` to `eos_token_id`:128001 for open-end generation.\n"
          ]
        },
        {
          "output_type": "stream",
          "name": "stdout",
          "text": [
            "prompt:  \n",
            "            Sociolingvistikos srityje Veido Grasinantis Veiksmas (VGV) yra komunikacinis veiksmas, kuris kelia grėsmę kalbėtojo ar klausytojo socialinei tapatybei ir savivertės jausmui. \n",
            "            Pavyzdžiai VGV yra įžeidimai, pertraukimai ir kritika. \n",
            "            Išanalizuokite šį naujienų tekstą ir atsakykite, ar jame yra Veido Grasinantis Veiksmas (VGV). \n",
            "            Atsakykite „1“ už „taip“ arba „0“ už „ne“.\n",
            "\n",
            "            [Mes, liberalai, pataupėm laiko, tai gal pusė minutės, atrodo, teks pridėt. Žiūrėkit. Kolegos šneka teisingus dalykus, bet materialius dalykus. O man rūpi žvilgsnis į ateitį. O kaip elgsis su Lietuva tie vaikai, kurie gimė šiandien emigracijoje? Tai, liberalai, padarėme vieną dalyką – mūsų iniciatyva įteisinta teisė turėti dvigubą pilietybę tiems, kurie jau gimė emigracijoj ir ir turi teisę, pavyzdžiui, į Britanijos pilietybę, bet tokiu atveju išsaugos jie ir Lietuvos pilietybę. Mes turime žengti žingsnį ir toliau, apskritai, įteisinti dvigubą pilietybę. Tačiau kol kas Seime palaikymo nesulaukėme. ] = \n",
            "result:  [{'generated_text': '\\n            Sociolingvistikos srityje Veido Grasinantis Veiksmas (VGV) yra komunikacinis veiksmas, kuris kelia grėsmę kalbėtojo ar klausytojo socialinei tapatybei ir savivertės jausmui. \\n            Pavyzdžiai VGV yra įžeidimai, pertraukimai ir kritika. \\n            Išanalizuokite šį naujienų tekstą ir atsakykite, ar jame yra Veido Grasinantis Veiksmas (VGV). \\n            Atsakykite „1“ už „taip“ arba „0“ už „ne“.\\n\\n            [Mes, liberalai, pataupėm laiko, tai gal pusė minutės, atrodo, teks pridėt. Žiūrėkit. Kolegos šneka teisingus dalykus, bet materialius dalykus. O man rūpi žvilgsnis į ateitį. O kaip elgsis su Lietuva tie vaikai, kurie gimė šiandien emigracijoje? Tai, liberalai, padarėme vieną dalyką – mūsų iniciatyva įteisinta teisė turėti dvigubą pilietybę tiems, kurie jau gimė emigracijoj ir ir turi teisę, pavyzdžiui, į Britanijos pilietybę, bet tokiu atveju išsaugos jie ir Lietuvos pilietybę. Mes turime žengti žingsnį ir toliau, apskritai, įteisinti dvigubą pilietybę. Tačiau kol kas Seime palaikymo nesulaukėme. ] = 1'}]\n",
            "answer:   1\n"
          ]
        },
        {
          "output_type": "stream",
          "name": "stderr",
          "text": [
            "\r 25%|██▌       | 36/143 [00:15<00:49,  2.18it/s]Setting `pad_token_id` to `eos_token_id`:128001 for open-end generation.\n"
          ]
        },
        {
          "output_type": "stream",
          "name": "stdout",
          "text": [
            "prompt:  \n",
            "            Sociolingvistikos srityje Veido Grasinantis Veiksmas (VGV) yra komunikacinis veiksmas, kuris kelia grėsmę kalbėtojo ar klausytojo socialinei tapatybei ir savivertės jausmui. \n",
            "            Pavyzdžiai VGV yra įžeidimai, pertraukimai ir kritika. \n",
            "            Išanalizuokite šį naujienų tekstą ir atsakykite, ar jame yra Veido Grasinantis Veiksmas (VGV). \n",
            "            Atsakykite „1“ už „taip“ arba „0“ už „ne“.\n",
            "\n",
            "            [Norint, kad politikas būtų nekorumpuotas, pirmiausia, mes turim garantuoti skaidrius ir aiškius šiandien rinkimus. Tai aš manau, kad skaidresnius, aiškesnius reikia kuo labiau išviešint. Kitas yra labai svarbus dalykas, ką Seimas savu laiku padarė, tai nusprendė drausti partijas ir politikus, remti verslininkus. Bet atsirado kitas yra dalykas, kada žmonės pradėjo iš šalies remti, nematomais pinigais ir po to juos pradeda tampyti. Tai, mieli mano, ateikit į rinkimus ir jūs nuspręsite, kad nebūtų pas mus korumpuotų politikų.] = \n",
            "result:  [{'generated_text': '\\n            Sociolingvistikos srityje Veido Grasinantis Veiksmas (VGV) yra komunikacinis veiksmas, kuris kelia grėsmę kalbėtojo ar klausytojo socialinei tapatybei ir savivertės jausmui. \\n            Pavyzdžiai VGV yra įžeidimai, pertraukimai ir kritika. \\n            Išanalizuokite šį naujienų tekstą ir atsakykite, ar jame yra Veido Grasinantis Veiksmas (VGV). \\n            Atsakykite „1“ už „taip“ arba „0“ už „ne“.\\n\\n            [Norint, kad politikas būtų nekorumpuotas, pirmiausia, mes turim garantuoti skaidrius ir aiškius šiandien rinkimus. Tai aš manau, kad skaidresnius, aiškesnius reikia kuo labiau išviešint. Kitas yra labai svarbus dalykas, ką Seimas savu laiku padarė, tai nusprendė drausti partijas ir politikus, remti verslininkus. Bet atsirado kitas yra dalykas, kada žmonės pradėjo iš šalies remti, nematomais pinigais ir po to juos pradeda tampyti. Tai, mieli mano, ateikit į rinkimus ir jūs nuspręsite, kad nebūtų pas mus korumpuotų politikų.] = 1'}]\n",
            "answer:   1\n"
          ]
        },
        {
          "output_type": "stream",
          "name": "stderr",
          "text": [
            "\r 26%|██▌       | 37/143 [00:16<00:50,  2.09it/s]Setting `pad_token_id` to `eos_token_id`:128001 for open-end generation.\n"
          ]
        },
        {
          "output_type": "stream",
          "name": "stdout",
          "text": [
            "prompt:  \n",
            "            Sociolingvistikos srityje Veido Grasinantis Veiksmas (VGV) yra komunikacinis veiksmas, kuris kelia grėsmę kalbėtojo ar klausytojo socialinei tapatybei ir savivertės jausmui. \n",
            "            Pavyzdžiai VGV yra įžeidimai, pertraukimai ir kritika. \n",
            "            Išanalizuokite šį naujienų tekstą ir atsakykite, ar jame yra Veido Grasinantis Veiksmas (VGV). \n",
            "            Atsakykite „1“ už „taip“ arba „0“ už „ne“.\n",
            "\n",
            "            [Šiek tiek apie šešėlinės ekonomikos rūšis. Yra tokios rūšys, pavyzdžiui, narkotikų prekyba,  prostitucija] = \n",
            "result:  [{'generated_text': '\\n            Sociolingvistikos srityje Veido Grasinantis Veiksmas (VGV) yra komunikacinis veiksmas, kuris kelia grėsmę kalbėtojo ar klausytojo socialinei tapatybei ir savivertės jausmui. \\n            Pavyzdžiai VGV yra įžeidimai, pertraukimai ir kritika. \\n            Išanalizuokite šį naujienų tekstą ir atsakykite, ar jame yra Veido Grasinantis Veiksmas (VGV). \\n            Atsakykite „1“ už „taip“ arba „0“ už „ne“.\\n\\n            [Šiek tiek apie šešėlinės ekonomikos rūšis. Yra tokios rūšys, pavyzdžiui, narkotikų prekyba,  prostitucija] = 0'}]\n",
            "answer:   0\n"
          ]
        },
        {
          "output_type": "stream",
          "name": "stderr",
          "text": [
            "\r 27%|██▋       | 38/143 [00:16<00:52,  1.98it/s]Setting `pad_token_id` to `eos_token_id`:128001 for open-end generation.\n"
          ]
        },
        {
          "output_type": "stream",
          "name": "stdout",
          "text": [
            "prompt:  \n",
            "            Sociolingvistikos srityje Veido Grasinantis Veiksmas (VGV) yra komunikacinis veiksmas, kuris kelia grėsmę kalbėtojo ar klausytojo socialinei tapatybei ir savivertės jausmui. \n",
            "            Pavyzdžiai VGV yra įžeidimai, pertraukimai ir kritika. \n",
            "            Išanalizuokite šį naujienų tekstą ir atsakykite, ar jame yra Veido Grasinantis Veiksmas (VGV). \n",
            "            Atsakykite „1“ už „taip“ arba „0“ už „ne“.\n",
            "\n",
            "            [Tai vat, politinė korupcija Jūsų akyse.] = \n",
            "result:  [{'generated_text': '\\n            Sociolingvistikos srityje Veido Grasinantis Veiksmas (VGV) yra komunikacinis veiksmas, kuris kelia grėsmę kalbėtojo ar klausytojo socialinei tapatybei ir savivertės jausmui. \\n            Pavyzdžiai VGV yra įžeidimai, pertraukimai ir kritika. \\n            Išanalizuokite šį naujienų tekstą ir atsakykite, ar jame yra Veido Grasinantis Veiksmas (VGV). \\n            Atsakykite „1“ už „taip“ arba „0“ už „ne“.\\n\\n            [Tai vat, politinė korupcija Jūsų akyse.] = 1'}]\n",
            "answer:   1\n"
          ]
        },
        {
          "output_type": "stream",
          "name": "stderr",
          "text": [
            "\r 27%|██▋       | 39/143 [00:17<00:52,  1.96it/s]Setting `pad_token_id` to `eos_token_id`:128001 for open-end generation.\n"
          ]
        },
        {
          "output_type": "stream",
          "name": "stdout",
          "text": [
            "prompt:  \n",
            "            Sociolingvistikos srityje Veido Grasinantis Veiksmas (VGV) yra komunikacinis veiksmas, kuris kelia grėsmę kalbėtojo ar klausytojo socialinei tapatybei ir savivertės jausmui. \n",
            "            Pavyzdžiai VGV yra įžeidimai, pertraukimai ir kritika. \n",
            "            Išanalizuokite šį naujienų tekstą ir atsakykite, ar jame yra Veido Grasinantis Veiksmas (VGV). \n",
            "            Atsakykite „1“ už „taip“ arba „0“ už „ne“.\n",
            "\n",
            "            [Sveiki. Naujamiesčio apygardos kandidatas, eem, tenka, ypatingai pastaruoju metu, daug keliauti po svečias šalis ir susitikti su lietuviais, tai, iš tikrųjų, jie yra nusivylę tuo, kad dviguba pilietybė, svarstymas ir būtent net internetinio balsavimo klausimas yra ilgai svarstomas, bet niekas negali eem, priimti jo, tai liberalai vieninteliai, kurie nuosekliai politiką būtent tuo klausimu vykdėo. Tai, iš tikrųjų, tai padėtų su jais palaikyti geresnį ryšį ir kad jie galėtų dalyvauti, būtent, politiniam gyvenime Lietuvos.] = \n",
            "result:  [{'generated_text': '\\n            Sociolingvistikos srityje Veido Grasinantis Veiksmas (VGV) yra komunikacinis veiksmas, kuris kelia grėsmę kalbėtojo ar klausytojo socialinei tapatybei ir savivertės jausmui. \\n            Pavyzdžiai VGV yra įžeidimai, pertraukimai ir kritika. \\n            Išanalizuokite šį naujienų tekstą ir atsakykite, ar jame yra Veido Grasinantis Veiksmas (VGV). \\n            Atsakykite „1“ už „taip“ arba „0“ už „ne“.\\n\\n            [Sveiki. Naujamiesčio apygardos kandidatas, eem, tenka, ypatingai pastaruoju metu, daug keliauti po svečias šalis ir susitikti su lietuviais, tai, iš tikrųjų, jie yra nusivylę tuo, kad dviguba pilietybė, svarstymas ir būtent net internetinio balsavimo klausimas yra ilgai svarstomas, bet niekas negali eem, priimti jo, tai liberalai vieninteliai, kurie nuosekliai politiką būtent tuo klausimu vykdėo. Tai, iš tikrųjų, tai padėtų su jais palaikyti geresnį ryšį ir kad jie galėtų dalyvauti, būtent, politiniam gyvenime Lietuvos.] = 1'}]\n",
            "answer:   1\n"
          ]
        },
        {
          "output_type": "stream",
          "name": "stderr",
          "text": [
            "\r 28%|██▊       | 40/143 [00:17<00:51,  1.99it/s]Setting `pad_token_id` to `eos_token_id`:128001 for open-end generation.\n"
          ]
        },
        {
          "output_type": "stream",
          "name": "stdout",
          "text": [
            "prompt:  \n",
            "            Sociolingvistikos srityje Veido Grasinantis Veiksmas (VGV) yra komunikacinis veiksmas, kuris kelia grėsmę kalbėtojo ar klausytojo socialinei tapatybei ir savivertės jausmui. \n",
            "            Pavyzdžiai VGV yra įžeidimai, pertraukimai ir kritika. \n",
            "            Išanalizuokite šį naujienų tekstą ir atsakykite, ar jame yra Veido Grasinantis Veiksmas (VGV). \n",
            "            Atsakykite „1“ už „taip“ arba „0“ už „ne“.\n",
            "\n",
            "            [Na, geria ir linksminasi, turbūt dvi skirtingos sąvokos.] = \n",
            "result:  [{'generated_text': '\\n            Sociolingvistikos srityje Veido Grasinantis Veiksmas (VGV) yra komunikacinis veiksmas, kuris kelia grėsmę kalbėtojo ar klausytojo socialinei tapatybei ir savivertės jausmui. \\n            Pavyzdžiai VGV yra įžeidimai, pertraukimai ir kritika. \\n            Išanalizuokite šį naujienų tekstą ir atsakykite, ar jame yra Veido Grasinantis Veiksmas (VGV). \\n            Atsakykite „1“ už „taip“ arba „0“ už „ne“.\\n\\n            [Na, geria ir linksminasi, turbūt dvi skirtingos sąvokos.] = 0'}]\n",
            "answer:   0\n"
          ]
        },
        {
          "output_type": "stream",
          "name": "stderr",
          "text": [
            "\r 29%|██▊       | 41/143 [00:18<00:50,  2.01it/s]Setting `pad_token_id` to `eos_token_id`:128001 for open-end generation.\n"
          ]
        },
        {
          "output_type": "stream",
          "name": "stdout",
          "text": [
            "prompt:  \n",
            "            Sociolingvistikos srityje Veido Grasinantis Veiksmas (VGV) yra komunikacinis veiksmas, kuris kelia grėsmę kalbėtojo ar klausytojo socialinei tapatybei ir savivertės jausmui. \n",
            "            Pavyzdžiai VGV yra įžeidimai, pertraukimai ir kritika. \n",
            "            Išanalizuokite šį naujienų tekstą ir atsakykite, ar jame yra Veido Grasinantis Veiksmas (VGV). \n",
            "            Atsakykite „1“ už „taip“ arba „0“ už „ne“.\n",
            "\n",
            "            [Pradėčiau nuo to, kad socialinė apsauga yra visiškai per ketverius metus stagnuojanti ir nereformuota sistema. Na, net pasižiūrėkime Ministrė Algimanta Pabedinskienė nemato reikalo dalyvauti čia arba partija nemato reikalo pakviesti. ] = \n",
            "result:  [{'generated_text': '\\n            Sociolingvistikos srityje Veido Grasinantis Veiksmas (VGV) yra komunikacinis veiksmas, kuris kelia grėsmę kalbėtojo ar klausytojo socialinei tapatybei ir savivertės jausmui. \\n            Pavyzdžiai VGV yra įžeidimai, pertraukimai ir kritika. \\n            Išanalizuokite šį naujienų tekstą ir atsakykite, ar jame yra Veido Grasinantis Veiksmas (VGV). \\n            Atsakykite „1“ už „taip“ arba „0“ už „ne“.\\n\\n            [Pradėčiau nuo to, kad socialinė apsauga yra visiškai per ketverius metus stagnuojanti ir nereformuota sistema. Na, net pasižiūrėkime Ministrė Algimanta Pabedinskienė nemato reikalo dalyvauti čia arba partija nemato reikalo pakviesti. ] = 0'}]\n",
            "answer:   0\n"
          ]
        },
        {
          "output_type": "stream",
          "name": "stderr",
          "text": [
            "\r 29%|██▉       | 42/143 [00:18<00:51,  1.96it/s]Setting `pad_token_id` to `eos_token_id`:128001 for open-end generation.\n"
          ]
        },
        {
          "output_type": "stream",
          "name": "stdout",
          "text": [
            "prompt:  \n",
            "            Sociolingvistikos srityje Veido Grasinantis Veiksmas (VGV) yra komunikacinis veiksmas, kuris kelia grėsmę kalbėtojo ar klausytojo socialinei tapatybei ir savivertės jausmui. \n",
            "            Pavyzdžiai VGV yra įžeidimai, pertraukimai ir kritika. \n",
            "            Išanalizuokite šį naujienų tekstą ir atsakykite, ar jame yra Veido Grasinantis Veiksmas (VGV). \n",
            "            Atsakykite „1“ už „taip“ arba „0“ už „ne“.\n",
            "\n",
            "            [Skamba labai moksliškai, bet iš tiesų mokesčių sistema nėra toks paprastas dalykas, kaip mėgsta dabartinė Ministrė kartoti ten visą laiką nesąmonę apie paprastus mokesčius.  Kitas dalykas, visiškai akivaizdu, negali būt apmokestinamas skurdas. Tai yra: NPD turi būt pakankamai didelis, ir mano supratimu nelogiška, kad jis bus kaip minimalus atlyginimas, jis turi būt didesnis dėl tos priežasties, kad negalima apmokestint to, kai nėra padidėjusio vartojimo. Tai yra, vat, šita sistema griaunama, kad nesilaikoma elementarios ekonominės logikos. Vokietija savo mokesčių sistemą sukūrė 48-ais metais, tai buvo visiškai nustekenta šalis su visiškai sugriauta ekonomika ir sistema.] = \n",
            "result:  [{'generated_text': '\\n            Sociolingvistikos srityje Veido Grasinantis Veiksmas (VGV) yra komunikacinis veiksmas, kuris kelia grėsmę kalbėtojo ar klausytojo socialinei tapatybei ir savivertės jausmui. \\n            Pavyzdžiai VGV yra įžeidimai, pertraukimai ir kritika. \\n            Išanalizuokite šį naujienų tekstą ir atsakykite, ar jame yra Veido Grasinantis Veiksmas (VGV). \\n            Atsakykite „1“ už „taip“ arba „0“ už „ne“.\\n\\n            [Skamba labai moksliškai, bet iš tiesų mokesčių sistema nėra toks paprastas dalykas, kaip mėgsta dabartinė Ministrė kartoti ten visą laiką nesąmonę apie paprastus mokesčius.  Kitas dalykas, visiškai akivaizdu, negali būt apmokestinamas skurdas. Tai yra: NPD turi būt pakankamai didelis, ir mano supratimu nelogiška, kad jis bus kaip minimalus atlyginimas, jis turi būt didesnis dėl tos priežasties, kad negalima apmokestint to, kai nėra padidėjusio vartojimo. Tai yra, vat, šita sistema griaunama, kad nesilaikoma elementarios ekonominės logikos. Vokietija savo mokesčių sistemą sukūrė 48-ais metais, tai buvo visiškai nustekenta šalis su visiškai sugriauta ekonomika ir sistema.] = 1'}]\n",
            "answer:   1\n"
          ]
        },
        {
          "output_type": "stream",
          "name": "stderr",
          "text": [
            "\r 30%|███       | 43/143 [00:19<00:51,  1.94it/s]Setting `pad_token_id` to `eos_token_id`:128001 for open-end generation.\n"
          ]
        },
        {
          "output_type": "stream",
          "name": "stdout",
          "text": [
            "prompt:  \n",
            "            Sociolingvistikos srityje Veido Grasinantis Veiksmas (VGV) yra komunikacinis veiksmas, kuris kelia grėsmę kalbėtojo ar klausytojo socialinei tapatybei ir savivertės jausmui. \n",
            "            Pavyzdžiai VGV yra įžeidimai, pertraukimai ir kritika. \n",
            "            Išanalizuokite šį naujienų tekstą ir atsakykite, ar jame yra Veido Grasinantis Veiksmas (VGV). \n",
            "            Atsakykite „1“ už „taip“ arba „0“ už „ne“.\n",
            "\n",
            "            [replikuodamas į kolegą aš galiu pasakyti nei viena vyriausybė nei jūsų prieš tai nei neparuošėt nei vieno, išskyrus, kad Jurbarko teritoriją paskiriat problemine, suremontavot dešimt daugiabučių ir šiai dienai pusė daugiabučių sienų nugriuvo. Siūlau nuvažiuoti į Jurbarką pasižiūrėti, būtent Jums būnant Vidaus reikalų ministru ta sistema ir buvo padaryta. ] = \n",
            "result:  [{'generated_text': '\\n            Sociolingvistikos srityje Veido Grasinantis Veiksmas (VGV) yra komunikacinis veiksmas, kuris kelia grėsmę kalbėtojo ar klausytojo socialinei tapatybei ir savivertės jausmui. \\n            Pavyzdžiai VGV yra įžeidimai, pertraukimai ir kritika. \\n            Išanalizuokite šį naujienų tekstą ir atsakykite, ar jame yra Veido Grasinantis Veiksmas (VGV). \\n            Atsakykite „1“ už „taip“ arba „0“ už „ne“.\\n\\n            [replikuodamas į kolegą aš galiu pasakyti nei viena vyriausybė nei jūsų prieš tai nei neparuošėt nei vieno, išskyrus, kad Jurbarko teritoriją paskiriat problemine, suremontavot dešimt daugiabučių ir šiai dienai pusė daugiabučių sienų nugriuvo. Siūlau nuvažiuoti į Jurbarką pasižiūrėti, būtent Jums būnant Vidaus reikalų ministru ta sistema ir buvo padaryta. ] = 1'}]\n",
            "answer:   1\n"
          ]
        },
        {
          "output_type": "stream",
          "name": "stderr",
          "text": [
            "\r 31%|███       | 44/143 [00:19<00:53,  1.87it/s]Setting `pad_token_id` to `eos_token_id`:128001 for open-end generation.\n"
          ]
        },
        {
          "output_type": "stream",
          "name": "stdout",
          "text": [
            "prompt:  \n",
            "            Sociolingvistikos srityje Veido Grasinantis Veiksmas (VGV) yra komunikacinis veiksmas, kuris kelia grėsmę kalbėtojo ar klausytojo socialinei tapatybei ir savivertės jausmui. \n",
            "            Pavyzdžiai VGV yra įžeidimai, pertraukimai ir kritika. \n",
            "            Išanalizuokite šį naujienų tekstą ir atsakykite, ar jame yra Veido Grasinantis Veiksmas (VGV). \n",
            "            Atsakykite „1“ už „taip“ arba „0“ už „ne“.\n",
            "\n",
            "            [Trumpa tikrai reakcija į tai, ką Premjeras sako dabar. Reiškia, kad prasidėjo konsolidacija. Iš tikrųjų, aš noriu priminti, kad vienintelis konsolidacijos pavyzdys šiandien tai yra beveik uždaryta Žemaitijos kolegija. 47 buvo, 46 liko. Labai puikus pavyzdys, norėčiau priminti, kad tam susijungimui. Norėčiau priminti, kad tam susijungimui yra skirta 50 milijonų eurų ir jisai yra nevykstantis, nevykstantis, dėl to, kad abu universitetai neranda būdo susitarti. Ta suma, kuri yra skirti universitetų susijungimui, yra didesnė, negu jų metiniai biudžetai. Iš principo, tai yra absurdiška, ką mes dabar darome. ] = \n",
            "result:  [{'generated_text': '\\n            Sociolingvistikos srityje Veido Grasinantis Veiksmas (VGV) yra komunikacinis veiksmas, kuris kelia grėsmę kalbėtojo ar klausytojo socialinei tapatybei ir savivertės jausmui. \\n            Pavyzdžiai VGV yra įžeidimai, pertraukimai ir kritika. \\n            Išanalizuokite šį naujienų tekstą ir atsakykite, ar jame yra Veido Grasinantis Veiksmas (VGV). \\n            Atsakykite „1“ už „taip“ arba „0“ už „ne“.\\n\\n            [Trumpa tikrai reakcija į tai, ką Premjeras sako dabar. Reiškia, kad prasidėjo konsolidacija. Iš tikrųjų, aš noriu priminti, kad vienintelis konsolidacijos pavyzdys šiandien tai yra beveik uždaryta Žemaitijos kolegija. 47 buvo, 46 liko. Labai puikus pavyzdys, norėčiau priminti, kad tam susijungimui. Norėčiau priminti, kad tam susijungimui yra skirta 50 milijonų eurų ir jisai yra nevykstantis, nevykstantis, dėl to, kad abu universitetai neranda būdo susitarti. Ta suma, kuri yra skirti universitetų susijungimui, yra didesnė, negu jų metiniai biudžetai. Iš principo, tai yra absurdiška, ką mes dabar darome. ] = 1'}]\n",
            "answer:   1\n"
          ]
        },
        {
          "output_type": "stream",
          "name": "stderr",
          "text": [
            "\r 31%|███▏      | 45/143 [00:20<00:50,  1.92it/s]Setting `pad_token_id` to `eos_token_id`:128001 for open-end generation.\n"
          ]
        },
        {
          "output_type": "stream",
          "name": "stdout",
          "text": [
            "prompt:  \n",
            "            Sociolingvistikos srityje Veido Grasinantis Veiksmas (VGV) yra komunikacinis veiksmas, kuris kelia grėsmę kalbėtojo ar klausytojo socialinei tapatybei ir savivertės jausmui. \n",
            "            Pavyzdžiai VGV yra įžeidimai, pertraukimai ir kritika. \n",
            "            Išanalizuokite šį naujienų tekstą ir atsakykite, ar jame yra Veido Grasinantis Veiksmas (VGV). \n",
            "            Atsakykite „1“ už „taip“ arba „0“ už „ne“.\n",
            "\n",
            "            [Tai iš tikrųjų, jau šita diskusija  ir rodo, kad bendro požiūrio Lietuvoj į ekonomikos vystymą ir jos problemas nėra, ir aš labai linkiu visiem susitart,  nes žmonėms nereikia mūsų ginčų, pykčių, dar ko nors, žmonėms reikia aiškaus rezultato , didesnių pajamų, mažesnių išlaidų, o nuo to, kad vieni vieną siūlys, kiti kitą ir nesutarsim, tai geriau nebus. ] = \n",
            "result:  [{'generated_text': '\\n            Sociolingvistikos srityje Veido Grasinantis Veiksmas (VGV) yra komunikacinis veiksmas, kuris kelia grėsmę kalbėtojo ar klausytojo socialinei tapatybei ir savivertės jausmui. \\n            Pavyzdžiai VGV yra įžeidimai, pertraukimai ir kritika. \\n            Išanalizuokite šį naujienų tekstą ir atsakykite, ar jame yra Veido Grasinantis Veiksmas (VGV). \\n            Atsakykite „1“ už „taip“ arba „0“ už „ne“.\\n\\n            [Tai iš tikrųjų, jau šita diskusija  ir rodo, kad bendro požiūrio Lietuvoj į ekonomikos vystymą ir jos problemas nėra, ir aš labai linkiu visiem susitart,  nes žmonėms nereikia mūsų ginčų, pykčių, dar ko nors, žmonėms reikia aiškaus rezultato , didesnių pajamų, mažesnių išlaidų, o nuo to, kad vieni vieną siūlys, kiti kitą ir nesutarsim, tai geriau nebus. ] = 1'}]\n",
            "answer:   1\n"
          ]
        },
        {
          "output_type": "stream",
          "name": "stderr",
          "text": [
            "\r 32%|███▏      | 46/143 [00:20<00:48,  1.98it/s]Setting `pad_token_id` to `eos_token_id`:128001 for open-end generation.\n"
          ]
        },
        {
          "output_type": "stream",
          "name": "stdout",
          "text": [
            "prompt:  \n",
            "            Sociolingvistikos srityje Veido Grasinantis Veiksmas (VGV) yra komunikacinis veiksmas, kuris kelia grėsmę kalbėtojo ar klausytojo socialinei tapatybei ir savivertės jausmui. \n",
            "            Pavyzdžiai VGV yra įžeidimai, pertraukimai ir kritika. \n",
            "            Išanalizuokite šį naujienų tekstą ir atsakykite, ar jame yra Veido Grasinantis Veiksmas (VGV). \n",
            "            Atsakykite „1“ už „taip“ arba „0“ už „ne“.\n",
            "\n",
            "            [30 procentų nuo ko? Atsiprašau, patikslinu.] = \n",
            "result:  [{'generated_text': '\\n            Sociolingvistikos srityje Veido Grasinantis Veiksmas (VGV) yra komunikacinis veiksmas, kuris kelia grėsmę kalbėtojo ar klausytojo socialinei tapatybei ir savivertės jausmui. \\n            Pavyzdžiai VGV yra įžeidimai, pertraukimai ir kritika. \\n            Išanalizuokite šį naujienų tekstą ir atsakykite, ar jame yra Veido Grasinantis Veiksmas (VGV). \\n            Atsakykite „1“ už „taip“ arba „0“ už „ne“.\\n\\n            [30 procentų nuo ko? Atsiprašau, patikslinu.] = 1'}]\n",
            "answer:   1\n"
          ]
        },
        {
          "output_type": "stream",
          "name": "stderr",
          "text": [
            "\r 33%|███▎      | 47/143 [00:21<00:48,  1.97it/s]Setting `pad_token_id` to `eos_token_id`:128001 for open-end generation.\n"
          ]
        },
        {
          "output_type": "stream",
          "name": "stdout",
          "text": [
            "prompt:  \n",
            "            Sociolingvistikos srityje Veido Grasinantis Veiksmas (VGV) yra komunikacinis veiksmas, kuris kelia grėsmę kalbėtojo ar klausytojo socialinei tapatybei ir savivertės jausmui. \n",
            "            Pavyzdžiai VGV yra įžeidimai, pertraukimai ir kritika. \n",
            "            Išanalizuokite šį naujienų tekstą ir atsakykite, ar jame yra Veido Grasinantis Veiksmas (VGV). \n",
            "            Atsakykite „1“ už „taip“ arba „0“ už „ne“.\n",
            "\n",
            "            [Mes sustiprinsime policijos patruliavimą palei mokyklas, nepilnamečiai turės būti eritorijoje, kai matys, išeina, tada eis aišku namo, bet teritorijoe negalės girtuokliauti ir tokių atvejų, kaip pasitaikydavo anksčiau. Bet daugiau norėčiau duoti mūsų Sveikatos komiteto pirmininkei Dangutei Mikutienei, kuri praplės.] = \n",
            "result:  [{'generated_text': '\\n            Sociolingvistikos srityje Veido Grasinantis Veiksmas (VGV) yra komunikacinis veiksmas, kuris kelia grėsmę kalbėtojo ar klausytojo socialinei tapatybei ir savivertės jausmui. \\n            Pavyzdžiai VGV yra įžeidimai, pertraukimai ir kritika. \\n            Išanalizuokite šį naujienų tekstą ir atsakykite, ar jame yra Veido Grasinantis Veiksmas (VGV). \\n            Atsakykite „1“ už „taip“ arba „0“ už „ne“.\\n\\n            [Mes sustiprinsime policijos patruliavimą palei mokyklas, nepilnamečiai turės būti eritorijoje, kai matys, išeina, tada eis aišku namo, bet teritorijoe negalės girtuokliauti ir tokių atvejų, kaip pasitaikydavo anksčiau. Bet daugiau norėčiau duoti mūsų Sveikatos komiteto pirmininkei Dangutei Mikutienei, kuri praplės.] = 0'}]\n",
            "answer:   0\n"
          ]
        },
        {
          "output_type": "stream",
          "name": "stderr",
          "text": [
            "\r 34%|███▎      | 48/143 [00:21<00:48,  1.97it/s]Setting `pad_token_id` to `eos_token_id`:128001 for open-end generation.\n"
          ]
        },
        {
          "output_type": "stream",
          "name": "stdout",
          "text": [
            "prompt:  \n",
            "            Sociolingvistikos srityje Veido Grasinantis Veiksmas (VGV) yra komunikacinis veiksmas, kuris kelia grėsmę kalbėtojo ar klausytojo socialinei tapatybei ir savivertės jausmui. \n",
            "            Pavyzdžiai VGV yra įžeidimai, pertraukimai ir kritika. \n",
            "            Išanalizuokite šį naujienų tekstą ir atsakykite, ar jame yra Veido Grasinantis Veiksmas (VGV). \n",
            "            Atsakykite „1“ už „taip“ arba „0“ už „ne“.\n",
            "\n",
            "            [Klausykit, aš nežinau, jisai...] = \n",
            "result:  [{'generated_text': '\\n            Sociolingvistikos srityje Veido Grasinantis Veiksmas (VGV) yra komunikacinis veiksmas, kuris kelia grėsmę kalbėtojo ar klausytojo socialinei tapatybei ir savivertės jausmui. \\n            Pavyzdžiai VGV yra įžeidimai, pertraukimai ir kritika. \\n            Išanalizuokite šį naujienų tekstą ir atsakykite, ar jame yra Veido Grasinantis Veiksmas (VGV). \\n            Atsakykite „1“ už „taip“ arba „0“ už „ne“.\\n\\n            [Klausykit, aš nežinau, jisai...] = 1'}]\n",
            "answer:   1\n"
          ]
        },
        {
          "output_type": "stream",
          "name": "stderr",
          "text": [
            "\r 34%|███▍      | 49/143 [00:22<00:49,  1.89it/s]Setting `pad_token_id` to `eos_token_id`:128001 for open-end generation.\n"
          ]
        },
        {
          "output_type": "stream",
          "name": "stdout",
          "text": [
            "prompt:  \n",
            "            Sociolingvistikos srityje Veido Grasinantis Veiksmas (VGV) yra komunikacinis veiksmas, kuris kelia grėsmę kalbėtojo ar klausytojo socialinei tapatybei ir savivertės jausmui. \n",
            "            Pavyzdžiai VGV yra įžeidimai, pertraukimai ir kritika. \n",
            "            Išanalizuokite šį naujienų tekstą ir atsakykite, ar jame yra Veido Grasinantis Veiksmas (VGV). \n",
            "            Atsakykite „1“ už „taip“ arba „0“ už „ne“.\n",
            "\n",
            "            [Su korupcija tikrai galima ir privaloma kovoti, ir įmanoma. Pirmiausia, ką mes siūlome, tai dažnai šiandien girdime „politinis sprendimas“, kaip sąvoka. Tai mes norime, kad politiniai sprendimai būtų prilyginti korupciniams sprendimams. Ką tai reiškia? Tai yra korupcinis politinis sprendimas kuo jis yra korupcinis? Todėl, kad jisai neigia ekonominę logiką, gamtos dėsnius ir visa kita. Ir šiandien didžioji valstybės korupcija iš esmės yra politinių sprendimų pagrindu pridengta. Ir tą dažniausia kalba visos politinės partijos. Antra, reikalingos priemonės, kad būtų galima kontroliuoti korupciją valstybėje ir su ja efektyviai kovoti. Todėl siūlome sujungto STT ir FNTT, apie kalba jau daug metų daugelis, tame tarpe ir Prezidentė palaiko tą idėją, deja, šios institucijos konkuruoja tarpusavyje ir neveikia kaip vieninga institucija. ] = \n",
            "result:  [{'generated_text': '\\n            Sociolingvistikos srityje Veido Grasinantis Veiksmas (VGV) yra komunikacinis veiksmas, kuris kelia grėsmę kalbėtojo ar klausytojo socialinei tapatybei ir savivertės jausmui. \\n            Pavyzdžiai VGV yra įžeidimai, pertraukimai ir kritika. \\n            Išanalizuokite šį naujienų tekstą ir atsakykite, ar jame yra Veido Grasinantis Veiksmas (VGV). \\n            Atsakykite „1“ už „taip“ arba „0“ už „ne“.\\n\\n            [Su korupcija tikrai galima ir privaloma kovoti, ir įmanoma. Pirmiausia, ką mes siūlome, tai dažnai šiandien girdime „politinis sprendimas“, kaip sąvoka. Tai mes norime, kad politiniai sprendimai būtų prilyginti korupciniams sprendimams. Ką tai reiškia? Tai yra korupcinis politinis sprendimas kuo jis yra korupcinis? Todėl, kad jisai neigia ekonominę logiką, gamtos dėsnius ir visa kita. Ir šiandien didžioji valstybės korupcija iš esmės yra politinių sprendimų pagrindu pridengta. Ir tą dažniausia kalba visos politinės partijos. Antra, reikalingos priemonės, kad būtų galima kontroliuoti korupciją valstybėje ir su ja efektyviai kovoti. Todėl siūlome sujungto STT ir FNTT, apie kalba jau daug metų daugelis, tame tarpe ir Prezidentė palaiko tą idėją, deja, šios institucijos konkuruoja tarpusavyje ir neveikia kaip vieninga institucija. ] = 1'}]\n",
            "answer:   1\n"
          ]
        },
        {
          "output_type": "stream",
          "name": "stderr",
          "text": [
            "\r 35%|███▍      | 50/143 [00:22<00:49,  1.87it/s]Setting `pad_token_id` to `eos_token_id`:128001 for open-end generation.\n"
          ]
        },
        {
          "output_type": "stream",
          "name": "stdout",
          "text": [
            "prompt:  \n",
            "            Sociolingvistikos srityje Veido Grasinantis Veiksmas (VGV) yra komunikacinis veiksmas, kuris kelia grėsmę kalbėtojo ar klausytojo socialinei tapatybei ir savivertės jausmui. \n",
            "            Pavyzdžiai VGV yra įžeidimai, pertraukimai ir kritika. \n",
            "            Išanalizuokite šį naujienų tekstą ir atsakykite, ar jame yra Veido Grasinantis Veiksmas (VGV). \n",
            "            Atsakykite „1“ už „taip“ arba „0“ už „ne“.\n",
            "\n",
            "            [Bijo! Bijo! Viena blogiausių ministrių.] = \n",
            "result:  [{'generated_text': '\\n            Sociolingvistikos srityje Veido Grasinantis Veiksmas (VGV) yra komunikacinis veiksmas, kuris kelia grėsmę kalbėtojo ar klausytojo socialinei tapatybei ir savivertės jausmui. \\n            Pavyzdžiai VGV yra įžeidimai, pertraukimai ir kritika. \\n            Išanalizuokite šį naujienų tekstą ir atsakykite, ar jame yra Veido Grasinantis Veiksmas (VGV). \\n            Atsakykite „1“ už „taip“ arba „0“ už „ne“.\\n\\n            [Bijo! Bijo! Viena blogiausių ministrių.] = 1'}]\n",
            "answer:   1\n"
          ]
        },
        {
          "output_type": "stream",
          "name": "stderr",
          "text": [
            "\r 36%|███▌      | 51/143 [00:23<00:48,  1.91it/s]Setting `pad_token_id` to `eos_token_id`:128001 for open-end generation.\n"
          ]
        },
        {
          "output_type": "stream",
          "name": "stdout",
          "text": [
            "prompt:  \n",
            "            Sociolingvistikos srityje Veido Grasinantis Veiksmas (VGV) yra komunikacinis veiksmas, kuris kelia grėsmę kalbėtojo ar klausytojo socialinei tapatybei ir savivertės jausmui. \n",
            "            Pavyzdžiai VGV yra įžeidimai, pertraukimai ir kritika. \n",
            "            Išanalizuokite šį naujienų tekstą ir atsakykite, ar jame yra Veido Grasinantis Veiksmas (VGV). \n",
            "            Atsakykite „1“ už „taip“ arba „0“ už „ne“.\n",
            "\n",
            "            [Iš Olandijos, “Jukos”, taip. ketvirtas klausimas, į kurį gali atsakyti “Žaliųjų” partija ir Linas Balsys: Pone Balsy, koks kitąmet, Jūsų partijai laimėjus rinkimus, žinoma, koks kitąmet bus PVM tarifo dydis? Kam taikysite mokesčių lengvatas? Kiek teisingos dabartinės mokesčių lengvatos?] = \n",
            "result:  [{'generated_text': '\\n            Sociolingvistikos srityje Veido Grasinantis Veiksmas (VGV) yra komunikacinis veiksmas, kuris kelia grėsmę kalbėtojo ar klausytojo socialinei tapatybei ir savivertės jausmui. \\n            Pavyzdžiai VGV yra įžeidimai, pertraukimai ir kritika. \\n            Išanalizuokite šį naujienų tekstą ir atsakykite, ar jame yra Veido Grasinantis Veiksmas (VGV). \\n            Atsakykite „1“ už „taip“ arba „0“ už „ne“.\\n\\n            [Iš Olandijos, “Jukos”, taip. ketvirtas klausimas, į kurį gali atsakyti “Žaliųjų” partija ir Linas Balsys: Pone Balsy, koks kitąmet, Jūsų partijai laimėjus rinkimus, žinoma, koks kitąmet bus PVM tarifo dydis? Kam taikysite mokesčių lengvatas? Kiek teisingos dabartinės mokesčių lengvatos?] = 1'}]\n",
            "answer:   1\n"
          ]
        },
        {
          "output_type": "stream",
          "name": "stderr",
          "text": [
            "\r 36%|███▋      | 52/143 [00:23<00:47,  1.93it/s]Setting `pad_token_id` to `eos_token_id`:128001 for open-end generation.\n"
          ]
        },
        {
          "output_type": "stream",
          "name": "stdout",
          "text": [
            "prompt:  \n",
            "            Sociolingvistikos srityje Veido Grasinantis Veiksmas (VGV) yra komunikacinis veiksmas, kuris kelia grėsmę kalbėtojo ar klausytojo socialinei tapatybei ir savivertės jausmui. \n",
            "            Pavyzdžiai VGV yra įžeidimai, pertraukimai ir kritika. \n",
            "            Išanalizuokite šį naujienų tekstą ir atsakykite, ar jame yra Veido Grasinantis Veiksmas (VGV). \n",
            "            Atsakykite „1“ už „taip“ arba „0“ už „ne“.\n",
            "\n",
            "            [Kas tos gaujos vadas, turbūt, galima numanyti, na, stovi čia, bet jūs įsivaizduokit, koki kolosališki pinigai buvo užkirsti bolševikinės revoliucijos įvedimui Lietuvoje.] = \n",
            "result:  [{'generated_text': '\\n            Sociolingvistikos srityje Veido Grasinantis Veiksmas (VGV) yra komunikacinis veiksmas, kuris kelia grėsmę kalbėtojo ar klausytojo socialinei tapatybei ir savivertės jausmui. \\n            Pavyzdžiai VGV yra įžeidimai, pertraukimai ir kritika. \\n            Išanalizuokite šį naujienų tekstą ir atsakykite, ar jame yra Veido Grasinantis Veiksmas (VGV). \\n            Atsakykite „1“ už „taip“ arba „0“ už „ne“.\\n\\n            [Kas tos gaujos vadas, turbūt, galima numanyti, na, stovi čia, bet jūs įsivaizduokit, koki kolosališki pinigai buvo užkirsti bolševikinės revoliucijos įvedimui Lietuvoje.] = 1'}]\n",
            "answer:   1\n"
          ]
        },
        {
          "output_type": "stream",
          "name": "stderr",
          "text": [
            "\r 37%|███▋      | 53/143 [00:24<00:47,  1.88it/s]Setting `pad_token_id` to `eos_token_id`:128001 for open-end generation.\n"
          ]
        },
        {
          "output_type": "stream",
          "name": "stdout",
          "text": [
            "prompt:  \n",
            "            Sociolingvistikos srityje Veido Grasinantis Veiksmas (VGV) yra komunikacinis veiksmas, kuris kelia grėsmę kalbėtojo ar klausytojo socialinei tapatybei ir savivertės jausmui. \n",
            "            Pavyzdžiai VGV yra įžeidimai, pertraukimai ir kritika. \n",
            "            Išanalizuokite šį naujienų tekstą ir atsakykite, ar jame yra Veido Grasinantis Veiksmas (VGV). \n",
            "            Atsakykite „1“ už „taip“ arba „0“ už „ne“.\n",
            "\n",
            "            [ Tikrai čia aš matau didžiulę problemą ir švietimo sistemoj tikrai turi vykt artimiausiu metu pokyčiai. Nes jaunimas, tas, kuris suinteresuotas užsiimt tam tikra užklasine veikla – sportuot, lankyt muzikos mokyklą, tai tikrai, irgi, viena iš švietėjiškų programų, kuri, tikrai, daro didžiulį poveikį eem, geriems dalykams] = \n",
            "result:  [{'generated_text': '\\n            Sociolingvistikos srityje Veido Grasinantis Veiksmas (VGV) yra komunikacinis veiksmas, kuris kelia grėsmę kalbėtojo ar klausytojo socialinei tapatybei ir savivertės jausmui. \\n            Pavyzdžiai VGV yra įžeidimai, pertraukimai ir kritika. \\n            Išanalizuokite šį naujienų tekstą ir atsakykite, ar jame yra Veido Grasinantis Veiksmas (VGV). \\n            Atsakykite „1“ už „taip“ arba „0“ už „ne“.\\n\\n            [ Tikrai čia aš matau didžiulę problemą ir švietimo sistemoj tikrai turi vykt artimiausiu metu pokyčiai. Nes jaunimas, tas, kuris suinteresuotas užsiimt tam tikra užklasine veikla – sportuot, lankyt muzikos mokyklą, tai tikrai, irgi, viena iš švietėjiškų programų, kuri, tikrai, daro didžiulį poveikį eem, geriems dalykams] = 1'}]\n",
            "answer:   1\n"
          ]
        },
        {
          "output_type": "stream",
          "name": "stderr",
          "text": [
            "\r 38%|███▊      | 54/143 [00:25<00:56,  1.57it/s]Setting `pad_token_id` to `eos_token_id`:128001 for open-end generation.\n"
          ]
        },
        {
          "output_type": "stream",
          "name": "stdout",
          "text": [
            "prompt:  \n",
            "            Sociolingvistikos srityje Veido Grasinantis Veiksmas (VGV) yra komunikacinis veiksmas, kuris kelia grėsmę kalbėtojo ar klausytojo socialinei tapatybei ir savivertės jausmui. \n",
            "            Pavyzdžiai VGV yra įžeidimai, pertraukimai ir kritika. \n",
            "            Išanalizuokite šį naujienų tekstą ir atsakykite, ar jame yra Veido Grasinantis Veiksmas (VGV). \n",
            "            Atsakykite „1“ už „taip“ arba „0“ už „ne“.\n",
            "\n",
            "            [Na, svarbus momentas – tai visuomenės įtraukimą į tą procesą. Aš sutinku su tuo, kad pareigūnai turėtų būti kompetentingi, turi būti nešališki ir jiems už tai turi būti atitinka apmokėta. Tačiau bendruomenė turi teisę ir pareigą tame dalyvauti. Vienas iš būdų – tai prisiekusių institucijų įtraukimas.] = \n",
            "result:  [{'generated_text': '\\n            Sociolingvistikos srityje Veido Grasinantis Veiksmas (VGV) yra komunikacinis veiksmas, kuris kelia grėsmę kalbėtojo ar klausytojo socialinei tapatybei ir savivertės jausmui. \\n            Pavyzdžiai VGV yra įžeidimai, pertraukimai ir kritika. \\n            Išanalizuokite šį naujienų tekstą ir atsakykite, ar jame yra Veido Grasinantis Veiksmas (VGV). \\n            Atsakykite „1“ už „taip“ arba „0“ už „ne“.\\n\\n            [Na, svarbus momentas – tai visuomenės įtraukimą į tą procesą. Aš sutinku su tuo, kad pareigūnai turėtų būti kompetentingi, turi būti nešališki ir jiems už tai turi būti atitinka apmokėta. Tačiau bendruomenė turi teisę ir pareigą tame dalyvauti. Vienas iš būdų – tai prisiekusių institucijų įtraukimas.] = 1'}]\n",
            "answer:   1\n"
          ]
        },
        {
          "output_type": "stream",
          "name": "stderr",
          "text": [
            "\r 38%|███▊      | 55/143 [00:26<00:58,  1.50it/s]Setting `pad_token_id` to `eos_token_id`:128001 for open-end generation.\n"
          ]
        },
        {
          "output_type": "stream",
          "name": "stdout",
          "text": [
            "prompt:  \n",
            "            Sociolingvistikos srityje Veido Grasinantis Veiksmas (VGV) yra komunikacinis veiksmas, kuris kelia grėsmę kalbėtojo ar klausytojo socialinei tapatybei ir savivertės jausmui. \n",
            "            Pavyzdžiai VGV yra įžeidimai, pertraukimai ir kritika. \n",
            "            Išanalizuokite šį naujienų tekstą ir atsakykite, ar jame yra Veido Grasinantis Veiksmas (VGV). \n",
            "            Atsakykite „1“ už „taip“ arba „0“ už „ne“.\n",
            "\n",
            "            [kokio alkoholinio gėrimo ten yra pakuotė?] = \n",
            "result:  [{'generated_text': '\\n            Sociolingvistikos srityje Veido Grasinantis Veiksmas (VGV) yra komunikacinis veiksmas, kuris kelia grėsmę kalbėtojo ar klausytojo socialinei tapatybei ir savivertės jausmui. \\n            Pavyzdžiai VGV yra įžeidimai, pertraukimai ir kritika. \\n            Išanalizuokite šį naujienų tekstą ir atsakykite, ar jame yra Veido Grasinantis Veiksmas (VGV). \\n            Atsakykite „1“ už „taip“ arba „0“ už „ne“.\\n\\n            [kokio alkoholinio gėrimo ten yra pakuotė?] = 1'}]\n",
            "answer:   1\n"
          ]
        },
        {
          "output_type": "stream",
          "name": "stderr",
          "text": [
            "\r 39%|███▉      | 56/143 [00:27<01:08,  1.27it/s]Setting `pad_token_id` to `eos_token_id`:128001 for open-end generation.\n"
          ]
        },
        {
          "output_type": "stream",
          "name": "stdout",
          "text": [
            "prompt:  \n",
            "            Sociolingvistikos srityje Veido Grasinantis Veiksmas (VGV) yra komunikacinis veiksmas, kuris kelia grėsmę kalbėtojo ar klausytojo socialinei tapatybei ir savivertės jausmui. \n",
            "            Pavyzdžiai VGV yra įžeidimai, pertraukimai ir kritika. \n",
            "            Išanalizuokite šį naujienų tekstą ir atsakykite, ar jame yra Veido Grasinantis Veiksmas (VGV). \n",
            "            Atsakykite „1“ už „taip“ arba „0“ už „ne“.\n",
            "\n",
            "            [Aišku, labai gerai, kada buvo kalbama apie lanksčius darbo santykius arba apie lanksčius darbo valandas. Tai labai gerai. Reiškia, pritars dabartiniam Darbo kodeksui, nes ten yra numatyta galimybė mamos galimybė dirbt po kelias valandas kiekvieną dieną. ] = \n",
            "result:  [{'generated_text': '\\n            Sociolingvistikos srityje Veido Grasinantis Veiksmas (VGV) yra komunikacinis veiksmas, kuris kelia grėsmę kalbėtojo ar klausytojo socialinei tapatybei ir savivertės jausmui. \\n            Pavyzdžiai VGV yra įžeidimai, pertraukimai ir kritika. \\n            Išanalizuokite šį naujienų tekstą ir atsakykite, ar jame yra Veido Grasinantis Veiksmas (VGV). \\n            Atsakykite „1“ už „taip“ arba „0“ už „ne“.\\n\\n            [Aišku, labai gerai, kada buvo kalbama apie lanksčius darbo santykius arba apie lanksčius darbo valandas. Tai labai gerai. Reiškia, pritars dabartiniam Darbo kodeksui, nes ten yra numatyta galimybė mamos galimybė dirbt po kelias valandas kiekvieną dieną. ] = 1'}]\n",
            "answer:   1\n"
          ]
        },
        {
          "output_type": "stream",
          "name": "stderr",
          "text": [
            "\r 40%|███▉      | 57/143 [00:28<01:14,  1.16it/s]Setting `pad_token_id` to `eos_token_id`:128001 for open-end generation.\n"
          ]
        },
        {
          "output_type": "stream",
          "name": "stdout",
          "text": [
            "prompt:  \n",
            "            Sociolingvistikos srityje Veido Grasinantis Veiksmas (VGV) yra komunikacinis veiksmas, kuris kelia grėsmę kalbėtojo ar klausytojo socialinei tapatybei ir savivertės jausmui. \n",
            "            Pavyzdžiai VGV yra įžeidimai, pertraukimai ir kritika. \n",
            "            Išanalizuokite šį naujienų tekstą ir atsakykite, ar jame yra Veido Grasinantis Veiksmas (VGV). \n",
            "            Atsakykite „1“ už „taip“ arba „0“ už „ne“.\n",
            "\n",
            "            [Aš Jum galiu atnešt tuos popierius paskaityt pačiam.] = \n",
            "result:  [{'generated_text': '\\n            Sociolingvistikos srityje Veido Grasinantis Veiksmas (VGV) yra komunikacinis veiksmas, kuris kelia grėsmę kalbėtojo ar klausytojo socialinei tapatybei ir savivertės jausmui. \\n            Pavyzdžiai VGV yra įžeidimai, pertraukimai ir kritika. \\n            Išanalizuokite šį naujienų tekstą ir atsakykite, ar jame yra Veido Grasinantis Veiksmas (VGV). \\n            Atsakykite „1“ už „taip“ arba „0“ už „ne“.\\n\\n            [Aš Jum galiu atnešt tuos popierius paskaityt pačiam.] = 1'}]\n",
            "answer:   1\n"
          ]
        },
        {
          "output_type": "stream",
          "name": "stderr",
          "text": [
            "\r 41%|████      | 58/143 [00:28<01:04,  1.32it/s]Setting `pad_token_id` to `eos_token_id`:128001 for open-end generation.\n"
          ]
        },
        {
          "output_type": "stream",
          "name": "stdout",
          "text": [
            "prompt:  \n",
            "            Sociolingvistikos srityje Veido Grasinantis Veiksmas (VGV) yra komunikacinis veiksmas, kuris kelia grėsmę kalbėtojo ar klausytojo socialinei tapatybei ir savivertės jausmui. \n",
            "            Pavyzdžiai VGV yra įžeidimai, pertraukimai ir kritika. \n",
            "            Išanalizuokite šį naujienų tekstą ir atsakykite, ar jame yra Veido Grasinantis Veiksmas (VGV). \n",
            "            Atsakykite „1“ už „taip“ arba „0“ už „ne“.\n",
            "\n",
            "            [Mes ne tik pasisakom už PVM mažinimą maisto produktams ir pirmojo būtinumo prekėms, bet tas projektas yra jau pristatytas Seime, po pateikimo jam yra pritarta. Tiek.] = \n",
            "result:  [{'generated_text': '\\n            Sociolingvistikos srityje Veido Grasinantis Veiksmas (VGV) yra komunikacinis veiksmas, kuris kelia grėsmę kalbėtojo ar klausytojo socialinei tapatybei ir savivertės jausmui. \\n            Pavyzdžiai VGV yra įžeidimai, pertraukimai ir kritika. \\n            Išanalizuokite šį naujienų tekstą ir atsakykite, ar jame yra Veido Grasinantis Veiksmas (VGV). \\n            Atsakykite „1“ už „taip“ arba „0“ už „ne“.\\n\\n            [Mes ne tik pasisakom už PVM mažinimą maisto produktams ir pirmojo būtinumo prekėms, bet tas projektas yra jau pristatytas Seime, po pateikimo jam yra pritarta. Tiek.] = 0'}]\n",
            "answer:   0\n"
          ]
        },
        {
          "output_type": "stream",
          "name": "stderr",
          "text": [
            "\r 41%|████▏     | 59/143 [00:29<00:56,  1.48it/s]Setting `pad_token_id` to `eos_token_id`:128001 for open-end generation.\n"
          ]
        },
        {
          "output_type": "stream",
          "name": "stdout",
          "text": [
            "prompt:  \n",
            "            Sociolingvistikos srityje Veido Grasinantis Veiksmas (VGV) yra komunikacinis veiksmas, kuris kelia grėsmę kalbėtojo ar klausytojo socialinei tapatybei ir savivertės jausmui. \n",
            "            Pavyzdžiai VGV yra įžeidimai, pertraukimai ir kritika. \n",
            "            Išanalizuokite šį naujienų tekstą ir atsakykite, ar jame yra Veido Grasinantis Veiksmas (VGV). \n",
            "            Atsakykite „1“ už „taip“ arba „0“ už „ne“.\n",
            "\n",
            "            [Džiaugiuosi, kad Gabrielius yra tikras liberalas, tik  jam tenka vadovaut konservatoriams, ar ne?] = \n",
            "result:  [{'generated_text': '\\n            Sociolingvistikos srityje Veido Grasinantis Veiksmas (VGV) yra komunikacinis veiksmas, kuris kelia grėsmę kalbėtojo ar klausytojo socialinei tapatybei ir savivertės jausmui. \\n            Pavyzdžiai VGV yra įžeidimai, pertraukimai ir kritika. \\n            Išanalizuokite šį naujienų tekstą ir atsakykite, ar jame yra Veido Grasinantis Veiksmas (VGV). \\n            Atsakykite „1“ už „taip“ arba „0“ už „ne“.\\n\\n            [Džiaugiuosi, kad Gabrielius yra tikras liberalas, tik  jam tenka vadovaut konservatoriams, ar ne?] = 1'}]\n",
            "answer:   1\n"
          ]
        },
        {
          "output_type": "stream",
          "name": "stderr",
          "text": [
            "\r 42%|████▏     | 60/143 [00:29<00:57,  1.45it/s]Setting `pad_token_id` to `eos_token_id`:128001 for open-end generation.\n"
          ]
        },
        {
          "output_type": "stream",
          "name": "stdout",
          "text": [
            "prompt:  \n",
            "            Sociolingvistikos srityje Veido Grasinantis Veiksmas (VGV) yra komunikacinis veiksmas, kuris kelia grėsmę kalbėtojo ar klausytojo socialinei tapatybei ir savivertės jausmui. \n",
            "            Pavyzdžiai VGV yra įžeidimai, pertraukimai ir kritika. \n",
            "            Išanalizuokite šį naujienų tekstą ir atsakykite, ar jame yra Veido Grasinantis Veiksmas (VGV). \n",
            "            Atsakykite „1“ už „taip“ arba „0“ už „ne“.\n",
            "\n",
            "            [Iš tikrųjų, jeigu pažiūrėtume, kas dabar imigruoja į Lietuvą? 80 procentų, per 80 procentų, yra lietuviai reemigruoja. Bet jie reemigravę, sugrįžę į Lietuvą, tuoj pat apsidairę čionai, vėl ruošiasi bėgt. Ir apklausos rodo, kad jie bėga ir dėl to, kad Lituva neturi aiškių perspektyvų. Mes turėtume skatint pirmiausiai reemigraciją. Savo išvažiavusių žmonių sugrįžimą ir pensijinio amžiaus su pinigais, žadėdami jiems orią ir gražią senatvę gražioj Lietuvos gamtoj, mes turėtume skatint grįžt jaunimą ir panaikint partinį nepotizmą, turi būt jaunimui, išsilavinusiam Lietuvos jaunimui atvira Lietuvos tarnyba, ne giminėm partinių žmonių, bet gabiausiam Lietuvos jaunimui, akademinėsa vietos turi būt atviros jiems. Dabar Lietuvia veikia kaip išstumiantis mechanizmas. Mums nereikia gabiausių, mums nereikia ambicingiausių, labiausiai išsilavinusių žmonių, harvardus, kembridžus baigusių, jie už durų, lauke. Reikia keist iš esmės šitą politiką. ] = \n",
            "result:  [{'generated_text': '\\n            Sociolingvistikos srityje Veido Grasinantis Veiksmas (VGV) yra komunikacinis veiksmas, kuris kelia grėsmę kalbėtojo ar klausytojo socialinei tapatybei ir savivertės jausmui. \\n            Pavyzdžiai VGV yra įžeidimai, pertraukimai ir kritika. \\n            Išanalizuokite šį naujienų tekstą ir atsakykite, ar jame yra Veido Grasinantis Veiksmas (VGV). \\n            Atsakykite „1“ už „taip“ arba „0“ už „ne“.\\n\\n            [Iš tikrųjų, jeigu pažiūrėtume, kas dabar imigruoja į Lietuvą? 80 procentų, per 80 procentų, yra lietuviai reemigruoja. Bet jie reemigravę, sugrįžę į Lietuvą, tuoj pat apsidairę čionai, vėl ruošiasi bėgt. Ir apklausos rodo, kad jie bėga ir dėl to, kad Lituva neturi aiškių perspektyvų. Mes turėtume skatint pirmiausiai reemigraciją. Savo išvažiavusių žmonių sugrįžimą ir pensijinio amžiaus su pinigais, žadėdami jiems orią ir gražią senatvę gražioj Lietuvos gamtoj, mes turėtume skatint grįžt jaunimą ir panaikint partinį nepotizmą, turi būt jaunimui, išsilavinusiam Lietuvos jaunimui atvira Lietuvos tarnyba, ne giminėm partinių žmonių, bet gabiausiam Lietuvos jaunimui, akademinėsa vietos turi būt atviros jiems. Dabar Lietuvia veikia kaip išstumiantis mechanizmas. Mums nereikia gabiausių, mums nereikia ambicingiausių, labiausiai išsilavinusių žmonių, harvardus, kembridžus baigusių, jie už durų, lauke. Reikia keist iš esmės šitą politiką. ] = 1'}]\n",
            "answer:   1\n"
          ]
        },
        {
          "output_type": "stream",
          "name": "stderr",
          "text": [
            "\r 43%|████▎     | 61/143 [00:30<00:52,  1.56it/s]Setting `pad_token_id` to `eos_token_id`:128001 for open-end generation.\n"
          ]
        },
        {
          "output_type": "stream",
          "name": "stdout",
          "text": [
            "prompt:  \n",
            "            Sociolingvistikos srityje Veido Grasinantis Veiksmas (VGV) yra komunikacinis veiksmas, kuris kelia grėsmę kalbėtojo ar klausytojo socialinei tapatybei ir savivertės jausmui. \n",
            "            Pavyzdžiai VGV yra įžeidimai, pertraukimai ir kritika. \n",
            "            Išanalizuokite šį naujienų tekstą ir atsakykite, ar jame yra Veido Grasinantis Veiksmas (VGV). \n",
            "            Atsakykite „1“ už „taip“ arba „0“ už „ne“.\n",
            "\n",
            "            [Štai šitą problemą reikia spręst ir šitą problemą išspręs sąrašas numeris keturiolika, „Antikorupcinė koalicija“ žino, kad tik įveikus šitą vėžį, tiktai tada galima pradėt rašyt programas ar statyti mokyklas. Šiandien publikacija: Balsių mokykla, penkiskart brangiau kainavusi negu eilinė mokykla, netinkama naudoti. Nes per karšta. Yra brokas, o pinigų sumokėta, reiškia, neįmanomas kiekis. Taigi pavyzdžiai kiekvieną dieną spaudoje, balsuokite už antikorupciną koaliciją numeris keturiolika, mes pasodinsim kyšininkus ir bus tvarka. ] = \n",
            "result:  [{'generated_text': '\\n            Sociolingvistikos srityje Veido Grasinantis Veiksmas (VGV) yra komunikacinis veiksmas, kuris kelia grėsmę kalbėtojo ar klausytojo socialinei tapatybei ir savivertės jausmui. \\n            Pavyzdžiai VGV yra įžeidimai, pertraukimai ir kritika. \\n            Išanalizuokite šį naujienų tekstą ir atsakykite, ar jame yra Veido Grasinantis Veiksmas (VGV). \\n            Atsakykite „1“ už „taip“ arba „0“ už „ne“.\\n\\n            [Štai šitą problemą reikia spręst ir šitą problemą išspręs sąrašas numeris keturiolika, „Antikorupcinė koalicija“ žino, kad tik įveikus šitą vėžį, tiktai tada galima pradėt rašyt programas ar statyti mokyklas. Šiandien publikacija: Balsių mokykla, penkiskart brangiau kainavusi negu eilinė mokykla, netinkama naudoti. Nes per karšta. Yra brokas, o pinigų sumokėta, reiškia, neįmanomas kiekis. Taigi pavyzdžiai kiekvieną dieną spaudoje, balsuokite už antikorupciną koaliciją numeris keturiolika, mes pasodinsim kyšininkus ir bus tvarka. ] = 1'}]\n",
            "answer:   1\n"
          ]
        },
        {
          "output_type": "stream",
          "name": "stderr",
          "text": [
            "\r 43%|████▎     | 62/143 [00:30<00:48,  1.68it/s]Setting `pad_token_id` to `eos_token_id`:128001 for open-end generation.\n"
          ]
        },
        {
          "output_type": "stream",
          "name": "stdout",
          "text": [
            "prompt:  \n",
            "            Sociolingvistikos srityje Veido Grasinantis Veiksmas (VGV) yra komunikacinis veiksmas, kuris kelia grėsmę kalbėtojo ar klausytojo socialinei tapatybei ir savivertės jausmui. \n",
            "            Pavyzdžiai VGV yra įžeidimai, pertraukimai ir kritika. \n",
            "            Išanalizuokite šį naujienų tekstą ir atsakykite, ar jame yra Veido Grasinantis Veiksmas (VGV). \n",
            "            Atsakykite „1“ už „taip“ arba „0“ už „ne“.\n",
            "\n",
            "            [Jūsų problema yra selektyvios žmogaus teisės, tai vieni gali gyventi, kiti – ne, tai mes artėjame į trisdešimtus metus.] = \n",
            "result:  [{'generated_text': '\\n            Sociolingvistikos srityje Veido Grasinantis Veiksmas (VGV) yra komunikacinis veiksmas, kuris kelia grėsmę kalbėtojo ar klausytojo socialinei tapatybei ir savivertės jausmui. \\n            Pavyzdžiai VGV yra įžeidimai, pertraukimai ir kritika. \\n            Išanalizuokite šį naujienų tekstą ir atsakykite, ar jame yra Veido Grasinantis Veiksmas (VGV). \\n            Atsakykite „1“ už „taip“ arba „0“ už „ne“.\\n\\n            [Jūsų problema yra selektyvios žmogaus teisės, tai vieni gali gyventi, kiti – ne, tai mes artėjame į trisdešimtus metus.] = 1'}]\n",
            "answer:   1\n"
          ]
        },
        {
          "output_type": "stream",
          "name": "stderr",
          "text": [
            "\r 44%|████▍     | 63/143 [00:31<00:44,  1.79it/s]Setting `pad_token_id` to `eos_token_id`:128001 for open-end generation.\n"
          ]
        },
        {
          "output_type": "stream",
          "name": "stdout",
          "text": [
            "prompt:  \n",
            "            Sociolingvistikos srityje Veido Grasinantis Veiksmas (VGV) yra komunikacinis veiksmas, kuris kelia grėsmę kalbėtojo ar klausytojo socialinei tapatybei ir savivertės jausmui. \n",
            "            Pavyzdžiai VGV yra įžeidimai, pertraukimai ir kritika. \n",
            "            Išanalizuokite šį naujienų tekstą ir atsakykite, ar jame yra Veido Grasinantis Veiksmas (VGV). \n",
            "            Atsakykite „1“ už „taip“ arba „0“ už „ne“.\n",
            "\n",
            "            [Čia yra kitas klausimas] = \n",
            "result:  [{'generated_text': '\\n            Sociolingvistikos srityje Veido Grasinantis Veiksmas (VGV) yra komunikacinis veiksmas, kuris kelia grėsmę kalbėtojo ar klausytojo socialinei tapatybei ir savivertės jausmui. \\n            Pavyzdžiai VGV yra įžeidimai, pertraukimai ir kritika. \\n            Išanalizuokite šį naujienų tekstą ir atsakykite, ar jame yra Veido Grasinantis Veiksmas (VGV). \\n            Atsakykite „1“ už „taip“ arba „0“ už „ne“.\\n\\n            [Čia yra kitas klausimas] = 1'}]\n",
            "answer:   1\n"
          ]
        },
        {
          "output_type": "stream",
          "name": "stderr",
          "text": [
            "\r 45%|████▍     | 64/143 [00:31<00:42,  1.86it/s]Setting `pad_token_id` to `eos_token_id`:128001 for open-end generation.\n"
          ]
        },
        {
          "output_type": "stream",
          "name": "stdout",
          "text": [
            "prompt:  \n",
            "            Sociolingvistikos srityje Veido Grasinantis Veiksmas (VGV) yra komunikacinis veiksmas, kuris kelia grėsmę kalbėtojo ar klausytojo socialinei tapatybei ir savivertės jausmui. \n",
            "            Pavyzdžiai VGV yra įžeidimai, pertraukimai ir kritika. \n",
            "            Išanalizuokite šį naujienų tekstą ir atsakykite, ar jame yra Veido Grasinantis Veiksmas (VGV). \n",
            "            Atsakykite „1“ už „taip“ arba „0“ už „ne“.\n",
            "\n",
            "            [Mes šiandien pamatėm puikų pavyzdį diskusijų su visuomene, iš tikrųjų, kai buvo, na, turbūt, spjauta į veidą ir į Prezidentūrą  ir visai visuomenei, kuri kėlė klausimą... ] = \n",
            "result:  [{'generated_text': '\\n            Sociolingvistikos srityje Veido Grasinantis Veiksmas (VGV) yra komunikacinis veiksmas, kuris kelia grėsmę kalbėtojo ar klausytojo socialinei tapatybei ir savivertės jausmui. \\n            Pavyzdžiai VGV yra įžeidimai, pertraukimai ir kritika. \\n            Išanalizuokite šį naujienų tekstą ir atsakykite, ar jame yra Veido Grasinantis Veiksmas (VGV). \\n            Atsakykite „1“ už „taip“ arba „0“ už „ne“.\\n\\n            [Mes šiandien pamatėm puikų pavyzdį diskusijų su visuomene, iš tikrųjų, kai buvo, na, turbūt, spjauta į veidą ir į Prezidentūrą  ir visai visuomenei, kuri kėlė klausimą...\\xa0] = 1'}]\n",
            "answer:   1\n"
          ]
        },
        {
          "output_type": "stream",
          "name": "stderr",
          "text": [
            "\r 45%|████▌     | 65/143 [00:32<00:42,  1.84it/s]Setting `pad_token_id` to `eos_token_id`:128001 for open-end generation.\n"
          ]
        },
        {
          "output_type": "stream",
          "name": "stdout",
          "text": [
            "prompt:  \n",
            "            Sociolingvistikos srityje Veido Grasinantis Veiksmas (VGV) yra komunikacinis veiksmas, kuris kelia grėsmę kalbėtojo ar klausytojo socialinei tapatybei ir savivertės jausmui. \n",
            "            Pavyzdžiai VGV yra įžeidimai, pertraukimai ir kritika. \n",
            "            Išanalizuokite šį naujienų tekstą ir atsakykite, ar jame yra Veido Grasinantis Veiksmas (VGV). \n",
            "            Atsakykite „1“ už „taip“ arba „0“ už „ne“.\n",
            "\n",
            "            [Ir vis dėlto grįžtant prie mano išsakytų minčių. Atlyginimas, orumas žmogaus, sveiko gyvenimo būdo propagavimas, daug kultūros ir sporto renginių, kurie yra prieinami ir įtrauktų žmones, ir jokiu būtu, be abejo, negalima tyčiotis iš tų, kurie jau yra įklimpę ir vartoja alkoholį. Ne dėl pasilinksminimo. O tiesiog ten skandina savo gyvenimo negandas ir/ir liūdesį. Tiem reikia normalios, realios, medicininės pagalbos. Netgi šiandien, norint užkoduoti asmenį, tai kainuoja labai didelius pinigus. Ir čia valstybė turėtų prisidėt.] = \n",
            "result:  [{'generated_text': '\\n            Sociolingvistikos srityje Veido Grasinantis Veiksmas (VGV) yra komunikacinis veiksmas, kuris kelia grėsmę kalbėtojo ar klausytojo socialinei tapatybei ir savivertės jausmui. \\n            Pavyzdžiai VGV yra įžeidimai, pertraukimai ir kritika. \\n            Išanalizuokite šį naujienų tekstą ir atsakykite, ar jame yra Veido Grasinantis Veiksmas (VGV). \\n            Atsakykite „1“ už „taip“ arba „0“ už „ne“.\\n\\n            [Ir vis dėlto grįžtant prie mano išsakytų minčių. Atlyginimas, orumas žmogaus, sveiko gyvenimo būdo propagavimas, daug kultūros ir sporto renginių, kurie yra prieinami ir įtrauktų žmones, ir jokiu būtu, be abejo, negalima tyčiotis iš tų, kurie jau yra įklimpę ir vartoja alkoholį. Ne dėl pasilinksminimo. O tiesiog ten skandina savo gyvenimo negandas ir/ir liūdesį. Tiem reikia normalios, realios, medicininės pagalbos. Netgi šiandien, norint užkoduoti asmenį, tai kainuoja labai didelius pinigus. Ir čia valstybė turėtų prisidėt.] = 1'}]\n",
            "answer:   1\n"
          ]
        },
        {
          "output_type": "stream",
          "name": "stderr",
          "text": [
            "\r 46%|████▌     | 66/143 [00:33<00:41,  1.86it/s]Setting `pad_token_id` to `eos_token_id`:128001 for open-end generation.\n"
          ]
        },
        {
          "output_type": "stream",
          "name": "stdout",
          "text": [
            "prompt:  \n",
            "            Sociolingvistikos srityje Veido Grasinantis Veiksmas (VGV) yra komunikacinis veiksmas, kuris kelia grėsmę kalbėtojo ar klausytojo socialinei tapatybei ir savivertės jausmui. \n",
            "            Pavyzdžiai VGV yra įžeidimai, pertraukimai ir kritika. \n",
            "            Išanalizuokite šį naujienų tekstą ir atsakykite, ar jame yra Veido Grasinantis Veiksmas (VGV). \n",
            "            Atsakykite „1“ už „taip“ arba „0“ už „ne“.\n",
            "\n",
            "            [Gerbiamieji, nebus išspręstos jokios šilumos ūkio problemos, jeigu jos bus sprendžiamos korupciniais būdais. Aš, kaip buvęs Vilniaus miesto tarybos narys, galiu patvirtinti, arba bent jau teigti, kad tos sutartys, kurios buvo pasirašytos su Rubikono grupe ir jų atstovu, iiiir ji atstovavo prancūzų kompaniją, šitas dalykas vilniečiam kainavo šimtus milijonų litų.] = \n",
            "result:  [{'generated_text': '\\n            Sociolingvistikos srityje Veido Grasinantis Veiksmas (VGV) yra komunikacinis veiksmas, kuris kelia grėsmę kalbėtojo ar klausytojo socialinei tapatybei ir savivertės jausmui. \\n            Pavyzdžiai VGV yra įžeidimai, pertraukimai ir kritika. \\n            Išanalizuokite šį naujienų tekstą ir atsakykite, ar jame yra Veido Grasinantis Veiksmas (VGV). \\n            Atsakykite „1“ už „taip“ arba „0“ už „ne“.\\n\\n            [Gerbiamieji, nebus išspręstos jokios šilumos ūkio problemos, jeigu jos bus sprendžiamos korupciniais būdais. Aš, kaip buvęs Vilniaus miesto tarybos narys, galiu patvirtinti, arba bent jau teigti, kad tos sutartys, kurios buvo pasirašytos su Rubikono grupe ir jų atstovu, iiiir ji atstovavo prancūzų kompaniją, šitas dalykas vilniečiam kainavo šimtus milijonų litų.] = 1'}]\n",
            "answer:   1\n"
          ]
        },
        {
          "output_type": "stream",
          "name": "stderr",
          "text": [
            "\r 47%|████▋     | 67/143 [00:33<00:41,  1.84it/s]Setting `pad_token_id` to `eos_token_id`:128001 for open-end generation.\n"
          ]
        },
        {
          "output_type": "stream",
          "name": "stdout",
          "text": [
            "prompt:  \n",
            "            Sociolingvistikos srityje Veido Grasinantis Veiksmas (VGV) yra komunikacinis veiksmas, kuris kelia grėsmę kalbėtojo ar klausytojo socialinei tapatybei ir savivertės jausmui. \n",
            "            Pavyzdžiai VGV yra įžeidimai, pertraukimai ir kritika. \n",
            "            Išanalizuokite šį naujienų tekstą ir atsakykite, ar jame yra Veido Grasinantis Veiksmas (VGV). \n",
            "            Atsakykite „1“ už „taip“ arba „0“ už „ne“.\n",
            "\n",
            "            [Aišku, labai gerai, kad man iš tikro lengviau, kad esu šiuo metu valdančiojoj daugumoj ir dalį gali lengvatų tiek šildymui, tiek vaistam, tiek pačiam laikraščiams mes išlaikom, vaistams, jeigu šiandienai nebūtų PVM lengvata vaistams, tai už visus žmonės mokėtų, ko gero, trečdaliu brangiau, tai yra vienas dalykas, antras yra dalykas, ką kolegos kalba, taip, aštuoniolika procentų galima taikyti PVM lengvatą, bet aš siūlyčiau pasiskaičiuoti, kiek tai kainuos biudžetui ir klausimas, ar geriau neapmokestinamų pajamų dydžių didinimas, valstybės remiamų pajamų didinimas, ar geriau PVM lengvatos sumažinimas iki aštuoniolikos procentų. Antras yra dalykas dėl automobilio.] = \n",
            "result:  [{'generated_text': '\\n            Sociolingvistikos srityje Veido Grasinantis Veiksmas (VGV) yra komunikacinis veiksmas, kuris kelia grėsmę kalbėtojo ar klausytojo socialinei tapatybei ir savivertės jausmui. \\n            Pavyzdžiai VGV yra įžeidimai, pertraukimai ir kritika. \\n            Išanalizuokite šį naujienų tekstą ir atsakykite, ar jame yra Veido Grasinantis Veiksmas (VGV). \\n            Atsakykite „1“ už „taip“ arba „0“ už „ne“.\\n\\n            [Aišku, labai gerai, kad man iš tikro lengviau, kad esu šiuo metu valdančiojoj daugumoj ir dalį gali lengvatų tiek šildymui, tiek vaistam, tiek pačiam laikraščiams mes išlaikom, vaistams, jeigu šiandienai nebūtų PVM lengvata vaistams, tai už visus žmonės mokėtų, ko gero, trečdaliu brangiau, tai yra vienas dalykas, antras yra dalykas, ką kolegos kalba, taip, aštuoniolika procentų galima taikyti PVM lengvatą, bet aš siūlyčiau pasiskaičiuoti, kiek tai kainuos biudžetui ir klausimas, ar geriau neapmokestinamų pajamų dydžių didinimas, valstybės remiamų pajamų didinimas, ar geriau PVM lengvatos sumažinimas iki aštuoniolikos procentų. Antras yra dalykas dėl automobilio.] = 1'}]\n",
            "answer:   1\n"
          ]
        },
        {
          "output_type": "stream",
          "name": "stderr",
          "text": [
            "\r 48%|████▊     | 68/143 [00:34<00:43,  1.74it/s]Setting `pad_token_id` to `eos_token_id`:128001 for open-end generation.\n"
          ]
        },
        {
          "output_type": "stream",
          "name": "stdout",
          "text": [
            "prompt:  \n",
            "            Sociolingvistikos srityje Veido Grasinantis Veiksmas (VGV) yra komunikacinis veiksmas, kuris kelia grėsmę kalbėtojo ar klausytojo socialinei tapatybei ir savivertės jausmui. \n",
            "            Pavyzdžiai VGV yra įžeidimai, pertraukimai ir kritika. \n",
            "            Išanalizuokite šį naujienų tekstą ir atsakykite, ar jame yra Veido Grasinantis Veiksmas (VGV). \n",
            "            Atsakykite „1“ už „taip“ arba „0“ už „ne“.\n",
            "\n",
            "            [Labai pritarčiau, bet dar vienas aspektas, čia galbūt toks keistesnis būtų, matot, policininkas, manau, turėtų ir būti toksai žmogus, kuris sugebėtų padėt gimdyvei, kuris sugebėtų atgaivinti, kuris sugebėtų gerai bendrauti su vaiku, kuris verkia, ar pasimetęs, manyčiau, kad, kaip va finansavimas, bet manau, kad tas žmogiškasis išsilavinimas toksai bendražmogiškas, kad jis turėtų šiltą kontaktą net ir su nusikaltėliu. Nes suprantame pschologiškai, kad kaip mes reaguojame į tą nusikaltėlį, taip jisai atgal. Manyčiau, kad psichologiškai jie  turėtų geriau būti paruošti, nes teko sutikti gan grubių policininkų, kurių tas būdas prisukti orą ar ką nors kita, bet kreiptis, pirmiausia, kaip į žmogų ir jeigu jis nepasireiškia pirmiausia, kaip žmogus, tada tiktai imtis žvėriškų priemonių, nes, matot, buvo taip, kad ir kartais kai kas, na, bagažinėj, kaip sakė toks rašytojas ir numirė, manyčiau, kad turėtų labiau atsakingai ir korektiškai priimti ir nusikaltėlį ir, šiaip, žmogų.] = \n",
            "result:  [{'generated_text': '\\n            Sociolingvistikos srityje Veido Grasinantis Veiksmas (VGV) yra komunikacinis veiksmas, kuris kelia grėsmę kalbėtojo ar klausytojo socialinei tapatybei ir savivertės jausmui. \\n            Pavyzdžiai VGV yra įžeidimai, pertraukimai ir kritika. \\n            Išanalizuokite šį naujienų tekstą ir atsakykite, ar jame yra Veido Grasinantis Veiksmas (VGV). \\n            Atsakykite „1“ už „taip“ arba „0“ už „ne“.\\n\\n            [Labai pritarčiau, bet dar vienas aspektas, čia galbūt toks keistesnis būtų, matot, policininkas, manau, turėtų ir būti toksai žmogus, kuris sugebėtų padėt gimdyvei, kuris sugebėtų atgaivinti, kuris sugebėtų gerai bendrauti su vaiku, kuris verkia, ar pasimetęs, manyčiau, kad, kaip va finansavimas, bet manau, kad tas žmogiškasis išsilavinimas toksai bendražmogiškas, kad jis turėtų šiltą kontaktą net ir su nusikaltėliu. Nes suprantame pschologiškai, kad kaip mes reaguojame į tą nusikaltėlį, taip jisai atgal. Manyčiau, kad psichologiškai jie  turėtų geriau būti paruošti, nes teko sutikti gan grubių policininkų, kurių tas būdas prisukti orą ar ką nors kita, bet kreiptis, pirmiausia, kaip į žmogų ir jeigu jis nepasireiškia pirmiausia, kaip žmogus, tada tiktai imtis žvėriškų priemonių, nes, matot, buvo taip, kad ir kartais kai kas, na, bagažinėj, kaip sakė toks rašytojas ir numirė, manyčiau, kad turėtų labiau atsakingai ir korektiškai priimti ir nusikaltėlį ir, šiaip, žmogų.] = 1'}]\n",
            "answer:   1\n"
          ]
        },
        {
          "output_type": "stream",
          "name": "stderr",
          "text": [
            "\r 48%|████▊     | 69/143 [00:34<00:40,  1.85it/s]Setting `pad_token_id` to `eos_token_id`:128001 for open-end generation.\n"
          ]
        },
        {
          "output_type": "stream",
          "name": "stdout",
          "text": [
            "prompt:  \n",
            "            Sociolingvistikos srityje Veido Grasinantis Veiksmas (VGV) yra komunikacinis veiksmas, kuris kelia grėsmę kalbėtojo ar klausytojo socialinei tapatybei ir savivertės jausmui. \n",
            "            Pavyzdžiai VGV yra įžeidimai, pertraukimai ir kritika. \n",
            "            Išanalizuokite šį naujienų tekstą ir atsakykite, ar jame yra Veido Grasinantis Veiksmas (VGV). \n",
            "            Atsakykite „1“ už „taip“ arba „0“ už „ne“.\n",
            "\n",
            "            [Kęstuti, Jūsų Ministrė taip puikiai supranta, kad bijo akis parodyt eteryje.] = \n",
            "result:  [{'generated_text': '\\n            Sociolingvistikos srityje Veido Grasinantis Veiksmas (VGV) yra komunikacinis veiksmas, kuris kelia grėsmę kalbėtojo ar klausytojo socialinei tapatybei ir savivertės jausmui. \\n            Pavyzdžiai VGV yra įžeidimai, pertraukimai ir kritika. \\n            Išanalizuokite šį naujienų tekstą ir atsakykite, ar jame yra Veido Grasinantis Veiksmas (VGV). \\n            Atsakykite „1“ už „taip“ arba „0“ už „ne“.\\n\\n            [Kęstuti, Jūsų Ministrė taip puikiai supranta, kad bijo akis parodyt eteryje.] = 1'}]\n",
            "answer:   1\n"
          ]
        },
        {
          "output_type": "stream",
          "name": "stderr",
          "text": [
            "\r 49%|████▉     | 70/143 [00:35<00:39,  1.84it/s]Setting `pad_token_id` to `eos_token_id`:128001 for open-end generation.\n"
          ]
        },
        {
          "output_type": "stream",
          "name": "stdout",
          "text": [
            "prompt:  \n",
            "            Sociolingvistikos srityje Veido Grasinantis Veiksmas (VGV) yra komunikacinis veiksmas, kuris kelia grėsmę kalbėtojo ar klausytojo socialinei tapatybei ir savivertės jausmui. \n",
            "            Pavyzdžiai VGV yra įžeidimai, pertraukimai ir kritika. \n",
            "            Išanalizuokite šį naujienų tekstą ir atsakykite, ar jame yra Veido Grasinantis Veiksmas (VGV). \n",
            "            Atsakykite „1“ už „taip“ arba „0“ už „ne“.\n",
            "\n",
            "            [Jo, aš tai norėčiau pasidžiaugti, kad šiandien Seimas pritarė mūsų siūlymui, kad šeimos, auginančios tris ir daugiau vaikų, visos gautų socialines išmokas. 52 litus, kaip anksčiau buvo, arba dabar 15 eurų. Tai tikrai tai yra sugrįžimas į tą geresnę padėtį negu kad buvo prieš tai. Nuo dešimtų metų buvo sumažinti vaiko pinigai. Mes gi siūlome, kad vaiko priežiūros pinigai būtų pirmi metai šimtas procentų, antri metai – 85 procentai, treti metai – 50 procentų.] = \n",
            "result:  [{'generated_text': '\\n            Sociolingvistikos srityje Veido Grasinantis Veiksmas (VGV) yra komunikacinis veiksmas, kuris kelia grėsmę kalbėtojo ar klausytojo socialinei tapatybei ir savivertės jausmui. \\n            Pavyzdžiai VGV yra įžeidimai, pertraukimai ir kritika. \\n            Išanalizuokite šį naujienų tekstą ir atsakykite, ar jame yra Veido Grasinantis Veiksmas (VGV). \\n            Atsakykite „1“ už „taip“ arba „0“ už „ne“.\\n\\n            [Jo, aš tai norėčiau pasidžiaugti, kad šiandien Seimas pritarė mūsų siūlymui, kad šeimos, auginančios tris ir daugiau vaikų, visos gautų socialines išmokas. 52 litus, kaip anksčiau buvo, arba dabar 15 eurų. Tai tikrai tai yra sugrįžimas į tą geresnę padėtį negu kad buvo prieš tai. Nuo dešimtų metų buvo sumažinti vaiko pinigai. Mes gi siūlome, kad vaiko priežiūros pinigai būtų pirmi metai šimtas procentų, antri metai – 85 procentai, treti metai – 50 procentų.] = 1'}]\n",
            "answer:   1\n"
          ]
        },
        {
          "output_type": "stream",
          "name": "stderr",
          "text": [
            "\r 50%|████▉     | 71/143 [00:35<00:39,  1.81it/s]Setting `pad_token_id` to `eos_token_id`:128001 for open-end generation.\n"
          ]
        },
        {
          "output_type": "stream",
          "name": "stdout",
          "text": [
            "prompt:  \n",
            "            Sociolingvistikos srityje Veido Grasinantis Veiksmas (VGV) yra komunikacinis veiksmas, kuris kelia grėsmę kalbėtojo ar klausytojo socialinei tapatybei ir savivertės jausmui. \n",
            "            Pavyzdžiai VGV yra įžeidimai, pertraukimai ir kritika. \n",
            "            Išanalizuokite šį naujienų tekstą ir atsakykite, ar jame yra Veido Grasinantis Veiksmas (VGV). \n",
            "            Atsakykite „1“ už „taip“ arba „0“ už „ne“.\n",
            "\n",
            "            [Na, iš tiesų, lygtai Lietuvoje pati socialinė apsauga, tai yra gimdymo, vaiko priežiūros atostogų terminai, kada apmokama pilnai arba dalinai, yra viena iš geriausių ne tik Europoj – ir pasauly. Bet paradoksas – mes tikrai nenorime daug gimdyti. Dėl ko, dėl to, kad tos išmokos skaičiuojamos nuo atlyginimo, o atlyginimas yra labai menkas ir dėl to tiesiog nebeiįmanoma išlaikyti ir gausinti šeimų. ] = \n",
            "result:  [{'generated_text': '\\n            Sociolingvistikos srityje Veido Grasinantis Veiksmas (VGV) yra komunikacinis veiksmas, kuris kelia grėsmę kalbėtojo ar klausytojo socialinei tapatybei ir savivertės jausmui. \\n            Pavyzdžiai VGV yra įžeidimai, pertraukimai ir kritika. \\n            Išanalizuokite šį naujienų tekstą ir atsakykite, ar jame yra Veido Grasinantis Veiksmas (VGV). \\n            Atsakykite „1“ už „taip“ arba „0“ už „ne“.\\n\\n            [Na, iš tiesų, lygtai Lietuvoje pati socialinė apsauga, tai yra gimdymo, vaiko priežiūros atostogų terminai, kada apmokama pilnai arba dalinai, yra viena iš geriausių ne tik Europoj – ir pasauly. Bet paradoksas – mes tikrai nenorime daug gimdyti. Dėl ko, dėl to, kad tos išmokos skaičiuojamos nuo atlyginimo, o atlyginimas yra labai menkas ir dėl to tiesiog nebeiįmanoma išlaikyti ir gausinti šeimų. ] = 1'}]\n",
            "answer:   1\n"
          ]
        },
        {
          "output_type": "stream",
          "name": "stderr",
          "text": [
            "\r 50%|█████     | 72/143 [00:36<00:40,  1.76it/s]Setting `pad_token_id` to `eos_token_id`:128001 for open-end generation.\n"
          ]
        },
        {
          "output_type": "stream",
          "name": "stdout",
          "text": [
            "prompt:  \n",
            "            Sociolingvistikos srityje Veido Grasinantis Veiksmas (VGV) yra komunikacinis veiksmas, kuris kelia grėsmę kalbėtojo ar klausytojo socialinei tapatybei ir savivertės jausmui. \n",
            "            Pavyzdžiai VGV yra įžeidimai, pertraukimai ir kritika. \n",
            "            Išanalizuokite šį naujienų tekstą ir atsakykite, ar jame yra Veido Grasinantis Veiksmas (VGV). \n",
            "            Atsakykite „1“ už „taip“ arba „0“ už „ne“.\n",
            "\n",
            "            [aš labai džiaugiuosi, kad mes laimėsime šitus rinkimus, ir kai mes laimėsime šitus rinkimus, iš tikrųjų, imsimės tvarkyti mokesčius, tame tarpe ir pridedamosios vertės mokestį. Mes, mes laikomės nuomonės, kad eem, iš tikrųjų reikėtų grįžti prie buvusio 18 proc. mokesčio, nes dabartinis 21 procento pridedamosios vertės mokestis yra laikinas, bet tas laikinumas tęsiasi jau daugybę metų, taigi mes siūlytume grįžti prie 18 procentų visiems, ir paskui žiūrėti, diferencijuoti tą mokestį pagal tam tikras prekių, prekių grupes ir pagal tam tikras su žaliąja ekonomika susijusias sritis. Bet apie tai, aš manau, plačiau galėtų papasakoti Renatas. ] = \n",
            "result:  [{'generated_text': '\\n            Sociolingvistikos srityje Veido Grasinantis Veiksmas (VGV) yra komunikacinis veiksmas, kuris kelia grėsmę kalbėtojo ar klausytojo socialinei tapatybei ir savivertės jausmui. \\n            Pavyzdžiai VGV yra įžeidimai, pertraukimai ir kritika. \\n            Išanalizuokite šį naujienų tekstą ir atsakykite, ar jame yra Veido Grasinantis Veiksmas (VGV). \\n            Atsakykite „1“ už „taip“ arba „0“ už „ne“.\\n\\n            [aš labai džiaugiuosi, kad mes laimėsime šitus rinkimus, ir kai mes laimėsime šitus rinkimus, iš tikrųjų, imsimės tvarkyti mokesčius, tame tarpe ir pridedamosios vertės mokestį. Mes, mes laikomės nuomonės, kad eem, iš tikrųjų reikėtų grįžti prie buvusio 18 proc. mokesčio, nes dabartinis 21 procento pridedamosios vertės mokestis yra laikinas, bet tas laikinumas tęsiasi jau daugybę metų, taigi mes siūlytume grįžti prie 18 procentų visiems, ir paskui žiūrėti, diferencijuoti tą mokestį pagal tam tikras prekių, prekių grupes ir pagal tam tikras su žaliąja ekonomika susijusias sritis. Bet apie tai, aš manau, plačiau galėtų papasakoti Renatas. ] = 1'}]\n",
            "answer:   1\n"
          ]
        },
        {
          "output_type": "stream",
          "name": "stderr",
          "text": [
            "\r 51%|█████     | 73/143 [00:37<00:41,  1.70it/s]Setting `pad_token_id` to `eos_token_id`:128001 for open-end generation.\n"
          ]
        },
        {
          "output_type": "stream",
          "name": "stdout",
          "text": [
            "prompt:  \n",
            "            Sociolingvistikos srityje Veido Grasinantis Veiksmas (VGV) yra komunikacinis veiksmas, kuris kelia grėsmę kalbėtojo ar klausytojo socialinei tapatybei ir savivertės jausmui. \n",
            "            Pavyzdžiai VGV yra įžeidimai, pertraukimai ir kritika. \n",
            "            Išanalizuokite šį naujienų tekstą ir atsakykite, ar jame yra Veido Grasinantis Veiksmas (VGV). \n",
            "            Atsakykite „1“ už „taip“ arba „0“ už „ne“.\n",
            "\n",
            "            [Gerai, išgelbėsiu LRT nuo žiauraus signataro Rolando klausimo, bet labai teisingo klausimo. Jis klausė, iš kur paimt pinigų. Atsakau: reikia pradėti nuo tų, kurie nustatė šitą blogą tvarką. Reikia nukirpti Seimo dalį, reikia nukirpt jiem dalį algų, reikia sumažint visus jų priedus, kanceliarines išlaidas, teptukus, pieštukus, automobilius, benziną. Jeigu nurėšim politinei hidrai, taip vadinamam elitui, galvą, tai tada Lietuvoj bus tvarka] = \n",
            "result:  [{'generated_text': '\\n            Sociolingvistikos srityje Veido Grasinantis Veiksmas (VGV) yra komunikacinis veiksmas, kuris kelia grėsmę kalbėtojo ar klausytojo socialinei tapatybei ir savivertės jausmui. \\n            Pavyzdžiai VGV yra įžeidimai, pertraukimai ir kritika. \\n            Išanalizuokite šį naujienų tekstą ir atsakykite, ar jame yra Veido Grasinantis Veiksmas (VGV). \\n            Atsakykite „1“ už „taip“ arba „0“ už „ne“.\\n\\n            [Gerai, išgelbėsiu LRT nuo žiauraus signataro Rolando klausimo, bet labai teisingo klausimo. Jis klausė, iš kur paimt pinigų. Atsakau: reikia pradėti nuo tų, kurie nustatė šitą blogą tvarką. Reikia nukirpti Seimo dalį, reikia nukirpt jiem dalį algų, reikia sumažint visus jų priedus, kanceliarines išlaidas, teptukus, pieštukus, automobilius, benziną. Jeigu nurėšim politinei hidrai, taip vadinamam elitui, galvą, tai tada Lietuvoj bus tvarka] = 1'}]\n",
            "answer:   1\n"
          ]
        },
        {
          "output_type": "stream",
          "name": "stderr",
          "text": [
            "\r 52%|█████▏    | 74/143 [00:37<00:40,  1.69it/s]Setting `pad_token_id` to `eos_token_id`:128001 for open-end generation.\n"
          ]
        },
        {
          "output_type": "stream",
          "name": "stdout",
          "text": [
            "prompt:  \n",
            "            Sociolingvistikos srityje Veido Grasinantis Veiksmas (VGV) yra komunikacinis veiksmas, kuris kelia grėsmę kalbėtojo ar klausytojo socialinei tapatybei ir savivertės jausmui. \n",
            "            Pavyzdžiai VGV yra įžeidimai, pertraukimai ir kritika. \n",
            "            Išanalizuokite šį naujienų tekstą ir atsakykite, ar jame yra Veido Grasinantis Veiksmas (VGV). \n",
            "            Atsakykite „1“ už „taip“ arba „0“ už „ne“.\n",
            "\n",
            "            [Šiandienai jauni žmonės iki 45 metų visi ir uždirba tas didžiąsias pajamas. Tai, gerbiamasis, jau progresiniai mokesčiai šiandien yra , be Sodros lubų progresinių mokesčių neįmanoma įvesti. Siūlau Gediminas Navaitis, Ūkio viceministras. Prašau, Gediminai.] = \n",
            "result:  [{'generated_text': '\\n            Sociolingvistikos srityje Veido Grasinantis Veiksmas (VGV) yra komunikacinis veiksmas, kuris kelia grėsmę kalbėtojo ar klausytojo socialinei tapatybei ir savivertės jausmui. \\n            Pavyzdžiai VGV yra įžeidimai, pertraukimai ir kritika. \\n            Išanalizuokite šį naujienų tekstą ir atsakykite, ar jame yra Veido Grasinantis Veiksmas (VGV). \\n            Atsakykite „1“ už „taip“ arba „0“ už „ne“.\\n\\n            [Šiandienai jauni žmonės iki 45 metų visi ir uždirba tas didžiąsias pajamas. Tai, gerbiamasis, jau progresiniai mokesčiai šiandien yra , be Sodros lubų progresinių mokesčių neįmanoma įvesti. Siūlau Gediminas Navaitis, Ūkio viceministras. Prašau, Gediminai.] = 0'}]\n",
            "answer:   0\n"
          ]
        },
        {
          "output_type": "stream",
          "name": "stderr",
          "text": [
            "\r 52%|█████▏    | 75/143 [00:38<00:39,  1.74it/s]Setting `pad_token_id` to `eos_token_id`:128001 for open-end generation.\n"
          ]
        },
        {
          "output_type": "stream",
          "name": "stdout",
          "text": [
            "prompt:  \n",
            "            Sociolingvistikos srityje Veido Grasinantis Veiksmas (VGV) yra komunikacinis veiksmas, kuris kelia grėsmę kalbėtojo ar klausytojo socialinei tapatybei ir savivertės jausmui. \n",
            "            Pavyzdžiai VGV yra įžeidimai, pertraukimai ir kritika. \n",
            "            Išanalizuokite šį naujienų tekstą ir atsakykite, ar jame yra Veido Grasinantis Veiksmas (VGV). \n",
            "            Atsakykite „1“ už „taip“ arba „0“ už „ne“.\n",
            "\n",
            "            [Nes aš noriu pasakyt, kad penkiolika eurų jau dabar neformaliam ugdymui yratos įdėta į krepšelį ir bus toliau, tai ką jūs čia pasakojat.] = \n",
            "result:  [{'generated_text': '\\n            Sociolingvistikos srityje Veido Grasinantis Veiksmas (VGV) yra komunikacinis veiksmas, kuris kelia grėsmę kalbėtojo ar klausytojo socialinei tapatybei ir savivertės jausmui. \\n            Pavyzdžiai VGV yra įžeidimai, pertraukimai ir kritika. \\n            Išanalizuokite šį naujienų tekstą ir atsakykite, ar jame yra Veido Grasinantis Veiksmas (VGV). \\n            Atsakykite „1“ už „taip“ arba „0“ už „ne“.\\n\\n            [Nes aš noriu pasakyt, kad penkiolika eurų jau dabar neformaliam ugdymui yratos įdėta į krepšelį ir bus toliau, tai ką jūs čia pasakojat.] = 1'}]\n",
            "answer:   1\n"
          ]
        },
        {
          "output_type": "stream",
          "name": "stderr",
          "text": [
            "\r 53%|█████▎    | 76/143 [00:38<00:36,  1.82it/s]Setting `pad_token_id` to `eos_token_id`:128001 for open-end generation.\n"
          ]
        },
        {
          "output_type": "stream",
          "name": "stdout",
          "text": [
            "prompt:  \n",
            "            Sociolingvistikos srityje Veido Grasinantis Veiksmas (VGV) yra komunikacinis veiksmas, kuris kelia grėsmę kalbėtojo ar klausytojo socialinei tapatybei ir savivertės jausmui. \n",
            "            Pavyzdžiai VGV yra įžeidimai, pertraukimai ir kritika. \n",
            "            Išanalizuokite šį naujienų tekstą ir atsakykite, ar jame yra Veido Grasinantis Veiksmas (VGV). \n",
            "            Atsakykite „1“ už „taip“ arba „0“ už „ne“.\n",
            "\n",
            "            [Todėl vienas atsakingas asmuo, vienas atsakingas ministras, kuris rūpinasi ne tik dujų terminalu ir nepastatyta atomine elektrine, ir kliedi  karts nuo karto kaip jis ją eilinį kart statys, o rūpintųsi tai, kas rūpi žmonėm: renovacija ir šilumos kainomis.] = \n",
            "result:  [{'generated_text': '\\n            Sociolingvistikos srityje Veido Grasinantis Veiksmas (VGV) yra komunikacinis veiksmas, kuris kelia grėsmę kalbėtojo ar klausytojo socialinei tapatybei ir savivertės jausmui. \\n            Pavyzdžiai VGV yra įžeidimai, pertraukimai ir kritika. \\n            Išanalizuokite šį naujienų tekstą ir atsakykite, ar jame yra Veido Grasinantis Veiksmas (VGV). \\n            Atsakykite „1“ už „taip“ arba „0“ už „ne“.\\n\\n            [Todėl vienas atsakingas asmuo, vienas atsakingas ministras, kuris rūpinasi ne tik dujų terminalu ir nepastatyta atomine elektrine, ir kliedi \\xa0karts nuo karto kaip jis ją eilinį kart statys, o rūpintųsi tai, kas rūpi žmonėm: renovacija ir šilumos kainomis.] = 1'}]\n",
            "answer:   1\n"
          ]
        },
        {
          "output_type": "stream",
          "name": "stderr",
          "text": [
            "\r 54%|█████▍    | 77/143 [00:39<00:34,  1.89it/s]Setting `pad_token_id` to `eos_token_id`:128001 for open-end generation.\n"
          ]
        },
        {
          "output_type": "stream",
          "name": "stdout",
          "text": [
            "prompt:  \n",
            "            Sociolingvistikos srityje Veido Grasinantis Veiksmas (VGV) yra komunikacinis veiksmas, kuris kelia grėsmę kalbėtojo ar klausytojo socialinei tapatybei ir savivertės jausmui. \n",
            "            Pavyzdžiai VGV yra įžeidimai, pertraukimai ir kritika. \n",
            "            Išanalizuokite šį naujienų tekstą ir atsakykite, ar jame yra Veido Grasinantis Veiksmas (VGV). \n",
            "            Atsakykite „1“ už „taip“ arba „0“ už „ne“.\n",
            "\n",
            "            [jaunimas mažiau vartoja alkoholį, vyresnės kartos žmonių Seimas tikrai neperauklės, o, aš turiu tokį pasiūlymą: kaip prevenciją mokyklose, panaudoti, pakviesti būtent į atsargą išėjusius policijos ir saugumo pareigūnus, į pensiją išėjusius, jie išeina jauni ir per socialinių darbuotojų statusą praktiškai dalyvauti prevencijos sistemoje, kuri egzistuoja Vokietijoje.] = \n",
            "result:  [{'generated_text': '\\n            Sociolingvistikos srityje Veido Grasinantis Veiksmas (VGV) yra komunikacinis veiksmas, kuris kelia grėsmę kalbėtojo ar klausytojo socialinei tapatybei ir savivertės jausmui. \\n            Pavyzdžiai VGV yra įžeidimai, pertraukimai ir kritika. \\n            Išanalizuokite šį naujienų tekstą ir atsakykite, ar jame yra Veido Grasinantis Veiksmas (VGV). \\n            Atsakykite „1“ už „taip“ arba „0“ už „ne“.\\n\\n            [jaunimas mažiau vartoja alkoholį, vyresnės kartos žmonių Seimas tikrai neperauklės, o, aš turiu tokį pasiūlymą: kaip prevenciją mokyklose, panaudoti, pakviesti būtent į atsargą išėjusius policijos ir saugumo pareigūnus, į pensiją išėjusius, jie išeina jauni ir per socialinių darbuotojų statusą praktiškai dalyvauti prevencijos sistemoje, kuri egzistuoja Vokietijoje.] = 1'}]\n",
            "answer:   1\n"
          ]
        },
        {
          "output_type": "stream",
          "name": "stderr",
          "text": [
            "\r 55%|█████▍    | 78/143 [00:39<00:33,  1.95it/s]Setting `pad_token_id` to `eos_token_id`:128001 for open-end generation.\n"
          ]
        },
        {
          "output_type": "stream",
          "name": "stdout",
          "text": [
            "prompt:  \n",
            "            Sociolingvistikos srityje Veido Grasinantis Veiksmas (VGV) yra komunikacinis veiksmas, kuris kelia grėsmę kalbėtojo ar klausytojo socialinei tapatybei ir savivertės jausmui. \n",
            "            Pavyzdžiai VGV yra įžeidimai, pertraukimai ir kritika. \n",
            "            Išanalizuokite šį naujienų tekstą ir atsakykite, ar jame yra Veido Grasinantis Veiksmas (VGV). \n",
            "            Atsakykite „1“ už „taip“ arba „0“ už „ne“.\n",
            "\n",
            "            [: Ne tai, kad mačiau, jie į mane važiavo. Ir suprantat, ką čia Seimo narys gali padaryt, yra paregūnų reikalas. Politinės valios reikalas. Aš matau laikas baigėsi, aš paskui dar norėsiu pratęst. ] = \n",
            "result:  [{'generated_text': '\\n            Sociolingvistikos srityje Veido Grasinantis Veiksmas (VGV) yra komunikacinis veiksmas, kuris kelia grėsmę kalbėtojo ar klausytojo socialinei tapatybei ir savivertės jausmui. \\n            Pavyzdžiai VGV yra įžeidimai, pertraukimai ir kritika. \\n            Išanalizuokite šį naujienų tekstą ir atsakykite, ar jame yra Veido Grasinantis Veiksmas (VGV). \\n            Atsakykite „1“ už „taip“ arba „0“ už „ne“.\\n\\n            [: Ne tai, kad mačiau, jie į mane važiavo. Ir suprantat, ką čia Seimo narys gali padaryt, yra paregūnų reikalas. Politinės valios reikalas. Aš matau laikas baigėsi, aš paskui dar norėsiu pratęst. ] = 1'}]\n",
            "answer:   1\n"
          ]
        },
        {
          "output_type": "stream",
          "name": "stderr",
          "text": [
            "\r 55%|█████▌    | 79/143 [00:40<00:32,  1.95it/s]Setting `pad_token_id` to `eos_token_id`:128001 for open-end generation.\n"
          ]
        },
        {
          "output_type": "stream",
          "name": "stdout",
          "text": [
            "prompt:  \n",
            "            Sociolingvistikos srityje Veido Grasinantis Veiksmas (VGV) yra komunikacinis veiksmas, kuris kelia grėsmę kalbėtojo ar klausytojo socialinei tapatybei ir savivertės jausmui. \n",
            "            Pavyzdžiai VGV yra įžeidimai, pertraukimai ir kritika. \n",
            "            Išanalizuokite šį naujienų tekstą ir atsakykite, ar jame yra Veido Grasinantis Veiksmas (VGV). \n",
            "            Atsakykite „1“ už „taip“ arba „0“ už „ne“.\n",
            "\n",
            "            [Tai neklaidinu. Bet tai yra ne investicija, o lėšų įsisavinimas. Ir aš dar patikslinsiu – tas lėšas įsisavina Jūsų partiečių „uabai“ ir jūsų partiečių partnerių uabai... ] = \n",
            "result:  [{'generated_text': '\\n            Sociolingvistikos srityje Veido Grasinantis Veiksmas (VGV) yra komunikacinis veiksmas, kuris kelia grėsmę kalbėtojo ar klausytojo socialinei tapatybei ir savivertės jausmui. \\n            Pavyzdžiai VGV yra įžeidimai, pertraukimai ir kritika. \\n            Išanalizuokite šį naujienų tekstą ir atsakykite, ar jame yra Veido Grasinantis Veiksmas (VGV). \\n            Atsakykite „1“ už „taip“ arba „0“ už „ne“.\\n\\n            [Tai neklaidinu. Bet tai yra ne investicija, o lėšų įsisavinimas. Ir aš dar patikslinsiu – tas lėšas įsisavina Jūsų partiečių „uabai“ ir jūsų partiečių partnerių uabai... ] = 1'}]\n",
            "answer:   1\n"
          ]
        },
        {
          "output_type": "stream",
          "name": "stderr",
          "text": [
            "\r 56%|█████▌    | 80/143 [00:40<00:33,  1.89it/s]Setting `pad_token_id` to `eos_token_id`:128001 for open-end generation.\n"
          ]
        },
        {
          "output_type": "stream",
          "name": "stdout",
          "text": [
            "prompt:  \n",
            "            Sociolingvistikos srityje Veido Grasinantis Veiksmas (VGV) yra komunikacinis veiksmas, kuris kelia grėsmę kalbėtojo ar klausytojo socialinei tapatybei ir savivertės jausmui. \n",
            "            Pavyzdžiai VGV yra įžeidimai, pertraukimai ir kritika. \n",
            "            Išanalizuokite šį naujienų tekstą ir atsakykite, ar jame yra Veido Grasinantis Veiksmas (VGV). \n",
            "            Atsakykite „1“ už „taip“ arba „0“ už „ne“.\n",
            "\n",
            "            [Dėl girtuoklystės Lietuvoje, tai žinote, yra įvairi statistika ir ta reklama, kuri skamba per visus kanalus, kur sakoma, kad Lietuva – labiausia prasigėrusi, kad kas trečia moteris šeimoje yra mušama yra diskutuotina. Jeigu paimtume vieną statistiką, tai rodo vieną rezultatą, jeigu atimtume iš alkoholio suvartojimo Lietuvoje tuos skaičius, kuriuos suvartoja užsienio turistai, atvykę į Lietuvą, jau gautume truputėlį kitą statistiką. Tačiau, be abejo, problema yra ir ypatingai nepilnamečių, tarp 13-os ie 15-os metų amžiaus grupėje. Girtuoklystės. Tai mes laikomės nuostatos, kad tikrai deramas švietimas gali garantuoti nuoseklią ir efektyvią antialkoholinę politiką. Ir jos įgyvendinimą.] = \n",
            "result:  [{'generated_text': '\\n            Sociolingvistikos srityje Veido Grasinantis Veiksmas (VGV) yra komunikacinis veiksmas, kuris kelia grėsmę kalbėtojo ar klausytojo socialinei tapatybei ir savivertės jausmui. \\n            Pavyzdžiai VGV yra įžeidimai, pertraukimai ir kritika. \\n            Išanalizuokite šį naujienų tekstą ir atsakykite, ar jame yra Veido Grasinantis Veiksmas (VGV). \\n            Atsakykite „1“ už „taip“ arba „0“ už „ne“.\\n\\n            [Dėl girtuoklystės Lietuvoje, tai žinote, yra įvairi statistika ir ta reklama, kuri skamba per visus kanalus, kur sakoma, kad Lietuva – labiausia prasigėrusi, kad kas trečia moteris šeimoje yra mušama yra diskutuotina. Jeigu paimtume vieną statistiką, tai rodo vieną rezultatą, jeigu atimtume iš alkoholio suvartojimo Lietuvoje tuos skaičius, kuriuos suvartoja užsienio turistai, atvykę į Lietuvą, jau gautume truputėlį kitą statistiką. Tačiau, be abejo, problema yra ir ypatingai nepilnamečių, tarp 13-os ie 15-os metų amžiaus grupėje. Girtuoklystės. Tai mes laikomės nuostatos, kad tikrai deramas švietimas gali garantuoti nuoseklią ir efektyvią antialkoholinę politiką. Ir jos įgyvendinimą.] = 1'}]\n",
            "answer:   1\n"
          ]
        },
        {
          "output_type": "stream",
          "name": "stderr",
          "text": [
            "\r 57%|█████▋    | 81/143 [00:41<00:31,  1.96it/s]Setting `pad_token_id` to `eos_token_id`:128001 for open-end generation.\n"
          ]
        },
        {
          "output_type": "stream",
          "name": "stdout",
          "text": [
            "prompt:  \n",
            "            Sociolingvistikos srityje Veido Grasinantis Veiksmas (VGV) yra komunikacinis veiksmas, kuris kelia grėsmę kalbėtojo ar klausytojo socialinei tapatybei ir savivertės jausmui. \n",
            "            Pavyzdžiai VGV yra įžeidimai, pertraukimai ir kritika. \n",
            "            Išanalizuokite šį naujienų tekstą ir atsakykite, ar jame yra Veido Grasinantis Veiksmas (VGV). \n",
            "            Atsakykite „1“ už „taip“ arba „0“ už „ne“.\n",
            "\n",
            "            [Nuvažiuokite, gerbiamasis Premjere. Aš galiu Jums parodyt skaičius, čia nėra sudėtinga.] = \n",
            "result:  [{'generated_text': '\\n            Sociolingvistikos srityje Veido Grasinantis Veiksmas (VGV) yra komunikacinis veiksmas, kuris kelia grėsmę kalbėtojo ar klausytojo socialinei tapatybei ir savivertės jausmui. \\n            Pavyzdžiai VGV yra įžeidimai, pertraukimai ir kritika. \\n            Išanalizuokite šį naujienų tekstą ir atsakykite, ar jame yra Veido Grasinantis Veiksmas (VGV). \\n            Atsakykite „1“ už „taip“ arba „0“ už „ne“.\\n\\n            [Nuvažiuokite, gerbiamasis Premjere. Aš galiu Jums parodyt skaičius, čia nėra sudėtinga.] = 1'}]\n",
            "answer:   1\n"
          ]
        },
        {
          "output_type": "stream",
          "name": "stderr",
          "text": [
            "\r 57%|█████▋    | 82/143 [00:41<00:31,  1.95it/s]Setting `pad_token_id` to `eos_token_id`:128001 for open-end generation.\n"
          ]
        },
        {
          "output_type": "stream",
          "name": "stdout",
          "text": [
            "prompt:  \n",
            "            Sociolingvistikos srityje Veido Grasinantis Veiksmas (VGV) yra komunikacinis veiksmas, kuris kelia grėsmę kalbėtojo ar klausytojo socialinei tapatybei ir savivertės jausmui. \n",
            "            Pavyzdžiai VGV yra įžeidimai, pertraukimai ir kritika. \n",
            "            Išanalizuokite šį naujienų tekstą ir atsakykite, ar jame yra Veido Grasinantis Veiksmas (VGV). \n",
            "            Atsakykite „1“ už „taip“ arba „0“ už „ne“.\n",
            "\n",
            "            [Na, kadangi „Darbo“ partija gali tai, ko negali kiti, tai mes nešnekam, o darom, ir įstatymas dėl to, kad būtų minimali alga neapmokestinama yra užregistruota Seime, jau ganėtinai senai, ir tikimės, kad visos partijos, kurios dabar šitaip gražiai šnekėjo apie mažai uždirbančius žmones, tą įstatymą palaikys ir pabalsuos dar šitam Seime, nereikės per kitoj kadencijoj ką nors daryt. Antras dalykas, kas mokečiuose mums rūpi, tai lengvatinis PVMas vaistams ir pagrindiniams maisto produktams. Tai tie dalykai, kur žmonės dažniausiai perka, kuriuose dažniausiai tie produktai sudaro didžiąją krepšelio dalį mažai uždirbančių žmonių išlaidose, ir nesutinku su Saulium apie tai, kad tai yra populizmas, kadangi tada ir anglai populistai] = \n",
            "result:  [{'generated_text': '\\n            Sociolingvistikos srityje Veido Grasinantis Veiksmas (VGV) yra komunikacinis veiksmas, kuris kelia grėsmę kalbėtojo ar klausytojo socialinei tapatybei ir savivertės jausmui. \\n            Pavyzdžiai VGV yra įžeidimai, pertraukimai ir kritika. \\n            Išanalizuokite šį naujienų tekstą ir atsakykite, ar jame yra Veido Grasinantis Veiksmas (VGV). \\n            Atsakykite „1“ už „taip“ arba „0“ už „ne“.\\n\\n            [Na, kadangi „Darbo“ partija gali tai, ko negali kiti, tai mes nešnekam, o darom, ir įstatymas dėl to, kad būtų minimali alga neapmokestinama yra užregistruota Seime, jau ganėtinai senai, ir tikimės, kad visos partijos, kurios dabar šitaip gražiai šnekėjo apie mažai uždirbančius žmones, tą įstatymą palaikys ir pabalsuos dar šitam Seime, nereikės per kitoj kadencijoj ką nors daryt. Antras dalykas, kas mokečiuose mums rūpi, tai lengvatinis PVMas vaistams ir pagrindiniams maisto produktams. Tai tie dalykai, kur žmonės dažniausiai perka, kuriuose dažniausiai tie produktai sudaro didžiąją krepšelio dalį mažai uždirbančių žmonių išlaidose, ir nesutinku su Saulium apie tai, kad tai yra populizmas, kadangi tada ir anglai populistai] = 1'}]\n",
            "answer:   1\n"
          ]
        },
        {
          "output_type": "stream",
          "name": "stderr",
          "text": [
            "\r 58%|█████▊    | 83/143 [00:42<00:28,  2.10it/s]Setting `pad_token_id` to `eos_token_id`:128001 for open-end generation.\n"
          ]
        },
        {
          "output_type": "stream",
          "name": "stdout",
          "text": [
            "prompt:  \n",
            "            Sociolingvistikos srityje Veido Grasinantis Veiksmas (VGV) yra komunikacinis veiksmas, kuris kelia grėsmę kalbėtojo ar klausytojo socialinei tapatybei ir savivertės jausmui. \n",
            "            Pavyzdžiai VGV yra įžeidimai, pertraukimai ir kritika. \n",
            "            Išanalizuokite šį naujienų tekstą ir atsakykite, ar jame yra Veido Grasinantis Veiksmas (VGV). \n",
            "            Atsakykite „1“ už „taip“ arba „0“ už „ne“.\n",
            "\n",
            "            [Jeigu galima, aš irgi tada pabrėšiu šiek tiek keletą dalykų. Aam, iš tikrųjų, klausant kolegų, yra iš tikrųjų, mes matom tą ir blogąjį pavyzdį – kad politikai šiandien žino kur ligoninių reikia, kokių ligoninių reikia, ir galų gale, ta sistema yra tokia, kokia yra šiandien. Na, yra supainiota ir sumaišyta. Reikia politikus iš to išimt. Dėl vaistų kainų – reikia didesnės konkurencijos, gerbiamieji.] = \n",
            "result:  [{'generated_text': '\\n            Sociolingvistikos srityje Veido Grasinantis Veiksmas (VGV) yra komunikacinis veiksmas, kuris kelia grėsmę kalbėtojo ar klausytojo socialinei tapatybei ir savivertės jausmui. \\n            Pavyzdžiai VGV yra įžeidimai, pertraukimai ir kritika. \\n            Išanalizuokite šį naujienų tekstą ir atsakykite, ar jame yra Veido Grasinantis Veiksmas (VGV). \\n            Atsakykite „1“ už „taip“ arba „0“ už „ne“.\\n\\n            [Jeigu galima, aš irgi tada pabrėšiu šiek tiek keletą dalykų. Aam, iš tikrųjų, klausant kolegų, yra iš tikrųjų, mes matom tą ir blogąjį pavyzdį – kad politikai šiandien žino kur ligoninių reikia, kokių ligoninių reikia, ir galų gale, ta sistema yra tokia, kokia yra šiandien. Na, yra supainiota ir sumaišyta. Reikia politikus iš to išimt. Dėl vaistų kainų – reikia didesnės konkurencijos, gerbiamieji.] = 1'}]\n",
            "answer:   1\n"
          ]
        },
        {
          "output_type": "stream",
          "name": "stderr",
          "text": [
            "\r 59%|█████▊    | 84/143 [00:42<00:26,  2.22it/s]Setting `pad_token_id` to `eos_token_id`:128001 for open-end generation.\n"
          ]
        },
        {
          "output_type": "stream",
          "name": "stdout",
          "text": [
            "prompt:  \n",
            "            Sociolingvistikos srityje Veido Grasinantis Veiksmas (VGV) yra komunikacinis veiksmas, kuris kelia grėsmę kalbėtojo ar klausytojo socialinei tapatybei ir savivertės jausmui. \n",
            "            Pavyzdžiai VGV yra įžeidimai, pertraukimai ir kritika. \n",
            "            Išanalizuokite šį naujienų tekstą ir atsakykite, ar jame yra Veido Grasinantis Veiksmas (VGV). \n",
            "            Atsakykite „1“ už „taip“ arba „0“ už „ne“.\n",
            "\n",
            "            [O dabar kitas etapas turėtų būt nustatytas, tai yra finansavimas. Ir kito Seimo, ir kitos Vyriausybės padermė – nustatyti tinkamą fiinansavimą, kad šeimos galėtų sulaukti savo vaikučių.] = \n",
            "result:  [{'generated_text': '\\n            Sociolingvistikos srityje Veido Grasinantis Veiksmas (VGV) yra komunikacinis veiksmas, kuris kelia grėsmę kalbėtojo ar klausytojo socialinei tapatybei ir savivertės jausmui. \\n            Pavyzdžiai VGV yra įžeidimai, pertraukimai ir kritika. \\n            Išanalizuokite šį naujienų tekstą ir atsakykite, ar jame yra Veido Grasinantis Veiksmas (VGV). \\n            Atsakykite „1“ už „taip“ arba „0“ už „ne“.\\n\\n            [O dabar kitas etapas turėtų būt nustatytas, tai yra finansavimas. Ir kito Seimo, ir kitos Vyriausybės padermė – nustatyti tinkamą fiinansavimą, kad šeimos galėtų sulaukti savo vaikučių.] = 1'}]\n",
            "answer:   1\n"
          ]
        },
        {
          "output_type": "stream",
          "name": "stderr",
          "text": [
            "\r 59%|█████▉    | 85/143 [00:42<00:26,  2.21it/s]Setting `pad_token_id` to `eos_token_id`:128001 for open-end generation.\n"
          ]
        },
        {
          "output_type": "stream",
          "name": "stdout",
          "text": [
            "prompt:  \n",
            "            Sociolingvistikos srityje Veido Grasinantis Veiksmas (VGV) yra komunikacinis veiksmas, kuris kelia grėsmę kalbėtojo ar klausytojo socialinei tapatybei ir savivertės jausmui. \n",
            "            Pavyzdžiai VGV yra įžeidimai, pertraukimai ir kritika. \n",
            "            Išanalizuokite šį naujienų tekstą ir atsakykite, ar jame yra Veido Grasinantis Veiksmas (VGV). \n",
            "            Atsakykite „1“ už „taip“ arba „0“ už „ne“.\n",
            "\n",
            "            [Mūsų krašto beveik trečdalis yra už sienos, norėčiau pakviesti žmogų, kuris ten praleido daug, ten taip pat yra problemos, kaip jos sprendžiamos.] = \n",
            "result:  [{'generated_text': '\\n            Sociolingvistikos srityje Veido Grasinantis Veiksmas (VGV) yra komunikacinis veiksmas, kuris kelia grėsmę kalbėtojo ar klausytojo socialinei tapatybei ir savivertės jausmui. \\n            Pavyzdžiai VGV yra įžeidimai, pertraukimai ir kritika. \\n            Išanalizuokite šį naujienų tekstą ir atsakykite, ar jame yra Veido Grasinantis Veiksmas (VGV). \\n            Atsakykite „1“ už „taip“ arba „0“ už „ne“.\\n\\n            [Mūsų krašto beveik trečdalis yra už sienos, norėčiau pakviesti žmogų, kuris ten praleido daug, ten taip pat yra problemos, kaip jos sprendžiamos.] = 1'}]\n",
            "answer:   1\n"
          ]
        },
        {
          "output_type": "stream",
          "name": "stderr",
          "text": [
            "\r 60%|██████    | 86/143 [00:43<00:28,  1.99it/s]Setting `pad_token_id` to `eos_token_id`:128001 for open-end generation.\n"
          ]
        },
        {
          "output_type": "stream",
          "name": "stdout",
          "text": [
            "prompt:  \n",
            "            Sociolingvistikos srityje Veido Grasinantis Veiksmas (VGV) yra komunikacinis veiksmas, kuris kelia grėsmę kalbėtojo ar klausytojo socialinei tapatybei ir savivertės jausmui. \n",
            "            Pavyzdžiai VGV yra įžeidimai, pertraukimai ir kritika. \n",
            "            Išanalizuokite šį naujienų tekstą ir atsakykite, ar jame yra Veido Grasinantis Veiksmas (VGV). \n",
            "            Atsakykite „1“ už „taip“ arba „0“ už „ne“.\n",
            "\n",
            "            [Ar jūs galėtumėte patylėt iš abiejų pusių? ] = \n",
            "result:  [{'generated_text': '\\n            Sociolingvistikos srityje Veido Grasinantis Veiksmas (VGV) yra komunikacinis veiksmas, kuris kelia grėsmę kalbėtojo ar klausytojo socialinei tapatybei ir savivertės jausmui. \\n            Pavyzdžiai VGV yra įžeidimai, pertraukimai ir kritika. \\n            Išanalizuokite šį naujienų tekstą ir atsakykite, ar jame yra Veido Grasinantis Veiksmas (VGV). \\n            Atsakykite „1“ už „taip“ arba „0“ už „ne“.\\n\\n            [Ar jūs galėtumėte patylėt iš abiejų pusių? ] = 0'}]\n",
            "answer:   0\n"
          ]
        },
        {
          "output_type": "stream",
          "name": "stderr",
          "text": [
            "\r 61%|██████    | 87/143 [00:44<00:30,  1.84it/s]Setting `pad_token_id` to `eos_token_id`:128001 for open-end generation.\n"
          ]
        },
        {
          "output_type": "stream",
          "name": "stdout",
          "text": [
            "prompt:  \n",
            "            Sociolingvistikos srityje Veido Grasinantis Veiksmas (VGV) yra komunikacinis veiksmas, kuris kelia grėsmę kalbėtojo ar klausytojo socialinei tapatybei ir savivertės jausmui. \n",
            "            Pavyzdžiai VGV yra įžeidimai, pertraukimai ir kritika. \n",
            "            Išanalizuokite šį naujienų tekstą ir atsakykite, ar jame yra Veido Grasinantis Veiksmas (VGV). \n",
            "            Atsakykite „1“ už „taip“ arba „0“ už „ne“.\n",
            "\n",
            "            [Tai mes toliau tęsim neapmokestinamų pajamų dydžio didinimą, pirmiausia toms šeimoms, arba tiems asmenims, kurių darbo užmokestis siekia iki tūkstančio eurų, tai dėl to, kad sudaryt didesnes ir realias pajamas, kad skatintų vidaus vartojimą, taip pat taikysim neapmokestinamų pajamų dydį už kiekvieną vaiką didesnį, ir neatsižvelgiant į šeimos gaunamas pajamas, toliau diegsim išmaniąją mokesčių administravimo sistemą, kuri jau pasiteisino pusiau ją įdiegus ir pamatėm, kad ne kalbomis, bet realiais skaičias iš šešėlinės ekonomikos praeitais metais buvo paimta apie 480 milijonų eurų, jeigu litais paskaičiuot tai beveik vienas milijardas litų, o kadangi buvo mūsų Finansų ministrė paminėta, tai norėčiau, kad keletą žodžių tartų ir Finansų ministrė ] = \n",
            "result:  [{'generated_text': '\\n            Sociolingvistikos srityje Veido Grasinantis Veiksmas (VGV) yra komunikacinis veiksmas, kuris kelia grėsmę kalbėtojo ar klausytojo socialinei tapatybei ir savivertės jausmui. \\n            Pavyzdžiai VGV yra įžeidimai, pertraukimai ir kritika. \\n            Išanalizuokite šį naujienų tekstą ir atsakykite, ar jame yra Veido Grasinantis Veiksmas (VGV). \\n            Atsakykite „1“ už „taip“ arba „0“ už „ne“.\\n\\n            [Tai mes toliau tęsim neapmokestinamų pajamų dydžio didinimą, pirmiausia toms šeimoms, arba tiems asmenims, kurių darbo užmokestis siekia iki tūkstančio eurų, tai dėl to, kad sudaryt didesnes ir realias pajamas, kad skatintų vidaus vartojimą, taip pat taikysim neapmokestinamų pajamų dydį už kiekvieną vaiką didesnį, ir neatsižvelgiant į šeimos gaunamas pajamas, toliau diegsim išmaniąją mokesčių administravimo sistemą, kuri jau pasiteisino pusiau ją įdiegus ir pamatėm, kad ne kalbomis, bet realiais skaičias iš šešėlinės ekonomikos praeitais metais buvo paimta apie 480 milijonų eurų, jeigu litais paskaičiuot tai beveik vienas milijardas litų, o kadangi buvo mūsų Finansų ministrė paminėta, tai norėčiau, kad keletą žodžių tartų ir Finansų ministrė ] = 1'}]\n",
            "answer:   1\n"
          ]
        },
        {
          "output_type": "stream",
          "name": "stderr",
          "text": [
            "\r 62%|██████▏   | 88/143 [00:44<00:31,  1.76it/s]Setting `pad_token_id` to `eos_token_id`:128001 for open-end generation.\n"
          ]
        },
        {
          "output_type": "stream",
          "name": "stdout",
          "text": [
            "prompt:  \n",
            "            Sociolingvistikos srityje Veido Grasinantis Veiksmas (VGV) yra komunikacinis veiksmas, kuris kelia grėsmę kalbėtojo ar klausytojo socialinei tapatybei ir savivertės jausmui. \n",
            "            Pavyzdžiai VGV yra įžeidimai, pertraukimai ir kritika. \n",
            "            Išanalizuokite šį naujienų tekstą ir atsakykite, ar jame yra Veido Grasinantis Veiksmas (VGV). \n",
            "            Atsakykite „1“ už „taip“ arba „0“ už „ne“.\n",
            "\n",
            "            [Na, vėlgi tas pats. Kai vakar tos penkios sesės-partijos diskutavo, ir taip drąsiai žadėjo ten viską kelt, iki padebesų. Aš pasakysiu žiūrovams: iš ko apskritai susideda galimybė ką nors daryt? Tai Lietuva surenka iš mokesčių litais, tai buvo apie 20 milijardų litų pinigų. Iš mokesčių. Toliau. Pusė šitos sumos tai yra PVMas toliau stambus yra akcizų mokestis, juridinių ir fizinių asmenų pajamų moksčiai. Kai vakar jie sakė, kad didins ten viską, ką tik gali, visada klauskit jų: o iš kokių lėšų? Nes tai yra  politinė korupcija, žmonės žada tai, ko padaryt negali. Nes mokesčių, jeigu tik tu kažkur kažką pajudi, tai vienur pridėsi, kitur atsiras skylė. Ir per pastarąjį va dvidešimtmetį ta mokestinė sistema, jinai visąlaik maždaug buvo tokia] = \n",
            "result:  [{'generated_text': '\\n            Sociolingvistikos srityje Veido Grasinantis Veiksmas (VGV) yra komunikacinis veiksmas, kuris kelia grėsmę kalbėtojo ar klausytojo socialinei tapatybei ir savivertės jausmui. \\n            Pavyzdžiai VGV yra įžeidimai, pertraukimai ir kritika. \\n            Išanalizuokite šį naujienų tekstą ir atsakykite, ar jame yra Veido Grasinantis Veiksmas (VGV). \\n            Atsakykite „1“ už „taip“ arba „0“ už „ne“.\\n\\n            [Na, vėlgi tas pats. Kai vakar tos penkios sesės-partijos diskutavo, ir taip drąsiai žadėjo ten viską kelt, iki padebesų. Aš pasakysiu žiūrovams: iš ko apskritai susideda galimybė ką nors daryt? Tai Lietuva surenka iš mokesčių litais, tai buvo apie 20 milijardų litų pinigų. Iš mokesčių. Toliau. Pusė šitos sumos tai yra PVMas toliau stambus yra akcizų mokestis, juridinių ir fizinių asmenų pajamų moksčiai. Kai vakar jie sakė, kad didins ten viską, ką tik gali, visada klauskit jų: o iš kokių lėšų? Nes tai yra  politinė korupcija, žmonės žada tai, ko padaryt negali. Nes mokesčių, jeigu tik tu kažkur kažką pajudi, tai vienur pridėsi, kitur atsiras skylė. Ir per pastarąjį va dvidešimtmetį ta mokestinė sistema, jinai visąlaik maždaug buvo tokia] = 1'}]\n",
            "answer:   1\n"
          ]
        },
        {
          "output_type": "stream",
          "name": "stderr",
          "text": [
            "\r 62%|██████▏   | 89/143 [00:45<00:31,  1.69it/s]Setting `pad_token_id` to `eos_token_id`:128001 for open-end generation.\n"
          ]
        },
        {
          "output_type": "stream",
          "name": "stdout",
          "text": [
            "prompt:  \n",
            "            Sociolingvistikos srityje Veido Grasinantis Veiksmas (VGV) yra komunikacinis veiksmas, kuris kelia grėsmę kalbėtojo ar klausytojo socialinei tapatybei ir savivertės jausmui. \n",
            "            Pavyzdžiai VGV yra įžeidimai, pertraukimai ir kritika. \n",
            "            Išanalizuokite šį naujienų tekstą ir atsakykite, ar jame yra Veido Grasinantis Veiksmas (VGV). \n",
            "            Atsakykite „1“ už „taip“ arba „0“ už „ne“.\n",
            "\n",
            "            [Taip, aš pritarčiau dėl darbo santykių lankstumo, nors šiandien Seimas priėmė, aš manau, labai gerą, istorinį, teigimą sprendimą, netolygus ekonominis išsvystymas tarp regionų, aš manau, per dar per daug didelis skurdas Lietuvoj, taip pat per didelis darbo pajamų apmokestinimas, bet palaipsniui jis yra mažinamas per NPD didinimą tiems žmonėms, kurių atlyginimas yra iki tūkstančio eurų arba NPD didinimas šeimoms, kurios augina vaikus, už kiekvieną vaiką yra numatyta iki 120 eurų,  vis dėl to dar šešėlinė ekonomika Lietuvoj yra per didelė, nors praeitais metais Lietuva parodė didžiulę pažangą ir pagal profesoriau Štainerio paskaičiavimus 1,3 procentai nuo bendro vidaus produkto  buvo paimta iš šešėlio, tai sudaro 480 milijonų litų, aš manau, kad mokestinė sistema, kada ekonomikad darbar yra tvari, eem, reikalinga artimiausiu metu tam tikrų pokyčių, bet tai tie pokyčiai turėtų įvykt nuo aštuonioliktų metų, nes mes nepasisakom už revoliucines pataisas mokesčių sistemoj. ] = \n",
            "result:  [{'generated_text': '\\n            Sociolingvistikos srityje Veido Grasinantis Veiksmas (VGV) yra komunikacinis veiksmas, kuris kelia grėsmę kalbėtojo ar klausytojo socialinei tapatybei ir savivertės jausmui. \\n            Pavyzdžiai VGV yra įžeidimai, pertraukimai ir kritika. \\n            Išanalizuokite šį naujienų tekstą ir atsakykite, ar jame yra Veido Grasinantis Veiksmas (VGV). \\n            Atsakykite „1“ už „taip“ arba „0“ už „ne“.\\n\\n            [Taip, aš pritarčiau dėl darbo santykių lankstumo, nors šiandien Seimas priėmė, aš manau, labai gerą, istorinį, teigimą sprendimą, netolygus ekonominis išsvystymas tarp regionų, aš manau, per dar per daug didelis skurdas Lietuvoj, taip pat per didelis darbo pajamų apmokestinimas, bet palaipsniui jis yra mažinamas per NPD didinimą tiems žmonėms, kurių atlyginimas yra iki tūkstančio eurų arba NPD didinimas šeimoms, kurios augina vaikus, už kiekvieną vaiką yra numatyta iki 120 eurų,  vis dėl to dar šešėlinė ekonomika Lietuvoj yra per didelė, nors praeitais metais Lietuva parodė didžiulę pažangą ir pagal profesoriau Štainerio paskaičiavimus 1,3 procentai nuo bendro vidaus produkto  buvo paimta iš šešėlio, tai sudaro 480 milijonų litų, aš manau, kad mokestinė sistema, kada ekonomikad darbar yra tvari, eem, reikalinga artimiausiu metu tam tikrų pokyčių, bet tai tie pokyčiai turėtų įvykt nuo aštuonioliktų metų, nes mes nepasisakom už revoliucines pataisas mokesčių sistemoj. ] = 1'}]\n",
            "answer:   1\n"
          ]
        },
        {
          "output_type": "stream",
          "name": "stderr",
          "text": [
            "\r 63%|██████▎   | 90/143 [00:46<00:31,  1.71it/s]Setting `pad_token_id` to `eos_token_id`:128001 for open-end generation.\n"
          ]
        },
        {
          "output_type": "stream",
          "name": "stdout",
          "text": [
            "prompt:  \n",
            "            Sociolingvistikos srityje Veido Grasinantis Veiksmas (VGV) yra komunikacinis veiksmas, kuris kelia grėsmę kalbėtojo ar klausytojo socialinei tapatybei ir savivertės jausmui. \n",
            "            Pavyzdžiai VGV yra įžeidimai, pertraukimai ir kritika. \n",
            "            Išanalizuokite šį naujienų tekstą ir atsakykite, ar jame yra Veido Grasinantis Veiksmas (VGV). \n",
            "            Atsakykite „1“ už „taip“ arba „0“ už „ne“.\n",
            "\n",
            "            [net sąlygos nevienodos čia. Štai penkios tos sesutės, kurios 25 metus mus ir valdė dalyvauja atskirai, pinigai pas juos, žiniasklaida – jų pusėj ir aš tuoj laukiu, kai Jūs pasakysit, kaip dažnai sako: „už kandidato mintis valstybinė televizija neatsako“. Tai aš tiesiog jaučiuosi kaip anais laikais, kai buvo kolektyvinė komunistų partija, va dabar tos penkios sesutės...] = \n",
            "result:  [{'generated_text': '\\n            Sociolingvistikos srityje Veido Grasinantis Veiksmas (VGV) yra komunikacinis veiksmas, kuris kelia grėsmę kalbėtojo ar klausytojo socialinei tapatybei ir savivertės jausmui. \\n            Pavyzdžiai VGV yra įžeidimai, pertraukimai ir kritika. \\n            Išanalizuokite šį naujienų tekstą ir atsakykite, ar jame yra Veido Grasinantis Veiksmas (VGV). \\n            Atsakykite „1“ už „taip“ arba „0“ už „ne“.\\n\\n            [net sąlygos nevienodos čia. Štai penkios tos sesutės, kurios 25 metus mus ir valdė dalyvauja atskirai, pinigai pas juos, žiniasklaida – jų pusėj ir aš tuoj laukiu, kai Jūs pasakysit, kaip dažnai sako: „už kandidato mintis valstybinė televizija neatsako“. Tai aš tiesiog jaučiuosi kaip anais laikais, kai buvo kolektyvinė komunistų partija, va dabar tos penkios sesutės...] = 1'}]\n",
            "answer:   1\n"
          ]
        },
        {
          "output_type": "stream",
          "name": "stderr",
          "text": [
            "\r 64%|██████▎   | 91/143 [00:46<00:30,  1.69it/s]Setting `pad_token_id` to `eos_token_id`:128001 for open-end generation.\n"
          ]
        },
        {
          "output_type": "stream",
          "name": "stdout",
          "text": [
            "prompt:  \n",
            "            Sociolingvistikos srityje Veido Grasinantis Veiksmas (VGV) yra komunikacinis veiksmas, kuris kelia grėsmę kalbėtojo ar klausytojo socialinei tapatybei ir savivertės jausmui. \n",
            "            Pavyzdžiai VGV yra įžeidimai, pertraukimai ir kritika. \n",
            "            Išanalizuokite šį naujienų tekstą ir atsakykite, ar jame yra Veido Grasinantis Veiksmas (VGV). \n",
            "            Atsakykite „1“ už „taip“ arba „0“ už „ne“.\n",
            "\n",
            "            [Kolegos, kodėl jūs visą laiką pasakot dalykus, sakot po to: „nepaneigsit“? Tai aišku paneigsiu, nes tai netiesa. Esminis dalykas yra toks, kad kai ištinka didžiulė tragedija Lietuvoje, kur būna ar kirviai, ar šuliniai, ar kiti dalykai, politikai subėga ir sako: „dabar jau imsimės labai reikšmingų reformų“. Praeina metai, praeina dveji metai, mes pradedam kalbėt taip, na, užteks švietimo programų. Iki kito šulinio. Ir tada vėl reikia reformų. Mes kalbam nuosekliai. Mes turim, iš tikrųjų, priimti sprendimus. Ne visi, galbūt, bus populiarūs. Aš suprantu, kad galbūt  ne visiem žmonėm ne vienodai patiks griežtesnis priėjimas prie alkoholio. Bet, galų gale, turim tai padaryt, jeigu norim susitvarkyt su šita epidemija, kuri kamuoja Lietuvos miestus ir regionus.] = \n",
            "result:  [{'generated_text': '\\n            Sociolingvistikos srityje Veido Grasinantis Veiksmas (VGV) yra komunikacinis veiksmas, kuris kelia grėsmę kalbėtojo ar klausytojo socialinei tapatybei ir savivertės jausmui. \\n            Pavyzdžiai VGV yra įžeidimai, pertraukimai ir kritika. \\n            Išanalizuokite šį naujienų tekstą ir atsakykite, ar jame yra Veido Grasinantis Veiksmas (VGV). \\n            Atsakykite „1“ už „taip“ arba „0“ už „ne“.\\n\\n            [Kolegos, kodėl jūs visą laiką pasakot dalykus, sakot po to: „nepaneigsit“? Tai aišku paneigsiu, nes tai netiesa. Esminis dalykas yra toks, kad kai ištinka didžiulė tragedija Lietuvoje, kur būna ar kirviai, ar šuliniai, ar kiti dalykai, politikai subėga ir sako: „dabar jau imsimės labai reikšmingų reformų“. Praeina metai, praeina dveji metai, mes pradedam kalbėt taip, na, užteks švietimo programų. Iki kito šulinio. Ir tada vėl reikia reformų. Mes kalbam nuosekliai. Mes turim, iš tikrųjų, priimti sprendimus. Ne visi, galbūt, bus populiarūs. Aš suprantu, kad galbūt  ne visiem žmonėm ne vienodai patiks griežtesnis priėjimas prie alkoholio. Bet, galų gale, turim tai padaryt, jeigu norim susitvarkyt su šita epidemija, kuri kamuoja Lietuvos miestus ir regionus.] = 1'}]\n",
            "answer:   1\n"
          ]
        },
        {
          "output_type": "stream",
          "name": "stderr",
          "text": [
            "\r 64%|██████▍   | 92/143 [00:47<00:29,  1.70it/s]Setting `pad_token_id` to `eos_token_id`:128001 for open-end generation.\n"
          ]
        },
        {
          "output_type": "stream",
          "name": "stdout",
          "text": [
            "prompt:  \n",
            "            Sociolingvistikos srityje Veido Grasinantis Veiksmas (VGV) yra komunikacinis veiksmas, kuris kelia grėsmę kalbėtojo ar klausytojo socialinei tapatybei ir savivertės jausmui. \n",
            "            Pavyzdžiai VGV yra įžeidimai, pertraukimai ir kritika. \n",
            "            Išanalizuokite šį naujienų tekstą ir atsakykite, ar jame yra Veido Grasinantis Veiksmas (VGV). \n",
            "            Atsakykite „1“ už „taip“ arba „0“ už „ne“.\n",
            "\n",
            "            [Dažniausiai vis dėlto labai, deja, dažnai pasirodo, kad nemaža jų dalis yra netikrai žmonės, kuriems yra sunku, bet tie, kurie yra gudresni. Kurie dar ten ir nedarbo išmoką gauna, ir biškį patvarko garažėlį ir dar kažkas. Kodėl? Todėl, kad iš tikrųjų nesimato tiesioginio sąryšio tarp to, ką tu įmoki ir ką tu gauni. Tai man atrodo, ir aš labai pritariu tiems, kurie anksčiau yra kalbėję čia praeitą ir užpraeitą dienas, kad iš tikrųjų nepaprastai svarbu būtų pradėti žmonėm mokėti žmonėm užrašyti tą sumą, kurią jie realiai gauna. Ne tą mistinį daiktą, kuris vadinasi „atlyginimas ant popieriaus“, arba tą, kuris į rankas, o tiesiog duot žmogui jo pinigus. ] = \n",
            "result:  [{'generated_text': '\\n            Sociolingvistikos srityje Veido Grasinantis Veiksmas (VGV) yra komunikacinis veiksmas, kuris kelia grėsmę kalbėtojo ar klausytojo socialinei tapatybei ir savivertės jausmui. \\n            Pavyzdžiai VGV yra įžeidimai, pertraukimai ir kritika. \\n            Išanalizuokite šį naujienų tekstą ir atsakykite, ar jame yra Veido Grasinantis Veiksmas (VGV). \\n            Atsakykite „1“ už „taip“ arba „0“ už „ne“.\\n\\n            [Dažniausiai vis dėlto labai, deja, dažnai pasirodo, kad nemaža jų dalis yra netikrai žmonės, kuriems yra sunku, bet tie, kurie yra gudresni. Kurie dar ten ir nedarbo išmoką gauna, ir biškį patvarko garažėlį ir dar kažkas. Kodėl? Todėl, kad iš tikrųjų nesimato tiesioginio sąryšio tarp to, ką tu įmoki ir ką tu gauni. Tai man atrodo, ir aš labai pritariu tiems, kurie anksčiau yra kalbėję čia praeitą ir užpraeitą dienas, kad iš tikrųjų nepaprastai svarbu būtų pradėti žmonėm mokėti žmonėm užrašyti tą sumą, kurią jie realiai gauna. Ne tą mistinį daiktą, kuris vadinasi „atlyginimas ant popieriaus“, arba tą, kuris į rankas, o tiesiog duot žmogui jo pinigus. ] = 1'}]\n",
            "answer:   1\n"
          ]
        },
        {
          "output_type": "stream",
          "name": "stderr",
          "text": [
            "\r 65%|██████▌   | 93/143 [00:47<00:28,  1.76it/s]Setting `pad_token_id` to `eos_token_id`:128001 for open-end generation.\n"
          ]
        },
        {
          "output_type": "stream",
          "name": "stdout",
          "text": [
            "prompt:  \n",
            "            Sociolingvistikos srityje Veido Grasinantis Veiksmas (VGV) yra komunikacinis veiksmas, kuris kelia grėsmę kalbėtojo ar klausytojo socialinei tapatybei ir savivertės jausmui. \n",
            "            Pavyzdžiai VGV yra įžeidimai, pertraukimai ir kritika. \n",
            "            Išanalizuokite šį naujienų tekstą ir atsakykite, ar jame yra Veido Grasinantis Veiksmas (VGV). \n",
            "            Atsakykite „1“ už „taip“ arba „0“ už „ne“.\n",
            "\n",
            "            [Nu kas iš tų gražių Rolando Paulausko ir Dariaus Kuolio pasiūlymų, jeigu Lietuvoj...] = \n",
            "result:  [{'generated_text': '\\n            Sociolingvistikos srityje Veido Grasinantis Veiksmas (VGV) yra komunikacinis veiksmas, kuris kelia grėsmę kalbėtojo ar klausytojo socialinei tapatybei ir savivertės jausmui. \\n            Pavyzdžiai VGV yra įžeidimai, pertraukimai ir kritika. \\n            Išanalizuokite šį naujienų tekstą ir atsakykite, ar jame yra Veido Grasinantis Veiksmas (VGV). \\n            Atsakykite „1“ už „taip“ arba „0“ už „ne“.\\n\\n            [Nu kas iš tų gražių Rolando Paulausko ir Dariaus Kuolio pasiūlymų, jeigu Lietuvoj...] = 1'}]\n",
            "answer:   1\n"
          ]
        },
        {
          "output_type": "stream",
          "name": "stderr",
          "text": [
            "\r 66%|██████▌   | 94/143 [00:48<00:27,  1.80it/s]Setting `pad_token_id` to `eos_token_id`:128001 for open-end generation.\n"
          ]
        },
        {
          "output_type": "stream",
          "name": "stdout",
          "text": [
            "prompt:  \n",
            "            Sociolingvistikos srityje Veido Grasinantis Veiksmas (VGV) yra komunikacinis veiksmas, kuris kelia grėsmę kalbėtojo ar klausytojo socialinei tapatybei ir savivertės jausmui. \n",
            "            Pavyzdžiai VGV yra įžeidimai, pertraukimai ir kritika. \n",
            "            Išanalizuokite šį naujienų tekstą ir atsakykite, ar jame yra Veido Grasinantis Veiksmas (VGV). \n",
            "            Atsakykite „1“ už „taip“ arba „0“ už „ne“.\n",
            "\n",
            "            [Tuoj pat, tuoj pat, pone Gentvilai, Algirdas Butkevičius, dešimt sekundžių, prašau.] = \n",
            "result:  [{'generated_text': '\\n            Sociolingvistikos srityje Veido Grasinantis Veiksmas (VGV) yra komunikacinis veiksmas, kuris kelia grėsmę kalbėtojo ar klausytojo socialinei tapatybei ir savivertės jausmui. \\n            Pavyzdžiai VGV yra įžeidimai, pertraukimai ir kritika. \\n            Išanalizuokite šį naujienų tekstą ir atsakykite, ar jame yra Veido Grasinantis Veiksmas (VGV). \\n            Atsakykite „1“ už „taip“ arba „0“ už „ne“.\\n\\n            [Tuoj pat, tuoj pat, pone Gentvilai, Algirdas Butkevičius, dešimt sekundžių, prašau.] = 0'}]\n",
            "answer:   0\n"
          ]
        },
        {
          "output_type": "stream",
          "name": "stderr",
          "text": [
            "\r 66%|██████▋   | 95/143 [00:48<00:25,  1.85it/s]Setting `pad_token_id` to `eos_token_id`:128001 for open-end generation.\n"
          ]
        },
        {
          "output_type": "stream",
          "name": "stdout",
          "text": [
            "prompt:  \n",
            "            Sociolingvistikos srityje Veido Grasinantis Veiksmas (VGV) yra komunikacinis veiksmas, kuris kelia grėsmę kalbėtojo ar klausytojo socialinei tapatybei ir savivertės jausmui. \n",
            "            Pavyzdžiai VGV yra įžeidimai, pertraukimai ir kritika. \n",
            "            Išanalizuokite šį naujienų tekstą ir atsakykite, ar jame yra Veido Grasinantis Veiksmas (VGV). \n",
            "            Atsakykite „1“ už „taip“ arba „0“ už „ne“.\n",
            "\n",
            "            [Ne atskira. Galimybė rinkti savo mokesčius. Tai yra, pavyzdžiui, seniūnijos mokestis gali būti. Žmonės moka seniūnijos mokestį, kaip yra Vakarų Europoje, ir žino, ir žino, kam jis panaudojamas.] = \n",
            "result:  [{'generated_text': '\\n            Sociolingvistikos srityje Veido Grasinantis Veiksmas (VGV) yra komunikacinis veiksmas, kuris kelia grėsmę kalbėtojo ar klausytojo socialinei tapatybei ir savivertės jausmui. \\n            Pavyzdžiai VGV yra įžeidimai, pertraukimai ir kritika. \\n            Išanalizuokite šį naujienų tekstą ir atsakykite, ar jame yra Veido Grasinantis Veiksmas (VGV). \\n            Atsakykite „1“ už „taip“ arba „0“ už „ne“.\\n\\n            [Ne atskira. Galimybė rinkti savo mokesčius. Tai yra, pavyzdžiui, seniūnijos mokestis gali būti. Žmonės moka seniūnijos mokestį, kaip yra Vakarų Europoje, ir žino, ir žino, kam jis panaudojamas.] = 0'}]\n",
            "answer:   0\n"
          ]
        },
        {
          "output_type": "stream",
          "name": "stderr",
          "text": [
            "\r 67%|██████▋   | 96/143 [00:49<00:25,  1.86it/s]Setting `pad_token_id` to `eos_token_id`:128001 for open-end generation.\n"
          ]
        },
        {
          "output_type": "stream",
          "name": "stdout",
          "text": [
            "prompt:  \n",
            "            Sociolingvistikos srityje Veido Grasinantis Veiksmas (VGV) yra komunikacinis veiksmas, kuris kelia grėsmę kalbėtojo ar klausytojo socialinei tapatybei ir savivertės jausmui. \n",
            "            Pavyzdžiai VGV yra įžeidimai, pertraukimai ir kritika. \n",
            "            Išanalizuokite šį naujienų tekstą ir atsakykite, ar jame yra Veido Grasinantis Veiksmas (VGV). \n",
            "            Atsakykite „1“ už „taip“ arba „0“ už „ne“.\n",
            "\n",
            "            [Tai yra Švietimo ministerijos, darbo partija turbūt galės atsakyti.] = \n",
            "result:  [{'generated_text': '\\n            Sociolingvistikos srityje Veido Grasinantis Veiksmas (VGV) yra komunikacinis veiksmas, kuris kelia grėsmę kalbėtojo ar klausytojo socialinei tapatybei ir savivertės jausmui. \\n            Pavyzdžiai VGV yra įžeidimai, pertraukimai ir kritika. \\n            Išanalizuokite šį naujienų tekstą ir atsakykite, ar jame yra Veido Grasinantis Veiksmas (VGV). \\n            Atsakykite „1“ už „taip“ arba „0“ už „ne“.\\n\\n            [Tai yra Švietimo ministerijos, darbo partija turbūt galės atsakyti.] = 1'}]\n",
            "answer:   1\n"
          ]
        },
        {
          "output_type": "stream",
          "name": "stderr",
          "text": [
            "\r 68%|██████▊   | 97/143 [00:49<00:24,  1.86it/s]Setting `pad_token_id` to `eos_token_id`:128001 for open-end generation.\n"
          ]
        },
        {
          "output_type": "stream",
          "name": "stdout",
          "text": [
            "prompt:  \n",
            "            Sociolingvistikos srityje Veido Grasinantis Veiksmas (VGV) yra komunikacinis veiksmas, kuris kelia grėsmę kalbėtojo ar klausytojo socialinei tapatybei ir savivertės jausmui. \n",
            "            Pavyzdžiai VGV yra įžeidimai, pertraukimai ir kritika. \n",
            "            Išanalizuokite šį naujienų tekstą ir atsakykite, ar jame yra Veido Grasinantis Veiksmas (VGV). \n",
            "            Atsakykite „1“ už „taip“ arba „0“ už „ne“.\n",
            "\n",
            "            [O Gabrielius Landsbergis jau Jūsų 120 paėmė kaip atskaitos tašką ir padidino dar dvigubai.] = \n",
            "result:  [{'generated_text': '\\n            Sociolingvistikos srityje Veido Grasinantis Veiksmas (VGV) yra komunikacinis veiksmas, kuris kelia grėsmę kalbėtojo ar klausytojo socialinei tapatybei ir savivertės jausmui. \\n            Pavyzdžiai VGV yra įžeidimai, pertraukimai ir kritika. \\n            Išanalizuokite šį naujienų tekstą ir atsakykite, ar jame yra Veido Grasinantis Veiksmas (VGV). \\n            Atsakykite „1“ už „taip“ arba „0“ už „ne“.\\n\\n            [O Gabrielius Landsbergis jau Jūsų 120 paėmė kaip atskaitos tašką ir padidino dar dvigubai.] = 1'}]\n",
            "answer:   1\n"
          ]
        },
        {
          "output_type": "stream",
          "name": "stderr",
          "text": [
            "\r 69%|██████▊   | 98/143 [00:50<00:24,  1.80it/s]Setting `pad_token_id` to `eos_token_id`:128001 for open-end generation.\n"
          ]
        },
        {
          "output_type": "stream",
          "name": "stdout",
          "text": [
            "prompt:  \n",
            "            Sociolingvistikos srityje Veido Grasinantis Veiksmas (VGV) yra komunikacinis veiksmas, kuris kelia grėsmę kalbėtojo ar klausytojo socialinei tapatybei ir savivertės jausmui. \n",
            "            Pavyzdžiai VGV yra įžeidimai, pertraukimai ir kritika. \n",
            "            Išanalizuokite šį naujienų tekstą ir atsakykite, ar jame yra Veido Grasinantis Veiksmas (VGV). \n",
            "            Atsakykite „1“ už „taip“ arba „0“ už „ne“.\n",
            "\n",
            "            [Aš stebiuosi, kad „Liaudies“ partija, taip skambiai pasivadinusi, ir nenori per dvi minutes suteikti laimės visai Lietuvos tautai.] = \n",
            "result:  [{'generated_text': '\\n            Sociolingvistikos srityje Veido Grasinantis Veiksmas (VGV) yra komunikacinis veiksmas, kuris kelia grėsmę kalbėtojo ar klausytojo socialinei tapatybei ir savivertės jausmui. \\n            Pavyzdžiai VGV yra įžeidimai, pertraukimai ir kritika. \\n            Išanalizuokite šį naujienų tekstą ir atsakykite, ar jame yra Veido Grasinantis Veiksmas (VGV). \\n            Atsakykite „1“ už „taip“ arba „0“ už „ne“.\\n\\n            [Aš stebiuosi, kad „Liaudies“ partija, taip skambiai pasivadinusi, ir nenori per dvi minutes suteikti laimės visai Lietuvos tautai.] = 1'}]\n",
            "answer:   1\n"
          ]
        },
        {
          "output_type": "stream",
          "name": "stderr",
          "text": [
            "\r 69%|██████▉   | 99/143 [00:51<00:25,  1.71it/s]Setting `pad_token_id` to `eos_token_id`:128001 for open-end generation.\n"
          ]
        },
        {
          "output_type": "stream",
          "name": "stdout",
          "text": [
            "prompt:  \n",
            "            Sociolingvistikos srityje Veido Grasinantis Veiksmas (VGV) yra komunikacinis veiksmas, kuris kelia grėsmę kalbėtojo ar klausytojo socialinei tapatybei ir savivertės jausmui. \n",
            "            Pavyzdžiai VGV yra įžeidimai, pertraukimai ir kritika. \n",
            "            Išanalizuokite šį naujienų tekstą ir atsakykite, ar jame yra Veido Grasinantis Veiksmas (VGV). \n",
            "            Atsakykite „1“ už „taip“ arba „0“ už „ne“.\n",
            "\n",
            "            [Apie renovaciją, aš esu pateikęs įstatymo pataisą Seime, kuri labai sunkiai skinasi kelią dėl didžiulio pasipriešinimo, kuris matomas iš Aplinkos apsaugos ministerijos, kuriai vadovauja gerbiami tvarkiečiai.  Mūsų siūlymas ir mano siūlymas yra renovaciją daryti etapais, kad žmonės galėtų patys pasirinkti, eem, padarė vieną renovacijos etapą, pasiekė tam tikrą energetikos klasę, ir gauna kompensaciją. Dabar yra mokama už atliktus darbus, o ne už pasiektą energetinę klasę. Tai yra labai ydinga, tai skatina korupciją, žmonės nesiryžta tokiem dideliem projektam, kai ten maždaug beveik milijono vertės eurų projektas, du metai trukmė, tai yra niekur neveda.] = \n",
            "result:  [{'generated_text': '\\n            Sociolingvistikos srityje Veido Grasinantis Veiksmas (VGV) yra komunikacinis veiksmas, kuris kelia grėsmę kalbėtojo ar klausytojo socialinei tapatybei ir savivertės jausmui. \\n            Pavyzdžiai VGV yra įžeidimai, pertraukimai ir kritika. \\n            Išanalizuokite šį naujienų tekstą ir atsakykite, ar jame yra Veido Grasinantis Veiksmas (VGV). \\n            Atsakykite „1“ už „taip“ arba „0“ už „ne“.\\n\\n            [Apie renovaciją, aš esu pateikęs įstatymo pataisą Seime, kuri labai sunkiai skinasi kelią dėl didžiulio pasipriešinimo, kuris matomas iš Aplinkos apsaugos ministerijos, kuriai vadovauja gerbiami tvarkiečiai.  Mūsų siūlymas ir mano siūlymas yra renovaciją daryti etapais, kad žmonės galėtų patys pasirinkti, eem, padarė vieną renovacijos etapą, pasiekė tam tikrą energetikos klasę, ir gauna kompensaciją. Dabar yra mokama už atliktus darbus, o ne už pasiektą energetinę klasę. Tai yra labai ydinga, tai skatina korupciją, žmonės nesiryžta tokiem dideliem projektam, kai ten maždaug beveik milijono vertės eurų projektas, du metai trukmė, tai yra niekur neveda.] = 1'}]\n",
            "answer:   1\n"
          ]
        },
        {
          "output_type": "stream",
          "name": "stderr",
          "text": [
            "\r 70%|██████▉   | 100/143 [00:51<00:26,  1.65it/s]Setting `pad_token_id` to `eos_token_id`:128001 for open-end generation.\n"
          ]
        },
        {
          "output_type": "stream",
          "name": "stdout",
          "text": [
            "prompt:  \n",
            "            Sociolingvistikos srityje Veido Grasinantis Veiksmas (VGV) yra komunikacinis veiksmas, kuris kelia grėsmę kalbėtojo ar klausytojo socialinei tapatybei ir savivertės jausmui. \n",
            "            Pavyzdžiai VGV yra įžeidimai, pertraukimai ir kritika. \n",
            "            Išanalizuokite šį naujienų tekstą ir atsakykite, ar jame yra Veido Grasinantis Veiksmas (VGV). \n",
            "            Atsakykite „1“ už „taip“ arba „0“ už „ne“.\n",
            "\n",
            "            [Iš tiesų, matyt, rikia pradėt nuo požiūrio į žmogų. Valdžios požiūrį į žmogų, ir, deja, šiandien, vėlgi, Darbo kodekso priėmimas to požiūrio į žmogų, į dirbantį žmogų nepridėjo daugiau. Demografinė krizė. Tai susijusi ir su gimstamumu ir su emigracija, ką Gabrielius paminėjo, iš tiesų, matydami neviltį žmonės palieka šalį ir palieka šalį ne vien dėl tų ekonominių klausimų, dėl darbo vietų geresnių, dėl geresenio darbo užmokesčio užsienyje, bet ir dėl nevilties ir požiūrio į juos. Nepakankama arba netobula švietimo sistema. Žmnės išvažiuoja, žmonės nelaimngi dėl to, kad negali įgyti tinkamo, gero, konkuruojančio rinkoj išsilavinimo. Regionų mirtis. Iš tiesų, tai reikia pripažinti, šiandien Vilniaus, Vilniaus apskritis sutraukia praktiškai visas investicijas, didžiausią  ekonominį potencialą ir gerokai viršyja Bendro vidaus produkto, jeigu tą Europos Sąjungos vidurkis yra 75 rocentai, čia yra gerokai virš 100 procentų. Ir, iš esmės, yra korupcija. Ką aš irgi, puikiai pritariu, matydami neveiksnią ir amoralią politiką, žmonės nusivilia ir dažnai pasako, kad „čia laimės aš neturėsiu ir išvažiuosiu“. ] = \n",
            "result:  [{'generated_text': '\\n            Sociolingvistikos srityje Veido Grasinantis Veiksmas (VGV) yra komunikacinis veiksmas, kuris kelia grėsmę kalbėtojo ar klausytojo socialinei tapatybei ir savivertės jausmui. \\n            Pavyzdžiai VGV yra įžeidimai, pertraukimai ir kritika. \\n            Išanalizuokite šį naujienų tekstą ir atsakykite, ar jame yra Veido Grasinantis Veiksmas (VGV). \\n            Atsakykite „1“ už „taip“ arba „0“ už „ne“.\\n\\n            [Iš tiesų, matyt, rikia pradėt nuo požiūrio į žmogų. Valdžios požiūrį į žmogų, ir, deja, šiandien, vėlgi, Darbo kodekso priėmimas to požiūrio į žmogų, į dirbantį žmogų nepridėjo daugiau. Demografinė krizė. Tai susijusi ir su gimstamumu ir su emigracija, ką Gabrielius paminėjo, iš tiesų, matydami neviltį žmonės palieka šalį ir palieka šalį ne vien dėl tų ekonominių klausimų, dėl darbo vietų geresnių, dėl geresenio darbo užmokesčio užsienyje, bet ir dėl nevilties ir požiūrio į juos. Nepakankama arba netobula švietimo sistema. Žmnės išvažiuoja, žmonės nelaimngi dėl to, kad negali įgyti tinkamo, gero, konkuruojančio rinkoj išsilavinimo. Regionų mirtis. Iš tiesų, tai reikia pripažinti, šiandien Vilniaus, Vilniaus apskritis sutraukia praktiškai visas investicijas, didžiausią  ekonominį potencialą ir gerokai viršyja Bendro vidaus produkto, jeigu tą Europos Sąjungos vidurkis yra 75 rocentai, čia yra gerokai virš 100 procentų. Ir, iš esmės, yra korupcija. Ką aš irgi, puikiai pritariu, matydami neveiksnią ir amoralią politiką, žmonės nusivilia ir dažnai pasako, kad „čia laimės aš neturėsiu ir išvažiuosiu“. ] = 1'}]\n",
            "answer:   1\n"
          ]
        },
        {
          "output_type": "stream",
          "name": "stderr",
          "text": [
            "\r 71%|███████   | 101/143 [00:52<00:24,  1.72it/s]Setting `pad_token_id` to `eos_token_id`:128001 for open-end generation.\n"
          ]
        },
        {
          "output_type": "stream",
          "name": "stdout",
          "text": [
            "prompt:  \n",
            "            Sociolingvistikos srityje Veido Grasinantis Veiksmas (VGV) yra komunikacinis veiksmas, kuris kelia grėsmę kalbėtojo ar klausytojo socialinei tapatybei ir savivertės jausmui. \n",
            "            Pavyzdžiai VGV yra įžeidimai, pertraukimai ir kritika. \n",
            "            Išanalizuokite šį naujienų tekstą ir atsakykite, ar jame yra Veido Grasinantis Veiksmas (VGV). \n",
            "            Atsakykite „1“ už „taip“ arba „0“ už „ne“.\n",
            "\n",
            "            [Aš prisiminiau savo mintį, kad vis dėlto dabar mes žadame ir žadame, mes esam užregistravęm, pateikimui Seimo nariai pritarė, tačiau ką daro Vyriausybė? Valdantieji šiandien. Rašo neigiamas išvadas. Dėl šeimos kortelės, dėl išmokų. Tai, iš tikrųjų, yra labai sudėtinga ir dabar, agitaciniu laikotarpiu, mes kalbam gražiai, o kaip mūsų veiksmai toliau, esant Seime, tai jau visai kas kita. Ir dar vienas dalykas, iš tikrųjų, gimstamumo paskatinimas, Prancūzija tai gražus pavyzdys, nes jinai ilgą laiką tai taikė. Tai nebuvo kažkokia vienkartinė akcija, išlaiko iki šiol 1,9 gimstamumą, yra labai geras rodiklis. Tai reiškia šeimos politika yra vienas svarbiausias valstybės politikos prioritetų. Ir čia, iš tikrųjų, reikia tą spręsti] = \n",
            "result:  [{'generated_text': '\\n            Sociolingvistikos srityje Veido Grasinantis Veiksmas (VGV) yra komunikacinis veiksmas, kuris kelia grėsmę kalbėtojo ar klausytojo socialinei tapatybei ir savivertės jausmui. \\n            Pavyzdžiai VGV yra įžeidimai, pertraukimai ir kritika. \\n            Išanalizuokite šį naujienų tekstą ir atsakykite, ar jame yra Veido Grasinantis Veiksmas (VGV). \\n            Atsakykite „1“ už „taip“ arba „0“ už „ne“.\\n\\n            [Aš prisiminiau savo mintį, kad vis dėlto dabar mes žadame ir žadame, mes esam užregistravęm, pateikimui Seimo nariai pritarė, tačiau ką daro Vyriausybė? Valdantieji šiandien. Rašo neigiamas išvadas. Dėl šeimos kortelės, dėl išmokų. Tai, iš tikrųjų, yra labai sudėtinga ir dabar, agitaciniu laikotarpiu, mes kalbam gražiai, o kaip mūsų veiksmai toliau, esant Seime, tai jau visai kas kita. Ir dar vienas dalykas, iš tikrųjų, gimstamumo paskatinimas, Prancūzija tai gražus pavyzdys, nes jinai ilgą laiką tai taikė. Tai nebuvo kažkokia vienkartinė akcija, išlaiko iki šiol 1,9 gimstamumą, yra labai geras rodiklis. Tai reiškia šeimos politika yra vienas svarbiausias valstybės politikos prioritetų. Ir čia, iš tikrųjų, reikia tą spręsti] = 1'}]\n",
            "answer:   1\n"
          ]
        },
        {
          "output_type": "stream",
          "name": "stderr",
          "text": [
            "\r 71%|███████▏  | 102/143 [00:52<00:22,  1.86it/s]Setting `pad_token_id` to `eos_token_id`:128001 for open-end generation.\n"
          ]
        },
        {
          "output_type": "stream",
          "name": "stdout",
          "text": [
            "prompt:  \n",
            "            Sociolingvistikos srityje Veido Grasinantis Veiksmas (VGV) yra komunikacinis veiksmas, kuris kelia grėsmę kalbėtojo ar klausytojo socialinei tapatybei ir savivertės jausmui. \n",
            "            Pavyzdžiai VGV yra įžeidimai, pertraukimai ir kritika. \n",
            "            Išanalizuokite šį naujienų tekstą ir atsakykite, ar jame yra Veido Grasinantis Veiksmas (VGV). \n",
            "            Atsakykite „1“ už „taip“ arba „0“ už „ne“.\n",
            "\n",
            "            [Lietuvos „Žaliųjų“ partija pasisako už profesionalią kariuomenę ir stiprų rezervą. Tai yra labai svarbus dalykas, kad būtų stiprus rezervas. Mes šitoj situacijoj, šitame laikotarpy, kai reikia kurti stiprų rezervą...] = \n",
            "result:  [{'generated_text': '\\n            Sociolingvistikos srityje Veido Grasinantis Veiksmas (VGV) yra komunikacinis veiksmas, kuris kelia grėsmę kalbėtojo ar klausytojo socialinei tapatybei ir savivertės jausmui. \\n            Pavyzdžiai VGV yra įžeidimai, pertraukimai ir kritika. \\n            Išanalizuokite šį naujienų tekstą ir atsakykite, ar jame yra Veido Grasinantis Veiksmas (VGV). \\n            Atsakykite „1“ už „taip“ arba „0“ už „ne“.\\n\\n            [Lietuvos „Žaliųjų“ partija pasisako už profesionalią kariuomenę ir stiprų rezervą. Tai yra labai svarbus dalykas, kad būtų stiprus rezervas. Mes šitoj situacijoj, šitame laikotarpy, kai reikia kurti stiprų rezervą...] = 1'}]\n",
            "answer:   1\n"
          ]
        },
        {
          "output_type": "stream",
          "name": "stderr",
          "text": [
            "\r 72%|███████▏  | 103/143 [00:53<00:22,  1.80it/s]Setting `pad_token_id` to `eos_token_id`:128001 for open-end generation.\n"
          ]
        },
        {
          "output_type": "stream",
          "name": "stdout",
          "text": [
            "prompt:  \n",
            "            Sociolingvistikos srityje Veido Grasinantis Veiksmas (VGV) yra komunikacinis veiksmas, kuris kelia grėsmę kalbėtojo ar klausytojo socialinei tapatybei ir savivertės jausmui. \n",
            "            Pavyzdžiai VGV yra įžeidimai, pertraukimai ir kritika. \n",
            "            Išanalizuokite šį naujienų tekstą ir atsakykite, ar jame yra Veido Grasinantis Veiksmas (VGV). \n",
            "            Atsakykite „1“ už „taip“ arba „0“ už „ne“.\n",
            "\n",
            "            [Toliau dėl kogeneracinės elektrinės paminėtos, tai, iš tiesų, klausimas nėra toks labai teigiamas ir paprastas, nes, mūsų manymu, mes turėsime perteklinę infrastruktūrą ir šiandien investuoti, nesvarbu, kad gaunami Europos Sąjungos pinigai, į anrą nuo galo pagal efektyvumą, kalbant apie šiukšlių tvarkymą, tai mum kelia didelių klausimų, kokia sąskaita mes tai galime padaryti. Alternatyva visa tokia pasakyta yra, iš tikrųjų, žalioji energetika, jeig mes paimtume paskutinį dešimtmetį, pamatytume 85 procentais sumažėjusias Saulės elektros batrijų kainas, beveik 30 procentų sumažėjo vėjo jėgainių kaina, tai alternatyva, iš tiesų, yra – žalioji energetika, mažos elektrinės, na, mažos įmonės, generuojančios elektros energiją ir šilumą, tačiau yra vienas „bet“. Iš tiesų, įsileidimas į rinką šitų mažų jėgainių šiandien yra neįmanomas. ] = \n",
            "result:  [{'generated_text': '\\n            Sociolingvistikos srityje Veido Grasinantis Veiksmas (VGV) yra komunikacinis veiksmas, kuris kelia grėsmę kalbėtojo ar klausytojo socialinei tapatybei ir savivertės jausmui. \\n            Pavyzdžiai VGV yra įžeidimai, pertraukimai ir kritika. \\n            Išanalizuokite šį naujienų tekstą ir atsakykite, ar jame yra Veido Grasinantis Veiksmas (VGV). \\n            Atsakykite „1“ už „taip“ arba „0“ už „ne“.\\n\\n            [Toliau dėl kogeneracinės elektrinės paminėtos, tai, iš tiesų, klausimas nėra toks labai teigiamas ir paprastas, nes, mūsų manymu, mes turėsime perteklinę infrastruktūrą ir šiandien investuoti, nesvarbu, kad gaunami Europos Sąjungos pinigai, į anrą nuo galo pagal efektyvumą, kalbant apie šiukšlių tvarkymą, tai mum kelia didelių klausimų, kokia sąskaita mes tai galime padaryti. Alternatyva visa tokia pasakyta yra, iš tikrųjų, žalioji energetika, jeig mes paimtume paskutinį dešimtmetį, pamatytume 85 procentais sumažėjusias Saulės elektros batrijų kainas, beveik 30 procentų sumažėjo vėjo jėgainių kaina, tai alternatyva, iš tiesų, yra – žalioji energetika, mažos elektrinės, na, mažos įmonės, generuojančios elektros energiją ir šilumą, tačiau yra vienas „bet“. Iš tiesų, įsileidimas į rinką šitų mažų jėgainių šiandien yra neįmanomas. ] = 1'}]\n",
            "answer:   1\n"
          ]
        },
        {
          "output_type": "stream",
          "name": "stderr",
          "text": [
            "\r 73%|███████▎  | 104/143 [00:53<00:20,  1.87it/s]Setting `pad_token_id` to `eos_token_id`:128001 for open-end generation.\n"
          ]
        },
        {
          "output_type": "stream",
          "name": "stdout",
          "text": [
            "prompt:  \n",
            "            Sociolingvistikos srityje Veido Grasinantis Veiksmas (VGV) yra komunikacinis veiksmas, kuris kelia grėsmę kalbėtojo ar klausytojo socialinei tapatybei ir savivertės jausmui. \n",
            "            Pavyzdžiai VGV yra įžeidimai, pertraukimai ir kritika. \n",
            "            Išanalizuokite šį naujienų tekstą ir atsakykite, ar jame yra Veido Grasinantis Veiksmas (VGV). \n",
            "            Atsakykite „1“ už „taip“ arba „0“ už „ne“.\n",
            "\n",
            "            [Dėl PVMo. Premjeras gyrėsi, kad PVMas surenkamas labai gerai, tačiau tarptautinių institucijų vertinimu jo nesurenkama 33 procentai nuo to, kiek galima surinkti. Bent pusę, padidinus surinkimą nuo to deficito arba to trūkumo, valstybės biudžetas pasipildytų 600 milijonų eurų ir deficitas seniai būtų išnykęs. Taip, kad darbo dar daug, ir, aš manau, mes jį nuveiksim tikrai.] = \n",
            "result:  [{'generated_text': '\\n            Sociolingvistikos srityje Veido Grasinantis Veiksmas (VGV) yra komunikacinis veiksmas, kuris kelia grėsmę kalbėtojo ar klausytojo socialinei tapatybei ir savivertės jausmui. \\n            Pavyzdžiai VGV yra įžeidimai, pertraukimai ir kritika. \\n            Išanalizuokite šį naujienų tekstą ir atsakykite, ar jame yra Veido Grasinantis Veiksmas (VGV). \\n            Atsakykite „1“ už „taip“ arba „0“ už „ne“.\\n\\n            [Dėl PVMo. Premjeras gyrėsi, kad PVMas surenkamas labai gerai, tačiau tarptautinių institucijų vertinimu jo nesurenkama 33 procentai nuo to, kiek galima surinkti. Bent pusę, padidinus surinkimą nuo to deficito arba to trūkumo, valstybės biudžetas pasipildytų 600 milijonų eurų ir deficitas seniai būtų išnykęs. Taip, kad darbo dar daug, ir, aš manau, mes jį nuveiksim tikrai.] = 1'}]\n",
            "answer:   1\n"
          ]
        },
        {
          "output_type": "stream",
          "name": "stderr",
          "text": [
            "\r 73%|███████▎  | 105/143 [00:54<00:19,  1.93it/s]Setting `pad_token_id` to `eos_token_id`:128001 for open-end generation.\n"
          ]
        },
        {
          "output_type": "stream",
          "name": "stdout",
          "text": [
            "prompt:  \n",
            "            Sociolingvistikos srityje Veido Grasinantis Veiksmas (VGV) yra komunikacinis veiksmas, kuris kelia grėsmę kalbėtojo ar klausytojo socialinei tapatybei ir savivertės jausmui. \n",
            "            Pavyzdžiai VGV yra įžeidimai, pertraukimai ir kritika. \n",
            "            Išanalizuokite šį naujienų tekstą ir atsakykite, ar jame yra Veido Grasinantis Veiksmas (VGV). \n",
            "            Atsakykite „1“ už „taip“ arba „0“ už „ne“.\n",
            "\n",
            "            [Taip! Specialistas.] = \n",
            "result:  [{'generated_text': '\\n            Sociolingvistikos srityje Veido Grasinantis Veiksmas (VGV) yra komunikacinis veiksmas, kuris kelia grėsmę kalbėtojo ar klausytojo socialinei tapatybei ir savivertės jausmui. \\n            Pavyzdžiai VGV yra įžeidimai, pertraukimai ir kritika. \\n            Išanalizuokite šį naujienų tekstą ir atsakykite, ar jame yra Veido Grasinantis Veiksmas (VGV). \\n            Atsakykite „1“ už „taip“ arba „0“ už „ne“.\\n\\n            [Taip! Specialistas.] = 1'}]\n",
            "answer:   1\n"
          ]
        },
        {
          "output_type": "stream",
          "name": "stderr",
          "text": [
            "\r 74%|███████▍  | 106/143 [00:54<00:18,  2.03it/s]Setting `pad_token_id` to `eos_token_id`:128001 for open-end generation.\n"
          ]
        },
        {
          "output_type": "stream",
          "name": "stdout",
          "text": [
            "prompt:  \n",
            "            Sociolingvistikos srityje Veido Grasinantis Veiksmas (VGV) yra komunikacinis veiksmas, kuris kelia grėsmę kalbėtojo ar klausytojo socialinei tapatybei ir savivertės jausmui. \n",
            "            Pavyzdžiai VGV yra įžeidimai, pertraukimai ir kritika. \n",
            "            Išanalizuokite šį naujienų tekstą ir atsakykite, ar jame yra Veido Grasinantis Veiksmas (VGV). \n",
            "            Atsakykite „1“ už „taip“ arba „0“ už „ne“.\n",
            "\n",
            "            [aš siūlau su Europos komisija susitarti, jeigu tau leis visus 40 000 išrenovuot, tai tu būtumei šaunuolis.  Taip apt kažkodėl jūs nešnekat apie nei vienas apie privačius namus. Tai ką, privatūs namai kažkokie tai yra šiandien dienai atsilikę nuo kažkokios.] = \n",
            "result:  [{'generated_text': '\\n            Sociolingvistikos srityje Veido Grasinantis Veiksmas (VGV) yra komunikacinis veiksmas, kuris kelia grėsmę kalbėtojo ar klausytojo socialinei tapatybei ir savivertės jausmui. \\n            Pavyzdžiai VGV yra įžeidimai, pertraukimai ir kritika. \\n            Išanalizuokite šį naujienų tekstą ir atsakykite, ar jame yra Veido Grasinantis Veiksmas (VGV). \\n            Atsakykite „1“ už „taip“ arba „0“ už „ne“.\\n\\n            [aš siūlau su Europos komisija susitarti, jeigu tau leis visus 40 000 išrenovuot, tai tu būtumei šaunuolis. \\xa0Taip apt kažkodėl jūs nešnekat apie nei vienas apie privačius namus. Tai ką, privatūs namai kažkokie tai yra šiandien dienai atsilikę nuo kažkokios.] = 1'}]\n",
            "answer:   1\n"
          ]
        },
        {
          "output_type": "stream",
          "name": "stderr",
          "text": [
            "\r 75%|███████▍  | 107/143 [00:55<00:17,  2.02it/s]Setting `pad_token_id` to `eos_token_id`:128001 for open-end generation.\n"
          ]
        },
        {
          "output_type": "stream",
          "name": "stdout",
          "text": [
            "prompt:  \n",
            "            Sociolingvistikos srityje Veido Grasinantis Veiksmas (VGV) yra komunikacinis veiksmas, kuris kelia grėsmę kalbėtojo ar klausytojo socialinei tapatybei ir savivertės jausmui. \n",
            "            Pavyzdžiai VGV yra įžeidimai, pertraukimai ir kritika. \n",
            "            Išanalizuokite šį naujienų tekstą ir atsakykite, ar jame yra Veido Grasinantis Veiksmas (VGV). \n",
            "            Atsakykite „1“ už „taip“ arba „0“ už „ne“.\n",
            "\n",
            "            [Labai trumpai, kalbant apie PVM surinkimą. Tikriausiai pastebėjot, kad PVM surinkimas ženkliai pagerėjo ir niekada nebuvo PVM pajamų planas įvykdytas. Tikrai sutinku su ta mintim, kad dar tikrai šešėly PVM nesumokėta yra nemažai, bet mes visa tai grindžiam analize, skaičiavimais ir tie skaičiavimai yra daromi įvairiais pjūviais, bet ne kažkokiom tai žiauriom akcijom, gąsdinimais. Tiesiog matoma stambių įmonių, pavyzdžiui, kokia yra apyvarta, kokie yra mokesčiai. Nes, pavyzdžiui, kalbant apie mokesčius, nekas nekalba apie brangaus turto apmokestinimą. Mes dabar jau, Socialdemokratai, pradėjom apie tai diskutuot, nes pamatėm, kad tendencijos dabar jau pasidarė tokios, kad iš kapitalo pajamos Lietuvoj pradėjo augt daug sparčiau, netgi keletą kartų sparčiau, lyginant su vidutiniu darbo užmokesčio augimu. Ir aš šitą klausimą, kurį iškėliau, dabar pamačiau ir portaluose diskusija, ir Vyriausybė jau šitą analizę baigs šitą savaitę ir bus galima tiesiog pateikt visuomenei] = \n",
            "result:  [{'generated_text': '\\n            Sociolingvistikos srityje Veido Grasinantis Veiksmas (VGV) yra komunikacinis veiksmas, kuris kelia grėsmę kalbėtojo ar klausytojo socialinei tapatybei ir savivertės jausmui. \\n            Pavyzdžiai VGV yra įžeidimai, pertraukimai ir kritika. \\n            Išanalizuokite šį naujienų tekstą ir atsakykite, ar jame yra Veido Grasinantis Veiksmas (VGV). \\n            Atsakykite „1“ už „taip“ arba „0“ už „ne“.\\n\\n            [Labai trumpai, kalbant apie PVM surinkimą. Tikriausiai pastebėjot, kad PVM surinkimas ženkliai pagerėjo ir niekada nebuvo PVM pajamų planas įvykdytas. Tikrai sutinku su ta mintim, kad dar tikrai šešėly PVM nesumokėta yra nemažai, bet mes visa tai grindžiam analize, skaičiavimais ir tie skaičiavimai yra daromi įvairiais pjūviais, bet ne kažkokiom tai žiauriom akcijom, gąsdinimais. Tiesiog matoma stambių įmonių, pavyzdžiui, kokia yra apyvarta, kokie yra mokesčiai. Nes, pavyzdžiui, kalbant apie mokesčius, nekas nekalba apie brangaus turto apmokestinimą. Mes dabar jau, Socialdemokratai, pradėjom apie tai diskutuot, nes pamatėm, kad tendencijos dabar jau pasidarė tokios, kad iš kapitalo pajamos Lietuvoj pradėjo augt daug sparčiau, netgi keletą kartų sparčiau, lyginant su vidutiniu darbo užmokesčio augimu. Ir aš šitą klausimą, kurį iškėliau, dabar pamačiau ir portaluose diskusija, ir Vyriausybė jau šitą analizę baigs šitą savaitę ir bus galima tiesiog pateikt visuomenei] = 1'}]\n",
            "answer:   1\n"
          ]
        },
        {
          "output_type": "stream",
          "name": "stderr",
          "text": [
            "\r 76%|███████▌  | 108/143 [00:55<00:17,  2.02it/s]Setting `pad_token_id` to `eos_token_id`:128001 for open-end generation.\n"
          ]
        },
        {
          "output_type": "stream",
          "name": "stdout",
          "text": [
            "prompt:  \n",
            "            Sociolingvistikos srityje Veido Grasinantis Veiksmas (VGV) yra komunikacinis veiksmas, kuris kelia grėsmę kalbėtojo ar klausytojo socialinei tapatybei ir savivertės jausmui. \n",
            "            Pavyzdžiai VGV yra įžeidimai, pertraukimai ir kritika. \n",
            "            Išanalizuokite šį naujienų tekstą ir atsakykite, ar jame yra Veido Grasinantis Veiksmas (VGV). \n",
            "            Atsakykite „1“ už „taip“ arba „0“ už „ne“.\n",
            "\n",
            "            [Tai yra prancūzijos kompanija “Dalkijo”, arba šiuo metu “Violija”. Ir dėl to jinai sutiko didžiulį pasipriešinimą. Iš visų gaspromų, iš visų tarpininkų, kurie tiekia mazutą, uždirbinėjo iš perpardavimo dujų ir panašiai. Ir šiandini..Šiandien jeigu vertinčiau šitą sutartį, aš vertinčiau ją teigiamai. Gaila, kad pats Seimas įst..eem, eem, įstatymų leidėjai sumalė viską taip, kad šiandien, deja, visa kontrolė sutarties iš savivaldybės rankų išėjo į Vyriausybę. O grįžtant dar šiek tiek prie temos globalesnės tai noriu pasakyt, kad šiandien pažangus pasaulis mąsto, kad 2050-aisiais metais  iš esmės šilumos ūkis toks, koks dabar yra nebebus nei naudojamas, nei efektyvus. Kiekvienas namas, jeigu kalbėtume apie ateities energetinius sprendimus, kalbant apie atsinaujinančią energetiką, būtų nepriklausimas, pats gaminų sau elektrą, pats gamintų sau šilumą ir neriklausytų nuo nieko. Nuo jokio monopolininko, didesnio ar mažesnio. Vietinio, ar savo, ar užsienio.] = \n",
            "result:  [{'generated_text': '\\n            Sociolingvistikos srityje Veido Grasinantis Veiksmas (VGV) yra komunikacinis veiksmas, kuris kelia grėsmę kalbėtojo ar klausytojo socialinei tapatybei ir savivertės jausmui. \\n            Pavyzdžiai VGV yra įžeidimai, pertraukimai ir kritika. \\n            Išanalizuokite šį naujienų tekstą ir atsakykite, ar jame yra Veido Grasinantis Veiksmas (VGV). \\n            Atsakykite „1“ už „taip“ arba „0“ už „ne“.\\n\\n            [Tai yra prancūzijos kompanija “Dalkijo”, arba šiuo metu “Violija”. Ir dėl to jinai sutiko didžiulį pasipriešinimą. Iš visų gaspromų, iš visų tarpininkų, kurie tiekia mazutą, uždirbinėjo iš perpardavimo dujų ir panašiai. Ir šiandini..Šiandien jeigu vertinčiau šitą sutartį, aš vertinčiau ją teigiamai. Gaila, kad pats Seimas įst..eem, eem, įstatymų leidėjai sumalė viską taip, kad šiandien, deja, visa kontrolė sutarties iš savivaldybės rankų išėjo į Vyriausybę. O grįžtant dar šiek tiek prie temos globalesnės tai noriu pasakyt, kad šiandien pažangus pasaulis mąsto, kad 2050-aisiais metais  iš esmės šilumos ūkis toks, koks dabar yra nebebus nei naudojamas, nei efektyvus. Kiekvienas namas, jeigu kalbėtume apie ateities energetinius sprendimus, kalbant apie atsinaujinančią energetiką, būtų nepriklausimas, pats gaminų sau elektrą, pats gamintų sau šilumą ir neriklausytų nuo nieko. Nuo jokio monopolininko, didesnio ar mažesnio. Vietinio, ar savo, ar užsienio.] = 1'}]\n",
            "answer:   1\n"
          ]
        },
        {
          "output_type": "stream",
          "name": "stderr",
          "text": [
            "\r 76%|███████▌  | 109/143 [00:56<00:15,  2.20it/s]Setting `pad_token_id` to `eos_token_id`:128001 for open-end generation.\n"
          ]
        },
        {
          "output_type": "stream",
          "name": "stdout",
          "text": [
            "prompt:  \n",
            "            Sociolingvistikos srityje Veido Grasinantis Veiksmas (VGV) yra komunikacinis veiksmas, kuris kelia grėsmę kalbėtojo ar klausytojo socialinei tapatybei ir savivertės jausmui. \n",
            "            Pavyzdžiai VGV yra įžeidimai, pertraukimai ir kritika. \n",
            "            Išanalizuokite šį naujienų tekstą ir atsakykite, ar jame yra Veido Grasinantis Veiksmas (VGV). \n",
            "            Atsakykite „1“ už „taip“ arba „0“ už „ne“.\n",
            "\n",
            "            [Taip? Bet tai su investitorių forumu galėsit padiskutuot. ] = \n",
            "result:  [{'generated_text': '\\n            Sociolingvistikos srityje Veido Grasinantis Veiksmas (VGV) yra komunikacinis veiksmas, kuris kelia grėsmę kalbėtojo ar klausytojo socialinei tapatybei ir savivertės jausmui. \\n            Pavyzdžiai VGV yra įžeidimai, pertraukimai ir kritika. \\n            Išanalizuokite šį naujienų tekstą ir atsakykite, ar jame yra Veido Grasinantis Veiksmas (VGV). \\n            Atsakykite „1“ už „taip“ arba „0“ už „ne“.\\n\\n            [Taip? Bet tai su investitorių forumu galėsit padiskutuot. ] = 1'}]\n",
            "answer:   1\n"
          ]
        },
        {
          "output_type": "stream",
          "name": "stderr",
          "text": [
            "\r 77%|███████▋  | 110/143 [00:56<00:14,  2.35it/s]Setting `pad_token_id` to `eos_token_id`:128001 for open-end generation.\n"
          ]
        },
        {
          "output_type": "stream",
          "name": "stdout",
          "text": [
            "prompt:  \n",
            "            Sociolingvistikos srityje Veido Grasinantis Veiksmas (VGV) yra komunikacinis veiksmas, kuris kelia grėsmę kalbėtojo ar klausytojo socialinei tapatybei ir savivertės jausmui. \n",
            "            Pavyzdžiai VGV yra įžeidimai, pertraukimai ir kritika. \n",
            "            Išanalizuokite šį naujienų tekstą ir atsakykite, ar jame yra Veido Grasinantis Veiksmas (VGV). \n",
            "            Atsakykite „1“ už „taip“ arba „0“ už „ne“.\n",
            "\n",
            "            [Čia dėl, pastebėjimas dėl pilietybės, Izraelyje taip pat galima turėti dvigubą pilietybę, tačiau, kaip matote, Izraely dėl to problemų neiškyla ir, iš tikrųjų, turi vieną iš stipriausių... ] = \n",
            "result:  [{'generated_text': '\\n            Sociolingvistikos srityje Veido Grasinantis Veiksmas (VGV) yra komunikacinis veiksmas, kuris kelia grėsmę kalbėtojo ar klausytojo socialinei tapatybei ir savivertės jausmui. \\n            Pavyzdžiai VGV yra įžeidimai, pertraukimai ir kritika. \\n            Išanalizuokite šį naujienų tekstą ir atsakykite, ar jame yra Veido Grasinantis Veiksmas (VGV). \\n            Atsakykite „1“ už „taip“ arba „0“ už „ne“.\\n\\n            [Čia dėl, pastebėjimas dėl pilietybės, Izraelyje taip pat galima turėti dvigubą pilietybę, tačiau, kaip matote, Izraely dėl to problemų neiškyla ir, iš tikrųjų, turi vieną iš stipriausių... ] = 1'}]\n",
            "answer:   1\n"
          ]
        },
        {
          "output_type": "stream",
          "name": "stderr",
          "text": [
            "\r 78%|███████▊  | 111/143 [00:56<00:12,  2.46it/s]Setting `pad_token_id` to `eos_token_id`:128001 for open-end generation.\n"
          ]
        },
        {
          "output_type": "stream",
          "name": "stdout",
          "text": [
            "prompt:  \n",
            "            Sociolingvistikos srityje Veido Grasinantis Veiksmas (VGV) yra komunikacinis veiksmas, kuris kelia grėsmę kalbėtojo ar klausytojo socialinei tapatybei ir savivertės jausmui. \n",
            "            Pavyzdžiai VGV yra įžeidimai, pertraukimai ir kritika. \n",
            "            Išanalizuokite šį naujienų tekstą ir atsakykite, ar jame yra Veido Grasinantis Veiksmas (VGV). \n",
            "            Atsakykite „1“ už „taip“ arba „0“ už „ne“.\n",
            "\n",
            "            [ne, labai trumpai, reiškia kalbam apie investicijas regionuose, kad nei kiek nepakilo. 58 procentais pakilo. Apie nedarbą. Mielieji, pirmą kartą  2015-aisiais metais nuo vasario mėnesio, reiškia, naujų darbo vietų pasiūla lenkia, reiškia, paklausą. Niekada Lietuvos istorijoj po Nepriklausomybės atkūrimo laikotapopulistinėrpio nebuvo.] = \n",
            "result:  [{'generated_text': '\\n            Sociolingvistikos srityje Veido Grasinantis Veiksmas (VGV) yra komunikacinis veiksmas, kuris kelia grėsmę kalbėtojo ar klausytojo socialinei tapatybei ir savivertės jausmui. \\n            Pavyzdžiai VGV yra įžeidimai, pertraukimai ir kritika. \\n            Išanalizuokite šį naujienų tekstą ir atsakykite, ar jame yra Veido Grasinantis Veiksmas (VGV). \\n            Atsakykite „1“ už „taip“ arba „0“ už „ne“.\\n\\n            [ne, labai trumpai, reiškia kalbam apie investicijas regionuose, kad nei kiek nepakilo. 58 procentais pakilo. Apie nedarbą. Mielieji, pirmą kartą  2015-aisiais metais nuo vasario mėnesio, reiškia, naujų darbo vietų pasiūla lenkia, reiškia, paklausą. Niekada Lietuvos istorijoj po Nepriklausomybės atkūrimo laikotapopulistinėrpio nebuvo.] = 0'}]\n",
            "answer:   0\n"
          ]
        },
        {
          "output_type": "stream",
          "name": "stderr",
          "text": [
            "\r 78%|███████▊  | 112/143 [00:57<00:12,  2.55it/s]Setting `pad_token_id` to `eos_token_id`:128001 for open-end generation.\n"
          ]
        },
        {
          "output_type": "stream",
          "name": "stdout",
          "text": [
            "prompt:  \n",
            "            Sociolingvistikos srityje Veido Grasinantis Veiksmas (VGV) yra komunikacinis veiksmas, kuris kelia grėsmę kalbėtojo ar klausytojo socialinei tapatybei ir savivertės jausmui. \n",
            "            Pavyzdžiai VGV yra įžeidimai, pertraukimai ir kritika. \n",
            "            Išanalizuokite šį naujienų tekstą ir atsakykite, ar jame yra Veido Grasinantis Veiksmas (VGV). \n",
            "            Atsakykite „1“ už „taip“ arba „0“ už „ne“.\n",
            "\n",
            "            [ir dėl to vien antrame ketvirtyje vidutinis darbo užmokestis pagaliau pagaliau padidėjo ir pasiekė prieškrizinį laikotarpį. 8,1 procento, lyginant su praeitų metų tuo pačiu laiktarpiu] = \n",
            "result:  [{'generated_text': '\\n            Sociolingvistikos srityje Veido Grasinantis Veiksmas (VGV) yra komunikacinis veiksmas, kuris kelia grėsmę kalbėtojo ar klausytojo socialinei tapatybei ir savivertės jausmui. \\n            Pavyzdžiai VGV yra įžeidimai, pertraukimai ir kritika. \\n            Išanalizuokite šį naujienų tekstą ir atsakykite, ar jame yra Veido Grasinantis Veiksmas (VGV). \\n            Atsakykite „1“ už „taip“ arba „0“ už „ne“.\\n\\n            [ir dėl to vien antrame ketvirtyje vidutinis darbo užmokestis pagaliau pagaliau padidėjo ir pasiekė prieškrizinį laikotarpį. 8,1 procento, lyginant su praeitų metų tuo pačiu laiktarpiu] = 1'}]\n",
            "answer:   1\n"
          ]
        },
        {
          "output_type": "stream",
          "name": "stderr",
          "text": [
            "\r 79%|███████▉  | 113/143 [00:57<00:11,  2.64it/s]Setting `pad_token_id` to `eos_token_id`:128001 for open-end generation.\n"
          ]
        },
        {
          "output_type": "stream",
          "name": "stdout",
          "text": [
            "prompt:  \n",
            "            Sociolingvistikos srityje Veido Grasinantis Veiksmas (VGV) yra komunikacinis veiksmas, kuris kelia grėsmę kalbėtojo ar klausytojo socialinei tapatybei ir savivertės jausmui. \n",
            "            Pavyzdžiai VGV yra įžeidimai, pertraukimai ir kritika. \n",
            "            Išanalizuokite šį naujienų tekstą ir atsakykite, ar jame yra Veido Grasinantis Veiksmas (VGV). \n",
            "            Atsakykite „1“ už „taip“ arba „0“ už „ne“.\n",
            "\n",
            "            [Žiūrėkit, gerbiamieji, čia ta prasme, kalba Algirdas Butkevičius apie darbo grupes, mes esam įpratę, jau ketverius metus girdėjom tą patį nusibodusį terminą, nesijuokit] = \n",
            "result:  [{'generated_text': '\\n            Sociolingvistikos srityje Veido Grasinantis Veiksmas (VGV) yra komunikacinis veiksmas, kuris kelia grėsmę kalbėtojo ar klausytojo socialinei tapatybei ir savivertės jausmui. \\n            Pavyzdžiai VGV yra įžeidimai, pertraukimai ir kritika. \\n            Išanalizuokite šį naujienų tekstą ir atsakykite, ar jame yra Veido Grasinantis Veiksmas (VGV). \\n            Atsakykite „1“ už „taip“ arba „0“ už „ne“.\\n\\n            [Žiūrėkit, gerbiamieji, čia ta prasme, kalba Algirdas Butkevičius apie darbo grupes, mes esam įpratę, jau ketverius metus girdėjom tą patį nusibodusį terminą, nesijuokit] = 1'}]\n",
            "answer:   1\n"
          ]
        },
        {
          "output_type": "stream",
          "name": "stderr",
          "text": [
            "\r 80%|███████▉  | 114/143 [00:57<00:10,  2.65it/s]Setting `pad_token_id` to `eos_token_id`:128001 for open-end generation.\n"
          ]
        },
        {
          "output_type": "stream",
          "name": "stdout",
          "text": [
            "prompt:  \n",
            "            Sociolingvistikos srityje Veido Grasinantis Veiksmas (VGV) yra komunikacinis veiksmas, kuris kelia grėsmę kalbėtojo ar klausytojo socialinei tapatybei ir savivertės jausmui. \n",
            "            Pavyzdžiai VGV yra įžeidimai, pertraukimai ir kritika. \n",
            "            Išanalizuokite šį naujienų tekstą ir atsakykite, ar jame yra Veido Grasinantis Veiksmas (VGV). \n",
            "            Atsakykite „1“ už „taip“ arba „0“ už „ne“.\n",
            "\n",
            "            [Na gera, kad ponas Balsys prisiminė, Seimo nariai, kaip renovacija. Kur Jūsų kadencijos metu su skambiais žodžiais, kad „štai pradedam renovacijos proveržį“ baigėsi ir nekart niekuo, nors šįkart ir finansai buvo, ir politinė lyg valia buvo, deja, bet nieko neįvyko . ] = \n",
            "result:  [{'generated_text': '\\n            Sociolingvistikos srityje Veido Grasinantis Veiksmas (VGV) yra komunikacinis veiksmas, kuris kelia grėsmę kalbėtojo ar klausytojo socialinei tapatybei ir savivertės jausmui. \\n            Pavyzdžiai VGV yra įžeidimai, pertraukimai ir kritika. \\n            Išanalizuokite šį naujienų tekstą ir atsakykite, ar jame yra Veido Grasinantis Veiksmas (VGV). \\n            Atsakykite „1“ už „taip“ arba „0“ už „ne“.\\n\\n            [Na gera, kad ponas Balsys prisiminė, Seimo nariai, kaip renovacija. Kur Jūsų kadencijos metu su skambiais žodžiais, kad „štai pradedam renovacijos proveržį“ baigėsi ir nekart niekuo, nors šįkart ir finansai buvo, ir politinė lyg valia buvo, deja, bet nieko neįvyko . ] = 1'}]\n",
            "answer:   1\n"
          ]
        },
        {
          "output_type": "stream",
          "name": "stderr",
          "text": [
            "\r 80%|████████  | 115/143 [00:58<00:10,  2.71it/s]Setting `pad_token_id` to `eos_token_id`:128001 for open-end generation.\n"
          ]
        },
        {
          "output_type": "stream",
          "name": "stdout",
          "text": [
            "prompt:  \n",
            "            Sociolingvistikos srityje Veido Grasinantis Veiksmas (VGV) yra komunikacinis veiksmas, kuris kelia grėsmę kalbėtojo ar klausytojo socialinei tapatybei ir savivertės jausmui. \n",
            "            Pavyzdžiai VGV yra įžeidimai, pertraukimai ir kritika. \n",
            "            Išanalizuokite šį naujienų tekstą ir atsakykite, ar jame yra Veido Grasinantis Veiksmas (VGV). \n",
            "            Atsakykite „1“ už „taip“ arba „0“ už „ne“.\n",
            "\n",
            "            [Kągi, ačiū Jums, ponas Varkala.] = \n",
            "result:  [{'generated_text': '\\n            Sociolingvistikos srityje Veido Grasinantis Veiksmas (VGV) yra komunikacinis veiksmas, kuris kelia grėsmę kalbėtojo ar klausytojo socialinei tapatybei ir savivertės jausmui. \\n            Pavyzdžiai VGV yra įžeidimai, pertraukimai ir kritika. \\n            Išanalizuokite šį naujienų tekstą ir atsakykite, ar jame yra Veido Grasinantis Veiksmas (VGV). \\n            Atsakykite „1“ už „taip“ arba „0“ už „ne“.\\n\\n            [Kągi, ačiū Jums, ponas Varkala.] = 0'}]\n",
            "answer:   0\n"
          ]
        },
        {
          "output_type": "stream",
          "name": "stderr",
          "text": [
            "\r 81%|████████  | 116/143 [00:58<00:09,  2.72it/s]Setting `pad_token_id` to `eos_token_id`:128001 for open-end generation.\n"
          ]
        },
        {
          "output_type": "stream",
          "name": "stdout",
          "text": [
            "prompt:  \n",
            "            Sociolingvistikos srityje Veido Grasinantis Veiksmas (VGV) yra komunikacinis veiksmas, kuris kelia grėsmę kalbėtojo ar klausytojo socialinei tapatybei ir savivertės jausmui. \n",
            "            Pavyzdžiai VGV yra įžeidimai, pertraukimai ir kritika. \n",
            "            Išanalizuokite šį naujienų tekstą ir atsakykite, ar jame yra Veido Grasinantis Veiksmas (VGV). \n",
            "            Atsakykite „1“ už „taip“ arba „0“ už „ne“.\n",
            "\n",
            "            [tikriausia jau apie tai mes čia plačiai esam kalbėję, kad penkis kartus buvo padidinta minimali mėnesinė alga per šią kadenciją...] = \n",
            "result:  [{'generated_text': '\\n            Sociolingvistikos srityje Veido Grasinantis Veiksmas (VGV) yra komunikacinis veiksmas, kuris kelia grėsmę kalbėtojo ar klausytojo socialinei tapatybei ir savivertės jausmui. \\n            Pavyzdžiai VGV yra įžeidimai, pertraukimai ir kritika. \\n            Išanalizuokite šį naujienų tekstą ir atsakykite, ar jame yra Veido Grasinantis Veiksmas (VGV). \\n            Atsakykite „1“ už „taip“ arba „0“ už „ne“.\\n\\n            [tikriausia jau apie tai mes čia plačiai esam kalbėję, kad penkis kartus buvo padidinta minimali mėnesinė alga per šią kadenciją...] = 1'}]\n",
            "answer:   1\n"
          ]
        },
        {
          "output_type": "stream",
          "name": "stderr",
          "text": [
            "\r 82%|████████▏ | 117/143 [00:59<00:10,  2.46it/s]Setting `pad_token_id` to `eos_token_id`:128001 for open-end generation.\n"
          ]
        },
        {
          "output_type": "stream",
          "name": "stdout",
          "text": [
            "prompt:  \n",
            "            Sociolingvistikos srityje Veido Grasinantis Veiksmas (VGV) yra komunikacinis veiksmas, kuris kelia grėsmę kalbėtojo ar klausytojo socialinei tapatybei ir savivertės jausmui. \n",
            "            Pavyzdžiai VGV yra įžeidimai, pertraukimai ir kritika. \n",
            "            Išanalizuokite šį naujienų tekstą ir atsakykite, ar jame yra Veido Grasinantis Veiksmas (VGV). \n",
            "            Atsakykite „1“ už „taip“ arba „0“ už „ne“.\n",
            "\n",
            "            [Mūsų manymu, socialinę lygybę labai padidins būtent naujas Darbo kodeksas. Kuris liberalizuoja darbo santykius. Ir sumažins darbuotojų, darbininkų, socialinę apsaugą. Paskatins emigraciją, eem, tas yra faktas, man atrodo, pas mus penkioliktais metais, iš Lietuvos emigravo 42 000 darbingo amžiaus piliečių. Bet prie progos dar norėčiau pasakyti, kaip mūsų politikai manipuliuoja rinkėjais. Būtent svarstant Darbo kodekso įstatymą. Svarstymo metu, apie tai jūs neišgirsit nei iš televizijos laidų, nei iš žiniasklaidos,  kiekvienoj partijoj atsirado Seimo narių, kurie nuolat pristatinėjo pataisas, kurie lyg tai darbuotojų naudai. Bet balsuojant visos partijos, balsuodavo dauguma, tas pataisas atmesdavo ir praėjo įstatymas, kuris yra pats nenaudingiausias darbuotojų, darbininkų naudai. O dar viena įdomybė: būtent tie Seimo nariai, kurie pateikinėjo tas pataisas, jie patys arba nebalsavo, arba, blogiausiu atveju, susilaikė nuo balsavimo.] = \n",
            "result:  [{'generated_text': '\\n            Sociolingvistikos srityje Veido Grasinantis Veiksmas (VGV) yra komunikacinis veiksmas, kuris kelia grėsmę kalbėtojo ar klausytojo socialinei tapatybei ir savivertės jausmui. \\n            Pavyzdžiai VGV yra įžeidimai, pertraukimai ir kritika. \\n            Išanalizuokite šį naujienų tekstą ir atsakykite, ar jame yra Veido Grasinantis Veiksmas (VGV). \\n            Atsakykite „1“ už „taip“ arba „0“ už „ne“.\\n\\n            [Mūsų manymu, socialinę lygybę labai padidins būtent naujas Darbo kodeksas. Kuris liberalizuoja darbo santykius. Ir sumažins darbuotojų, darbininkų, socialinę apsaugą. Paskatins emigraciją, eem, tas yra faktas, man atrodo, pas mus penkioliktais metais, iš Lietuvos emigravo 42 000 darbingo amžiaus piliečių. Bet prie progos dar norėčiau pasakyti, kaip mūsų politikai manipuliuoja rinkėjais. Būtent svarstant Darbo kodekso įstatymą. Svarstymo metu, apie tai jūs neišgirsit nei iš televizijos laidų, nei iš žiniasklaidos,  kiekvienoj partijoj atsirado Seimo narių, kurie nuolat pristatinėjo pataisas, kurie lyg tai darbuotojų naudai. Bet balsuojant visos partijos, balsuodavo dauguma, tas pataisas atmesdavo ir praėjo įstatymas, kuris yra pats nenaudingiausias darbuotojų, darbininkų naudai. O dar viena įdomybė: būtent tie Seimo nariai, kurie pateikinėjo tas pataisas, jie patys arba nebalsavo, arba, blogiausiu atveju, susilaikė nuo balsavimo.] = 1'}]\n",
            "answer:   1\n"
          ]
        },
        {
          "output_type": "stream",
          "name": "stderr",
          "text": [
            "\r 83%|████████▎ | 118/143 [00:59<00:09,  2.50it/s]Setting `pad_token_id` to `eos_token_id`:128001 for open-end generation.\n"
          ]
        },
        {
          "output_type": "stream",
          "name": "stdout",
          "text": [
            "prompt:  \n",
            "            Sociolingvistikos srityje Veido Grasinantis Veiksmas (VGV) yra komunikacinis veiksmas, kuris kelia grėsmę kalbėtojo ar klausytojo socialinei tapatybei ir savivertės jausmui. \n",
            "            Pavyzdžiai VGV yra įžeidimai, pertraukimai ir kritika. \n",
            "            Išanalizuokite šį naujienų tekstą ir atsakykite, ar jame yra Veido Grasinantis Veiksmas (VGV). \n",
            "            Atsakykite „1“ už „taip“ arba „0“ už „ne“.\n",
            "\n",
            "            [Bet skirtingai nuo kepyklėlės, „Vilniaus prekyba“ leidžia sau neperskirstyti pelno ir sąskaitoj laikyti milijardą, nuo kurio kol kas nesumokėtas pelno mokestis. Ir tai vadinama derybom, lobizmu ir taip toliau. Ir Seime tokie žmonės ateina ir už brangius lobistus sumokėję paveikia Seimo balsavimą taip, kad jiems yra naudinga, o kepyklėlėms – pražūtinga.] = \n",
            "result:  [{'generated_text': '\\n            Sociolingvistikos srityje Veido Grasinantis Veiksmas (VGV) yra komunikacinis veiksmas, kuris kelia grėsmę kalbėtojo ar klausytojo socialinei tapatybei ir savivertės jausmui. \\n            Pavyzdžiai VGV yra įžeidimai, pertraukimai ir kritika. \\n            Išanalizuokite šį naujienų tekstą ir atsakykite, ar jame yra Veido Grasinantis Veiksmas (VGV). \\n            Atsakykite „1“ už „taip“ arba „0“ už „ne“.\\n\\n            [Bet skirtingai nuo kepyklėlės, „Vilniaus prekyba“ leidžia sau neperskirstyti pelno ir sąskaitoj laikyti milijardą, nuo kurio kol kas nesumokėtas pelno mokestis. Ir tai vadinama derybom, lobizmu ir taip toliau. Ir Seime tokie žmonės ateina ir už brangius lobistus sumokėję paveikia Seimo balsavimą taip, kad jiems yra naudinga, o kepyklėlėms – pražūtinga.] = 1'}]\n",
            "answer:   1\n"
          ]
        },
        {
          "output_type": "stream",
          "name": "stderr",
          "text": [
            "\r 83%|████████▎ | 119/143 [00:59<00:10,  2.38it/s]Setting `pad_token_id` to `eos_token_id`:128001 for open-end generation.\n"
          ]
        },
        {
          "output_type": "stream",
          "name": "stdout",
          "text": [
            "prompt:  \n",
            "            Sociolingvistikos srityje Veido Grasinantis Veiksmas (VGV) yra komunikacinis veiksmas, kuris kelia grėsmę kalbėtojo ar klausytojo socialinei tapatybei ir savivertės jausmui. \n",
            "            Pavyzdžiai VGV yra įžeidimai, pertraukimai ir kritika. \n",
            "            Išanalizuokite šį naujienų tekstą ir atsakykite, ar jame yra Veido Grasinantis Veiksmas (VGV). \n",
            "            Atsakykite „1“ už „taip“ arba „0“ už „ne“.\n",
            "\n",
            "            [Profesorius Antanas Kulakauskas sako, kad politinės partijos neišspręs šitų problemų, jeigu elg/veiks vienos. „Lietuvos sąrašas“ sako, kad reikia sutelk intelektualinį Lietuvos potencialą nuo šiandien šitom problemom spręst. Ir kas yra svarbiausia, kad mes, iš tikrųjų, kalbėtume labai atvirai. Verslas turi deklaruot savo interesus ir nesislapstyt nuo visuomenės. Lietuvos valstybė turi stabdyt ir visuomenė verslo savivaliavimą, jeigu norima išstumt lietuvius, kad įsivežta būtų pigesnė darbo jėga. Šitie dalykai turi būt stabdomi natūraliai. Bet kitas dalykas, mums gali būt reikalingi ir naudingi aukštos kvalifikacijos imigrantai ir, pavyzdžiui, vers/verslininkai, padorūs verslininkai iš Rytų, jeigu jie ateina čia su savo kapitalu, kuria darbo vietas, bėgdami nuo despotiško rėžimo.] = \n",
            "result:  [{'generated_text': '\\n            Sociolingvistikos srityje Veido Grasinantis Veiksmas (VGV) yra komunikacinis veiksmas, kuris kelia grėsmę kalbėtojo ar klausytojo socialinei tapatybei ir savivertės jausmui. \\n            Pavyzdžiai VGV yra įžeidimai, pertraukimai ir kritika. \\n            Išanalizuokite šį naujienų tekstą ir atsakykite, ar jame yra Veido Grasinantis Veiksmas (VGV). \\n            Atsakykite „1“ už „taip“ arba „0“ už „ne“.\\n\\n            [Profesorius Antanas Kulakauskas sako, kad politinės partijos neišspręs šitų problemų, jeigu elg/veiks vienos. „Lietuvos sąrašas“ sako, kad reikia sutelk intelektualinį Lietuvos potencialą nuo šiandien šitom problemom spręst. Ir kas yra svarbiausia, kad mes, iš tikrųjų, kalbėtume labai atvirai. Verslas turi deklaruot savo interesus ir nesislapstyt nuo visuomenės. Lietuvos valstybė turi stabdyt ir visuomenė verslo savivaliavimą, jeigu norima išstumt lietuvius, kad įsivežta būtų pigesnė darbo jėga. Šitie dalykai turi būt stabdomi natūraliai. Bet kitas dalykas, mums gali būt reikalingi ir naudingi aukštos kvalifikacijos imigrantai ir, pavyzdžiui, vers/verslininkai, padorūs verslininkai iš Rytų, jeigu jie ateina čia su savo kapitalu, kuria darbo vietas, bėgdami nuo despotiško rėžimo.] = 1'}]\n",
            "answer:   1\n"
          ]
        },
        {
          "output_type": "stream",
          "name": "stderr",
          "text": [
            "\r 84%|████████▍ | 120/143 [01:00<00:10,  2.28it/s]Setting `pad_token_id` to `eos_token_id`:128001 for open-end generation.\n"
          ]
        },
        {
          "output_type": "stream",
          "name": "stdout",
          "text": [
            "prompt:  \n",
            "            Sociolingvistikos srityje Veido Grasinantis Veiksmas (VGV) yra komunikacinis veiksmas, kuris kelia grėsmę kalbėtojo ar klausytojo socialinei tapatybei ir savivertės jausmui. \n",
            "            Pavyzdžiai VGV yra įžeidimai, pertraukimai ir kritika. \n",
            "            Išanalizuokite šį naujienų tekstą ir atsakykite, ar jame yra Veido Grasinantis Veiksmas (VGV). \n",
            "            Atsakykite „1“ už „taip“ arba „0“ už „ne“.\n",
            "\n",
            "            [Antras yra svarbiausias dalykas mūsų partijoj, tai yra sveikata ir per sveikatą rodoma alkoholio vartojimas, kokią iš tikrųjų daro žalą. Žalą daro tavo sveikatai, žalą daro tavo šeimai, žalą daro tavo vaikams. Trečias yra dalykas, vienas iš pagrindinių, tai yra užimtumas. Šiandien žmonės ne šiaip sau geria, šiandien žmonės ne šiaip sau linksminasi, o linksminasi iš nevilties ir iš negebėjimo, neturėjimo ką veikt iir ką dirbti. Ir man labai gaila, kada kalba, kad kaimas yra prasigėręs. Deja, mes šiandienai turime globalią politiką, politiką tai, kad tie žmonės, kurie turi priklausomybę nuo alkoholio, nėra pilnai užimti. Ir socialinės programos šiai dienai, kur yra Savivaldybėj, kur mes jas įteikėm ir numatėm įstatyme, tai yra žmonės turi per mėnesį tam tikrą valandų skaičių atidirbti, kad nebūtų įnikę į alkoholio vartojimą. ] = \n",
            "result:  [{'generated_text': '\\n            Sociolingvistikos srityje Veido Grasinantis Veiksmas (VGV) yra komunikacinis veiksmas, kuris kelia grėsmę kalbėtojo ar klausytojo socialinei tapatybei ir savivertės jausmui. \\n            Pavyzdžiai VGV yra įžeidimai, pertraukimai ir kritika. \\n            Išanalizuokite šį naujienų tekstą ir atsakykite, ar jame yra Veido Grasinantis Veiksmas (VGV). \\n            Atsakykite „1“ už „taip“ arba „0“ už „ne“.\\n\\n            [Antras yra svarbiausias dalykas mūsų partijoj, tai yra sveikata ir per sveikatą rodoma alkoholio vartojimas, kokią iš tikrųjų daro žalą. Žalą daro tavo sveikatai, žalą daro tavo šeimai, žalą daro tavo vaikams. Trečias yra dalykas, vienas iš pagrindinių, tai yra užimtumas. Šiandien žmonės ne šiaip sau geria, šiandien žmonės ne šiaip sau linksminasi, o linksminasi iš nevilties ir iš negebėjimo, neturėjimo ką veikt iir ką dirbti. Ir man labai gaila, kada kalba, kad kaimas yra prasigėręs. Deja, mes šiandienai turime globalią politiką, politiką tai, kad tie žmonės, kurie turi priklausomybę nuo alkoholio, nėra pilnai užimti. Ir socialinės programos šiai dienai, kur yra Savivaldybėj, kur mes jas įteikėm ir numatėm įstatyme, tai yra žmonės turi per mėnesį tam tikrą valandų skaičių atidirbti, kad nebūtų įnikę į alkoholio vartojimą. ] = 1'}]\n",
            "answer:   1\n"
          ]
        },
        {
          "output_type": "stream",
          "name": "stderr",
          "text": [
            "\r 85%|████████▍ | 121/143 [01:00<00:09,  2.22it/s]Setting `pad_token_id` to `eos_token_id`:128001 for open-end generation.\n"
          ]
        },
        {
          "output_type": "stream",
          "name": "stdout",
          "text": [
            "prompt:  \n",
            "            Sociolingvistikos srityje Veido Grasinantis Veiksmas (VGV) yra komunikacinis veiksmas, kuris kelia grėsmę kalbėtojo ar klausytojo socialinei tapatybei ir savivertės jausmui. \n",
            "            Pavyzdžiai VGV yra įžeidimai, pertraukimai ir kritika. \n",
            "            Išanalizuokite šį naujienų tekstą ir atsakykite, ar jame yra Veido Grasinantis Veiksmas (VGV). \n",
            "            Atsakykite „1“ už „taip“ arba „0“ už „ne“.\n",
            "\n",
            "            [Na, aš manyčiau, kad vis dėlto šešėlinė ekonomika yra Lietuvoje susieta labai su su pačiu mūsų modeliu. Vis dėlto žmonės tą neteisingumą savyje jaučia, jie nepasitiki sistema labai dažnai ir iš tiesų netgi jeigu mano minėto pavyzdžio apie 3,6, tai beveik 4 kartus didesnius mokečius mokančius samdomus darbuotojus, žmogus ir nežino, bet jis natūraliai mato ir jam labai jaučiasi, kad iš tikrųjų jis moka labai daug, net jeigu jam atrodo, kad tik daug, bet iš tiesų ne taip mažai, bet jisai labai sunkiai po to mato, ką jis už tai gauna. Ir ypatingai labiausiai sudėtingai paslaugos, kurias turėtų duot viešasis sektorius, yra prieinamos būtent tiem žmonėm, kurie daugiausiai dirba. Todėl, kad mes nors ir turime tų neįgalių 22-iem procentais daugiau negu standartiškai Europos Sąjungoj, bet kas yra tie neįgalūs?] = \n",
            "result:  [{'generated_text': '\\n            Sociolingvistikos srityje Veido Grasinantis Veiksmas (VGV) yra komunikacinis veiksmas, kuris kelia grėsmę kalbėtojo ar klausytojo socialinei tapatybei ir savivertės jausmui. \\n            Pavyzdžiai VGV yra įžeidimai, pertraukimai ir kritika. \\n            Išanalizuokite šį naujienų tekstą ir atsakykite, ar jame yra Veido Grasinantis Veiksmas (VGV). \\n            Atsakykite „1“ už „taip“ arba „0“ už „ne“.\\n\\n            [Na, aš manyčiau, kad vis dėlto šešėlinė ekonomika yra Lietuvoje susieta labai su su pačiu mūsų modeliu. Vis dėlto žmonės tą neteisingumą savyje jaučia, jie nepasitiki sistema labai dažnai ir iš tiesų netgi jeigu mano minėto pavyzdžio apie 3,6, tai beveik 4 kartus didesnius mokečius mokančius samdomus darbuotojus, žmogus ir nežino, bet jis natūraliai mato ir jam labai jaučiasi, kad iš tikrųjų jis moka labai daug, net jeigu jam atrodo, kad tik daug, bet iš tiesų ne taip mažai, bet jisai labai sunkiai po to mato, ką jis už tai gauna. Ir ypatingai labiausiai sudėtingai paslaugos, kurias turėtų duot viešasis sektorius, yra prieinamos būtent tiem žmonėm, kurie daugiausiai dirba. Todėl, kad mes nors ir turime tų neįgalių 22-iem procentais daugiau negu standartiškai Europos Sąjungoj, bet kas yra tie neįgalūs?] = 1'}]\n",
            "answer:   1\n"
          ]
        },
        {
          "output_type": "stream",
          "name": "stderr",
          "text": [
            "\r 85%|████████▌ | 122/143 [01:01<00:08,  2.38it/s]Setting `pad_token_id` to `eos_token_id`:128001 for open-end generation.\n"
          ]
        },
        {
          "output_type": "stream",
          "name": "stdout",
          "text": [
            "prompt:  \n",
            "            Sociolingvistikos srityje Veido Grasinantis Veiksmas (VGV) yra komunikacinis veiksmas, kuris kelia grėsmę kalbėtojo ar klausytojo socialinei tapatybei ir savivertės jausmui. \n",
            "            Pavyzdžiai VGV yra įžeidimai, pertraukimai ir kritika. \n",
            "            Išanalizuokite šį naujienų tekstą ir atsakykite, ar jame yra Veido Grasinantis Veiksmas (VGV). \n",
            "            Atsakykite „1“ už „taip“ arba „0“ už „ne“.\n",
            "\n",
            "            [Pirmiausia, su šešėline ekonomika kariauna ne Seimo nariai. Tai yra Vyriausybės ir specialių struktūrų reikalas. Seimo nariai su šešėline ekonomika nepakariaus. O štai žiūrėkit.] = \n",
            "result:  [{'generated_text': '\\n            Sociolingvistikos srityje Veido Grasinantis Veiksmas (VGV) yra komunikacinis veiksmas, kuris kelia grėsmę kalbėtojo ar klausytojo socialinei tapatybei ir savivertės jausmui. \\n            Pavyzdžiai VGV yra įžeidimai, pertraukimai ir kritika. \\n            Išanalizuokite šį naujienų tekstą ir atsakykite, ar jame yra Veido Grasinantis Veiksmas (VGV). \\n            Atsakykite „1“ už „taip“ arba „0“ už „ne“.\\n\\n            [Pirmiausia, su šešėline ekonomika kariauna ne Seimo nariai. Tai yra Vyriausybės ir specialių struktūrų reikalas. Seimo nariai su šešėline ekonomika nepakariaus. O štai žiūrėkit.] = 1'}]\n",
            "answer:   1\n"
          ]
        },
        {
          "output_type": "stream",
          "name": "stderr",
          "text": [
            "\r 86%|████████▌ | 123/143 [01:01<00:07,  2.55it/s]Setting `pad_token_id` to `eos_token_id`:128001 for open-end generation.\n"
          ]
        },
        {
          "output_type": "stream",
          "name": "stdout",
          "text": [
            "prompt:  \n",
            "            Sociolingvistikos srityje Veido Grasinantis Veiksmas (VGV) yra komunikacinis veiksmas, kuris kelia grėsmę kalbėtojo ar klausytojo socialinei tapatybei ir savivertės jausmui. \n",
            "            Pavyzdžiai VGV yra įžeidimai, pertraukimai ir kritika. \n",
            "            Išanalizuokite šį naujienų tekstą ir atsakykite, ar jame yra Veido Grasinantis Veiksmas (VGV). \n",
            "            Atsakykite „1“ už „taip“ arba „0“ už „ne“.\n",
            "\n",
            "            [Gal Jūs nežinot, ką reiškia „augo skurdas“? ] = \n",
            "result:  [{'generated_text': '\\n            Sociolingvistikos srityje Veido Grasinantis Veiksmas (VGV) yra komunikacinis veiksmas, kuris kelia grėsmę kalbėtojo ar klausytojo socialinei tapatybei ir savivertės jausmui. \\n            Pavyzdžiai VGV yra įžeidimai, pertraukimai ir kritika. \\n            Išanalizuokite šį naujienų tekstą ir atsakykite, ar jame yra Veido Grasinantis Veiksmas (VGV). \\n            Atsakykite „1“ už „taip“ arba „0“ už „ne“.\\n\\n            [Gal Jūs nežinot, ką reiškia „augo skurdas“? ] = 0'}]\n",
            "answer:   0\n"
          ]
        },
        {
          "output_type": "stream",
          "name": "stderr",
          "text": [
            "\r 87%|████████▋ | 124/143 [01:02<00:07,  2.39it/s]Setting `pad_token_id` to `eos_token_id`:128001 for open-end generation.\n"
          ]
        },
        {
          "output_type": "stream",
          "name": "stdout",
          "text": [
            "prompt:  \n",
            "            Sociolingvistikos srityje Veido Grasinantis Veiksmas (VGV) yra komunikacinis veiksmas, kuris kelia grėsmę kalbėtojo ar klausytojo socialinei tapatybei ir savivertės jausmui. \n",
            "            Pavyzdžiai VGV yra įžeidimai, pertraukimai ir kritika. \n",
            "            Išanalizuokite šį naujienų tekstą ir atsakykite, ar jame yra Veido Grasinantis Veiksmas (VGV). \n",
            "            Atsakykite „1“ už „taip“ arba „0“ už „ne“.\n",
            "\n",
            "            [Pirmiausia, Seimo narys turi būti teisingas ir padorus. Pavyzdys – Eligijus Masiulis. Paėmė 106 000 eurų. Už įstatymą. Kai aš buvau Seimo nariu, man lygiai taip pat siūlė paimti pinigus už tai, kad aš nebalsuočiau už tabako reklamos uždraudimą. Aš atsisakiau. Masiulio pavyzdys ir mano. Šviežiausias pavyzdys – užvakar 92 Seimo nariai kosminiu greičiu sulėkė į Seimą ir balsuoja, kad nereikėtų paso perkant alkoholį. Ir jūs galvojate, gerbiami rinkėjai, kad tai daro jie dėl jūsų? Ne. Nes devyniais prcentais per tą laiką nukrito alkoholio pardavimas. Dėl mažų atlyginimų, pensijų jie taip nesubėga. Alkoholio pramonės atstovai jiems paskambino ir pasakė: „kad per tris sekundes būtų priimtas šis įstatymas!”. Ir jie priėmė. Seime įstatymai perkami – parduodami. Verslas perka politikus, politikai perka žiniasklaidą. ] = \n",
            "result:  [{'generated_text': '\\n            Sociolingvistikos srityje Veido Grasinantis Veiksmas (VGV) yra komunikacinis veiksmas, kuris kelia grėsmę kalbėtojo ar klausytojo socialinei tapatybei ir savivertės jausmui. \\n            Pavyzdžiai VGV yra įžeidimai, pertraukimai ir kritika. \\n            Išanalizuokite šį naujienų tekstą ir atsakykite, ar jame yra Veido Grasinantis Veiksmas (VGV). \\n            Atsakykite „1“ už „taip“ arba „0“ už „ne“.\\n\\n            [Pirmiausia, Seimo narys turi būti teisingas ir padorus. Pavyzdys – Eligijus Masiulis. Paėmė 106 000 eurų. Už įstatymą. Kai aš buvau Seimo nariu, man lygiai taip pat siūlė paimti pinigus už tai, kad aš nebalsuočiau už tabako reklamos uždraudimą. Aš atsisakiau. Masiulio pavyzdys ir mano. Šviežiausias pavyzdys – užvakar 92 Seimo nariai kosminiu greičiu sulėkė į Seimą ir balsuoja, kad nereikėtų paso perkant alkoholį. Ir jūs galvojate, gerbiami rinkėjai, kad tai daro jie dėl jūsų? Ne. Nes devyniais prcentais per tą laiką nukrito alkoholio pardavimas. Dėl mažų atlyginimų, pensijų jie taip nesubėga. Alkoholio pramonės atstovai jiems paskambino ir pasakė: „kad per tris sekundes būtų priimtas šis įstatymas!”. Ir jie priėmė. Seime įstatymai perkami – parduodami. Verslas perka politikus, politikai perka žiniasklaidą. ] = 1'}]\n",
            "answer:   1\n"
          ]
        },
        {
          "output_type": "stream",
          "name": "stderr",
          "text": [
            "\r 87%|████████▋ | 125/143 [01:02<00:08,  2.21it/s]Setting `pad_token_id` to `eos_token_id`:128001 for open-end generation.\n"
          ]
        },
        {
          "output_type": "stream",
          "name": "stdout",
          "text": [
            "prompt:  \n",
            "            Sociolingvistikos srityje Veido Grasinantis Veiksmas (VGV) yra komunikacinis veiksmas, kuris kelia grėsmę kalbėtojo ar klausytojo socialinei tapatybei ir savivertės jausmui. \n",
            "            Pavyzdžiai VGV yra įžeidimai, pertraukimai ir kritika. \n",
            "            Išanalizuokite šį naujienų tekstą ir atsakykite, ar jame yra Veido Grasinantis Veiksmas (VGV). \n",
            "            Atsakykite „1“ už „taip“ arba „0“ už „ne“.\n",
            "\n",
            "            [Dar vienas labai svarbus dalykas, tai iš tikrųjų, švietimo ir kitų paslaugų paketai regionuose. Žmonės turi jaust, kad regionuose jie yra reikalingi. Šiandien viena iš rimčiausių problemų, ir Lietuvos problemų, tai iš tikrųjų demografija. Kaip problema. Jeigu demografinės tendencijos nesikeis, politikai jų nekeis, tai bus didžiausia grėsmė Lietuvos tautos išlikimui. Mes matome, kad per dešimtį metų tendencijos nepakito. Dalis, kurie sugrįžo ruošiasi išvažiuot vėl, jie sako jie nemato Lietuvos perspektyvos. Taigi atvert Lietuvai perspektyvą yra pagrindinis politikų uždavinys šiandien.] = \n",
            "result:  [{'generated_text': '\\n            Sociolingvistikos srityje Veido Grasinantis Veiksmas (VGV) yra komunikacinis veiksmas, kuris kelia grėsmę kalbėtojo ar klausytojo socialinei tapatybei ir savivertės jausmui. \\n            Pavyzdžiai VGV yra įžeidimai, pertraukimai ir kritika. \\n            Išanalizuokite šį naujienų tekstą ir atsakykite, ar jame yra Veido Grasinantis Veiksmas (VGV). \\n            Atsakykite „1“ už „taip“ arba „0“ už „ne“.\\n\\n            [Dar vienas labai svarbus dalykas, tai iš tikrųjų, švietimo ir kitų paslaugų paketai regionuose. Žmonės turi jaust, kad regionuose jie yra reikalingi. Šiandien viena iš rimčiausių problemų, ir Lietuvos problemų, tai iš tikrųjų demografija. Kaip problema. Jeigu demografinės tendencijos nesikeis, politikai jų nekeis, tai bus didžiausia grėsmė Lietuvos tautos išlikimui. Mes matome, kad per dešimtį metų tendencijos nepakito. Dalis, kurie sugrįžo ruošiasi išvažiuot vėl, jie sako jie nemato Lietuvos perspektyvos. Taigi atvert Lietuvai perspektyvą yra pagrindinis politikų uždavinys šiandien.] = 1'}]\n",
            "answer:   1\n"
          ]
        },
        {
          "output_type": "stream",
          "name": "stderr",
          "text": [
            "\r 88%|████████▊ | 126/143 [01:03<00:08,  2.11it/s]Setting `pad_token_id` to `eos_token_id`:128001 for open-end generation.\n"
          ]
        },
        {
          "output_type": "stream",
          "name": "stdout",
          "text": [
            "prompt:  \n",
            "            Sociolingvistikos srityje Veido Grasinantis Veiksmas (VGV) yra komunikacinis veiksmas, kuris kelia grėsmę kalbėtojo ar klausytojo socialinei tapatybei ir savivertės jausmui. \n",
            "            Pavyzdžiai VGV yra įžeidimai, pertraukimai ir kritika. \n",
            "            Išanalizuokite šį naujienų tekstą ir atsakykite, ar jame yra Veido Grasinantis Veiksmas (VGV). \n",
            "            Atsakykite „1“ už „taip“ arba „0“ už „ne“.\n",
            "\n",
            "            [Aš matau, kad opozicinės partijos per šitą visą kadenciją buvo užsidėjusios juodus akinius ir visiškai nieko nematė. Ir dabar pasakoja mums apie tai, kaip jie turi akinius – neturi akinius…] = \n",
            "result:  [{'generated_text': '\\n            Sociolingvistikos srityje Veido Grasinantis Veiksmas (VGV) yra komunikacinis veiksmas, kuris kelia grėsmę kalbėtojo ar klausytojo socialinei tapatybei ir savivertės jausmui. \\n            Pavyzdžiai VGV yra įžeidimai, pertraukimai ir kritika. \\n            Išanalizuokite šį naujienų tekstą ir atsakykite, ar jame yra Veido Grasinantis Veiksmas (VGV). \\n            Atsakykite „1“ už „taip“ arba „0“ už „ne“.\\n\\n            [Aš matau, kad opozicinės partijos per šitą visą kadenciją buvo užsidėjusios juodus akinius ir visiškai nieko nematė. Ir dabar pasakoja mums apie tai, kaip jie turi akinius – neturi akinius…] = 1'}]\n",
            "answer:   1\n"
          ]
        },
        {
          "output_type": "stream",
          "name": "stderr",
          "text": [
            "\r 89%|████████▉ | 127/143 [01:03<00:08,  2.00it/s]Setting `pad_token_id` to `eos_token_id`:128001 for open-end generation.\n"
          ]
        },
        {
          "output_type": "stream",
          "name": "stdout",
          "text": [
            "prompt:  \n",
            "            Sociolingvistikos srityje Veido Grasinantis Veiksmas (VGV) yra komunikacinis veiksmas, kuris kelia grėsmę kalbėtojo ar klausytojo socialinei tapatybei ir savivertės jausmui. \n",
            "            Pavyzdžiai VGV yra įžeidimai, pertraukimai ir kritika. \n",
            "            Išanalizuokite šį naujienų tekstą ir atsakykite, ar jame yra Veido Grasinantis Veiksmas (VGV). \n",
            "            Atsakykite „1“ už „taip“ arba „0“ už „ne“.\n",
            "\n",
            "            [Žmones psichologiškai žlugdo milžiniški skirtumai tarp atlyginimo ir tarp pensijų. Paimkim mokytoją su keturiais vaikais, vidutinė pensija 200 eurų, ir imkim teisėją, prieš tai dirbusį Vidaus reikalų ministerijoj, po to Konstituciniam teisme, jo pensija yra du tūkstantis aštuoni šimtai eurų. Tai yra 20 kartų skirtumas, tas pats, valstybės tarnyboje atsiprašau, dešimt, jo, bet jeigu imsim minimalią pensiją, tai 20 kartų. Tai tokių skirtumų Europoj nėra ir žmones tai visiškai gniuždo, sukelia neteisingumo jausmą, tai didina emigraciją, tai iš esmės paraližuoja žmogaus norą dirbti. Ir ką gi reikėtų daryti? Tiesa, va dar puikus Andriaus Tapino tyrimas vakar paskelbtas Delfyje, išanalizuoti kandidatų į Seimą pajamos ir sumokėti mokesčiai ir ką mes matome? ] = \n",
            "result:  [{'generated_text': '\\n            Sociolingvistikos srityje Veido Grasinantis Veiksmas (VGV) yra komunikacinis veiksmas, kuris kelia grėsmę kalbėtojo ar klausytojo socialinei tapatybei ir savivertės jausmui. \\n            Pavyzdžiai VGV yra įžeidimai, pertraukimai ir kritika. \\n            Išanalizuokite šį naujienų tekstą ir atsakykite, ar jame yra Veido Grasinantis Veiksmas (VGV). \\n            Atsakykite „1“ už „taip“ arba „0“ už „ne“.\\n\\n            [Žmones psichologiškai žlugdo milžiniški skirtumai tarp atlyginimo ir tarp pensijų. Paimkim mokytoją su keturiais vaikais, vidutinė pensija 200 eurų, ir imkim teisėją, prieš tai dirbusį Vidaus reikalų ministerijoj, po to Konstituciniam teisme, jo pensija yra du tūkstantis aštuoni šimtai eurų. Tai yra 20 kartų skirtumas, tas pats, valstybės tarnyboje atsiprašau, dešimt, jo, bet jeigu imsim minimalią pensiją, tai 20 kartų. Tai tokių skirtumų Europoj nėra ir žmones tai visiškai gniuždo, sukelia neteisingumo jausmą, tai didina emigraciją, tai iš esmės paraližuoja žmogaus norą dirbti. Ir ką gi reikėtų daryti? Tiesa, va dar puikus Andriaus Tapino tyrimas vakar paskelbtas Delfyje, išanalizuoti kandidatų į Seimą pajamos ir sumokėti mokesčiai ir ką mes matome? ] = 1'}]\n",
            "answer:   1\n"
          ]
        },
        {
          "output_type": "stream",
          "name": "stderr",
          "text": [
            "\r 90%|████████▉ | 128/143 [01:04<00:07,  1.95it/s]Setting `pad_token_id` to `eos_token_id`:128001 for open-end generation.\n"
          ]
        },
        {
          "output_type": "stream",
          "name": "stdout",
          "text": [
            "prompt:  \n",
            "            Sociolingvistikos srityje Veido Grasinantis Veiksmas (VGV) yra komunikacinis veiksmas, kuris kelia grėsmę kalbėtojo ar klausytojo socialinei tapatybei ir savivertės jausmui. \n",
            "            Pavyzdžiai VGV yra įžeidimai, pertraukimai ir kritika. \n",
            "            Išanalizuokite šį naujienų tekstą ir atsakykite, ar jame yra Veido Grasinantis Veiksmas (VGV). \n",
            "            Atsakykite „1“ už „taip“ arba „0“ už „ne“.\n",
            "\n",
            "            [palaukit, nenutraukit, korumpuotas žurnaliste.] = \n",
            "result:  [{'generated_text': '\\n            Sociolingvistikos srityje Veido Grasinantis Veiksmas (VGV) yra komunikacinis veiksmas, kuris kelia grėsmę kalbėtojo ar klausytojo socialinei tapatybei ir savivertės jausmui. \\n            Pavyzdžiai VGV yra įžeidimai, pertraukimai ir kritika. \\n            Išanalizuokite šį naujienų tekstą ir atsakykite, ar jame yra Veido Grasinantis Veiksmas (VGV). \\n            Atsakykite „1“ už „taip“ arba „0“ už „ne“.\\n\\n            [palaukit, nenutraukit, korumpuotas žurnaliste.] = 1'}]\n",
            "answer:   1\n"
          ]
        },
        {
          "output_type": "stream",
          "name": "stderr",
          "text": [
            "\r 90%|█████████ | 129/143 [01:04<00:08,  1.74it/s]Setting `pad_token_id` to `eos_token_id`:128001 for open-end generation.\n"
          ]
        },
        {
          "output_type": "stream",
          "name": "stdout",
          "text": [
            "prompt:  \n",
            "            Sociolingvistikos srityje Veido Grasinantis Veiksmas (VGV) yra komunikacinis veiksmas, kuris kelia grėsmę kalbėtojo ar klausytojo socialinei tapatybei ir savivertės jausmui. \n",
            "            Pavyzdžiai VGV yra įžeidimai, pertraukimai ir kritika. \n",
            "            Išanalizuokite šį naujienų tekstą ir atsakykite, ar jame yra Veido Grasinantis Veiksmas (VGV). \n",
            "            Atsakykite „1“ už „taip“ arba „0“ už „ne“.\n",
            "\n",
            "            [Jo. Tai atsiprašau. Atsiprašau Dariaus Kuolio, reiškia ne taip išgirdau. Tai atsiprašau, kolegos, leiskit pabaigti. Reiškia, jūsų gražūs kortų nameliai sugriūna atsimušę į atkato sistemą. Bus viskas išvogta, jeigu nebus įvesta normali, civilizuota, europinė tvarka. ] = \n",
            "result:  [{'generated_text': '\\n            Sociolingvistikos srityje Veido Grasinantis Veiksmas (VGV) yra komunikacinis veiksmas, kuris kelia grėsmę kalbėtojo ar klausytojo socialinei tapatybei ir savivertės jausmui. \\n            Pavyzdžiai VGV yra įžeidimai, pertraukimai ir kritika. \\n            Išanalizuokite šį naujienų tekstą ir atsakykite, ar jame yra Veido Grasinantis Veiksmas (VGV). \\n            Atsakykite „1“ už „taip“ arba „0“ už „ne“.\\n\\n            [Jo. Tai atsiprašau. Atsiprašau Dariaus Kuolio, reiškia ne taip išgirdau. Tai atsiprašau, kolegos, leiskit pabaigti. Reiškia, jūsų gražūs kortų nameliai sugriūna atsimušę į atkato sistemą. Bus viskas išvogta, jeigu nebus įvesta normali, civilizuota, europinė tvarka. ] = 1'}]\n",
            "answer:   1\n"
          ]
        },
        {
          "output_type": "stream",
          "name": "stderr",
          "text": [
            "\r 91%|█████████ | 130/143 [01:05<00:09,  1.44it/s]Setting `pad_token_id` to `eos_token_id`:128001 for open-end generation.\n"
          ]
        },
        {
          "output_type": "stream",
          "name": "stdout",
          "text": [
            "prompt:  \n",
            "            Sociolingvistikos srityje Veido Grasinantis Veiksmas (VGV) yra komunikacinis veiksmas, kuris kelia grėsmę kalbėtojo ar klausytojo socialinei tapatybei ir savivertės jausmui. \n",
            "            Pavyzdžiai VGV yra įžeidimai, pertraukimai ir kritika. \n",
            "            Išanalizuokite šį naujienų tekstą ir atsakykite, ar jame yra Veido Grasinantis Veiksmas (VGV). \n",
            "            Atsakykite „1“ už „taip“ arba „0“ už „ne“.\n",
            "\n",
            "            [Sveiki.  Priminčiau, kad dvyliktais metais vienintelis kalbėjau rinkimuose apie laimės ekonomiką. Šiandien apie ją kalba partijų koalicija ir ši diena prasidėjo klausimu apie laimę. O žodis yra laimės ekonomika, ne šiaip laimė. Ekonomikai reikia tam tikrų pakeitimų mokesčiuose. Ir tie siūlomi pakeitimai, kuriuos ir čia kolegos ir oponentai siūlo ten trim procentais daugiau, dviem procentais mažiau, jie iš esmės nesprendžia problemos. Problemą galima spręsti, jeigu mes progresiškai apmokestintume itin didelį turtą. Ne namus, ne mašinas, ne tai, ką žmonės vartoja, o didelį turtą, kuris yra ne vartojimo turtas, o valdymo priemonė. Valdymas demokratinėj visuomenėj turi priklausyti piliečiams, ir per jį, paimdami dalį jo, mes išsispręstume ir savo problemas, socialines problemas ir atkurtume didesnį žmonių dalyvavimą valstybės valdyme] = \n",
            "result:  [{'generated_text': '\\n            Sociolingvistikos srityje Veido Grasinantis Veiksmas (VGV) yra komunikacinis veiksmas, kuris kelia grėsmę kalbėtojo ar klausytojo socialinei tapatybei ir savivertės jausmui. \\n            Pavyzdžiai VGV yra įžeidimai, pertraukimai ir kritika. \\n            Išanalizuokite šį naujienų tekstą ir atsakykite, ar jame yra Veido Grasinantis Veiksmas (VGV). \\n            Atsakykite „1“ už „taip“ arba „0“ už „ne“.\\n\\n            [Sveiki.  Priminčiau, kad dvyliktais metais vienintelis kalbėjau rinkimuose apie laimės ekonomiką. Šiandien apie ją kalba partijų koalicija ir ši diena prasidėjo klausimu apie laimę. O žodis yra laimės ekonomika, ne šiaip laimė. Ekonomikai reikia tam tikrų pakeitimų mokesčiuose. Ir tie siūlomi pakeitimai, kuriuos ir čia kolegos ir oponentai siūlo ten trim procentais daugiau, dviem procentais mažiau, jie iš esmės nesprendžia problemos. Problemą galima spręsti, jeigu mes progresiškai apmokestintume itin didelį turtą. Ne namus, ne mašinas, ne tai, ką žmonės vartoja, o didelį turtą, kuris yra ne vartojimo turtas, o valdymo priemonė. Valdymas demokratinėj visuomenėj turi priklausyti piliečiams, ir per jį, paimdami dalį jo, mes išsispręstume ir savo problemas, socialines problemas ir atkurtume didesnį žmonių dalyvavimą valstybės valdyme] = 1'}]\n",
            "answer:   1\n"
          ]
        },
        {
          "output_type": "stream",
          "name": "stderr",
          "text": [
            "\r 92%|█████████▏| 131/143 [01:06<00:08,  1.40it/s]Setting `pad_token_id` to `eos_token_id`:128001 for open-end generation.\n"
          ]
        },
        {
          "output_type": "stream",
          "name": "stdout",
          "text": [
            "prompt:  \n",
            "            Sociolingvistikos srityje Veido Grasinantis Veiksmas (VGV) yra komunikacinis veiksmas, kuris kelia grėsmę kalbėtojo ar klausytojo socialinei tapatybei ir savivertės jausmui. \n",
            "            Pavyzdžiai VGV yra įžeidimai, pertraukimai ir kritika. \n",
            "            Išanalizuokite šį naujienų tekstą ir atsakykite, ar jame yra Veido Grasinantis Veiksmas (VGV). \n",
            "            Atsakykite „1“ už „taip“ arba „0“ už „ne“.\n",
            "\n",
            "            [Tai aš noriu pratęsti, vieną labai svarbią mintį pasakyt. Kad šioj valdančioj daugumoj tarptautinės kompanijos atlikti tyrimai rodo, kad kad korupcijos lygis sumažėjo septyniais procentais. Nei prie vienos valdančios daugumos toks žemas korupcijos lygis nebuvo. O nuolat yra kaltinama visuomenei, kad šita valdančioji dauguma korumpuota. ] = \n",
            "result:  [{'generated_text': '\\n            Sociolingvistikos srityje Veido Grasinantis Veiksmas (VGV) yra komunikacinis veiksmas, kuris kelia grėsmę kalbėtojo ar klausytojo socialinei tapatybei ir savivertės jausmui. \\n            Pavyzdžiai VGV yra įžeidimai, pertraukimai ir kritika. \\n            Išanalizuokite šį naujienų tekstą ir atsakykite, ar jame yra Veido Grasinantis Veiksmas (VGV). \\n            Atsakykite „1“ už „taip“ arba „0“ už „ne“.\\n\\n            [Tai aš noriu pratęsti, vieną labai svarbią mintį pasakyt. Kad šioj valdančioj daugumoj tarptautinės kompanijos atlikti tyrimai rodo, kad kad korupcijos lygis sumažėjo septyniais procentais. Nei prie vienos valdančios daugumos toks žemas korupcijos lygis nebuvo. O nuolat yra kaltinama visuomenei, kad šita valdančioji dauguma korumpuota. ] = 1'}]\n",
            "answer:   1\n"
          ]
        },
        {
          "output_type": "stream",
          "name": "stderr",
          "text": [
            "\r 92%|█████████▏| 132/143 [01:07<00:08,  1.28it/s]Setting `pad_token_id` to `eos_token_id`:128001 for open-end generation.\n"
          ]
        },
        {
          "output_type": "stream",
          "name": "stdout",
          "text": [
            "prompt:  \n",
            "            Sociolingvistikos srityje Veido Grasinantis Veiksmas (VGV) yra komunikacinis veiksmas, kuris kelia grėsmę kalbėtojo ar klausytojo socialinei tapatybei ir savivertės jausmui. \n",
            "            Pavyzdžiai VGV yra įžeidimai, pertraukimai ir kritika. \n",
            "            Išanalizuokite šį naujienų tekstą ir atsakykite, ar jame yra Veido Grasinantis Veiksmas (VGV). \n",
            "            Atsakykite „1“ už „taip“ arba „0“ už „ne“.\n",
            "\n",
            "            [Čia jau akmuo, paridensiu į buvusio generalinio komisaro daržą, Valstiečių partijos lyderio, vedlio į rinkimus, pono Skvernelio, jisai darė darė reformą ir padarė štai ką: kad dabar, besiekiant jo nustatyto tūkstančio iliuzinių eurų algos, negavus iš biudžeto papildomo finansavimo, policiją optimizavo ir sumažino trečdaliu maždaug pareigūnų.] = \n",
            "result:  [{'generated_text': '\\n            Sociolingvistikos srityje Veido Grasinantis Veiksmas (VGV) yra komunikacinis veiksmas, kuris kelia grėsmę kalbėtojo ar klausytojo socialinei tapatybei ir savivertės jausmui. \\n            Pavyzdžiai VGV yra įžeidimai, pertraukimai ir kritika. \\n            Išanalizuokite šį naujienų tekstą ir atsakykite, ar jame yra Veido Grasinantis Veiksmas (VGV). \\n            Atsakykite „1“ už „taip“ arba „0“ už „ne“.\\n\\n            [Čia jau akmuo, paridensiu į buvusio generalinio komisaro daržą, Valstiečių partijos lyderio, vedlio į rinkimus, pono Skvernelio, jisai darė darė reformą ir padarė štai ką: kad dabar, besiekiant jo nustatyto tūkstančio iliuzinių eurų algos, negavus iš biudžeto papildomo finansavimo, policiją optimizavo ir sumažino trečdaliu maždaug pareigūnų.] = 1'}]\n",
            "answer:   1\n"
          ]
        },
        {
          "output_type": "stream",
          "name": "stderr",
          "text": [
            "\r 93%|█████████▎| 133/143 [01:08<00:08,  1.15it/s]Setting `pad_token_id` to `eos_token_id`:128001 for open-end generation.\n"
          ]
        },
        {
          "output_type": "stream",
          "name": "stdout",
          "text": [
            "prompt:  \n",
            "            Sociolingvistikos srityje Veido Grasinantis Veiksmas (VGV) yra komunikacinis veiksmas, kuris kelia grėsmę kalbėtojo ar klausytojo socialinei tapatybei ir savivertės jausmui. \n",
            "            Pavyzdžiai VGV yra įžeidimai, pertraukimai ir kritika. \n",
            "            Išanalizuokite šį naujienų tekstą ir atsakykite, ar jame yra Veido Grasinantis Veiksmas (VGV). \n",
            "            Atsakykite „1“ už „taip“ arba „0“ už „ne“.\n",
            "\n",
            "            [Kokie nors draudimai, kaip antai draudimas prekiauti alkoholiu, arba monopolio įvedimas, arba ten dar kažkokie suvaržymai, kurie man asmeniškai primena sovietinius laikus, tai buvo toksai generalinis sekretorius Andropovas, kuris buvo viską uždraudęs. Kas tada atsitiko ir kas atsitiktų dabar viską uždraudus arba labai sugriežtinus? Tai vyksta, tarkim, jau tokiose šalyse, kaip Švedija, kaip Suomija, buvo Jungtinėse Amerikos Valstijose draudimai griežti ir labai žiaurūs, ten suklestėjo kontrabanda, pilstukas ir nusikalstamas pasaulis. Tai tokiais griežtais draudimais mes nieko nelaimėsime, tačiau švietimo nuoseklia programa, mes siūlome mūsų „Žaliųjų“ partijos programoje atskirus modelius švietimo programai, kurie vaikus mokykloje orientuotų, šviestų, kas tai yra alkoholis, kokia yra jo vartojimo žala? Kad jie sąmoningai atsisakytų. Vyskupas Motiejus Valančius per ketveriius metus, Caro režimo priespaudoje sugebėjo padaryti taip, kad valstiečiai Lietuvoje kelis kartus mažiau pradėjo gerti. Vien dėl švietimo.] = \n",
            "result:  [{'generated_text': '\\n            Sociolingvistikos srityje Veido Grasinantis Veiksmas (VGV) yra komunikacinis veiksmas, kuris kelia grėsmę kalbėtojo ar klausytojo socialinei tapatybei ir savivertės jausmui. \\n            Pavyzdžiai VGV yra įžeidimai, pertraukimai ir kritika. \\n            Išanalizuokite šį naujienų tekstą ir atsakykite, ar jame yra Veido Grasinantis Veiksmas (VGV). \\n            Atsakykite „1“ už „taip“ arba „0“ už „ne“.\\n\\n            [Kokie nors draudimai, kaip antai draudimas prekiauti alkoholiu, arba monopolio įvedimas, arba ten dar kažkokie suvaržymai, kurie man asmeniškai primena sovietinius laikus, tai buvo toksai generalinis sekretorius Andropovas, kuris buvo viską uždraudęs. Kas tada atsitiko ir kas atsitiktų dabar viską uždraudus arba labai sugriežtinus? Tai vyksta, tarkim, jau tokiose šalyse, kaip Švedija, kaip Suomija, buvo Jungtinėse Amerikos Valstijose draudimai griežti ir labai žiaurūs, ten suklestėjo kontrabanda, pilstukas ir nusikalstamas pasaulis. Tai tokiais griežtais draudimais mes nieko nelaimėsime, tačiau švietimo nuoseklia programa, mes siūlome mūsų „Žaliųjų“ partijos programoje atskirus modelius švietimo programai, kurie vaikus mokykloje orientuotų, šviestų, kas tai yra alkoholis, kokia yra jo vartojimo žala? Kad jie sąmoningai atsisakytų. Vyskupas Motiejus Valančius per ketveriius metus, Caro režimo priespaudoje sugebėjo padaryti taip, kad valstiečiai Lietuvoje kelis kartus mažiau pradėjo gerti. Vien dėl švietimo.] = 1'}]\n",
            "answer:   1\n"
          ]
        },
        {
          "output_type": "stream",
          "name": "stderr",
          "text": [
            "\r 94%|█████████▎| 134/143 [01:09<00:06,  1.32it/s]Setting `pad_token_id` to `eos_token_id`:128001 for open-end generation.\n"
          ]
        },
        {
          "output_type": "stream",
          "name": "stdout",
          "text": [
            "prompt:  \n",
            "            Sociolingvistikos srityje Veido Grasinantis Veiksmas (VGV) yra komunikacinis veiksmas, kuris kelia grėsmę kalbėtojo ar klausytojo socialinei tapatybei ir savivertės jausmui. \n",
            "            Pavyzdžiai VGV yra įžeidimai, pertraukimai ir kritika. \n",
            "            Išanalizuokite šį naujienų tekstą ir atsakykite, ar jame yra Veido Grasinantis Veiksmas (VGV). \n",
            "            Atsakykite „1“ už „taip“ arba „0“ už „ne“.\n",
            "\n",
            "            [Tas, kuris turi, sakysime, savo rankose banką, prekybs tinklus, tai jis turi ir valdymo priemonę. Ir šitą Jūs gerai suprantate. ] = \n",
            "result:  [{'generated_text': '\\n            Sociolingvistikos srityje Veido Grasinantis Veiksmas (VGV) yra komunikacinis veiksmas, kuris kelia grėsmę kalbėtojo ar klausytojo socialinei tapatybei ir savivertės jausmui. \\n            Pavyzdžiai VGV yra įžeidimai, pertraukimai ir kritika. \\n            Išanalizuokite šį naujienų tekstą ir atsakykite, ar jame yra Veido Grasinantis Veiksmas (VGV). \\n            Atsakykite „1“ už „taip“ arba „0“ už „ne“.\\n\\n            [Tas, kuris turi, sakysime, savo rankose banką, prekybs tinklus, tai jis turi ir valdymo priemonę. Ir šitą Jūs gerai suprantate. ] = 1'}]\n",
            "answer:   1\n"
          ]
        },
        {
          "output_type": "stream",
          "name": "stderr",
          "text": [
            "\r 94%|█████████▍| 135/143 [01:09<00:05,  1.46it/s]Setting `pad_token_id` to `eos_token_id`:128001 for open-end generation.\n"
          ]
        },
        {
          "output_type": "stream",
          "name": "stdout",
          "text": [
            "prompt:  \n",
            "            Sociolingvistikos srityje Veido Grasinantis Veiksmas (VGV) yra komunikacinis veiksmas, kuris kelia grėsmę kalbėtojo ar klausytojo socialinei tapatybei ir savivertės jausmui. \n",
            "            Pavyzdžiai VGV yra įžeidimai, pertraukimai ir kritika. \n",
            "            Išanalizuokite šį naujienų tekstą ir atsakykite, ar jame yra Veido Grasinantis Veiksmas (VGV). \n",
            "            Atsakykite „1“ už „taip“ arba „0“ už „ne“.\n",
            "\n",
            "            [bet gal ši pertvarka padidintų reagavimo greitį, priartintų policiją prie žmonių, gal efektyviau naudotų mokesčių mokėtojų pinigus?] = \n",
            "result:  [{'generated_text': '\\n            Sociolingvistikos srityje Veido Grasinantis Veiksmas (VGV) yra komunikacinis veiksmas, kuris kelia grėsmę kalbėtojo ar klausytojo socialinei tapatybei ir savivertės jausmui. \\n            Pavyzdžiai VGV yra įžeidimai, pertraukimai ir kritika. \\n            Išanalizuokite šį naujienų tekstą ir atsakykite, ar jame yra Veido Grasinantis Veiksmas (VGV). \\n            Atsakykite „1“ už „taip“ arba „0“ už „ne“.\\n\\n            [bet gal ši pertvarka padidintų reagavimo greitį, priartintų policiją prie žmonių, gal efektyviau naudotų mokesčių mokėtojų pinigus?] = 1'}]\n",
            "answer:   1\n"
          ]
        },
        {
          "output_type": "stream",
          "name": "stderr",
          "text": [
            "\r 95%|█████████▌| 136/143 [01:10<00:04,  1.59it/s]Setting `pad_token_id` to `eos_token_id`:128001 for open-end generation.\n"
          ]
        },
        {
          "output_type": "stream",
          "name": "stdout",
          "text": [
            "prompt:  \n",
            "            Sociolingvistikos srityje Veido Grasinantis Veiksmas (VGV) yra komunikacinis veiksmas, kuris kelia grėsmę kalbėtojo ar klausytojo socialinei tapatybei ir savivertės jausmui. \n",
            "            Pavyzdžiai VGV yra įžeidimai, pertraukimai ir kritika. \n",
            "            Išanalizuokite šį naujienų tekstą ir atsakykite, ar jame yra Veido Grasinantis Veiksmas (VGV). \n",
            "            Atsakykite „1“ už „taip“ arba „0“ už „ne“.\n",
            "\n",
            "            [Jūs, gerbiamasis, rožinius akinius buvot užsidėjęs. ] = \n",
            "result:  [{'generated_text': '\\n            Sociolingvistikos srityje Veido Grasinantis Veiksmas (VGV) yra komunikacinis veiksmas, kuris kelia grėsmę kalbėtojo ar klausytojo socialinei tapatybei ir savivertės jausmui. \\n            Pavyzdžiai VGV yra įžeidimai, pertraukimai ir kritika. \\n            Išanalizuokite šį naujienų tekstą ir atsakykite, ar jame yra Veido Grasinantis Veiksmas (VGV). \\n            Atsakykite „1“ už „taip“ arba „0“ už „ne“.\\n\\n            [Jūs, gerbiamasis, rožinius akinius buvot užsidėjęs. ] = 1'}]\n",
            "answer:   1\n"
          ]
        },
        {
          "output_type": "stream",
          "name": "stderr",
          "text": [
            "\r 96%|█████████▌| 137/143 [01:10<00:03,  1.62it/s]Setting `pad_token_id` to `eos_token_id`:128001 for open-end generation.\n"
          ]
        },
        {
          "output_type": "stream",
          "name": "stdout",
          "text": [
            "prompt:  \n",
            "            Sociolingvistikos srityje Veido Grasinantis Veiksmas (VGV) yra komunikacinis veiksmas, kuris kelia grėsmę kalbėtojo ar klausytojo socialinei tapatybei ir savivertės jausmui. \n",
            "            Pavyzdžiai VGV yra įžeidimai, pertraukimai ir kritika. \n",
            "            Išanalizuokite šį naujienų tekstą ir atsakykite, ar jame yra Veido Grasinantis Veiksmas (VGV). \n",
            "            Atsakykite „1“ už „taip“ arba „0“ už „ne“.\n",
            "\n",
            "            [Iš tiesų, jeigu pažiūrėsim, kiek kartų skiriasi minimalus atlyginimas ir maksimalus, eem, valstybiniam darbo sektoriuje, tai apie 20 kartų. Tai mūsų nuomone nėra normalu. Paskaičiuota, kad maždaug visi žmonės jaustųsi pilietiškai, ir jaustų, kad yra piliečiai, šitas skirtumas neturėtų būti daugiau, negu septynis kartus. Tai va čia didelė galimybė pagerinti. Finansinė.] = \n",
            "result:  [{'generated_text': '\\n            Sociolingvistikos srityje Veido Grasinantis Veiksmas (VGV) yra komunikacinis veiksmas, kuris kelia grėsmę kalbėtojo ar klausytojo socialinei tapatybei ir savivertės jausmui. \\n            Pavyzdžiai VGV yra įžeidimai, pertraukimai ir kritika. \\n            Išanalizuokite šį naujienų tekstą ir atsakykite, ar jame yra Veido Grasinantis Veiksmas (VGV). \\n            Atsakykite „1“ už „taip“ arba „0“ už „ne“.\\n\\n            [Iš tiesų, jeigu pažiūrėsim, kiek kartų skiriasi minimalus atlyginimas ir maksimalus, eem, valstybiniam darbo sektoriuje, tai apie 20 kartų. Tai mūsų nuomone nėra normalu. Paskaičiuota, kad maždaug visi žmonės jaustųsi pilietiškai, ir jaustų, kad yra piliečiai, šitas skirtumas neturėtų būti daugiau, negu septynis kartus. Tai va čia didelė galimybė pagerinti. Finansinė.] = 1'}]\n",
            "answer:   1\n"
          ]
        },
        {
          "output_type": "stream",
          "name": "stderr",
          "text": [
            "\r 97%|█████████▋| 138/143 [01:11<00:02,  1.76it/s]Setting `pad_token_id` to `eos_token_id`:128001 for open-end generation.\n"
          ]
        },
        {
          "output_type": "stream",
          "name": "stdout",
          "text": [
            "prompt:  \n",
            "            Sociolingvistikos srityje Veido Grasinantis Veiksmas (VGV) yra komunikacinis veiksmas, kuris kelia grėsmę kalbėtojo ar klausytojo socialinei tapatybei ir savivertės jausmui. \n",
            "            Pavyzdžiai VGV yra įžeidimai, pertraukimai ir kritika. \n",
            "            Išanalizuokite šį naujienų tekstą ir atsakykite, ar jame yra Veido Grasinantis Veiksmas (VGV). \n",
            "            Atsakykite „1“ už „taip“ arba „0“ už „ne“.\n",
            "\n",
            "            [mes turime sulyginti privačių ir valdiškų gydymo įstaigų finansavimą. Tai vienas dalykas. Ir antras dalykas – aš matau Socialdemokratų partijos norą centralizuoti didžiuosiuose centruose – ar yra regioninė politika sveikatos apsaugoje, ar nėra? Aš jos nematau.] = \n",
            "result:  [{'generated_text': '\\n            Sociolingvistikos srityje Veido Grasinantis Veiksmas (VGV) yra komunikacinis veiksmas, kuris kelia grėsmę kalbėtojo ar klausytojo socialinei tapatybei ir savivertės jausmui. \\n            Pavyzdžiai VGV yra įžeidimai, pertraukimai ir kritika. \\n            Išanalizuokite šį naujienų tekstą ir atsakykite, ar jame yra Veido Grasinantis Veiksmas (VGV). \\n            Atsakykite „1“ už „taip“ arba „0“ už „ne“.\\n\\n            [mes turime sulyginti privačių ir valdiškų gydymo įstaigų finansavimą. Tai vienas dalykas. Ir antras dalykas – aš matau Socialdemokratų partijos norą centralizuoti didžiuosiuose centruose – ar yra regioninė politika sveikatos apsaugoje, ar nėra? Aš jos nematau.] = 1'}]\n",
            "answer:   1\n"
          ]
        },
        {
          "output_type": "stream",
          "name": "stderr",
          "text": [
            "\r 97%|█████████▋| 139/143 [01:11<00:02,  1.73it/s]Setting `pad_token_id` to `eos_token_id`:128001 for open-end generation.\n"
          ]
        },
        {
          "output_type": "stream",
          "name": "stdout",
          "text": [
            "prompt:  \n",
            "            Sociolingvistikos srityje Veido Grasinantis Veiksmas (VGV) yra komunikacinis veiksmas, kuris kelia grėsmę kalbėtojo ar klausytojo socialinei tapatybei ir savivertės jausmui. \n",
            "            Pavyzdžiai VGV yra įžeidimai, pertraukimai ir kritika. \n",
            "            Išanalizuokite šį naujienų tekstą ir atsakykite, ar jame yra Veido Grasinantis Veiksmas (VGV). \n",
            "            Atsakykite „1“ už „taip“ arba „0“ už „ne“.\n",
            "\n",
            "            [Alkoholio vartojimas yra didžiulė problema ir mes su tuo sutinkame. Ir tos priemonės, kurios yra šiandien naudojamos, yra ne iki galo veiksmingos. Aišku, mes galime kalbėti apie reklamos ribojimus, tam tikrus žiniasklaidoje alkoholiui sugriežtinimus, tačiau mes manome, kad pagrindinis dalykas turėtų būti kreipiamas į švietimą. Ir šitoj vietoj mes, švietimo srityje, nepadarome visko. Mokykloje ta aplinka, kuri dabar yra sukurta, dažnai, deja, matome, kad palei mokyklą vaikšto tie patys nebaivūs asmenys. Policija neužtikrina saugumo mokykloje mato nepilnamečiai susidariusią situaciją, problema neišsprendžiama. ] = \n",
            "result:  [{'generated_text': '\\n            Sociolingvistikos srityje Veido Grasinantis Veiksmas (VGV) yra komunikacinis veiksmas, kuris kelia grėsmę kalbėtojo ar klausytojo socialinei tapatybei ir savivertės jausmui. \\n            Pavyzdžiai VGV yra įžeidimai, pertraukimai ir kritika. \\n            Išanalizuokite šį naujienų tekstą ir atsakykite, ar jame yra Veido Grasinantis Veiksmas (VGV). \\n            Atsakykite „1“ už „taip“ arba „0“ už „ne“.\\n\\n            [Alkoholio vartojimas yra didžiulė problema ir mes su tuo sutinkame. Ir tos priemonės, kurios yra šiandien naudojamos, yra ne iki galo veiksmingos. Aišku, mes galime kalbėti apie reklamos ribojimus, tam tikrus žiniasklaidoje alkoholiui sugriežtinimus, tačiau mes manome, kad pagrindinis dalykas turėtų būti kreipiamas į švietimą. Ir šitoj vietoj mes, švietimo srityje, nepadarome visko. Mokykloje ta aplinka, kuri dabar yra sukurta, dažnai, deja, matome, kad palei mokyklą vaikšto tie patys nebaivūs asmenys. Policija neužtikrina saugumo mokykloje mato nepilnamečiai susidariusią situaciją, problema neišsprendžiama. ] = 1'}]\n",
            "answer:   1\n"
          ]
        },
        {
          "output_type": "stream",
          "name": "stderr",
          "text": [
            "\r 98%|█████████▊| 140/143 [01:12<00:01,  1.85it/s]Setting `pad_token_id` to `eos_token_id`:128001 for open-end generation.\n"
          ]
        },
        {
          "output_type": "stream",
          "name": "stdout",
          "text": [
            "prompt:  \n",
            "            Sociolingvistikos srityje Veido Grasinantis Veiksmas (VGV) yra komunikacinis veiksmas, kuris kelia grėsmę kalbėtojo ar klausytojo socialinei tapatybei ir savivertės jausmui. \n",
            "            Pavyzdžiai VGV yra įžeidimai, pertraukimai ir kritika. \n",
            "            Išanalizuokite šį naujienų tekstą ir atsakykite, ar jame yra Veido Grasinantis Veiksmas (VGV). \n",
            "            Atsakykite „1“ už „taip“ arba „0“ už „ne“.\n",
            "\n",
            "            [Aš paprašysiu, kad mano kolega, Algis Čiaplikas, kuris buvęs ir Aplinkos ministru, kaip tik pratęstų temą apie renovaciją, kuri yra labai svarbi kalbant apie šilumos mažesnes sąskaitas.] = \n",
            "result:  [{'generated_text': '\\n            Sociolingvistikos srityje Veido Grasinantis Veiksmas (VGV) yra komunikacinis veiksmas, kuris kelia grėsmę kalbėtojo ar klausytojo socialinei tapatybei ir savivertės jausmui. \\n            Pavyzdžiai VGV yra įžeidimai, pertraukimai ir kritika. \\n            Išanalizuokite šį naujienų tekstą ir atsakykite, ar jame yra Veido Grasinantis Veiksmas (VGV). \\n            Atsakykite „1“ už „taip“ arba „0“ už „ne“.\\n\\n            [Aš paprašysiu, kad mano kolega, Algis Čiaplikas, kuris buvęs ir Aplinkos ministru, kaip tik pratęstų temą apie renovaciją, kuri yra labai svarbi kalbant apie šilumos mažesnes sąskaitas.] = 1'}]\n",
            "answer:   1\n"
          ]
        },
        {
          "output_type": "stream",
          "name": "stderr",
          "text": [
            "\r 99%|█████████▊| 141/143 [01:12<00:01,  1.85it/s]Setting `pad_token_id` to `eos_token_id`:128001 for open-end generation.\n"
          ]
        },
        {
          "output_type": "stream",
          "name": "stdout",
          "text": [
            "prompt:  \n",
            "            Sociolingvistikos srityje Veido Grasinantis Veiksmas (VGV) yra komunikacinis veiksmas, kuris kelia grėsmę kalbėtojo ar klausytojo socialinei tapatybei ir savivertės jausmui. \n",
            "            Pavyzdžiai VGV yra įžeidimai, pertraukimai ir kritika. \n",
            "            Išanalizuokite šį naujienų tekstą ir atsakykite, ar jame yra Veido Grasinantis Veiksmas (VGV). \n",
            "            Atsakykite „1“ už „taip“ arba „0“ už „ne“.\n",
            "\n",
            "            [Na, ir dar pridėčiau, kad, iš tikrųjų, dviguba pilietybė ir elektroninis balsavimas yra tie sprendimai, kurie yra būtini ir tikrai nesuprantu kolegų konservatorių, kodėl jie priešinasi būtent elektroniniam balsavimui. Na, o mes turime lygiai taip pat būt ir atvira visuomenė, eem, vienas dalykas yra kalbėt apie migraciją, bet aš esu įsitikinęs, kad Lietuva gali tapti šalis, regiono lyderė, pritraukiant, na, kūrybingus, išsilavinusius jaunuolius iš užsienio šalių ir būtent tie mūsų emigrantai gali būt puikus tarpininkas tokiam ambicingam tikslui siekti.] = \n",
            "result:  [{'generated_text': '\\n            Sociolingvistikos srityje Veido Grasinantis Veiksmas (VGV) yra komunikacinis veiksmas, kuris kelia grėsmę kalbėtojo ar klausytojo socialinei tapatybei ir savivertės jausmui. \\n            Pavyzdžiai VGV yra įžeidimai, pertraukimai ir kritika. \\n            Išanalizuokite šį naujienų tekstą ir atsakykite, ar jame yra Veido Grasinantis Veiksmas (VGV). \\n            Atsakykite „1“ už „taip“ arba „0“ už „ne“.\\n\\n            [Na, ir dar pridėčiau, kad, iš tikrųjų, dviguba pilietybė ir elektroninis balsavimas yra tie sprendimai, kurie yra būtini ir tikrai nesuprantu kolegų konservatorių, kodėl jie priešinasi būtent elektroniniam balsavimui. Na, o mes turime lygiai taip pat būt ir atvira visuomenė, eem, vienas dalykas yra kalbėt apie migraciją, bet aš esu įsitikinęs, kad Lietuva gali tapti šalis, regiono lyderė, pritraukiant, na, kūrybingus, išsilavinusius jaunuolius iš užsienio šalių ir būtent tie mūsų emigrantai gali būt puikus tarpininkas tokiam ambicingam tikslui siekti.] = 1'}]\n",
            "answer:   1\n"
          ]
        },
        {
          "output_type": "stream",
          "name": "stderr",
          "text": [
            "\r 99%|█████████▉| 142/143 [01:13<00:00,  1.92it/s]Setting `pad_token_id` to `eos_token_id`:128001 for open-end generation.\n"
          ]
        },
        {
          "output_type": "stream",
          "name": "stdout",
          "text": [
            "prompt:  \n",
            "            Sociolingvistikos srityje Veido Grasinantis Veiksmas (VGV) yra komunikacinis veiksmas, kuris kelia grėsmę kalbėtojo ar klausytojo socialinei tapatybei ir savivertės jausmui. \n",
            "            Pavyzdžiai VGV yra įžeidimai, pertraukimai ir kritika. \n",
            "            Išanalizuokite šį naujienų tekstą ir atsakykite, ar jame yra Veido Grasinantis Veiksmas (VGV). \n",
            "            Atsakykite „1“ už „taip“ arba „0“ už „ne“.\n",
            "\n",
            "            [Aš noriu, kad kalbėtų mokytojai, kurie jaunimą pažįsta, jį uždo, Dainora Eigminienė, lituanistė, Vilniaus Kristoforo gimnazijos mokytoja, prašom.] = \n",
            "result:  [{'generated_text': '\\n            Sociolingvistikos srityje Veido Grasinantis Veiksmas (VGV) yra komunikacinis veiksmas, kuris kelia grėsmę kalbėtojo ar klausytojo socialinei tapatybei ir savivertės jausmui. \\n            Pavyzdžiai VGV yra įžeidimai, pertraukimai ir kritika. \\n            Išanalizuokite šį naujienų tekstą ir atsakykite, ar jame yra Veido Grasinantis Veiksmas (VGV). \\n            Atsakykite „1“ už „taip“ arba „0“ už „ne“.\\n\\n            [Aš noriu, kad kalbėtų mokytojai, kurie jaunimą pažįsta, jį uždo, Dainora Eigminienė, lituanistė, Vilniaus Kristoforo gimnazijos mokytoja, prašom.] = 1'}]\n",
            "answer:   1\n"
          ]
        },
        {
          "output_type": "stream",
          "name": "stderr",
          "text": [
            "100%|██████████| 143/143 [01:13<00:00,  1.94it/s]"
          ]
        },
        {
          "output_type": "stream",
          "name": "stdout",
          "text": [
            "prompt:  \n",
            "            Sociolingvistikos srityje Veido Grasinantis Veiksmas (VGV) yra komunikacinis veiksmas, kuris kelia grėsmę kalbėtojo ar klausytojo socialinei tapatybei ir savivertės jausmui. \n",
            "            Pavyzdžiai VGV yra įžeidimai, pertraukimai ir kritika. \n",
            "            Išanalizuokite šį naujienų tekstą ir atsakykite, ar jame yra Veido Grasinantis Veiksmas (VGV). \n",
            "            Atsakykite „1“ už „taip“ arba „0“ už „ne“.\n",
            "\n",
            "            [Aš tik norėjau sureaguoti, kad, matot, jeigu mokytojas rūko, tai kiek jis padaro nuostolio, nes mūsų daug jaunimo, žinot, išmirs ir tam tikras šešėlis ir šita pramonė labai klesti. Aš kada pats Pakuonį būdamas kviečiau surinkti pakučius ir rasti, tuos išmestus, kiek yra iš vietinės pramonės. Ir man, žinote, tas šešėlis ne tai, kad jis padaro nuostolį ten finansais, bet jis kiek nušluoja žmonių gyvybių, nes, žinot, pasižiūrėta mokykloj kaip mes kaip keliolikos metų vaikai jau drūčiai prasirūkę. Tai tas šešėlis atneša daugeliui mirtį ir ypatingai tos visokios mėtinės, panašiai, ir ne tik, kad yra šešėlis, bet jos dar galbūt nežinia dar kokiom licenzijom jos pagamintos, kiek jos yra toksiškos, matau elektronines cigaretes iš kažkur atvežtas, jaunuoliai tenais rūko, tai matot, ne tik kad šešėlis, bet, manyčiau, turėtų būt persekiojama tokia apskritai prekyba tokiais, nes jie ir dar kitą šešėlį, kitą nuostolį daro žmonėms] = \n",
            "result:  [{'generated_text': '\\n            Sociolingvistikos srityje Veido Grasinantis Veiksmas (VGV) yra komunikacinis veiksmas, kuris kelia grėsmę kalbėtojo ar klausytojo socialinei tapatybei ir savivertės jausmui. \\n            Pavyzdžiai VGV yra įžeidimai, pertraukimai ir kritika. \\n            Išanalizuokite šį naujienų tekstą ir atsakykite, ar jame yra Veido Grasinantis Veiksmas (VGV). \\n            Atsakykite „1“ už „taip“ arba „0“ už „ne“.\\n\\n            [Aš tik norėjau sureaguoti, kad, matot, jeigu mokytojas rūko, tai kiek jis padaro nuostolio, nes mūsų daug jaunimo, žinot, išmirs ir tam tikras šešėlis ir šita pramonė labai klesti. Aš kada pats Pakuonį būdamas kviečiau surinkti pakučius ir rasti, tuos išmestus, kiek yra iš vietinės pramonės. Ir man, žinote, tas šešėlis ne tai, kad jis padaro nuostolį ten finansais, bet jis kiek nušluoja žmonių gyvybių, nes, žinot, pasižiūrėta mokykloj kaip mes kaip keliolikos metų vaikai jau drūčiai prasirūkę. Tai tas šešėlis atneša daugeliui mirtį ir ypatingai tos visokios mėtinės, panašiai, ir ne tik, kad yra šešėlis, bet jos dar galbūt nežinia dar kokiom licenzijom jos pagamintos, kiek jos yra toksiškos, matau elektronines cigaretes iš kažkur atvežtas, jaunuoliai tenais rūko, tai matot, ne tik kad šešėlis, bet, manyčiau, turėtų būt persekiojama tokia apskritai prekyba tokiais, nes jie ir dar kitą šešėlį, kitą nuostolį daro žmonėms] = 1'}]\n",
            "answer:   1\n"
          ]
        },
        {
          "output_type": "stream",
          "name": "stderr",
          "text": [
            "\n"
          ]
        }
      ]
    },
    {
      "cell_type": "code",
      "source": [
        "from sklearn.metrics import accuracy_score, precision_score, recall_score, f1_score\n",
        "\n",
        "def evaluate(y_true, y_pred):\n",
        "    # Filter out undetermined predictions\n",
        "    mask = [y != -1 for y in y_pred]\n",
        "    filtered_y_true = [y_true[i] for i in range(len(y_true)) if mask[i]]\n",
        "    filtered_y_pred = [y_pred[i] for i in range(len(y_pred)) if mask[i]]\n",
        "\n",
        "    accuracy = accuracy_score(filtered_y_true, filtered_y_pred)\n",
        "    precision = precision_score(filtered_y_true, filtered_y_pred, pos_label=1)\n",
        "    recall = recall_score(filtered_y_true, filtered_y_pred, pos_label=1)\n",
        "    f1 = f1_score(filtered_y_true, filtered_y_pred, pos_label=1)\n",
        "\n",
        "    print(f\"Accuracy: {accuracy}\")\n",
        "    print(f\"Precision: {precision}\")\n",
        "    print(f\"Recall: {recall}\")\n",
        "    print(f\"F1 Score: {f1}\")"
      ],
      "metadata": {
        "id": "6wqNCvoQy-3-"
      },
      "execution_count": 131,
      "outputs": []
    },
    {
      "cell_type": "code",
      "source": [
        "evaluate(y_true, y_pred)"
      ],
      "metadata": {
        "colab": {
          "base_uri": "https://localhost:8080/"
        },
        "id": "bY-i3debyl1c",
        "outputId": "1a8f1e8a-b854-4add-e48e-0adbfc97e84f"
      },
      "execution_count": 132,
      "outputs": [
        {
          "output_type": "stream",
          "name": "stdout",
          "text": [
            "Accuracy: 0.3076923076923077\n",
            "Precision: 0.25196850393700787\n",
            "Recall: 0.8888888888888888\n",
            "F1 Score: 0.39263803680981596\n"
          ]
        }
      ]
    },
    {
      "cell_type": "markdown",
      "source": [
        "Eksperimentas 2"
      ],
      "metadata": {
        "id": "BR-wLaZhU9KL"
      }
    }
  ]
}