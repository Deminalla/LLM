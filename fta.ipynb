{
  "nbformat": 4,
  "nbformat_minor": 0,
  "metadata": {
    "colab": {
      "provenance": [],
      "authorship_tag": "ABX9TyNO0F1Lr5wIO1+r/BElX0fr",
      "include_colab_link": true
    },
    "kernelspec": {
      "name": "python3",
      "display_name": "Python 3"
    },
    "language_info": {
      "name": "python"
    },
    "widgets": {
      "application/vnd.jupyter.widget-state+json": {
        "db64d66a4e6d49b9b4551f033e31fe04": {
          "model_module": "@jupyter-widgets/controls",
          "model_name": "HBoxModel",
          "model_module_version": "1.5.0",
          "state": {
            "_dom_classes": [],
            "_model_module": "@jupyter-widgets/controls",
            "_model_module_version": "1.5.0",
            "_model_name": "HBoxModel",
            "_view_count": null,
            "_view_module": "@jupyter-widgets/controls",
            "_view_module_version": "1.5.0",
            "_view_name": "HBoxView",
            "box_style": "",
            "children": [
              "IPY_MODEL_09c81b6522ad4c52ba005649684e44d5",
              "IPY_MODEL_3fdd84c4732446efb4bca41c5ae03d87",
              "IPY_MODEL_24de2e8fdbeb4937a0a0aba619e772dd"
            ],
            "layout": "IPY_MODEL_a032724e7e844e2ba91a35ab32eaf3dd"
          }
        },
        "09c81b6522ad4c52ba005649684e44d5": {
          "model_module": "@jupyter-widgets/controls",
          "model_name": "HTMLModel",
          "model_module_version": "1.5.0",
          "state": {
            "_dom_classes": [],
            "_model_module": "@jupyter-widgets/controls",
            "_model_module_version": "1.5.0",
            "_model_name": "HTMLModel",
            "_view_count": null,
            "_view_module": "@jupyter-widgets/controls",
            "_view_module_version": "1.5.0",
            "_view_name": "HTMLView",
            "description": "",
            "description_tooltip": null,
            "layout": "IPY_MODEL_38c638e291054bb091380bf17cbe5c56",
            "placeholder": "​",
            "style": "IPY_MODEL_adfa41cc74ca442ab44b50121a851ef9",
            "value": "model.safetensors.index.json: 100%"
          }
        },
        "3fdd84c4732446efb4bca41c5ae03d87": {
          "model_module": "@jupyter-widgets/controls",
          "model_name": "FloatProgressModel",
          "model_module_version": "1.5.0",
          "state": {
            "_dom_classes": [],
            "_model_module": "@jupyter-widgets/controls",
            "_model_module_version": "1.5.0",
            "_model_name": "FloatProgressModel",
            "_view_count": null,
            "_view_module": "@jupyter-widgets/controls",
            "_view_module_version": "1.5.0",
            "_view_name": "ProgressView",
            "bar_style": "success",
            "description": "",
            "description_tooltip": null,
            "layout": "IPY_MODEL_cc90a42f771c470b8144d9629a816cfd",
            "max": 23950,
            "min": 0,
            "orientation": "horizontal",
            "style": "IPY_MODEL_dfbc8079a5ac46dfaba3b8b84cbb77e7",
            "value": 23950
          }
        },
        "24de2e8fdbeb4937a0a0aba619e772dd": {
          "model_module": "@jupyter-widgets/controls",
          "model_name": "HTMLModel",
          "model_module_version": "1.5.0",
          "state": {
            "_dom_classes": [],
            "_model_module": "@jupyter-widgets/controls",
            "_model_module_version": "1.5.0",
            "_model_name": "HTMLModel",
            "_view_count": null,
            "_view_module": "@jupyter-widgets/controls",
            "_view_module_version": "1.5.0",
            "_view_name": "HTMLView",
            "description": "",
            "description_tooltip": null,
            "layout": "IPY_MODEL_f0ee23af62394067abe9e42d7e3960b0",
            "placeholder": "​",
            "style": "IPY_MODEL_ed1877d6e69c4646b4ad9cf2bbf65d7e",
            "value": " 23.9k/23.9k [00:00&lt;00:00, 1.26MB/s]"
          }
        },
        "a032724e7e844e2ba91a35ab32eaf3dd": {
          "model_module": "@jupyter-widgets/base",
          "model_name": "LayoutModel",
          "model_module_version": "1.2.0",
          "state": {
            "_model_module": "@jupyter-widgets/base",
            "_model_module_version": "1.2.0",
            "_model_name": "LayoutModel",
            "_view_count": null,
            "_view_module": "@jupyter-widgets/base",
            "_view_module_version": "1.2.0",
            "_view_name": "LayoutView",
            "align_content": null,
            "align_items": null,
            "align_self": null,
            "border": null,
            "bottom": null,
            "display": null,
            "flex": null,
            "flex_flow": null,
            "grid_area": null,
            "grid_auto_columns": null,
            "grid_auto_flow": null,
            "grid_auto_rows": null,
            "grid_column": null,
            "grid_gap": null,
            "grid_row": null,
            "grid_template_areas": null,
            "grid_template_columns": null,
            "grid_template_rows": null,
            "height": null,
            "justify_content": null,
            "justify_items": null,
            "left": null,
            "margin": null,
            "max_height": null,
            "max_width": null,
            "min_height": null,
            "min_width": null,
            "object_fit": null,
            "object_position": null,
            "order": null,
            "overflow": null,
            "overflow_x": null,
            "overflow_y": null,
            "padding": null,
            "right": null,
            "top": null,
            "visibility": null,
            "width": null
          }
        },
        "38c638e291054bb091380bf17cbe5c56": {
          "model_module": "@jupyter-widgets/base",
          "model_name": "LayoutModel",
          "model_module_version": "1.2.0",
          "state": {
            "_model_module": "@jupyter-widgets/base",
            "_model_module_version": "1.2.0",
            "_model_name": "LayoutModel",
            "_view_count": null,
            "_view_module": "@jupyter-widgets/base",
            "_view_module_version": "1.2.0",
            "_view_name": "LayoutView",
            "align_content": null,
            "align_items": null,
            "align_self": null,
            "border": null,
            "bottom": null,
            "display": null,
            "flex": null,
            "flex_flow": null,
            "grid_area": null,
            "grid_auto_columns": null,
            "grid_auto_flow": null,
            "grid_auto_rows": null,
            "grid_column": null,
            "grid_gap": null,
            "grid_row": null,
            "grid_template_areas": null,
            "grid_template_columns": null,
            "grid_template_rows": null,
            "height": null,
            "justify_content": null,
            "justify_items": null,
            "left": null,
            "margin": null,
            "max_height": null,
            "max_width": null,
            "min_height": null,
            "min_width": null,
            "object_fit": null,
            "object_position": null,
            "order": null,
            "overflow": null,
            "overflow_x": null,
            "overflow_y": null,
            "padding": null,
            "right": null,
            "top": null,
            "visibility": null,
            "width": null
          }
        },
        "adfa41cc74ca442ab44b50121a851ef9": {
          "model_module": "@jupyter-widgets/controls",
          "model_name": "DescriptionStyleModel",
          "model_module_version": "1.5.0",
          "state": {
            "_model_module": "@jupyter-widgets/controls",
            "_model_module_version": "1.5.0",
            "_model_name": "DescriptionStyleModel",
            "_view_count": null,
            "_view_module": "@jupyter-widgets/base",
            "_view_module_version": "1.2.0",
            "_view_name": "StyleView",
            "description_width": ""
          }
        },
        "cc90a42f771c470b8144d9629a816cfd": {
          "model_module": "@jupyter-widgets/base",
          "model_name": "LayoutModel",
          "model_module_version": "1.2.0",
          "state": {
            "_model_module": "@jupyter-widgets/base",
            "_model_module_version": "1.2.0",
            "_model_name": "LayoutModel",
            "_view_count": null,
            "_view_module": "@jupyter-widgets/base",
            "_view_module_version": "1.2.0",
            "_view_name": "LayoutView",
            "align_content": null,
            "align_items": null,
            "align_self": null,
            "border": null,
            "bottom": null,
            "display": null,
            "flex": null,
            "flex_flow": null,
            "grid_area": null,
            "grid_auto_columns": null,
            "grid_auto_flow": null,
            "grid_auto_rows": null,
            "grid_column": null,
            "grid_gap": null,
            "grid_row": null,
            "grid_template_areas": null,
            "grid_template_columns": null,
            "grid_template_rows": null,
            "height": null,
            "justify_content": null,
            "justify_items": null,
            "left": null,
            "margin": null,
            "max_height": null,
            "max_width": null,
            "min_height": null,
            "min_width": null,
            "object_fit": null,
            "object_position": null,
            "order": null,
            "overflow": null,
            "overflow_x": null,
            "overflow_y": null,
            "padding": null,
            "right": null,
            "top": null,
            "visibility": null,
            "width": null
          }
        },
        "dfbc8079a5ac46dfaba3b8b84cbb77e7": {
          "model_module": "@jupyter-widgets/controls",
          "model_name": "ProgressStyleModel",
          "model_module_version": "1.5.0",
          "state": {
            "_model_module": "@jupyter-widgets/controls",
            "_model_module_version": "1.5.0",
            "_model_name": "ProgressStyleModel",
            "_view_count": null,
            "_view_module": "@jupyter-widgets/base",
            "_view_module_version": "1.2.0",
            "_view_name": "StyleView",
            "bar_color": null,
            "description_width": ""
          }
        },
        "f0ee23af62394067abe9e42d7e3960b0": {
          "model_module": "@jupyter-widgets/base",
          "model_name": "LayoutModel",
          "model_module_version": "1.2.0",
          "state": {
            "_model_module": "@jupyter-widgets/base",
            "_model_module_version": "1.2.0",
            "_model_name": "LayoutModel",
            "_view_count": null,
            "_view_module": "@jupyter-widgets/base",
            "_view_module_version": "1.2.0",
            "_view_name": "LayoutView",
            "align_content": null,
            "align_items": null,
            "align_self": null,
            "border": null,
            "bottom": null,
            "display": null,
            "flex": null,
            "flex_flow": null,
            "grid_area": null,
            "grid_auto_columns": null,
            "grid_auto_flow": null,
            "grid_auto_rows": null,
            "grid_column": null,
            "grid_gap": null,
            "grid_row": null,
            "grid_template_areas": null,
            "grid_template_columns": null,
            "grid_template_rows": null,
            "height": null,
            "justify_content": null,
            "justify_items": null,
            "left": null,
            "margin": null,
            "max_height": null,
            "max_width": null,
            "min_height": null,
            "min_width": null,
            "object_fit": null,
            "object_position": null,
            "order": null,
            "overflow": null,
            "overflow_x": null,
            "overflow_y": null,
            "padding": null,
            "right": null,
            "top": null,
            "visibility": null,
            "width": null
          }
        },
        "ed1877d6e69c4646b4ad9cf2bbf65d7e": {
          "model_module": "@jupyter-widgets/controls",
          "model_name": "DescriptionStyleModel",
          "model_module_version": "1.5.0",
          "state": {
            "_model_module": "@jupyter-widgets/controls",
            "_model_module_version": "1.5.0",
            "_model_name": "DescriptionStyleModel",
            "_view_count": null,
            "_view_module": "@jupyter-widgets/base",
            "_view_module_version": "1.2.0",
            "_view_name": "StyleView",
            "description_width": ""
          }
        },
        "97a8fe0c9d994a1e890cd062c3e163f9": {
          "model_module": "@jupyter-widgets/controls",
          "model_name": "HBoxModel",
          "model_module_version": "1.5.0",
          "state": {
            "_dom_classes": [],
            "_model_module": "@jupyter-widgets/controls",
            "_model_module_version": "1.5.0",
            "_model_name": "HBoxModel",
            "_view_count": null,
            "_view_module": "@jupyter-widgets/controls",
            "_view_module_version": "1.5.0",
            "_view_name": "HBoxView",
            "box_style": "",
            "children": [
              "IPY_MODEL_b7230a4277334938ac6c8884cd4f5535",
              "IPY_MODEL_ef4fbfea2d094f328a84d60ee0fa45ee",
              "IPY_MODEL_df7d20063c7040278e19e6666dbd957c"
            ],
            "layout": "IPY_MODEL_bf9b620867d147d5a847f6e8a3a854e6"
          }
        },
        "b7230a4277334938ac6c8884cd4f5535": {
          "model_module": "@jupyter-widgets/controls",
          "model_name": "HTMLModel",
          "model_module_version": "1.5.0",
          "state": {
            "_dom_classes": [],
            "_model_module": "@jupyter-widgets/controls",
            "_model_module_version": "1.5.0",
            "_model_name": "HTMLModel",
            "_view_count": null,
            "_view_module": "@jupyter-widgets/controls",
            "_view_module_version": "1.5.0",
            "_view_name": "HTMLView",
            "description": "",
            "description_tooltip": null,
            "layout": "IPY_MODEL_bd0d3ac8e1ab43a78d3a664315ddccd5",
            "placeholder": "​",
            "style": "IPY_MODEL_3c250fb30ecc4060b2e656cbdde2607a",
            "value": "Downloading shards: 100%"
          }
        },
        "ef4fbfea2d094f328a84d60ee0fa45ee": {
          "model_module": "@jupyter-widgets/controls",
          "model_name": "FloatProgressModel",
          "model_module_version": "1.5.0",
          "state": {
            "_dom_classes": [],
            "_model_module": "@jupyter-widgets/controls",
            "_model_module_version": "1.5.0",
            "_model_name": "FloatProgressModel",
            "_view_count": null,
            "_view_module": "@jupyter-widgets/controls",
            "_view_module_version": "1.5.0",
            "_view_name": "ProgressView",
            "bar_style": "success",
            "description": "",
            "description_tooltip": null,
            "layout": "IPY_MODEL_02d930e11c4d44beb5ef41c9bc66b3f0",
            "max": 4,
            "min": 0,
            "orientation": "horizontal",
            "style": "IPY_MODEL_0e55ac3bfc7c4d358d745202cd253ccb",
            "value": 4
          }
        },
        "df7d20063c7040278e19e6666dbd957c": {
          "model_module": "@jupyter-widgets/controls",
          "model_name": "HTMLModel",
          "model_module_version": "1.5.0",
          "state": {
            "_dom_classes": [],
            "_model_module": "@jupyter-widgets/controls",
            "_model_module_version": "1.5.0",
            "_model_name": "HTMLModel",
            "_view_count": null,
            "_view_module": "@jupyter-widgets/controls",
            "_view_module_version": "1.5.0",
            "_view_name": "HTMLView",
            "description": "",
            "description_tooltip": null,
            "layout": "IPY_MODEL_8855b6654d01493299ec60d83364d83e",
            "placeholder": "​",
            "style": "IPY_MODEL_1007e99423c344768f8c5398e097fcff",
            "value": " 4/4 [06:23&lt;00:00, 82.53s/it]"
          }
        },
        "bf9b620867d147d5a847f6e8a3a854e6": {
          "model_module": "@jupyter-widgets/base",
          "model_name": "LayoutModel",
          "model_module_version": "1.2.0",
          "state": {
            "_model_module": "@jupyter-widgets/base",
            "_model_module_version": "1.2.0",
            "_model_name": "LayoutModel",
            "_view_count": null,
            "_view_module": "@jupyter-widgets/base",
            "_view_module_version": "1.2.0",
            "_view_name": "LayoutView",
            "align_content": null,
            "align_items": null,
            "align_self": null,
            "border": null,
            "bottom": null,
            "display": null,
            "flex": null,
            "flex_flow": null,
            "grid_area": null,
            "grid_auto_columns": null,
            "grid_auto_flow": null,
            "grid_auto_rows": null,
            "grid_column": null,
            "grid_gap": null,
            "grid_row": null,
            "grid_template_areas": null,
            "grid_template_columns": null,
            "grid_template_rows": null,
            "height": null,
            "justify_content": null,
            "justify_items": null,
            "left": null,
            "margin": null,
            "max_height": null,
            "max_width": null,
            "min_height": null,
            "min_width": null,
            "object_fit": null,
            "object_position": null,
            "order": null,
            "overflow": null,
            "overflow_x": null,
            "overflow_y": null,
            "padding": null,
            "right": null,
            "top": null,
            "visibility": null,
            "width": null
          }
        },
        "bd0d3ac8e1ab43a78d3a664315ddccd5": {
          "model_module": "@jupyter-widgets/base",
          "model_name": "LayoutModel",
          "model_module_version": "1.2.0",
          "state": {
            "_model_module": "@jupyter-widgets/base",
            "_model_module_version": "1.2.0",
            "_model_name": "LayoutModel",
            "_view_count": null,
            "_view_module": "@jupyter-widgets/base",
            "_view_module_version": "1.2.0",
            "_view_name": "LayoutView",
            "align_content": null,
            "align_items": null,
            "align_self": null,
            "border": null,
            "bottom": null,
            "display": null,
            "flex": null,
            "flex_flow": null,
            "grid_area": null,
            "grid_auto_columns": null,
            "grid_auto_flow": null,
            "grid_auto_rows": null,
            "grid_column": null,
            "grid_gap": null,
            "grid_row": null,
            "grid_template_areas": null,
            "grid_template_columns": null,
            "grid_template_rows": null,
            "height": null,
            "justify_content": null,
            "justify_items": null,
            "left": null,
            "margin": null,
            "max_height": null,
            "max_width": null,
            "min_height": null,
            "min_width": null,
            "object_fit": null,
            "object_position": null,
            "order": null,
            "overflow": null,
            "overflow_x": null,
            "overflow_y": null,
            "padding": null,
            "right": null,
            "top": null,
            "visibility": null,
            "width": null
          }
        },
        "3c250fb30ecc4060b2e656cbdde2607a": {
          "model_module": "@jupyter-widgets/controls",
          "model_name": "DescriptionStyleModel",
          "model_module_version": "1.5.0",
          "state": {
            "_model_module": "@jupyter-widgets/controls",
            "_model_module_version": "1.5.0",
            "_model_name": "DescriptionStyleModel",
            "_view_count": null,
            "_view_module": "@jupyter-widgets/base",
            "_view_module_version": "1.2.0",
            "_view_name": "StyleView",
            "description_width": ""
          }
        },
        "02d930e11c4d44beb5ef41c9bc66b3f0": {
          "model_module": "@jupyter-widgets/base",
          "model_name": "LayoutModel",
          "model_module_version": "1.2.0",
          "state": {
            "_model_module": "@jupyter-widgets/base",
            "_model_module_version": "1.2.0",
            "_model_name": "LayoutModel",
            "_view_count": null,
            "_view_module": "@jupyter-widgets/base",
            "_view_module_version": "1.2.0",
            "_view_name": "LayoutView",
            "align_content": null,
            "align_items": null,
            "align_self": null,
            "border": null,
            "bottom": null,
            "display": null,
            "flex": null,
            "flex_flow": null,
            "grid_area": null,
            "grid_auto_columns": null,
            "grid_auto_flow": null,
            "grid_auto_rows": null,
            "grid_column": null,
            "grid_gap": null,
            "grid_row": null,
            "grid_template_areas": null,
            "grid_template_columns": null,
            "grid_template_rows": null,
            "height": null,
            "justify_content": null,
            "justify_items": null,
            "left": null,
            "margin": null,
            "max_height": null,
            "max_width": null,
            "min_height": null,
            "min_width": null,
            "object_fit": null,
            "object_position": null,
            "order": null,
            "overflow": null,
            "overflow_x": null,
            "overflow_y": null,
            "padding": null,
            "right": null,
            "top": null,
            "visibility": null,
            "width": null
          }
        },
        "0e55ac3bfc7c4d358d745202cd253ccb": {
          "model_module": "@jupyter-widgets/controls",
          "model_name": "ProgressStyleModel",
          "model_module_version": "1.5.0",
          "state": {
            "_model_module": "@jupyter-widgets/controls",
            "_model_module_version": "1.5.0",
            "_model_name": "ProgressStyleModel",
            "_view_count": null,
            "_view_module": "@jupyter-widgets/base",
            "_view_module_version": "1.2.0",
            "_view_name": "StyleView",
            "bar_color": null,
            "description_width": ""
          }
        },
        "8855b6654d01493299ec60d83364d83e": {
          "model_module": "@jupyter-widgets/base",
          "model_name": "LayoutModel",
          "model_module_version": "1.2.0",
          "state": {
            "_model_module": "@jupyter-widgets/base",
            "_model_module_version": "1.2.0",
            "_model_name": "LayoutModel",
            "_view_count": null,
            "_view_module": "@jupyter-widgets/base",
            "_view_module_version": "1.2.0",
            "_view_name": "LayoutView",
            "align_content": null,
            "align_items": null,
            "align_self": null,
            "border": null,
            "bottom": null,
            "display": null,
            "flex": null,
            "flex_flow": null,
            "grid_area": null,
            "grid_auto_columns": null,
            "grid_auto_flow": null,
            "grid_auto_rows": null,
            "grid_column": null,
            "grid_gap": null,
            "grid_row": null,
            "grid_template_areas": null,
            "grid_template_columns": null,
            "grid_template_rows": null,
            "height": null,
            "justify_content": null,
            "justify_items": null,
            "left": null,
            "margin": null,
            "max_height": null,
            "max_width": null,
            "min_height": null,
            "min_width": null,
            "object_fit": null,
            "object_position": null,
            "order": null,
            "overflow": null,
            "overflow_x": null,
            "overflow_y": null,
            "padding": null,
            "right": null,
            "top": null,
            "visibility": null,
            "width": null
          }
        },
        "1007e99423c344768f8c5398e097fcff": {
          "model_module": "@jupyter-widgets/controls",
          "model_name": "DescriptionStyleModel",
          "model_module_version": "1.5.0",
          "state": {
            "_model_module": "@jupyter-widgets/controls",
            "_model_module_version": "1.5.0",
            "_model_name": "DescriptionStyleModel",
            "_view_count": null,
            "_view_module": "@jupyter-widgets/base",
            "_view_module_version": "1.2.0",
            "_view_name": "StyleView",
            "description_width": ""
          }
        },
        "8db0cf8955b840b4b9625051808efc86": {
          "model_module": "@jupyter-widgets/controls",
          "model_name": "HBoxModel",
          "model_module_version": "1.5.0",
          "state": {
            "_dom_classes": [],
            "_model_module": "@jupyter-widgets/controls",
            "_model_module_version": "1.5.0",
            "_model_name": "HBoxModel",
            "_view_count": null,
            "_view_module": "@jupyter-widgets/controls",
            "_view_module_version": "1.5.0",
            "_view_name": "HBoxView",
            "box_style": "",
            "children": [
              "IPY_MODEL_402025960be942868dafeb9bd884f209",
              "IPY_MODEL_35a59369cb2c47169917119a0302c736",
              "IPY_MODEL_cf82660a2cd34ea4bffdad0c9e2be675"
            ],
            "layout": "IPY_MODEL_017021091f404a38a06853d7eb2e7887"
          }
        },
        "402025960be942868dafeb9bd884f209": {
          "model_module": "@jupyter-widgets/controls",
          "model_name": "HTMLModel",
          "model_module_version": "1.5.0",
          "state": {
            "_dom_classes": [],
            "_model_module": "@jupyter-widgets/controls",
            "_model_module_version": "1.5.0",
            "_model_name": "HTMLModel",
            "_view_count": null,
            "_view_module": "@jupyter-widgets/controls",
            "_view_module_version": "1.5.0",
            "_view_name": "HTMLView",
            "description": "",
            "description_tooltip": null,
            "layout": "IPY_MODEL_124aad5694dc4760adbf8d45e3000aa2",
            "placeholder": "​",
            "style": "IPY_MODEL_740afeafd3be41db890b0c33c63db522",
            "value": "model-00001-of-00004.safetensors: 100%"
          }
        },
        "35a59369cb2c47169917119a0302c736": {
          "model_module": "@jupyter-widgets/controls",
          "model_name": "FloatProgressModel",
          "model_module_version": "1.5.0",
          "state": {
            "_dom_classes": [],
            "_model_module": "@jupyter-widgets/controls",
            "_model_module_version": "1.5.0",
            "_model_name": "FloatProgressModel",
            "_view_count": null,
            "_view_module": "@jupyter-widgets/controls",
            "_view_module_version": "1.5.0",
            "_view_name": "ProgressView",
            "bar_style": "success",
            "description": "",
            "description_tooltip": null,
            "layout": "IPY_MODEL_8bbae6ca306743b1bb3fa4fce973a2b0",
            "max": 4976698672,
            "min": 0,
            "orientation": "horizontal",
            "style": "IPY_MODEL_80509e55af2546cbbcbd17ec8b8025ce",
            "value": 4976698672
          }
        },
        "cf82660a2cd34ea4bffdad0c9e2be675": {
          "model_module": "@jupyter-widgets/controls",
          "model_name": "HTMLModel",
          "model_module_version": "1.5.0",
          "state": {
            "_dom_classes": [],
            "_model_module": "@jupyter-widgets/controls",
            "_model_module_version": "1.5.0",
            "_model_name": "HTMLModel",
            "_view_count": null,
            "_view_module": "@jupyter-widgets/controls",
            "_view_module_version": "1.5.0",
            "_view_name": "HTMLView",
            "description": "",
            "description_tooltip": null,
            "layout": "IPY_MODEL_5d004f8a8cf94ec5b742b13022e57caf",
            "placeholder": "​",
            "style": "IPY_MODEL_a210cae9ffd94d2aa35a61120d4947c5",
            "value": " 4.98G/4.98G [01:58&lt;00:00, 42.5MB/s]"
          }
        },
        "017021091f404a38a06853d7eb2e7887": {
          "model_module": "@jupyter-widgets/base",
          "model_name": "LayoutModel",
          "model_module_version": "1.2.0",
          "state": {
            "_model_module": "@jupyter-widgets/base",
            "_model_module_version": "1.2.0",
            "_model_name": "LayoutModel",
            "_view_count": null,
            "_view_module": "@jupyter-widgets/base",
            "_view_module_version": "1.2.0",
            "_view_name": "LayoutView",
            "align_content": null,
            "align_items": null,
            "align_self": null,
            "border": null,
            "bottom": null,
            "display": null,
            "flex": null,
            "flex_flow": null,
            "grid_area": null,
            "grid_auto_columns": null,
            "grid_auto_flow": null,
            "grid_auto_rows": null,
            "grid_column": null,
            "grid_gap": null,
            "grid_row": null,
            "grid_template_areas": null,
            "grid_template_columns": null,
            "grid_template_rows": null,
            "height": null,
            "justify_content": null,
            "justify_items": null,
            "left": null,
            "margin": null,
            "max_height": null,
            "max_width": null,
            "min_height": null,
            "min_width": null,
            "object_fit": null,
            "object_position": null,
            "order": null,
            "overflow": null,
            "overflow_x": null,
            "overflow_y": null,
            "padding": null,
            "right": null,
            "top": null,
            "visibility": null,
            "width": null
          }
        },
        "124aad5694dc4760adbf8d45e3000aa2": {
          "model_module": "@jupyter-widgets/base",
          "model_name": "LayoutModel",
          "model_module_version": "1.2.0",
          "state": {
            "_model_module": "@jupyter-widgets/base",
            "_model_module_version": "1.2.0",
            "_model_name": "LayoutModel",
            "_view_count": null,
            "_view_module": "@jupyter-widgets/base",
            "_view_module_version": "1.2.0",
            "_view_name": "LayoutView",
            "align_content": null,
            "align_items": null,
            "align_self": null,
            "border": null,
            "bottom": null,
            "display": null,
            "flex": null,
            "flex_flow": null,
            "grid_area": null,
            "grid_auto_columns": null,
            "grid_auto_flow": null,
            "grid_auto_rows": null,
            "grid_column": null,
            "grid_gap": null,
            "grid_row": null,
            "grid_template_areas": null,
            "grid_template_columns": null,
            "grid_template_rows": null,
            "height": null,
            "justify_content": null,
            "justify_items": null,
            "left": null,
            "margin": null,
            "max_height": null,
            "max_width": null,
            "min_height": null,
            "min_width": null,
            "object_fit": null,
            "object_position": null,
            "order": null,
            "overflow": null,
            "overflow_x": null,
            "overflow_y": null,
            "padding": null,
            "right": null,
            "top": null,
            "visibility": null,
            "width": null
          }
        },
        "740afeafd3be41db890b0c33c63db522": {
          "model_module": "@jupyter-widgets/controls",
          "model_name": "DescriptionStyleModel",
          "model_module_version": "1.5.0",
          "state": {
            "_model_module": "@jupyter-widgets/controls",
            "_model_module_version": "1.5.0",
            "_model_name": "DescriptionStyleModel",
            "_view_count": null,
            "_view_module": "@jupyter-widgets/base",
            "_view_module_version": "1.2.0",
            "_view_name": "StyleView",
            "description_width": ""
          }
        },
        "8bbae6ca306743b1bb3fa4fce973a2b0": {
          "model_module": "@jupyter-widgets/base",
          "model_name": "LayoutModel",
          "model_module_version": "1.2.0",
          "state": {
            "_model_module": "@jupyter-widgets/base",
            "_model_module_version": "1.2.0",
            "_model_name": "LayoutModel",
            "_view_count": null,
            "_view_module": "@jupyter-widgets/base",
            "_view_module_version": "1.2.0",
            "_view_name": "LayoutView",
            "align_content": null,
            "align_items": null,
            "align_self": null,
            "border": null,
            "bottom": null,
            "display": null,
            "flex": null,
            "flex_flow": null,
            "grid_area": null,
            "grid_auto_columns": null,
            "grid_auto_flow": null,
            "grid_auto_rows": null,
            "grid_column": null,
            "grid_gap": null,
            "grid_row": null,
            "grid_template_areas": null,
            "grid_template_columns": null,
            "grid_template_rows": null,
            "height": null,
            "justify_content": null,
            "justify_items": null,
            "left": null,
            "margin": null,
            "max_height": null,
            "max_width": null,
            "min_height": null,
            "min_width": null,
            "object_fit": null,
            "object_position": null,
            "order": null,
            "overflow": null,
            "overflow_x": null,
            "overflow_y": null,
            "padding": null,
            "right": null,
            "top": null,
            "visibility": null,
            "width": null
          }
        },
        "80509e55af2546cbbcbd17ec8b8025ce": {
          "model_module": "@jupyter-widgets/controls",
          "model_name": "ProgressStyleModel",
          "model_module_version": "1.5.0",
          "state": {
            "_model_module": "@jupyter-widgets/controls",
            "_model_module_version": "1.5.0",
            "_model_name": "ProgressStyleModel",
            "_view_count": null,
            "_view_module": "@jupyter-widgets/base",
            "_view_module_version": "1.2.0",
            "_view_name": "StyleView",
            "bar_color": null,
            "description_width": ""
          }
        },
        "5d004f8a8cf94ec5b742b13022e57caf": {
          "model_module": "@jupyter-widgets/base",
          "model_name": "LayoutModel",
          "model_module_version": "1.2.0",
          "state": {
            "_model_module": "@jupyter-widgets/base",
            "_model_module_version": "1.2.0",
            "_model_name": "LayoutModel",
            "_view_count": null,
            "_view_module": "@jupyter-widgets/base",
            "_view_module_version": "1.2.0",
            "_view_name": "LayoutView",
            "align_content": null,
            "align_items": null,
            "align_self": null,
            "border": null,
            "bottom": null,
            "display": null,
            "flex": null,
            "flex_flow": null,
            "grid_area": null,
            "grid_auto_columns": null,
            "grid_auto_flow": null,
            "grid_auto_rows": null,
            "grid_column": null,
            "grid_gap": null,
            "grid_row": null,
            "grid_template_areas": null,
            "grid_template_columns": null,
            "grid_template_rows": null,
            "height": null,
            "justify_content": null,
            "justify_items": null,
            "left": null,
            "margin": null,
            "max_height": null,
            "max_width": null,
            "min_height": null,
            "min_width": null,
            "object_fit": null,
            "object_position": null,
            "order": null,
            "overflow": null,
            "overflow_x": null,
            "overflow_y": null,
            "padding": null,
            "right": null,
            "top": null,
            "visibility": null,
            "width": null
          }
        },
        "a210cae9ffd94d2aa35a61120d4947c5": {
          "model_module": "@jupyter-widgets/controls",
          "model_name": "DescriptionStyleModel",
          "model_module_version": "1.5.0",
          "state": {
            "_model_module": "@jupyter-widgets/controls",
            "_model_module_version": "1.5.0",
            "_model_name": "DescriptionStyleModel",
            "_view_count": null,
            "_view_module": "@jupyter-widgets/base",
            "_view_module_version": "1.2.0",
            "_view_name": "StyleView",
            "description_width": ""
          }
        },
        "ff46c61df5a64f5ba8b4d4a5e5bde19a": {
          "model_module": "@jupyter-widgets/controls",
          "model_name": "HBoxModel",
          "model_module_version": "1.5.0",
          "state": {
            "_dom_classes": [],
            "_model_module": "@jupyter-widgets/controls",
            "_model_module_version": "1.5.0",
            "_model_name": "HBoxModel",
            "_view_count": null,
            "_view_module": "@jupyter-widgets/controls",
            "_view_module_version": "1.5.0",
            "_view_name": "HBoxView",
            "box_style": "",
            "children": [
              "IPY_MODEL_eb2f1b78d8ca4258887dc24267f4d00b",
              "IPY_MODEL_c0655c8092ac4800bb9e1e6cacf5c5b7",
              "IPY_MODEL_c970808a9fcf4637ab535b8aa973d398"
            ],
            "layout": "IPY_MODEL_a65df56706114e2488ae3001ab8b7d3e"
          }
        },
        "eb2f1b78d8ca4258887dc24267f4d00b": {
          "model_module": "@jupyter-widgets/controls",
          "model_name": "HTMLModel",
          "model_module_version": "1.5.0",
          "state": {
            "_dom_classes": [],
            "_model_module": "@jupyter-widgets/controls",
            "_model_module_version": "1.5.0",
            "_model_name": "HTMLModel",
            "_view_count": null,
            "_view_module": "@jupyter-widgets/controls",
            "_view_module_version": "1.5.0",
            "_view_name": "HTMLView",
            "description": "",
            "description_tooltip": null,
            "layout": "IPY_MODEL_31acc3efcb72493a998fcfb4ad66864c",
            "placeholder": "​",
            "style": "IPY_MODEL_c67968df53e04ac8a379f1c940d22736",
            "value": "model-00002-of-00004.safetensors: 100%"
          }
        },
        "c0655c8092ac4800bb9e1e6cacf5c5b7": {
          "model_module": "@jupyter-widgets/controls",
          "model_name": "FloatProgressModel",
          "model_module_version": "1.5.0",
          "state": {
            "_dom_classes": [],
            "_model_module": "@jupyter-widgets/controls",
            "_model_module_version": "1.5.0",
            "_model_name": "FloatProgressModel",
            "_view_count": null,
            "_view_module": "@jupyter-widgets/controls",
            "_view_module_version": "1.5.0",
            "_view_name": "ProgressView",
            "bar_style": "success",
            "description": "",
            "description_tooltip": null,
            "layout": "IPY_MODEL_1cd3f6e77fcf4065a48997e97d2cd97f",
            "max": 4999802720,
            "min": 0,
            "orientation": "horizontal",
            "style": "IPY_MODEL_9192738156c4488389e6b5ecbe7cce9a",
            "value": 4999802720
          }
        },
        "c970808a9fcf4637ab535b8aa973d398": {
          "model_module": "@jupyter-widgets/controls",
          "model_name": "HTMLModel",
          "model_module_version": "1.5.0",
          "state": {
            "_dom_classes": [],
            "_model_module": "@jupyter-widgets/controls",
            "_model_module_version": "1.5.0",
            "_model_name": "HTMLModel",
            "_view_count": null,
            "_view_module": "@jupyter-widgets/controls",
            "_view_module_version": "1.5.0",
            "_view_name": "HTMLView",
            "description": "",
            "description_tooltip": null,
            "layout": "IPY_MODEL_134b815e49aa461d92b9b46e16d1ddcc",
            "placeholder": "​",
            "style": "IPY_MODEL_7c7d577098b1472f9bb97a50c7edf2a7",
            "value": " 5.00G/5.00G [01:59&lt;00:00, 43.0MB/s]"
          }
        },
        "a65df56706114e2488ae3001ab8b7d3e": {
          "model_module": "@jupyter-widgets/base",
          "model_name": "LayoutModel",
          "model_module_version": "1.2.0",
          "state": {
            "_model_module": "@jupyter-widgets/base",
            "_model_module_version": "1.2.0",
            "_model_name": "LayoutModel",
            "_view_count": null,
            "_view_module": "@jupyter-widgets/base",
            "_view_module_version": "1.2.0",
            "_view_name": "LayoutView",
            "align_content": null,
            "align_items": null,
            "align_self": null,
            "border": null,
            "bottom": null,
            "display": null,
            "flex": null,
            "flex_flow": null,
            "grid_area": null,
            "grid_auto_columns": null,
            "grid_auto_flow": null,
            "grid_auto_rows": null,
            "grid_column": null,
            "grid_gap": null,
            "grid_row": null,
            "grid_template_areas": null,
            "grid_template_columns": null,
            "grid_template_rows": null,
            "height": null,
            "justify_content": null,
            "justify_items": null,
            "left": null,
            "margin": null,
            "max_height": null,
            "max_width": null,
            "min_height": null,
            "min_width": null,
            "object_fit": null,
            "object_position": null,
            "order": null,
            "overflow": null,
            "overflow_x": null,
            "overflow_y": null,
            "padding": null,
            "right": null,
            "top": null,
            "visibility": null,
            "width": null
          }
        },
        "31acc3efcb72493a998fcfb4ad66864c": {
          "model_module": "@jupyter-widgets/base",
          "model_name": "LayoutModel",
          "model_module_version": "1.2.0",
          "state": {
            "_model_module": "@jupyter-widgets/base",
            "_model_module_version": "1.2.0",
            "_model_name": "LayoutModel",
            "_view_count": null,
            "_view_module": "@jupyter-widgets/base",
            "_view_module_version": "1.2.0",
            "_view_name": "LayoutView",
            "align_content": null,
            "align_items": null,
            "align_self": null,
            "border": null,
            "bottom": null,
            "display": null,
            "flex": null,
            "flex_flow": null,
            "grid_area": null,
            "grid_auto_columns": null,
            "grid_auto_flow": null,
            "grid_auto_rows": null,
            "grid_column": null,
            "grid_gap": null,
            "grid_row": null,
            "grid_template_areas": null,
            "grid_template_columns": null,
            "grid_template_rows": null,
            "height": null,
            "justify_content": null,
            "justify_items": null,
            "left": null,
            "margin": null,
            "max_height": null,
            "max_width": null,
            "min_height": null,
            "min_width": null,
            "object_fit": null,
            "object_position": null,
            "order": null,
            "overflow": null,
            "overflow_x": null,
            "overflow_y": null,
            "padding": null,
            "right": null,
            "top": null,
            "visibility": null,
            "width": null
          }
        },
        "c67968df53e04ac8a379f1c940d22736": {
          "model_module": "@jupyter-widgets/controls",
          "model_name": "DescriptionStyleModel",
          "model_module_version": "1.5.0",
          "state": {
            "_model_module": "@jupyter-widgets/controls",
            "_model_module_version": "1.5.0",
            "_model_name": "DescriptionStyleModel",
            "_view_count": null,
            "_view_module": "@jupyter-widgets/base",
            "_view_module_version": "1.2.0",
            "_view_name": "StyleView",
            "description_width": ""
          }
        },
        "1cd3f6e77fcf4065a48997e97d2cd97f": {
          "model_module": "@jupyter-widgets/base",
          "model_name": "LayoutModel",
          "model_module_version": "1.2.0",
          "state": {
            "_model_module": "@jupyter-widgets/base",
            "_model_module_version": "1.2.0",
            "_model_name": "LayoutModel",
            "_view_count": null,
            "_view_module": "@jupyter-widgets/base",
            "_view_module_version": "1.2.0",
            "_view_name": "LayoutView",
            "align_content": null,
            "align_items": null,
            "align_self": null,
            "border": null,
            "bottom": null,
            "display": null,
            "flex": null,
            "flex_flow": null,
            "grid_area": null,
            "grid_auto_columns": null,
            "grid_auto_flow": null,
            "grid_auto_rows": null,
            "grid_column": null,
            "grid_gap": null,
            "grid_row": null,
            "grid_template_areas": null,
            "grid_template_columns": null,
            "grid_template_rows": null,
            "height": null,
            "justify_content": null,
            "justify_items": null,
            "left": null,
            "margin": null,
            "max_height": null,
            "max_width": null,
            "min_height": null,
            "min_width": null,
            "object_fit": null,
            "object_position": null,
            "order": null,
            "overflow": null,
            "overflow_x": null,
            "overflow_y": null,
            "padding": null,
            "right": null,
            "top": null,
            "visibility": null,
            "width": null
          }
        },
        "9192738156c4488389e6b5ecbe7cce9a": {
          "model_module": "@jupyter-widgets/controls",
          "model_name": "ProgressStyleModel",
          "model_module_version": "1.5.0",
          "state": {
            "_model_module": "@jupyter-widgets/controls",
            "_model_module_version": "1.5.0",
            "_model_name": "ProgressStyleModel",
            "_view_count": null,
            "_view_module": "@jupyter-widgets/base",
            "_view_module_version": "1.2.0",
            "_view_name": "StyleView",
            "bar_color": null,
            "description_width": ""
          }
        },
        "134b815e49aa461d92b9b46e16d1ddcc": {
          "model_module": "@jupyter-widgets/base",
          "model_name": "LayoutModel",
          "model_module_version": "1.2.0",
          "state": {
            "_model_module": "@jupyter-widgets/base",
            "_model_module_version": "1.2.0",
            "_model_name": "LayoutModel",
            "_view_count": null,
            "_view_module": "@jupyter-widgets/base",
            "_view_module_version": "1.2.0",
            "_view_name": "LayoutView",
            "align_content": null,
            "align_items": null,
            "align_self": null,
            "border": null,
            "bottom": null,
            "display": null,
            "flex": null,
            "flex_flow": null,
            "grid_area": null,
            "grid_auto_columns": null,
            "grid_auto_flow": null,
            "grid_auto_rows": null,
            "grid_column": null,
            "grid_gap": null,
            "grid_row": null,
            "grid_template_areas": null,
            "grid_template_columns": null,
            "grid_template_rows": null,
            "height": null,
            "justify_content": null,
            "justify_items": null,
            "left": null,
            "margin": null,
            "max_height": null,
            "max_width": null,
            "min_height": null,
            "min_width": null,
            "object_fit": null,
            "object_position": null,
            "order": null,
            "overflow": null,
            "overflow_x": null,
            "overflow_y": null,
            "padding": null,
            "right": null,
            "top": null,
            "visibility": null,
            "width": null
          }
        },
        "7c7d577098b1472f9bb97a50c7edf2a7": {
          "model_module": "@jupyter-widgets/controls",
          "model_name": "DescriptionStyleModel",
          "model_module_version": "1.5.0",
          "state": {
            "_model_module": "@jupyter-widgets/controls",
            "_model_module_version": "1.5.0",
            "_model_name": "DescriptionStyleModel",
            "_view_count": null,
            "_view_module": "@jupyter-widgets/base",
            "_view_module_version": "1.2.0",
            "_view_name": "StyleView",
            "description_width": ""
          }
        },
        "87f9df35592945d989434c6d5b2ed1b2": {
          "model_module": "@jupyter-widgets/controls",
          "model_name": "HBoxModel",
          "model_module_version": "1.5.0",
          "state": {
            "_dom_classes": [],
            "_model_module": "@jupyter-widgets/controls",
            "_model_module_version": "1.5.0",
            "_model_name": "HBoxModel",
            "_view_count": null,
            "_view_module": "@jupyter-widgets/controls",
            "_view_module_version": "1.5.0",
            "_view_name": "HBoxView",
            "box_style": "",
            "children": [
              "IPY_MODEL_4599f69acc874fc2be3fff23cd5364b5",
              "IPY_MODEL_9fda938cfd0447de91b54fde72f98bf4",
              "IPY_MODEL_dc3526cab2054424b63ef35811964c5c"
            ],
            "layout": "IPY_MODEL_84ab5a140b0b43308de0c0dd7a7d014b"
          }
        },
        "4599f69acc874fc2be3fff23cd5364b5": {
          "model_module": "@jupyter-widgets/controls",
          "model_name": "HTMLModel",
          "model_module_version": "1.5.0",
          "state": {
            "_dom_classes": [],
            "_model_module": "@jupyter-widgets/controls",
            "_model_module_version": "1.5.0",
            "_model_name": "HTMLModel",
            "_view_count": null,
            "_view_module": "@jupyter-widgets/controls",
            "_view_module_version": "1.5.0",
            "_view_name": "HTMLView",
            "description": "",
            "description_tooltip": null,
            "layout": "IPY_MODEL_dbba4a32ace54d58b662a821139450bd",
            "placeholder": "​",
            "style": "IPY_MODEL_c9379cae5e9341b2834fff75d03dff3f",
            "value": "model-00003-of-00004.safetensors: 100%"
          }
        },
        "9fda938cfd0447de91b54fde72f98bf4": {
          "model_module": "@jupyter-widgets/controls",
          "model_name": "FloatProgressModel",
          "model_module_version": "1.5.0",
          "state": {
            "_dom_classes": [],
            "_model_module": "@jupyter-widgets/controls",
            "_model_module_version": "1.5.0",
            "_model_name": "FloatProgressModel",
            "_view_count": null,
            "_view_module": "@jupyter-widgets/controls",
            "_view_module_version": "1.5.0",
            "_view_name": "ProgressView",
            "bar_style": "success",
            "description": "",
            "description_tooltip": null,
            "layout": "IPY_MODEL_fcfe69305af84f9f8770baf35c3fba7d",
            "max": 4915916176,
            "min": 0,
            "orientation": "horizontal",
            "style": "IPY_MODEL_92f8637ad66c48e7aff27a3c6eaf4ec4",
            "value": 4915916176
          }
        },
        "dc3526cab2054424b63ef35811964c5c": {
          "model_module": "@jupyter-widgets/controls",
          "model_name": "HTMLModel",
          "model_module_version": "1.5.0",
          "state": {
            "_dom_classes": [],
            "_model_module": "@jupyter-widgets/controls",
            "_model_module_version": "1.5.0",
            "_model_name": "HTMLModel",
            "_view_count": null,
            "_view_module": "@jupyter-widgets/controls",
            "_view_module_version": "1.5.0",
            "_view_name": "HTMLView",
            "description": "",
            "description_tooltip": null,
            "layout": "IPY_MODEL_de8a944982434ece89ab86d40eb4a723",
            "placeholder": "​",
            "style": "IPY_MODEL_0cc8d7ddff7d4152bb2306006c0a4d06",
            "value": " 4.92G/4.92G [01:56&lt;00:00, 42.1MB/s]"
          }
        },
        "84ab5a140b0b43308de0c0dd7a7d014b": {
          "model_module": "@jupyter-widgets/base",
          "model_name": "LayoutModel",
          "model_module_version": "1.2.0",
          "state": {
            "_model_module": "@jupyter-widgets/base",
            "_model_module_version": "1.2.0",
            "_model_name": "LayoutModel",
            "_view_count": null,
            "_view_module": "@jupyter-widgets/base",
            "_view_module_version": "1.2.0",
            "_view_name": "LayoutView",
            "align_content": null,
            "align_items": null,
            "align_self": null,
            "border": null,
            "bottom": null,
            "display": null,
            "flex": null,
            "flex_flow": null,
            "grid_area": null,
            "grid_auto_columns": null,
            "grid_auto_flow": null,
            "grid_auto_rows": null,
            "grid_column": null,
            "grid_gap": null,
            "grid_row": null,
            "grid_template_areas": null,
            "grid_template_columns": null,
            "grid_template_rows": null,
            "height": null,
            "justify_content": null,
            "justify_items": null,
            "left": null,
            "margin": null,
            "max_height": null,
            "max_width": null,
            "min_height": null,
            "min_width": null,
            "object_fit": null,
            "object_position": null,
            "order": null,
            "overflow": null,
            "overflow_x": null,
            "overflow_y": null,
            "padding": null,
            "right": null,
            "top": null,
            "visibility": null,
            "width": null
          }
        },
        "dbba4a32ace54d58b662a821139450bd": {
          "model_module": "@jupyter-widgets/base",
          "model_name": "LayoutModel",
          "model_module_version": "1.2.0",
          "state": {
            "_model_module": "@jupyter-widgets/base",
            "_model_module_version": "1.2.0",
            "_model_name": "LayoutModel",
            "_view_count": null,
            "_view_module": "@jupyter-widgets/base",
            "_view_module_version": "1.2.0",
            "_view_name": "LayoutView",
            "align_content": null,
            "align_items": null,
            "align_self": null,
            "border": null,
            "bottom": null,
            "display": null,
            "flex": null,
            "flex_flow": null,
            "grid_area": null,
            "grid_auto_columns": null,
            "grid_auto_flow": null,
            "grid_auto_rows": null,
            "grid_column": null,
            "grid_gap": null,
            "grid_row": null,
            "grid_template_areas": null,
            "grid_template_columns": null,
            "grid_template_rows": null,
            "height": null,
            "justify_content": null,
            "justify_items": null,
            "left": null,
            "margin": null,
            "max_height": null,
            "max_width": null,
            "min_height": null,
            "min_width": null,
            "object_fit": null,
            "object_position": null,
            "order": null,
            "overflow": null,
            "overflow_x": null,
            "overflow_y": null,
            "padding": null,
            "right": null,
            "top": null,
            "visibility": null,
            "width": null
          }
        },
        "c9379cae5e9341b2834fff75d03dff3f": {
          "model_module": "@jupyter-widgets/controls",
          "model_name": "DescriptionStyleModel",
          "model_module_version": "1.5.0",
          "state": {
            "_model_module": "@jupyter-widgets/controls",
            "_model_module_version": "1.5.0",
            "_model_name": "DescriptionStyleModel",
            "_view_count": null,
            "_view_module": "@jupyter-widgets/base",
            "_view_module_version": "1.2.0",
            "_view_name": "StyleView",
            "description_width": ""
          }
        },
        "fcfe69305af84f9f8770baf35c3fba7d": {
          "model_module": "@jupyter-widgets/base",
          "model_name": "LayoutModel",
          "model_module_version": "1.2.0",
          "state": {
            "_model_module": "@jupyter-widgets/base",
            "_model_module_version": "1.2.0",
            "_model_name": "LayoutModel",
            "_view_count": null,
            "_view_module": "@jupyter-widgets/base",
            "_view_module_version": "1.2.0",
            "_view_name": "LayoutView",
            "align_content": null,
            "align_items": null,
            "align_self": null,
            "border": null,
            "bottom": null,
            "display": null,
            "flex": null,
            "flex_flow": null,
            "grid_area": null,
            "grid_auto_columns": null,
            "grid_auto_flow": null,
            "grid_auto_rows": null,
            "grid_column": null,
            "grid_gap": null,
            "grid_row": null,
            "grid_template_areas": null,
            "grid_template_columns": null,
            "grid_template_rows": null,
            "height": null,
            "justify_content": null,
            "justify_items": null,
            "left": null,
            "margin": null,
            "max_height": null,
            "max_width": null,
            "min_height": null,
            "min_width": null,
            "object_fit": null,
            "object_position": null,
            "order": null,
            "overflow": null,
            "overflow_x": null,
            "overflow_y": null,
            "padding": null,
            "right": null,
            "top": null,
            "visibility": null,
            "width": null
          }
        },
        "92f8637ad66c48e7aff27a3c6eaf4ec4": {
          "model_module": "@jupyter-widgets/controls",
          "model_name": "ProgressStyleModel",
          "model_module_version": "1.5.0",
          "state": {
            "_model_module": "@jupyter-widgets/controls",
            "_model_module_version": "1.5.0",
            "_model_name": "ProgressStyleModel",
            "_view_count": null,
            "_view_module": "@jupyter-widgets/base",
            "_view_module_version": "1.2.0",
            "_view_name": "StyleView",
            "bar_color": null,
            "description_width": ""
          }
        },
        "de8a944982434ece89ab86d40eb4a723": {
          "model_module": "@jupyter-widgets/base",
          "model_name": "LayoutModel",
          "model_module_version": "1.2.0",
          "state": {
            "_model_module": "@jupyter-widgets/base",
            "_model_module_version": "1.2.0",
            "_model_name": "LayoutModel",
            "_view_count": null,
            "_view_module": "@jupyter-widgets/base",
            "_view_module_version": "1.2.0",
            "_view_name": "LayoutView",
            "align_content": null,
            "align_items": null,
            "align_self": null,
            "border": null,
            "bottom": null,
            "display": null,
            "flex": null,
            "flex_flow": null,
            "grid_area": null,
            "grid_auto_columns": null,
            "grid_auto_flow": null,
            "grid_auto_rows": null,
            "grid_column": null,
            "grid_gap": null,
            "grid_row": null,
            "grid_template_areas": null,
            "grid_template_columns": null,
            "grid_template_rows": null,
            "height": null,
            "justify_content": null,
            "justify_items": null,
            "left": null,
            "margin": null,
            "max_height": null,
            "max_width": null,
            "min_height": null,
            "min_width": null,
            "object_fit": null,
            "object_position": null,
            "order": null,
            "overflow": null,
            "overflow_x": null,
            "overflow_y": null,
            "padding": null,
            "right": null,
            "top": null,
            "visibility": null,
            "width": null
          }
        },
        "0cc8d7ddff7d4152bb2306006c0a4d06": {
          "model_module": "@jupyter-widgets/controls",
          "model_name": "DescriptionStyleModel",
          "model_module_version": "1.5.0",
          "state": {
            "_model_module": "@jupyter-widgets/controls",
            "_model_module_version": "1.5.0",
            "_model_name": "DescriptionStyleModel",
            "_view_count": null,
            "_view_module": "@jupyter-widgets/base",
            "_view_module_version": "1.2.0",
            "_view_name": "StyleView",
            "description_width": ""
          }
        },
        "52b2a3ec59bd48c0898dce0b1dfa8c5d": {
          "model_module": "@jupyter-widgets/controls",
          "model_name": "HBoxModel",
          "model_module_version": "1.5.0",
          "state": {
            "_dom_classes": [],
            "_model_module": "@jupyter-widgets/controls",
            "_model_module_version": "1.5.0",
            "_model_name": "HBoxModel",
            "_view_count": null,
            "_view_module": "@jupyter-widgets/controls",
            "_view_module_version": "1.5.0",
            "_view_name": "HBoxView",
            "box_style": "",
            "children": [
              "IPY_MODEL_2a27b7de100d4a889b365f81087607ab",
              "IPY_MODEL_9b80148bb9d647e2a3c69ac309c6527c",
              "IPY_MODEL_2689ef229adb4f14b92a47082de10b45"
            ],
            "layout": "IPY_MODEL_6dea83d1d5254dd6baaef1f35a52e239"
          }
        },
        "2a27b7de100d4a889b365f81087607ab": {
          "model_module": "@jupyter-widgets/controls",
          "model_name": "HTMLModel",
          "model_module_version": "1.5.0",
          "state": {
            "_dom_classes": [],
            "_model_module": "@jupyter-widgets/controls",
            "_model_module_version": "1.5.0",
            "_model_name": "HTMLModel",
            "_view_count": null,
            "_view_module": "@jupyter-widgets/controls",
            "_view_module_version": "1.5.0",
            "_view_name": "HTMLView",
            "description": "",
            "description_tooltip": null,
            "layout": "IPY_MODEL_1262a08d5f8b49b89548ba2e7486fbf2",
            "placeholder": "​",
            "style": "IPY_MODEL_fe55a4bc02334cf2a4477cbd782cd88a",
            "value": "model-00004-of-00004.safetensors: 100%"
          }
        },
        "9b80148bb9d647e2a3c69ac309c6527c": {
          "model_module": "@jupyter-widgets/controls",
          "model_name": "FloatProgressModel",
          "model_module_version": "1.5.0",
          "state": {
            "_dom_classes": [],
            "_model_module": "@jupyter-widgets/controls",
            "_model_module_version": "1.5.0",
            "_model_name": "FloatProgressModel",
            "_view_count": null,
            "_view_module": "@jupyter-widgets/controls",
            "_view_module_version": "1.5.0",
            "_view_name": "ProgressView",
            "bar_style": "success",
            "description": "",
            "description_tooltip": null,
            "layout": "IPY_MODEL_0879e0717ddd4f138e9d6749e7076cc3",
            "max": 1168138808,
            "min": 0,
            "orientation": "horizontal",
            "style": "IPY_MODEL_0fd9762cdd384a6abe2aec9da30f1aa5",
            "value": 1168138808
          }
        },
        "2689ef229adb4f14b92a47082de10b45": {
          "model_module": "@jupyter-widgets/controls",
          "model_name": "HTMLModel",
          "model_module_version": "1.5.0",
          "state": {
            "_dom_classes": [],
            "_model_module": "@jupyter-widgets/controls",
            "_model_module_version": "1.5.0",
            "_model_name": "HTMLModel",
            "_view_count": null,
            "_view_module": "@jupyter-widgets/controls",
            "_view_module_version": "1.5.0",
            "_view_name": "HTMLView",
            "description": "",
            "description_tooltip": null,
            "layout": "IPY_MODEL_f9298867baf2428f9d3bf4706fb002cf",
            "placeholder": "​",
            "style": "IPY_MODEL_c6f3d32c5c2340e9b13e2a131c342da7",
            "value": " 1.17G/1.17G [00:27&lt;00:00, 42.7MB/s]"
          }
        },
        "6dea83d1d5254dd6baaef1f35a52e239": {
          "model_module": "@jupyter-widgets/base",
          "model_name": "LayoutModel",
          "model_module_version": "1.2.0",
          "state": {
            "_model_module": "@jupyter-widgets/base",
            "_model_module_version": "1.2.0",
            "_model_name": "LayoutModel",
            "_view_count": null,
            "_view_module": "@jupyter-widgets/base",
            "_view_module_version": "1.2.0",
            "_view_name": "LayoutView",
            "align_content": null,
            "align_items": null,
            "align_self": null,
            "border": null,
            "bottom": null,
            "display": null,
            "flex": null,
            "flex_flow": null,
            "grid_area": null,
            "grid_auto_columns": null,
            "grid_auto_flow": null,
            "grid_auto_rows": null,
            "grid_column": null,
            "grid_gap": null,
            "grid_row": null,
            "grid_template_areas": null,
            "grid_template_columns": null,
            "grid_template_rows": null,
            "height": null,
            "justify_content": null,
            "justify_items": null,
            "left": null,
            "margin": null,
            "max_height": null,
            "max_width": null,
            "min_height": null,
            "min_width": null,
            "object_fit": null,
            "object_position": null,
            "order": null,
            "overflow": null,
            "overflow_x": null,
            "overflow_y": null,
            "padding": null,
            "right": null,
            "top": null,
            "visibility": null,
            "width": null
          }
        },
        "1262a08d5f8b49b89548ba2e7486fbf2": {
          "model_module": "@jupyter-widgets/base",
          "model_name": "LayoutModel",
          "model_module_version": "1.2.0",
          "state": {
            "_model_module": "@jupyter-widgets/base",
            "_model_module_version": "1.2.0",
            "_model_name": "LayoutModel",
            "_view_count": null,
            "_view_module": "@jupyter-widgets/base",
            "_view_module_version": "1.2.0",
            "_view_name": "LayoutView",
            "align_content": null,
            "align_items": null,
            "align_self": null,
            "border": null,
            "bottom": null,
            "display": null,
            "flex": null,
            "flex_flow": null,
            "grid_area": null,
            "grid_auto_columns": null,
            "grid_auto_flow": null,
            "grid_auto_rows": null,
            "grid_column": null,
            "grid_gap": null,
            "grid_row": null,
            "grid_template_areas": null,
            "grid_template_columns": null,
            "grid_template_rows": null,
            "height": null,
            "justify_content": null,
            "justify_items": null,
            "left": null,
            "margin": null,
            "max_height": null,
            "max_width": null,
            "min_height": null,
            "min_width": null,
            "object_fit": null,
            "object_position": null,
            "order": null,
            "overflow": null,
            "overflow_x": null,
            "overflow_y": null,
            "padding": null,
            "right": null,
            "top": null,
            "visibility": null,
            "width": null
          }
        },
        "fe55a4bc02334cf2a4477cbd782cd88a": {
          "model_module": "@jupyter-widgets/controls",
          "model_name": "DescriptionStyleModel",
          "model_module_version": "1.5.0",
          "state": {
            "_model_module": "@jupyter-widgets/controls",
            "_model_module_version": "1.5.0",
            "_model_name": "DescriptionStyleModel",
            "_view_count": null,
            "_view_module": "@jupyter-widgets/base",
            "_view_module_version": "1.2.0",
            "_view_name": "StyleView",
            "description_width": ""
          }
        },
        "0879e0717ddd4f138e9d6749e7076cc3": {
          "model_module": "@jupyter-widgets/base",
          "model_name": "LayoutModel",
          "model_module_version": "1.2.0",
          "state": {
            "_model_module": "@jupyter-widgets/base",
            "_model_module_version": "1.2.0",
            "_model_name": "LayoutModel",
            "_view_count": null,
            "_view_module": "@jupyter-widgets/base",
            "_view_module_version": "1.2.0",
            "_view_name": "LayoutView",
            "align_content": null,
            "align_items": null,
            "align_self": null,
            "border": null,
            "bottom": null,
            "display": null,
            "flex": null,
            "flex_flow": null,
            "grid_area": null,
            "grid_auto_columns": null,
            "grid_auto_flow": null,
            "grid_auto_rows": null,
            "grid_column": null,
            "grid_gap": null,
            "grid_row": null,
            "grid_template_areas": null,
            "grid_template_columns": null,
            "grid_template_rows": null,
            "height": null,
            "justify_content": null,
            "justify_items": null,
            "left": null,
            "margin": null,
            "max_height": null,
            "max_width": null,
            "min_height": null,
            "min_width": null,
            "object_fit": null,
            "object_position": null,
            "order": null,
            "overflow": null,
            "overflow_x": null,
            "overflow_y": null,
            "padding": null,
            "right": null,
            "top": null,
            "visibility": null,
            "width": null
          }
        },
        "0fd9762cdd384a6abe2aec9da30f1aa5": {
          "model_module": "@jupyter-widgets/controls",
          "model_name": "ProgressStyleModel",
          "model_module_version": "1.5.0",
          "state": {
            "_model_module": "@jupyter-widgets/controls",
            "_model_module_version": "1.5.0",
            "_model_name": "ProgressStyleModel",
            "_view_count": null,
            "_view_module": "@jupyter-widgets/base",
            "_view_module_version": "1.2.0",
            "_view_name": "StyleView",
            "bar_color": null,
            "description_width": ""
          }
        },
        "f9298867baf2428f9d3bf4706fb002cf": {
          "model_module": "@jupyter-widgets/base",
          "model_name": "LayoutModel",
          "model_module_version": "1.2.0",
          "state": {
            "_model_module": "@jupyter-widgets/base",
            "_model_module_version": "1.2.0",
            "_model_name": "LayoutModel",
            "_view_count": null,
            "_view_module": "@jupyter-widgets/base",
            "_view_module_version": "1.2.0",
            "_view_name": "LayoutView",
            "align_content": null,
            "align_items": null,
            "align_self": null,
            "border": null,
            "bottom": null,
            "display": null,
            "flex": null,
            "flex_flow": null,
            "grid_area": null,
            "grid_auto_columns": null,
            "grid_auto_flow": null,
            "grid_auto_rows": null,
            "grid_column": null,
            "grid_gap": null,
            "grid_row": null,
            "grid_template_areas": null,
            "grid_template_columns": null,
            "grid_template_rows": null,
            "height": null,
            "justify_content": null,
            "justify_items": null,
            "left": null,
            "margin": null,
            "max_height": null,
            "max_width": null,
            "min_height": null,
            "min_width": null,
            "object_fit": null,
            "object_position": null,
            "order": null,
            "overflow": null,
            "overflow_x": null,
            "overflow_y": null,
            "padding": null,
            "right": null,
            "top": null,
            "visibility": null,
            "width": null
          }
        },
        "c6f3d32c5c2340e9b13e2a131c342da7": {
          "model_module": "@jupyter-widgets/controls",
          "model_name": "DescriptionStyleModel",
          "model_module_version": "1.5.0",
          "state": {
            "_model_module": "@jupyter-widgets/controls",
            "_model_module_version": "1.5.0",
            "_model_name": "DescriptionStyleModel",
            "_view_count": null,
            "_view_module": "@jupyter-widgets/base",
            "_view_module_version": "1.2.0",
            "_view_name": "StyleView",
            "description_width": ""
          }
        },
        "f1af6a8928a246a9976871047184dfb1": {
          "model_module": "@jupyter-widgets/controls",
          "model_name": "HBoxModel",
          "model_module_version": "1.5.0",
          "state": {
            "_dom_classes": [],
            "_model_module": "@jupyter-widgets/controls",
            "_model_module_version": "1.5.0",
            "_model_name": "HBoxModel",
            "_view_count": null,
            "_view_module": "@jupyter-widgets/controls",
            "_view_module_version": "1.5.0",
            "_view_name": "HBoxView",
            "box_style": "",
            "children": [
              "IPY_MODEL_1b938922e5f24cbfb587b487935612c1",
              "IPY_MODEL_a14a2425ef7b45d2b5d4f5e041f82505",
              "IPY_MODEL_993a144e5376437393cfd78a42416d34"
            ],
            "layout": "IPY_MODEL_1d29099c51aa4dd1891f4b7148e24c16"
          }
        },
        "1b938922e5f24cbfb587b487935612c1": {
          "model_module": "@jupyter-widgets/controls",
          "model_name": "HTMLModel",
          "model_module_version": "1.5.0",
          "state": {
            "_dom_classes": [],
            "_model_module": "@jupyter-widgets/controls",
            "_model_module_version": "1.5.0",
            "_model_name": "HTMLModel",
            "_view_count": null,
            "_view_module": "@jupyter-widgets/controls",
            "_view_module_version": "1.5.0",
            "_view_name": "HTMLView",
            "description": "",
            "description_tooltip": null,
            "layout": "IPY_MODEL_481ecdc970d1472880a2275a46d6f7ec",
            "placeholder": "​",
            "style": "IPY_MODEL_9a7814f724ea4db69b865993e5231dd3",
            "value": "Loading checkpoint shards: 100%"
          }
        },
        "a14a2425ef7b45d2b5d4f5e041f82505": {
          "model_module": "@jupyter-widgets/controls",
          "model_name": "FloatProgressModel",
          "model_module_version": "1.5.0",
          "state": {
            "_dom_classes": [],
            "_model_module": "@jupyter-widgets/controls",
            "_model_module_version": "1.5.0",
            "_model_name": "FloatProgressModel",
            "_view_count": null,
            "_view_module": "@jupyter-widgets/controls",
            "_view_module_version": "1.5.0",
            "_view_name": "ProgressView",
            "bar_style": "success",
            "description": "",
            "description_tooltip": null,
            "layout": "IPY_MODEL_34a8a863fbb64bfdbfc2aafe99d9a9c2",
            "max": 4,
            "min": 0,
            "orientation": "horizontal",
            "style": "IPY_MODEL_91f4ebc839ac4e0daf6e72f23ee71e9e",
            "value": 4
          }
        },
        "993a144e5376437393cfd78a42416d34": {
          "model_module": "@jupyter-widgets/controls",
          "model_name": "HTMLModel",
          "model_module_version": "1.5.0",
          "state": {
            "_dom_classes": [],
            "_model_module": "@jupyter-widgets/controls",
            "_model_module_version": "1.5.0",
            "_model_name": "HTMLModel",
            "_view_count": null,
            "_view_module": "@jupyter-widgets/controls",
            "_view_module_version": "1.5.0",
            "_view_name": "HTMLView",
            "description": "",
            "description_tooltip": null,
            "layout": "IPY_MODEL_5f5f209bee194acea1e8aceb38c8242e",
            "placeholder": "​",
            "style": "IPY_MODEL_383b34778946473fba9d091904e8da55",
            "value": " 4/4 [01:23&lt;00:00, 17.93s/it]"
          }
        },
        "1d29099c51aa4dd1891f4b7148e24c16": {
          "model_module": "@jupyter-widgets/base",
          "model_name": "LayoutModel",
          "model_module_version": "1.2.0",
          "state": {
            "_model_module": "@jupyter-widgets/base",
            "_model_module_version": "1.2.0",
            "_model_name": "LayoutModel",
            "_view_count": null,
            "_view_module": "@jupyter-widgets/base",
            "_view_module_version": "1.2.0",
            "_view_name": "LayoutView",
            "align_content": null,
            "align_items": null,
            "align_self": null,
            "border": null,
            "bottom": null,
            "display": null,
            "flex": null,
            "flex_flow": null,
            "grid_area": null,
            "grid_auto_columns": null,
            "grid_auto_flow": null,
            "grid_auto_rows": null,
            "grid_column": null,
            "grid_gap": null,
            "grid_row": null,
            "grid_template_areas": null,
            "grid_template_columns": null,
            "grid_template_rows": null,
            "height": null,
            "justify_content": null,
            "justify_items": null,
            "left": null,
            "margin": null,
            "max_height": null,
            "max_width": null,
            "min_height": null,
            "min_width": null,
            "object_fit": null,
            "object_position": null,
            "order": null,
            "overflow": null,
            "overflow_x": null,
            "overflow_y": null,
            "padding": null,
            "right": null,
            "top": null,
            "visibility": null,
            "width": null
          }
        },
        "481ecdc970d1472880a2275a46d6f7ec": {
          "model_module": "@jupyter-widgets/base",
          "model_name": "LayoutModel",
          "model_module_version": "1.2.0",
          "state": {
            "_model_module": "@jupyter-widgets/base",
            "_model_module_version": "1.2.0",
            "_model_name": "LayoutModel",
            "_view_count": null,
            "_view_module": "@jupyter-widgets/base",
            "_view_module_version": "1.2.0",
            "_view_name": "LayoutView",
            "align_content": null,
            "align_items": null,
            "align_self": null,
            "border": null,
            "bottom": null,
            "display": null,
            "flex": null,
            "flex_flow": null,
            "grid_area": null,
            "grid_auto_columns": null,
            "grid_auto_flow": null,
            "grid_auto_rows": null,
            "grid_column": null,
            "grid_gap": null,
            "grid_row": null,
            "grid_template_areas": null,
            "grid_template_columns": null,
            "grid_template_rows": null,
            "height": null,
            "justify_content": null,
            "justify_items": null,
            "left": null,
            "margin": null,
            "max_height": null,
            "max_width": null,
            "min_height": null,
            "min_width": null,
            "object_fit": null,
            "object_position": null,
            "order": null,
            "overflow": null,
            "overflow_x": null,
            "overflow_y": null,
            "padding": null,
            "right": null,
            "top": null,
            "visibility": null,
            "width": null
          }
        },
        "9a7814f724ea4db69b865993e5231dd3": {
          "model_module": "@jupyter-widgets/controls",
          "model_name": "DescriptionStyleModel",
          "model_module_version": "1.5.0",
          "state": {
            "_model_module": "@jupyter-widgets/controls",
            "_model_module_version": "1.5.0",
            "_model_name": "DescriptionStyleModel",
            "_view_count": null,
            "_view_module": "@jupyter-widgets/base",
            "_view_module_version": "1.2.0",
            "_view_name": "StyleView",
            "description_width": ""
          }
        },
        "34a8a863fbb64bfdbfc2aafe99d9a9c2": {
          "model_module": "@jupyter-widgets/base",
          "model_name": "LayoutModel",
          "model_module_version": "1.2.0",
          "state": {
            "_model_module": "@jupyter-widgets/base",
            "_model_module_version": "1.2.0",
            "_model_name": "LayoutModel",
            "_view_count": null,
            "_view_module": "@jupyter-widgets/base",
            "_view_module_version": "1.2.0",
            "_view_name": "LayoutView",
            "align_content": null,
            "align_items": null,
            "align_self": null,
            "border": null,
            "bottom": null,
            "display": null,
            "flex": null,
            "flex_flow": null,
            "grid_area": null,
            "grid_auto_columns": null,
            "grid_auto_flow": null,
            "grid_auto_rows": null,
            "grid_column": null,
            "grid_gap": null,
            "grid_row": null,
            "grid_template_areas": null,
            "grid_template_columns": null,
            "grid_template_rows": null,
            "height": null,
            "justify_content": null,
            "justify_items": null,
            "left": null,
            "margin": null,
            "max_height": null,
            "max_width": null,
            "min_height": null,
            "min_width": null,
            "object_fit": null,
            "object_position": null,
            "order": null,
            "overflow": null,
            "overflow_x": null,
            "overflow_y": null,
            "padding": null,
            "right": null,
            "top": null,
            "visibility": null,
            "width": null
          }
        },
        "91f4ebc839ac4e0daf6e72f23ee71e9e": {
          "model_module": "@jupyter-widgets/controls",
          "model_name": "ProgressStyleModel",
          "model_module_version": "1.5.0",
          "state": {
            "_model_module": "@jupyter-widgets/controls",
            "_model_module_version": "1.5.0",
            "_model_name": "ProgressStyleModel",
            "_view_count": null,
            "_view_module": "@jupyter-widgets/base",
            "_view_module_version": "1.2.0",
            "_view_name": "StyleView",
            "bar_color": null,
            "description_width": ""
          }
        },
        "5f5f209bee194acea1e8aceb38c8242e": {
          "model_module": "@jupyter-widgets/base",
          "model_name": "LayoutModel",
          "model_module_version": "1.2.0",
          "state": {
            "_model_module": "@jupyter-widgets/base",
            "_model_module_version": "1.2.0",
            "_model_name": "LayoutModel",
            "_view_count": null,
            "_view_module": "@jupyter-widgets/base",
            "_view_module_version": "1.2.0",
            "_view_name": "LayoutView",
            "align_content": null,
            "align_items": null,
            "align_self": null,
            "border": null,
            "bottom": null,
            "display": null,
            "flex": null,
            "flex_flow": null,
            "grid_area": null,
            "grid_auto_columns": null,
            "grid_auto_flow": null,
            "grid_auto_rows": null,
            "grid_column": null,
            "grid_gap": null,
            "grid_row": null,
            "grid_template_areas": null,
            "grid_template_columns": null,
            "grid_template_rows": null,
            "height": null,
            "justify_content": null,
            "justify_items": null,
            "left": null,
            "margin": null,
            "max_height": null,
            "max_width": null,
            "min_height": null,
            "min_width": null,
            "object_fit": null,
            "object_position": null,
            "order": null,
            "overflow": null,
            "overflow_x": null,
            "overflow_y": null,
            "padding": null,
            "right": null,
            "top": null,
            "visibility": null,
            "width": null
          }
        },
        "383b34778946473fba9d091904e8da55": {
          "model_module": "@jupyter-widgets/controls",
          "model_name": "DescriptionStyleModel",
          "model_module_version": "1.5.0",
          "state": {
            "_model_module": "@jupyter-widgets/controls",
            "_model_module_version": "1.5.0",
            "_model_name": "DescriptionStyleModel",
            "_view_count": null,
            "_view_module": "@jupyter-widgets/base",
            "_view_module_version": "1.2.0",
            "_view_name": "StyleView",
            "description_width": ""
          }
        },
        "828e0b48826b426593121dbd60e363a1": {
          "model_module": "@jupyter-widgets/controls",
          "model_name": "HBoxModel",
          "model_module_version": "1.5.0",
          "state": {
            "_dom_classes": [],
            "_model_module": "@jupyter-widgets/controls",
            "_model_module_version": "1.5.0",
            "_model_name": "HBoxModel",
            "_view_count": null,
            "_view_module": "@jupyter-widgets/controls",
            "_view_module_version": "1.5.0",
            "_view_name": "HBoxView",
            "box_style": "",
            "children": [
              "IPY_MODEL_9ec1fdf17e944aed9e1cd1f349bd931b",
              "IPY_MODEL_73f0d460d7c3489192a438762fa17735",
              "IPY_MODEL_6f9f990add8c4557ab6758253a5e49ec"
            ],
            "layout": "IPY_MODEL_a1bc0bfa6e4c46df9eba9e56bb89af41"
          }
        },
        "9ec1fdf17e944aed9e1cd1f349bd931b": {
          "model_module": "@jupyter-widgets/controls",
          "model_name": "HTMLModel",
          "model_module_version": "1.5.0",
          "state": {
            "_dom_classes": [],
            "_model_module": "@jupyter-widgets/controls",
            "_model_module_version": "1.5.0",
            "_model_name": "HTMLModel",
            "_view_count": null,
            "_view_module": "@jupyter-widgets/controls",
            "_view_module_version": "1.5.0",
            "_view_name": "HTMLView",
            "description": "",
            "description_tooltip": null,
            "layout": "IPY_MODEL_822ab65568e8446dbfad46b8ec08babc",
            "placeholder": "​",
            "style": "IPY_MODEL_cd520afc61794372b4f6f3a57971f8d0",
            "value": "generation_config.json: 100%"
          }
        },
        "73f0d460d7c3489192a438762fa17735": {
          "model_module": "@jupyter-widgets/controls",
          "model_name": "FloatProgressModel",
          "model_module_version": "1.5.0",
          "state": {
            "_dom_classes": [],
            "_model_module": "@jupyter-widgets/controls",
            "_model_module_version": "1.5.0",
            "_model_name": "FloatProgressModel",
            "_view_count": null,
            "_view_module": "@jupyter-widgets/controls",
            "_view_module_version": "1.5.0",
            "_view_name": "ProgressView",
            "bar_style": "success",
            "description": "",
            "description_tooltip": null,
            "layout": "IPY_MODEL_fd56ad55f0bf4cabbd41b4d8d983cafa",
            "max": 177,
            "min": 0,
            "orientation": "horizontal",
            "style": "IPY_MODEL_eb3e7613662a41afb12b9a3330b91a23",
            "value": 177
          }
        },
        "6f9f990add8c4557ab6758253a5e49ec": {
          "model_module": "@jupyter-widgets/controls",
          "model_name": "HTMLModel",
          "model_module_version": "1.5.0",
          "state": {
            "_dom_classes": [],
            "_model_module": "@jupyter-widgets/controls",
            "_model_module_version": "1.5.0",
            "_model_name": "HTMLModel",
            "_view_count": null,
            "_view_module": "@jupyter-widgets/controls",
            "_view_module_version": "1.5.0",
            "_view_name": "HTMLView",
            "description": "",
            "description_tooltip": null,
            "layout": "IPY_MODEL_33393e821487492683aa8c1dce02c728",
            "placeholder": "​",
            "style": "IPY_MODEL_6a3f93ecec5446e980e61fb60e4b8355",
            "value": " 177/177 [00:00&lt;00:00, 7.50kB/s]"
          }
        },
        "a1bc0bfa6e4c46df9eba9e56bb89af41": {
          "model_module": "@jupyter-widgets/base",
          "model_name": "LayoutModel",
          "model_module_version": "1.2.0",
          "state": {
            "_model_module": "@jupyter-widgets/base",
            "_model_module_version": "1.2.0",
            "_model_name": "LayoutModel",
            "_view_count": null,
            "_view_module": "@jupyter-widgets/base",
            "_view_module_version": "1.2.0",
            "_view_name": "LayoutView",
            "align_content": null,
            "align_items": null,
            "align_self": null,
            "border": null,
            "bottom": null,
            "display": null,
            "flex": null,
            "flex_flow": null,
            "grid_area": null,
            "grid_auto_columns": null,
            "grid_auto_flow": null,
            "grid_auto_rows": null,
            "grid_column": null,
            "grid_gap": null,
            "grid_row": null,
            "grid_template_areas": null,
            "grid_template_columns": null,
            "grid_template_rows": null,
            "height": null,
            "justify_content": null,
            "justify_items": null,
            "left": null,
            "margin": null,
            "max_height": null,
            "max_width": null,
            "min_height": null,
            "min_width": null,
            "object_fit": null,
            "object_position": null,
            "order": null,
            "overflow": null,
            "overflow_x": null,
            "overflow_y": null,
            "padding": null,
            "right": null,
            "top": null,
            "visibility": null,
            "width": null
          }
        },
        "822ab65568e8446dbfad46b8ec08babc": {
          "model_module": "@jupyter-widgets/base",
          "model_name": "LayoutModel",
          "model_module_version": "1.2.0",
          "state": {
            "_model_module": "@jupyter-widgets/base",
            "_model_module_version": "1.2.0",
            "_model_name": "LayoutModel",
            "_view_count": null,
            "_view_module": "@jupyter-widgets/base",
            "_view_module_version": "1.2.0",
            "_view_name": "LayoutView",
            "align_content": null,
            "align_items": null,
            "align_self": null,
            "border": null,
            "bottom": null,
            "display": null,
            "flex": null,
            "flex_flow": null,
            "grid_area": null,
            "grid_auto_columns": null,
            "grid_auto_flow": null,
            "grid_auto_rows": null,
            "grid_column": null,
            "grid_gap": null,
            "grid_row": null,
            "grid_template_areas": null,
            "grid_template_columns": null,
            "grid_template_rows": null,
            "height": null,
            "justify_content": null,
            "justify_items": null,
            "left": null,
            "margin": null,
            "max_height": null,
            "max_width": null,
            "min_height": null,
            "min_width": null,
            "object_fit": null,
            "object_position": null,
            "order": null,
            "overflow": null,
            "overflow_x": null,
            "overflow_y": null,
            "padding": null,
            "right": null,
            "top": null,
            "visibility": null,
            "width": null
          }
        },
        "cd520afc61794372b4f6f3a57971f8d0": {
          "model_module": "@jupyter-widgets/controls",
          "model_name": "DescriptionStyleModel",
          "model_module_version": "1.5.0",
          "state": {
            "_model_module": "@jupyter-widgets/controls",
            "_model_module_version": "1.5.0",
            "_model_name": "DescriptionStyleModel",
            "_view_count": null,
            "_view_module": "@jupyter-widgets/base",
            "_view_module_version": "1.2.0",
            "_view_name": "StyleView",
            "description_width": ""
          }
        },
        "fd56ad55f0bf4cabbd41b4d8d983cafa": {
          "model_module": "@jupyter-widgets/base",
          "model_name": "LayoutModel",
          "model_module_version": "1.2.0",
          "state": {
            "_model_module": "@jupyter-widgets/base",
            "_model_module_version": "1.2.0",
            "_model_name": "LayoutModel",
            "_view_count": null,
            "_view_module": "@jupyter-widgets/base",
            "_view_module_version": "1.2.0",
            "_view_name": "LayoutView",
            "align_content": null,
            "align_items": null,
            "align_self": null,
            "border": null,
            "bottom": null,
            "display": null,
            "flex": null,
            "flex_flow": null,
            "grid_area": null,
            "grid_auto_columns": null,
            "grid_auto_flow": null,
            "grid_auto_rows": null,
            "grid_column": null,
            "grid_gap": null,
            "grid_row": null,
            "grid_template_areas": null,
            "grid_template_columns": null,
            "grid_template_rows": null,
            "height": null,
            "justify_content": null,
            "justify_items": null,
            "left": null,
            "margin": null,
            "max_height": null,
            "max_width": null,
            "min_height": null,
            "min_width": null,
            "object_fit": null,
            "object_position": null,
            "order": null,
            "overflow": null,
            "overflow_x": null,
            "overflow_y": null,
            "padding": null,
            "right": null,
            "top": null,
            "visibility": null,
            "width": null
          }
        },
        "eb3e7613662a41afb12b9a3330b91a23": {
          "model_module": "@jupyter-widgets/controls",
          "model_name": "ProgressStyleModel",
          "model_module_version": "1.5.0",
          "state": {
            "_model_module": "@jupyter-widgets/controls",
            "_model_module_version": "1.5.0",
            "_model_name": "ProgressStyleModel",
            "_view_count": null,
            "_view_module": "@jupyter-widgets/base",
            "_view_module_version": "1.2.0",
            "_view_name": "StyleView",
            "bar_color": null,
            "description_width": ""
          }
        },
        "33393e821487492683aa8c1dce02c728": {
          "model_module": "@jupyter-widgets/base",
          "model_name": "LayoutModel",
          "model_module_version": "1.2.0",
          "state": {
            "_model_module": "@jupyter-widgets/base",
            "_model_module_version": "1.2.0",
            "_model_name": "LayoutModel",
            "_view_count": null,
            "_view_module": "@jupyter-widgets/base",
            "_view_module_version": "1.2.0",
            "_view_name": "LayoutView",
            "align_content": null,
            "align_items": null,
            "align_self": null,
            "border": null,
            "bottom": null,
            "display": null,
            "flex": null,
            "flex_flow": null,
            "grid_area": null,
            "grid_auto_columns": null,
            "grid_auto_flow": null,
            "grid_auto_rows": null,
            "grid_column": null,
            "grid_gap": null,
            "grid_row": null,
            "grid_template_areas": null,
            "grid_template_columns": null,
            "grid_template_rows": null,
            "height": null,
            "justify_content": null,
            "justify_items": null,
            "left": null,
            "margin": null,
            "max_height": null,
            "max_width": null,
            "min_height": null,
            "min_width": null,
            "object_fit": null,
            "object_position": null,
            "order": null,
            "overflow": null,
            "overflow_x": null,
            "overflow_y": null,
            "padding": null,
            "right": null,
            "top": null,
            "visibility": null,
            "width": null
          }
        },
        "6a3f93ecec5446e980e61fb60e4b8355": {
          "model_module": "@jupyter-widgets/controls",
          "model_name": "DescriptionStyleModel",
          "model_module_version": "1.5.0",
          "state": {
            "_model_module": "@jupyter-widgets/controls",
            "_model_module_version": "1.5.0",
            "_model_name": "DescriptionStyleModel",
            "_view_count": null,
            "_view_module": "@jupyter-widgets/base",
            "_view_module_version": "1.2.0",
            "_view_name": "StyleView",
            "description_width": ""
          }
        }
      }
    }
  },
  "cells": [
    {
      "cell_type": "markdown",
      "metadata": {
        "id": "view-in-github",
        "colab_type": "text"
      },
      "source": [
        "<a href=\"https://colab.research.google.com/github/Deminalla/Kursinis/blob/main/fta.ipynb\" target=\"_parent\"><img src=\"https://colab.research.google.com/assets/colab-badge.svg\" alt=\"Open In Colab\"/></a>"
      ]
    },
    {
      "cell_type": "code",
      "source": [
        "!pip install pandas\n",
        "!pip install scikit-learn\n",
        "\n",
        "!pip install bitsandbytes\n",
        "!pip install accelerate"
      ],
      "metadata": {
        "id": "0CQEijbowISJ"
      },
      "execution_count": null,
      "outputs": []
    },
    {
      "cell_type": "code",
      "source": [
        "import warnings\n",
        "warnings.filterwarnings(\"ignore\")"
      ],
      "metadata": {
        "id": "VjZt2co5JUI1"
      },
      "execution_count": null,
      "outputs": []
    },
    {
      "cell_type": "code",
      "source": [
        "# ekperimentas 1\n",
        "# llama3 modelis geras lietuviu kalbai\n",
        "# suskaiciuoti tikslumas, darant klasifikacija\n",
        "# use prompts/instrukcija\n",
        "https://www.kaggle.com/code/lucamassaron/fine-tune-llama-3-for-sentiment-analysis\n",
        "# modelio pacio nekeiciam ir nemokinam, tsg jam duodam duomenis ir jis klasifikuoja kaip moka\n",
        "\n",
        "# ekperimentas 2\n",
        "# transfer learning arba fine-tuning\n",
        "https://huggingface.co/docs/transformers/tasks/sequence_classification\n",
        "# cia vyks mokymas\n",
        "\n",
        "# galesim palygint situos 2 atvejus ir palygint ju statistikas, pvz tikslumas, F1 ir t.t.\n",
        "\n",
        "# ekperimentas 3\n",
        "# gebetu identifikuot kur yra konkretus fta pastraipoje\n",
        "# rodyti indeksus kur prasidejo ir baigesi, jeigu nfta tai 0, 0\n",
        "# reiks keist exceli, kad rodyt pradzios intervala ir pabaigos\n",
        "\n",
        "# ekperimentas 4\n",
        "# naudot lietuviska llama2 kuris jau pamokytas lietuviu kalbai\n",
        "# ..."
      ],
      "metadata": {
        "id": "P2xgMbbXizew"
      },
      "execution_count": null,
      "outputs": []
    },
    {
      "cell_type": "code",
      "source": [
        "import requests\n",
        "\n",
        "url = 'https://github.com/Deminalla/Kursinis/blob/main/FTA_dataset.xlsx'\n",
        "response = requests.get(url)\n",
        "\n",
        "with open('FTA_dataset.xlsx', 'wb') as f:\n",
        "    f.write(response.content)"
      ],
      "metadata": {
        "id": "52q6fWvVImnX"
      },
      "execution_count": 6,
      "outputs": []
    },
    {
      "cell_type": "code",
      "execution_count": 1,
      "metadata": {
        "id": "H-u4uI7Cn1s3"
      },
      "outputs": [],
      "source": [
        "import pandas as pd\n",
        "import torch\n",
        "from sklearn.model_selection import train_test_split\n",
        "\n",
        "file_path = 'FTA_dataset.xlsx'\n",
        "sheet1 = pd.read_excel(file_path, sheet_name='FTA', header=None)\n",
        "sheet2 = pd.read_excel(file_path, sheet_name='NFTA', header=None)\n",
        "\n",
        "sheet1.columns = ['paragraph']\n",
        "sheet2.columns = ['paragraph']\n",
        "sheet1['fta'] = 1\n",
        "sheet2['fta'] = 0\n",
        "\n",
        "data = pd.concat([sheet1, sheet2], ignore_index=True)\n",
        "\n",
        "# Shuffle the data\n",
        "# sample() - randomly select data\n",
        "# frac=1 - select 100% of data\n",
        "# After shuffling, the original index of the DataFrame is no longer in order\n",
        "# reset_index(drop=True) is used to reset the index to a new sequential order.\n",
        "# drop=True - discards the old index\n",
        "data = data.sample(frac=1).reset_index(drop=True)\n",
        "\n",
        "# training (70%), validation (10%), and test (20%)\n",
        "train, temp = train_test_split(data, test_size=0.3, random_state=42)\n",
        "val, test = train_test_split(temp, test_size=(2/3), random_state=42)"
      ]
    },
    {
      "cell_type": "code",
      "source": [
        "!pip install XlsxWriter\n",
        "\n",
        "output_file_path = 'FTA_split_dataset.xlsx'\n",
        "\n",
        "# save split data so it doesnt get lost or modified during experiments\n",
        "with pd.ExcelWriter(output_file_path, engine='xlsxwriter') as writer:\n",
        "    train.to_excel(writer, sheet_name='Train', index=False)\n",
        "    val.to_excel(writer, sheet_name='Validation', index=False)\n",
        "    test.to_excel(writer, sheet_name='Test', index=False)"
      ],
      "metadata": {
        "id": "dVJpxwIxHvSi"
      },
      "execution_count": null,
      "outputs": []
    },
    {
      "cell_type": "markdown",
      "source": [
        "Eksperimentas 1"
      ],
      "metadata": {
        "id": "g-f5WQ8mUocM"
      }
    },
    {
      "cell_type": "code",
      "source": [
        "y_true = test[\"fta\"].tolist()"
      ],
      "metadata": {
        "id": "6myAGMAd_vSM"
      },
      "execution_count": null,
      "outputs": []
    },
    {
      "cell_type": "code",
      "source": [
        "from transformers import AutoTokenizer, AutoModelForCausalLM, pipeline, BitsAndBytesConfig\n",
        "\n",
        "tokenizer = AutoTokenizer.from_pretrained(\"Undi95/Meta-Llama-3-8B-hf\")\n",
        "model = AutoModelForCausalLM.from_pretrained(\"Undi95/Meta-Llama-3-8B-hf\",\n",
        "                                             load_in_8bit=True, # quantization_config=BitsAndBytesConfig(load_in_8bit=True)\n",
        "                                             device_map=\"auto\")"
      ],
      "metadata": {
        "id": "iBsRBsF2sctO",
        "colab": {
          "base_uri": "https://localhost:8080/",
          "height": 526,
          "referenced_widgets": [
            "db64d66a4e6d49b9b4551f033e31fe04",
            "09c81b6522ad4c52ba005649684e44d5",
            "3fdd84c4732446efb4bca41c5ae03d87",
            "24de2e8fdbeb4937a0a0aba619e772dd",
            "a032724e7e844e2ba91a35ab32eaf3dd",
            "38c638e291054bb091380bf17cbe5c56",
            "adfa41cc74ca442ab44b50121a851ef9",
            "cc90a42f771c470b8144d9629a816cfd",
            "dfbc8079a5ac46dfaba3b8b84cbb77e7",
            "f0ee23af62394067abe9e42d7e3960b0",
            "ed1877d6e69c4646b4ad9cf2bbf65d7e",
            "97a8fe0c9d994a1e890cd062c3e163f9",
            "b7230a4277334938ac6c8884cd4f5535",
            "ef4fbfea2d094f328a84d60ee0fa45ee",
            "df7d20063c7040278e19e6666dbd957c",
            "bf9b620867d147d5a847f6e8a3a854e6",
            "bd0d3ac8e1ab43a78d3a664315ddccd5",
            "3c250fb30ecc4060b2e656cbdde2607a",
            "02d930e11c4d44beb5ef41c9bc66b3f0",
            "0e55ac3bfc7c4d358d745202cd253ccb",
            "8855b6654d01493299ec60d83364d83e",
            "1007e99423c344768f8c5398e097fcff",
            "8db0cf8955b840b4b9625051808efc86",
            "402025960be942868dafeb9bd884f209",
            "35a59369cb2c47169917119a0302c736",
            "cf82660a2cd34ea4bffdad0c9e2be675",
            "017021091f404a38a06853d7eb2e7887",
            "124aad5694dc4760adbf8d45e3000aa2",
            "740afeafd3be41db890b0c33c63db522",
            "8bbae6ca306743b1bb3fa4fce973a2b0",
            "80509e55af2546cbbcbd17ec8b8025ce",
            "5d004f8a8cf94ec5b742b13022e57caf",
            "a210cae9ffd94d2aa35a61120d4947c5",
            "ff46c61df5a64f5ba8b4d4a5e5bde19a",
            "eb2f1b78d8ca4258887dc24267f4d00b",
            "c0655c8092ac4800bb9e1e6cacf5c5b7",
            "c970808a9fcf4637ab535b8aa973d398",
            "a65df56706114e2488ae3001ab8b7d3e",
            "31acc3efcb72493a998fcfb4ad66864c",
            "c67968df53e04ac8a379f1c940d22736",
            "1cd3f6e77fcf4065a48997e97d2cd97f",
            "9192738156c4488389e6b5ecbe7cce9a",
            "134b815e49aa461d92b9b46e16d1ddcc",
            "7c7d577098b1472f9bb97a50c7edf2a7",
            "87f9df35592945d989434c6d5b2ed1b2",
            "4599f69acc874fc2be3fff23cd5364b5",
            "9fda938cfd0447de91b54fde72f98bf4",
            "dc3526cab2054424b63ef35811964c5c",
            "84ab5a140b0b43308de0c0dd7a7d014b",
            "dbba4a32ace54d58b662a821139450bd",
            "c9379cae5e9341b2834fff75d03dff3f",
            "fcfe69305af84f9f8770baf35c3fba7d",
            "92f8637ad66c48e7aff27a3c6eaf4ec4",
            "de8a944982434ece89ab86d40eb4a723",
            "0cc8d7ddff7d4152bb2306006c0a4d06",
            "52b2a3ec59bd48c0898dce0b1dfa8c5d",
            "2a27b7de100d4a889b365f81087607ab",
            "9b80148bb9d647e2a3c69ac309c6527c",
            "2689ef229adb4f14b92a47082de10b45",
            "6dea83d1d5254dd6baaef1f35a52e239",
            "1262a08d5f8b49b89548ba2e7486fbf2",
            "fe55a4bc02334cf2a4477cbd782cd88a",
            "0879e0717ddd4f138e9d6749e7076cc3",
            "0fd9762cdd384a6abe2aec9da30f1aa5",
            "f9298867baf2428f9d3bf4706fb002cf",
            "c6f3d32c5c2340e9b13e2a131c342da7",
            "f1af6a8928a246a9976871047184dfb1",
            "1b938922e5f24cbfb587b487935612c1",
            "a14a2425ef7b45d2b5d4f5e041f82505",
            "993a144e5376437393cfd78a42416d34",
            "1d29099c51aa4dd1891f4b7148e24c16",
            "481ecdc970d1472880a2275a46d6f7ec",
            "9a7814f724ea4db69b865993e5231dd3",
            "34a8a863fbb64bfdbfc2aafe99d9a9c2",
            "91f4ebc839ac4e0daf6e72f23ee71e9e",
            "5f5f209bee194acea1e8aceb38c8242e",
            "383b34778946473fba9d091904e8da55",
            "828e0b48826b426593121dbd60e363a1",
            "9ec1fdf17e944aed9e1cd1f349bd931b",
            "73f0d460d7c3489192a438762fa17735",
            "6f9f990add8c4557ab6758253a5e49ec",
            "a1bc0bfa6e4c46df9eba9e56bb89af41",
            "822ab65568e8446dbfad46b8ec08babc",
            "cd520afc61794372b4f6f3a57971f8d0",
            "fd56ad55f0bf4cabbd41b4d8d983cafa",
            "eb3e7613662a41afb12b9a3330b91a23",
            "33393e821487492683aa8c1dce02c728",
            "6a3f93ecec5446e980e61fb60e4b8355"
          ]
        },
        "outputId": "5acf6a4d-20ea-4658-e8ab-04953f3abf12"
      },
      "execution_count": null,
      "outputs": [
        {
          "output_type": "stream",
          "name": "stderr",
          "text": [
            "/usr/local/lib/python3.10/dist-packages/huggingface_hub/utils/_token.py:89: UserWarning: \n",
            "The secret `HF_TOKEN` does not exist in your Colab secrets.\n",
            "To authenticate with the Hugging Face Hub, create a token in your settings tab (https://huggingface.co/settings/tokens), set it as secret in your Google Colab and restart your session.\n",
            "You will be able to reuse this secret in all of your notebooks.\n",
            "Please note that authentication is recommended but still optional to access public models or datasets.\n",
            "  warnings.warn(\n",
            "The `load_in_4bit` and `load_in_8bit` arguments are deprecated and will be removed in the future versions. Please, pass a `BitsAndBytesConfig` object in `quantization_config` argument instead.\n"
          ]
        },
        {
          "output_type": "display_data",
          "data": {
            "text/plain": [
              "model.safetensors.index.json:   0%|          | 0.00/23.9k [00:00<?, ?B/s]"
            ],
            "application/vnd.jupyter.widget-view+json": {
              "version_major": 2,
              "version_minor": 0,
              "model_id": "db64d66a4e6d49b9b4551f033e31fe04"
            }
          },
          "metadata": {}
        },
        {
          "output_type": "display_data",
          "data": {
            "text/plain": [
              "Downloading shards:   0%|          | 0/4 [00:00<?, ?it/s]"
            ],
            "application/vnd.jupyter.widget-view+json": {
              "version_major": 2,
              "version_minor": 0,
              "model_id": "97a8fe0c9d994a1e890cd062c3e163f9"
            }
          },
          "metadata": {}
        },
        {
          "output_type": "display_data",
          "data": {
            "text/plain": [
              "model-00001-of-00004.safetensors:   0%|          | 0.00/4.98G [00:00<?, ?B/s]"
            ],
            "application/vnd.jupyter.widget-view+json": {
              "version_major": 2,
              "version_minor": 0,
              "model_id": "8db0cf8955b840b4b9625051808efc86"
            }
          },
          "metadata": {}
        },
        {
          "output_type": "display_data",
          "data": {
            "text/plain": [
              "model-00002-of-00004.safetensors:   0%|          | 0.00/5.00G [00:00<?, ?B/s]"
            ],
            "application/vnd.jupyter.widget-view+json": {
              "version_major": 2,
              "version_minor": 0,
              "model_id": "ff46c61df5a64f5ba8b4d4a5e5bde19a"
            }
          },
          "metadata": {}
        },
        {
          "output_type": "display_data",
          "data": {
            "text/plain": [
              "model-00003-of-00004.safetensors:   0%|          | 0.00/4.92G [00:00<?, ?B/s]"
            ],
            "application/vnd.jupyter.widget-view+json": {
              "version_major": 2,
              "version_minor": 0,
              "model_id": "87f9df35592945d989434c6d5b2ed1b2"
            }
          },
          "metadata": {}
        },
        {
          "output_type": "display_data",
          "data": {
            "text/plain": [
              "model-00004-of-00004.safetensors:   0%|          | 0.00/1.17G [00:00<?, ?B/s]"
            ],
            "application/vnd.jupyter.widget-view+json": {
              "version_major": 2,
              "version_minor": 0,
              "model_id": "52b2a3ec59bd48c0898dce0b1dfa8c5d"
            }
          },
          "metadata": {}
        },
        {
          "output_type": "display_data",
          "data": {
            "text/plain": [
              "Loading checkpoint shards:   0%|          | 0/4 [00:00<?, ?it/s]"
            ],
            "application/vnd.jupyter.widget-view+json": {
              "version_major": 2,
              "version_minor": 0,
              "model_id": "f1af6a8928a246a9976871047184dfb1"
            }
          },
          "metadata": {}
        },
        {
          "output_type": "display_data",
          "data": {
            "text/plain": [
              "generation_config.json:   0%|          | 0.00/177 [00:00<?, ?B/s]"
            ],
            "application/vnd.jupyter.widget-view+json": {
              "version_major": 2,
              "version_minor": 0,
              "model_id": "828e0b48826b426593121dbd60e363a1"
            }
          },
          "metadata": {}
        }
      ]
    },
    {
      "cell_type": "code",
      "source": [
        "def generate_prompt(data_point):\n",
        "    return f\"\"\"\n",
        "            Sociolingvistikos srityje Įvaizdžiui Grėsmingas Šnekos Aktas (ĮGŠA) yra komunikacinis veiksmas, kuris kelia grėsmę kalbėtojo ar klausytojo socialinei tapatybei ir savivertės jausmui.\n",
        "            Pavyzdžiai ĮGŠA yra įžeidimai, pertraukimai ir kritika.\n",
        "            Išanalizuokite šį naujienų tekstą ir atsakykite, ar jame yra Įvaizdžiui Grėsmingas Šnekos Aktas.\n",
        "            Atsakykite „1“ už „taip“ arba „0“ už „ne“.\n",
        "\n",
        "            [{data_point[\"paragraph\"]}] = \"\"\""
      ],
      "metadata": {
        "id": "fRX2GkBYDJ8A"
      },
      "execution_count": null,
      "outputs": []
    },
    {
      "cell_type": "code",
      "source": [
        "X_test = pd.DataFrame(test.apply(generate_prompt, axis=1), columns=[\"paragraph\"])"
      ],
      "metadata": {
        "id": "SPi691YI6Q_y"
      },
      "execution_count": null,
      "outputs": []
    },
    {
      "cell_type": "code",
      "source": [
        "from tqdm import tqdm\n",
        "\n",
        "def predict(model, tokenizer):\n",
        "    y_pred = []\n",
        "    pipe = pipeline(task=\"text-generation\",\n",
        "                model=model,\n",
        "                tokenizer=tokenizer,\n",
        "                max_new_tokens = 1,\n",
        "                do_sample=False\n",
        "                )\n",
        "    for i in tqdm(range(len(X_test))):\n",
        "        prompt = X_test.iloc[i][\"paragraph\"]\n",
        "        result = pipe(prompt)\n",
        "        answer = result[0]['generated_text'].split(\"=\")[-1]\n",
        "        print(\"paragraph: \", test.iloc[i][\"paragraph\"])\n",
        "        print(\"answer: \", answer)\n",
        "        if \"1\" in answer:\n",
        "            y_pred.append(1)\n",
        "        elif \"0\" in answer:\n",
        "             y_pred.append(0)\n",
        "        else:\n",
        "            y_pred.append(-1)\n",
        "    return y_pred"
      ],
      "metadata": {
        "id": "bf1esbXoDw9S"
      },
      "execution_count": null,
      "outputs": []
    },
    {
      "cell_type": "code",
      "source": [
        "y_pred = predict(model, tokenizer)"
      ],
      "metadata": {
        "colab": {
          "base_uri": "https://localhost:8080/"
        },
        "id": "kh0rz_xsGM9l",
        "outputId": "1d1f1349-44c2-4cac-9ad3-48e49811a5c4"
      },
      "execution_count": null,
      "outputs": [
        {
          "output_type": "stream",
          "name": "stderr",
          "text": [
            "\r  0%|          | 0/143 [00:00<?, ?it/s]/usr/local/lib/python3.10/dist-packages/transformers/generation/configuration_utils.py:567: UserWarning: `do_sample` is set to `False`. However, `temperature` is set to `0.6` -- this flag is only used in sample-based generation modes. You should set `do_sample=True` or unset `temperature`.\n",
            "  warnings.warn(\n",
            "/usr/local/lib/python3.10/dist-packages/transformers/generation/configuration_utils.py:572: UserWarning: `do_sample` is set to `False`. However, `top_p` is set to `0.9` -- this flag is only used in sample-based generation modes. You should set `do_sample=True` or unset `top_p`.\n",
            "  warnings.warn(\n",
            "Setting `pad_token_id` to `eos_token_id`:128001 for open-end generation.\n",
            "  1%|          | 1/143 [00:00<01:25,  1.67it/s]Setting `pad_token_id` to `eos_token_id`:128001 for open-end generation.\n"
          ]
        },
        {
          "output_type": "stream",
          "name": "stdout",
          "text": [
            "paragraph:  Taip. Tai aš dabar ir nebesuprantu, ką mes turim šnekėt, ar apie kovą su korupcija, ar apie migraciją vidinę.\n",
            "answer:   1\n"
          ]
        },
        {
          "output_type": "stream",
          "name": "stderr",
          "text": [
            "\r  1%|▏         | 2/143 [00:01<01:13,  1.91it/s]Setting `pad_token_id` to `eos_token_id`:128001 for open-end generation.\n"
          ]
        },
        {
          "output_type": "stream",
          "name": "stdout",
          "text": [
            "paragraph:  Aš noriu, kad į mūsų diskusiją įsiterptų profesorius Antanas Kulakauskas, kuris tom temom yra skyręs daug akademinio dėmesio.\n",
            "answer:   1\n"
          ]
        },
        {
          "output_type": "stream",
          "name": "stderr",
          "text": [
            "\r  2%|▏         | 3/143 [00:01<01:10,  1.98it/s]Setting `pad_token_id` to `eos_token_id`:128001 for open-end generation.\n"
          ]
        },
        {
          "output_type": "stream",
          "name": "stdout",
          "text": [
            "paragraph:  Jo. Tai atsiprašau. Atsiprašau Dariaus Kuolio, reiškia ne taip išgirdau. Tai atsiprašau, kolegos, leiskit pabaigti. Reiškia, jūsų gražūs kortų nameliai sugriūna atsimušę į atkato sistemą. Bus viskas išvogta, jeigu nebus įvesta normali, civilizuota, europinė tvarka. \n",
            "answer:   1\n"
          ]
        },
        {
          "output_type": "stream",
          "name": "stderr",
          "text": [
            "\r  3%|▎         | 4/143 [00:02<01:10,  1.97it/s]Setting `pad_token_id` to `eos_token_id`:128001 for open-end generation.\n"
          ]
        },
        {
          "output_type": "stream",
          "name": "stdout",
          "text": [
            "paragraph:  Tai yra, pirma, iš karto bus pajaučiamos pajamos, jeigu dar įvertinus neapmokestinamą pajamų dydį, tai būtų nuo 30 iki 58 eurų, kitas labai svarbus dalykas, mes, iš tiesių, padarysim socialiai teisingą mokestį, nes daug kas šiandien, kas yra vedama, arba pervadama į Sodrą, tai nėra Socialinis draudimas, tai yra tiesiog biudžetiniai mokesčiai, ir trečias labai svarbus momentas, iš tiesų, yra tai, kad paprastindami mokesčių administravimą, mes taip pat taupysime viešuosius kaštus, kas reikalinga mokesčiam administruoti. Mes pasisakom, iš tikrųjų, prieš PVM tarifo keitimą, mažinimą, ir ypatingai sakome ne“ įvairiems populistiniams, nepasvertiems dalykams, susijusiems su PVM lengvatoms įvarioms sritims ir veikloms.\n",
            "answer:   1\n"
          ]
        },
        {
          "output_type": "stream",
          "name": "stderr",
          "text": [
            "\r  3%|▎         | 5/143 [00:02<01:08,  2.02it/s]Setting `pad_token_id` to `eos_token_id`:128001 for open-end generation.\n"
          ]
        },
        {
          "output_type": "stream",
          "name": "stdout",
          "text": [
            "paragraph:  Ir vat, ką tik kolegos pasakė: sveikam maistui, sveikam maistui. Mieli kolegos, aš kaip suprantu, jūs visi esat senai buvę parduotuvėj ir nesat nuėję. Man nueikit ir parodykit nors vienam prekybos centre, kur žmogus gauna minimalią alga, ar gauna vidutinį atlyginimą, perka sveiko maisto ir sugeba įsigyt aliejų ar ar ar ar duonos kepaliuką, kuris kainuoja du-trys eurai. Pabaikim čia svajoti tokius dalykus, kas tai yra išvis neįmanoma.  \n",
            "answer:   1\n"
          ]
        },
        {
          "output_type": "stream",
          "name": "stderr",
          "text": [
            "\r  4%|▍         | 6/143 [00:03<01:09,  1.98it/s]Setting `pad_token_id` to `eos_token_id`:128001 for open-end generation.\n"
          ]
        },
        {
          "output_type": "stream",
          "name": "stdout",
          "text": [
            "paragraph:  Tiesiog, eem, sudarius, visų pirma, pradžioj, kaimo turizmo rėstrus, jų vertinimo kriterijus, ta prasme jų lygius tarptautiniuose standartuose ir automtiškai, paruošis medžiagą, kurią galėtų mūsų išeiviai, būdami kitose šalyse, tiesiog propaguoti per savo bendruomenes. Tuo pačiu padėti net pačiom bendruomenėm, turėti ir patalpas išlaikyti, ir užsidirbt patiems pinigų tam, kad galėtų vystyt savo veiklą. Automatiškai ji veikia kuom? Tai agitacija, istorijos žinojimas ir vietinio krašto žmonių grįžimas atgal.\n",
            "answer:   1\n"
          ]
        },
        {
          "output_type": "stream",
          "name": "stderr",
          "text": [
            "\r  5%|▍         | 7/143 [00:03<01:11,  1.90it/s]Setting `pad_token_id` to `eos_token_id`:128001 for open-end generation.\n"
          ]
        },
        {
          "output_type": "stream",
          "name": "stdout",
          "text": [
            "paragraph:  Iš tikrųjų, jeigu mes kalbam apie žmonių laimę, ją geriausia indikuoja, ar laimę, ar nelaimę, išvažiuojantys žmonės. Dar kartą pakartosiu: 50 000 žmonių palieka Lietuvą šiais metais. Tai beveik po vieną pilną lėktuvą žmonių. Tai išties, ką mes siūlome? Kas tai yra pagrindinis dalykas, kodėl jie galėtų neišvažiuoti? Tai gerai apmokamos darbo vietos. Šiandien to nėra. Šiandien mes matome, kad mes atsiliekame jau ne tiktai nuo Estijos, kurią linksniavome daugybę metų, atsliekame jau net nuo Latvijos, nuo Lenkijos. Invstuotojai atina šalia mūsų. Kitos valstybės deda kur kas didesnes pastangas, kad jie ateitų šalia mūsų. Jeigu mes kalbam apie tai, kad investicijos ateina į Estiją, mes žiūrime, kad jos sukuria kur kas brangiau apmokamas darbo vietas negu tai, kas yra padarome Lietuvoje. Tai nebegali tęstis, mes šitą situaciją privalom pakeist, mes turim suteikt žmonėm viltį, kad jie turės Lietuvoje darbo, jie galės čia likti, jie galės išauginti savo šeimas, leist jas į mokyklas. \n",
            "answer:   1\n"
          ]
        },
        {
          "output_type": "stream",
          "name": "stderr",
          "text": [
            "\r  6%|▌         | 8/143 [00:04<01:08,  1.97it/s]Setting `pad_token_id` to `eos_token_id`:128001 for open-end generation.\n"
          ]
        },
        {
          "output_type": "stream",
          "name": "stdout",
          "text": [
            "paragraph:  gerbiamas Landsbergi, Jūsų Vyriausybės metu, kada Jūs sugebėjot iš tų pelnų ir rinkimų kampanijas daryt, ir reklamas daryt, ir tik nesugebėjot niekaip išreklamuot. Ir kada sako: „jeigu mes sinchronizuosimės, tai būsim nepriklausimi nuo rusų“, nu būsit nuo lenkų priklausomi, koks skirtumas jum... \n",
            "answer:   1\n"
          ]
        },
        {
          "output_type": "stream",
          "name": "stderr",
          "text": [
            "\r  6%|▋         | 9/143 [00:04<01:10,  1.91it/s]Setting `pad_token_id` to `eos_token_id`:128001 for open-end generation.\n"
          ]
        },
        {
          "output_type": "stream",
          "name": "stdout",
          "text": [
            "paragraph:  Akivaizdu, tai, kai yra pavadinimas „populistinė partija“, tai turbūt jau neįmanoma nuo to pabėgti, niekaip kitaip.\n",
            "answer:   1\n"
          ]
        },
        {
          "output_type": "stream",
          "name": "stderr",
          "text": [
            "\r  7%|▋         | 10/143 [00:05<01:15,  1.75it/s]Setting `pad_token_id` to `eos_token_id`:128001 for open-end generation.\n"
          ]
        },
        {
          "output_type": "stream",
          "name": "stdout",
          "text": [
            "paragraph:  Gyventojų skaičiau mažėjimo yra dvi problemos: gimstamumas ir emigracija. Aš suprantu, mes dabar kalbam apie gimstamumą, dėl to aš neliečiu emigracijos problemų. Ir dar sykį akcentuoju: tai, kad 1960-ųjų metų, maždaug tuo metu pradėjo mažėt gimstamumas, tai rodo, kad tai yra civilizacinės problemos. Ir ką mes matom pasaulyje? Kuo turtingiau gyvena visuomenė, tuo jinai gimdo mažiau vaikų. Nes tas a pradeda dominuot virš to mes, norisi pramogų. Taip, deja, tai yra dėsnis. Kadangi socialinė apsauga žmogui atskiram yra garantuojama iš valstybės. Ir kai tik ta socialinė apsauga susilpnėja, tada pradeda gimdyt vaikus. Aš tuo noriu pasakyt, kad problema yra gerokai gilesnė negu tik tai, apie ką jūs šnekat. Ir ją išspręst galima tik vaiko vadinamais pinigais, ką daro visos pasaulio valstybės. Reikia remt visokeriopai šitą procesą ir kada mes šnekam apie vaiko pinigus, mes ką sakom? Mažiau tankų, o daugiau vaikų. Nes reikia pasakyt, iš kur tuos pinigus paimsim.\n",
            "answer:   1\n"
          ]
        },
        {
          "output_type": "stream",
          "name": "stderr",
          "text": [
            "\r  8%|▊         | 11/143 [00:05<01:11,  1.84it/s]Setting `pad_token_id` to `eos_token_id`:128001 for open-end generation.\n"
          ]
        },
        {
          "output_type": "stream",
          "name": "stdout",
          "text": [
            "paragraph:  Kalbame apie santuoką. Apie santuoką kalbam.\n",
            "answer:   1\n"
          ]
        },
        {
          "output_type": "stream",
          "name": "stderr",
          "text": [
            "\r  8%|▊         | 12/143 [00:06<01:17,  1.70it/s]Setting `pad_token_id` to `eos_token_id`:128001 for open-end generation.\n"
          ]
        },
        {
          "output_type": "stream",
          "name": "stdout",
          "text": [
            "paragraph:  tai pirmiausiai sakysiu, ką gerbiamas Balsys neteisingai sako, konkursą laimėjo tarptautinė kompanija, tai buvo pirmoji komanija Lietuvoje iš Vakarų pasaulio, kuri atėjo į energetikos sektorių. \n",
            "answer:   1\n"
          ]
        },
        {
          "output_type": "stream",
          "name": "stderr",
          "text": [
            "\r  9%|▉         | 13/143 [00:06<01:11,  1.81it/s]Setting `pad_token_id` to `eos_token_id`:128001 for open-end generation.\n"
          ]
        },
        {
          "output_type": "stream",
          "name": "stdout",
          "text": [
            "paragraph:  Dabar, kai mes padarysim, kad būtų pensijos tokios, po to irgi galėsit rašyt savo programose. Bet iš esmės, man labai džiugu, kad tiek valstiečiai, tiek konservatoriai tiesiog nusirašinėja, ką šita Vyriausybė jau padarė. \n",
            "answer:   1\n"
          ]
        },
        {
          "output_type": "stream",
          "name": "stderr",
          "text": [
            "\r 10%|▉         | 14/143 [00:07<01:13,  1.75it/s]Setting `pad_token_id` to `eos_token_id`:128001 for open-end generation.\n"
          ]
        },
        {
          "output_type": "stream",
          "name": "stdout",
          "text": [
            "paragraph:  Taip, taip. Bet dabar žiūrėkit, jeigu kalbėt apie laimę apskritai. Tai yra pas mus moterų. Tai ką jau aš čia apie laimę šnekėsiu. Paklauskim Ilonos Stasiūnaitės apie laimę. \n",
            "answer:   1\n"
          ]
        },
        {
          "output_type": "stream",
          "name": "stderr",
          "text": [
            "\r 10%|█         | 15/143 [00:09<01:46,  1.20it/s]Setting `pad_token_id` to `eos_token_id`:128001 for open-end generation.\n"
          ]
        },
        {
          "output_type": "stream",
          "name": "stdout",
          "text": [
            "paragraph:  Iš tikrųjų, labai blogai yra šešėlinė ekonomika, tą mes visi žinom ir su šešėliu reikia kovoti. Bet yra daug blogiau, kai valstybės milijardaiįsisavinami legaliai. Ir skaidriai. Tai yra viešieji pirkimai. Duosiu tiktai nedidelį skaičių, kuris parodys viską. Per metus virš 4 milijardų per viešuosius pirkimus pereina. Viešųjų pirkimų tarnyba patikrina tiktai 2-3 procentus visų pirkimų. Iš tų 2-3 procentų virš 80 procentų būna su pažeidimais. Viešosios tos tarnybos biudžetas yra 2-3 milijonai eurų. Tai kiek koks nors vienas nelabai didelis viešasis pirkimas kainuoja? Kitaip tariant, pakalbėkime apie skaidriąją ekonomiką, per kurią netenka, pabaigsiu, netenka ligoninės pinigų, mokyklos pinigų, keliai pinigų, tas pats visuomeninis transportas pinigų.\n",
            "answer:   1\n"
          ]
        },
        {
          "output_type": "stream",
          "name": "stderr",
          "text": [
            "\r 11%|█         | 16/143 [00:10<01:53,  1.12it/s]Setting `pad_token_id` to `eos_token_id`:128001 for open-end generation.\n"
          ]
        },
        {
          "output_type": "stream",
          "name": "stdout",
          "text": [
            "paragraph:  Aš šiandien Seime iš tribūnos irgi pasakiau, kad Lietuva yra maža, atvira šalis ir orientuotą į eksportą. Ir mes turim suprast, kad mūsų vienas pagrindinių uždavinių yra kuo daugiau pritraukt tiesioginių užsienio investicijų. Suprast, kad turi didžiulės būt investicijos į mokslą, į žinias. Turi būt kuo daugiau talentų čia, Lietuvoj. Tiek iš užsienio, tiek savų mes talentų turim užsiaugint. Nebegalim kalbėt apie pigią darbo jėgą, mes turim kalbėt apie kvalifikuotą darbo jėgą. Nes mes turim įvertint ir geopolitinę situacją, tai reiškia, kad mes turim kuo daugiau turėt naujų rinkų eksportui. Tą, ką mes padarėm. Šiuo metu Lietuva turi apie 200 valstybių, į kurias gali eksportuot savo produkciją. To niekada nebuvo.\n",
            "answer:   1\n"
          ]
        },
        {
          "output_type": "stream",
          "name": "stderr",
          "text": [
            "\r 12%|█▏        | 17/143 [00:10<01:45,  1.20it/s]Setting `pad_token_id` to `eos_token_id`:128001 for open-end generation.\n"
          ]
        },
        {
          "output_type": "stream",
          "name": "stdout",
          "text": [
            "paragraph:  Pirmiausia, su šešėline ekonomika kariauna ne Seimo nariai. Tai yra Vyriausybės ir specialių struktūrų reikalas. Seimo nariai su šešėline ekonomika nepakariaus. O štai žiūrėkit.\n",
            "answer:   1\n"
          ]
        },
        {
          "output_type": "stream",
          "name": "stderr",
          "text": [
            "\r 13%|█▎        | 18/143 [00:11<01:46,  1.18it/s]Setting `pad_token_id` to `eos_token_id`:128001 for open-end generation.\n"
          ]
        },
        {
          "output_type": "stream",
          "name": "stdout",
          "text": [
            "paragraph:  Iš tikrųjų, jeigu pažiūrėtume, kas dabar imigruoja į Lietuvą? 80 procentų, per 80 procentų, yra lietuviai reemigruoja. Bet jie reemigravę, sugrįžę į Lietuvą, tuoj pat apsidairę čionai, vėl ruošiasi bėgt. Ir apklausos rodo, kad jie bėga ir dėl to, kad Lituva neturi aiškių perspektyvų. Mes turėtume skatint pirmiausiai reemigraciją. Savo išvažiavusių žmonių sugrįžimą ir pensijinio amžiaus su pinigais, žadėdami jiems orią ir gražią senatvę gražioj Lietuvos gamtoj, mes turėtume skatint grįžt jaunimą ir panaikint partinį nepotizmą, turi būt jaunimui, išsilavinusiam Lietuvos jaunimui atvira Lietuvos tarnyba, ne giminėm partinių žmonių, bet gabiausiam Lietuvos jaunimui, akademinėsa vietos turi būt atviros jiems. Dabar Lietuvia veikia kaip išstumiantis mechanizmas. Mums nereikia gabiausių, mums nereikia ambicingiausių, labiausiai išsilavinusių žmonių, harvardus, kembridžus baigusių, jie už durų, lauke. Reikia keist iš esmės šitą politiką. \n",
            "answer:   1\n"
          ]
        },
        {
          "output_type": "stream",
          "name": "stderr",
          "text": [
            "\r 13%|█▎        | 19/143 [00:12<01:38,  1.26it/s]Setting `pad_token_id` to `eos_token_id`:128001 for open-end generation.\n"
          ]
        },
        {
          "output_type": "stream",
          "name": "stdout",
          "text": [
            "paragraph:  kalbėti kaip mama ir moteris. Iš tikrųjų, noriu pasidžiaugti, kad liberalų dėka buvo priimtas modernaus apvaisinimo įstatymas. Ir leis daugeliui moterų susilaukti vaikų. Ir, iš tikrųjų, mes, liberalai, pasisakėm ir pasisakysim už nevaisingų šeimų gydymą, jo finansavimą ir apvaisinimą. Irgi – jo finansavimą. Tokie dalykai bus remiami. \n",
            "answer:   1\n"
          ]
        },
        {
          "output_type": "stream",
          "name": "stderr",
          "text": [
            "\r 14%|█▍        | 20/143 [00:13<01:44,  1.18it/s]Setting `pad_token_id` to `eos_token_id`:128001 for open-end generation.\n"
          ]
        },
        {
          "output_type": "stream",
          "name": "stdout",
          "text": [
            "paragraph:  Na, išties, šešėlinė ekonomika Lietuvoje yra didžiulė problema, viena iš galimo sprendimo būdų, būtų būtent, kaip mes ir kalbėjome anksčiau, mokesčių reforma. Jeigu mes šiandien dažnas dirbantis žmogus, iš tikrųjų, jisai nesupranta. Kad kai jisai gauna, aam, dalį savo atlyginimo vokelyje, jisai mano, kad tai tokiu būdu, jisai tokiu būdu mano, kad jisai, na, taupo galbūt kažkokias. Iš tikrųjų, tai yra jo sąskaita, jo ateities sąkaita taupoma. Tai, ką mes kalbame savo mokesčių programoje būtent apie tai, kad dalis darbdavio mokesčių būtų priklijuojama tam tikra prasme prie žmogaus atlyginimo, jis matytų tada savo tikrąją algą. Jis reikalautų iš darbdavio...atleiskit, jau dabar...\n",
            "answer:   1\n"
          ]
        },
        {
          "output_type": "stream",
          "name": "stderr",
          "text": [
            "\r 15%|█▍        | 21/143 [00:14<01:41,  1.20it/s]Setting `pad_token_id` to `eos_token_id`:128001 for open-end generation.\n"
          ]
        },
        {
          "output_type": "stream",
          "name": "stdout",
          "text": [
            "paragraph:  Aš noriu, kad kalbėtų mokytojai, kurie jaunimą pažįsta, jį uždo, Dainora Eigminienė, lituanistė, Vilniaus Kristoforo gimnazijos mokytoja, prašom.\n",
            "answer:   1\n"
          ]
        },
        {
          "output_type": "stream",
          "name": "stderr",
          "text": [
            "\r 15%|█▌        | 22/143 [00:14<01:26,  1.41it/s]Setting `pad_token_id` to `eos_token_id`:128001 for open-end generation.\n"
          ]
        },
        {
          "output_type": "stream",
          "name": "stdout",
          "text": [
            "paragraph:  30 procentų nuo ko? Atsiprašau, patikslinu.\n",
            "answer:   1\n"
          ]
        },
        {
          "output_type": "stream",
          "name": "stderr",
          "text": [
            "\r 16%|█▌        | 23/143 [00:14<01:16,  1.57it/s]Setting `pad_token_id` to `eos_token_id`:128001 for open-end generation.\n"
          ]
        },
        {
          "output_type": "stream",
          "name": "stdout",
          "text": [
            "paragraph:  Penkis kartus kelt, o ne penkis kartus pakelt.\n",
            "answer:   1\n"
          ]
        },
        {
          "output_type": "stream",
          "name": "stderr",
          "text": [
            "\r 17%|█▋        | 24/143 [00:15<01:08,  1.73it/s]Setting `pad_token_id` to `eos_token_id`:128001 for open-end generation.\n"
          ]
        },
        {
          "output_type": "stream",
          "name": "stdout",
          "text": [
            "paragraph:  Mes sustiprinsime policijos patruliavimą palei mokyklas, nepilnamečiai turės būti eritorijoje, kai matys, išeina, tada eis aišku namo, bet teritorijoe negalės girtuokliauti ir tokių atvejų, kaip pasitaikydavo anksčiau. Bet daugiau norėčiau duoti mūsų Sveikatos komiteto pirmininkei Dangutei Mikutienei, kuri praplės.\n",
            "answer:   1\n"
          ]
        },
        {
          "output_type": "stream",
          "name": "stderr",
          "text": [
            "\r 17%|█▋        | 25/143 [00:15<01:04,  1.84it/s]Setting `pad_token_id` to `eos_token_id`:128001 for open-end generation.\n"
          ]
        },
        {
          "output_type": "stream",
          "name": "stdout",
          "text": [
            "paragraph:  ir norėčiau, kad Ruslanas Kovaliovas, ekonomikos mokslų daktaras, apsigynęs disertaciją socialinio verslo atsakomybę, tarrtų savo žodį, koks verslas turėtų būti regionuose ir ne tik. Prašau.\n",
            "answer:   1\n"
          ]
        },
        {
          "output_type": "stream",
          "name": "stderr",
          "text": [
            "\r 18%|█▊        | 26/143 [00:16<00:58,  1.99it/s]Setting `pad_token_id` to `eos_token_id`:128001 for open-end generation.\n"
          ]
        },
        {
          "output_type": "stream",
          "name": "stdout",
          "text": [
            "paragraph:  Aš su jumis visais turiu diskutuot, ar su Premjeru?\n",
            "answer:   1\n"
          ]
        },
        {
          "output_type": "stream",
          "name": "stderr",
          "text": [
            "\r 19%|█▉        | 27/143 [00:16<00:58,  1.99it/s]Setting `pad_token_id` to `eos_token_id`:128001 for open-end generation.\n"
          ]
        },
        {
          "output_type": "stream",
          "name": "stdout",
          "text": [
            "paragraph:  aš galbūt šiek tiek skepticizmo įliesiu, tiesiog labai gražu, kad visa tai žadama, tiek piniginės išmokos, visa kita, bet man sprendžiant tarkime dėl kito vaikelio ar ką, manau, kad jaunimas galvoja plačiau: moterys nori dirbti, vyrai nori siekti karjeros, tai reikėtų labai įvertinti prieš išleidžiant tuos didelius pinigus, tai kiek tos priemonės bus efektyvios? Tai aš truputį į tą pusę lenkčiau, geriau galbūt ne kiekybė, o kokybė?\n",
            "answer:   1\n"
          ]
        },
        {
          "output_type": "stream",
          "name": "stderr",
          "text": [
            "\r 20%|█▉        | 28/143 [00:17<00:59,  1.93it/s]Setting `pad_token_id` to `eos_token_id`:128001 for open-end generation.\n"
          ]
        },
        {
          "output_type": "stream",
          "name": "stdout",
          "text": [
            "paragraph:  Tai jeigu mes esame užsienio politikoj šiandieną mes stiprūs ir diplomatiškai mes elgiamės atsakingai, mąstom globaliai, veikiam lokaliai, tai ką tai reiškia? Tai reiškia pas mus ir verslas yra užimtas, ir užimtumas, ir darbo vietos kuriamos, ir pramonės vysto, reiškia darbuotojai turi darbo vietų ir dirba. Kalbant apie socialinę aplinką, tiek Darbo kodeksas, tiek socialinis modelis, tiek Privalomas sveikatos draudimas, tiek ta pati minimali alga. Klausimas: ar šiandieną yra adekvačiai surenkami pinigai ir ar suma yra atitinka to laimės indekso? Čia, iš tikrųjų, yra abejotina. Todėl aš manau, kad visi kartu mes galime tapti laimingi, jei būsime kartu.\n",
            "answer:   1\n"
          ]
        },
        {
          "output_type": "stream",
          "name": "stderr",
          "text": [
            "\r 20%|██        | 29/143 [00:17<01:00,  1.88it/s]Setting `pad_token_id` to `eos_token_id`:128001 for open-end generation.\n"
          ]
        },
        {
          "output_type": "stream",
          "name": "stdout",
          "text": [
            "paragraph:  Tai yra, žmogus gauna penkis tūkstančius, jis pradeda šičia verslą, jis į šičia investuoja. Antras dalykas tai yra valstybinio būsto programa, kur vėlgi, yra labai svarbus, panaudojant privačius pensijų kaupimo fondus, panaudojant valstybės rezervą, lėšas, vykdytų statybas. Trečias dalykas – renovacijos. Ketvirtas dalykas – motinystės išmokų grąžinimas į tą lygį, kuris buvo 2008-ais metais. Mokyklų padarymas Lietuvoje, kaip yra Vokietijoje Vasario 16-oji. Yra fantastinis geras projektas, pagal kurį tai veiki.\n",
            "answer:   1\n"
          ]
        },
        {
          "output_type": "stream",
          "name": "stderr",
          "text": [
            "\r 21%|██        | 30/143 [00:19<01:25,  1.32it/s]Setting `pad_token_id` to `eos_token_id`:128001 for open-end generation.\n"
          ]
        },
        {
          "output_type": "stream",
          "name": "stdout",
          "text": [
            "paragraph:  Čia klausimas, kaip čia pasakyt, jis nueina į smulkmenas, iš tikrųjų. Reikėtų kalbėt apskritai apie emigracijos reikalą ir visas, sakykim, viltis Europos Sąjungos, kad emigrantų pagalba galima susikurti darbo rankų pakankamai išvirto į grandiozinę problemą Vakarų Europai. Tai visi tie verslininkai, kurie Lietuvoj kelia panašius klausimus, tai reikėtų nuvažiuoti jiems ir pasižiūrėt, į ką išvirto tokie patys planai kur nors Olandijoj, Belgijoj, Vokietijoj ir panašiai. Šiandieną trūksta darbo rankų, trūksta, dėl to, kad didelė dalis žmonių išvyksta iš Lietuvos, vedini neaiškių tokių romantinių svajų, kad ten galima gyvent geriau ir uždirbt daugiau, nors jau šiandien Lietuvoje yra paprastų: šaltkalviai, suvirintojai ir panašūs darbai. \n",
            "answer:   1\n"
          ]
        },
        {
          "output_type": "stream",
          "name": "stderr",
          "text": [
            "\r 22%|██▏       | 31/143 [00:19<01:23,  1.34it/s]Setting `pad_token_id` to `eos_token_id`:128001 for open-end generation.\n"
          ]
        },
        {
          "output_type": "stream",
          "name": "stdout",
          "text": [
            "paragraph:  labas vakaras. Iš tikrųjų, kaip ir minėjo kolega Darius, regionuose yra problema ir didelė problema ir „Lietuvos sąrašas“ ir siūlo europines investicijas nukreipti į regionus, sukurti darbo vietas, bet labai svarbus dalykas leisti regionuose žmonėms spręsti patiems: kur tas investicijas nukreipti? Socialinių būstų problema, socialinių išmokų problema turi būti sprendžiama pačių žmonių.\n",
            "answer:   1\n"
          ]
        },
        {
          "output_type": "stream",
          "name": "stderr",
          "text": [
            "\r 22%|██▏       | 32/143 [00:20<01:17,  1.43it/s]Setting `pad_token_id` to `eos_token_id`:128001 for open-end generation.\n"
          ]
        },
        {
          "output_type": "stream",
          "name": "stdout",
          "text": [
            "paragraph:  Taip! Specialistas.\n",
            "answer:   1\n"
          ]
        },
        {
          "output_type": "stream",
          "name": "stderr",
          "text": [
            "\r 23%|██▎       | 33/143 [00:21<01:11,  1.53it/s]Setting `pad_token_id` to `eos_token_id`:128001 for open-end generation.\n"
          ]
        },
        {
          "output_type": "stream",
          "name": "stdout",
          "text": [
            "paragraph:  tačiau PVMas kaipo toksai nebūtinai atpigina ką nors vartotojui. Jisai palengvina sąlygas verslui ir tai yra irgi gerai. Tai leidžia modeliuot, koks verslas gali būt perspektyvus, tai mes modeliuojam, kad eem, varijuojant PVMu eem, protingai, mes galim plėtoti žalią ekonomiką ir žaliuosius verslus. Bet dar paskutinis dalykas, ką noriu pabrėžti, PVMas sudaro apie 50 procentų Lietuvos biudžeto. PVMas yra didžiausias grobstymo objektas. Čia siaučia mafija Baltijos Baltijos šalių mastu. Ir mūsų Specialiųjų tyrimų tarnyba, FNTT, čia labai smarkiai dirba ir čia reikia skirti daug daugiau dėmesio, ką mes ir darysime atėję į valdžią.\n",
            "answer:   1\n"
          ]
        },
        {
          "output_type": "stream",
          "name": "stderr",
          "text": [
            "\r 24%|██▍       | 34/143 [00:21<01:04,  1.68it/s]Setting `pad_token_id` to `eos_token_id`:128001 for open-end generation.\n"
          ]
        },
        {
          "output_type": "stream",
          "name": "stdout",
          "text": [
            "paragraph:  Žiūrėkit, gerbiamieji, čia ta prasme, kalba Algirdas Butkevičius apie darbo grupes, mes esam įpratę, jau ketverius metus girdėjom tą patį nusibodusį terminą, nesijuokit\n",
            "answer:   1\n"
          ]
        },
        {
          "output_type": "stream",
          "name": "stderr",
          "text": [
            "\r 24%|██▍       | 35/143 [00:21<01:00,  1.79it/s]Setting `pad_token_id` to `eos_token_id`:128001 for open-end generation.\n"
          ]
        },
        {
          "output_type": "stream",
          "name": "stdout",
          "text": [
            "paragraph:  Monopoliniai, tai yra dideiji supermarketai, centrai, bankai, visai neprisideda prie mūsų šalies daugelio problemų sprendimo ir mes taip pat turime mechanizmą, kaip pakeisti mokestinę sistemą ir padaryti taip, kad turtingesnis moka daugiau.\n",
            "answer:   1\n"
          ]
        },
        {
          "output_type": "stream",
          "name": "stderr",
          "text": [
            "\r 25%|██▌       | 36/143 [00:22<00:58,  1.83it/s]Setting `pad_token_id` to `eos_token_id`:128001 for open-end generation.\n"
          ]
        },
        {
          "output_type": "stream",
          "name": "stdout",
          "text": [
            "paragraph:  Liberalai, dirbdami Vyriausybėje prieš ketverius metus, buvo pirmieji, kurie konkrečiai iniciavome ir įvyko pirmieji aukštųjų valstybinių mokyklų susijungimai. Tiek universitetų, tiek kolegijų. Konkurencinė finansavimo sistema į geras studijų programas leido pritraukt daugiau pinigų. Šiandien mes esam akivaizdoje tų sprendimų, kad, išties, reikia spręsti tinklo klausimus. Suskaičiavome kad šimtas milijonų litų, sutvarkius aukštųjų mokyklų tinklą, būtų nukreipta į stipriausius universitetus, sustiprinant jų studijų kokybę. Ir tai yra kelias, kuriuo liberalai eis.\n",
            "answer:   1\n"
          ]
        },
        {
          "output_type": "stream",
          "name": "stderr",
          "text": [
            "\r 26%|██▌       | 37/143 [00:22<00:55,  1.92it/s]Setting `pad_token_id` to `eos_token_id`:128001 for open-end generation.\n"
          ]
        },
        {
          "output_type": "stream",
          "name": "stdout",
          "text": [
            "paragraph:  Prie Jūsų kaip tik, du tūkstančiai dešimtaisiais metais paliko virš aštuoniasdešimt tūkstančių. Šiais metais paliko tik dvidešimt du tūkstančiai ir grįžta vienuolika.\n",
            "answer:   1\n"
          ]
        },
        {
          "output_type": "stream",
          "name": "stderr",
          "text": [
            "\r 27%|██▋       | 38/143 [00:23<00:53,  1.98it/s]Setting `pad_token_id` to `eos_token_id`:128001 for open-end generation.\n"
          ]
        },
        {
          "output_type": "stream",
          "name": "stdout",
          "text": [
            "paragraph:  Tiktai noriu pridurti, kad dar vienas koeficientas, gerbiami kolegos, kad jeigu nėra iki galo aiškūs skaičiai, tai yra, kad pajamų nelygybė išaugo daugiau kaip 30 procentų. Valdant Socialdemokratams. Išties, nebuvo padaryti tie darbai, kurie buvo padaryti, apie proveržį apskritai nėra ką kalbėti. \n",
            "answer:   1\n"
          ]
        },
        {
          "output_type": "stream",
          "name": "stderr",
          "text": [
            "\r 27%|██▋       | 39/143 [00:23<00:52,  1.98it/s]Setting `pad_token_id` to `eos_token_id`:128001 for open-end generation.\n"
          ]
        },
        {
          "output_type": "stream",
          "name": "stdout",
          "text": [
            "paragraph:  Ačiū, Edmundai, už gerą klausimą, mieli žiūrovai, iš tikrųjų Lietuvoj problemų ekonomikos didelių yra, ir ne viena, ir jas reikia žiūrėt į tris dalis išskirtyt, mano galva. Pirmas dalykas, tai yra darbo santykiai ir sugebėjimas žmonėms mokėti atlyginimą, kuris užtikrintų į orų gyvenimą, tai mes pasisakom už tai, kad sukurt tokias sąlygas verslui, kad jie sugebėtų mokėti bent po tūkstantį šimtą algos vidutinis atlyginimas būtų, užtikrinti minimalų atlyginimą, ne mažesnį kaip 650 eurų, ir tokiu būdu padaryti, kad Lietuvoj gyvenantys žmonės neišvažiuotų ir nepapildytų darbo jėgos kitose valstybėse, nedirbtų tenais, dirbtų Lietuvoj.\n",
            "answer:   1\n"
          ]
        },
        {
          "output_type": "stream",
          "name": "stderr",
          "text": [
            "\r 28%|██▊       | 40/143 [00:24<00:55,  1.85it/s]Setting `pad_token_id` to `eos_token_id`:128001 for open-end generation.\n"
          ]
        },
        {
          "output_type": "stream",
          "name": "stdout",
          "text": [
            "paragraph:  O atsakys, tai taip! Aš net neabejoju, kad jis atsakys! \n",
            "answer:   1\n"
          ]
        },
        {
          "output_type": "stream",
          "name": "stderr",
          "text": [
            "\r 29%|██▊       | 41/143 [00:25<00:59,  1.70it/s]Setting `pad_token_id` to `eos_token_id`:128001 for open-end generation.\n"
          ]
        },
        {
          "output_type": "stream",
          "name": "stdout",
          "text": [
            "paragraph:  Bet  žadėjot.\n",
            "answer:   1\n"
          ]
        },
        {
          "output_type": "stream",
          "name": "stderr",
          "text": [
            "\r 29%|██▉       | 42/143 [00:25<01:02,  1.61it/s]Setting `pad_token_id` to `eos_token_id`:128001 for open-end generation.\n"
          ]
        },
        {
          "output_type": "stream",
          "name": "stdout",
          "text": [
            "paragraph:  Regionuose pajamų didinimas, aš prieš tai ką tik minėjau, tai yra nulinis PVM tarifas investicijom, antras yra dalykas, neapmokestinamų pajamų dydžio sulyginimas minimalios algos, Sodros lubų nustatymas, minimalios algos, kaip tokios, panaikinimas, vidutinio darbo užmokesčio nustatymas, trečias yra dalykas, tai yra užimtumas. Tai yra darbo vietų tas pats kūrimas, kur jisai yra ir susijęs labai stipriai su Europos Sąjungos ir su valstybėm skiriama dotacija ir pinigais.\n",
            "answer:   1\n"
          ]
        },
        {
          "output_type": "stream",
          "name": "stderr",
          "text": [
            "\r 30%|███       | 43/143 [00:27<01:20,  1.24it/s]Setting `pad_token_id` to `eos_token_id`:128001 for open-end generation.\n"
          ]
        },
        {
          "output_type": "stream",
          "name": "stdout",
          "text": [
            "paragraph:  Tai, na, būkim atviri patys sau, kad  didžiausia žala visai mokesčių sistemai yra auksinių šaukštų ir šakučių skandalai. Ne PVM mokesčio didinimas ar mažinimas didina šešėlį. Šešėlį didina žmonių nenoras mokėti mokesčius, kai jie mato tai, kaip yra išleidžiami šiandien surinkti į valstybę mokesčiai. Taip, kaip gyvena valstybinės įmonės, taip, kaip gyvena ministerijos, taip, kaip yra atliekami viešieji pirkimai. Tai mano supratimu, pats svarbiausias dalykas yra skaidrinti valstybės finansus ir didinti atskaitomybę taip, kaip yra išleidžiamas kiekvienas euro centas. Mokesčių mokėtojų sumokėtų pinigų. Tokia tvarka, jinai mažintų šešėlį, nes motyvuotų žmones mokėti mokesčius\n",
            "answer:   1\n"
          ]
        },
        {
          "output_type": "stream",
          "name": "stderr",
          "text": [
            "\r 31%|███       | 44/143 [00:28<01:23,  1.18it/s]Setting `pad_token_id` to `eos_token_id`:128001 for open-end generation.\n"
          ]
        },
        {
          "output_type": "stream",
          "name": "stdout",
          "text": [
            "paragraph:  Mano įsitikinimu, reikia užtikrinti aukštą žinių lygio suteikimą mūsų absolventams aukštosiose mokyklose. Dabar gi mes užtikriname aukštųjų mokyklų dėstytojų pragyvenimą. Tai yra pasityčiojimas iš tų jaunų žmonių, kurie mato Vakarų universitetuose kitokias studijas, kitokį mokslą. Ir įgyja kitas žinias. O čia, kad iš jų tyčiotųsi ir užtikrintų tik dėstytojų darbo vietą, jiem to tikrai nereikia. \n",
            "answer:   1\n"
          ]
        },
        {
          "output_type": "stream",
          "name": "stderr",
          "text": [
            "\r 31%|███▏      | 45/143 [00:28<01:20,  1.22it/s]Setting `pad_token_id` to `eos_token_id`:128001 for open-end generation.\n"
          ]
        },
        {
          "output_type": "stream",
          "name": "stdout",
          "text": [
            "paragraph:  Replikuodama kolegui Linui,  jis pasakė, kad jis nesižarsto skaičiais, mūsų visi pasiūlyti projektai, įstatymų projektai ir programa yra apskaičiuoti ir pagrįsti skaičiais ir skaičiavimais. Vienas iš jų tai mūsų pristatytas seniai įstatymas PVM mažinimo iki penkių procentų maisto produktams ir pirmo būtinumo prekėm. Programoj mes, jau paruoštas įstatymas, ir į programą įrašyta apmokestinti prekybos centrus ir tam mokestį skirti, čia yra naujovė, čia niekas dar nepasiūlė, skirti savivaldybėms padengti atliekų surinkimo išlaidas. Logika yra tame, kad pirkėjas, užeidamas į parduotuvę, jau sumoka už tą pakuotę, ir faktiškai moka dvigubai. Ne visi žino, bet kartais moka ir triskart. Dėl to, kad yra, egzistuoja toks mokestis pakuotės mokestis, kuris moka gamintojas ir tas mokestis patenka į aplinkosaugos koridorių ir ten dingsta, finansuodamas neaiškios kilmės programas. Tai, kad to nebūtų, tą mokestį mes, apmokestindami prekybos centrus didžiulius, skirti būtent atliekų sistemos surinkimui\n",
            "answer:   1\n"
          ]
        },
        {
          "output_type": "stream",
          "name": "stderr",
          "text": [
            "\r 32%|███▏      | 46/143 [00:29<01:15,  1.28it/s]Setting `pad_token_id` to `eos_token_id`:128001 for open-end generation.\n"
          ]
        },
        {
          "output_type": "stream",
          "name": "stdout",
          "text": [
            "paragraph:  Taip, iš tikrųjų, tai švietimas, kaip jau buvo kalbėta, turi labai svarbų vaidmenį, ir tiktai norėčiau pasakyt, kad jokiu būdu negalima tiesiog tas programas dėstyt taip, kad pasakosim vaikams ikimokyklinėse įstaigose apie vartojimo žalą. Tai turėtų būt atvirkščiai padaryta, nes ir šiuo metu yra akredituotos 14 prevencinių programų, kuriose yra ir numatyta ne tiktai eem, pasakot apie žalą, bet ir suformuot tinkamą požiūrį, ir geriausia, iš tikrųjų, gali veikt tiktai visas kompleksas priemonių. Vien švietimu, įtraukiant ir tėvus, ne tiktais vaikams teikiant tas žinas. Tai ši problema turėtų būt tikrai sprendžiama labai kompleksiškai.\n",
            "answer:   1\n"
          ]
        },
        {
          "output_type": "stream",
          "name": "stderr",
          "text": [
            "\r 33%|███▎      | 47/143 [00:29<01:04,  1.49it/s]Setting `pad_token_id` to `eos_token_id`:128001 for open-end generation.\n"
          ]
        },
        {
          "output_type": "stream",
          "name": "stdout",
          "text": [
            "paragraph:  Toliau, aišku, pati viešoji infrsatruktūra. Popamokinis ugdymas, kad vaikučius būtų galima užimti, įvairūs būreliai ir kitos priemonės, kad šeima galėtų maloniai, paprastai auginti vaikučius. Ir, aišku, valstybinė arba savivaldybinė ilgalaikė būsto nuomojamo programa, tie, kur egzistuoja Anglijoj, Vokietijoj ir kitur, kad jaunam žmogui nereikėtų eit į banką ir imtis paskolos, o tuėtų stogą virš galvos nuomodamasis butą iš savivaldybės.\n",
            "answer:   1\n"
          ]
        },
        {
          "output_type": "stream",
          "name": "stderr",
          "text": [
            "\r 34%|███▎      | 48/143 [00:30<00:54,  1.74it/s]Setting `pad_token_id` to `eos_token_id`:128001 for open-end generation.\n"
          ]
        },
        {
          "output_type": "stream",
          "name": "stdout",
          "text": [
            "paragraph:  O privatiem namam tik skiriama pusantro milijono eurų renovacijai ir viskas. Tai mes apie ką ir kalbėkim. Santykis 300 milijonų ir  pusantro milijono. Ir šiandienai mes kiek įmanoma stengiamės, Aplinkos ministerija tą finansavimą padidinti, kad sekančiam etape ne 400, ne 500, kur mes dabar turim 524, bet būtų 2000. Tie, kur yra sutarčių pasirašę.\n",
            "answer:   1\n"
          ]
        },
        {
          "output_type": "stream",
          "name": "stderr",
          "text": [
            "\r 34%|███▍      | 49/143 [00:30<00:49,  1.90it/s]Setting `pad_token_id` to `eos_token_id`:128001 for open-end generation.\n"
          ]
        },
        {
          "output_type": "stream",
          "name": "stdout",
          "text": [
            "paragraph:  Tai, iš tikrųjų, gerbiamas Edmundas sakė: „koks yra pirmas darbas“? Tai pirmas darbas – nutraukti ypatingai, beje, regionuose vyraujantį nepotizmą. Situacijas, kai konkursai – žinoma, kas laimės iš anksto, šiandien dienai jaunimas, baigęs mokslus, negalvoja, kaip ruoštis egzaminus konkursą, bet kur rasti kokį dėdę ar dar kažką tai. Dar daugiau pasakysiu: jeigu, duok Dieva, laimi konkursą, kas atsitinka? Zadanijų politika, kas nutiko, beje, ir man. Tu turi vykdyti kažkokių politikų kažkokius neteisėtus veiksmus. Reikalavimus. Tai yra pirmas darbas: išvaikyti šitą švogerių sistemą ir šitą visą zadanijų politiką, kuri tiesiog persismelkus, ir ypatingai, ypatingai regionuose. \n",
            "answer:   1\n"
          ]
        },
        {
          "output_type": "stream",
          "name": "stderr",
          "text": [
            "\r 35%|███▍      | 50/143 [00:31<00:43,  2.12it/s]Setting `pad_token_id` to `eos_token_id`:128001 for open-end generation.\n"
          ]
        },
        {
          "output_type": "stream",
          "name": "stdout",
          "text": [
            "paragraph:  pamenu, vat Vilniaus pavyzdį duosiu. Vilniaus mieste man irgi dažnai tarnautojai sako: „žiūrėk, čia viskas teisingai. Sistema, procedūra išlaikyta“. Bet aš visą laiką klausdavau: „gerbiamasis, jeigu tu statai sau namą arba butą remontuoji ir tau atneša baldą brangesnį tris kartus, ar tu jį pirksi? Be abejo, nepirksi.\n",
            "answer:   1\n"
          ]
        },
        {
          "output_type": "stream",
          "name": "stderr",
          "text": [
            "\r 36%|███▌      | 51/143 [00:31<00:42,  2.16it/s]Setting `pad_token_id` to `eos_token_id`:128001 for open-end generation.\n"
          ]
        },
        {
          "output_type": "stream",
          "name": "stdout",
          "text": [
            "paragraph:  Profesorius Antanas Kulakauskas sako, kad politinės partijos neišspręs šitų problemų, jeigu elg/veiks vienos. „Lietuvos sąrašas“ sako, kad reikia sutelk intelektualinį Lietuvos potencialą nuo šiandien šitom problemom spręst. Ir kas yra svarbiausia, kad mes, iš tikrųjų, kalbėtume labai atvirai. Verslas turi deklaruot savo interesus ir nesislapstyt nuo visuomenės. Lietuvos valstybė turi stabdyt ir visuomenė verslo savivaliavimą, jeigu norima išstumt lietuvius, kad įsivežta būtų pigesnė darbo jėga. Šitie dalykai turi būt stabdomi natūraliai. Bet kitas dalykas, mums gali būt reikalingi ir naudingi aukštos kvalifikacijos imigrantai ir, pavyzdžiui, vers/verslininkai, padorūs verslininkai iš Rytų, jeigu jie ateina čia su savo kapitalu, kuria darbo vietas, bėgdami nuo despotiško rėžimo.\n",
            "answer:   1\n"
          ]
        },
        {
          "output_type": "stream",
          "name": "stderr",
          "text": [
            "\r 36%|███▋      | 52/143 [00:31<00:38,  2.37it/s]Setting `pad_token_id` to `eos_token_id`:128001 for open-end generation.\n"
          ]
        },
        {
          "output_type": "stream",
          "name": "stdout",
          "text": [
            "paragraph:  Dar pasakykit: atnaujinkim draugiškus santykius su Rusija, tada eksportuosim ir užteks pinigų viskam. Ne veltui VSD jus ir pripažino grėsme nacionaliniam saugumui. \n",
            "answer:   1\n"
          ]
        },
        {
          "output_type": "stream",
          "name": "stderr",
          "text": [
            "\r 37%|███▋      | 53/143 [00:32<00:36,  2.44it/s]Setting `pad_token_id` to `eos_token_id`:128001 for open-end generation.\n"
          ]
        },
        {
          "output_type": "stream",
          "name": "stdout",
          "text": [
            "paragraph:  Dar vienas nepažymėtas aspektas būtų tai žmonių mobilumas. Jeigu žinote, šiai dienai daugelis žmonių kaimo vietovėse yra bedarbiai ir suradę mažai apmokamą darbą, jiems tiesiog nebeapsimoka važiuoti, ieškoti darbo, jie sėdi savo kaimo vietovėse vien dėl to, kad pusė darbo užmokesčio išeina padengti kelionės išlaidom. Tai manau, kad galbūt tai galėtų būti ne tiesioginės pašalpos žmonės nemotyvuojant ieškoti darbo, o tai būtų netiesioginis padengimas kelionės išlaidų. Taip pat dar vienas toksai aspektas.\n",
            "answer:   0\n"
          ]
        },
        {
          "output_type": "stream",
          "name": "stderr",
          "text": [
            "\r 38%|███▊      | 54/143 [00:32<00:34,  2.61it/s]Setting `pad_token_id` to `eos_token_id`:128001 for open-end generation.\n"
          ]
        },
        {
          "output_type": "stream",
          "name": "stdout",
          "text": [
            "paragraph:  Devyniais procentais sumažėjo alkoholio pardavimai.\n",
            "answer:   0\n"
          ]
        },
        {
          "output_type": "stream",
          "name": "stderr",
          "text": [
            "\r 38%|███▊      | 55/143 [00:32<00:31,  2.79it/s]Setting `pad_token_id` to `eos_token_id`:128001 for open-end generation.\n"
          ]
        },
        {
          "output_type": "stream",
          "name": "stdout",
          "text": [
            "paragraph:  Tai mokesčių sistema, pačios teisingumas, priklauso nuo to, kaip mes ją suprantam ir kaip teisingai paskirstom.\n",
            "answer:   1\n"
          ]
        },
        {
          "output_type": "stream",
          "name": "stderr",
          "text": [
            "\r 39%|███▉      | 56/143 [00:33<00:30,  2.82it/s]Setting `pad_token_id` to `eos_token_id`:128001 for open-end generation.\n"
          ]
        },
        {
          "output_type": "stream",
          "name": "stdout",
          "text": [
            "paragraph:  Taip, tai iš tikrųjų mūsų partija labai stipriai pasisako tuo klausimu, ypatingai tai, kad gimusiam vaikui mes siūlome suteikti po 3000 eurų, tai yra tam, kad būtų pirminis krepšelis. Antras dalykas, partija pasisako, kad lengvata vaikiškom prekėm turi būti nulinis procentas, nes šiai dienai jaunos šeimos realiai to negali.\n",
            "answer:   1\n"
          ]
        },
        {
          "output_type": "stream",
          "name": "stderr",
          "text": [
            "\r 40%|███▉      | 57/143 [00:33<00:29,  2.91it/s]Setting `pad_token_id` to `eos_token_id`:128001 for open-end generation.\n"
          ]
        },
        {
          "output_type": "stream",
          "name": "stdout",
          "text": [
            "paragraph:  Emigracija!\n",
            "answer:   1\n"
          ]
        },
        {
          "output_type": "stream",
          "name": "stderr",
          "text": [
            "\r 41%|████      | 58/143 [00:33<00:30,  2.82it/s]Setting `pad_token_id` to `eos_token_id`:128001 for open-end generation.\n"
          ]
        },
        {
          "output_type": "stream",
          "name": "stdout",
          "text": [
            "paragraph:  Tai pirmiausia mes, kaip toj dainoj, kviečiam: „sugrįžk“, o nieko nesiūlom žmonėms, kad jie čia sugrįžtų ir jie čia sugrįžę nusivilia ir išvyksta. Tai pirmiausia reikia pasiūlyt konkretų paketą, kas tavęs laukia kai tu sugrįši. Visiškai nesutinku, kad reikia mokėti grįžtantiem išmokas, todėl, kad iš pradžių reikia išvykti, kad paskui gautum išmoką sugrįžęs. Tai mes turim kitokių pasiūlymų ir apie tai – Nalšios kandidatas Zbignev Jedinskij.\n",
            "answer:   1\n"
          ]
        },
        {
          "output_type": "stream",
          "name": "stderr",
          "text": [
            "\r 41%|████▏     | 59/143 [00:34<00:30,  2.74it/s]Setting `pad_token_id` to `eos_token_id`:128001 for open-end generation.\n"
          ]
        },
        {
          "output_type": "stream",
          "name": "stdout",
          "text": [
            "paragraph:  Privalomojo sveikatos draudimo, vėlgi žmogus sako: “aš moku pinigus, bet aš negaunu tos sveikatos kokybės, kokią aš noriu”. Tai pirmiausia mes turime sutvarkyti sveikatos gydymo įstaigas, kad pora besiribojančios sveikatos įstaigos nepirktų analogiškos aparatūros, o jie susiderintų. Yra nelogiška: trys ligoninės vienoj teritorijoj, trys ligoninės turi tą patį rentgeno aparatą. Bet tomografo kažkodėl tai neturi, reikia, eilių laukti reikia tris mėnesius. Dėl to žmogus ir jaučias labai nuskriaustas\n",
            "answer:   1\n"
          ]
        },
        {
          "output_type": "stream",
          "name": "stderr",
          "text": [
            "\r 42%|████▏     | 60/143 [00:34<00:33,  2.50it/s]Setting `pad_token_id` to `eos_token_id`:128001 for open-end generation.\n"
          ]
        },
        {
          "output_type": "stream",
          "name": "stdout",
          "text": [
            "paragraph:  prisiminkim Vitalijaus Gailiaus ir Vytauto Giržado istoriją, kai Finansinių nusikaltimų tyrimų tarnyba ėmėsi rimtai kovot su šešėliu ir kuo ta kova baigėsi. „Lietuvos sąrašas“ ir atsirado kaip protestas prieš tokią valstybės savivalę, valstybės pareigūnų savivalę, kai buvo gniaužiama iš esmės kova su šešėliu, kova su korupcija. Šiandien kas vadovauja mūsų Mokesčių inspekcijai? Va čia rimti klausimai, ar mūsų tarnybos, iš tikrųjų, tos tarnybos, kurios turėtų kovot su šešėliu, pakankamai tą daro. Ir kitas dalykas, iš tikrųjų, „Lietuvos sąrašas“ akcentuoja tai, ką čia ir ponia Aušra sakė, teisingumo, socialinio teisingumo. Kai mokytojas priverstas pirkt, kontrabandines cigaretes, nes neišgyvena, tai yra demoralizavimas ir mūsų visuomenės, ir iš tikrųjų yra labai skaudūs padariniai bendrai visuomenės ateičiai. Mes turim siekt socialinio teisingumo ir taip irgi padėt išeit žmonėm iš šešėlio. \n",
            "answer:   1\n"
          ]
        },
        {
          "output_type": "stream",
          "name": "stderr",
          "text": [
            "\r 43%|████▎     | 61/143 [00:35<00:31,  2.59it/s]Setting `pad_token_id` to `eos_token_id`:128001 for open-end generation.\n"
          ]
        },
        {
          "output_type": "stream",
          "name": "stdout",
          "text": [
            "paragraph:  ne tik maži miesteliai, regionai turi bėdų. Mūsų didieji miestai atsilieka ir neįneša to indėlio, kurį galėtų įnešt į Lietuvos ekonomiką.\n",
            "answer:   1\n"
          ]
        },
        {
          "output_type": "stream",
          "name": "stderr",
          "text": [
            "\r 43%|████▎     | 62/143 [00:35<00:29,  2.75it/s]Setting `pad_token_id` to `eos_token_id`:128001 for open-end generation.\n"
          ]
        },
        {
          "output_type": "stream",
          "name": "stdout",
          "text": [
            "paragraph:  Tuoj pat, tuoj pat, pone Gentvilai, Algirdas Butkevičius, dešimt sekundžių, prašau.\n",
            "answer:   0\n"
          ]
        },
        {
          "output_type": "stream",
          "name": "stderr",
          "text": [
            "\r 44%|████▍     | 63/143 [00:35<00:29,  2.67it/s]Setting `pad_token_id` to `eos_token_id`:128001 for open-end generation.\n"
          ]
        },
        {
          "output_type": "stream",
          "name": "stdout",
          "text": [
            "paragraph:  Norėčiau pratęsti ta prasme, kad pirmiausia jaunimas turi gauti kokybišką išsimokslinimą. Dėl kurio kartais kenčia, dėl mūsų aukštųjų mokyklų nesugebėjimo šitą įgyvendinti. Kuris būtų konkurencingas ir antra, jie turėtų matyti perspektyvą. Galimybę savo žinas panaudoti Lietuvoje. Jau čia buvo minėtas žodis „nepotizmas“. Ir ypač dėl to kenčia dalis jaunimo, kai konkursuose laimi susitarimai, pažintys ir kiti dalykai. Ir dėl to geriau pasirenka užsienį, negu kad vargus Lietuvoje. \n",
            "answer:   1\n"
          ]
        },
        {
          "output_type": "stream",
          "name": "stderr",
          "text": [
            "\r 45%|████▍     | 64/143 [00:36<00:28,  2.81it/s]Setting `pad_token_id` to `eos_token_id`:128001 for open-end generation.\n"
          ]
        },
        {
          "output_type": "stream",
          "name": "stdout",
          "text": [
            "paragraph:  Nekalbėkim selektyviai, niekada mes nepasisakėme už gėjų santuokų įteisinimą, kalbam apie partnerystę.\n",
            "answer:   1\n"
          ]
        },
        {
          "output_type": "stream",
          "name": "stderr",
          "text": [
            "\r 45%|████▌     | 65/143 [00:36<00:27,  2.87it/s]Setting `pad_token_id` to `eos_token_id`:128001 for open-end generation.\n"
          ]
        },
        {
          "output_type": "stream",
          "name": "stdout",
          "text": [
            "paragraph:  Noriu pasakyt, kad šitai vyriausybei per trejis metus pagaliau pavyko beveik Lietuvos žmonėm sugrąžint skolas, kurias, reiškia konservatorių valdymo laikais buvo sukurtos\n",
            "answer:   1\n"
          ]
        },
        {
          "output_type": "stream",
          "name": "stderr",
          "text": [
            "\r 46%|████▌     | 66/143 [00:36<00:27,  2.85it/s]Setting `pad_token_id` to `eos_token_id`:128001 for open-end generation.\n"
          ]
        },
        {
          "output_type": "stream",
          "name": "stdout",
          "text": [
            "paragraph:  Didžiausią, šitą klausimą apie pajamų nelygybę reikia spręsti dviem būdais. Pirmiausia, didinant pajamas, antras būdas tai yra teisingiau perskirstant dabartinius išteklius. Tai pirmiausia pasakysiu labai paprastai: mes paskaičiavom, kad jeigu Lietuvoj vidutinis darbo užmokestis atsiliktų nuo Europos Sąjungos vidutinio darbo užmokesčio tiek, kiek atsilieka darbo našumas, tai galim būti papildomai Lietuvoje dabuotojam pateikti du milijardus eurų.\n",
            "answer:   1\n"
          ]
        },
        {
          "output_type": "stream",
          "name": "stderr",
          "text": [
            "\r 47%|████▋     | 67/143 [00:37<00:25,  2.96it/s]Setting `pad_token_id` to `eos_token_id`:128001 for open-end generation.\n"
          ]
        },
        {
          "output_type": "stream",
          "name": "stdout",
          "text": [
            "paragraph:  nereikėtų rodyt pirštu, Jūs čia man ne koks nors nurodinėtojas.\n",
            "answer:   1\n"
          ]
        },
        {
          "output_type": "stream",
          "name": "stderr",
          "text": [
            "\r 48%|████▊     | 68/143 [00:37<00:25,  2.92it/s]Setting `pad_token_id` to `eos_token_id`:128001 for open-end generation.\n"
          ]
        },
        {
          "output_type": "stream",
          "name": "stdout",
          "text": [
            "paragraph:  Tai iš tikrųjų, jau šita diskusija  ir rodo, kad bendro požiūrio Lietuvoj į ekonomikos vystymą ir jos problemas nėra, ir aš labai linkiu visiem susitart,  nes žmonėms nereikia mūsų ginčų, pykčių, dar ko nors, žmonėms reikia aiškaus rezultato , didesnių pajamų, mažesnių išlaidų, o nuo to, kad vieni vieną siūlys, kiti kitą ir nesutarsim, tai geriau nebus. \n",
            "answer:   1\n"
          ]
        },
        {
          "output_type": "stream",
          "name": "stderr",
          "text": [
            "\r 48%|████▊     | 69/143 [00:37<00:25,  2.95it/s]Setting `pad_token_id` to `eos_token_id`:128001 for open-end generation.\n"
          ]
        },
        {
          "output_type": "stream",
          "name": "stdout",
          "text": [
            "paragraph:  Aš neišsisukinėju, aš tik sakau...\n",
            "answer:   1\n"
          ]
        },
        {
          "output_type": "stream",
          "name": "stderr",
          "text": [
            "\r 49%|████▉     | 70/143 [00:38<00:27,  2.68it/s]Setting `pad_token_id` to `eos_token_id`:128001 for open-end generation.\n"
          ]
        },
        {
          "output_type": "stream",
          "name": "stdout",
          "text": [
            "paragraph:  Laba diena, Darius Stankus, atstovauju Tauragės industrinį parką. Mažai kalbėta apie regionus, noriu pasakyti, kad per ganėtinai trumpą laiką yra pavykę pritraukti dešimt užsienio kapitalo investicijų ir sukurta daugiau kaip 800 naujų darbo vietų. Mūsų patirtis rodo, kad ypatngai reikalingas greitis, priimant įvairius sprendimus, panaikinti reikalinga biurokratines kliūtis, nes mūsų patirtis rodo, kad kartais trys berželiai, kurių negalima nukirsti, mum kainuoja gamyklos išvažiavimą į kitą šalį. \n",
            "answer:   1\n"
          ]
        },
        {
          "output_type": "stream",
          "name": "stderr",
          "text": [
            "\r 50%|████▉     | 71/143 [00:38<00:29,  2.45it/s]Setting `pad_token_id` to `eos_token_id`:128001 for open-end generation.\n"
          ]
        },
        {
          "output_type": "stream",
          "name": "stdout",
          "text": [
            "paragraph:  Pirmiausiai, minimalios mėnesinės algos ddinimas, NPD didinimas, ir, reiškia, kai kurių pajamų, gaunamų iš kapitalo, tuo metu virš 10 000 litų, ta dalis tapo apmokestinama. Po to, reiškia, mes įvedėm labai aiškią fiskalinę discipliną. Jeigu praeitus metus mes baigėm su minus 0,2 procento deficito nuo bendro vidaus produkto. Tikriausiai irgi rekordiniai buvo metai, o tarp Europos Sąjungos šalių mes buvom penkti. Netgi planas buvo truputį ne toks ambicingas. Ir mes užtikrinam, kad ekonominis tvarumas ir toliau išliks. Populistinių sprendimų niekada nebus. Viskas bus pagrįsta analize, išvadom, viskas bus pamatuota, tai kad, ir žiūrint į perspektyvą mes galėtumėm skolintis, kaip dabar, su neigiamom palūkanom. Paskutiniu metu Finansų ministerija išplatino vertybinius popierius. \n",
            "answer:   1\n"
          ]
        },
        {
          "output_type": "stream",
          "name": "stderr",
          "text": [
            "\r 50%|█████     | 72/143 [00:39<00:28,  2.50it/s]Setting `pad_token_id` to `eos_token_id`:128001 for open-end generation.\n"
          ]
        },
        {
          "output_type": "stream",
          "name": "stdout",
          "text": [
            "paragraph:  Kęstuti, Jūsų Ministrė taip puikiai supranta, kad bijo akis parodyt eteryje.\n",
            "answer:   1\n"
          ]
        },
        {
          "output_type": "stream",
          "name": "stderr",
          "text": [
            "\r 51%|█████     | 73/143 [00:39<00:28,  2.47it/s]Setting `pad_token_id` to `eos_token_id`:128001 for open-end generation.\n"
          ]
        },
        {
          "output_type": "stream",
          "name": "stdout",
          "text": [
            "paragraph:  Nu kas iš tų gražių Rolando Paulausko ir Dariaus Kuolio pasiūlymų, jeigu Lietuvoj...\n",
            "answer:   1\n"
          ]
        },
        {
          "output_type": "stream",
          "name": "stderr",
          "text": [
            "\r 52%|█████▏    | 74/143 [00:39<00:27,  2.47it/s]Setting `pad_token_id` to `eos_token_id`:128001 for open-end generation.\n"
          ]
        },
        {
          "output_type": "stream",
          "name": "stdout",
          "text": [
            "paragraph:  Teisingai! Tai Jūs nusiimkit tuos rožinius po reklamos\n",
            "answer:   1\n"
          ]
        },
        {
          "output_type": "stream",
          "name": "stderr",
          "text": [
            "\r 52%|█████▏    | 75/143 [00:40<00:27,  2.47it/s]Setting `pad_token_id` to `eos_token_id`:128001 for open-end generation.\n"
          ]
        },
        {
          "output_type": "stream",
          "name": "stdout",
          "text": [
            "paragraph:  Aš dar kartą noriu akcentuoti, kad jokių pertvarkų šiandienai nereikia ir nebegąsdinkim mes tų pareigūnų. Švietimo pertvarka, policijos pertvarka.\n",
            "answer:   1\n"
          ]
        },
        {
          "output_type": "stream",
          "name": "stderr",
          "text": [
            "\r 53%|█████▎    | 76/143 [00:40<00:28,  2.36it/s]Setting `pad_token_id` to `eos_token_id`:128001 for open-end generation.\n"
          ]
        },
        {
          "output_type": "stream",
          "name": "stdout",
          "text": [
            "paragraph:  Tai kiek girdžiu, kolegų klausimus ir komentarus , tikriausiai visi pamiršta, kad visų pirma reikėtų mažinti biurokratinę naštą, nes biurokratų kiekis nemažėja lygiai taip pat, kaip mažėja Lietuvos gyventojų. Tai nebūtina gal kilnoti biurokratų į kažkokį kaimą, rajoną, ir galvot apie tai, kad pagerės kažkas tai. Tai iš visų siūlymų yra labai paprastas, kad pragyvenimo lygis skiriasi ir bazė irgi turėtų pradėt skirtis. Kas turėtų prilaikyt tuos žmones tose vietose ir gaut daugiau pinigų. Tai nereiškia, kad, na, atimam mokesčius iš kažko tai, bet pradedam juos diferencijuot ir duot laisvę tiems miestams priimt tas mokestines lengvatas. \n",
            "answer:   1\n"
          ]
        },
        {
          "output_type": "stream",
          "name": "stderr",
          "text": [
            "\r 54%|█████▍    | 77/143 [00:41<00:26,  2.47it/s]Setting `pad_token_id` to `eos_token_id`:128001 for open-end generation.\n"
          ]
        },
        {
          "output_type": "stream",
          "name": "stdout",
          "text": [
            "paragraph:  Dėl programos, dėl „Kurk Lietuvai“. Visa bėda yra ta, kad ta programa, buvo bandyta ją uždaryti. Ir tą sako tos programos vadovai. O čia yra iššūkiai. Mes kalbam apie tai, kad programa turi būti plečiama ir, mano nuomone, plečiama gali būti netgi dešimtį kartų. Ir tada jinai gali, iš tikrųjų, pritraukti žmones grįžti į Lietuvą. Tai būtų aiškus pažadas. Dėl to, kad jūs to pažado nedavėt. \n",
            "answer:   1\n"
          ]
        },
        {
          "output_type": "stream",
          "name": "stderr",
          "text": [
            "\r 55%|█████▍    | 78/143 [00:41<00:24,  2.62it/s]Setting `pad_token_id` to `eos_token_id`:128001 for open-end generation.\n"
          ]
        },
        {
          "output_type": "stream",
          "name": "stdout",
          "text": [
            "paragraph:  Taigi Seime Naglis sėdi, kas jam trukdo dabar tą daryt...\n",
            "answer:   1\n"
          ]
        },
        {
          "output_type": "stream",
          "name": "stderr",
          "text": [
            "\r 55%|█████▌    | 79/143 [00:42<00:26,  2.45it/s]Setting `pad_token_id` to `eos_token_id`:128001 for open-end generation.\n"
          ]
        },
        {
          "output_type": "stream",
          "name": "stdout",
          "text": [
            "paragraph:  Tai nieko labai iš esmės nepakeistų, Lietuva pati nėra labai didelė, bet galima tuo žaist. Apskritai, į regionus turėtų būt nukreiptas rimtas dėmesys. O šiandien mes mažesniem, smulkesniem, mažiau pajėgesniem mažiau ir davėm. Mes siūlom likusią Europos Sąjungos struktūrinę paramą kartu su valstybės pinigais nukreipt į regionus, bet nukreipt labai tikslingai, išsiaiškinant tų regionų žmonių kompetencijas, ten kuriant darbo vietas, nebekuriant naujų aikščių, nebestatant naujų prabangos dalykų, bet sukuriant naujas darbo vietas žmonėm pagal jų gebėjimus. Ir tai įmanoma yra padaryt. Dar ką mes siūlom, iš tikrųjų, nes išsivaikšto sparčiausiai regionai. Regionai išvažiuoja visi į Norvegijas ir kitur. Ten mes turim, iš tikrųjų, turėt ir lengvatų politiką. Verslas, kuris kuria darbo vietas regionuose ir darbo vietas, iš kurių žmonės gauna didesnius negu vidutinius atlyginimus, turėtų gaut lengvatas, už naujas darbo vietas taip pat lengvatas. Tą įmanoma yra padaryt, tą mes ir siūlom.\n",
            "answer:   1\n"
          ]
        },
        {
          "output_type": "stream",
          "name": "stderr",
          "text": [
            "\r 56%|█████▌    | 80/143 [00:42<00:23,  2.65it/s]Setting `pad_token_id` to `eos_token_id`:128001 for open-end generation.\n"
          ]
        },
        {
          "output_type": "stream",
          "name": "stdout",
          "text": [
            "paragraph:  Jūs neklaidinkit visuomenės.\n",
            "answer:   1\n"
          ]
        },
        {
          "output_type": "stream",
          "name": "stderr",
          "text": [
            "\r 57%|█████▋    | 81/143 [00:42<00:23,  2.62it/s]Setting `pad_token_id` to `eos_token_id`:128001 for open-end generation.\n"
          ]
        },
        {
          "output_type": "stream",
          "name": "stdout",
          "text": [
            "paragraph:  Iš tikrųjų, su Premjeru, mes nemažai gerų darbų padarę buvome ir ne tik avaringume. Bet aš noriu paminėti dėl ribojimo. Iš tiesų, kalbam apie licenzijuotus taškus, kur galima prekiauti. Mes turime beveik 19 000 šitų taškų, licenzijos kaina yra 375 eurai. Ir jinai yra neribotos trukmės. Tai pagalvokime, kokie yra pelnai, ir jeigu mes tokiu legvu būdu, lengva ranka daliname licenzijas, tai, aišku, apie prieinamumo mažinimą kalbos negali būti. Ir norėčiau žodį perduoti profesoriui Aurelijui Verygai, šio klausimo profesionalui.\n",
            "answer:   1\n"
          ]
        },
        {
          "output_type": "stream",
          "name": "stderr",
          "text": [
            "\r 57%|█████▋    | 82/143 [00:43<00:22,  2.67it/s]Setting `pad_token_id` to `eos_token_id`:128001 for open-end generation.\n"
          ]
        },
        {
          "output_type": "stream",
          "name": "stdout",
          "text": [
            "paragraph:  Aš išvis džiaugiuosi, kad mūsų frakcijos buvimas Seime, taip tikrai keičia daugelį kitų partijų nuomonę ir požiūrį į šeimą ir iš tikrųjų per tuos ketverius metus, vis dėlto, pavyko daug įtakos padaryti, kad šeima tai vyras ir moteris, tai šeima tai labai svarbu santuoka, bet vienas taip pat labai svarbus momentas, kad eem, mintis iššoko.\n",
            "answer:   1\n"
          ]
        },
        {
          "output_type": "stream",
          "name": "stderr",
          "text": [
            "\r 58%|█████▊    | 83/143 [00:43<00:21,  2.75it/s]Setting `pad_token_id` to `eos_token_id`:128001 for open-end generation.\n"
          ]
        },
        {
          "output_type": "stream",
          "name": "stdout",
          "text": [
            "paragraph:  Pinigai ateina ten, kur yra kvalifikuotų žmonių, pone Gentvilai. Pirmiausiai. Antras klausimas, kurį užduosime Sauliui Skverneliui: pone Skverneli, kaip ketinate keisti mokesčių sistemą? Kokių tikslų sieksite?\n",
            "answer:   1\n"
          ]
        },
        {
          "output_type": "stream",
          "name": "stderr",
          "text": [
            "\r 59%|█████▊    | 84/143 [00:43<00:23,  2.55it/s]Setting `pad_token_id` to `eos_token_id`:128001 for open-end generation.\n"
          ]
        },
        {
          "output_type": "stream",
          "name": "stdout",
          "text": [
            "paragraph:  Na, matot, jau čia daug kas yra nuveikta, neseniai sėdint šalia su žmogum ūkininku, jisai man pasakė: „aš nesuprantu, kodėl dabar lendlordus vadina ūkininkais“. Manyčiau kad dar likusiems ūkininkams mokestines lengvatas ir panašiai reiktų sudaryt, kad jie dar galėtų atsigavę sukurt kooperatyvus, žodžiu, galimybes dar jiem apskritai ūkyje išlikti. Nes dabar tas toks plantatoriškas ūkis, manau, socialiai neteisingas, o tie žmonės, va, kalba tai ypatingai ir Suvalkijoj, kur čia kada sakiau, kad karvės emigruoja, be abejo, pasimetę, ir visokios girtavimo, panašiai, taii, jie dabar jau vyresni, kai kurie, pavyzdžiui, iš tokio kaimo, ne Australijoj, taigi, turėtume kažkaip tai Krupavičiaus pavyzdžiu pagalvoti, kad tikrai socialiai atsakingas yra toks kooperatinis ūkis, bet ne plantatoriškas. Plantatoriški ūkiai, deja, kaimą labai apšvarino.\n",
            "answer:   1\n"
          ]
        },
        {
          "output_type": "stream",
          "name": "stderr",
          "text": [
            "\r 59%|█████▉    | 85/143 [00:44<00:22,  2.57it/s]Setting `pad_token_id` to `eos_token_id`:128001 for open-end generation.\n"
          ]
        },
        {
          "output_type": "stream",
          "name": "stdout",
          "text": [
            "paragraph:  Tai pirmiausia mes dėl pensijų sumažinimo jau esam išmokėję 220 milijonų eurų. Jeigu būtume taip didinę pensijas ir jos būtų nesumažintos, tam tikroj bazėj likę anksčiau tai būtumėm padidinę pensijas jau 30 procentų. Tai reiškia, kad skurdo riba būtų visiški kitokia Lietuvoj. Dabar mes esam pasiruošę jau kitais metais skirt 90 milijonų eurų, tai reiškia pensijų kompensavimas ir darbo užmokesčio kompensavimas praktiškai bus užbaigtas\n",
            "answer:   1\n"
          ]
        },
        {
          "output_type": "stream",
          "name": "stderr",
          "text": [
            "\r 60%|██████    | 86/143 [00:44<00:22,  2.56it/s]Setting `pad_token_id` to `eos_token_id`:128001 for open-end generation.\n"
          ]
        },
        {
          "output_type": "stream",
          "name": "stdout",
          "text": [
            "paragraph:  Žiūrint į tai, kas darosi Lietuvoj ir girdint kolegų kalbas, aš suvesčiau jų pasaulio supratimą ir nacionalinio saugumo klausimą į tokią formulę: jie sako: „rusai puola – Amerika padės“. Vat ir viskas. Tai yra ant tiek supaprastintas pasaulio vaizdas. Reiškias, įsivaizduojat, kad yra kažkur good guys ir yra bad guys, ir jeigu mes gerai ginkluosimės, tai tie, kaip blogiečiai mus užpuls, tai geriečiai mum padės. Nes nepadės mum šiti bokseriai. Nepadės, nes yra visiškai kitos priežastys konflikto. O jūs apie tai net nekalbat.\n",
            "answer:   1\n"
          ]
        },
        {
          "output_type": "stream",
          "name": "stderr",
          "text": [
            "\r 61%|██████    | 87/143 [00:44<00:20,  2.73it/s]Setting `pad_token_id` to `eos_token_id`:128001 for open-end generation.\n"
          ]
        },
        {
          "output_type": "stream",
          "name": "stdout",
          "text": [
            "paragraph:  Galite tęsti mint, Jūs dar turit pusę minutės. Prašau.\n",
            "answer:   1\n"
          ]
        },
        {
          "output_type": "stream",
          "name": "stderr",
          "text": [
            "\r 62%|██████▏   | 88/143 [00:45<00:19,  2.76it/s]Setting `pad_token_id` to `eos_token_id`:128001 for open-end generation.\n"
          ]
        },
        {
          "output_type": "stream",
          "name": "stdout",
          "text": [
            "paragraph:  tai dabar tiek daugiabučių yra ir juose gyvena žmonės, kurie labai nepelnytai daug moka už šilumą vien dėl to, kad tie namai kiauri. Bet užtenka sutvarkyt stogą, langus, šiaurinę sieną ir šilumos mazgą. Tą darant etapais tai kainuoja nedaug, taip galima planuoti valstybės paramą ir pasiekus efektyvumo klasę tik tada rangovui mokėti pinigus. O ne kai jis padaro darbą ir bankrutuoja.\n",
            "answer:   1\n"
          ]
        },
        {
          "output_type": "stream",
          "name": "stderr",
          "text": [
            "\r 62%|██████▏   | 89/143 [00:45<00:19,  2.79it/s]Setting `pad_token_id` to `eos_token_id`:128001 for open-end generation.\n"
          ]
        },
        {
          "output_type": "stream",
          "name": "stdout",
          "text": [
            "paragraph:  Tik aš noriu pasakyt dėl PVMo. Gerbiamas Landsbergi, nu Jūs puikiai suprantat, kad Jūsų valdymo laikotarpiu PVM mokesčio surinkimas buvo labai blogas. Labai blogas . Tik mūsų Vyriausybėje pagaliau pavyko PVM pajamų planą įvykdyt. Pripažinkit.\n",
            "answer:   1\n"
          ]
        },
        {
          "output_type": "stream",
          "name": "stderr",
          "text": [
            "\r 63%|██████▎   | 90/143 [00:46<00:18,  2.82it/s]Setting `pad_token_id` to `eos_token_id`:128001 for open-end generation.\n"
          ]
        },
        {
          "output_type": "stream",
          "name": "stdout",
          "text": [
            "paragraph:  Norėčiau nesutikti su Rolandu Paulausku, kaip tik mūsų koalicija mano, ir aš asmeniškai įsitikinęs ir aš galiu iš 20 metų savo politiko praktikos pasakyt, kad šitą šešėlinę ekonomiką kuria ne verslininkai, ne eiliniai piliečiai, prekiaudami nelegaliai turguj, o Seimo nariai Europoj tokių sumų niekas negrynina.\n",
            "answer:   1\n"
          ]
        },
        {
          "output_type": "stream",
          "name": "stderr",
          "text": [
            "\r 64%|██████▎   | 91/143 [00:46<00:18,  2.86it/s]Setting `pad_token_id` to `eos_token_id`:128001 for open-end generation.\n"
          ]
        },
        {
          "output_type": "stream",
          "name": "stdout",
          "text": [
            "paragraph:  Aš tikrai nepritarčiau kolegės mintims, kad reiktų kažkaip įsileisti baltarusiškus vaistus,  nes galbūt jie, iš tikrųjų, yra gerokai pigesni, bet mes esame Europos Sąjungoje ir jie turi būti akredituoti Europos Sąjungoje. \n",
            "answer:   1\n"
          ]
        },
        {
          "output_type": "stream",
          "name": "stderr",
          "text": [
            "\r 64%|██████▍   | 92/143 [00:46<00:18,  2.73it/s]Setting `pad_token_id` to `eos_token_id`:128001 for open-end generation.\n"
          ]
        },
        {
          "output_type": "stream",
          "name": "stdout",
          "text": [
            "paragraph:  Labas vakaras. Mūsų iniciatyva buvo įkurtas Visuomenės sveikatos fondas, ir dėkinga esu Seimo nariams, kurie visi taip palaikė ir dabar jau šiais metais yra virš milijono eurų, tai yra visuomenės švietimui, įvairioms programoms. Be abejonės, alkoholio kontrolės įstatymas yra, turbūt, dažniausiai keičiamas ir Seimas labai dažnai įveliamas į įvairias konkurencines kovas. To neturėtų būti. Vyriausybei yra duotas pavedimas, kad būtų pateiktos kompleksinės priemonės visiems verslo subjektams, visiems lygios sąlygos dėl alkoholio užkardymo ir jo pardavimo ribojimo. Neturi būti, eeem, kaip išsireiškė Konkurencijos taryba, eem, kad vieni subjekai turi vienokias sąlygas, kiti – kitokias.\n",
            "answer:   1\n"
          ]
        },
        {
          "output_type": "stream",
          "name": "stderr",
          "text": [
            "\r 65%|██████▌   | 93/143 [00:47<00:17,  2.83it/s]Setting `pad_token_id` to `eos_token_id`:128001 for open-end generation.\n"
          ]
        },
        {
          "output_type": "stream",
          "name": "stdout",
          "text": [
            "paragraph:  Tai labai trumpai, tiktai aš norėjau reaguoti į tai, kas buvo pasakyta apie diskusiją su visuomene dėl reikalingų įstatymų. \n",
            "answer:   1\n"
          ]
        },
        {
          "output_type": "stream",
          "name": "stderr",
          "text": [
            "\r 66%|██████▌   | 94/143 [00:47<00:17,  2.83it/s]Setting `pad_token_id` to `eos_token_id`:128001 for open-end generation.\n"
          ]
        },
        {
          "output_type": "stream",
          "name": "stdout",
          "text": [
            "paragraph:  mes į bendrą chorą įsiliejam, taip pat už tai, kad būtų pertvarkoma pridėtinės vertės mokesčio sistema. Pirmiausiai siekiant sugrąžinti valstybei ekonominio valdymo galią. Todėl mūsų pasiūlymas būtų toksai: bendras bazinis tarifas aštuoniolika procentų. Lengvatinis tarifas – penkti procentai. Nulinis tarifas eksportuojamom prekėm ir ypatingos svarbos prekėm, nes tai reiškia dar ir mokesčio grąžinimą.\n",
            "answer:   1\n"
          ]
        },
        {
          "output_type": "stream",
          "name": "stderr",
          "text": [
            "\r 66%|██████▋   | 95/143 [00:47<00:16,  2.88it/s]Setting `pad_token_id` to `eos_token_id`:128001 for open-end generation.\n"
          ]
        },
        {
          "output_type": "stream",
          "name": "stdout",
          "text": [
            "paragraph:  Penktas klausimas partijai “Tvarka ir teisingumas” Remigijui Žemaitaičiui. Pone Žemaitaiti, labai bendras klausimas: ką keisite, kad mokesčių sistema būtų teisingesnė?\n",
            "answer:   1\n"
          ]
        },
        {
          "output_type": "stream",
          "name": "stderr",
          "text": [
            "\r 67%|██████▋   | 96/143 [00:48<00:15,  2.94it/s]Setting `pad_token_id` to `eos_token_id`:128001 for open-end generation.\n"
          ]
        },
        {
          "output_type": "stream",
          "name": "stdout",
          "text": [
            "paragraph:  Ne, pagal mūsų programą jokios ministerijos neperkeliamos ir būtų gerai, kad neprimetinėtumėt dalykų, kurių mes nesiūlom.\n",
            "answer:   0\n"
          ]
        },
        {
          "output_type": "stream",
          "name": "stderr",
          "text": [
            "\r 68%|██████▊   | 97/143 [00:48<00:17,  2.70it/s]Setting `pad_token_id` to `eos_token_id`:128001 for open-end generation.\n"
          ]
        },
        {
          "output_type": "stream",
          "name": "stdout",
          "text": [
            "paragraph:  Na, aš negaliu neprisimint, kad mes esam 25 metai po Nepriklausomybės paskelbimo. Ir tai, ką mes šiandieną turim, tai yra dviejų partijų darbo rezultatas. Socialdemokratai ir Konservatoriai. Tik jų premjerai buvo per tą, tik jų žmonės buvo premjerais.  Prie jų prisijungdavo viena kita nedidelė partija, šituose rinkimuose tokia partija bus, aiškiai matosi, „Valstiečiai“, tai suprantat, neanalizuojant priežasčių, kodėl per 25 metus mes pasidarėm paskutiniai Europoj? Kodėl pas mus tokia emigracija? Tai gaila, kad jų nėra. O jie susitarė, penkios sesės, susitarė diskutuot tarpusavy, kaip tik tie, kurie atsakingi už šitą ketvirtį amžiaus, atsisako diskutuot su mumis. Kolegos, ar ne?  Taip kad, kai Jūs sakot, kad lygios sąlygos, tai ne visai. Norėtųsi jiems užduot šitą klausimą.\n",
            "answer:   1\n"
          ]
        },
        {
          "output_type": "stream",
          "name": "stderr",
          "text": [
            "\r 69%|██████▊   | 98/143 [00:48<00:16,  2.65it/s]Setting `pad_token_id` to `eos_token_id`:128001 for open-end generation.\n"
          ]
        },
        {
          "output_type": "stream",
          "name": "stdout",
          "text": [
            "paragraph:  Eikit sau, kaip man patinka, kaip jūs čia šnekat apie tai, kaip jūs darot paskutinėmis kadencijos dienomis ką nors, pavyzdžiui, dėl personalinės ministro atsakomybės. Vakar komitete svarstėm, patys darbiečiai nebalsavo už šitą projektą. Žaliava populistinė prieš rinkimus pateikta, apie kurią būtų galima štai šitoje pasakyt. Dabar kitas dalykas – NPD didinimas. Visą vasarą sakėme, tai šią vasarą vyriausybė pradėjo aptarinėt: prieš rinkimus didinsime. Tai ar galvojame ketverius metus apie tuos dalykus, ar priešrinkiminį šou darome? \n",
            "answer:   1\n"
          ]
        },
        {
          "output_type": "stream",
          "name": "stderr",
          "text": [
            "\r 69%|██████▉   | 99/143 [00:49<00:16,  2.71it/s]Setting `pad_token_id` to `eos_token_id`:128001 for open-end generation.\n"
          ]
        },
        {
          "output_type": "stream",
          "name": "stdout",
          "text": [
            "paragraph:  Taip, iš tikrųjų irgi, nuskamba neblogų minčių, norėčiau taip pat priminti gerbiamiesiem, keturi metai, atleiskit, ketvirti turbūt debatai, tai primenu – jūsų valdžia, galėjot padaryt. \n",
            "answer:   1\n"
          ]
        },
        {
          "output_type": "stream",
          "name": "stderr",
          "text": [
            "\r 70%|██████▉   | 100/143 [00:49<00:16,  2.56it/s]Setting `pad_token_id` to `eos_token_id`:128001 for open-end generation.\n"
          ]
        },
        {
          "output_type": "stream",
          "name": "stdout",
          "text": [
            "paragraph:  Noriu kreiptis dabar ne tik į studijos svečius, bet noriu kreiptis į televizijos žiūrovus. Ar jum teko kada nors girdėti, kad Seimo nariai arba valdininkai ministerijose susimestų pinigų išsidažyti savo kabinetų grindims? Išsiklijuoti tapetais sienas? Išsibalinti lubas? Ir kas dabar darosi pradinėse mokyklose? Kas darosi darželiuose? Tėveliai meta pinigus tam, kad dažyti grindis, sienas, atnaujinti savo inventorių. Paprastas sprendimas – šiuo metu knyga storais viršeliais, spalvotom nuotraukom, 400 puslapių išleisti savikaina yra maždaug apie pusantro euro. Pratybos – 100-o puslapių, plonais viršeliais, be spalvotų nuotraukų kainuoja aštuonis su puse euro. Aštuoni kartai skirtumas. Ar matot, kad čia vėl šaukštai ir šakutės? Ta pati korupcija. Štai, kur mūsų pinigai.\n",
            "answer:   1\n"
          ]
        },
        {
          "output_type": "stream",
          "name": "stderr",
          "text": [
            "\r 71%|███████   | 101/143 [00:50<00:15,  2.64it/s]Setting `pad_token_id` to `eos_token_id`:128001 for open-end generation.\n"
          ]
        },
        {
          "output_type": "stream",
          "name": "stdout",
          "text": [
            "paragraph:  Aš noriu pateikti pavyzdį. Dešimties vaikų šeima, mama turi dešimt vaikų, trys nepilnamečiai, vienas suaugęs yra neįgalus, Klaipėdos liberalai, kontroliuojantys absoliučiai visas įmones, įskaitant ir „Klaipėdos vandenį“, užsiundo antstolius ir atjungia vandenį.\n",
            "answer:   1\n"
          ]
        },
        {
          "output_type": "stream",
          "name": "stderr",
          "text": [
            "\r 71%|███████▏  | 102/143 [00:50<00:15,  2.58it/s]Setting `pad_token_id` to `eos_token_id`:128001 for open-end generation.\n"
          ]
        },
        {
          "output_type": "stream",
          "name": "stdout",
          "text": [
            "paragraph:  Dar sykį kartoju: bet koks imigrantų atvažiavimas į Lietuvą duos tokį rezultatą, kurį mes matom šiandieną Vakarų Europoj. Ir reikia apsispręs Lietuvos visuomenei, ar mes šito norim, ar tokia visuomenė tenkina mus, o jokio kito rezultato būti negali. Nes Europos praktika kelių dešimčių metų parodė, kuo baigiasi tikėjimas, kad kažkas atvažiuos pas jus dirbti juodus darbus, galų gale mes patys lietuviai, kurie vyksta į Vakarų Europą, jie turi dirbt juodus darbus, bet kiekvienas nori gi paskui pretenduot visai į kitą lygmenį. Ir tada visuomenei iškyla grandiozinės problemos, kurios jau yra nebeišsprendžiamos. Tai aš čia jau kalbu apie migrantų reikalus, aš tikiuosi mes dar kalbėsim apie tai.\n",
            "answer:   1\n"
          ]
        },
        {
          "output_type": "stream",
          "name": "stderr",
          "text": [
            "\r 72%|███████▏  | 103/143 [00:50<00:14,  2.67it/s]Setting `pad_token_id` to `eos_token_id`:128001 for open-end generation.\n"
          ]
        },
        {
          "output_type": "stream",
          "name": "stdout",
          "text": [
            "paragraph:  Kitas dalykas – kuo daugiau policininkų turėtų būti gatvėse ir kuo mažiau kabinetuose. Tai yra problema, apie kurią visi viešai žinome.\n",
            "answer:   1\n"
          ]
        },
        {
          "output_type": "stream",
          "name": "stderr",
          "text": [
            "\r 73%|███████▎  | 104/143 [00:51<00:14,  2.60it/s]Setting `pad_token_id` to `eos_token_id`:128001 for open-end generation.\n"
          ]
        },
        {
          "output_type": "stream",
          "name": "stdout",
          "text": [
            "paragraph:  Ne atskira. Galimybė rinkti savo mokesčius. Tai yra, pavyzdžiui, seniūnijos mokestis gali būti. Žmonės moka seniūnijos mokestį, kaip yra Vakarų Europoje, ir žino, ir žino, kam jis panaudojamas.\n",
            "answer:   0\n"
          ]
        },
        {
          "output_type": "stream",
          "name": "stderr",
          "text": [
            "\r 73%|███████▎  | 105/143 [00:51<00:15,  2.49it/s]Setting `pad_token_id` to `eos_token_id`:128001 for open-end generation.\n"
          ]
        },
        {
          "output_type": "stream",
          "name": "stdout",
          "text": [
            "paragraph:  Kada mokesčiai yra teisingi? Toks buvo klausimas. Teisingi mokesčiai yra tada, kai jų dydis yra toks, kai visi noriai tuos mokesčius moka. Ir kai supranta skaidriai ir viešai ir visi kartu nusprendžia, kaip tie mokesčiai bus panaudojami. Tai čia trumpai, tai mes to ir sieksime. O kaip konkrečiai tai galėtų atsiliepti, pavyzdžiui, verslui, ką reikėtų daryti, kad verslas klestėtų, norėčiau, kad papasakotų mūsų kolega Valerijanas Kijevičius, mūsų kandidatas Nemenčinės apygardoj.\n",
            "answer:   1\n"
          ]
        },
        {
          "output_type": "stream",
          "name": "stderr",
          "text": [
            "\r 74%|███████▍  | 106/143 [00:52<00:14,  2.50it/s]Setting `pad_token_id` to `eos_token_id`:128001 for open-end generation.\n"
          ]
        },
        {
          "output_type": "stream",
          "name": "stdout",
          "text": [
            "paragraph:  Tai šitoj vietoj mes atsižvelgiam į investuotojų poreikius ir esame pasiruošę tai daryti ateityje.\n",
            "answer:   1\n"
          ]
        },
        {
          "output_type": "stream",
          "name": "stderr",
          "text": [
            "\r 75%|███████▍  | 107/143 [00:52<00:15,  2.39it/s]Setting `pad_token_id` to `eos_token_id`:128001 for open-end generation.\n"
          ]
        },
        {
          "output_type": "stream",
          "name": "stdout",
          "text": [
            "paragraph:  Aš tiesiog keliu klausimą, ar visuomenė yra pasiruošusi, nes dažnai mes šnekam apie tą socialinės atskirties mažinimą, bet mes norim, kad nieks nenukentėtų. O taip nebūna. Jeigu norim rimtai tuo užsiimt – kažkas nukentės.\n",
            "answer:   1\n"
          ]
        },
        {
          "output_type": "stream",
          "name": "stderr",
          "text": [
            "\r 76%|███████▌  | 108/143 [00:53<00:16,  2.16it/s]Setting `pad_token_id` to `eos_token_id`:128001 for open-end generation.\n"
          ]
        },
        {
          "output_type": "stream",
          "name": "stdout",
          "text": [
            "paragraph:  Tai yra prancūzijos kompanija “Dalkijo”, arba šiuo metu “Violija”. Ir dėl to jinai sutiko didžiulį pasipriešinimą. Iš visų gaspromų, iš visų tarpininkų, kurie tiekia mazutą, uždirbinėjo iš perpardavimo dujų ir panašiai. Ir šiandini..Šiandien jeigu vertinčiau šitą sutartį, aš vertinčiau ją teigiamai. Gaila, kad pats Seimas įst..eem, eem, įstatymų leidėjai sumalė viską taip, kad šiandien, deja, visa kontrolė sutarties iš savivaldybės rankų išėjo į Vyriausybę. O grįžtant dar šiek tiek prie temos globalesnės tai noriu pasakyt, kad šiandien pažangus pasaulis mąsto, kad 2050-aisiais metais  iš esmės šilumos ūkis toks, koks dabar yra nebebus nei naudojamas, nei efektyvus. Kiekvienas namas, jeigu kalbėtume apie ateities energetinius sprendimus, kalbant apie atsinaujinančią energetiką, būtų nepriklausimas, pats gaminų sau elektrą, pats gamintų sau šilumą ir neriklausytų nuo nieko. Nuo jokio monopolininko, didesnio ar mažesnio. Vietinio, ar savo, ar užsienio.\n",
            "answer:   1\n"
          ]
        },
        {
          "output_type": "stream",
          "name": "stderr",
          "text": [
            "\r 76%|███████▌  | 109/143 [00:53<00:16,  2.03it/s]Setting `pad_token_id` to `eos_token_id`:128001 for open-end generation.\n"
          ]
        },
        {
          "output_type": "stream",
          "name": "stdout",
          "text": [
            "paragraph:  Aš, kadangi atstovauju antikorupcinei koalicijai ir mūsų pagrindinis tikslas yra kova su politine korupcija, tai, aam, atliepdamas į Jūsų užduotą temą, tai yra socialinė atskirtis, aš galiu pasakyti, kad žmones piktina ne tik tai, kad jie turi mažas pajamas, bet dar, kai jie mato tokius pavyzdžius auksinių šaukštų, tai dar labiau juos žeidžia ir dar labiau pabrėžia tą socialinės atskirties eem, dydį ir baisumą, todėl, kad tie, kurie prieina prie politinės korupcijos galimybių, jie lobsta, o, skurdo lygis Lietuvoj išaugo. Tai aš dar norėsiu paskui šiek tiek grįžti, mes kol kas vieninteliai išdrįsę paduoti į teismą Lietuvos Respublikos vyriausybę ir Premjerą Algirdą Butkevičių. Mano rankose – skundas, jis buvo prieš porą dienų įteiktas Vilniaus apygardos Administraciniam teismui. Eem, būtent dėl išaugusių kainų, eem, kurios irgi lemia tai, kad žmonės tą socialinę atskirtį, kiekvienas, savo piniginėj jaučia vis labiau. Jiem nebeužtenka galo su galu sudurti. Ir mes reikalausim atsakomybės, nes eina kalba apie asmeninę atsakomybę, tai štai, tas kelias, teisinis kelias, duodant į teismą\n",
            "answer:   1\n"
          ]
        },
        {
          "output_type": "stream",
          "name": "stderr",
          "text": [
            "\r 77%|███████▋  | 110/143 [00:53<00:14,  2.23it/s]Setting `pad_token_id` to `eos_token_id`:128001 for open-end generation.\n"
          ]
        },
        {
          "output_type": "stream",
          "name": "stdout",
          "text": [
            "paragraph:  Va išnuomavo kolega stovintis liberalas kažkada Vilniaus „Šilumos ūkį“, šiandieną ką mes skaitom? Kokie ten nuostoliai yra padaryti Vilniui? Kiek milijonų? Visa tai galėjo atpigint šilumą pensininkui. Tas pats yra su dujų laivu, kuris buvo nupirktas visiškai ne toks, kokio mum reikia.\n",
            "answer:   1\n"
          ]
        },
        {
          "output_type": "stream",
          "name": "stderr",
          "text": [
            "\r 78%|███████▊  | 111/143 [00:54<00:12,  2.46it/s]Setting `pad_token_id` to `eos_token_id`:128001 for open-end generation.\n"
          ]
        },
        {
          "output_type": "stream",
          "name": "stdout",
          "text": [
            "paragraph:  Nepadarėt, nepadarėt.\n",
            "answer:   0\n"
          ]
        },
        {
          "output_type": "stream",
          "name": "stderr",
          "text": [
            "\r 78%|███████▊  | 112/143 [00:54<00:11,  2.59it/s]Setting `pad_token_id` to `eos_token_id`:128001 for open-end generation.\n"
          ]
        },
        {
          "output_type": "stream",
          "name": "stdout",
          "text": [
            "paragraph:  aš galiu dar pridurti, kad jeigu Lietuva nebus lietuviška, jos Nepriklausomybė neturės jokios prasmės. Reikia žinoti, kad praėjusiais metais iš Lietuvos emigravo net 45 000 žmonių. Tai yra rekordas.\n",
            "answer:   1\n"
          ]
        },
        {
          "output_type": "stream",
          "name": "stderr",
          "text": [
            "\r 79%|███████▉  | 113/143 [00:54<00:11,  2.69it/s]Setting `pad_token_id` to `eos_token_id`:128001 for open-end generation.\n"
          ]
        },
        {
          "output_type": "stream",
          "name": "stdout",
          "text": [
            "paragraph:  Tai aš noriu pratęsti, vieną labai svarbią mintį pasakyt. Kad šioj valdančioj daugumoj tarptautinės kompanijos atlikti tyrimai rodo, kad kad korupcijos lygis sumažėjo septyniais procentais. Nei prie vienos valdančios daugumos toks žemas korupcijos lygis nebuvo. O nuolat yra kaltinama visuomenei, kad šita valdančioji dauguma korumpuota. \n",
            "answer:   1\n"
          ]
        },
        {
          "output_type": "stream",
          "name": "stderr",
          "text": [
            "\r 80%|███████▉  | 114/143 [00:55<00:11,  2.54it/s]Setting `pad_token_id` to `eos_token_id`:128001 for open-end generation.\n"
          ]
        },
        {
          "output_type": "stream",
          "name": "stdout",
          "text": [
            "paragraph:  Na, vėlgi tas pats. Kai vakar tos penkios sesės-partijos diskutavo, ir taip drąsiai žadėjo ten viską kelt, iki padebesų. Aš pasakysiu žiūrovams: iš ko apskritai susideda galimybė ką nors daryt? Tai Lietuva surenka iš mokesčių litais, tai buvo apie 20 milijardų litų pinigų. Iš mokesčių. Toliau. Pusė šitos sumos tai yra PVMas toliau stambus yra akcizų mokestis, juridinių ir fizinių asmenų pajamų moksčiai. Kai vakar jie sakė, kad didins ten viską, ką tik gali, visada klauskit jų: o iš kokių lėšų? Nes tai yra  politinė korupcija, žmonės žada tai, ko padaryt negali. Nes mokesčių, jeigu tik tu kažkur kažką pajudi, tai vienur pridėsi, kitur atsiras skylė. Ir per pastarąjį va dvidešimtmetį ta mokestinė sistema, jinai visąlaik maždaug buvo tokia\n",
            "answer:   1\n"
          ]
        },
        {
          "output_type": "stream",
          "name": "stderr",
          "text": [
            "\r 80%|████████  | 115/143 [00:55<00:11,  2.50it/s]Setting `pad_token_id` to `eos_token_id`:128001 for open-end generation.\n"
          ]
        },
        {
          "output_type": "stream",
          "name": "stdout",
          "text": [
            "paragraph:  Joks pasauly indeksas, ten gėris, blogis, pinigai, bažnyčia ar dar kažkas tai tikrai jums to dalyko nesuduos ir to nesuteiks. Esmė, mes turim šiandien puikiai suprast, kad kiekvienas iš mūsų turi nešti atsakomybę, tai, ką mes norim matyt, kiekvienas tėvas, vesdamas vaiką į darželį, lopšelį, į mokyklą, jis turi įdiegti jam tam tikras vertybes. Ir jeigu mes šiandien dienai turime jaunimą ir turime jaunus žmones, kuris sako va: “politikai korumpuoti”, “tie korumpuoti”, ir patys politikai kalba apie tai, klausimas: ar tas yra žmogus nuo to laimingesnis? Ar nuo to kas nors pasikeitė šiame gyvenime? Aš labai abejoju. Tai yra pagrindinis yra dalykas, kaip mes ugdome jaunąją kartą. Tai nuo to ir pradėkim. \n",
            "answer:   1\n"
          ]
        },
        {
          "output_type": "stream",
          "name": "stderr",
          "text": [
            "\r 81%|████████  | 116/143 [00:56<00:09,  2.71it/s]Setting `pad_token_id` to `eos_token_id`:128001 for open-end generation.\n"
          ]
        },
        {
          "output_type": "stream",
          "name": "stdout",
          "text": [
            "paragraph:  Jis išsisukinėja. Už ar prieš?\n",
            "answer:   1\n"
          ]
        },
        {
          "output_type": "stream",
          "name": "stderr",
          "text": [
            "\r 82%|████████▏ | 117/143 [00:56<00:09,  2.64it/s]Setting `pad_token_id` to `eos_token_id`:128001 for open-end generation.\n"
          ]
        },
        {
          "output_type": "stream",
          "name": "stdout",
          "text": [
            "paragraph:  Teko gyventi trijose Skandinavijos valstybėse, kuriose buvo šnapso monopolis. Išeikit penktadienį į Norvegijos gatves – atrodys apokalipsė. Bet teko gyventi kartu ir Belgijoj, ir Ispanijoj, kur kiekvienas žmogus gali daryti savo alkoholį ir namų vyną, ir, iš tikrųjų, lietuvius reikia išmokyti gerti vyną. Aš rimtai kalbu, ne šiandien mes mokame tiktai gerti gerti stiprų alkoholį ir reikia remtis, iš tikrųjų, į mokyklas. Mokyklose pradėti aiškią edukacinę programą, nes Seimo kavinių draudimai su alkoholiu parodė, kad alkoholis persikraustė į kabinetus, pas Bronių Bradauską.\n",
            "answer:   1\n"
          ]
        },
        {
          "output_type": "stream",
          "name": "stderr",
          "text": [
            "\r 83%|████████▎ | 118/143 [00:56<00:10,  2.50it/s]Setting `pad_token_id` to `eos_token_id`:128001 for open-end generation.\n"
          ]
        },
        {
          "output_type": "stream",
          "name": "stdout",
          "text": [
            "paragraph:  Aš suprantu, apie įveikos būdus turėtume kalbėti. Tai jeigu čia minime korupcijos įveiką, jeigu kalbame apie santykio išugdymą, tai be jokios abejonės pagrindinė ir labai svarbi švietimo misija, kaip ir šeimos misija, bet ypatingai – mokyklos misija. Aukštosios mokyklos misija yra įsišaknyjimas. Įpilietinimas. Kad mūsų jaunimas ne tiktai, neturėtų to, kaip čia sakoma, romantinio santykio, bet kad mūsų jaunimas turėtų kritinį požiūrį, gebėjimą atsirinkti, kad jie žinotų savo teises, žinotų savo pareigas. Iš kur atsiras Lietuvoje tas nepaprastas žmogus, kuris įveiks korupciją? Arba visuomenėsdalis, kuri įveiks korupciją? Tik iš pakitusio ir, nu mentališkai, intelektualiai subrendusio jauno žmogaus. Tai įvietinimas, negali mūsų vaikai prisirišti prie to, ko nepažįsta.\n",
            "answer:   1\n"
          ]
        },
        {
          "output_type": "stream",
          "name": "stderr",
          "text": [
            "\r 83%|████████▎ | 119/143 [00:57<00:10,  2.38it/s]Setting `pad_token_id` to `eos_token_id`:128001 for open-end generation.\n"
          ]
        },
        {
          "output_type": "stream",
          "name": "stdout",
          "text": [
            "paragraph:  Dėkui. Tai pagrindinė problema kalbant apie eem, nesąžiningumą mokesčių srity yra tame, kad didelė dalis verslo subjektų, sakykim, Lietuvoj tų mokesčių šiai dienai nemoka, reiškia visa mokesčių našta krenta ant tų, kurie moka. Nuu, reiškia, jeigu tu esi sąžiningas, tai tu susimokėk daugiau. Tai mūsų, dabar, nueikim pas smulkiuosius, ypač pas smulkiuosius verslininkus ir paklauskim: „kodėl jūs tų mokesčių nemokat, ar dėl to, kad jūs blogi, ar dėl to, kad jūs nenorit?“. Dažniausias atsakymas bus, kad juos sumokėti, juos apsiskaičiuoti biurokratinė našta yra perdaug sudėtinga. Tai va, mūsų siūlymai yra labai paprasti: pirmas dalykas, iki PVMinei įmonių apyvartai, reiškia, tom įmonėm, kurios dirba ikiPVMinėj apyvartoj metinėj eem, vienas mokestis, antras dalykas, aam, kiek įmanoma supaprastinti biurokratinę naštą apskaičiuojant tą naštą\n",
            "answer:   0\n"
          ]
        },
        {
          "output_type": "stream",
          "name": "stderr",
          "text": [
            "\r 84%|████████▍ | 120/143 [00:57<00:09,  2.42it/s]Setting `pad_token_id` to `eos_token_id`:128001 for open-end generation.\n"
          ]
        },
        {
          "output_type": "stream",
          "name": "stdout",
          "text": [
            "paragraph:  Vis dėl to, Lietuva eina kitu keliu ir nebus tai kelių didelių miestų šalis, aš taip įsivaizduoju, kaip yra jau Latvijoj, ta tendencija ten labai išryškėjusi, regionų politika, tai, iš tikrųjų, didesnės savivaldybės eem, savarankiškumo didinimas. Nes savivalda vietoj mato, kokios galimybės yra tam regione, ar turizmą vystyti, ar smulkųjį verslą, sudaryti tam sąlygas, ir mes, iš tikrųjų, netgi budžeto lėšų, yra tik 13 procentų skiriama savivaldai. Tai čia Europoj labai blogas rodiklis, o, iš tikrųjų, reikia skirt daugiau ir savivalda vietoj spręstų. \n",
            "answer:   1\n"
          ]
        },
        {
          "output_type": "stream",
          "name": "stderr",
          "text": [
            "\r 85%|████████▍ | 121/143 [00:58<00:08,  2.52it/s]Setting `pad_token_id` to `eos_token_id`:128001 for open-end generation.\n"
          ]
        },
        {
          "output_type": "stream",
          "name": "stdout",
          "text": [
            "paragraph:  O regresinis reiškia, kad jis smaugia labiau tuos, kurie turi mažesnes pajamas. Be to, mes siūlom išplėsti labiau akcizų sistemą. Tai yra, dabar faktiškai yra trys tipai, eem, trim tipam prekių taikome akcizai, bet taip pat mes galime pasiūlyti ir kitoms valstybės ir visumenės mažiau toleruojamom prekėm. Na, pavyzdžiui, eem, cukrus. Visiem jau nustatyta, kad cukrus yra baltoji mirtis. Tai jam galim nustatyt žymiai didesnį tarifą.\n",
            "answer:   1\n"
          ]
        },
        {
          "output_type": "stream",
          "name": "stderr",
          "text": [
            "\r 85%|████████▌ | 122/143 [00:58<00:08,  2.55it/s]Setting `pad_token_id` to `eos_token_id`:128001 for open-end generation.\n"
          ]
        },
        {
          "output_type": "stream",
          "name": "stdout",
          "text": [
            "paragraph:  Kai nugriaus Lazdynus, tada bus galima griauti kaimą,  šiaip, iš esmės, dar vienas svarbus dalykas tai yra, jeigu kalbant apie regionų gyvybingumą – paslaugų kokybė. Turi žmonės regione gyvenantys, ne didžiuosiuose miestuose, gaute bent jau tą minimalų paketą tų pačių paslaugų. Pirminė sveikatos priežiūra, kultūra, sportas, socialinė apsauga. Kada taip bus, tai, iš tikrųjų, mes galėsime kalbėti apie atskirties mažinimą.\n",
            "answer:   1\n"
          ]
        },
        {
          "output_type": "stream",
          "name": "stderr",
          "text": [
            "\r 86%|████████▌ | 123/143 [00:58<00:07,  2.58it/s]Setting `pad_token_id` to `eos_token_id`:128001 for open-end generation.\n"
          ]
        },
        {
          "output_type": "stream",
          "name": "stdout",
          "text": [
            "paragraph:  Tai, iš tikrųjų, reikia pripažinti, kad emigracija iš Lietuvos buvo didžiausia būtent Konservatorių ir Liberalų laikotarpiu. 2010-ais metais 83 000 žmonių per vienerius metus išvyko. Dvigubai daugiau, negu bet kuriais kitais metais. Jūsų kaltė ir Jūsų valdymo. Nepaisant apie ką Jūs kalbėsit, apie kokias investicijas ir regionus, tų žmonių ten, teisingai, nebus. Nes po 2010-ų metų tai buvo tiesiog evakuacija iš Lietuvos, kaip Jūs valdėte. Dar daugiau.\n",
            "answer:   1\n"
          ]
        },
        {
          "output_type": "stream",
          "name": "stderr",
          "text": [
            "\r 87%|████████▋ | 124/143 [00:59<00:06,  2.74it/s]Setting `pad_token_id` to `eos_token_id`:128001 for open-end generation.\n"
          ]
        },
        {
          "output_type": "stream",
          "name": "stdout",
          "text": [
            "paragraph:  Bet grįžai tai ne dėl dešros.\n",
            "answer:   1\n"
          ]
        },
        {
          "output_type": "stream",
          "name": "stderr",
          "text": [
            "\r 87%|████████▋ | 125/143 [00:59<00:06,  2.71it/s]Setting `pad_token_id` to `eos_token_id`:128001 for open-end generation.\n"
          ]
        },
        {
          "output_type": "stream",
          "name": "stdout",
          "text": [
            "paragraph:  Ilona, emigrantė, 14 metų Anglija, Prancūzija, Vokietija, Norvegija, Švedija. Laimė būtų tai, jeigu visi Lietuvos piliečiai ir Lietuvos pabėgėliai, kurių yra milijonas, suprastų ir suvoktume visi, kad šeimininko teisę mes turim tik čia. Ir niekur kitur. Ir nei vokiečių sistema, nei norvegų, nei švedų mums netinka. Ir reikia didžiuotis, kad esam lietuviai ir mokam labai retą ir seną kalbą. Man tai būtų laimė. Ir mano šeimai.\n",
            "answer:   1\n"
          ]
        },
        {
          "output_type": "stream",
          "name": "stderr",
          "text": [
            "\r 88%|████████▊ | 126/143 [00:59<00:06,  2.80it/s]Setting `pad_token_id` to `eos_token_id`:128001 for open-end generation.\n"
          ]
        },
        {
          "output_type": "stream",
          "name": "stdout",
          "text": [
            "paragraph:  Uždarius atominę elektrinę Ignalinos, Lietuva absoliučiai priklausoma yra nuo kitų valstybių elektros sektoriaus. Ar nuo švedų, ar nuo lenkų, ar nuo rusų, čia kaip pasirinksit. \n",
            "answer:   1\n"
          ]
        },
        {
          "output_type": "stream",
          "name": "stderr",
          "text": [
            "\r 89%|████████▉ | 127/143 [01:00<00:05,  2.92it/s]Setting `pad_token_id` to `eos_token_id`:128001 for open-end generation.\n"
          ]
        },
        {
          "output_type": "stream",
          "name": "stdout",
          "text": [
            "paragraph:  Prašau, pasakykite, ką mes manome, ką mūsų koalicija mano apie atvežamus darbuotojus iš ne Europos Sąjungos.\n",
            "answer:   1\n"
          ]
        },
        {
          "output_type": "stream",
          "name": "stderr",
          "text": [
            "\r 90%|████████▉ | 128/143 [01:00<00:05,  2.91it/s]Setting `pad_token_id` to `eos_token_id`:128001 for open-end generation.\n"
          ]
        },
        {
          "output_type": "stream",
          "name": "stdout",
          "text": [
            "paragraph:  Ar maži miesteliai, regionai turi ateitį, matyt, geriausia, paklausti jaunimo. Taigi Mindaugas Tarnauskas, Šakių tarybos narys, taip pat mūsų kandidatas minėtoje vienmandatėj apygardoj. Prašau, Mindaugai.\n",
            "answer:   1\n"
          ]
        },
        {
          "output_type": "stream",
          "name": "stderr",
          "text": [
            "\r 90%|█████████ | 129/143 [01:01<00:05,  2.80it/s]Setting `pad_token_id` to `eos_token_id`:128001 for open-end generation.\n"
          ]
        },
        {
          "output_type": "stream",
          "name": "stdout",
          "text": [
            "paragraph:  Vokietijos pavyzdys, mieli mano žiūrovai, tai yra puikus pavyzdys mūsų, Seimo narių populizmo naudojimas. Kai ponas Naglis siūlo va tokius dalykus, iš kur gaus pinigų jis nepasako, nes jis gali paimt tik vat iš šito mokesčių ir iš to biudžeto, kurį mes surenkam. O žmonėm, kad tai labai gražu klausyt, tai aš irgi mokėčiau taip pasakyt. Jeigu jau mes pradėsim svaidytis tuo, ko žmonės nori girdėt, tai jau būkit ramūs, mes irgi mokėsim pasakyt tai, ką nori visi girdėt. Bet tai yra irgi politinė korupcija savotiška.  \n",
            "answer:   1\n"
          ]
        },
        {
          "output_type": "stream",
          "name": "stderr",
          "text": [
            "\r 91%|█████████ | 130/143 [01:01<00:05,  2.41it/s]Setting `pad_token_id` to `eos_token_id`:128001 for open-end generation.\n"
          ]
        },
        {
          "output_type": "stream",
          "name": "stdout",
          "text": [
            "paragraph:  Dar manyčau, kad iš tiesų reikia atkreipt dėmesį į kapitalo apmokestinimą ir reikia stengtis jį apmokestint taip, kad nemažėtų investicijos. Taigi labai verta pritarti visiems tiem, yra investuojamas pelnas turėtų būti neapmokestinamas, tačiau tarifas, kuris Lietuvoj yra 15 procentų, jeigu mes padarom reinvetuojamą pelnąnulinį, jis turi augti. Estijoj, pavyzdžiui, jis yra 21. Toliau, kitas dalykas, labai svarbu, kad visos tos partijos, ypatingai vakar juokinga buvo iš tiesų klausyti Liberalų,  kurie visą laiką viską mažina, na visi mokesčiai, kaip paskui juokiasi jau, dviešimtais metais apskritai Lietuvoj nebebus mokesčių. Tai aš labai siūlyčiau tiems liberalams truputėlį sumažinti tuos žmones, kurie, pavyzdžiui, kartu su Šimašium, nu pono Šilėno žmona iš karto atvyko tą pačią dieną nuo Liberalų partijos ryšių su visuomene Savivaldybėj daryti. Va šeši šimtai eurų jau būtų sutaupyta. Visą laiką jie aiškina, kad reikia mažinti biurokratiją ir mažinti mokesčius, bet baisiai mėgsta tuos mokesčius savo naudai naudoti. Tai aš būčiau nesakius šito dalyko, jeigu jie nebūtų taip įkyriai kalbėję nesąmonių . Nepamirškime, kad iš to mokesčius moka viešasis sektorius...\n",
            "answer:   1\n"
          ]
        },
        {
          "output_type": "stream",
          "name": "stderr",
          "text": [
            "\r 92%|█████████▏| 131/143 [01:01<00:04,  2.53it/s]Setting `pad_token_id` to `eos_token_id`:128001 for open-end generation.\n"
          ]
        },
        {
          "output_type": "stream",
          "name": "stdout",
          "text": [
            "paragraph:   Tikrai čia aš matau didžiulę problemą ir švietimo sistemoj tikrai turi vykt artimiausiu metu pokyčiai. Nes jaunimas, tas, kuris suinteresuotas užsiimt tam tikra užklasine veikla – sportuot, lankyt muzikos mokyklą, tai tikrai, irgi, viena iš švietėjiškų programų, kuri, tikrai, daro didžiulį poveikį eem, geriems dalykams\n",
            "answer:   1\n"
          ]
        },
        {
          "output_type": "stream",
          "name": "stderr",
          "text": [
            "\r 92%|█████████▏| 132/143 [01:02<00:04,  2.63it/s]Setting `pad_token_id` to `eos_token_id`:128001 for open-end generation.\n"
          ]
        },
        {
          "output_type": "stream",
          "name": "stdout",
          "text": [
            "paragraph:  Metas užduoti antrąjį klausimą, į jį atsakys Lietuvos laisvės sąjunga Artūras Zuokas, sąrašo numeris trys. Ar Lietuvoje pajamų nelygybės problema yra didelė? Jei taip, ką darysite, kad ją sumažintumėte?\n",
            "answer:   1\n"
          ]
        },
        {
          "output_type": "stream",
          "name": "stderr",
          "text": [
            "\r 93%|█████████▎| 133/143 [01:02<00:03,  2.73it/s]Setting `pad_token_id` to `eos_token_id`:128001 for open-end generation.\n"
          ]
        },
        {
          "output_type": "stream",
          "name": "stdout",
          "text": [
            "paragraph:  Nes aš noriu pasakyt, kad penkiolika eurų jau dabar neformaliam ugdymui yratos įdėta į krepšelį ir bus toliau, tai ką jūs čia pasakojat.\n",
            "answer:   1\n"
          ]
        },
        {
          "output_type": "stream",
          "name": "stderr",
          "text": [
            "\r 94%|█████████▎| 134/143 [01:02<00:03,  2.77it/s]Setting `pad_token_id` to `eos_token_id`:128001 for open-end generation.\n"
          ]
        },
        {
          "output_type": "stream",
          "name": "stdout",
          "text": [
            "paragraph:  jaunimas mažiau vartoja alkoholį, vyresnės kartos žmonių Seimas tikrai neperauklės, o, aš turiu tokį pasiūlymą: kaip prevenciją mokyklose, panaudoti, pakviesti būtent į atsargą išėjusius policijos ir saugumo pareigūnus, į pensiją išėjusius, jie išeina jauni ir per socialinių darbuotojų statusą praktiškai dalyvauti prevencijos sistemoje, kuri egzistuoja Vokietijoje.\n",
            "answer:   1\n"
          ]
        },
        {
          "output_type": "stream",
          "name": "stderr",
          "text": [
            "\r 94%|█████████▍| 135/143 [01:03<00:02,  2.93it/s]Setting `pad_token_id` to `eos_token_id`:128001 for open-end generation.\n"
          ]
        },
        {
          "output_type": "stream",
          "name": "stdout",
          "text": [
            "paragraph:  Kągi, ačiū Jums, ponas Varkala.\n",
            "answer:   1\n"
          ]
        },
        {
          "output_type": "stream",
          "name": "stderr",
          "text": [
            "\r 95%|█████████▌| 136/143 [01:03<00:02,  2.71it/s]Setting `pad_token_id` to `eos_token_id`:128001 for open-end generation.\n"
          ]
        },
        {
          "output_type": "stream",
          "name": "stdout",
          "text": [
            "paragraph:  Yra labai svarbus klausimas. Kada mes kalbam apie vaiko pinigus, prisiminkim, kas atsitiko Vakarų Europoje. Kada tų vaiko pinigų pasiimti vyksta iš viso pasaulio žmonės. Ir čia jau siejasi su migracijos reikalais. O apskritai apie vaiko pinigus aš norėčiau, kad pašnekėtų Kazimieras Juraitis. Šešių vaikų tėvas\n",
            "answer:   1\n"
          ]
        },
        {
          "output_type": "stream",
          "name": "stderr",
          "text": [
            "\r 96%|█████████▌| 137/143 [01:04<00:02,  2.65it/s]Setting `pad_token_id` to `eos_token_id`:128001 for open-end generation.\n"
          ]
        },
        {
          "output_type": "stream",
          "name": "stdout",
          "text": [
            "paragraph:  Dėkui Jums. Iš tiesų neturi nutrūkti švietimas, nes išvažiavę lietuviai išsivežė ir mokyklinio amžiaus vaikus. Jie turi turėti galimybę čia studijuoti ir grįžti į tą klasę, kurioje mokėsi užsienyje. Su pagalba mokytojo, specialaus padėjėjo. \n",
            "answer:   1\n"
          ]
        },
        {
          "output_type": "stream",
          "name": "stderr",
          "text": [
            "\r 97%|█████████▋| 138/143 [01:04<00:02,  2.48it/s]Setting `pad_token_id` to `eos_token_id`:128001 for open-end generation.\n"
          ]
        },
        {
          "output_type": "stream",
          "name": "stdout",
          "text": [
            "paragraph:  Be abejonės, šiandien Lietuva pagal pajamas, kaip jau čia ir buvo pasakyta ne kartą, esame atsilikę Europos Sąjungoje, ir blogiausia, kad atsiliekame ir nuo savo kaimynų. Ir mūsų programoje pagrindinis ir svarbiausias tikslas tai yra gyventojų pajamų didinimas. Pajamos tai yra esminė problema, kodėl iš Lietuvos bėga žmonės, kodėl Lietuvoje žmonės, neturėdami pajamų ir iš ko gyventi, pradeda gerti arba vartoti alkoholį, dar blogiau kada pakelia ranką prieš save ir dėl to garsėjame kaip savižudžių tauta. Pajamų didinimas – pagrindinis Lietuvos Laisvės sąjungos programos tikslas. Priemonės. Turime iki dutūkstantųjų metų pabaigos pasiekti, kad vidutinis atlyginimas siektų 1450 eurų, su mokesčiais…\n",
            "answer:   1\n"
          ]
        },
        {
          "output_type": "stream",
          "name": "stderr",
          "text": [
            "\r 97%|█████████▋| 139/143 [01:04<00:01,  2.43it/s]Setting `pad_token_id` to `eos_token_id`:128001 for open-end generation.\n"
          ]
        },
        {
          "output_type": "stream",
          "name": "stdout",
          "text": [
            "paragraph:  Panašu, kad mums reikės ne tik su korupcija kovoti, bet ir už nacionalinį saugumą. Taip, mes esam už good guys ir prieš plachija parchy, tai čia net ir svarstyti nieko nereikia...\n",
            "answer:   1\n"
          ]
        },
        {
          "output_type": "stream",
          "name": "stderr",
          "text": [
            "\r 98%|█████████▊| 140/143 [01:05<00:01,  2.36it/s]Setting `pad_token_id` to `eos_token_id`:128001 for open-end generation.\n"
          ]
        },
        {
          "output_type": "stream",
          "name": "stdout",
          "text": [
            "paragraph:  Pradėčiau nuo to, kad socialinė apsauga yra visiškai per ketverius metus stagnuojanti ir nereformuota sistema. Na, net pasižiūrėkime Ministrė Algimanta Pabedinskienė nemato reikalo dalyvauti čia arba partija nemato reikalo pakviesti. \n",
            "answer:   1\n"
          ]
        },
        {
          "output_type": "stream",
          "name": "stderr",
          "text": [
            "\r 99%|█████████▊| 141/143 [01:05<00:00,  2.27it/s]Setting `pad_token_id` to `eos_token_id`:128001 for open-end generation.\n"
          ]
        },
        {
          "output_type": "stream",
          "name": "stdout",
          "text": [
            "paragraph:  Sveiki. Naujamiesčio apygardos kandidatas, eem, tenka, ypatingai pastaruoju metu, daug keliauti po svečias šalis ir susitikti su lietuviais, tai, iš tikrųjų, jie yra nusivylę tuo, kad dviguba pilietybė, svarstymas ir būtent net internetinio balsavimo klausimas yra ilgai svarstomas, bet niekas negali eem, priimti jo, tai liberalai vieninteliai, kurie nuosekliai politiką būtent tuo klausimu vykdėo. Tai, iš tikrųjų, tai padėtų su jais palaikyti geresnį ryšį ir kad jie galėtų dalyvauti, būtent, politiniam gyvenime Lietuvos.\n",
            "answer:   1\n"
          ]
        },
        {
          "output_type": "stream",
          "name": "stderr",
          "text": [
            "\r 99%|█████████▉| 142/143 [01:06<00:00,  2.33it/s]Setting `pad_token_id` to `eos_token_id`:128001 for open-end generation.\n"
          ]
        },
        {
          "output_type": "stream",
          "name": "stdout",
          "text": [
            "paragraph:  Galima pasakyt, kad bendrai, nuo 2010-ųjų metų šilumos ūkis iš esmės kontroliuojamas ir valdomas valstybės ir šiuo atveju tokios valsybinės įmonės, gana šiandien tapusios labai didele, tai yra “Lietuvos energija”. Esminiai sprendimai priimami būtent Vyriausybėje, Energetikos ministeriijoje ir savivaldybių įtaka čia praktiškai yra nulinė.\n",
            "answer:   1\n"
          ]
        },
        {
          "output_type": "stream",
          "name": "stderr",
          "text": [
            "100%|██████████| 143/143 [01:06<00:00,  2.14it/s]"
          ]
        },
        {
          "output_type": "stream",
          "name": "stdout",
          "text": [
            "paragraph:  Dėl kolegos pasiūlymo dėl darbo vietų. Jeigu Darbo kodeksas bus toks, koks šiandien, tai jokių darbo vietų nebus, žmonės emigruos ir dar smarkiau. Apie tai smulkiau galėtų mūsų koalicijos partneris ir narys, Profsajungų centro pirmininkas Kęstutis Juknis.\n",
            "answer:   1\n"
          ]
        },
        {
          "output_type": "stream",
          "name": "stderr",
          "text": [
            "\n"
          ]
        }
      ]
    },
    {
      "cell_type": "code",
      "source": [
        "from sklearn.metrics import accuracy_score, precision_score, recall_score, f1_score\n",
        "\n",
        "def evaluate(y_true, y_pred):\n",
        "    # Filter out undetermined predictions\n",
        "    mask = [y != -1 for y in y_pred]\n",
        "    filtered_y_true = [y_true[i] for i in range(len(y_true)) if mask[i]]\n",
        "    filtered_y_pred = [y_pred[i] for i in range(len(y_pred)) if mask[i]]\n",
        "\n",
        "    accuracy = accuracy_score(filtered_y_true, filtered_y_pred)\n",
        "    precision = precision_score(filtered_y_true, filtered_y_pred, pos_label=1)\n",
        "    recall = recall_score(filtered_y_true, filtered_y_pred, pos_label=1)\n",
        "    f1 = f1_score(filtered_y_true, filtered_y_pred, pos_label=1)\n",
        "\n",
        "    print(f\"Accuracy: {accuracy}\")\n",
        "    print(f\"Precision: {precision}\")\n",
        "    print(f\"Recall: {recall}\")\n",
        "    print(f\"F1 Score: {f1}\")"
      ],
      "metadata": {
        "id": "6wqNCvoQy-3-"
      },
      "execution_count": null,
      "outputs": []
    },
    {
      "cell_type": "code",
      "source": [
        "evaluate(y_true, y_pred)"
      ],
      "metadata": {
        "colab": {
          "base_uri": "https://localhost:8080/"
        },
        "id": "bY-i3debyl1c",
        "outputId": "8dd92670-d3ef-4d25-9cd2-234f50396cfe"
      },
      "execution_count": null,
      "outputs": [
        {
          "output_type": "stream",
          "name": "stdout",
          "text": [
            "Accuracy: 0.26573426573426573\n",
            "Precision: 0.23529411764705882\n",
            "Recall: 0.9696969696969697\n",
            "F1 Score: 0.378698224852071\n"
          ]
        }
      ]
    },
    {
      "cell_type": "markdown",
      "source": [
        "Eksperimentas 2"
      ],
      "metadata": {
        "id": "BR-wLaZhU9KL"
      }
    }
  ]
}