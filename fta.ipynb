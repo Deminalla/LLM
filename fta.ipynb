{
  "cells": [
    {
      "cell_type": "markdown",
      "metadata": {
        "id": "view-in-github",
        "colab_type": "text"
      },
      "source": [
        "<a href=\"https://colab.research.google.com/github/Deminalla/Kursinis/blob/main/fta.ipynb\" target=\"_parent\"><img src=\"https://colab.research.google.com/assets/colab-badge.svg\" alt=\"Open In Colab\"/></a>"
      ]
    },
    {
      "cell_type": "code",
      "execution_count": null,
      "metadata": {
        "id": "0CQEijbowISJ"
      },
      "outputs": [],
      "source": [
        "!pip install pandas\n",
        "!pip install scikit-learn"
      ]
    },
    {
      "cell_type": "code",
      "source": [
        "!pip install datasets"
      ],
      "metadata": {
        "id": "nqb4vkM1FK8B"
      },
      "execution_count": null,
      "outputs": []
    },
    {
      "cell_type": "code",
      "execution_count": null,
      "metadata": {
        "id": "P2xgMbbXizew"
      },
      "outputs": [],
      "source": [
        "# ekperimentas 1\n",
        "# llama3 modelis geras lietuviu kalbai\n",
        "# suskaiciuoti tikslumas, darant klasifikacija\n",
        "# use prompts/instrukcija\n",
        "https://www.kaggle.com/code/lucamassaron/fine-tune-llama-3-for-sentiment-analysis\n",
        "# modelio pacio nekeiciam ir nemokinam, tsg jam duodam duomenis ir jis klasifikuoja kaip moka\n",
        "\n",
        "# ekperimentas 2\n",
        "# transfer learning arba fine-tuning\n",
        "https://huggingface.co/docs/transformers/tasks/sequence_classification\n",
        "# cia vyks mokymas\n",
        "\n",
        "# galesim palygint situos 2 atvejus ir palygint ju statistikas, pvz tikslumas, F1 ir t.t.\n",
        "\n",
        "# ekperimentas 3\n",
        "# gebetu identifikuot kur yra konkretus fta pastraipoje\n",
        "# rodyti indeksus kur prasidejo ir baigesi, jeigu nfta tai 0, 0\n",
        "# reiks keist exceli, kad rodyt pradzios intervala ir pabaigos\n",
        "https://huggingface.co/docs/transformers/tasks/question_answering"
      ]
    },
    {
      "cell_type": "code",
      "source": [
        "import warnings\n",
        "warnings.filterwarnings(\"ignore\")"
      ],
      "metadata": {
        "id": "lFaasjSekF8d"
      },
      "execution_count": 2,
      "outputs": []
    },
    {
      "cell_type": "code",
      "execution_count": 3,
      "metadata": {
        "id": "H-u4uI7Cn1s3"
      },
      "outputs": [],
      "source": [
        "import pandas as pd\n",
        "import torch\n",
        "from sklearn.model_selection import train_test_split\n",
        "\n",
        "file_path = 'FTA_dataset.xlsx'\n",
        "sheet1 = pd.read_excel(file_path, sheet_name='FTA', header=None)\n",
        "sheet2 = pd.read_excel(file_path, sheet_name='NFTA', header=None)\n",
        "sheet3 = pd.read_excel(file_path, sheet_name='index', header=None)\n",
        "\n",
        "sheet1.columns = ['paragraph']\n",
        "sheet2.columns = ['paragraph']\n",
        "sheet3.columns = ['paragraph', 'start_index', 'end_index']\n",
        "\n",
        "sheet1['fta'] = 1\n",
        "sheet2['fta'] = 0\n",
        "\n",
        "data = pd.concat([sheet1, sheet2], ignore_index=True)\n",
        "\n",
        "# Shuffle the data\n",
        "# sample() - randomly select data\n",
        "# frac=1 - select 100% of data\n",
        "# After shuffling, the original index of the DataFrame is no longer in order\n",
        "# reset_index(drop=True) is used to reset the index to a new sequential order.\n",
        "# drop=True - discards the old index\n",
        "data = data.sample(frac=1).reset_index(drop=True)\n",
        "\n",
        "# training (70%), validation (10%), and test (20%)\n",
        "train, temp = train_test_split(data, test_size=0.3, random_state=42)\n",
        "val, test = train_test_split(temp, test_size=(2/3), random_state=42)\n",
        "\n",
        "train = train.reset_index(drop=True)\n",
        "val = val.reset_index(drop=True)\n",
        "test = test.reset_index(drop=True)"
      ]
    },
    {
      "cell_type": "markdown",
      "source": [
        "# Eksperimentas 1"
      ],
      "metadata": {
        "id": "yb5pP2sfZ5xP"
      }
    },
    {
      "cell_type": "code",
      "execution_count": null,
      "metadata": {
        "id": "6myAGMAd_vSM"
      },
      "outputs": [],
      "source": [
        "y_true = test[\"fta\"].tolist()"
      ]
    },
    {
      "cell_type": "code",
      "source": [
        "from transformers import AutoTokenizer, AutoModelForCausalLM, pipeline\n",
        "\n",
        "tokenizer = AutoTokenizer.from_pretrained(\"lightblue/suzume-llama-3-8B-multilingual\")"
      ],
      "metadata": {
        "id": "JW9DW7sdj5Vm"
      },
      "execution_count": null,
      "outputs": []
    },
    {
      "cell_type": "code",
      "source": [
        "!pip install bitsandbytes\n",
        "!pip install accelerate"
      ],
      "metadata": {
        "id": "DW3mrJfhpltv"
      },
      "execution_count": null,
      "outputs": []
    },
    {
      "cell_type": "code",
      "source": [
        "model = AutoModelForCausalLM.from_pretrained(\"lightblue/suzume-llama-3-8B-multilingual\",\n",
        "                                             device_map=\"auto\",\n",
        "                                             load_in_8bit=True)"
      ],
      "metadata": {
        "id": "_ZniR_6App8U"
      },
      "execution_count": null,
      "outputs": []
    },
    {
      "cell_type": "code",
      "source": [
        "from transformers import AutoTokenizer, AutoModelForCausalLM, pipeline\n",
        "\n",
        "model_id = \"BSC-LT/salamandra-7b-instruct\"\n",
        "\n",
        "tokenizer = AutoTokenizer.from_pretrained(model_id)\n",
        "model = AutoModelForCausalLM.from_pretrained(model_id,\n",
        "                                             load_in_8bit=True,\n",
        "                                             device_map=\"auto\")"
      ],
      "metadata": {
        "id": "ppWlboXzgcPV"
      },
      "execution_count": null,
      "outputs": []
    },
    {
      "cell_type": "code",
      "execution_count": null,
      "metadata": {
        "id": "fRX2GkBYDJ8A"
      },
      "outputs": [],
      "source": [
        "def generate_prompt(data_point):\n",
        "    return f\"\"\"\n",
        "            Sociolingvistikos srityje Įvaizdžiui Grėsmingas Šnekos Aktas (ĮGŠA) yra komunikacinis veiksmas, kuris kelia grėsmę kalbėtojo ar klausytojo socialinei tapatybei ir savivertės jausmui.\n",
        "            Pavyzdžiai ĮGŠA yra įžeidimai, pertraukimai ir kritika. Nekorektiško teksto pavyzdžiai:\n",
        "\n",
        "            Aš stebiuosi, kad „Liaudies“ partija, taip skambiai pasivadinusi, ir nenori per dvi minutes suteikti laimės visai Lietuvos tautai.\n",
        "            Gal tokia replika, čia kai kurie kandidatai, kalbėdami apie mokesčių surinkimą kitose savivaldybėse tiesiog gal nežino, kad Lietuvoje šiandien tiktai keturi miestai yra donorai: Vilnius, dvidešimt kartų mažesnis donoras Kaunas, Klaipėda ir Mažeikiai.\n",
        "            Dabar dar vienas faktas. Jūsų Ministras, kurio pavardės nieks neatsimena, Gustas, sukūrė programą: „regio invest“, ar ne? Kuri turėjo padėti kilti regionams. 55 procentai tos programos buvo suinvestuota į Vilnių ir Kauną. Vėlgi ta pati ir ta pati tendencija, akivaizdžiai matosi, tiesiog yra didieji miestai, kurie yra preferuojami ir nieko regionams. Ir mes matom regionus, kur yra milžiniška emigraciją iš jų, milžiniška bedarbystė vis dar, 16 ir daugiau prcentų ir dar auganti, Ir dėl to nebuvo per keturis metus padaryta nei vieno žingsnio.\n",
        "\n",
        "            Korektiško teksto pavyzdžiai:\n",
        "\n",
        "            Dėl kolegos pasiūlymo dėl darbo vietų. Jeigu Darbo kodeksas bus toks, koks šiandien, tai jokių darbo vietų nebus, žmonės emigruos ir dar smarkiau. Apie tai smulkiau galėtų mūsų koalicijos partneris ir narys, Profsajungų centro pirmininkas Kęstutis Juknis.\n",
        "            Na, gerai, tvarkoj. Turi, gerai, gerai. Gerai, gerai. Bet tada žinot, koks kyla klausimas? Kaip aš turiu elgtis. Kaip turi elgtis suaugęs žmogus, kada mato, kaip kitas suaugęs žmogus vilioja tokią nesupratingą mergaitę su saldainiais. Kaip jis turi elgtis? O aš matau šitoj studijoj tokį faktą. Ir aš nežinau, ką aš turiu daryt.\n",
        "            Kad lietuvis grįžtų namo ir atsivežtų čia darbo rankas, reikia tam tikro susivokimo savyje.\n",
        "\n",
        "            Išanalizuokite šį naujienų tekstą ir atsakykite, ar jame yra Įvaizdžiui Grėsmingas Šnekos Aktas.\n",
        "            Atsakykite „1“ už „taip“ arba „0“ už „ne“.\n",
        "\n",
        "            [{data_point[\"paragraph\"]}] = \"\"\""
      ]
    },
    {
      "cell_type": "code",
      "execution_count": null,
      "metadata": {
        "id": "SPi691YI6Q_y"
      },
      "outputs": [],
      "source": [
        "test1 = test\n",
        "train1 = train\n",
        "val1 = val\n",
        "\n",
        "X_test = pd.DataFrame(test1.apply(generate_prompt, axis=1), columns=[\"paragraph\"])\n",
        "X_train = pd.DataFrame(train1.apply(generate_prompt, axis=1), columns=[\"paragraph\"])\n",
        "X_val = pd.DataFrame(val1.apply(generate_prompt, axis=1), columns=[\"paragraph\"])"
      ]
    },
    {
      "cell_type": "code",
      "execution_count": null,
      "metadata": {
        "id": "bf1esbXoDw9S"
      },
      "outputs": [],
      "source": [
        "from tqdm import tqdm\n",
        "\n",
        "def predict(model, tokenizer):\n",
        "    y_pred = []\n",
        "    pipe = pipeline(task=\"text-generation\",\n",
        "                model=model,\n",
        "                tokenizer=tokenizer,\n",
        "                max_new_tokens = 1,\n",
        "                do_sample=False\n",
        "                )\n",
        "    for i in tqdm(range(len(X_test))):\n",
        "        prompt = X_test.iloc[i][\"paragraph\"]\n",
        "        result = pipe(prompt)\n",
        "        answer = result[0]['generated_text'].split(\"=\")[-1]\n",
        "        print(\"paragraph: \", test1.iloc[i][\"paragraph\"])\n",
        "        print(\"answer: \", answer)\n",
        "        if \"1\" in answer:\n",
        "            y_pred.append(1)\n",
        "        elif \"0\" in answer:\n",
        "             y_pred.append(0)\n",
        "        else:\n",
        "            y_pred.append(-1)\n",
        "    return y_pred"
      ]
    },
    {
      "cell_type": "code",
      "source": [
        "y_pred = predict(model, tokenizer)"
      ],
      "metadata": {
        "colab": {
          "base_uri": "https://localhost:8080/"
        },
        "id": "fdR6p0JVi9b9",
        "outputId": "9491d10e-fc71-431a-cb63-8135bbe20247"
      },
      "execution_count": null,
      "outputs": [
        {
          "output_type": "stream",
          "name": "stderr",
          "text": [
            "  1%|          | 1/143 [00:03<07:09,  3.03s/it]"
          ]
        },
        {
          "output_type": "stream",
          "name": "stdout",
          "text": [
            "paragraph:  Taip pat labai planuojama, bent jau deklaruojama, bet aš galvoju, kad vietos veiklos grupėse regionuose įgyvendins gerai savo strategiją ateinančiam laikotarpiui ir būtent Europos Sąjungos parama regionuose bus panaudota verslui, smulkiam vietų kūrimui. Be abejo, tai yra, reikia didint šeimos pajamas ir tai irgi per bendrą valstybės politiką, nes regionuose šeimos pajamos yra ypatingai svarbios, bet dideliam verslui, koncernui, ateinančiam, ir besikuriančiam regionuose, turėtų būt mokestinės lengvatos. Ir dar vienas dalykas, iš tikrųjų, reikia keisti mokestines sistemas, solidarumą, turėtų būt daugiau, kuomet turtingieji ne tik siekia pelno, bet didina atlyginimus ir darbuotojams. Ko nebus...darbo kodekse.\n",
            "answer:   1\n"
          ]
        },
        {
          "output_type": "stream",
          "name": "stderr",
          "text": [
            "\r  1%|▏         | 2/143 [00:04<04:26,  1.89s/it]"
          ]
        },
        {
          "output_type": "stream",
          "name": "stdout",
          "text": [
            "paragraph:  Aš manau, kad kai kurie buvo užsidėję irgi iš šešėlinės ekonomikos paimt ten apie milijardą ar pusę milijardo tuo metu litų, bet taip jiems ir nepavyko, aš galiu aiškiai pasakyt ir tikriausiai tą visi žino, kad šita Vyriausybė kaip tik ir pavyko ir 2014-ais ir penkioliktais metais žymiai pagerinus mokesčių administravimą išimt iš šešėlinės ekonomikos dideles sumas pinigų. Nenoriu aš čia skaičių minėt, galėčiau įvardint, bet reikia pripažint, kad tai yra pripažinę, ką ir kalbėjo tarptautinės įvairiausios vertinimo institucijos, netgi profesoriaus pačio, paminėto mano Šnaiderio, eem, atlikta analizė ir pateikta Lietuvai. Aš manau, mums labai padėjo mokesčių administravimas, reiškia, įvykdyt, nacionalinio biudžeto pajamų surinkimą ir praeitais, ir užpraeitais metais ir įvertinus tai, kad mūsų prognozė dėl bendro vidaus produkto augimo nepasitvirtino dėl Rusijos, kaip sakyt, taikomo draudimo Lietuvos prekių eksportui, arba Rusijos ekonomikos nuosmukio, tai mes turim persiorientuot į kitas rinkas, bet aš džiaugiuosi, kad, pavyzdžiui, padaryta analizė, Mokesčių inspekcijos parodė, kad kai kurios įmonės, didelis jų skaičius, kurių apyvarta išliko ta pati.\n",
            "answer:   1\n"
          ]
        },
        {
          "output_type": "stream",
          "name": "stderr",
          "text": [
            "\r  2%|▏         | 3/143 [00:05<03:27,  1.48s/it]"
          ]
        },
        {
          "output_type": "stream",
          "name": "stdout",
          "text": [
            "paragraph:  Labai pritarčiau, bet dar vienas aspektas, čia galbūt toks keistesnis būtų, matot, policininkas, manau, turėtų ir būti toksai žmogus, kuris sugebėtų padėt gimdyvei, kuris sugebėtų atgaivinti, kuris sugebėtų gerai bendrauti su vaiku, kuris verkia, ar pasimetęs, manyčiau, kad, kaip va finansavimas, bet manau, kad tas žmogiškasis išsilavinimas toksai bendražmogiškas, kad jis turėtų šiltą kontaktą net ir su nusikaltėliu. Nes suprantame pschologiškai, kad kaip mes reaguojame į tą nusikaltėlį, taip jisai atgal. Manyčiau, kad psichologiškai jie  turėtų geriau būti paruošti, nes teko sutikti gan grubių policininkų, kurių tas būdas prisukti orą ar ką nors kita, bet kreiptis, pirmiausia, kaip į žmogų ir jeigu jis nepasireiškia pirmiausia, kaip žmogus, tada tiktai imtis žvėriškų priemonių, nes, matot, buvo taip, kad ir kartais kai kas, na, bagažinėj, kaip sakė toks rašytojas ir numirė, manyčiau, kad turėtų labiau atsakingai ir korektiškai priimti ir nusikaltėlį ir, šiaip, žmogų.\n",
            "answer:   1\n"
          ]
        },
        {
          "output_type": "stream",
          "name": "stderr",
          "text": [
            "\r  3%|▎         | 4/143 [00:05<02:42,  1.17s/it]"
          ]
        },
        {
          "output_type": "stream",
          "name": "stdout",
          "text": [
            "paragraph:  Tai Jūs šeimoj.\n",
            "answer:   1\n"
          ]
        },
        {
          "output_type": "stream",
          "name": "stderr",
          "text": [
            "\r  3%|▎         | 5/143 [00:06<02:22,  1.04s/it]"
          ]
        },
        {
          "output_type": "stream",
          "name": "stdout",
          "text": [
            "paragraph:  Taip, iš tiesų labai svarbu, bet negalima paimti segmentuoti vieno iš segmentų. Pakėlę minimalią algą mes tiesiog niveliavome skirtumą tarp nekvalifikuotos darbo jėgos ir profesionalios, kvalifikuotos darbo jėgos. Tai jeigu mes norim, iš tikrųjų, tvarios ekonomikos, tai turime tą daryti tvariai, nepriklausomai nuo rinkimų, vienų ar kitokių\n",
            "answer:   1\n"
          ]
        },
        {
          "output_type": "stream",
          "name": "stderr",
          "text": [
            "\r  4%|▍         | 6/143 [00:07<02:04,  1.10it/s]"
          ]
        },
        {
          "output_type": "stream",
          "name": "stdout",
          "text": [
            "paragraph:  Tai Jūs turbūt taip gerai gyvenate, kad Jums tai neberūpi. \n",
            "answer:   1\n"
          ]
        },
        {
          "output_type": "stream",
          "name": "stderr",
          "text": [
            "\r  5%|▍         | 7/143 [00:07<01:52,  1.21it/s]"
          ]
        },
        {
          "output_type": "stream",
          "name": "stdout",
          "text": [
            "paragraph:  Jūs labai klystate, aš galiu pasakyt.\n",
            "answer:   1\n"
          ]
        },
        {
          "output_type": "stream",
          "name": "stderr",
          "text": [
            "\r  6%|▌         | 8/143 [00:08<01:49,  1.23it/s]"
          ]
        },
        {
          "output_type": "stream",
          "name": "stdout",
          "text": [
            "paragraph:  Bet kioskuose nieko nesumažėjo ir mes matome, iš tikrųjų, didžiausią problemą alkoholis nuperkamas ne didžiuosiuose prekybos centruose, bet mes matome tuos vadinamus alubarius, kurių yra net ir mano apygardoj, kur kandidatuoju – Šeškinėj, gyventojai skundžiasi triukšmu, gyventojai skundžiasi asmenimis, kurie ten girtuokliauja, todėl mes manome, kad savivalda turėtų irgi imtis ir jiem turime suteikti instrumentus atimti prekybos licenzijas tokiems, kurie nesilaiko elementarių higienos normų tokiose vietose.\n",
            "answer:   1\n"
          ]
        },
        {
          "output_type": "stream",
          "name": "stderr",
          "text": [
            "\r  6%|▋         | 9/143 [00:09<01:47,  1.25it/s]"
          ]
        },
        {
          "output_type": "stream",
          "name": "stdout",
          "text": [
            "paragraph:  Dabar dar vienas faktas. Jūsų Ministras, kurio pavardės nieks neatsimena, Gustas, sukūrė programą: „regio invest“, ar ne? Kuri turėjo padėti kilti regionams. 55 procentai tos programos buvo suinvestuota į Vilnių ir Kauną. Vėlgi ta pati ir ta pati tendencija, akivaizdžiai matosi, tiesiog yra didieji miestai, kurie yra preferuojami ir nieko regionams. Ir mes matom regionus, kur yra milžiniška emigraciją iš jų, milžiniška bedarbystė vis dar, 16 ir daugiau prcentų ir dar auganti, Ir dėl to nebuvo per keturis metus padaryta nei vieno žingsnio. \n",
            "answer:   1\n"
          ]
        },
        {
          "output_type": "stream",
          "name": "stderr",
          "text": [
            "\r  7%|▋         | 10/143 [00:10<01:44,  1.27it/s]You seem to be using the pipelines sequentially on GPU. In order to maximize efficiency please use a dataset\n"
          ]
        },
        {
          "output_type": "stream",
          "name": "stdout",
          "text": [
            "paragraph:  Šiandien mes matome skandalus su, pavyzdžiui, tom auksinėm šakutėm. Arba, kad ten paskaitos mokiniams perkamos už du tūkstančius šešis šimtus eurų, kaip susipažinti su gamta. Tokių skandalų nebūtų, jeigu mes keistume įstatymus ir būtų atsakomybė konkrečiai perkančių asmenų. \n",
            "answer:   1\n"
          ]
        },
        {
          "output_type": "stream",
          "name": "stderr",
          "text": [
            "\r  8%|▊         | 11/143 [00:10<01:40,  1.31it/s]"
          ]
        },
        {
          "output_type": "stream",
          "name": "stdout",
          "text": [
            "paragraph:  ir norėčiau, kad Ruslanas Kovaliovas, ekonomikos mokslų daktaras, apsigynęs disertaciją socialinio verslo atsakomybę, tarrtų savo žodį, koks verslas turėtų būti regionuose ir ne tik. Prašau.\n",
            "answer:   1\n"
          ]
        },
        {
          "output_type": "stream",
          "name": "stderr",
          "text": [
            "\r  8%|▊         | 12/143 [00:11<01:37,  1.34it/s]"
          ]
        },
        {
          "output_type": "stream",
          "name": "stdout",
          "text": [
            "paragraph:  Na, dar kartą pasikartosiu. Iš tikrųjų, žmogus yra laimingas kada, jisai jaučiasi saugiai ir kada valstybė juo rūpinasi. Bet valstybe turi rūpintis ir pats, toj vietoj pats žmogus ir nešti atsakomybę. \n",
            "answer:   1\n"
          ]
        },
        {
          "output_type": "stream",
          "name": "stderr",
          "text": [
            "\r  9%|▉         | 13/143 [00:12<01:44,  1.25it/s]"
          ]
        },
        {
          "output_type": "stream",
          "name": "stdout",
          "text": [
            "paragraph:  Iš tiesų, kalbant apie tą terminą „darbo jėga“, matyt, reikėtų minėti dirbančiuosius, mūsų verslas konkuruoja iš esmės vieninteliu segmentu sėkmingai, tai pigia darbo jėga, tačiau visa tai baigiasi, ir dar šiandien buvo priimtas Darbo kodeksas, kuris tikrai buvo reikalingas darant darbo santykius lankstesnius, tačiau atmetus Prezidentės siūlomas pataisas ir pašalinus tuos iš esmės bendram procesui nelabai įtakojančius eem, saugiklius, kurį buvo galima pasiūlyti, yra bendras socialinis saugumas tų darbuotojų, jis iš tiesų neprisidės prie to, kad mes turėsim motyvuotą, saugų, gerai dirbantį, siekiantį išsilavinimo darbuotoją. Dėl šešėlio, tai yra trečdalis bendro vidaus produkto šešėlyje, ir daug kas bando kovoti su šešėliu, mes siūlome kitą variantą, su kriminaliniu šešėliu kovoti, su tuo, kur verslas buvo įstumtas į šešėlį tikrai eiti per legalizavimo prizmę. \n",
            "answer:   1\n"
          ]
        },
        {
          "output_type": "stream",
          "name": "stderr",
          "text": [
            "\r 10%|▉         | 14/143 [00:13<01:47,  1.20it/s]"
          ]
        },
        {
          "output_type": "stream",
          "name": "stdout",
          "text": [
            "paragraph:  Tai aš jeigu grįžtant, ką ir sakė, žmogus laimingas tada, kada sąskaitą gauna už šildymą ir mažą. Tai šiandieną mes turime pasekmė tai, kada didžiosios miesto savivaldybės, ir vieni, ir kiti vadovai buvę išnuomavo šilumos tinklus. Kai kurie net praktiškai juos pardavė ir mes nuo to turim šiai dienai, kad yra priklausomi ir verslas šiai dienai yra, matuoja savo normą. Aš manau, kad kainų energetikos komisija iš tikrųjų turėtų didesnį vaidmenį vaidint nustatant, tikrinant ir kontroliuojant iš ko, kas, kaip perka. Yra keista, kai šilumos ūkio įmonės įkuria tris keturias dukterines įmones, biokuro įmones, dujų tarpines įmones, administratorius, daugiabučių namų prižiūrėtojus ir kiekviena įmonė, tarp kitko, įdomiausia, kad turi dvylika procentų pelningumą. Tai gyventojo sąskaitoj, ne tik šildyme bet ir visam kame tas ir atsispindi.\n",
            "answer:   1\n"
          ]
        },
        {
          "output_type": "stream",
          "name": "stderr",
          "text": [
            "\r 10%|█         | 15/143 [00:14<01:51,  1.15it/s]"
          ]
        },
        {
          "output_type": "stream",
          "name": "stdout",
          "text": [
            "paragraph:  būtent daugiabučių namų renovacija ir davė tą didžiausią postūmį, yra didžiausia bėda šiandien yra finansavimas ir finansavimo šaltiniai. Šiandien Aplinkos ministerijoj guli virš 500 sutarčių, kurie yra su namais pasirašyta. Bet Jūs patys puikiai žinote: arba bankai finansuoja, arba ne. Ir dabar vyksta derybos, kokiu santykiu tai bus finansuojama ir kaip greitai mes tą paleisim. Tai daugiabučių renovacija šiandieną jau leido 17 procentų šilumos sąskaitų sutaupyti. Tai tai yra labai didelis, didelis viltis. Antras yra dalykas, niekam netrukdo šilumos ūkiam patiem investuot į daugiabučių namų renovaciją, kaip tam tikrą investiciją. Estija kažkodėl turi, Latvija turi, Vokietija turi. Mes šiandien dienai stabdome tas, tą norą arba tą inenciją šitą dalyką daryti. Kitas yra dalykas, mes padarėme, aš manau, kai kurie padarė, iš tikrųjų, neigiamą sprendimą, kada šilumos ūkio katilinėm draudė gaminti savo elektrą ir ją parduoti, ir tai realiai gal ir pats puikiai žinote, 40 milijonų prarado pajamų. \n",
            "answer:   1\n"
          ]
        },
        {
          "output_type": "stream",
          "name": "stderr",
          "text": [
            "\r 11%|█         | 16/143 [00:15<01:46,  1.19it/s]"
          ]
        },
        {
          "output_type": "stream",
          "name": "stdout",
          "text": [
            "paragraph:  Mūsų partija taip drastiškai nepriimtų tokio sprendimo, kad tik trys universitetai turi likti Lietuvoje. Lietuvoje reikalinga tiek, kiek Lietuvai reikalinga universitetų. Optimizuoti reikia, bet reikia pritaikyti prie rinkos sąlygų ir reikia remtis tas specialybes, kurios Lietuvos ūkiui ir Lietuvos kapitalui naudingos.\n",
            "answer:   1\n"
          ]
        },
        {
          "output_type": "stream",
          "name": "stderr",
          "text": [
            "\r 12%|█▏        | 17/143 [00:16<01:46,  1.19it/s]"
          ]
        },
        {
          "output_type": "stream",
          "name": "stdout",
          "text": [
            "paragraph:  Jeigu nebus klausimo apie socialinę atskirtį, tai iš esmės čia yra tas pats klausimas. Tai aš tiesiog perskaitysiu, kas mūsų programoj yra parašyta. Beje, visiem žiūrovam labai rekomenduoju: pasižiūrėkit „Naktigonę“, trylikta „Naktigonė“ yra programa, labai plačiai pateikta, dabar tiesiog pacituoju. Aišku, progresiniai mokesčiai. Pasaulis žino tuos instrumentus. Mažinančius tą socialinę atskirtį. Čia niekas nieko nesugalvos to, ko pasaulyje nėra. Bet mes neminim šitų. Progresinius mokesčius minim. Bet žiūrėkit. Paveldima mokesčiai? Vakarų šalyse jie yra žvėriški. Ir jie mažina realiai tą socialinę atskirtį. Bet ar mūsų žmonės yra pasiruošę mokėt, pavyzdžiui, 50 procentų nuo namo, kuriame jis pats gyvena. O taip yra Prancūzijoj. Toliau. \n",
            "answer:   1\n"
          ]
        },
        {
          "output_type": "stream",
          "name": "stderr",
          "text": [
            "\r 13%|█▎        | 18/143 [00:16<01:44,  1.20it/s]"
          ]
        },
        {
          "output_type": "stream",
          "name": "stdout",
          "text": [
            "paragraph:  Na, šalia vertybinių nuostatų, apie kurias kalbėjau, be abejo, įvykdymo teisingumo yra esminis dalykas. Kiekvienas atvejis, jeigu jis yra žinomas, o kad jis būtų žinomas, turėtų būti įtraukta visa sistema, turėtų būti konkrečiai davestas iki pabaigos. Mes kalbėjom apie teismo ilgalaikio nutarčių neskyrimą. Tai yra, irgi turėtų būti išspręstas dalykas. \n",
            "answer:   1\n"
          ]
        },
        {
          "output_type": "stream",
          "name": "stderr",
          "text": [
            "\r 13%|█▎        | 19/143 [00:17<01:39,  1.24it/s]"
          ]
        },
        {
          "output_type": "stream",
          "name": "stdout",
          "text": [
            "paragraph:  Aš tiesiog keliu klausimą, ar visuomenė yra pasiruošusi, nes dažnai mes šnekam apie tą socialinės atskirties mažinimą, bet mes norim, kad nieks nenukentėtų. O taip nebūna. Jeigu norim rimtai tuo užsiimt – kažkas nukentės.\n",
            "answer:   1\n"
          ]
        },
        {
          "output_type": "stream",
          "name": "stderr",
          "text": [
            "\r 14%|█▍        | 20/143 [00:18<01:39,  1.24it/s]"
          ]
        },
        {
          "output_type": "stream",
          "name": "stdout",
          "text": [
            "paragraph:  Norėčiau nesutikti su Rolandu Paulausku, kaip tik mūsų koalicija mano, ir aš asmeniškai įsitikinęs ir aš galiu iš 20 metų savo politiko praktikos pasakyt, kad šitą šešėlinę ekonomiką kuria ne verslininkai, ne eiliniai piliečiai, prekiaudami nelegaliai turguj, o Seimo nariai Europoj tokių sumų niekas negrynina.\n",
            "answer:   1\n"
          ]
        },
        {
          "output_type": "stream",
          "name": "stderr",
          "text": [
            "\r 15%|█▍        | 21/143 [00:19<01:41,  1.20it/s]"
          ]
        },
        {
          "output_type": "stream",
          "name": "stdout",
          "text": [
            "paragraph:  Tai aš norėčiau šiek tiek paoponuoti kolegai. Jūs ką tik pats sau paprieštaravot: sakot, kad kuo geriau gyvenam, tuo mažiau vaikų.  Demografinis šuolis buvo Lietuvoje maždaug apie 2009-us metus. Kada buvo, eem, pirmi metai mokami jaunoms motinoms  100 procentų, antri metai buvo 80 procentų. Kas tada įvyko? Daugelis motinų buvo iškeltos, reiškia, kriminalinė bylos. Reikėjo susitvarkyt su netobulu įstatymu, tą įstatymą patobulint iki galo, ir netrukdyt ateiti pinigų į šeimas. Nes, tikrai, dabar pati didžiausia problema, ko gero, yra finansinė. Žmonės nebeturi už ką tų vaikų išlaikyti. Jeigu Jūs sakot, kad ubagai pradės Lietuvoje gimdyt vaikus, tai mes užpildysime visus vaikų.\n",
            "answer:   1\n"
          ]
        },
        {
          "output_type": "stream",
          "name": "stderr",
          "text": [
            "\r 15%|█▌        | 22/143 [00:20<01:37,  1.25it/s]"
          ]
        },
        {
          "output_type": "stream",
          "name": "stdout",
          "text": [
            "paragraph:  Nepatenkinti liko ir visi kiti, kurie buvo atleisti. Tai parodo ir Lietuvos profesinių policijos profesinių sąjungų pareiškimas, kuris išreiškia susirūpinimą ir abejonę dėl pačios reorganizacijos perspektyvos.\n",
            "answer:   1\n"
          ]
        },
        {
          "output_type": "stream",
          "name": "stderr",
          "text": [
            "\r 16%|█▌        | 23/143 [00:20<01:37,  1.23it/s]"
          ]
        },
        {
          "output_type": "stream",
          "name": "stdout",
          "text": [
            "paragraph:  Aš esu, kaip sakant, mėgėjas keisti tą sistemą, pateikęs progresinių mokesčių projektą nustebau, kad Syso toks projektas buvo atmestas, matot, eem, aš tai tikrai nepakeisiu, nes Seimo daugumoje eem, tokioj esančioje, jeigu jau pats Socialdemokratų partijos žmogus negali pateikti, tai sunkiai galima pateikt. Nes, matomai, šitoj valstybėj eem, kažkaip tai norima įamžint tą skirtumą ir pakankamai didelis yra pasipriešinimas. Aš taip pat, kaip instrumentą, mūsų frakcija buvo pradėjusi, kad galėtų įstatymo iniciatyva būt 15 000, kad referendumas būt 100 000, nes su tokia Seimo dauguma kažkokiu rezultatus pasiekti tiesiog yra neįmanoma.\n",
            "answer:   1\n"
          ]
        },
        {
          "output_type": "stream",
          "name": "stderr",
          "text": [
            "\r 17%|█▋        | 24/143 [00:22<01:54,  1.04it/s]"
          ]
        },
        {
          "output_type": "stream",
          "name": "stdout",
          "text": [
            "paragraph:  Atlaisvinkime visus varžtelius, nulipkime tam žmogui nuo galvos ir sakykime: dirbk, atidėsime mokesčius!  Arba pirmus metus neimsime mokesčio. Tik tu pradėk pats dirbti, oriai gyventi ir neprašyk nieko iš valstybės. Mūsų žmonės drąsus, jie tą darys, tik leiskime.\n",
            "answer:   1\n"
          ]
        },
        {
          "output_type": "stream",
          "name": "stderr",
          "text": [
            "\r 17%|█▋        | 25/143 [00:23<02:02,  1.04s/it]"
          ]
        },
        {
          "output_type": "stream",
          "name": "stdout",
          "text": [
            "paragraph:  Aš tiesiog negaliu atsistebėti vienu dalyku: ištraukta žodis „juvenalinė justicija“ tai yra iš rusų terminijos. ...ir iš kitos pusės, jeigu tą jūsų, apie kurią čia kalbat, tuo terminu „juvenalinė justicija“, kur, atrodo, jau senai išsiaiškinom, su visais specialistais, psichologais, kad tai yra didžiausia nesąmonė ir apie kurią Lietuvoj net negalima kalbėti, bet Jūs, matyt, pritariate, kad smurtas šeimoje tai yra taip\n",
            "answer:   1\n"
          ]
        },
        {
          "output_type": "stream",
          "name": "stderr",
          "text": [
            "\r 18%|█▊        | 26/143 [00:24<02:10,  1.12s/it]"
          ]
        },
        {
          "output_type": "stream",
          "name": "stdout",
          "text": [
            "paragraph:  Ačiū, Edmundai, už gerą klausimą, mieli žiūrovai, iš tikrųjų Lietuvoj problemų ekonomikos didelių yra, ir ne viena, ir jas reikia žiūrėt į tris dalis išskirtyt, mano galva. Pirmas dalykas, tai yra darbo santykiai ir sugebėjimas žmonėms mokėti atlyginimą, kuris užtikrintų į orų gyvenimą, tai mes pasisakom už tai, kad sukurt tokias sąlygas verslui, kad jie sugebėtų mokėti bent po tūkstantį šimtą algos vidutinis atlyginimas būtų, užtikrinti minimalų atlyginimą, ne mažesnį kaip 650 eurų, ir tokiu būdu padaryti, kad Lietuvoj gyvenantys žmonės neišvažiuotų ir nepapildytų darbo jėgos kitose valstybėse, nedirbtų tenais, dirbtų Lietuvoj.\n",
            "answer:   1\n"
          ]
        },
        {
          "output_type": "stream",
          "name": "stderr",
          "text": [
            "\r 19%|█▉        | 27/143 [00:25<02:05,  1.08s/it]"
          ]
        },
        {
          "output_type": "stream",
          "name": "stdout",
          "text": [
            "paragraph:  Sveiki. Naujamiesčio apygardos kandidatas, eem, tenka, ypatingai pastaruoju metu, daug keliauti po svečias šalis ir susitikti su lietuviais, tai, iš tikrųjų, jie yra nusivylę tuo, kad dviguba pilietybė, svarstymas ir būtent net internetinio balsavimo klausimas yra ilgai svarstomas, bet niekas negali eem, priimti jo, tai liberalai vieninteliai, kurie nuosekliai politiką būtent tuo klausimu vykdėo. Tai, iš tikrųjų, tai padėtų su jais palaikyti geresnį ryšį ir kad jie galėtų dalyvauti, būtent, politiniam gyvenime Lietuvos.\n",
            "answer:   1\n"
          ]
        },
        {
          "output_type": "stream",
          "name": "stderr",
          "text": [
            "\r 20%|█▉        | 28/143 [00:26<01:54,  1.00it/s]"
          ]
        },
        {
          "output_type": "stream",
          "name": "stdout",
          "text": [
            "paragraph:  Tenka pastebėti, kad Lietuva iki šiol nesuprato, kad investicijos į vaikus tai yra pačios saugiausios investicijos. Ir tenka pastebėti, kad Lietuva pamiršta rūpintis savo vaikais ir šeimomis, kuriose auga vaikai. Per sunkiausius krizės metus Lietuvoje buvo pirmiausia paliesti tai vaikai. Ir iš jų atimtos išmokos vaikams. Ir labai tenka apgailestauti, kad per praėjusius krizės metus vaikams nebuvo sugrąžintos šitos išmokos ir neparemtos šeimos. \n",
            "answer:   1\n"
          ]
        },
        {
          "output_type": "stream",
          "name": "stderr",
          "text": [
            "\r 20%|██        | 29/143 [00:27<01:48,  1.05it/s]"
          ]
        },
        {
          "output_type": "stream",
          "name": "stdout",
          "text": [
            "paragraph:  Žmones psichologiškai žlugdo milžiniški skirtumai tarp atlyginimo ir tarp pensijų. Paimkim mokytoją su keturiais vaikais, vidutinė pensija 200 eurų, ir imkim teisėją, prieš tai dirbusį Vidaus reikalų ministerijoj, po to Konstituciniam teisme, jo pensija yra du tūkstantis aštuoni šimtai eurų. Tai yra 20 kartų skirtumas, tas pats, valstybės tarnyboje atsiprašau, dešimt, jo, bet jeigu imsim minimalią pensiją, tai 20 kartų. Tai tokių skirtumų Europoj nėra ir žmones tai visiškai gniuždo, sukelia neteisingumo jausmą, tai didina emigraciją, tai iš esmės paraližuoja žmogaus norą dirbti. Ir ką gi reikėtų daryti? Tiesa, va dar puikus Andriaus Tapino tyrimas vakar paskelbtas Delfyje, išanalizuoti kandidatų į Seimą pajamos ir sumokėti mokesčiai ir ką mes matome? \n",
            "answer:   1\n"
          ]
        },
        {
          "output_type": "stream",
          "name": "stderr",
          "text": [
            "\r 21%|██        | 30/143 [00:28<01:49,  1.03it/s]"
          ]
        },
        {
          "output_type": "stream",
          "name": "stdout",
          "text": [
            "paragraph:  Štai pasižiūrėkim – susirinko Europos Sąjungos galvos visai neseniai ir pasakė, kad Europa tuoj, pavasarį kitų metų, turės savo viziją. Tuo pačiu metu Prezidentė/Respublikos Prezidentė šią vasarą pasakė, per metinį pranešimą: „valstybė praranda strateginę kryptį“. Kas norės gyvent valstybėj, kuri neturi krypties? Kurios vadovas sako: „šitas laivas neplaukia. Neturi krypties”. Tai pirmiausia, jeigu mes norim jaunimą išlaikyt Lietuvoje, mes turim Lietuvai duot kryptį. Ta kryptis turi būt politikų kuriama su visuomene. Mes turim patikėt, kad šitas kraštas nėra nevykėlių kraštas. Kad Lietuvoje verta gyvent. Ir turim atsakyt savo jaunimui, dėl ko Lietuvoje verta gyvent. Tyrimai rodo šiandien, kad 60 procentų jaunmo yra pasiruošusių emigruot, bėgt iš Lietuvos. Aštuntokų pernykščiai tyrimai parodė, kad 43 procentų aštuntokų nori gyvent užsienyje. Bet 66 iš jų laiko savo patriotais. Ir tie, kurie laiko save patriotais, jų mažiau nori išvažiuot. Vadinasi, jeigu mes švietimo sistemą tvarkom – galim stabdyt emigraciją, bet turi būt ir piliečių teisės, laisvės valstybėje.\n",
            "answer:   1\n"
          ]
        },
        {
          "output_type": "stream",
          "name": "stderr",
          "text": [
            "\r 22%|██▏       | 31/143 [00:29<01:44,  1.08it/s]"
          ]
        },
        {
          "output_type": "stream",
          "name": "stdout",
          "text": [
            "paragraph:  jūs galėsite atsakyti, bet aš dabar pasakysiu kaip tėtis: kas yra, kodėl vaikų nesusilaukia poros? Pasižiūrėkite, ką reiškia tą vaiką išlaikyti? Kiek kainuoja sauskelnės? Kiek kainuoja įvairūs mišinėliai? Kiek kainuoja įvairūs preparatai. Nei vienas iš jūsų, pavyzdžiui, nepasisakote, mes ir mūsų atstovai Seime pasisakė mažinti pridėtinės vertės mokestį, tarp jų ir vaistams, kurie yra ir vaikams svarbūs, nors yra dalis kompensuojamų, bet dalis yra nekompensuojamų. Pasižiūrėkite, kiek kainuoja tos pačios sauskelnės? Ar kas nors iš jūsų dabar va auginate vaiką?\n",
            "answer:   1\n"
          ]
        },
        {
          "output_type": "stream",
          "name": "stderr",
          "text": [
            "\r 22%|██▏       | 32/143 [00:30<01:38,  1.12it/s]"
          ]
        },
        {
          "output_type": "stream",
          "name": "stdout",
          "text": [
            "paragraph:  Na, gerai, tvarkoj. Turi, gerai, gerai. Gerai, gerai. Bet tada žinot, koks kyla klausimas? Kaip aš turiu elgtis. Kaip turi elgtis suaugęs žmogus, kada mato, kaip kitas suaugęs žmogus vilioja tokią nesupratingą mergaitę su saldainiais. Kaip jis turi elgtis? O aš matau šitoj studijoj tokį faktą. Ir aš nežinau, ką aš turiu daryt.\n",
            "answer:   1\n"
          ]
        },
        {
          "output_type": "stream",
          "name": "stderr",
          "text": [
            "\r 23%|██▎       | 33/143 [00:30<01:33,  1.17it/s]"
          ]
        },
        {
          "output_type": "stream",
          "name": "stdout",
          "text": [
            "paragraph:  Pradėčiau nuo to, kad socialinė apsauga yra visiškai per ketverius metus stagnuojanti ir nereformuota sistema. Na, net pasižiūrėkime Ministrė Algimanta Pabedinskienė nemato reikalo dalyvauti čia arba partija nemato reikalo pakviesti. \n",
            "answer:   1\n"
          ]
        },
        {
          "output_type": "stream",
          "name": "stderr",
          "text": [
            "\r 24%|██▍       | 34/143 [00:31<01:38,  1.10it/s]"
          ]
        },
        {
          "output_type": "stream",
          "name": "stdout",
          "text": [
            "paragraph:  Labai trumpai, kalbant apie PVM surinkimą. Tikriausiai pastebėjot, kad PVM surinkimas ženkliai pagerėjo ir niekada nebuvo PVM pajamų planas įvykdytas. Tikrai sutinku su ta mintim, kad dar tikrai šešėly PVM nesumokėta yra nemažai, bet mes visa tai grindžiam analize, skaičiavimais ir tie skaičiavimai yra daromi įvairiais pjūviais, bet ne kažkokiom tai žiauriom akcijom, gąsdinimais. Tiesiog matoma stambių įmonių, pavyzdžiui, kokia yra apyvarta, kokie yra mokesčiai. Nes, pavyzdžiui, kalbant apie mokesčius, nekas nekalba apie brangaus turto apmokestinimą. Mes dabar jau, Socialdemokratai, pradėjom apie tai diskutuot, nes pamatėm, kad tendencijos dabar jau pasidarė tokios, kad iš kapitalo pajamos Lietuvoj pradėjo augt daug sparčiau, netgi keletą kartų sparčiau, lyginant su vidutiniu darbo užmokesčio augimu. Ir aš šitą klausimą, kurį iškėliau, dabar pamačiau ir portaluose diskusija, ir Vyriausybė jau šitą analizę baigs šitą savaitę ir bus galima tiesiog pateikt visuomenei\n",
            "answer:   1\n"
          ]
        },
        {
          "output_type": "stream",
          "name": "stderr",
          "text": [
            "\r 24%|██▍       | 35/143 [00:32<01:32,  1.17it/s]"
          ]
        },
        {
          "output_type": "stream",
          "name": "stdout",
          "text": [
            "paragraph:  Aš tikrai žinau, ką reiškia „augo skurdas“, skirtingai, negu kai kurie kiti čia esantys. \n",
            "answer:   1\n"
          ]
        },
        {
          "output_type": "stream",
          "name": "stderr",
          "text": [
            "\r 25%|██▌       | 36/143 [00:33<01:30,  1.19it/s]"
          ]
        },
        {
          "output_type": "stream",
          "name": "stdout",
          "text": [
            "paragraph:  Taip pat keturių Bazinių socialinių išmokų dydis, kuris sudaro 152 eurus ir išmoka besimokančio ar studijuojančio asmens, vaiko priežiūrai. Jeigi mokomasi iki 26-erių metų, o jeigu studijuoja medicinoje, rezidentūroje, tai yra mokama iki 30-ies metų. Vaiko pinigai, kas irgi yra numatyta artimiausiu metu mokėti, tai siūloma kad kiekvienas vaikas Lietuvoj, nuo 7-erių iki 18-os metų šeimoje augant, arba jį globojant jis irgi gautų tam tikras irgi papildomas išmokas.\n",
            "answer:   1\n"
          ]
        },
        {
          "output_type": "stream",
          "name": "stderr",
          "text": [
            "\r 26%|██▌       | 37/143 [00:34<01:25,  1.25it/s]"
          ]
        },
        {
          "output_type": "stream",
          "name": "stdout",
          "text": [
            "paragraph:  Gerai, puiku, specialistų turit, neabejoju. Pasilyginkit vieną dalyką: su Estijos PVM surinkimu. Tris kartus skiriasi skaičiai. Ir atsakykit į klausimą: ką jūs padarėt... \n",
            "answer:   1\n"
          ]
        },
        {
          "output_type": "stream",
          "name": "stderr",
          "text": [
            "\r 27%|██▋       | 38/143 [00:34<01:27,  1.20it/s]"
          ]
        },
        {
          "output_type": "stream",
          "name": "stdout",
          "text": [
            "paragraph:  Antras dalykas – minimalios algos sulyginimas su neapmokestinamu pajamų dydžiu, kad jaunos šeimos gautų daugiau pinigų ir daugiau pajamų, ketvirtas yra dalykas, asmenys, kurie sulaukia šiandien senatvės, pensijos, iš tikrųjų, išeitų į pensiją ir jaunom šeimom leistų dirbti, taip stabdytume emigraciją ir kartu grįžtų šičia, regioninė politika, yra jaunas specialistas, jaunas daktaras, jaunas teisėjas ar ten prokuroras ar dar kažkoks tai architektas, kaip pavyzdys, jiem yra garantuojamas vadinamasis socialinis būstas, jeigu kitaip pasakysime, ir automatiškai tenais jisai lieka gyvent. Darželių politiką didžiuosiuose miestuose mes įsivaizduojame šiek tiek kitaip, kadangi darželiai turi būti garantuojami žmonėm, kurie šiandiemn dirba, kurie garantuoja pajamas, kurie duota tai yra pirmumas, po to ir, aišku, privatūs ir užimtumo centrai. Tai trumpai tiek dabar.\n",
            "answer:   1\n"
          ]
        },
        {
          "output_type": "stream",
          "name": "stderr",
          "text": [
            "\r 27%|██▋       | 39/143 [00:35<01:25,  1.22it/s]"
          ]
        },
        {
          "output_type": "stream",
          "name": "stdout",
          "text": [
            "paragraph:  dėl to, kad per paskutinius ketverius metus keturiais procentais paaugo skurstančių žmonių skaičius Lietuvoje. Prie to paties būtų galima pridurti, kad pensijinio amžiaus žmonių skurdas išaugo septyniais procentais. Iš tikrųjų, tai yra dramatiška situacija ir mes matome, na, atleiskite, skaičiai, galima pasakyti – nuo 18, 7 procentų skurstančių penininkų iki 25. Aš jum galėsiu palikti po laidos. \n",
            "answer:   1\n"
          ]
        },
        {
          "output_type": "stream",
          "name": "stderr",
          "text": [
            "\r 28%|██▊       | 40/143 [00:36<01:21,  1.27it/s]"
          ]
        },
        {
          "output_type": "stream",
          "name": "stdout",
          "text": [
            "paragraph:  Gerai, pone Krivickai, mintį supratom, laiką viršyjot puse minutės, po to atimsim, dabar jau nepridėsim. Aušra Maldeikienė, prašau.\n",
            "answer:   1\n"
          ]
        },
        {
          "output_type": "stream",
          "name": "stderr",
          "text": [
            "\r 29%|██▊       | 41/143 [00:37<01:19,  1.29it/s]"
          ]
        },
        {
          "output_type": "stream",
          "name": "stdout",
          "text": [
            "paragraph:  Aš noriu, kad į mūsų diskusiją įsiterptų profesorius Antanas Kulakauskas, kuris tom temom yra skyręs daug akademinio dėmesio.\n",
            "answer:   1\n"
          ]
        },
        {
          "output_type": "stream",
          "name": "stderr",
          "text": [
            "\r 29%|██▉       | 42/143 [00:38<01:19,  1.27it/s]"
          ]
        },
        {
          "output_type": "stream",
          "name": "stdout",
          "text": [
            "paragraph:  Tai norint šitą problemą išspręti, mes matome, vieną sprendimo kelią: perduoti Energetikos ministerijai, būtent už renovacijos procesą. Nebus kitaip, neįmanoma. Ne Aplinkos ministerija, ne savivaldybės paskiros, tik Energetios ministerija, nes priešingu atveju jinai netenka prasmės, jos prasmės buvimo politinėj Lietuvos valdymo sistemoj, nėra jokios prasmės ten, ją galima naikinti.\n",
            "answer:   1\n"
          ]
        },
        {
          "output_type": "stream",
          "name": "stderr",
          "text": [
            "\r 30%|███       | 43/143 [00:38<01:16,  1.31it/s]"
          ]
        },
        {
          "output_type": "stream",
          "name": "stdout",
          "text": [
            "paragraph:  ir noriu dar pabrėžt – kaip tik prie šitos Vyriausybės medicinos paslaugų balas buvo sugrąžintas prie...iki vieneto. Aš irgi noriu pabrėžt. Duokit laiko ir man ką nors\t\n",
            "answer:   1\n"
          ]
        },
        {
          "output_type": "stream",
          "name": "stderr",
          "text": [
            "\r 31%|███       | 44/143 [00:39<01:18,  1.25it/s]"
          ]
        },
        {
          "output_type": "stream",
          "name": "stdout",
          "text": [
            "paragraph:  Na, išties, šešėlinė ekonomika Lietuvoje yra didžiulė problema, viena iš galimo sprendimo būdų, būtų būtent, kaip mes ir kalbėjome anksčiau, mokesčių reforma. Jeigu mes šiandien dažnas dirbantis žmogus, iš tikrųjų, jisai nesupranta. Kad kai jisai gauna, aam, dalį savo atlyginimo vokelyje, jisai mano, kad tai tokiu būdu, jisai tokiu būdu mano, kad jisai, na, taupo galbūt kažkokias. Iš tikrųjų, tai yra jo sąskaita, jo ateities sąkaita taupoma. Tai, ką mes kalbame savo mokesčių programoje būtent apie tai, kad dalis darbdavio mokesčių būtų priklijuojama tam tikra prasme prie žmogaus atlyginimo, jis matytų tada savo tikrąją algą. Jis reikalautų iš darbdavio...atleiskit, jau dabar...\n",
            "answer:   1\n"
          ]
        },
        {
          "output_type": "stream",
          "name": "stderr",
          "text": [
            "\r 31%|███▏      | 45/143 [00:40<01:16,  1.28it/s]"
          ]
        },
        {
          "output_type": "stream",
          "name": "stdout",
          "text": [
            "paragraph:  Pozicija labai aiški. Dėl santuokų mes pasisakome prieš, dėl asmenų, kurie gyvena vienalytėse porose, aš dar kartą sakau, mes pasisakom labai kategoriškai: teisiniai santykiai turi būti įteisinti. Vieną kartą galbūt suprasite ir Jūs, ką mes kalbame.\n",
            "answer:   1\n"
          ]
        },
        {
          "output_type": "stream",
          "name": "stderr",
          "text": [
            "\r 32%|███▏      | 46/143 [00:41<01:16,  1.27it/s]"
          ]
        },
        {
          "output_type": "stream",
          "name": "stdout",
          "text": [
            "paragraph:  Iš Olandijos, “Jukos”, taip. ketvirtas klausimas, į kurį gali atsakyti “Žaliųjų” partija ir Linas Balsys: Pone Balsy, koks kitąmet, Jūsų partijai laimėjus rinkimus, žinoma, koks kitąmet bus PVM tarifo dydis? Kam taikysite mokesčių lengvatas? Kiek teisingos dabartinės mokesčių lengvatos?\n",
            "answer:   1\n"
          ]
        },
        {
          "output_type": "stream",
          "name": "stderr",
          "text": [
            "\r 33%|███▎      | 47/143 [00:42<01:21,  1.18it/s]"
          ]
        },
        {
          "output_type": "stream",
          "name": "stdout",
          "text": [
            "paragraph:  Aš tik norėjau sureaguoti, kad, matot, jeigu mokytojas rūko, tai kiek jis padaro nuostolio, nes mūsų daug jaunimo, žinot, išmirs ir tam tikras šešėlis ir šita pramonė labai klesti. Aš kada pats Pakuonį būdamas kviečiau surinkti pakučius ir rasti, tuos išmestus, kiek yra iš vietinės pramonės. Ir man, žinote, tas šešėlis ne tai, kad jis padaro nuostolį ten finansais, bet jis kiek nušluoja žmonių gyvybių, nes, žinot, pasižiūrėta mokykloj kaip mes kaip keliolikos metų vaikai jau drūčiai prasirūkę. Tai tas šešėlis atneša daugeliui mirtį ir ypatingai tos visokios mėtinės, panašiai, ir ne tik, kad yra šešėlis, bet jos dar galbūt nežinia dar kokiom licenzijom jos pagamintos, kiek jos yra toksiškos, matau elektronines cigaretes iš kažkur atvežtas, jaunuoliai tenais rūko, tai matot, ne tik kad šešėlis, bet, manyčiau, turėtų būt persekiojama tokia apskritai prekyba tokiais, nes jie ir dar kitą šešėlį, kitą nuostolį daro žmonėms\n",
            "answer:   1\n"
          ]
        },
        {
          "output_type": "stream",
          "name": "stderr",
          "text": [
            "\r 34%|███▎      | 48/143 [00:42<01:18,  1.21it/s]"
          ]
        },
        {
          "output_type": "stream",
          "name": "stdout",
          "text": [
            "paragraph:  Metas užduoti antrąjį klausimą, į jį atsakys Lietuvos laisvės sąjunga Artūras Zuokas, sąrašo numeris trys. Ar Lietuvoje pajamų nelygybės problema yra didelė? Jei taip, ką darysite, kad ją sumažintumėte?\n",
            "answer:   1\n"
          ]
        },
        {
          "output_type": "stream",
          "name": "stderr",
          "text": [
            "\r 34%|███▍      | 49/143 [00:43<01:19,  1.18it/s]"
          ]
        },
        {
          "output_type": "stream",
          "name": "stdout",
          "text": [
            "paragraph:  Skaičuojant laimės indeksus mes esame antrojo penkiasdešimtuko pradžioje, apie 60-tą vietą ten, plius minus, bet iš tikrųjų tas laimės indeksas, jis yra truputėlį pernelyg ekonomizuotas ir nereikia įsivaizduoti, kad ekonomika viena ar kita forma žmogų gali padaryti laimingu. Na, tam reikia turėti beprotiškai materialistinį mąstymą. Komunistai darė visus labai laimingais ir žadėjo ten pastatus ir komunizmas 2000-aisiais tik sugriuvo, prieš dešimt metų iki to komunizmo. Tai iš tikrųjų tai iš tikrųjų, man atrodo, pirmas Lietuvoj svarbiausias dalykas pasijusti laimingais tai atsisakyti svajonės, kad būtinai privalai būt laimingas. \n",
            "answer:   1\n"
          ]
        },
        {
          "output_type": "stream",
          "name": "stderr",
          "text": [
            "\r 35%|███▍      | 50/143 [00:44<01:18,  1.18it/s]"
          ]
        },
        {
          "output_type": "stream",
          "name": "stdout",
          "text": [
            "paragraph:  Mes taip pat pasisakom už tai, kad būtų sveiki kūdikiai gimtų, tai yra mamos, būdamos nėščios, turėtų save labai prisižiūrėti, lankytis pas gydytojus. Toms, kurios tą sąžiningai ir pareigingai darytų, mes siūlome kūdikio krepšelį išskirtinį.\n",
            "answer:   1\n"
          ]
        },
        {
          "output_type": "stream",
          "name": "stderr",
          "text": [
            "\r 36%|███▌      | 51/143 [00:45<01:15,  1.22it/s]"
          ]
        },
        {
          "output_type": "stream",
          "name": "stdout",
          "text": [
            "paragraph:  Dar būdamas Seime 2009-aisiais metais, išstudijavęs Europos Komisijos raportą, radau labai protingus patarimus, kuriuos naudoja daugelis Europos Sąjungos šalių\n",
            "answer:   1\n"
          ]
        },
        {
          "output_type": "stream",
          "name": "stderr",
          "text": [
            "\r 36%|███▋      | 52/143 [00:46<01:12,  1.26it/s]"
          ]
        },
        {
          "output_type": "stream",
          "name": "stdout",
          "text": [
            "paragraph:  Prie Jūsų kaip tik, du tūkstančiai dešimtaisiais metais paliko virš aštuoniasdešimt tūkstančių. Šiais metais paliko tik dvidešimt du tūkstančiai ir grįžta vienuolika.\n",
            "answer:   1\n"
          ]
        },
        {
          "output_type": "stream",
          "name": "stderr",
          "text": [
            "\r 37%|███▋      | 53/143 [00:47<01:17,  1.16it/s]"
          ]
        },
        {
          "output_type": "stream",
          "name": "stdout",
          "text": [
            "paragraph:  Iš tiesų, mes vėl kalbam kas buvo labai gerai padaryta, gal ir buvo tų darbų, bet nekalbam apie ateitį. Dabar buvo paminėti vaikų namai, tai, iš tiesų, bandymas iš didelių vaikų globos namų juos perkelti į mažiukus, iš esmės nekeičiant pačios filosofijos globos ir paliekant tą patį stilių ir metodą, kad ateina kas kelintą parą žmogus, kuris atidirba su vaikais ir jie yra palikti mažesnėj aplinkoj, kur, iš tikrųjų, neturi nei infrastruktūros, nei galimybių kažkokių tai jų lavinimui, integravimui ir taip toliau. Mes manome, visgi, kad didžiulis rezervas yra ir čia proveržio nepadaryta su įsivaikinimu, iš tikrųjų, didelės procedūros perteklinės, nėra pagalbos toms šeimoms, kurios įsivaikina, nėra iš esmės suteikiamos jiems tuo metu vaiko priežiūros atostogos ir kita parama, kuri reikalinga būtų, kad vaikai būtų šeimose ir normaliai galėtų augti ir vystytis. \n",
            "answer:   1\n"
          ]
        },
        {
          "output_type": "stream",
          "name": "stderr",
          "text": [
            "\r 38%|███▊      | 54/143 [00:47<01:12,  1.23it/s]"
          ]
        },
        {
          "output_type": "stream",
          "name": "stdout",
          "text": [
            "paragraph:  Priminkit, kokia programa yra.\n",
            "answer:   1\n"
          ]
        },
        {
          "output_type": "stream",
          "name": "stderr",
          "text": [
            "\r 38%|███▊      | 55/143 [00:48<01:12,  1.22it/s]"
          ]
        },
        {
          "output_type": "stream",
          "name": "stdout",
          "text": [
            "paragraph:  Taip. Ko gero, pats geriausias pavyzdys, kur, na, regionai neturėtų konkuruoti tarpusavyje, o vienytis tai buvo tuo metu, kai aš buvau meru, Artūras Zuokas buvo meru, mes pasirašėm dvimiesčio bendradarbiavimo sutartį. Ir, beje, na, šita sutartis davė rezultatų, nes pradėjo labai ryškiai vystytis regionas tarp Vilniaus ir Kauno. Ir štai čia, jaunimui, tarp kitko, buvo labai gera paskata ne emigruoti, likti ir dirbti šiame regione. \n",
            "answer:   1\n"
          ]
        },
        {
          "output_type": "stream",
          "name": "stderr",
          "text": [
            "\r 39%|███▉      | 56/143 [00:49<01:11,  1.21it/s]"
          ]
        },
        {
          "output_type": "stream",
          "name": "stdout",
          "text": [
            "paragraph:  Aš pasikartosiu – tik tauta ir žmonės gali nuspręsti ir regiono savivaldybė pati gali nuspręsti, kokį mokestį taikyt. Valstybė, ir mes ta patį, pavyzdžiui, siūlome, jeigu yra įmonė, kuri per metus gauna iki 150 000 eurų pajamų, pelno mokestį ne apmokestinti. Tai tokiu atveju jisai gali investuoti į darbuotoją, gali investuot į įmonę ir kitur. \n",
            "answer:   1\n"
          ]
        },
        {
          "output_type": "stream",
          "name": "stderr",
          "text": [
            "\r 40%|███▉      | 57/143 [00:50<01:12,  1.19it/s]"
          ]
        },
        {
          "output_type": "stream",
          "name": "stdout",
          "text": [
            "paragraph:  Tačiau man labai nepatika ir tai, kad vis dėlto mes, turėdami galimybę kuo mažiau vartoti dujų, nesvarbu, iš kur jas perkam, dabartinės dujos importuojamos taip pat yra brangios, nors galbūt ir ne rusiškos, bet yra norvegiškos. Šiuo atveju mes galėjom turėt tikrai atsinaujinančią energetiką, tame tarpe naudoti biokurą, biomasę ir, sakykime, kitus būdus, kad gamintume ir elektrą, ir šilumą pigiai, neišveždami pinigų iš Lietuvos ekonomikos. O tai labai svarbi priemonė, vėlgi, kalbant apie pajamų didinimą, apie darbo vietų sukūrimą ir panaudojant tuos rezervus, kuriuos Lietuva šiandien turi.\n",
            "answer:   1\n"
          ]
        },
        {
          "output_type": "stream",
          "name": "stderr",
          "text": [
            "\r 41%|████      | 58/143 [00:51<01:16,  1.11it/s]"
          ]
        },
        {
          "output_type": "stream",
          "name": "stdout",
          "text": [
            "paragraph:  Replikuodama kolegui Linui,  jis pasakė, kad jis nesižarsto skaičiais, mūsų visi pasiūlyti projektai, įstatymų projektai ir programa yra apskaičiuoti ir pagrįsti skaičiais ir skaičiavimais. Vienas iš jų tai mūsų pristatytas seniai įstatymas PVM mažinimo iki penkių procentų maisto produktams ir pirmo būtinumo prekėm. Programoj mes, jau paruoštas įstatymas, ir į programą įrašyta apmokestinti prekybos centrus ir tam mokestį skirti, čia yra naujovė, čia niekas dar nepasiūlė, skirti savivaldybėms padengti atliekų surinkimo išlaidas. Logika yra tame, kad pirkėjas, užeidamas į parduotuvę, jau sumoka už tą pakuotę, ir faktiškai moka dvigubai. Ne visi žino, bet kartais moka ir triskart. Dėl to, kad yra, egzistuoja toks mokestis pakuotės mokestis, kuris moka gamintojas ir tas mokestis patenka į aplinkosaugos koridorių ir ten dingsta, finansuodamas neaiškios kilmės programas. Tai, kad to nebūtų, tą mokestį mes, apmokestindami prekybos centrus didžiulius, skirti būtent atliekų sistemos surinkimui\n",
            "answer:   1\n"
          ]
        },
        {
          "output_type": "stream",
          "name": "stderr",
          "text": [
            "\r 41%|████▏     | 59/143 [00:52<01:15,  1.12it/s]"
          ]
        },
        {
          "output_type": "stream",
          "name": "stdout",
          "text": [
            "paragraph:  taip, lanksčios darbo valandos, kad iš dekretinių grįžusios mamos galėtų persikvalifikuoti darbdavių lėšomis, kurios būtų subsidijuojamos valstybės po to, kad mamos, grįždamos į darbą ir neprarasdamos profesinių gebėjimų galėtų sulaukti pagalbos iš dirbančių senelių, kurie galėtų pasiimti dalį atostogų ir padėti prižiūrėti vaikus ir lygiai taip pat dar vienas labai svarbus dalykas yra tas, kad mes ketiname kiekvienam vaikui suteikti krepšelį, kurį tėvai galėtų panaudoti pagal savo norą: arba priešmokykliniam ugdymui, arba samdydami profesionalią auklę, dirbančią su verslo liudijimu.\n",
            "answer:   1\n"
          ]
        },
        {
          "output_type": "stream",
          "name": "stderr",
          "text": [
            "\r 42%|████▏     | 60/143 [00:53<01:10,  1.18it/s]"
          ]
        },
        {
          "output_type": "stream",
          "name": "stdout",
          "text": [
            "paragraph:  Jūsų problema yra selektyvios žmogaus teisės, tai vieni gali gyventi, kiti – ne, tai mes artėjame į trisdešimtus metus.\n",
            "answer:   1\n"
          ]
        },
        {
          "output_type": "stream",
          "name": "stderr",
          "text": [
            "\r 43%|████▎     | 61/143 [00:54<01:14,  1.10it/s]"
          ]
        },
        {
          "output_type": "stream",
          "name": "stdout",
          "text": [
            "paragraph:  Toliau dėl kogeneracinės elektrinės paminėtos, tai, iš tiesų, klausimas nėra toks labai teigiamas ir paprastas, nes, mūsų manymu, mes turėsime perteklinę infrastruktūrą ir šiandien investuoti, nesvarbu, kad gaunami Europos Sąjungos pinigai, į anrą nuo galo pagal efektyvumą, kalbant apie šiukšlių tvarkymą, tai mum kelia didelių klausimų, kokia sąskaita mes tai galime padaryti. Alternatyva visa tokia pasakyta yra, iš tikrųjų, žalioji energetika, jeig mes paimtume paskutinį dešimtmetį, pamatytume 85 procentais sumažėjusias Saulės elektros batrijų kainas, beveik 30 procentų sumažėjo vėjo jėgainių kaina, tai alternatyva, iš tiesų, yra – žalioji energetika, mažos elektrinės, na, mažos įmonės, generuojančios elektros energiją ir šilumą, tačiau yra vienas „bet“. Iš tiesų, įsileidimas į rinką šitų mažų jėgainių šiandien yra neįmanomas. \n",
            "answer:   1\n"
          ]
        },
        {
          "output_type": "stream",
          "name": "stderr",
          "text": [
            "\r 43%|████▎     | 62/143 [00:55<01:12,  1.12it/s]"
          ]
        },
        {
          "output_type": "stream",
          "name": "stdout",
          "text": [
            "paragraph:  Laba diena. Pirmas dalykas, kurį pasiūlyčiau, tai jaunimui, kuriančiam verslą eem, ir, eem, žmonėm pirmą kartą kuriantiem verslą atleisti nuo pelno mokesčio bent jau trim metams. Eem, dar vienasa dalykas, eem, kurį, eem, reikėtų padaryti, tai įkurti verslo inkubatorius rajonuose. Kur žmones paskatinti, padrąsinti įkurti smulkius verslus. Kur galėtų konsultuoti verslininkai patyrę, kur galėtų dirbti mokesčių inspekcijos darbuotojai, banko darbuotojai, suteikti pagalbą tiem žmonėm.\n",
            "answer:   1\n"
          ]
        },
        {
          "output_type": "stream",
          "name": "stderr",
          "text": [
            "\r 44%|████▍     | 63/143 [00:55<01:10,  1.14it/s]"
          ]
        },
        {
          "output_type": "stream",
          "name": "stdout",
          "text": [
            "paragraph:  Taip pat, vidutinis drbo užmokestis pasiekė jau prieškrizinį laikotarpį. Jeigu atlyginimai nebūtų buvę sumažinti, aš manau, šiandien mes kalbėtume visiškai apie kitokį dydį vidutinio darbo užmokesčio. Jaunimui irgi norėčiau suteikt žodį šiuo klausimu.\n",
            "answer:   1\n"
          ]
        },
        {
          "output_type": "stream",
          "name": "stderr",
          "text": [
            "\r 45%|████▍     | 64/143 [00:56<01:06,  1.19it/s]"
          ]
        },
        {
          "output_type": "stream",
          "name": "stdout",
          "text": [
            "paragraph:  Panašu, kad mums reikės ne tik su korupcija kovoti, bet ir už nacionalinį saugumą. Taip, mes esam už good guys ir prieš plachija parchy, tai čia net ir svarstyti nieko nereikia...\n",
            "answer:   1\n"
          ]
        },
        {
          "output_type": "stream",
          "name": "stderr",
          "text": [
            "\r 45%|████▌     | 65/143 [00:57<01:09,  1.12it/s]"
          ]
        },
        {
          "output_type": "stream",
          "name": "stdout",
          "text": [
            "paragraph:  Tai mes toliau tęsim neapmokestinamų pajamų dydžio didinimą, pirmiausia toms šeimoms, arba tiems asmenims, kurių darbo užmokestis siekia iki tūkstančio eurų, tai dėl to, kad sudaryt didesnes ir realias pajamas, kad skatintų vidaus vartojimą, taip pat taikysim neapmokestinamų pajamų dydį už kiekvieną vaiką didesnį, ir neatsižvelgiant į šeimos gaunamas pajamas, toliau diegsim išmaniąją mokesčių administravimo sistemą, kuri jau pasiteisino pusiau ją įdiegus ir pamatėm, kad ne kalbomis, bet realiais skaičias iš šešėlinės ekonomikos praeitais metais buvo paimta apie 480 milijonų eurų, jeigu litais paskaičiuot tai beveik vienas milijardas litų, o kadangi buvo mūsų Finansų ministrė paminėta, tai norėčiau, kad keletą žodžių tartų ir Finansų ministrė \n",
            "answer:   1\n"
          ]
        },
        {
          "output_type": "stream",
          "name": "stderr",
          "text": [
            "\r 46%|████▌     | 66/143 [00:58<01:06,  1.16it/s]"
          ]
        },
        {
          "output_type": "stream",
          "name": "stdout",
          "text": [
            "paragraph:  Todėl man gėda dėl Konservatorių ir Socialdemokratų, kad jie niekaip negali nuo BVP skirti dviejų procentų ir mulkina mūsų partnerius NATO. Šiandien yra tik 1,48 procento. Taip, 575 milijonai eurų. Kiek galima mulkinti? Tai yra mūsų pagrindinis saugumo garantas. \n",
            "answer:   1\n"
          ]
        },
        {
          "output_type": "stream",
          "name": "stderr",
          "text": [
            "\r 47%|████▋     | 67/143 [00:59<01:06,  1.14it/s]"
          ]
        },
        {
          "output_type": "stream",
          "name": "stdout",
          "text": [
            "paragraph:  kaip bebūtų keista, bet jų skaičius turėjo padidėt. Tai galiu pasakyt, pavyzdžiui pavyzdį, kaip Marijampolė. Taip? Į laisvą ekonominę zoną ateina Danijos kompanija, kuri investuoja 135 milijonus eurų. Pirmu etapu virš trisdešimties milijonų eurų, tai ir dar, ir įdarbins 1450 darbo vietų. Galėčiau kalbėt apie Akmenę. Jeigu kalbėt apie Šiaulių regioną, tai praeitais metais Šiaulių regionas tapo lyderiu, jeigu lygint su kitais regionais dėl ekonominio išsivystymo ir plėtros ir naujų darbo vietų steigimo. Tai mus tas labai nuteikia teigiamai. O diagramos, aš manau, nemeluoja, čia aiškiai matoma 2010-aisiais metais, ir aiškiai matoma 2015-aisiais metais, 2014-ais metais.\n",
            "answer:   1\n"
          ]
        },
        {
          "output_type": "stream",
          "name": "stderr",
          "text": [
            "\r 48%|████▊     | 68/143 [01:00<01:09,  1.08it/s]"
          ]
        },
        {
          "output_type": "stream",
          "name": "stdout",
          "text": [
            "paragraph:  Pradedant biudžeto, finansavimo kad išmokėti normalius, orius atlyginimus, materialinio, techninio aprūpinimo ir, aišku, gerų darbo sąlygų. Visa kita galime surganizuoti. Tačiau šiandieninė policija išgyvena, apart tų išvardintų poreikių išgyvena ir vidinį sukrėtimą. Kuomet, sakyčiau, nepamatuotai, nepasvertai, nepamatavus atliekama reorganizacija, kuri įnešė į policijos veiklą, sakyčiau, destrukciją. Detrukciją dėl motyvacijos ar kaip reikia dirbti, ar iš viso liko reikia dirbti, nes per pastaruosius du metus buvo atleista iš pareigų apie tūkstantis gyvų policininkų. Tai yra buvo prarastas žmogiškasis kapitalas, kuris buvo renkamas, komplektuojamas visą eilę metų. Antra, tai, kad buvo supriešinti policijos pareigūnai viduje. Dėl to, kad netolygiai pradėtas paskirstyti darbo užmokestis, duodant papildomas užduotis, leidžiančias dirbti viršvalandžius ir budėti namuose. Ir tai supriešino policininkus viduje ir jie tapo nepatenkinti\n",
            "answer:   1\n"
          ]
        },
        {
          "output_type": "stream",
          "name": "stderr",
          "text": [
            "\r 48%|████▊     | 69/143 [01:01<01:06,  1.11it/s]"
          ]
        },
        {
          "output_type": "stream",
          "name": "stdout",
          "text": [
            "paragraph:  Gerai, išgelbėsiu LRT nuo žiauraus signataro Rolando klausimo, bet labai teisingo klausimo. Jis klausė, iš kur paimt pinigų. Atsakau: reikia pradėti nuo tų, kurie nustatė šitą blogą tvarką. Reikia nukirpti Seimo dalį, reikia nukirpt jiem dalį algų, reikia sumažint visus jų priedus, kanceliarines išlaidas, teptukus, pieštukus, automobilius, benziną. Jeigu nurėšim politinei hidrai, taip vadinamam elitui, galvą, tai tada Lietuvoj bus tvarka\n",
            "answer:   1\n"
          ]
        },
        {
          "output_type": "stream",
          "name": "stderr",
          "text": [
            "\r 49%|████▉     | 70/143 [01:01<01:02,  1.17it/s]"
          ]
        },
        {
          "output_type": "stream",
          "name": "stdout",
          "text": [
            "paragraph:  Aš noriu, kad pakalbėtų Ieva Kačinskaitė, kuri ką tik grįžo iš Dublino ir Londono ir susitiko su ta bendruomene ir yra pasiruošus atsakyt į klausimus.\n",
            "answer:   1\n"
          ]
        },
        {
          "output_type": "stream",
          "name": "stderr",
          "text": [
            "\r 50%|████▉     | 71/143 [01:02<01:00,  1.18it/s]"
          ]
        },
        {
          "output_type": "stream",
          "name": "stdout",
          "text": [
            "paragraph:  Na, būdamas NATO delegacijos vadovu, tai, mieli kolegos, aš siūlyčiau paskaityti paskutinių dviejų metų mūsų protokolus, delegacijų, pirmininkavimo, apie ką kalba apie tuos 2 procentus ir apie Vorovo misijas, apie prisidėjimus, tai labai, iš tikrųjų, kainuoja. Ir per vienus metus jūs jo tikrai šiandien nepadarysit. Jūs pažiūrėkite valstybės galimybes ir kiek mes galim ištraukt. \n",
            "answer:   1\n"
          ]
        },
        {
          "output_type": "stream",
          "name": "stderr",
          "text": [
            "\r 50%|█████     | 72/143 [01:03<01:04,  1.11it/s]"
          ]
        },
        {
          "output_type": "stream",
          "name": "stdout",
          "text": [
            "paragraph:  Tai aš taip pat manyčiau, kad atsiskaitymai turėtų būt skaidrūs, turėtų atsiskaityt žmonės ir nedideles palygint sumas elektroniniu būdu, kitas dalykas, matot, popiežius Jonas Paulius antrasis sakė: „kur trūksta teisingumo, trūksta ir duonos“, bet manau, kad neteisingumas prasidėjo, politinė korupcija jau valstybės aušroje, kai būtų pradėta kilnoti žemė, kai atsirado įstatymai ne visiems, kai startas buvo ne vienodas, ir kur koncentruojasi pinigai, ten koncentruojasi valdžia, ir nusikaltėliai labai nesunkiai nueina į šešėlį, nes su antrankiais atveda, o paskui ovacijom išlydi, kartais ir lygtai nusikaltėliai, o čia pat pasirodo jau ne nusikaltėliai, jau kažką skolino ar ką nors ir, atrodo, labai mistiškais būdais įsiteisino, tai aš manyčiau, kad čia yra sisteminis dalykas, ir jau tai, vis tiktai, laimina aukščiausia valdžia. Nes kodėl tos institucijos iki šiol per ketvirtį šimtmečio nepradėjo daryti savo funkcijų, tai man klausimas.\n",
            "answer:   1\n"
          ]
        },
        {
          "output_type": "stream",
          "name": "stderr",
          "text": [
            "\r 51%|█████     | 73/143 [01:04<01:02,  1.12it/s]"
          ]
        },
        {
          "output_type": "stream",
          "name": "stdout",
          "text": [
            "paragraph:  Žinot, 90-aisiais metais aš, kaip Nepriklausomybės Akto signataras, kai skelbėme nepriklausomą valstybę, svajojau, būdamas jaunas žmogus, kada pagaliau atversime sienas, kada atsiras mūsų jauniems ir vyresniems žmonėms galimybė išvažiuoti, dirbti, užsidirbti ir studijuoti. Tai, pripažinkime, kad lietuviai yra drąsūs žmonės, kurie atrado nišas, atrado galimybes, jomis pasinaudojo, lieka vienas dalykas – ką daryti, kad jie grįžtų čia? Liberalai sako: vidutinio darbo užmokesčio didinimas iki tūkstančio eurų per mėnesį 2020-aisiais metais. Aptarėme anoje temoje ir visas priemones.\n",
            "answer:   1\n"
          ]
        },
        {
          "output_type": "stream",
          "name": "stderr",
          "text": [
            "\r 52%|█████▏    | 74/143 [01:05<01:00,  1.14it/s]"
          ]
        },
        {
          "output_type": "stream",
          "name": "stdout",
          "text": [
            "paragraph:  Replikuosiu kolegai , kuris yra valdžioje, apie neapmokestinamų pajamų dydį. Kodėl jis yra šiandiena tik du šimtai eurų? Jeigu jau padidinome tuos trisdešimčia eurų minimalią mėnesinę algą nuo trijų šimtų penkiasdešimt iki trijų šimtai aštuoniasdešimt, tai bent jau neapmokestinamų pajamų dydį reikėjo padidinti iki dviejų šimtų penkiasdešimt arba trijų šimtų eurų. Aš tai kaip ekonomistas sakau. O dabar gerbiamas Rudys pasisakys.\n",
            "answer:   1\n"
          ]
        },
        {
          "output_type": "stream",
          "name": "stderr",
          "text": [
            "\r 52%|█████▏    | 75/143 [01:06<00:58,  1.17it/s]"
          ]
        },
        {
          "output_type": "stream",
          "name": "stdout",
          "text": [
            "paragraph:  Pirmiausia tai reikia eem, bendrą politiką keisti, kad mažiausias pajamas gaunantys mūsų piliečiai, tokie, be abejo, jų regionuose yra daug, nes labai prastai apmokamos darbo vietos, neturi būt apmokestinamas minimalus atlyginimas, nes jau pačioj sąvokoj „minimalus atlyginimas“ yra, kad jau daugiau nėra iš jo ką ten beatskaičiuoti.\n",
            "answer:   1\n"
          ]
        },
        {
          "output_type": "stream",
          "name": "stderr",
          "text": [
            "\r 53%|█████▎    | 76/143 [01:07<00:56,  1.18it/s]"
          ]
        },
        {
          "output_type": "stream",
          "name": "stdout",
          "text": [
            "paragraph:  Gerai, tada aš vis dėlto pabaigsiu šitą mintį, PVM irgi susijęs su mokesčių surinkimu, aš apie asignavimo tą dalį. Tai yra, kelia didelių abejonių eem, didinimas gynybai. Niekam nekyla abejoių, kad reikia gynybą didinti, bet kelią abejonių jo efektyvumas. Ir kodėl aš per Vyriausybės valandą uždaviau klausimą Olekui, Ministrui, ir paklausiau: „padidinus gynybos išlaidas, kiek padidės mūsų galimybė gintis?“ \n",
            "answer:   1\n"
          ]
        },
        {
          "output_type": "stream",
          "name": "stderr",
          "text": [
            "\r 54%|█████▍    | 77/143 [01:07<00:53,  1.22it/s]"
          ]
        },
        {
          "output_type": "stream",
          "name": "stdout",
          "text": [
            "paragraph:  aš galiu dar pridurti, kad jeigu Lietuva nebus lietuviška, jos Nepriklausomybė neturės jokios prasmės. Reikia žinoti, kad praėjusiais metais iš Lietuvos emigravo net 45 000 žmonių. Tai yra rekordas.\n",
            "answer:   1\n"
          ]
        },
        {
          "output_type": "stream",
          "name": "stderr",
          "text": [
            "\r 55%|█████▍    | 78/143 [01:08<00:54,  1.20it/s]"
          ]
        },
        {
          "output_type": "stream",
          "name": "stdout",
          "text": [
            "paragraph:  Žiūrint į tai, kas darosi Lietuvoj ir girdint kolegų kalbas, aš suvesčiau jų pasaulio supratimą ir nacionalinio saugumo klausimą į tokią formulę: jie sako: „rusai puola – Amerika padės“. Vat ir viskas. Tai yra ant tiek supaprastintas pasaulio vaizdas. Reiškias, įsivaizduojat, kad yra kažkur good guys ir yra bad guys, ir jeigu mes gerai ginkluosimės, tai tie, kaip blogiečiai mus užpuls, tai geriečiai mum padės. Nes nepadės mum šiti bokseriai. Nepadės, nes yra visiškai kitos priežastys konflikto. O jūs apie tai net nekalbat.\n",
            "answer:   1\n"
          ]
        },
        {
          "output_type": "stream",
          "name": "stderr",
          "text": [
            "\r 55%|█████▌    | 79/143 [01:09<00:55,  1.16it/s]"
          ]
        },
        {
          "output_type": "stream",
          "name": "stdout",
          "text": [
            "paragraph:  Jeigu jau šnekam apie visuomenės saugumą, be abejo, policija, pirmiausia, turi jį užtikrint, o tam reikia pinigų. Kad mes matytume policininką gatvėj, einantį kažkur gatvėmis, kad mes matytume ekipažą važiuojantį, visam tam reikia lėšų. Ir vėl mes grįžtam prie pažadų korupcijos, kada visi siūlo viską didint, vis mokesčius mažint, tai tada ir kalbėkim: o kieno sąskaita visa tai bus? Ir čia verta būtų vėl prisimint vėl tas pačias penkias sesutes, kurios per savo dvidešimt penketą metų valdymo, išleido masę pinigų, pavyzdžiui, nupirkdami per didelį laivą šitą dujų, uždarydami Ignalinos elektrinę, pabrangindami elektrą, neleisdami vamzdį nutiest savo metu per Lietuvą ir panašiai. Yra išleista krūva pinigų, o mes šnekam, šnekam, žadam, žadam, žadam ir žadam. \n",
            "answer:   1\n"
          ]
        },
        {
          "output_type": "stream",
          "name": "stderr",
          "text": [
            "\r 56%|█████▌    | 80/143 [01:10<00:54,  1.15it/s]"
          ]
        },
        {
          "output_type": "stream",
          "name": "stdout",
          "text": [
            "paragraph:  iš tiesų, dabar reikėtų kaip ir konkuruoti, ten 400, 480, 450, kas daugiau. Mes tikrai daugiau nesakome ir neskleidžiam demagogijos šitoj vietoj. Ir paskutinis – viską visaip kelsite, bet niekas kol kas neminėjo, kad įsipareigojimai su naujai įsigaliojančiais įstatymais nuo septynioliktų metų naujai Vyriausybei jau yra 620 milijonų ant kaklo pakabinta suma tokia. Apie tai kalbėkime. Iš ko ką kelsime?\n",
            "answer:   1\n"
          ]
        },
        {
          "output_type": "stream",
          "name": "stderr",
          "text": [
            "\r 57%|█████▋    | 81/143 [01:11<00:55,  1.13it/s]"
          ]
        },
        {
          "output_type": "stream",
          "name": "stdout",
          "text": [
            "paragraph:  Verslas, kuris dabar agituoja už tokią emigraciją, ir tikisi laimėti išlaikydamas žemus atlyginimus, praktiškai apsirinka. Kodėl? Todėl, kad reikia žiūrėti truputį toliau negu artimiausia diena. O tai reiškia, kad, pirmas dalykas, imigrantų tik pirmą kartą rimčiau dirba, antras dalykas, jie sukuria savo aprūpinimo sistemas, reiškia mūsų mažmeninė prekyba iš jų atvykimo praloš, o ne laimės, toliau – augs mokesčiai, nes didės socialinės išlaidos išlaikyti eem, na, tarkim, dideles musulmoniškas šeimas, kur mes žinom, kad moterys nedirba, vaikai taip pat. Ir daugiau socialinių ir ekonominių problemų, nekalbant apie kriminalo išaugimą, kurios laukia, jeigu bus masiškai pradėta imigracija\n",
            "answer:   1\n"
          ]
        },
        {
          "output_type": "stream",
          "name": "stderr",
          "text": [
            "\r 57%|█████▋    | 82/143 [01:12<00:56,  1.08it/s]"
          ]
        },
        {
          "output_type": "stream",
          "name": "stdout",
          "text": [
            "paragraph:  Kalbėdami apie darbo vietas ir galimybes konkuruoti regionams ir augti, tai pirmiausia, aišku, kokybiški darbdaviai turėtų būti. Vilnius, teko miestui vadovaut daugelį metų, pažiūrėkime, šiandieną garsėja ir paneigia visas Eurostato prognozes, kad Vilniuje gyventojų skaičius mažės, bus panašiai, kaip ir, pavyzdžiui, kituose Lietuvos miestuose. Nieko panašaus. Vilnius šiandieną garsėja kaip vienas iš didžiausių paslaugų centrų Vidurio Rytų Europoje. Tą patirtį, be abejo, mes norime pritaikyti ne tik vilniuje, bet ir visoje Lietuvoje. Tą patį turėtų darryti Kaunas, Klaipėda, Šiauliai, Panevėžys, Marijampolė, Alytus ir kiti miestai. Pavyzdys – mūsų meras, „Lietuvos Laisvės“ sąjungos, dirbantis Širvintų savivaldybėje. Įsikūrė gamykla Pabradėje, kuri gamina medicininę tam tikrą įrangą, eksportuoja po visą pasaulį. Pasižiūrėkime – šiandieną jau statomi pirmieji daugiabučiai namai.\n",
            "answer:   1\n"
          ]
        },
        {
          "output_type": "stream",
          "name": "stderr",
          "text": [
            "\r 58%|█████▊    | 83/143 [01:13<00:54,  1.11it/s]"
          ]
        },
        {
          "output_type": "stream",
          "name": "stdout",
          "text": [
            "paragraph:  Ir jeigu kalbėt apie gimstamumo rodiklius, 2015-ais metais, lyginant tūkstančiui gyventojų, gimstamumas buvo 10,8, reiškia, vaikų, ir jeigu palyginsim su Latvija ir Estija, tai ir paanalizuosim, pavyzdžiui, nuo 10-ies iki 14-os metų amžiaus vaikus, tai Lietuvoj tokio amžiaus vaikų yra du kartus daugiau negu Latvijoj ir Estijoj. Bet ne apie tai. Aš šiandien dar norėčiau pasakyt tai, kad artimiausiu metu mes siūlom, kad už kiekvieną vaiką, jau yra ateinančiais metais numatyta, kad NPD, tai yra neapmokestinamasis pajamų dydis didėtų nuo 60-ies eurų iki 120 eurų, neatsižvelgiant į šeimos gaunamas pajamas kas mėnesį.\n",
            "answer:   1\n"
          ]
        },
        {
          "output_type": "stream",
          "name": "stderr",
          "text": [
            "\r 59%|█████▊    | 84/143 [01:14<00:50,  1.18it/s]"
          ]
        },
        {
          "output_type": "stream",
          "name": "stdout",
          "text": [
            "paragraph:  Lietuvos „Žaliųjų“ partija pasisako už profesionalią kariuomenę ir stiprų rezervą. Tai yra labai svarbus dalykas, kad būtų stiprus rezervas. Mes šitoj situacijoj, šitame laikotarpy, kai reikia kurti stiprų rezervą...\n",
            "answer:   1\n"
          ]
        },
        {
          "output_type": "stream",
          "name": "stderr",
          "text": [
            "\r 59%|█████▉    | 85/143 [01:14<00:46,  1.24it/s]"
          ]
        },
        {
          "output_type": "stream",
          "name": "stdout",
          "text": [
            "paragraph:  Ką jūs turit omenį progresinė mokesčių sistema? Progresinį mokesčio tarifą? Nesuprantu.\n",
            "answer:   1\n"
          ]
        },
        {
          "output_type": "stream",
          "name": "stderr",
          "text": [
            "\r 60%|██████    | 86/143 [01:15<00:44,  1.28it/s]"
          ]
        },
        {
          "output_type": "stream",
          "name": "stdout",
          "text": [
            "paragraph:  Gal tokia replika, čia kai kurie kandidatai, kalbėdami apie mokesčių surinkimą kitose savivaldybėse tiesiog gal nežino, kad Lietuvoje šiandien tiktai keturi miestai yra donorai: Vilnius, dvidešimt kartų mažesnis donoras Kaunas, Klaipėda ir Mažeikiai. \n",
            "answer:   1\n"
          ]
        },
        {
          "output_type": "stream",
          "name": "stderr",
          "text": [
            "\r 61%|██████    | 87/143 [01:16<00:42,  1.32it/s]"
          ]
        },
        {
          "output_type": "stream",
          "name": "stdout",
          "text": [
            "paragraph:  labai trumpai, penkios sekundės.\n",
            "answer:   1\n"
          ]
        },
        {
          "output_type": "stream",
          "name": "stderr",
          "text": [
            "\r 62%|██████▏   | 88/143 [01:16<00:40,  1.35it/s]"
          ]
        },
        {
          "output_type": "stream",
          "name": "stdout",
          "text": [
            "paragraph:  Bet  žadėjot.\n",
            "answer:   1\n"
          ]
        },
        {
          "output_type": "stream",
          "name": "stderr",
          "text": [
            "\r 62%|██████▏   | 89/143 [01:17<00:40,  1.32it/s]"
          ]
        },
        {
          "output_type": "stream",
          "name": "stdout",
          "text": [
            "paragraph:  Žinote, aš – ne pensininkas. Aš dar labai jaunas žmogus, man iki pensijos tolokai. Bet aš bandau įsivaizduot, kaip dabar žiūri šituos debatus dabartinis pensininkas. Ir galvoja – nu čia tai pasieks vaikinai proveržį. Kažkodėl per keturis metus nepasiekė, prieš pat kadencijos pabaigą šiek. Atsiprašau, vedėjau, ar jų darbas yra trukdyti man, ar...\n",
            "answer:   1\n"
          ]
        },
        {
          "output_type": "stream",
          "name": "stderr",
          "text": [
            "\r 63%|██████▎   | 90/143 [01:18<00:41,  1.27it/s]"
          ]
        },
        {
          "output_type": "stream",
          "name": "stdout",
          "text": [
            "paragraph:  Mes pažiūrėjome į šitą problemą dar ir iš kito kampo. Mes netradiciškai paklausėme tų žmonių, kurie grįžo į Lietuvą ir vėl emigravo iš Lietuvos. Antrą kartą: „kokios yra problemos“? Ir jie atsakė dvi pagrindines problemas. Tai yra mažas atlyginimas, mažos pajamos, darbo vietų nebuvimas. Ir trečią dalyką, kurį akcentavo, jis atsilieka, aišku, nuo tų, tai yra kokybę tų pačių šeimų gyvenimo. Tas pats vaikų išlaikymas, prieinamumas darželių ir kiti dalykai, kurie susiję su šeimos išlaikymu. Todėl „Darbo“ partija labai aiškiai pasisakė: pajamų didinimas yra mūsų prioritetas programoj.\n",
            "answer:   1\n"
          ]
        },
        {
          "output_type": "stream",
          "name": "stderr",
          "text": [
            "\r 64%|██████▎   | 91/143 [01:19<00:42,  1.22it/s]"
          ]
        },
        {
          "output_type": "stream",
          "name": "stdout",
          "text": [
            "paragraph:  Aš manau, dar dielė problema yra tų pajamų kilmė, nes kartais matosi, kad jų yra daugiau, negu jų yra deklaruojama. Kitas dalykas – nėra progresinių mokesčių, nėra turto mokesčių, tikrai tkių realiai surenkamų, taigi žmogus išsikasė ežerą ar išnuomavęs Nemuną, manyčiau, turėtų mokėt daugiau mokesčių. Eem, kita problema, manyčiau, kad eem, vis tiktai, mes neturim eem, tokios aukštesnės technologijos pramonės, kuri žmogaus darbas būtų našus. Aš ir pats žinau Suvalkijoj jaunas žmogus, baigęs pagrindinę mokyklą, va, pavyzdžiui, Kybartuose neseniai dirbo už aštuonis litus ir sako ekskavatorium kasti yra brangiau. Bet matot, aš manau, kad vis tiktai mes ne Afrika, kad būtume atsilikmo kaina, technologinio atsilikimo kaina būtume išnaudojami\n",
            "answer:   1\n"
          ]
        },
        {
          "output_type": "stream",
          "name": "stderr",
          "text": [
            "\r 64%|██████▍   | 92/143 [01:20<00:44,  1.14it/s]"
          ]
        },
        {
          "output_type": "stream",
          "name": "stdout",
          "text": [
            "paragraph:  Taip, mūsų siūlymai, yra „Lietuvs sąrašo“ siūlyme didelės nuolaidos didinti neapmokestinamąjį minimumą šeimom, auginančiom vaikus, kad, iš tikrųjų, pasiektų tris šimtus eurų žmogui šeimoje, kitas dalykas, labai aiškus, išmokos už vaiką, 50 eurų už vaiką tai turėtų būt mažiausiai, ir išmokos ne tik mažus vaikus auginant, bet iki 18 metų, mes turėtume siekt Vakarų standartų, kas dar labai svarbu? Labai svarbu užtikrint ikimokyklinį ugdymą. Šiandien yra apgailėtina padėtis, kai ne nacionalinės programos, valstybės finansuojamos ncionalinės programos, imtų ir per pora metų išspręstų, iš tikrųjų, ikimokyklinio ugdymo klausimus, galima tą padaryt šiais laikais. O savivaldybės kapstosi kaip papuolė. Tai yra, iš tikrųjų, keletas labai konkrečių sprendimų, kurie galėtų pagerint šeimų būklę. Dar vienas pasiūlymas būtų žvelgiant į Daniją: mes galim savo gyventojų pajamas nukreipt į nekilnojamojo turto obligacijų fondus, už kuriuos statytume namus ir nuomotume jaunom šeimom.\n",
            "answer:   1\n"
          ]
        },
        {
          "output_type": "stream",
          "name": "stderr",
          "text": [
            "\r 65%|██████▌   | 93/143 [01:21<00:42,  1.18it/s]"
          ]
        },
        {
          "output_type": "stream",
          "name": "stdout",
          "text": [
            "paragraph:  Už kiekvieną vaiką. Šiandien yra galiojantis 120-ies eurų. Tai leistų pajausti, iš tikrųjų, aiškią naudą už kiekvieną turimą vaiką, tiesiog daugiau pinigų liktų žmonių kišenėj.\n",
            "answer:   1\n"
          ]
        },
        {
          "output_type": "stream",
          "name": "stderr",
          "text": [
            "\r 66%|██████▌   | 94/143 [01:22<00:42,  1.15it/s]"
          ]
        },
        {
          "output_type": "stream",
          "name": "stdout",
          "text": [
            "paragraph:  Keletą sekundžių rimtai. Mes gyvenam šiandieną liberalizmo epochoj, kuri skatina individualizmą, atsiribojimą nuo visų, užsidarymą savyje, sėdėjimą prie kompo ir panašiai. Toks žmogus niekada laimingas nebus. Vakar tos penkios sesutės iš esmės yra liberalai. Kaip jie besivadintų. Švietimo  sistema šiandieną vaiką auklėja teisių aplinkoj, bet be pareigų. O paskui, išėjęs į gyvenimą, jisai neišmokęs pareigų, teisių nebeturi, pasidaro nelaimingas. Turi būt visuomenė, turi suprast savo tikslus ta tauta šiuo atveju, turi turėt savo valstybę, nes taip žmogus sutvertas ir niekaip kitaip nebus. Neveltui mūsų programoj sakoma, kad tauta, savo žemėj turinti valstybę, tik tokia tauta gali būt laiminga. Ir atskiri jos individai taip pat. O, deja, šiandieną mes savo valstybigumą tirpdome. Tirpdome. \n",
            "answer:   1\n"
          ]
        },
        {
          "output_type": "stream",
          "name": "stderr",
          "text": [
            "\r 66%|██████▋   | 95/143 [01:22<00:39,  1.20it/s]"
          ]
        },
        {
          "output_type": "stream",
          "name": "stdout",
          "text": [
            "paragraph:  Tai mokesčių sistema, pačios teisingumas, priklauso nuo to, kaip mes ją suprantam ir kaip teisingai paskirstom.\n",
            "answer:   1\n"
          ]
        },
        {
          "output_type": "stream",
          "name": "stderr",
          "text": [
            "\r 67%|██████▋   | 96/143 [01:23<00:39,  1.20it/s]"
          ]
        },
        {
          "output_type": "stream",
          "name": "stdout",
          "text": [
            "paragraph:  Iš esmės, mes tikrai turime kalbėti apie sisteminę pensijų reformą. Iiir, mes gi pasisakom, kad pensijų sistema būtų labai aiškiai ir pagal objektyvius kriterijus pagrįsta, būtų susiejama ir indeksuojama pagal specialią metodiką ir būtų, dirbantieji turėtų paskatas, na, trukdote Jūs kalbėdami.\n",
            "answer:   1\n"
          ]
        },
        {
          "output_type": "stream",
          "name": "stderr",
          "text": [
            "\r 68%|██████▊   | 97/143 [01:24<00:36,  1.27it/s]"
          ]
        },
        {
          "output_type": "stream",
          "name": "stdout",
          "text": [
            "paragraph:  Kredito pirmam būstui įsigyti, jaunomos šeimoms. \n",
            "answer:   1\n"
          ]
        },
        {
          "output_type": "stream",
          "name": "stderr",
          "text": [
            "\r 69%|██████▊   | 98/143 [01:25<00:34,  1.30it/s]"
          ]
        },
        {
          "output_type": "stream",
          "name": "stdout",
          "text": [
            "paragraph:  Konservatoriai įrodė populizmą, iš tikrųjų, didžiausiame lygyje, kai per savo sąskrydį bandė uždrausti alkoholio vartojimą ir visi pakampiais buvo, deja, neblaivūs. Taip rodė televizija. Jūs turbūt to nepaneigsite. Bet ne apie tai mes dabar kalbame. \n",
            "answer:   1\n"
          ]
        },
        {
          "output_type": "stream",
          "name": "stderr",
          "text": [
            "\r 69%|██████▉   | 99/143 [01:25<00:32,  1.34it/s]"
          ]
        },
        {
          "output_type": "stream",
          "name": "stdout",
          "text": [
            "paragraph:  Jūs mano laiką...Kitas kelias buvo...\n",
            "answer:   1\n"
          ]
        },
        {
          "output_type": "stream",
          "name": "stderr",
          "text": [
            "\r 70%|██████▉   | 100/143 [01:26<00:31,  1.37it/s]"
          ]
        },
        {
          "output_type": "stream",
          "name": "stdout",
          "text": [
            "paragraph:  Jūs neklaidinkit visuomenės.\n",
            "answer:   1\n"
          ]
        },
        {
          "output_type": "stream",
          "name": "stderr",
          "text": [
            "\r 71%|███████   | 101/143 [01:27<00:32,  1.30it/s]"
          ]
        },
        {
          "output_type": "stream",
          "name": "stdout",
          "text": [
            "paragraph:  Ne tas žodis, kokia didelė ir pajamų nelygybė yra pagrindinė emigracijos priežastis. Taip mano mūsų koalicija. Šitai emigracijos priežasčiai panaikinti mes siūlome vokišką modelį, kurio esmė yra tokia, kad kiekviena šeimos sudėtinė dalis, ar tai būtų tėvai, ar tai vaikai, ar seneliai, ar būtų vienišas žmogus, kad jisai gautų neapmokestinamų pajamų per mėnesį tiek, kiek skelbia Statistikos departamentas, reikalingą minimaliosiom išlaidom. Tai yra būstui, maistui, šiek tiek benzino, šiek tiek kultūros. Tai šitas punktas yra pagrindinis, mes to sieksim ir šiuo metu Statistikos departamento skelbiamas vidurkis vienam žmogui, tai reiškia ir mažam vaikui, ir seneliui, ir vaiko ir mamai ir tėčiui yra apie 470 eurų. \n",
            "answer:   1\n"
          ]
        },
        {
          "output_type": "stream",
          "name": "stderr",
          "text": [
            "\r 71%|███████▏  | 102/143 [01:28<00:32,  1.26it/s]"
          ]
        },
        {
          "output_type": "stream",
          "name": "stdout",
          "text": [
            "paragraph:  tačiau PVMas kaipo toksai nebūtinai atpigina ką nors vartotojui. Jisai palengvina sąlygas verslui ir tai yra irgi gerai. Tai leidžia modeliuot, koks verslas gali būt perspektyvus, tai mes modeliuojam, kad eem, varijuojant PVMu eem, protingai, mes galim plėtoti žalią ekonomiką ir žaliuosius verslus. Bet dar paskutinis dalykas, ką noriu pabrėžti, PVMas sudaro apie 50 procentų Lietuvos biudžeto. PVMas yra didžiausias grobstymo objektas. Čia siaučia mafija Baltijos Baltijos šalių mastu. Ir mūsų Specialiųjų tyrimų tarnyba, FNTT, čia labai smarkiai dirba ir čia reikia skirti daug daugiau dėmesio, ką mes ir darysime atėję į valdžią.\n",
            "answer:   1\n"
          ]
        },
        {
          "output_type": "stream",
          "name": "stderr",
          "text": [
            "\r 72%|███████▏  | 103/143 [01:29<00:30,  1.30it/s]"
          ]
        },
        {
          "output_type": "stream",
          "name": "stdout",
          "text": [
            "paragraph:  kada apygardos komisijos pirmininkas šiandien yra teisiamas už galimybę, kad keturis šimtus rinkėjų biuletenių suklastojo. Ir tai buvo atstovas Socialdemokratų\n",
            "answer:   1\n"
          ]
        },
        {
          "output_type": "stream",
          "name": "stderr",
          "text": [
            "\r 73%|███████▎  | 104/143 [01:29<00:31,  1.26it/s]"
          ]
        },
        {
          "output_type": "stream",
          "name": "stdout",
          "text": [
            "paragraph:  Dar vienas labai svarbus dalykas, tai iš tikrųjų, švietimo ir kitų paslaugų paketai regionuose. Žmonės turi jaust, kad regionuose jie yra reikalingi. Šiandien viena iš rimčiausių problemų, ir Lietuvos problemų, tai iš tikrųjų demografija. Kaip problema. Jeigu demografinės tendencijos nesikeis, politikai jų nekeis, tai bus didžiausia grėsmė Lietuvos tautos išlikimui. Mes matome, kad per dešimtį metų tendencijos nepakito. Dalis, kurie sugrįžo ruošiasi išvažiuot vėl, jie sako jie nemato Lietuvos perspektyvos. Taigi atvert Lietuvai perspektyvą yra pagrindinis politikų uždavinys šiandien.\n",
            "answer:   1\n"
          ]
        },
        {
          "output_type": "stream",
          "name": "stderr",
          "text": [
            "\r 73%|███████▎  | 105/143 [01:30<00:29,  1.27it/s]"
          ]
        },
        {
          "output_type": "stream",
          "name": "stdout",
          "text": [
            "paragraph:  Iš esmės, jeigu kalbam apie tai, kai grąžinti žmones į Lietuvą, viena iš sričių yra kaip sudaryt sąlygas  žmonėms grįžti į kaimus. Mūsų programoje tas vienas iš tikslų yra. Kaip mes tai galim padaryt? Tiesiog galime įdarbint išeiviją tiesioginėm sutartim, per turizmą.\n",
            "answer:   1\n"
          ]
        },
        {
          "output_type": "stream",
          "name": "stderr",
          "text": [
            "\r 74%|███████▍  | 106/143 [01:31<00:29,  1.26it/s]"
          ]
        },
        {
          "output_type": "stream",
          "name": "stdout",
          "text": [
            "paragraph:  Aš labai trumpai pasakysiu. Išties Saulius, kuriuos ir mes esame paminėję savo programoje. Esminis jo privalumas ir esminis dalykas, ką mes sakome, kad skurdžiausiai gyvenantiem žmonėm turi likti daugiau pinigų jų kišenėje. Dabartinis NPD stumdymas, iš tikrųjų, jisai nepadaro daug naudos. Keli eurai prie algos. Tai turi keistis esmingai. Ir aš prašyčiau galbūt, jeigu galėtų, Ingrida Šimonytė tada šiek tiek paplėtot mintį.\n",
            "answer:   1\n"
          ]
        },
        {
          "output_type": "stream",
          "name": "stderr",
          "text": [
            "\r 75%|███████▍  | 107/143 [01:32<00:28,  1.26it/s]"
          ]
        },
        {
          "output_type": "stream",
          "name": "stdout",
          "text": [
            "paragraph:  Tai visgi mes manome, kad šitos nužmogėjimo sistemos, kada studentas prilygintas krepšeliui, reikia atsisakyti, tiksliškai finansuoti tas vietas, kurios valstybei reikalingos, įvesti pereinamąjį balą, leisti universitetam studentus atsirinkti, nesvarbu, pokalbių ar egzaminų forma, ir tokiu būdu, iš tikrųjų, kelti išsilavinimo kokybę. Tada nereikės išvažiuoti. \n",
            "answer:   1\n"
          ]
        },
        {
          "output_type": "stream",
          "name": "stderr",
          "text": [
            "\r 76%|███████▌  | 108/143 [01:33<00:28,  1.23it/s]"
          ]
        },
        {
          "output_type": "stream",
          "name": "stdout",
          "text": [
            "paragraph:  Kitas dalykas, nelygybė pajamų tarp vadovaujančiųjų darbuotojų ir dirbančijų darbuotojų. Paimtume tokį pavyzdį, na, mano manymu, baisų pavyzdį, kaip tarkim valstybės sektorius ir medicinos apsauga. Jeigu gydytojas uždirba, na, tarkim, vidutinį mėnesinį atlyginimą, 700 eurų, tai ligoninės direktorius kartais uždirba dešimtkart daugiau, apie septynis tūkstančius eurų. Tai yra kosminė alga, už Prezidentės beveik didesnė. Tai suprantat, kodėl taip yra, taip neturi būt. Tai štai mūsų programoj yra, kad mes siūlysim sumažinti skirtumą tarp mažai uždirbančio ir vadovaujančio. Yra tas, turi būt ne daugiau kaip pora kartų\n",
            "answer:   1\n"
          ]
        },
        {
          "output_type": "stream",
          "name": "stderr",
          "text": [
            "\r 76%|███████▌  | 109/143 [01:33<00:27,  1.23it/s]"
          ]
        },
        {
          "output_type": "stream",
          "name": "stdout",
          "text": [
            "paragraph:  matot, trečdalis lietuvių beveik ten, o kaip su balsavimu? Mes turim tik vieną Seimo narį, atstovaujantį išeiviją, ir mano nuomone, nėra tinkamai reprezentuojami, atstovaujami, išeivijos interesai. Taip pat ir ūkiniai. Ir jie tarsi nupjauti nuo Lietuvos, kai kurie net pilietybę praradę. Tai mano nuomone, neteisinga, labai neteisinga.\n",
            "answer:   1\n"
          ]
        },
        {
          "output_type": "stream",
          "name": "stderr",
          "text": [
            "\r 77%|███████▋  | 110/143 [01:34<00:25,  1.27it/s]"
          ]
        },
        {
          "output_type": "stream",
          "name": "stdout",
          "text": [
            "paragraph:  Jis išsisukinėja. Už ar prieš?\n",
            "answer:   0\n"
          ]
        },
        {
          "output_type": "stream",
          "name": "stderr",
          "text": [
            "\r 78%|███████▊  | 111/143 [01:35<00:25,  1.25it/s]"
          ]
        },
        {
          "output_type": "stream",
          "name": "stdout",
          "text": [
            "paragraph:  Tūkstantis namų per metus, ką sako tvarkiečiai, yra visiškas juokas. Lietuvoje yra 40 000 daugiabučių, kuriem reikia renovacijos. Tai tokiais tempais, ir čia jūsų maksimumas, kuris užstrigo, tokiais tempais darant renovaciją per keturiasdešimt metų mes ir tai nepadarysim. Nebebus kam gyvent tuose namuose, ir tie namai nebestovės. Reikia... \n",
            "answer:   1\n"
          ]
        },
        {
          "output_type": "stream",
          "name": "stderr",
          "text": [
            "\r 78%|███████▊  | 112/143 [01:36<00:25,  1.20it/s]"
          ]
        },
        {
          "output_type": "stream",
          "name": "stdout",
          "text": [
            "paragraph:  Kolegos, kodėl jūs visą laiką pasakot dalykus, sakot po to: „nepaneigsit“? Tai aišku paneigsiu, nes tai netiesa. Esminis dalykas yra toks, kad kai ištinka didžiulė tragedija Lietuvoje, kur būna ar kirviai, ar šuliniai, ar kiti dalykai, politikai subėga ir sako: „dabar jau imsimės labai reikšmingų reformų“. Praeina metai, praeina dveji metai, mes pradedam kalbėt taip, na, užteks švietimo programų. Iki kito šulinio. Ir tada vėl reikia reformų. Mes kalbam nuosekliai. Mes turim, iš tikrųjų, priimti sprendimus. Ne visi, galbūt, bus populiarūs. Aš suprantu, kad galbūt  ne visiem žmonėm ne vienodai patiks griežtesnis priėjimas prie alkoholio. Bet, galų gale, turim tai padaryt, jeigu norim susitvarkyt su šita epidemija, kuri kamuoja Lietuvos miestus ir regionus.\n",
            "answer:   1\n"
          ]
        },
        {
          "output_type": "stream",
          "name": "stderr",
          "text": [
            "\r 79%|███████▉  | 113/143 [01:37<00:24,  1.24it/s]"
          ]
        },
        {
          "output_type": "stream",
          "name": "stdout",
          "text": [
            "paragraph:  Aš tikrai nepritarčiau kolegės mintims, kad reiktų kažkaip įsileisti baltarusiškus vaistus,  nes galbūt jie, iš tikrųjų, yra gerokai pigesni, bet mes esame Europos Sąjungoje ir jie turi būti akredituoti Europos Sąjungoje. \n",
            "answer:   1\n"
          ]
        },
        {
          "output_type": "stream",
          "name": "stderr",
          "text": [
            "\r 80%|███████▉  | 114/143 [01:37<00:22,  1.29it/s]"
          ]
        },
        {
          "output_type": "stream",
          "name": "stdout",
          "text": [
            "paragraph:  Jūs labai klystate, aš galiu pasakyt. \n",
            "answer:   1\n"
          ]
        },
        {
          "output_type": "stream",
          "name": "stderr",
          "text": [
            "\r 80%|████████  | 115/143 [01:38<00:21,  1.33it/s]"
          ]
        },
        {
          "output_type": "stream",
          "name": "stdout",
          "text": [
            "paragraph:  Šiek tiek apie šešėlinės ekonomikos rūšis. Yra tokios rūšys, pavyzdžiui, narkotikų prekyba,  prostitucija\n",
            "answer:   0\n"
          ]
        },
        {
          "output_type": "stream",
          "name": "stderr",
          "text": [
            "\r 81%|████████  | 116/143 [01:39<00:20,  1.30it/s]"
          ]
        },
        {
          "output_type": "stream",
          "name": "stdout",
          "text": [
            "paragraph:  Labai gera tema, labai atitinka mūsų programos visą eem, šeimos politiką, todėl, kad mes ir ateiname į šitą Seimą išsikristalizavę konkrečius pasiūlymus, būtent, skirtus šeimai. Pirmiausia, jaunom šeimom, įsikurti jaunam žmogui, parama būstui, ir ne tik šeimai, bet jaunam žmogui įsikurti ir skirti paramą procentaliai, turint vieną vaiką mažesnę akreditavimo valstybės remiama dalis, 20 procentų – turint du vaikus, tris vaikus – 30 procentų.\n",
            "answer:   1\n"
          ]
        },
        {
          "output_type": "stream",
          "name": "stderr",
          "text": [
            "\r 82%|████████▏ | 117/143 [01:40<00:19,  1.34it/s]"
          ]
        },
        {
          "output_type": "stream",
          "name": "stdout",
          "text": [
            "paragraph:  Jūs leiskit pasakyt! Ar galima pasakyt ar ne?\n",
            "answer:   1\n"
          ]
        },
        {
          "output_type": "stream",
          "name": "stderr",
          "text": [
            "\r 83%|████████▎ | 118/143 [01:40<00:18,  1.35it/s]"
          ]
        },
        {
          "output_type": "stream",
          "name": "stdout",
          "text": [
            "paragraph:  Lietuvai nereikia Liberalų sąjūdžio, jos lyderis Eligijus Masiulis paėmė šimto šešių tūkstančių eurų kyšį. Lietuvai nereikia Darbo partijos su jos juodąja buhalterija ir amžinais korupciniais skandalais. Lietuvai nereikia nei Konservatorių, nei Socdemų.\n",
            "answer:   1\n"
          ]
        },
        {
          "output_type": "stream",
          "name": "stderr",
          "text": [
            "\r 83%|████████▎ | 119/143 [01:41<00:19,  1.22it/s]"
          ]
        },
        {
          "output_type": "stream",
          "name": "stdout",
          "text": [
            "paragraph:  Aš, kadangi atstovauju antikorupcinei koalicijai ir mūsų pagrindinis tikslas yra kova su politine korupcija, tai, aam, atliepdamas į Jūsų užduotą temą, tai yra socialinė atskirtis, aš galiu pasakyti, kad žmones piktina ne tik tai, kad jie turi mažas pajamas, bet dar, kai jie mato tokius pavyzdžius auksinių šaukštų, tai dar labiau juos žeidžia ir dar labiau pabrėžia tą socialinės atskirties eem, dydį ir baisumą, todėl, kad tie, kurie prieina prie politinės korupcijos galimybių, jie lobsta, o, skurdo lygis Lietuvoj išaugo. Tai aš dar norėsiu paskui šiek tiek grįžti, mes kol kas vieninteliai išdrįsę paduoti į teismą Lietuvos Respublikos vyriausybę ir Premjerą Algirdą Butkevičių. Mano rankose – skundas, jis buvo prieš porą dienų įteiktas Vilniaus apygardos Administraciniam teismui. Eem, būtent dėl išaugusių kainų, eem, kurios irgi lemia tai, kad žmonės tą socialinę atskirtį, kiekvienas, savo piniginėj jaučia vis labiau. Jiem nebeužtenka galo su galu sudurti. Ir mes reikalausim atsakomybės, nes eina kalba apie asmeninę atsakomybę, tai štai, tas kelias, teisinis kelias, duodant į teismą\n",
            "answer:   1\n"
          ]
        },
        {
          "output_type": "stream",
          "name": "stderr",
          "text": [
            "\r 84%|████████▍ | 120/143 [01:42<00:19,  1.16it/s]"
          ]
        },
        {
          "output_type": "stream",
          "name": "stdout",
          "text": [
            "paragraph:  Iš esmės, jeigu paimti pavyzdžius, konkrečius pavyzdžius, Londone 80 procentų pajamų akumuliuoja būtent smulkusis verslas. Tai dėl to mes ir orientuojamės į smulkųjį verslą. O smulkusis verslas daugiausiai darbina žmonių. Todėl iš principo reikėtų riboti didžiųjų oligarchinių centrų kūrimąsi, tai turėtų būt tai konkrečiai, nes yra žalingi tam tikri dalykai, ir kitas ekonominis svertas tai turėtų būti peržiūrėta pridėtinės vertės surinkimo sistema, ta prasme, dalis pridėtinės vertės turėtų būti skirta būtent socialinio draudimo mokesčiui padengti tuose regionuose, kur jo trūksta, nesurenkama. O aam, smulkiam verslui kaip tik aam, eem, sumažinti pridėtinės vertės mokestį, ta sąskaita proporcija sudarant su būtent pridėtinės vertės mokesčiu. Priklauso nuo to, kiek pakiltų tas mokestis, tiek ir reikėtų sumažinti. \n",
            "answer:   1\n"
          ]
        },
        {
          "output_type": "stream",
          "name": "stderr",
          "text": [
            "\r 85%|████████▍ | 121/143 [01:43<00:17,  1.24it/s]"
          ]
        },
        {
          "output_type": "stream",
          "name": "stdout",
          "text": [
            "paragraph:  O kodėl Jūs, būdama Finansų ministre, neįgyvendinot?\n",
            "answer:   1\n"
          ]
        },
        {
          "output_type": "stream",
          "name": "stderr",
          "text": [
            "\r 85%|████████▌ | 122/143 [01:44<00:16,  1.28it/s]"
          ]
        },
        {
          "output_type": "stream",
          "name": "stdout",
          "text": [
            "paragraph:  Taip, tiesiog norėjau papildyti, kad, iš tiesų, reikia sudaryti sąlygas žmonėms dirbti regionuose. Tai ne vien tik miestai tuštėja, tokie regioniniai, vadinkime, bet ir, ypatingai, kaimai, ir ten yra galimybių, yra pasiūlymų, kaip tai galima gaivinti kaimą.\n",
            "answer:   1\n"
          ]
        },
        {
          "output_type": "stream",
          "name": "stderr",
          "text": [
            "\r 86%|████████▌ | 123/143 [01:45<00:17,  1.17it/s]"
          ]
        },
        {
          "output_type": "stream",
          "name": "stdout",
          "text": [
            "paragraph:  Labai noriu patikslinti dėl to, tai yra kalba apie šeimą ne tiktai santuoka, bet yra tėtis, mama, eem, ir vaikas, ir vienišos šeimos. Tai apie kitą dalyką aš noriu paminėti. Mes vėlgi viską suvedam į ekonominius dalykus. Tačiau yra ir skyrybos. Pusė porų susituokusių išsiskiria. Skyrybos, vadinasi šeimos ir gimdymo tikrai nebus. Ar mes suteikiam pagalbą šitoms šeimoms? Psichologinę, pirmiausiai, pagalbą, teisinę pagalbą, mediaciją? Nedarom to. Toliau – pagalba šeimoms, kurios auginą neįgalų vaiką. Praktiškai gimus neįgalų vaiką apie tolęsnį šeimos gausinimą šiandien kalbos negali būti. Nes tėvai paskęsta, iš tikrųjų, savo problemose, ir pagalbos rankos mes neištiesiame tokiu atveju. Tai irgi gausinti šioj vietoj šeimų nėra jokios galimybės. Toliau – smurto suvaldymas. Kokia situacija yra šeimose? Ką mato vaikai? Iš tiesų, irgi neprisideda prie mūsų gimstamumo didinimo. Nevaisingumo problema. Iš tiesų, mes kalbame ir norime kalbėti ir pasisakome pirmiausia apie prevenciją tam tikrą, kas tai lemia tokias pasekmes? Čia galbūt atskira tematika ir pagalba, iš tikrųjų, valstybės kompensuojama šitom šeimom susilaukti vaikų.\n",
            "answer:   1\n"
          ]
        },
        {
          "output_type": "stream",
          "name": "stderr",
          "text": [
            "\r 87%|████████▋ | 124/143 [01:45<00:15,  1.19it/s]"
          ]
        },
        {
          "output_type": "stream",
          "name": "stdout",
          "text": [
            "paragraph:  Mano įsitikinimu, reikia užtikrinti aukštą žinių lygio suteikimą mūsų absolventams aukštosiose mokyklose. Dabar gi mes užtikriname aukštųjų mokyklų dėstytojų pragyvenimą. Tai yra pasityčiojimas iš tų jaunų žmonių, kurie mato Vakarų universitetuose kitokias studijas, kitokį mokslą. Ir įgyja kitas žinias. O čia, kad iš jų tyčiotųsi ir užtikrintų tik dėstytojų darbo vietą, jiem to tikrai nereikia. \n",
            "answer:   1\n"
          ]
        },
        {
          "output_type": "stream",
          "name": "stderr",
          "text": [
            "\r 87%|████████▋ | 125/143 [01:46<00:14,  1.20it/s]"
          ]
        },
        {
          "output_type": "stream",
          "name": "stdout",
          "text": [
            "paragraph:  tai aš siūlau tikrai nusiramint kolegoms, kurie čia šneka, kaip šita Vyriausybė nieko nepadaro, atsimint, ką patys prisidirbot ir tada šnekėt labai aiškiai. O gerbiamai Šimonytei pasakysiu taip: kada Lietuvos Bankas pradės realiai kontroliuot tą antrą pakopą pensijų fondų ir kada galės duoti normalią grąžą, užtikrinti tenais, o tada galėsim šnekėt.\n",
            "answer:   1\n"
          ]
        },
        {
          "output_type": "stream",
          "name": "stderr",
          "text": [
            "\r 88%|████████▊ | 126/143 [01:47<00:14,  1.17it/s]"
          ]
        },
        {
          "output_type": "stream",
          "name": "stdout",
          "text": [
            "paragraph:  Tai ten tada, iš kur saulė bešviestų, to šešėlio nebus. Mūsų gi uždavinys – kad medžių būtų, bet nuo krentantis šešėlis būtų kuo mažesnis, reiškia, saulė turi būt aukštai ir šviest visiems vienodai. Ne iš kairės, ne iš dešinės, ne iš kitur. Tai mano galva, iš tikrųjų, vienas iš svarbiausių dalykų yra, pirmiausia, supaprastinus mokesčių mokėjimą, mažoms įmonėms, kuriose iki dešimt darbuotojų, iki 750 000 eurų apyvarta, iš viso pelno mokesčio neapsimoka skaičiuot. Nes pats suskaičiavimo, ta prasme, ir pridavimo Mokesčių inspekcjai mechanizmas kainuoja, aišku, brangiau kainuoja, negu mokesčių sumokama yra.\n",
            "answer:   1\n"
          ]
        },
        {
          "output_type": "stream",
          "name": "stderr",
          "text": [
            "\r 89%|████████▉ | 127/143 [01:48<00:13,  1.22it/s]"
          ]
        },
        {
          "output_type": "stream",
          "name": "stdout",
          "text": [
            "paragraph:  Darbo kodeksas, bet tai tebūnie, ta prasme, čia atsakys, atsakys tie, kurie ruošėsi diskutuot su visuomene. Dabar dėl populizmo ir britų ir lenkų. \n",
            "answer:   1\n"
          ]
        },
        {
          "output_type": "stream",
          "name": "stderr",
          "text": [
            "\r 90%|████████▉ | 128/143 [01:49<00:12,  1.25it/s]"
          ]
        },
        {
          "output_type": "stream",
          "name": "stdout",
          "text": [
            "paragraph:  Gerbiamasis, skaitykit dokumentus, ar man Jum aiškinti? Eikit ir paskaitykit popierius.\n",
            "answer:   1\n"
          ]
        },
        {
          "output_type": "stream",
          "name": "stderr",
          "text": [
            "\r 90%|█████████ | 129/143 [01:50<00:12,  1.14it/s]"
          ]
        },
        {
          "output_type": "stream",
          "name": "stdout",
          "text": [
            "paragraph:  Kad nebūtų vien tiktai tuščios kalbos, aš ir mano taip pat vadovaujamo sąrašo nariai patys nuėjom nusiėmėm verslo liudijimus, pradėjome dirbti „Uberio“ taksi vairuotojais, tvarkyti butus, prekiauti kava ir mes labai aiškiai matome, kur yra šiandien realios problemos, kodėl mūsų jaunimas arba pradedantieji verslininkai nenori imtis atakomybės ir pradėti verslą. Tai todėl mūsų programoj yra labai aiškios priemonės, atėjusios jau iš konkrečios praktikos ir po diskusijų su specialistais. Pradedančiajam verslui iki penkių tūkstančių eurų metinių pajamų – nulinis mokesčio tarifas. Antra, mokesčių inspektorius turėtų tapti tam tikra prasme smulkaus verslo buhalteriu, jeigu taip galima liaudiškai pasakyti. Taip, kaip, pavyzdžiui, Uberio“ taksi vairuotojas, kaip aš toks, iš karto suformuoja man, kiek aš gaunu pajamų, kiek nueina mokesčių inspekcijai, mokesčių inspekcija aiškiai man pasako, kiek aš turiu mokėti mokesčių. Kodėl tai veikia „Uberyje“? Tai galėtų veikti visam verslui, kuris savanoriškai deklaruoja banko sąskaitą, ten, sakykime, perveda savo pinigus, ir mokesčių inspekcija netgi gali, su jo sutikimu, nuskaityti mokesčius, kad jam būtų rami galva. \n",
            "answer:   1\n"
          ]
        },
        {
          "output_type": "stream",
          "name": "stderr",
          "text": [
            "\r 91%|█████████ | 130/143 [01:51<00:11,  1.16it/s]"
          ]
        },
        {
          "output_type": "stream",
          "name": "stdout",
          "text": [
            "paragraph:  Tai ne aš vienas čia toks, yra mūsų ir daugiau su keturiais vaikais. Bet tai kitas punktas yra, mes kalbame apie pirmojo būsto programą. Aš žinau, kad irgi nemažai partijų apie tai kalba. Bet mūsų yra labai konkreti ir mes remiamės būtent Airišku modeliu. Tai reiškia, kad šeima, pirkdama pirmąjį būstą, jai yra garantuojama, kad jos įnašas į banką būtų ne didesnis negu 10 procentų jos reiškia 10 procentų kainos būsto. Tokius būdu valstybį prisiima tiktai riziką, galimą riziką, bet šeima turi būti moki, turi turėti darbą, taip toliau. Reiškia, mes paskatinsim šeimas įsigyti būstus. \n",
            "answer:   1\n"
          ]
        },
        {
          "output_type": "stream",
          "name": "stderr",
          "text": [
            "\r 92%|█████████▏| 131/143 [01:51<00:10,  1.17it/s]"
          ]
        },
        {
          "output_type": "stream",
          "name": "stdout",
          "text": [
            "paragraph:  Trečias yra dalykas – žaliavų užtikrinimas rajone esančiom įmonėm pagal prioritetą taip sukuriant darbo vietas. Trečias yra dalykas – socialinis mokestis, ką kolega Artūras sakė, tai kiekviena įmonė Europoje ir Vakarų pasaulyje moka tam tikrą dalį kaip atsakomybę, kad sukurti darbo vietą, kaip atsakomybę investuoti ir kad vietoje esantys žmonės užsiimtų kažkuo tai ir kažkokia tam tikra veikla. Ir penktas yra vienas iš svarbiausių dalykų tai yra esamų pinigų, esamų fondų panaudojimas, kad pinigai būtų nepravalgomi, o vystoma infrastuktūra ir investicijos daromos.\n",
            "answer:   1\n"
          ]
        },
        {
          "output_type": "stream",
          "name": "stderr",
          "text": [
            "\r 92%|█████████▏| 132/143 [01:52<00:09,  1.20it/s]"
          ]
        },
        {
          "output_type": "stream",
          "name": "stdout",
          "text": [
            "paragraph:  mes, bent reikalaujame, kad šitas dydis būtų pasiektas iki 35-ių. Priminsiu, Europos Sąjungos vidurkis yra 40. Tai reiškia, mes vis tiek būtumėm gerokai atsilikę. O priemonės, tai aišku, sumažinti darbo apmokestinimą, racionaliau naudoti pridėtinės vertės kaip instrumeną ir labai apmokestinti kapitalą\n",
            "answer:   1\n"
          ]
        },
        {
          "output_type": "stream",
          "name": "stderr",
          "text": [
            "\r 93%|█████████▎| 133/143 [01:53<00:07,  1.26it/s]"
          ]
        },
        {
          "output_type": "stream",
          "name": "stdout",
          "text": [
            "paragraph:  Nekalbėkim selektyviai, niekada mes nepasisakėme už gėjų santuokų įteisinimą, kalbam apie partnerystę.\n",
            "answer:   1\n"
          ]
        },
        {
          "output_type": "stream",
          "name": "stderr",
          "text": [
            "\r 94%|█████████▎| 134/143 [01:54<00:07,  1.24it/s]"
          ]
        },
        {
          "output_type": "stream",
          "name": "stdout",
          "text": [
            "paragraph:  Tai pirmiausia mes, kaip toj dainoj, kviečiam: „sugrįžk“, o nieko nesiūlom žmonėms, kad jie čia sugrįžtų ir jie čia sugrįžę nusivilia ir išvyksta. Tai pirmiausia reikia pasiūlyt konkretų paketą, kas tavęs laukia kai tu sugrįši. Visiškai nesutinku, kad reikia mokėti grįžtantiem išmokas, todėl, kad iš pradžių reikia išvykti, kad paskui gautum išmoką sugrįžęs. Tai mes turim kitokių pasiūlymų ir apie tai – Nalšios kandidatas Zbignev Jedinskij.\n",
            "answer:   1\n"
          ]
        },
        {
          "output_type": "stream",
          "name": "stderr",
          "text": [
            "\r 94%|█████████▍| 135/143 [01:55<00:06,  1.22it/s]"
          ]
        },
        {
          "output_type": "stream",
          "name": "stdout",
          "text": [
            "paragraph:  Labas vakaras. Mūsų iniciatyva buvo įkurtas Visuomenės sveikatos fondas, ir dėkinga esu Seimo nariams, kurie visi taip palaikė ir dabar jau šiais metais yra virš milijono eurų, tai yra visuomenės švietimui, įvairioms programoms. Be abejonės, alkoholio kontrolės įstatymas yra, turbūt, dažniausiai keičiamas ir Seimas labai dažnai įveliamas į įvairias konkurencines kovas. To neturėtų būti. Vyriausybei yra duotas pavedimas, kad būtų pateiktos kompleksinės priemonės visiems verslo subjektams, visiems lygios sąlygos dėl alkoholio užkardymo ir jo pardavimo ribojimo. Neturi būti, eeem, kaip išsireiškė Konkurencijos taryba, eem, kad vieni subjekai turi vienokias sąlygas, kiti – kitokias.\n",
            "answer:   1\n"
          ]
        },
        {
          "output_type": "stream",
          "name": "stderr",
          "text": [
            "\r 95%|█████████▌| 136/143 [01:55<00:05,  1.28it/s]"
          ]
        },
        {
          "output_type": "stream",
          "name": "stdout",
          "text": [
            "paragraph:  Ir palūkanas reikėtų primint, kada skolinasi.\n",
            "answer:   1\n"
          ]
        },
        {
          "output_type": "stream",
          "name": "stderr",
          "text": [
            "\r 96%|█████████▌| 137/143 [01:56<00:04,  1.31it/s]"
          ]
        },
        {
          "output_type": "stream",
          "name": "stdout",
          "text": [
            "paragraph:  Taip, iš tikrųjų irgi, nuskamba neblogų minčių, norėčiau taip pat priminti gerbiamiesiem, keturi metai, atleiskit, ketvirti turbūt debatai, tai primenu – jūsų valdžia, galėjot padaryt. \n",
            "answer:   1\n"
          ]
        },
        {
          "output_type": "stream",
          "name": "stderr",
          "text": [
            "\r 97%|█████████▋| 138/143 [01:57<00:04,  1.20it/s]"
          ]
        },
        {
          "output_type": "stream",
          "name": "stdout",
          "text": [
            "paragraph:  Gyventojų skaičiau mažėjimo yra dvi problemos: gimstamumas ir emigracija. Aš suprantu, mes dabar kalbam apie gimstamumą, dėl to aš neliečiu emigracijos problemų. Ir dar sykį akcentuoju: tai, kad 1960-ųjų metų, maždaug tuo metu pradėjo mažėt gimstamumas, tai rodo, kad tai yra civilizacinės problemos. Ir ką mes matom pasaulyje? Kuo turtingiau gyvena visuomenė, tuo jinai gimdo mažiau vaikų. Nes tas a pradeda dominuot virš to mes, norisi pramogų. Taip, deja, tai yra dėsnis. Kadangi socialinė apsauga žmogui atskiram yra garantuojama iš valstybės. Ir kai tik ta socialinė apsauga susilpnėja, tada pradeda gimdyt vaikus. Aš tuo noriu pasakyt, kad problema yra gerokai gilesnė negu tik tai, apie ką jūs šnekat. Ir ją išspręst galima tik vaiko vadinamais pinigais, ką daro visos pasaulio valstybės. Reikia remt visokeriopai šitą procesą ir kada mes šnekam apie vaiko pinigus, mes ką sakom? Mažiau tankų, o daugiau vaikų. Nes reikia pasakyt, iš kur tuos pinigus paimsim.\n",
            "answer:   1\n"
          ]
        },
        {
          "output_type": "stream",
          "name": "stderr",
          "text": [
            "\r 97%|█████████▋| 139/143 [01:58<00:03,  1.26it/s]"
          ]
        },
        {
          "output_type": "stream",
          "name": "stdout",
          "text": [
            "paragraph:  Mes ne tik pasisakom už PVM mažinimą maisto produktams ir pirmojo būtinumo prekėms, bet tas projektas yra jau pristatytas Seime, po pateikimo jam yra pritarta. Tiek.\n",
            "answer:   0\n"
          ]
        },
        {
          "output_type": "stream",
          "name": "stderr",
          "text": [
            "\r 98%|█████████▊| 140/143 [01:58<00:02,  1.31it/s]"
          ]
        },
        {
          "output_type": "stream",
          "name": "stdout",
          "text": [
            "paragraph:  Bijo! Bijo! Viena blogiausių ministrių.\n",
            "answer:   1\n"
          ]
        },
        {
          "output_type": "stream",
          "name": "stderr",
          "text": [
            "\r 99%|█████████▊| 141/143 [01:59<00:01,  1.34it/s]"
          ]
        },
        {
          "output_type": "stream",
          "name": "stdout",
          "text": [
            "paragraph:  O Gabrielius Landsbergis jau Jūsų 120 paėmė kaip atskaitos tašką ir padidino dar dvigubai.\n",
            "answer:   1\n"
          ]
        },
        {
          "output_type": "stream",
          "name": "stderr",
          "text": [
            "\r 99%|█████████▉| 142/143 [02:00<00:00,  1.35it/s]"
          ]
        },
        {
          "output_type": "stream",
          "name": "stdout",
          "text": [
            "paragraph:  Prie Jūsų padidėjo keturiais procentais \n",
            "answer:   1\n"
          ]
        },
        {
          "output_type": "stream",
          "name": "stderr",
          "text": [
            "100%|██████████| 143/143 [02:01<00:00,  1.18it/s]"
          ]
        },
        {
          "output_type": "stream",
          "name": "stdout",
          "text": [
            "paragraph:  Daugybė žmonių eilinių moka patį didžiausią pajamų mokestį, o daugybė kandidatuojančių milijonierių moka tris procentus, o vienas net ir nol tris procento. Tai aš grįžtu prie mūsų siūlymo, Vokietijos sistemoje tokių dalykų nėra, nes ten suskaičiuojamos absoliučiai visos pajamos, gautos iš darbo, iš miško, iš žemės ūkio, iš kitos veiklos, iš nuomos, iš butų nuomos, iš automobilių nuomos, viskas sudedama ir nuo to skaičiuojami mokesčiai. Lietuvoj gi daugybė privilegijuotų grupių. Tai mūsų koalica šitas privilegijuotas grupes ir privilegijuotas pensijas mažins, o didins mažiausias algas ir mažiausias pensijas\n",
            "answer:   1\n"
          ]
        },
        {
          "output_type": "stream",
          "name": "stderr",
          "text": [
            "\n"
          ]
        }
      ]
    },
    {
      "cell_type": "code",
      "execution_count": null,
      "metadata": {
        "id": "6wqNCvoQy-3-"
      },
      "outputs": [],
      "source": [
        "from sklearn.metrics import accuracy_score, precision_score, recall_score, f1_score\n",
        "\n",
        "def evaluate(y_true, y_pred):\n",
        "    # Filter out undetermined predictions\n",
        "    mask = [y != -1 for y in y_pred]\n",
        "    filtered_y_true = [y_true[i] for i in range(len(y_true)) if mask[i]]\n",
        "    filtered_y_pred = [y_pred[i] for i in range(len(y_pred)) if mask[i]]\n",
        "\n",
        "    accuracy = accuracy_score(filtered_y_true, filtered_y_pred)\n",
        "    precision = precision_score(filtered_y_true, filtered_y_pred, pos_label=1)\n",
        "    recall = recall_score(filtered_y_true, filtered_y_pred, pos_label=1)\n",
        "    f1 = f1_score(filtered_y_true, filtered_y_pred, pos_label=1)\n",
        "\n",
        "    print(f\"Accuracy: {accuracy}\")\n",
        "    print(f\"Precision: {precision}\")\n",
        "    print(f\"Recall: {recall}\")\n",
        "    print(f\"F1 Score: {f1}\")"
      ]
    },
    {
      "cell_type": "code",
      "execution_count": null,
      "metadata": {
        "colab": {
          "base_uri": "https://localhost:8080/"
        },
        "id": "bY-i3debyl1c",
        "outputId": "f9f41f0e-115a-4837-d87f-60cb4f35ca8a"
      },
      "outputs": [
        {
          "output_type": "stream",
          "name": "stdout",
          "text": [
            "Accuracy: 0.2727272727272727\n",
            "Precision: 0.2642857142857143\n",
            "Recall: 0.9736842105263158\n",
            "F1 Score: 0.4157303370786517\n"
          ]
        }
      ],
      "source": [
        "evaluate(y_true, y_pred)"
      ]
    },
    {
      "cell_type": "markdown",
      "source": [
        "# Eksperimentas 2"
      ],
      "metadata": {
        "id": "pGkqkeoOj6tm"
      }
    },
    {
      "cell_type": "code",
      "execution_count": null,
      "metadata": {
        "id": "YDD6KCuZOX2X"
      },
      "outputs": [],
      "source": [
        "id2label = {0: \"NFTA\", 1: \"FTA\"}\n",
        "label2id = {\"NFTA\": 0, \"FTA\": 1}"
      ]
    },
    {
      "cell_type": "code",
      "source": [
        "from transformers import AutoModelForSequenceClassification, AutoTokenizer, TrainingArguments, Trainer\n",
        "\n",
        "model2 = AutoModelForSequenceClassification.from_pretrained(\n",
        "    \"bert-base-multilingual-uncased\", num_labels=2, id2label=id2label, label2id=label2id)\n",
        "\n",
        "tokenizer = AutoTokenizer.from_pretrained(\"bert-base-multilingual-uncased\")"
      ],
      "metadata": {
        "colab": {
          "base_uri": "https://localhost:8080/"
        },
        "id": "1R-rWh3AvQB4",
        "outputId": "68f9176e-6740-4c78-cf6a-6a6b5d98b712"
      },
      "execution_count": null,
      "outputs": [
        {
          "output_type": "stream",
          "name": "stderr",
          "text": [
            "Some weights of BertForSequenceClassification were not initialized from the model checkpoint at bert-base-multilingual-uncased and are newly initialized: ['classifier.bias', 'classifier.weight']\n",
            "You should probably TRAIN this model on a down-stream task to be able to use it for predictions and inference.\n",
            "/usr/local/lib/python3.10/dist-packages/transformers/tokenization_utils_base.py:1601: FutureWarning: `clean_up_tokenization_spaces` was not set. It will be set to `True` by default. This behavior will be depracted in transformers v4.45, and will be then set to `False` by default. For more details check this issue: https://github.com/huggingface/transformers/issues/31884\n",
            "  warnings.warn(\n"
          ]
        }
      ]
    },
    {
      "cell_type": "code",
      "execution_count": null,
      "metadata": {
        "id": "jzBRTp18M2N5",
        "colab": {
          "base_uri": "https://localhost:8080/",
          "height": 81,
          "referenced_widgets": [
            "d4516222821e41679af5f6bba2ced5c1",
            "cd5ff681dd244dbc89245956f38d021d",
            "3ef13749646b4a768180d5b490069708",
            "863a3cfb3bd9468c867db5a255744c9a",
            "4cd744b1710b47f187a7e19bcaac53bf",
            "8b9097ca8fbc4e8092a9b1b8da4983ac",
            "19ace1eed34748debfb7151272fc7e0b",
            "acde0481964f4e4c9bc2af66537c6c65",
            "6912f528c891402daf83ee6bffd801b4",
            "23261cb5a9bc41dd9c7898217da0650b",
            "28e166ac810245a6bb81ee6b63f04434",
            "0bc2762b7e7541318a7da1a8d2b64e90",
            "426b95dadc28472fbfafad53b7c880fa",
            "d57b1e0865654e8e964ec98b8ed19db2",
            "43f7ab37440d489a92f260a9f21ae7fe",
            "8fda4ca6917946e2bcef51b87b12af12",
            "2193a9d4b31e412aac4229a5756ffc2c",
            "1705c26ab74e49d68be32ef199e76152",
            "ff9cb099eece41e5a85e56edc1cbaabe",
            "3bc3431c787c4147ae1e9acf0007ec86",
            "35e572904cae49f487ac751e63efddfa",
            "4239d61588064a2a930a3175f9465a2c"
          ]
        },
        "outputId": "5d5877ff-8a02-4b39-b9bd-3ae7131570d3"
      },
      "outputs": [
        {
          "output_type": "display_data",
          "data": {
            "text/plain": [
              "Map:   0%|          | 0/497 [00:00<?, ? examples/s]"
            ],
            "application/vnd.jupyter.widget-view+json": {
              "version_major": 2,
              "version_minor": 0,
              "model_id": "d4516222821e41679af5f6bba2ced5c1"
            }
          },
          "metadata": {}
        },
        {
          "output_type": "display_data",
          "data": {
            "text/plain": [
              "Map:   0%|          | 0/71 [00:00<?, ? examples/s]"
            ],
            "application/vnd.jupyter.widget-view+json": {
              "version_major": 2,
              "version_minor": 0,
              "model_id": "0bc2762b7e7541318a7da1a8d2b64e90"
            }
          },
          "metadata": {}
        }
      ],
      "source": [
        "from datasets import Dataset\n",
        "\n",
        "train2 = train.rename(columns={\"fta\": \"label\"})\n",
        "val2 = val.rename(columns={\"fta\": \"label\"})\n",
        "test2 = test.rename(columns={\"fta\": \"label\"})\n",
        "\n",
        "train_dataset = Dataset.from_pandas(train2)\n",
        "val_dataset = Dataset.from_pandas(val2)\n",
        "test_dataset = Dataset.from_pandas(test2)\n",
        "\n",
        "def preprocess_function(row):\n",
        "    return tokenizer(row[\"paragraph\"])\n",
        "\n",
        "tokenized_train_data = train_dataset.map(preprocess_function, batched=True)\n",
        "tokenized_val_data = val_dataset.map(preprocess_function, batched=True)"
      ]
    },
    {
      "cell_type": "code",
      "execution_count": null,
      "metadata": {
        "id": "1vSL368nNsbE"
      },
      "outputs": [],
      "source": [
        "from transformers import DataCollatorWithPadding\n",
        "\n",
        "data_collator = DataCollatorWithPadding(tokenizer=tokenizer)"
      ]
    },
    {
      "cell_type": "code",
      "source": [
        "pip install evaluate"
      ],
      "metadata": {
        "id": "Tu0wZtQpezjW"
      },
      "execution_count": null,
      "outputs": []
    },
    {
      "cell_type": "code",
      "execution_count": null,
      "metadata": {
        "id": "WnQRmdpGNvgS"
      },
      "outputs": [],
      "source": [
        "import evaluate\n",
        "import numpy as np\n",
        "from sklearn.metrics import precision_recall_fscore_support\n",
        "\n",
        "accuracy = evaluate.load(\"accuracy\")\n",
        "\n",
        "def compute_metrics(eval_pred):\n",
        "    predictions, labels = eval_pred\n",
        "    predictions = np.argmax(predictions, axis=1)\n",
        "\n",
        "    # Compute precision, recall, F1, and support\n",
        "    precision, recall, f1, _ = precision_recall_fscore_support(labels, predictions, average='binary')\n",
        "\n",
        "    accuracy_metric = accuracy.compute(predictions=predictions, references=labels)\n",
        "    return {\n",
        "        'accuracy': accuracy_metric['accuracy'],\n",
        "        'precision': precision,\n",
        "        'recall': recall,\n",
        "        'f1': f1\n",
        "    }\n"
      ]
    },
    {
      "cell_type": "code",
      "execution_count": null,
      "metadata": {
        "id": "sR15kqy9OGJj"
      },
      "outputs": [],
      "source": [
        "import os\n",
        "os.environ[\"WANDB_MODE\"] = \"disabled\"\n",
        "\n",
        "training_args = TrainingArguments(\n",
        "    output_dir=\"my_awesome_model2\",\n",
        "    learning_rate=2e-5,\n",
        "    per_device_train_batch_size=16,\n",
        "    per_device_eval_batch_size=16,\n",
        "    num_train_epochs=25,\n",
        "    weight_decay=0.01,\n",
        "    eval_strategy=\"epoch\",\n",
        "    save_strategy=\"epoch\",\n",
        "    load_best_model_at_end=True,\n",
        "    report_to=None,\n",
        ")\n",
        "\n",
        "trainer = Trainer(\n",
        "    model=model2,\n",
        "    args=training_args,\n",
        "    train_dataset=tokenized_train_data,\n",
        "    eval_dataset=tokenized_val_data,\n",
        "    tokenizer=tokenizer,\n",
        "    data_collator=data_collator,\n",
        "    compute_metrics=compute_metrics,\n",
        ")"
      ]
    },
    {
      "cell_type": "code",
      "source": [
        "trainer.train()"
      ],
      "metadata": {
        "colab": {
          "base_uri": "https://localhost:8080/",
          "height": 172
        },
        "id": "gXcMddEl-w8K",
        "outputId": "ff1c652b-e74b-4c2c-b1e6-f4367697feb8"
      },
      "execution_count": null,
      "outputs": [
        {
          "output_type": "display_data",
          "data": {
            "text/plain": [
              "<IPython.core.display.HTML object>"
            ],
            "text/html": [
              "\n",
              "    <div>\n",
              "      \n",
              "      <progress value='64' max='64' style='width:300px; height:20px; vertical-align: middle;'></progress>\n",
              "      [64/64 03:27, Epoch 2/2]\n",
              "    </div>\n",
              "    <table border=\"1\" class=\"dataframe\">\n",
              "  <thead>\n",
              " <tr style=\"text-align: left;\">\n",
              "      <th>Epoch</th>\n",
              "      <th>Training Loss</th>\n",
              "      <th>Validation Loss</th>\n",
              "      <th>Accuracy</th>\n",
              "      <th>Precision</th>\n",
              "      <th>Recall</th>\n",
              "      <th>F1</th>\n",
              "    </tr>\n",
              "  </thead>\n",
              "  <tbody>\n",
              "    <tr>\n",
              "      <td>1</td>\n",
              "      <td>No log</td>\n",
              "      <td>0.569049</td>\n",
              "      <td>0.774648</td>\n",
              "      <td>0.750000</td>\n",
              "      <td>0.166667</td>\n",
              "      <td>0.272727</td>\n",
              "    </tr>\n",
              "    <tr>\n",
              "      <td>2</td>\n",
              "      <td>No log</td>\n",
              "      <td>0.582937</td>\n",
              "      <td>0.760563</td>\n",
              "      <td>0.571429</td>\n",
              "      <td>0.222222</td>\n",
              "      <td>0.320000</td>\n",
              "    </tr>\n",
              "  </tbody>\n",
              "</table><p>"
            ]
          },
          "metadata": {}
        },
        {
          "output_type": "execute_result",
          "data": {
            "text/plain": [
              "TrainOutput(global_step=64, training_loss=0.32425978779792786, metrics={'train_runtime': 208.3422, 'train_samples_per_second': 4.771, 'train_steps_per_second': 0.307, 'total_flos': 150724606951560.0, 'train_loss': 0.32425978779792786, 'epoch': 2.0})"
            ]
          },
          "metadata": {},
          "execution_count": 41
        }
      ]
    },
    {
      "cell_type": "code",
      "source": [
        "trainer.save_model(\"my_awesome_model2\")"
      ],
      "metadata": {
        "id": "eDpMurXxHyFO"
      },
      "execution_count": null,
      "outputs": []
    },
    {
      "cell_type": "code",
      "source": [
        "eval_results = trainer.evaluate(tokenized_val_data)\n",
        "print(\"Evaluation results:\", eval_results)\n",
        "\n",
        "train_results = trainer.evaluate(tokenized_train_data)\n",
        "print(\"Train results:\", train_results)"
      ],
      "metadata": {
        "colab": {
          "base_uri": "https://localhost:8080/",
          "height": 92
        },
        "id": "vTfuPxS7Jf0T",
        "outputId": "6a264684-3c6c-4099-e9e1-3e2aa2127de2"
      },
      "execution_count": null,
      "outputs": [
        {
          "output_type": "display_data",
          "data": {
            "text/plain": [
              "<IPython.core.display.HTML object>"
            ],
            "text/html": [
              "\n",
              "    <div>\n",
              "      \n",
              "      <progress value='37' max='5' style='width:300px; height:20px; vertical-align: middle;'></progress>\n",
              "      [5/5 00:09]\n",
              "    </div>\n",
              "    "
            ]
          },
          "metadata": {}
        },
        {
          "output_type": "stream",
          "name": "stdout",
          "text": [
            "Evaluation results: {'eval_loss': 0.5690488815307617, 'eval_accuracy': 0.7746478873239436, 'eval_precision': 0.75, 'eval_recall': 0.16666666666666666, 'eval_f1': 0.2727272727272727, 'eval_runtime': 1.0246, 'eval_samples_per_second': 69.293, 'eval_steps_per_second': 4.88, 'epoch': 2.0}\n",
            "Train results: {'eval_loss': 0.29959654808044434, 'eval_accuracy': 0.8853118712273642, 'eval_precision': 0.9230769230769231, 'eval_recall': 0.5357142857142857, 'eval_f1': 0.6779661016949152, 'eval_runtime': 8.5636, 'eval_samples_per_second': 58.036, 'eval_steps_per_second': 3.737, 'epoch': 2.0}\n"
          ]
        }
      ]
    },
    {
      "cell_type": "code",
      "source": [
        "from transformers import pipeline, AutoConfig, AutoTokenizer, AutoModelForSequenceClassification\n",
        "\n",
        "text = \"Čia dėl, pastebėjimas dėl pilietybės, Izraelyje taip pat galima turėti dvigubą pilietybę, tačiau, kaip matote, Izraely dėl to problemų neiškyla ir, iš tikrųjų, turi vieną iš stipriausių... \"\n",
        "\n",
        "model = AutoModelForSequenceClassification.from_pretrained(\"/content/my_awesome_model\")\n",
        "\n",
        "classifier = pipeline(\"sentiment-analysis\", model=model, tokenizer=tokenizer)\n",
        "classifier(text)"
      ],
      "metadata": {
        "id": "sr9bJxHSa8tf",
        "colab": {
          "base_uri": "https://localhost:8080/"
        },
        "outputId": "ecb828ea-96ae-4cf8-d8f0-281d49f85ea9"
      },
      "execution_count": null,
      "outputs": [
        {
          "output_type": "stream",
          "name": "stderr",
          "text": [
            "Hardware accelerator e.g. GPU is available in the environment, but no `device` argument is passed to the `Pipeline` object. Model will be on CPU.\n"
          ]
        },
        {
          "output_type": "execute_result",
          "data": {
            "text/plain": [
              "[{'label': 'LABEL_0', 'score': 0.84489905834198}]"
            ]
          },
          "metadata": {},
          "execution_count": 44
        }
      ]
    },
    {
      "cell_type": "markdown",
      "source": [
        "#Eksperimentas 3"
      ],
      "metadata": {
        "id": "qrMgQPBTTGnt"
      }
    },
    {
      "cell_type": "code",
      "source": [
        "from transformers import AutoModelForQuestionAnswering, AutoTokenizer, TrainingArguments, Trainer\n",
        "\n",
        "model3 = AutoModelForQuestionAnswering.from_pretrained(\"bert-base-multilingual-uncased\")\n",
        "tokenizer3 = AutoTokenizer.from_pretrained(\"bert-base-multilingual-uncased\")"
      ],
      "metadata": {
        "id": "6k6XMdLSTKWZ"
      },
      "execution_count": null,
      "outputs": []
    },
    {
      "cell_type": "code",
      "source": [
        "sheet3['text_length'] = sheet3['paragraph'].apply(len) # remove these after bert model is changed, check the other mode's max length\n",
        "sheet3 = sheet3[sheet3['text_length'] <= 512]"
      ],
      "metadata": {
        "id": "cZZewAt-I5Qy"
      },
      "execution_count": 5,
      "outputs": []
    },
    {
      "cell_type": "code",
      "source": [
        "from datasets import Dataset\n",
        "\n",
        "sheet3['question'] = \"Kur šioje pastraipoje yra Įvaizdžiui Grėsmingas Šnekos Aktas?\"\n",
        "data3 = sheet3.sample(frac=1).reset_index(drop=True)\n",
        "\n",
        "# training (70%), validation (10%), and test (20%)\n",
        "train3, temp3 = train_test_split(data3, test_size=0.3, random_state=42)\n",
        "val3, test3 = train_test_split(temp3, test_size=(2/3), random_state=42)\n",
        "\n",
        "train3 = train3.reset_index(drop=True)\n",
        "val3 = val3.reset_index(drop=True)\n",
        "test3 = test3.reset_index(drop=True)\n",
        "\n",
        "train_dataset3 = Dataset.from_pandas(train3)\n",
        "val_dataset3 = Dataset.from_pandas(val3)\n",
        "test_dataset3 = Dataset.from_pandas(test3)"
      ],
      "metadata": {
        "id": "FZHg54I4CWqE"
      },
      "execution_count": 23,
      "outputs": []
    },
    {
      "cell_type": "code",
      "source": [
        "train_dataset3[0]"
      ],
      "metadata": {
        "colab": {
          "base_uri": "https://localhost:8080/"
        },
        "id": "ShenA318C51w",
        "outputId": "146e5807-3389-447b-e6aa-ad3dc199ecd9"
      },
      "execution_count": 24,
      "outputs": [
        {
          "output_type": "execute_result",
          "data": {
            "text/plain": [
              "{'paragraph': 'viešumas ir atvirumas yra  svarbiausias instrumentas kovojant su korupcija. Visa informacija apie viešuosius pirkimus, už kiek pirko, iš ko pirko, turi būti prieinama visuomenei. Maža to, visuomenė galėtų pareikalauti, naudojantis internetu, atlikti nepriklausmą tyrimą vieno ar kito pirkimo, kurį atliktų valstybės kontrolė ir būtų paviešinta ataskaita viešai. Taigi žmonės gali ir sugebėtų kontroliuoti daugelį procesų. O ne sistema būtų kalta.',\n",
              " 'start_index': 0,\n",
              " 'end_index': 0,\n",
              " 'text_length': 446,\n",
              " 'question': 'Kur šioje pastraipoje yra Įvaizdžiui Grėsmingas Šnekos Aktas?'}"
            ]
          },
          "metadata": {},
          "execution_count": 24
        }
      ]
    },
    {
      "cell_type": "code",
      "source": [
        "def preprocess_function(examples):\n",
        "    inputs = tokenizer3(\n",
        "        examples[\"question\"],\n",
        "        examples[\"paragraph\"],\n",
        "        return_offsets_mapping=True,\n",
        "        padding=\"max_length\",\n",
        "        truncation=True,\n",
        "        max_length=512, # change max length after model change\n",
        "    )\n",
        "\n",
        "    offset_mapping = inputs.pop(\"offset_mapping\")\n",
        "    start_positions = []\n",
        "    end_positions = []\n",
        "\n",
        "    for i, offset in enumerate(offset_mapping):\n",
        "        start_char = examples[\"start_index\"][i]\n",
        "        end_char = examples[\"end_index\"][i]\n",
        "        sequence_ids = inputs.sequence_ids(i)\n",
        "\n",
        "        idx = 0\n",
        "        while sequence_ids[idx] != 1: # 0 for the question and 1 for the context\n",
        "            idx += 1\n",
        "        context_start = idx\n",
        "        while sequence_ids[idx] == 1:\n",
        "            idx += 1\n",
        "        context_end = idx - 1\n",
        "\n",
        "        # If the answer is not fully inside the context, label it (0, 0)\n",
        "        if offset[context_start][0] > end_char or offset[context_end][1] < start_char:\n",
        "            start_positions.append(0)\n",
        "            end_positions.append(0)\n",
        "        else:\n",
        "            # Otherwise it's the start and end token positions\n",
        "            idx = context_start\n",
        "            while idx <= context_end and offset[idx][0] <= start_char:\n",
        "                idx += 1\n",
        "            start_positions.append(idx - 1)\n",
        "\n",
        "            idx = context_end\n",
        "            while idx >= context_start and offset[idx][1] >= end_char:\n",
        "                idx -= 1\n",
        "            end_positions.append(idx + 1)\n",
        "\n",
        "    inputs[\"start_positions\"] = start_positions\n",
        "    inputs[\"end_positions\"] = end_positions\n",
        "    return inputs"
      ],
      "metadata": {
        "id": "QuAEtFPbGXIh"
      },
      "execution_count": 47,
      "outputs": []
    },
    {
      "cell_type": "code",
      "source": [
        "tokenized_train_data3 = train_dataset3.map(preprocess_function, batched=True)\n",
        "tokenized_val_data3 = val_dataset3.map(preprocess_function, batched=True)"
      ],
      "metadata": {
        "colab": {
          "base_uri": "https://localhost:8080/",
          "height": 81,
          "referenced_widgets": [
            "3df7f94e0ae44bdabc883e283043e7e6",
            "e8fa9005b9204cd7a98671adc77afb29",
            "94f572c96d614dcda532ad7e72cacc5e",
            "93f50651280b4763a5a61604435579d9",
            "702c1d65ce9946e7bf18949b7501c260",
            "790f63de946a410b80ae2205d2ddf95a",
            "50960d2c437f461397dad7a74f69e25e",
            "7c5387557bd244d3b19f18d487893d54",
            "c9b65f50df264fc1b45f5a6ed122dd70",
            "2e41775035284f7599fd6c450a653db8",
            "1f8e7b0e7f914db2be7d1f2ed4ab4e22",
            "67de57af088f4ef2a600c6731eddd15f",
            "8a0b35323cab4ba682507c63936a002c",
            "6072dd354ace49f58033abd9ec092832",
            "c52bec9a9f6746389624686ac939f637",
            "ae058c8876a64a6dbb89a7defd8ecfd7",
            "01388f64de0741da8c82302cc127c236",
            "0bf22665a14a40549dd36a435ca0a78e",
            "d22041c692d64a30b60f5843a8fe7007",
            "58e98aa6c6d84238928f0fc698e4e8a2",
            "7d96a1e86f3f4a9c936c38a71096be2f",
            "4cdaff54e6634f678a929a783eb8370b"
          ]
        },
        "id": "C-VIfR10GYOP",
        "outputId": "0539efdb-2121-4495-d556-19ba988ecf29"
      },
      "execution_count": 48,
      "outputs": [
        {
          "output_type": "display_data",
          "data": {
            "text/plain": [
              "Map:   0%|          | 0/378 [00:00<?, ? examples/s]"
            ],
            "application/vnd.jupyter.widget-view+json": {
              "version_major": 2,
              "version_minor": 0,
              "model_id": "3df7f94e0ae44bdabc883e283043e7e6"
            }
          },
          "metadata": {}
        },
        {
          "output_type": "display_data",
          "data": {
            "text/plain": [
              "Map:   0%|          | 0/54 [00:00<?, ? examples/s]"
            ],
            "application/vnd.jupyter.widget-view+json": {
              "version_major": 2,
              "version_minor": 0,
              "model_id": "67de57af088f4ef2a600c6731eddd15f"
            }
          },
          "metadata": {}
        }
      ]
    },
    {
      "cell_type": "code",
      "source": [
        "from transformers import DefaultDataCollator, TrainingArguments, Trainer\n",
        "\n",
        "data_collator = DefaultDataCollator()"
      ],
      "metadata": {
        "id": "3kyzUAmAF2Lk"
      },
      "execution_count": 28,
      "outputs": []
    },
    {
      "cell_type": "code",
      "source": [
        "import os\n",
        "os.environ[\"WANDB_MODE\"] = \"disabled\"\n",
        "\n",
        "training_args = TrainingArguments(\n",
        "    output_dir=\"my_awesome_model3\",\n",
        "    eval_strategy=\"epoch\",\n",
        "    learning_rate=2e-5,\n",
        "    per_device_train_batch_size=16,\n",
        "    per_device_eval_batch_size=16,\n",
        "    num_train_epochs=25,\n",
        "    weight_decay=0.01,\n",
        "    push_to_hub=False,\n",
        ")\n",
        "\n",
        "trainer = Trainer(\n",
        "    model=model3,\n",
        "    args=training_args,\n",
        "    train_dataset=tokenized_train_data3,\n",
        "    eval_dataset=tokenized_val_data3,\n",
        "    processing_class=tokenizer3,\n",
        "    data_collator=data_collator,\n",
        "    # compute_metrics=compute_metrics\n",
        ")\n",
        "\n",
        "trainer.train()"
      ],
      "metadata": {
        "colab": {
          "base_uri": "https://localhost:8080/",
          "height": 267
        },
        "id": "E1M4lgXvF40m",
        "outputId": "d35c77ae-aa4f-41aa-e6d4-dfee237ceada"
      },
      "execution_count": 49,
      "outputs": [
        {
          "output_type": "display_data",
          "data": {
            "text/plain": [
              "<IPython.core.display.HTML object>"
            ],
            "text/html": [
              "\n",
              "    <div>\n",
              "      \n",
              "      <progress value='120' max='120' style='width:300px; height:20px; vertical-align: middle;'></progress>\n",
              "      [120/120 03:34, Epoch 5/5]\n",
              "    </div>\n",
              "    <table border=\"1\" class=\"dataframe\">\n",
              "  <thead>\n",
              " <tr style=\"text-align: left;\">\n",
              "      <th>Epoch</th>\n",
              "      <th>Training Loss</th>\n",
              "      <th>Validation Loss</th>\n",
              "    </tr>\n",
              "  </thead>\n",
              "  <tbody>\n",
              "    <tr>\n",
              "      <td>1</td>\n",
              "      <td>No log</td>\n",
              "      <td>1.882872</td>\n",
              "    </tr>\n",
              "    <tr>\n",
              "      <td>2</td>\n",
              "      <td>No log</td>\n",
              "      <td>1.953387</td>\n",
              "    </tr>\n",
              "    <tr>\n",
              "      <td>3</td>\n",
              "      <td>No log</td>\n",
              "      <td>1.914182</td>\n",
              "    </tr>\n",
              "    <tr>\n",
              "      <td>4</td>\n",
              "      <td>No log</td>\n",
              "      <td>2.025444</td>\n",
              "    </tr>\n",
              "    <tr>\n",
              "      <td>5</td>\n",
              "      <td>No log</td>\n",
              "      <td>2.044189</td>\n",
              "    </tr>\n",
              "  </tbody>\n",
              "</table><p>"
            ]
          },
          "metadata": {}
        },
        {
          "output_type": "execute_result",
          "data": {
            "text/plain": [
              "TrainOutput(global_step=120, training_loss=0.06093407869338989, metrics={'train_runtime': 215.9311, 'train_samples_per_second': 8.753, 'train_steps_per_second': 0.556, 'total_flos': 493850870231040.0, 'train_loss': 0.06093407869338989, 'epoch': 5.0})"
            ]
          },
          "metadata": {},
          "execution_count": 49
        }
      ]
    },
    {
      "cell_type": "code",
      "source": [
        "trainer.save_model(\"my_awesome_model3\")"
      ],
      "metadata": {
        "id": "wi8DFVRaPjRv"
      },
      "execution_count": 50,
      "outputs": []
    },
    {
      "cell_type": "code",
      "source": [
        "from transformers import pipeline\n",
        "\n",
        "question_answerer = pipeline(\"question-answering\", model=\"my_awesome_model3\")"
      ],
      "metadata": {
        "id": "R2fANsTEP9u1"
      },
      "execution_count": null,
      "outputs": []
    },
    {
      "cell_type": "code",
      "source": [
        "question_answerer(question=\"Kur šioje pastraipoje yra Įvaizdžiui Grėsmingas Šnekos Aktas?\", context=test_dataset3[11]['paragraph'])"
      ],
      "metadata": {
        "colab": {
          "base_uri": "https://localhost:8080/"
        },
        "id": "sQuZ5_GLhrZE",
        "outputId": "d453606f-8eae-4633-b0e9-2a2c40cfa2b1"
      },
      "execution_count": 65,
      "outputs": [
        {
          "output_type": "execute_result",
          "data": {
            "text/plain": [
              "{'score': 0.3976801037788391,\n",
              " 'start': 21,\n",
              " 'end': 55,\n",
              " 'answer': 'Aš net neabejoju, kad jis atsakys!'}"
            ]
          },
          "metadata": {},
          "execution_count": 65
        }
      ]
    }
  ],
  "metadata": {
    "colab": {
      "provenance": [],
      "gpuType": "T4",
      "collapsed_sections": [
        "yb5pP2sfZ5xP"
      ],
      "include_colab_link": true
    },
    "kernelspec": {
      "display_name": "Python 3",
      "name": "python3"
    },
    "language_info": {
      "name": "python"
    },
    "widgets": {
      "application/vnd.jupyter.widget-state+json": {
        "d4516222821e41679af5f6bba2ced5c1": {
          "model_module": "@jupyter-widgets/controls",
          "model_name": "HBoxModel",
          "model_module_version": "1.5.0",
          "state": {
            "_dom_classes": [],
            "_model_module": "@jupyter-widgets/controls",
            "_model_module_version": "1.5.0",
            "_model_name": "HBoxModel",
            "_view_count": null,
            "_view_module": "@jupyter-widgets/controls",
            "_view_module_version": "1.5.0",
            "_view_name": "HBoxView",
            "box_style": "",
            "children": [
              "IPY_MODEL_cd5ff681dd244dbc89245956f38d021d",
              "IPY_MODEL_3ef13749646b4a768180d5b490069708",
              "IPY_MODEL_863a3cfb3bd9468c867db5a255744c9a"
            ],
            "layout": "IPY_MODEL_4cd744b1710b47f187a7e19bcaac53bf"
          }
        },
        "cd5ff681dd244dbc89245956f38d021d": {
          "model_module": "@jupyter-widgets/controls",
          "model_name": "HTMLModel",
          "model_module_version": "1.5.0",
          "state": {
            "_dom_classes": [],
            "_model_module": "@jupyter-widgets/controls",
            "_model_module_version": "1.5.0",
            "_model_name": "HTMLModel",
            "_view_count": null,
            "_view_module": "@jupyter-widgets/controls",
            "_view_module_version": "1.5.0",
            "_view_name": "HTMLView",
            "description": "",
            "description_tooltip": null,
            "layout": "IPY_MODEL_8b9097ca8fbc4e8092a9b1b8da4983ac",
            "placeholder": "​",
            "style": "IPY_MODEL_19ace1eed34748debfb7151272fc7e0b",
            "value": "Map: 100%"
          }
        },
        "3ef13749646b4a768180d5b490069708": {
          "model_module": "@jupyter-widgets/controls",
          "model_name": "FloatProgressModel",
          "model_module_version": "1.5.0",
          "state": {
            "_dom_classes": [],
            "_model_module": "@jupyter-widgets/controls",
            "_model_module_version": "1.5.0",
            "_model_name": "FloatProgressModel",
            "_view_count": null,
            "_view_module": "@jupyter-widgets/controls",
            "_view_module_version": "1.5.0",
            "_view_name": "ProgressView",
            "bar_style": "success",
            "description": "",
            "description_tooltip": null,
            "layout": "IPY_MODEL_acde0481964f4e4c9bc2af66537c6c65",
            "max": 497,
            "min": 0,
            "orientation": "horizontal",
            "style": "IPY_MODEL_6912f528c891402daf83ee6bffd801b4",
            "value": 497
          }
        },
        "863a3cfb3bd9468c867db5a255744c9a": {
          "model_module": "@jupyter-widgets/controls",
          "model_name": "HTMLModel",
          "model_module_version": "1.5.0",
          "state": {
            "_dom_classes": [],
            "_model_module": "@jupyter-widgets/controls",
            "_model_module_version": "1.5.0",
            "_model_name": "HTMLModel",
            "_view_count": null,
            "_view_module": "@jupyter-widgets/controls",
            "_view_module_version": "1.5.0",
            "_view_name": "HTMLView",
            "description": "",
            "description_tooltip": null,
            "layout": "IPY_MODEL_23261cb5a9bc41dd9c7898217da0650b",
            "placeholder": "​",
            "style": "IPY_MODEL_28e166ac810245a6bb81ee6b63f04434",
            "value": " 497/497 [00:00&lt;00:00, 995.14 examples/s]"
          }
        },
        "4cd744b1710b47f187a7e19bcaac53bf": {
          "model_module": "@jupyter-widgets/base",
          "model_name": "LayoutModel",
          "model_module_version": "1.2.0",
          "state": {
            "_model_module": "@jupyter-widgets/base",
            "_model_module_version": "1.2.0",
            "_model_name": "LayoutModel",
            "_view_count": null,
            "_view_module": "@jupyter-widgets/base",
            "_view_module_version": "1.2.0",
            "_view_name": "LayoutView",
            "align_content": null,
            "align_items": null,
            "align_self": null,
            "border": null,
            "bottom": null,
            "display": null,
            "flex": null,
            "flex_flow": null,
            "grid_area": null,
            "grid_auto_columns": null,
            "grid_auto_flow": null,
            "grid_auto_rows": null,
            "grid_column": null,
            "grid_gap": null,
            "grid_row": null,
            "grid_template_areas": null,
            "grid_template_columns": null,
            "grid_template_rows": null,
            "height": null,
            "justify_content": null,
            "justify_items": null,
            "left": null,
            "margin": null,
            "max_height": null,
            "max_width": null,
            "min_height": null,
            "min_width": null,
            "object_fit": null,
            "object_position": null,
            "order": null,
            "overflow": null,
            "overflow_x": null,
            "overflow_y": null,
            "padding": null,
            "right": null,
            "top": null,
            "visibility": null,
            "width": null
          }
        },
        "8b9097ca8fbc4e8092a9b1b8da4983ac": {
          "model_module": "@jupyter-widgets/base",
          "model_name": "LayoutModel",
          "model_module_version": "1.2.0",
          "state": {
            "_model_module": "@jupyter-widgets/base",
            "_model_module_version": "1.2.0",
            "_model_name": "LayoutModel",
            "_view_count": null,
            "_view_module": "@jupyter-widgets/base",
            "_view_module_version": "1.2.0",
            "_view_name": "LayoutView",
            "align_content": null,
            "align_items": null,
            "align_self": null,
            "border": null,
            "bottom": null,
            "display": null,
            "flex": null,
            "flex_flow": null,
            "grid_area": null,
            "grid_auto_columns": null,
            "grid_auto_flow": null,
            "grid_auto_rows": null,
            "grid_column": null,
            "grid_gap": null,
            "grid_row": null,
            "grid_template_areas": null,
            "grid_template_columns": null,
            "grid_template_rows": null,
            "height": null,
            "justify_content": null,
            "justify_items": null,
            "left": null,
            "margin": null,
            "max_height": null,
            "max_width": null,
            "min_height": null,
            "min_width": null,
            "object_fit": null,
            "object_position": null,
            "order": null,
            "overflow": null,
            "overflow_x": null,
            "overflow_y": null,
            "padding": null,
            "right": null,
            "top": null,
            "visibility": null,
            "width": null
          }
        },
        "19ace1eed34748debfb7151272fc7e0b": {
          "model_module": "@jupyter-widgets/controls",
          "model_name": "DescriptionStyleModel",
          "model_module_version": "1.5.0",
          "state": {
            "_model_module": "@jupyter-widgets/controls",
            "_model_module_version": "1.5.0",
            "_model_name": "DescriptionStyleModel",
            "_view_count": null,
            "_view_module": "@jupyter-widgets/base",
            "_view_module_version": "1.2.0",
            "_view_name": "StyleView",
            "description_width": ""
          }
        },
        "acde0481964f4e4c9bc2af66537c6c65": {
          "model_module": "@jupyter-widgets/base",
          "model_name": "LayoutModel",
          "model_module_version": "1.2.0",
          "state": {
            "_model_module": "@jupyter-widgets/base",
            "_model_module_version": "1.2.0",
            "_model_name": "LayoutModel",
            "_view_count": null,
            "_view_module": "@jupyter-widgets/base",
            "_view_module_version": "1.2.0",
            "_view_name": "LayoutView",
            "align_content": null,
            "align_items": null,
            "align_self": null,
            "border": null,
            "bottom": null,
            "display": null,
            "flex": null,
            "flex_flow": null,
            "grid_area": null,
            "grid_auto_columns": null,
            "grid_auto_flow": null,
            "grid_auto_rows": null,
            "grid_column": null,
            "grid_gap": null,
            "grid_row": null,
            "grid_template_areas": null,
            "grid_template_columns": null,
            "grid_template_rows": null,
            "height": null,
            "justify_content": null,
            "justify_items": null,
            "left": null,
            "margin": null,
            "max_height": null,
            "max_width": null,
            "min_height": null,
            "min_width": null,
            "object_fit": null,
            "object_position": null,
            "order": null,
            "overflow": null,
            "overflow_x": null,
            "overflow_y": null,
            "padding": null,
            "right": null,
            "top": null,
            "visibility": null,
            "width": null
          }
        },
        "6912f528c891402daf83ee6bffd801b4": {
          "model_module": "@jupyter-widgets/controls",
          "model_name": "ProgressStyleModel",
          "model_module_version": "1.5.0",
          "state": {
            "_model_module": "@jupyter-widgets/controls",
            "_model_module_version": "1.5.0",
            "_model_name": "ProgressStyleModel",
            "_view_count": null,
            "_view_module": "@jupyter-widgets/base",
            "_view_module_version": "1.2.0",
            "_view_name": "StyleView",
            "bar_color": null,
            "description_width": ""
          }
        },
        "23261cb5a9bc41dd9c7898217da0650b": {
          "model_module": "@jupyter-widgets/base",
          "model_name": "LayoutModel",
          "model_module_version": "1.2.0",
          "state": {
            "_model_module": "@jupyter-widgets/base",
            "_model_module_version": "1.2.0",
            "_model_name": "LayoutModel",
            "_view_count": null,
            "_view_module": "@jupyter-widgets/base",
            "_view_module_version": "1.2.0",
            "_view_name": "LayoutView",
            "align_content": null,
            "align_items": null,
            "align_self": null,
            "border": null,
            "bottom": null,
            "display": null,
            "flex": null,
            "flex_flow": null,
            "grid_area": null,
            "grid_auto_columns": null,
            "grid_auto_flow": null,
            "grid_auto_rows": null,
            "grid_column": null,
            "grid_gap": null,
            "grid_row": null,
            "grid_template_areas": null,
            "grid_template_columns": null,
            "grid_template_rows": null,
            "height": null,
            "justify_content": null,
            "justify_items": null,
            "left": null,
            "margin": null,
            "max_height": null,
            "max_width": null,
            "min_height": null,
            "min_width": null,
            "object_fit": null,
            "object_position": null,
            "order": null,
            "overflow": null,
            "overflow_x": null,
            "overflow_y": null,
            "padding": null,
            "right": null,
            "top": null,
            "visibility": null,
            "width": null
          }
        },
        "28e166ac810245a6bb81ee6b63f04434": {
          "model_module": "@jupyter-widgets/controls",
          "model_name": "DescriptionStyleModel",
          "model_module_version": "1.5.0",
          "state": {
            "_model_module": "@jupyter-widgets/controls",
            "_model_module_version": "1.5.0",
            "_model_name": "DescriptionStyleModel",
            "_view_count": null,
            "_view_module": "@jupyter-widgets/base",
            "_view_module_version": "1.2.0",
            "_view_name": "StyleView",
            "description_width": ""
          }
        },
        "0bc2762b7e7541318a7da1a8d2b64e90": {
          "model_module": "@jupyter-widgets/controls",
          "model_name": "HBoxModel",
          "model_module_version": "1.5.0",
          "state": {
            "_dom_classes": [],
            "_model_module": "@jupyter-widgets/controls",
            "_model_module_version": "1.5.0",
            "_model_name": "HBoxModel",
            "_view_count": null,
            "_view_module": "@jupyter-widgets/controls",
            "_view_module_version": "1.5.0",
            "_view_name": "HBoxView",
            "box_style": "",
            "children": [
              "IPY_MODEL_426b95dadc28472fbfafad53b7c880fa",
              "IPY_MODEL_d57b1e0865654e8e964ec98b8ed19db2",
              "IPY_MODEL_43f7ab37440d489a92f260a9f21ae7fe"
            ],
            "layout": "IPY_MODEL_8fda4ca6917946e2bcef51b87b12af12"
          }
        },
        "426b95dadc28472fbfafad53b7c880fa": {
          "model_module": "@jupyter-widgets/controls",
          "model_name": "HTMLModel",
          "model_module_version": "1.5.0",
          "state": {
            "_dom_classes": [],
            "_model_module": "@jupyter-widgets/controls",
            "_model_module_version": "1.5.0",
            "_model_name": "HTMLModel",
            "_view_count": null,
            "_view_module": "@jupyter-widgets/controls",
            "_view_module_version": "1.5.0",
            "_view_name": "HTMLView",
            "description": "",
            "description_tooltip": null,
            "layout": "IPY_MODEL_2193a9d4b31e412aac4229a5756ffc2c",
            "placeholder": "​",
            "style": "IPY_MODEL_1705c26ab74e49d68be32ef199e76152",
            "value": "Map: 100%"
          }
        },
        "d57b1e0865654e8e964ec98b8ed19db2": {
          "model_module": "@jupyter-widgets/controls",
          "model_name": "FloatProgressModel",
          "model_module_version": "1.5.0",
          "state": {
            "_dom_classes": [],
            "_model_module": "@jupyter-widgets/controls",
            "_model_module_version": "1.5.0",
            "_model_name": "FloatProgressModel",
            "_view_count": null,
            "_view_module": "@jupyter-widgets/controls",
            "_view_module_version": "1.5.0",
            "_view_name": "ProgressView",
            "bar_style": "success",
            "description": "",
            "description_tooltip": null,
            "layout": "IPY_MODEL_ff9cb099eece41e5a85e56edc1cbaabe",
            "max": 71,
            "min": 0,
            "orientation": "horizontal",
            "style": "IPY_MODEL_3bc3431c787c4147ae1e9acf0007ec86",
            "value": 71
          }
        },
        "43f7ab37440d489a92f260a9f21ae7fe": {
          "model_module": "@jupyter-widgets/controls",
          "model_name": "HTMLModel",
          "model_module_version": "1.5.0",
          "state": {
            "_dom_classes": [],
            "_model_module": "@jupyter-widgets/controls",
            "_model_module_version": "1.5.0",
            "_model_name": "HTMLModel",
            "_view_count": null,
            "_view_module": "@jupyter-widgets/controls",
            "_view_module_version": "1.5.0",
            "_view_name": "HTMLView",
            "description": "",
            "description_tooltip": null,
            "layout": "IPY_MODEL_35e572904cae49f487ac751e63efddfa",
            "placeholder": "​",
            "style": "IPY_MODEL_4239d61588064a2a930a3175f9465a2c",
            "value": " 71/71 [00:00&lt;00:00, 940.16 examples/s]"
          }
        },
        "8fda4ca6917946e2bcef51b87b12af12": {
          "model_module": "@jupyter-widgets/base",
          "model_name": "LayoutModel",
          "model_module_version": "1.2.0",
          "state": {
            "_model_module": "@jupyter-widgets/base",
            "_model_module_version": "1.2.0",
            "_model_name": "LayoutModel",
            "_view_count": null,
            "_view_module": "@jupyter-widgets/base",
            "_view_module_version": "1.2.0",
            "_view_name": "LayoutView",
            "align_content": null,
            "align_items": null,
            "align_self": null,
            "border": null,
            "bottom": null,
            "display": null,
            "flex": null,
            "flex_flow": null,
            "grid_area": null,
            "grid_auto_columns": null,
            "grid_auto_flow": null,
            "grid_auto_rows": null,
            "grid_column": null,
            "grid_gap": null,
            "grid_row": null,
            "grid_template_areas": null,
            "grid_template_columns": null,
            "grid_template_rows": null,
            "height": null,
            "justify_content": null,
            "justify_items": null,
            "left": null,
            "margin": null,
            "max_height": null,
            "max_width": null,
            "min_height": null,
            "min_width": null,
            "object_fit": null,
            "object_position": null,
            "order": null,
            "overflow": null,
            "overflow_x": null,
            "overflow_y": null,
            "padding": null,
            "right": null,
            "top": null,
            "visibility": null,
            "width": null
          }
        },
        "2193a9d4b31e412aac4229a5756ffc2c": {
          "model_module": "@jupyter-widgets/base",
          "model_name": "LayoutModel",
          "model_module_version": "1.2.0",
          "state": {
            "_model_module": "@jupyter-widgets/base",
            "_model_module_version": "1.2.0",
            "_model_name": "LayoutModel",
            "_view_count": null,
            "_view_module": "@jupyter-widgets/base",
            "_view_module_version": "1.2.0",
            "_view_name": "LayoutView",
            "align_content": null,
            "align_items": null,
            "align_self": null,
            "border": null,
            "bottom": null,
            "display": null,
            "flex": null,
            "flex_flow": null,
            "grid_area": null,
            "grid_auto_columns": null,
            "grid_auto_flow": null,
            "grid_auto_rows": null,
            "grid_column": null,
            "grid_gap": null,
            "grid_row": null,
            "grid_template_areas": null,
            "grid_template_columns": null,
            "grid_template_rows": null,
            "height": null,
            "justify_content": null,
            "justify_items": null,
            "left": null,
            "margin": null,
            "max_height": null,
            "max_width": null,
            "min_height": null,
            "min_width": null,
            "object_fit": null,
            "object_position": null,
            "order": null,
            "overflow": null,
            "overflow_x": null,
            "overflow_y": null,
            "padding": null,
            "right": null,
            "top": null,
            "visibility": null,
            "width": null
          }
        },
        "1705c26ab74e49d68be32ef199e76152": {
          "model_module": "@jupyter-widgets/controls",
          "model_name": "DescriptionStyleModel",
          "model_module_version": "1.5.0",
          "state": {
            "_model_module": "@jupyter-widgets/controls",
            "_model_module_version": "1.5.0",
            "_model_name": "DescriptionStyleModel",
            "_view_count": null,
            "_view_module": "@jupyter-widgets/base",
            "_view_module_version": "1.2.0",
            "_view_name": "StyleView",
            "description_width": ""
          }
        },
        "ff9cb099eece41e5a85e56edc1cbaabe": {
          "model_module": "@jupyter-widgets/base",
          "model_name": "LayoutModel",
          "model_module_version": "1.2.0",
          "state": {
            "_model_module": "@jupyter-widgets/base",
            "_model_module_version": "1.2.0",
            "_model_name": "LayoutModel",
            "_view_count": null,
            "_view_module": "@jupyter-widgets/base",
            "_view_module_version": "1.2.0",
            "_view_name": "LayoutView",
            "align_content": null,
            "align_items": null,
            "align_self": null,
            "border": null,
            "bottom": null,
            "display": null,
            "flex": null,
            "flex_flow": null,
            "grid_area": null,
            "grid_auto_columns": null,
            "grid_auto_flow": null,
            "grid_auto_rows": null,
            "grid_column": null,
            "grid_gap": null,
            "grid_row": null,
            "grid_template_areas": null,
            "grid_template_columns": null,
            "grid_template_rows": null,
            "height": null,
            "justify_content": null,
            "justify_items": null,
            "left": null,
            "margin": null,
            "max_height": null,
            "max_width": null,
            "min_height": null,
            "min_width": null,
            "object_fit": null,
            "object_position": null,
            "order": null,
            "overflow": null,
            "overflow_x": null,
            "overflow_y": null,
            "padding": null,
            "right": null,
            "top": null,
            "visibility": null,
            "width": null
          }
        },
        "3bc3431c787c4147ae1e9acf0007ec86": {
          "model_module": "@jupyter-widgets/controls",
          "model_name": "ProgressStyleModel",
          "model_module_version": "1.5.0",
          "state": {
            "_model_module": "@jupyter-widgets/controls",
            "_model_module_version": "1.5.0",
            "_model_name": "ProgressStyleModel",
            "_view_count": null,
            "_view_module": "@jupyter-widgets/base",
            "_view_module_version": "1.2.0",
            "_view_name": "StyleView",
            "bar_color": null,
            "description_width": ""
          }
        },
        "35e572904cae49f487ac751e63efddfa": {
          "model_module": "@jupyter-widgets/base",
          "model_name": "LayoutModel",
          "model_module_version": "1.2.0",
          "state": {
            "_model_module": "@jupyter-widgets/base",
            "_model_module_version": "1.2.0",
            "_model_name": "LayoutModel",
            "_view_count": null,
            "_view_module": "@jupyter-widgets/base",
            "_view_module_version": "1.2.0",
            "_view_name": "LayoutView",
            "align_content": null,
            "align_items": null,
            "align_self": null,
            "border": null,
            "bottom": null,
            "display": null,
            "flex": null,
            "flex_flow": null,
            "grid_area": null,
            "grid_auto_columns": null,
            "grid_auto_flow": null,
            "grid_auto_rows": null,
            "grid_column": null,
            "grid_gap": null,
            "grid_row": null,
            "grid_template_areas": null,
            "grid_template_columns": null,
            "grid_template_rows": null,
            "height": null,
            "justify_content": null,
            "justify_items": null,
            "left": null,
            "margin": null,
            "max_height": null,
            "max_width": null,
            "min_height": null,
            "min_width": null,
            "object_fit": null,
            "object_position": null,
            "order": null,
            "overflow": null,
            "overflow_x": null,
            "overflow_y": null,
            "padding": null,
            "right": null,
            "top": null,
            "visibility": null,
            "width": null
          }
        },
        "4239d61588064a2a930a3175f9465a2c": {
          "model_module": "@jupyter-widgets/controls",
          "model_name": "DescriptionStyleModel",
          "model_module_version": "1.5.0",
          "state": {
            "_model_module": "@jupyter-widgets/controls",
            "_model_module_version": "1.5.0",
            "_model_name": "DescriptionStyleModel",
            "_view_count": null,
            "_view_module": "@jupyter-widgets/base",
            "_view_module_version": "1.2.0",
            "_view_name": "StyleView",
            "description_width": ""
          }
        },
        "3df7f94e0ae44bdabc883e283043e7e6": {
          "model_module": "@jupyter-widgets/controls",
          "model_name": "HBoxModel",
          "model_module_version": "1.5.0",
          "state": {
            "_dom_classes": [],
            "_model_module": "@jupyter-widgets/controls",
            "_model_module_version": "1.5.0",
            "_model_name": "HBoxModel",
            "_view_count": null,
            "_view_module": "@jupyter-widgets/controls",
            "_view_module_version": "1.5.0",
            "_view_name": "HBoxView",
            "box_style": "",
            "children": [
              "IPY_MODEL_e8fa9005b9204cd7a98671adc77afb29",
              "IPY_MODEL_94f572c96d614dcda532ad7e72cacc5e",
              "IPY_MODEL_93f50651280b4763a5a61604435579d9"
            ],
            "layout": "IPY_MODEL_702c1d65ce9946e7bf18949b7501c260"
          }
        },
        "e8fa9005b9204cd7a98671adc77afb29": {
          "model_module": "@jupyter-widgets/controls",
          "model_name": "HTMLModel",
          "model_module_version": "1.5.0",
          "state": {
            "_dom_classes": [],
            "_model_module": "@jupyter-widgets/controls",
            "_model_module_version": "1.5.0",
            "_model_name": "HTMLModel",
            "_view_count": null,
            "_view_module": "@jupyter-widgets/controls",
            "_view_module_version": "1.5.0",
            "_view_name": "HTMLView",
            "description": "",
            "description_tooltip": null,
            "layout": "IPY_MODEL_790f63de946a410b80ae2205d2ddf95a",
            "placeholder": "​",
            "style": "IPY_MODEL_50960d2c437f461397dad7a74f69e25e",
            "value": "Map: 100%"
          }
        },
        "94f572c96d614dcda532ad7e72cacc5e": {
          "model_module": "@jupyter-widgets/controls",
          "model_name": "FloatProgressModel",
          "model_module_version": "1.5.0",
          "state": {
            "_dom_classes": [],
            "_model_module": "@jupyter-widgets/controls",
            "_model_module_version": "1.5.0",
            "_model_name": "FloatProgressModel",
            "_view_count": null,
            "_view_module": "@jupyter-widgets/controls",
            "_view_module_version": "1.5.0",
            "_view_name": "ProgressView",
            "bar_style": "success",
            "description": "",
            "description_tooltip": null,
            "layout": "IPY_MODEL_7c5387557bd244d3b19f18d487893d54",
            "max": 378,
            "min": 0,
            "orientation": "horizontal",
            "style": "IPY_MODEL_c9b65f50df264fc1b45f5a6ed122dd70",
            "value": 378
          }
        },
        "93f50651280b4763a5a61604435579d9": {
          "model_module": "@jupyter-widgets/controls",
          "model_name": "HTMLModel",
          "model_module_version": "1.5.0",
          "state": {
            "_dom_classes": [],
            "_model_module": "@jupyter-widgets/controls",
            "_model_module_version": "1.5.0",
            "_model_name": "HTMLModel",
            "_view_count": null,
            "_view_module": "@jupyter-widgets/controls",
            "_view_module_version": "1.5.0",
            "_view_name": "HTMLView",
            "description": "",
            "description_tooltip": null,
            "layout": "IPY_MODEL_2e41775035284f7599fd6c450a653db8",
            "placeholder": "​",
            "style": "IPY_MODEL_1f8e7b0e7f914db2be7d1f2ed4ab4e22",
            "value": " 378/378 [00:00&lt;00:00, 395.72 examples/s]"
          }
        },
        "702c1d65ce9946e7bf18949b7501c260": {
          "model_module": "@jupyter-widgets/base",
          "model_name": "LayoutModel",
          "model_module_version": "1.2.0",
          "state": {
            "_model_module": "@jupyter-widgets/base",
            "_model_module_version": "1.2.0",
            "_model_name": "LayoutModel",
            "_view_count": null,
            "_view_module": "@jupyter-widgets/base",
            "_view_module_version": "1.2.0",
            "_view_name": "LayoutView",
            "align_content": null,
            "align_items": null,
            "align_self": null,
            "border": null,
            "bottom": null,
            "display": null,
            "flex": null,
            "flex_flow": null,
            "grid_area": null,
            "grid_auto_columns": null,
            "grid_auto_flow": null,
            "grid_auto_rows": null,
            "grid_column": null,
            "grid_gap": null,
            "grid_row": null,
            "grid_template_areas": null,
            "grid_template_columns": null,
            "grid_template_rows": null,
            "height": null,
            "justify_content": null,
            "justify_items": null,
            "left": null,
            "margin": null,
            "max_height": null,
            "max_width": null,
            "min_height": null,
            "min_width": null,
            "object_fit": null,
            "object_position": null,
            "order": null,
            "overflow": null,
            "overflow_x": null,
            "overflow_y": null,
            "padding": null,
            "right": null,
            "top": null,
            "visibility": null,
            "width": null
          }
        },
        "790f63de946a410b80ae2205d2ddf95a": {
          "model_module": "@jupyter-widgets/base",
          "model_name": "LayoutModel",
          "model_module_version": "1.2.0",
          "state": {
            "_model_module": "@jupyter-widgets/base",
            "_model_module_version": "1.2.0",
            "_model_name": "LayoutModel",
            "_view_count": null,
            "_view_module": "@jupyter-widgets/base",
            "_view_module_version": "1.2.0",
            "_view_name": "LayoutView",
            "align_content": null,
            "align_items": null,
            "align_self": null,
            "border": null,
            "bottom": null,
            "display": null,
            "flex": null,
            "flex_flow": null,
            "grid_area": null,
            "grid_auto_columns": null,
            "grid_auto_flow": null,
            "grid_auto_rows": null,
            "grid_column": null,
            "grid_gap": null,
            "grid_row": null,
            "grid_template_areas": null,
            "grid_template_columns": null,
            "grid_template_rows": null,
            "height": null,
            "justify_content": null,
            "justify_items": null,
            "left": null,
            "margin": null,
            "max_height": null,
            "max_width": null,
            "min_height": null,
            "min_width": null,
            "object_fit": null,
            "object_position": null,
            "order": null,
            "overflow": null,
            "overflow_x": null,
            "overflow_y": null,
            "padding": null,
            "right": null,
            "top": null,
            "visibility": null,
            "width": null
          }
        },
        "50960d2c437f461397dad7a74f69e25e": {
          "model_module": "@jupyter-widgets/controls",
          "model_name": "DescriptionStyleModel",
          "model_module_version": "1.5.0",
          "state": {
            "_model_module": "@jupyter-widgets/controls",
            "_model_module_version": "1.5.0",
            "_model_name": "DescriptionStyleModel",
            "_view_count": null,
            "_view_module": "@jupyter-widgets/base",
            "_view_module_version": "1.2.0",
            "_view_name": "StyleView",
            "description_width": ""
          }
        },
        "7c5387557bd244d3b19f18d487893d54": {
          "model_module": "@jupyter-widgets/base",
          "model_name": "LayoutModel",
          "model_module_version": "1.2.0",
          "state": {
            "_model_module": "@jupyter-widgets/base",
            "_model_module_version": "1.2.0",
            "_model_name": "LayoutModel",
            "_view_count": null,
            "_view_module": "@jupyter-widgets/base",
            "_view_module_version": "1.2.0",
            "_view_name": "LayoutView",
            "align_content": null,
            "align_items": null,
            "align_self": null,
            "border": null,
            "bottom": null,
            "display": null,
            "flex": null,
            "flex_flow": null,
            "grid_area": null,
            "grid_auto_columns": null,
            "grid_auto_flow": null,
            "grid_auto_rows": null,
            "grid_column": null,
            "grid_gap": null,
            "grid_row": null,
            "grid_template_areas": null,
            "grid_template_columns": null,
            "grid_template_rows": null,
            "height": null,
            "justify_content": null,
            "justify_items": null,
            "left": null,
            "margin": null,
            "max_height": null,
            "max_width": null,
            "min_height": null,
            "min_width": null,
            "object_fit": null,
            "object_position": null,
            "order": null,
            "overflow": null,
            "overflow_x": null,
            "overflow_y": null,
            "padding": null,
            "right": null,
            "top": null,
            "visibility": null,
            "width": null
          }
        },
        "c9b65f50df264fc1b45f5a6ed122dd70": {
          "model_module": "@jupyter-widgets/controls",
          "model_name": "ProgressStyleModel",
          "model_module_version": "1.5.0",
          "state": {
            "_model_module": "@jupyter-widgets/controls",
            "_model_module_version": "1.5.0",
            "_model_name": "ProgressStyleModel",
            "_view_count": null,
            "_view_module": "@jupyter-widgets/base",
            "_view_module_version": "1.2.0",
            "_view_name": "StyleView",
            "bar_color": null,
            "description_width": ""
          }
        },
        "2e41775035284f7599fd6c450a653db8": {
          "model_module": "@jupyter-widgets/base",
          "model_name": "LayoutModel",
          "model_module_version": "1.2.0",
          "state": {
            "_model_module": "@jupyter-widgets/base",
            "_model_module_version": "1.2.0",
            "_model_name": "LayoutModel",
            "_view_count": null,
            "_view_module": "@jupyter-widgets/base",
            "_view_module_version": "1.2.0",
            "_view_name": "LayoutView",
            "align_content": null,
            "align_items": null,
            "align_self": null,
            "border": null,
            "bottom": null,
            "display": null,
            "flex": null,
            "flex_flow": null,
            "grid_area": null,
            "grid_auto_columns": null,
            "grid_auto_flow": null,
            "grid_auto_rows": null,
            "grid_column": null,
            "grid_gap": null,
            "grid_row": null,
            "grid_template_areas": null,
            "grid_template_columns": null,
            "grid_template_rows": null,
            "height": null,
            "justify_content": null,
            "justify_items": null,
            "left": null,
            "margin": null,
            "max_height": null,
            "max_width": null,
            "min_height": null,
            "min_width": null,
            "object_fit": null,
            "object_position": null,
            "order": null,
            "overflow": null,
            "overflow_x": null,
            "overflow_y": null,
            "padding": null,
            "right": null,
            "top": null,
            "visibility": null,
            "width": null
          }
        },
        "1f8e7b0e7f914db2be7d1f2ed4ab4e22": {
          "model_module": "@jupyter-widgets/controls",
          "model_name": "DescriptionStyleModel",
          "model_module_version": "1.5.0",
          "state": {
            "_model_module": "@jupyter-widgets/controls",
            "_model_module_version": "1.5.0",
            "_model_name": "DescriptionStyleModel",
            "_view_count": null,
            "_view_module": "@jupyter-widgets/base",
            "_view_module_version": "1.2.0",
            "_view_name": "StyleView",
            "description_width": ""
          }
        },
        "67de57af088f4ef2a600c6731eddd15f": {
          "model_module": "@jupyter-widgets/controls",
          "model_name": "HBoxModel",
          "model_module_version": "1.5.0",
          "state": {
            "_dom_classes": [],
            "_model_module": "@jupyter-widgets/controls",
            "_model_module_version": "1.5.0",
            "_model_name": "HBoxModel",
            "_view_count": null,
            "_view_module": "@jupyter-widgets/controls",
            "_view_module_version": "1.5.0",
            "_view_name": "HBoxView",
            "box_style": "",
            "children": [
              "IPY_MODEL_8a0b35323cab4ba682507c63936a002c",
              "IPY_MODEL_6072dd354ace49f58033abd9ec092832",
              "IPY_MODEL_c52bec9a9f6746389624686ac939f637"
            ],
            "layout": "IPY_MODEL_ae058c8876a64a6dbb89a7defd8ecfd7"
          }
        },
        "8a0b35323cab4ba682507c63936a002c": {
          "model_module": "@jupyter-widgets/controls",
          "model_name": "HTMLModel",
          "model_module_version": "1.5.0",
          "state": {
            "_dom_classes": [],
            "_model_module": "@jupyter-widgets/controls",
            "_model_module_version": "1.5.0",
            "_model_name": "HTMLModel",
            "_view_count": null,
            "_view_module": "@jupyter-widgets/controls",
            "_view_module_version": "1.5.0",
            "_view_name": "HTMLView",
            "description": "",
            "description_tooltip": null,
            "layout": "IPY_MODEL_01388f64de0741da8c82302cc127c236",
            "placeholder": "​",
            "style": "IPY_MODEL_0bf22665a14a40549dd36a435ca0a78e",
            "value": "Map: 100%"
          }
        },
        "6072dd354ace49f58033abd9ec092832": {
          "model_module": "@jupyter-widgets/controls",
          "model_name": "FloatProgressModel",
          "model_module_version": "1.5.0",
          "state": {
            "_dom_classes": [],
            "_model_module": "@jupyter-widgets/controls",
            "_model_module_version": "1.5.0",
            "_model_name": "FloatProgressModel",
            "_view_count": null,
            "_view_module": "@jupyter-widgets/controls",
            "_view_module_version": "1.5.0",
            "_view_name": "ProgressView",
            "bar_style": "success",
            "description": "",
            "description_tooltip": null,
            "layout": "IPY_MODEL_d22041c692d64a30b60f5843a8fe7007",
            "max": 54,
            "min": 0,
            "orientation": "horizontal",
            "style": "IPY_MODEL_58e98aa6c6d84238928f0fc698e4e8a2",
            "value": 54
          }
        },
        "c52bec9a9f6746389624686ac939f637": {
          "model_module": "@jupyter-widgets/controls",
          "model_name": "HTMLModel",
          "model_module_version": "1.5.0",
          "state": {
            "_dom_classes": [],
            "_model_module": "@jupyter-widgets/controls",
            "_model_module_version": "1.5.0",
            "_model_name": "HTMLModel",
            "_view_count": null,
            "_view_module": "@jupyter-widgets/controls",
            "_view_module_version": "1.5.0",
            "_view_name": "HTMLView",
            "description": "",
            "description_tooltip": null,
            "layout": "IPY_MODEL_7d96a1e86f3f4a9c936c38a71096be2f",
            "placeholder": "​",
            "style": "IPY_MODEL_4cdaff54e6634f678a929a783eb8370b",
            "value": " 54/54 [00:00&lt;00:00, 326.47 examples/s]"
          }
        },
        "ae058c8876a64a6dbb89a7defd8ecfd7": {
          "model_module": "@jupyter-widgets/base",
          "model_name": "LayoutModel",
          "model_module_version": "1.2.0",
          "state": {
            "_model_module": "@jupyter-widgets/base",
            "_model_module_version": "1.2.0",
            "_model_name": "LayoutModel",
            "_view_count": null,
            "_view_module": "@jupyter-widgets/base",
            "_view_module_version": "1.2.0",
            "_view_name": "LayoutView",
            "align_content": null,
            "align_items": null,
            "align_self": null,
            "border": null,
            "bottom": null,
            "display": null,
            "flex": null,
            "flex_flow": null,
            "grid_area": null,
            "grid_auto_columns": null,
            "grid_auto_flow": null,
            "grid_auto_rows": null,
            "grid_column": null,
            "grid_gap": null,
            "grid_row": null,
            "grid_template_areas": null,
            "grid_template_columns": null,
            "grid_template_rows": null,
            "height": null,
            "justify_content": null,
            "justify_items": null,
            "left": null,
            "margin": null,
            "max_height": null,
            "max_width": null,
            "min_height": null,
            "min_width": null,
            "object_fit": null,
            "object_position": null,
            "order": null,
            "overflow": null,
            "overflow_x": null,
            "overflow_y": null,
            "padding": null,
            "right": null,
            "top": null,
            "visibility": null,
            "width": null
          }
        },
        "01388f64de0741da8c82302cc127c236": {
          "model_module": "@jupyter-widgets/base",
          "model_name": "LayoutModel",
          "model_module_version": "1.2.0",
          "state": {
            "_model_module": "@jupyter-widgets/base",
            "_model_module_version": "1.2.0",
            "_model_name": "LayoutModel",
            "_view_count": null,
            "_view_module": "@jupyter-widgets/base",
            "_view_module_version": "1.2.0",
            "_view_name": "LayoutView",
            "align_content": null,
            "align_items": null,
            "align_self": null,
            "border": null,
            "bottom": null,
            "display": null,
            "flex": null,
            "flex_flow": null,
            "grid_area": null,
            "grid_auto_columns": null,
            "grid_auto_flow": null,
            "grid_auto_rows": null,
            "grid_column": null,
            "grid_gap": null,
            "grid_row": null,
            "grid_template_areas": null,
            "grid_template_columns": null,
            "grid_template_rows": null,
            "height": null,
            "justify_content": null,
            "justify_items": null,
            "left": null,
            "margin": null,
            "max_height": null,
            "max_width": null,
            "min_height": null,
            "min_width": null,
            "object_fit": null,
            "object_position": null,
            "order": null,
            "overflow": null,
            "overflow_x": null,
            "overflow_y": null,
            "padding": null,
            "right": null,
            "top": null,
            "visibility": null,
            "width": null
          }
        },
        "0bf22665a14a40549dd36a435ca0a78e": {
          "model_module": "@jupyter-widgets/controls",
          "model_name": "DescriptionStyleModel",
          "model_module_version": "1.5.0",
          "state": {
            "_model_module": "@jupyter-widgets/controls",
            "_model_module_version": "1.5.0",
            "_model_name": "DescriptionStyleModel",
            "_view_count": null,
            "_view_module": "@jupyter-widgets/base",
            "_view_module_version": "1.2.0",
            "_view_name": "StyleView",
            "description_width": ""
          }
        },
        "d22041c692d64a30b60f5843a8fe7007": {
          "model_module": "@jupyter-widgets/base",
          "model_name": "LayoutModel",
          "model_module_version": "1.2.0",
          "state": {
            "_model_module": "@jupyter-widgets/base",
            "_model_module_version": "1.2.0",
            "_model_name": "LayoutModel",
            "_view_count": null,
            "_view_module": "@jupyter-widgets/base",
            "_view_module_version": "1.2.0",
            "_view_name": "LayoutView",
            "align_content": null,
            "align_items": null,
            "align_self": null,
            "border": null,
            "bottom": null,
            "display": null,
            "flex": null,
            "flex_flow": null,
            "grid_area": null,
            "grid_auto_columns": null,
            "grid_auto_flow": null,
            "grid_auto_rows": null,
            "grid_column": null,
            "grid_gap": null,
            "grid_row": null,
            "grid_template_areas": null,
            "grid_template_columns": null,
            "grid_template_rows": null,
            "height": null,
            "justify_content": null,
            "justify_items": null,
            "left": null,
            "margin": null,
            "max_height": null,
            "max_width": null,
            "min_height": null,
            "min_width": null,
            "object_fit": null,
            "object_position": null,
            "order": null,
            "overflow": null,
            "overflow_x": null,
            "overflow_y": null,
            "padding": null,
            "right": null,
            "top": null,
            "visibility": null,
            "width": null
          }
        },
        "58e98aa6c6d84238928f0fc698e4e8a2": {
          "model_module": "@jupyter-widgets/controls",
          "model_name": "ProgressStyleModel",
          "model_module_version": "1.5.0",
          "state": {
            "_model_module": "@jupyter-widgets/controls",
            "_model_module_version": "1.5.0",
            "_model_name": "ProgressStyleModel",
            "_view_count": null,
            "_view_module": "@jupyter-widgets/base",
            "_view_module_version": "1.2.0",
            "_view_name": "StyleView",
            "bar_color": null,
            "description_width": ""
          }
        },
        "7d96a1e86f3f4a9c936c38a71096be2f": {
          "model_module": "@jupyter-widgets/base",
          "model_name": "LayoutModel",
          "model_module_version": "1.2.0",
          "state": {
            "_model_module": "@jupyter-widgets/base",
            "_model_module_version": "1.2.0",
            "_model_name": "LayoutModel",
            "_view_count": null,
            "_view_module": "@jupyter-widgets/base",
            "_view_module_version": "1.2.0",
            "_view_name": "LayoutView",
            "align_content": null,
            "align_items": null,
            "align_self": null,
            "border": null,
            "bottom": null,
            "display": null,
            "flex": null,
            "flex_flow": null,
            "grid_area": null,
            "grid_auto_columns": null,
            "grid_auto_flow": null,
            "grid_auto_rows": null,
            "grid_column": null,
            "grid_gap": null,
            "grid_row": null,
            "grid_template_areas": null,
            "grid_template_columns": null,
            "grid_template_rows": null,
            "height": null,
            "justify_content": null,
            "justify_items": null,
            "left": null,
            "margin": null,
            "max_height": null,
            "max_width": null,
            "min_height": null,
            "min_width": null,
            "object_fit": null,
            "object_position": null,
            "order": null,
            "overflow": null,
            "overflow_x": null,
            "overflow_y": null,
            "padding": null,
            "right": null,
            "top": null,
            "visibility": null,
            "width": null
          }
        },
        "4cdaff54e6634f678a929a783eb8370b": {
          "model_module": "@jupyter-widgets/controls",
          "model_name": "DescriptionStyleModel",
          "model_module_version": "1.5.0",
          "state": {
            "_model_module": "@jupyter-widgets/controls",
            "_model_module_version": "1.5.0",
            "_model_name": "DescriptionStyleModel",
            "_view_count": null,
            "_view_module": "@jupyter-widgets/base",
            "_view_module_version": "1.2.0",
            "_view_name": "StyleView",
            "description_width": ""
          }
        }
      }
    },
    "accelerator": "GPU"
  },
  "nbformat": 4,
  "nbformat_minor": 0
}